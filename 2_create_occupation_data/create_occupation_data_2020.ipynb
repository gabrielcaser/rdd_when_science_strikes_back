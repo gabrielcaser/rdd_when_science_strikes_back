{
 "cells": [
  {
   "cell_type": "markdown",
   "metadata": {},
   "source": [
    "# Program description"
   ]
  },
  {
   "cell_type": "markdown",
   "metadata": {},
   "source": [
    "- This program merges electoral data with worker level data and classifies each candidate as STEM or Non-STEM"
   ]
  },
  {
   "cell_type": "markdown",
   "metadata": {},
   "source": [
    "# TODO"
   ]
  },
  {
   "cell_type": "markdown",
   "metadata": {},
   "source": [
    "# Setting the ambience"
   ]
  },
  {
   "cell_type": "code",
   "execution_count": 812,
   "metadata": {},
   "outputs": [],
   "source": [
    "import pandas as pd\n",
    "import re\n",
    "import pyodbc\n",
    "import time\n",
    "import numpy as np\n",
    "import warnings\n",
    "from unidecode import unidecode\n",
    "warnings.simplefilter(\"ignore\") # disable warnings\n",
    "\n",
    "create_electoral_data_dir = \"C:/Users/GabrielCaserDosPasso/Documents/RAIS/1_create_electoral_data/output/data/\"\n",
    "work_dir                  = \"C:/Users/GabrielCaserDosPasso/Documents/RAIS/2_create_occupation_data/\"\n",
    "output_dir                = \"C:/Users/GabrielCaserDosPasso/Documents/RAIS/2_create_occupation_data/output/\""
   ]
  },
  {
   "cell_type": "markdown",
   "metadata": {},
   "source": [
    "# Oppening dataset with most voted candidates"
   ]
  },
  {
   "cell_type": "code",
   "execution_count": 813,
   "metadata": {},
   "outputs": [],
   "source": [
    "df_candidates = pd.read_csv(create_electoral_data_dir + \"df_candidatos_2020_clean.csv\", sep = \";\", dtype = str)"
   ]
  },
  {
   "cell_type": "markdown",
   "metadata": {},
   "source": [
    "# Deffining STEM professions"
   ]
  },
  {
   "cell_type": "code",
   "execution_count": 815,
   "metadata": {},
   "outputs": [],
   "source": [
    "cbos_stem = \"1223 1236 1237 1413 1425 1426 2011 2012 2021 2030 2031 2032 2033 2034 2111 2112 2122 2123 2124 2131 2132 2133 2134 2140 2142 2143 2144 2145 2146 2147 2148 2149 2211 2212 2221 2222 2341 2342 2343 2344 2513 3001 3003 3011 3012 3111 3112 3115 3121 3122 3123 3161 3171 3172 3180 3181 3182 3183 3185 3186 3187 3201 3212 3253 3951\""
   ]
  },
  {
   "cell_type": "markdown",
   "metadata": {},
   "source": [
    "- source: Machado et all 2021"
   ]
  },
  {
   "cell_type": "markdown",
   "metadata": {},
   "source": [
    "# Deffining years and states of interest"
   ]
  },
  {
   "cell_type": "code",
   "execution_count": 816,
   "metadata": {},
   "outputs": [],
   "source": [
    "anos =[2003]\n",
    "for i in range(2018 - anos[0]): # mudar depois\n",
    "    anos.append(anos[-1] + 1)"
   ]
  },
  {
   "cell_type": "code",
   "execution_count": 817,
   "metadata": {},
   "outputs": [],
   "source": [
    "estados = list(df_candidates.sigla_uf.unique())\n",
    "#estados = [\"SP\"]"
   ]
  },
  {
   "cell_type": "markdown",
   "metadata": {},
   "source": [
    "# Creating list of IDs to search in RAIS"
   ]
  },
  {
   "cell_type": "code",
   "execution_count": 818,
   "metadata": {},
   "outputs": [],
   "source": [
    "cpfs_rdd = tuple(df_candidates.cpf.unique())"
   ]
  },
  {
   "cell_type": "code",
   "execution_count": 819,
   "metadata": {},
   "outputs": [
    {
     "data": {
      "text/plain": [
       "13585"
      ]
     },
     "execution_count": 819,
     "metadata": {},
     "output_type": "execute_result"
    }
   ],
   "source": [
    "len(cpfs_rdd)"
   ]
  },
  {
   "cell_type": "markdown",
   "metadata": {},
   "source": [
    "# Login into RAIS server"
   ]
  },
  {
   "cell_type": "code",
   "execution_count": 820,
   "metadata": {},
   "outputs": [],
   "source": [
    "server = 'sql-sigilo-eastus-prod.71d5dd223a40.database.windows.net'\n",
    "\n",
    "database = 'RAIS'\n",
    "\n",
    "port= '1433'\n",
    "\n",
    "username = 'GabrielCP3'\n",
    "\n",
    "password = '@VN1ai2GG3as4'\n",
    "\n",
    "driver= '{SQL Server}'\n",
    "\n",
    "cnxn = pyodbc.connect('DRIVER='+driver+';SERVER='+server+';PORT='+port+';DATABASE='+database+';UID='+username+';PWD='+ password)\n",
    "\n",
    "cursor = cnxn.cursor()"
   ]
  },
  {
   "cell_type": "markdown",
   "metadata": {},
   "source": [
    "## Creating function that downloads RAIS data"
   ]
  },
  {
   "cell_type": "code",
   "execution_count": 821,
   "metadata": {},
   "outputs": [],
   "source": [
    "df = pd.DataFrame()"
   ]
  },
  {
   "cell_type": "code",
   "execution_count": 822,
   "metadata": {},
   "outputs": [],
   "source": [
    "def rais(ano,estado):\n",
    "    global df\n",
    "   \n",
    "    if ano >= 2011:\n",
    "        consulta_1 = \"\"\" SELECT\n",
    "                    a.CPF cpf,\n",
    "                    a.[PIS] pis,\n",
    "                    a.[Nome Trabalhador] nome,\n",
    "                    a.[Município] id_municipio,\n",
    "                    a.[CNPJ Raiz] cnpj_raiz,\n",
    "                    a.[CBO Ocupação 2002] cbo_2002,\n",
    "                    a.[Vl Remun Dezembro Nom] rem_dez,\n",
    "                    a.[Data Admissão Declarada] data_adm,\n",
    "                    a.[Tempo Emprego] tenure,\n",
    "                    a.[Vínculo Ativo 31 12] vinc_ativ3112,\n",
    "                    a.[Qtd Hora Contr] hours\n",
    "                    FROM dbo.{}{}ID a\n",
    "                    WHERE a.[Vínculo Ativo 31 12] != '0'\n",
    "                    AND a.[Vínculo Ativo 31 12] != '0'\n",
    "                    AND a.[Vínculo Ativo 31 12] != ' 0'\n",
    "                    AND a.[Vínculo Ativo 31 12] != 0\n",
    "                    AND a.[CPF] IN {}\n",
    "                   \"\"\".format(estado,ano,cpfs_rdd)\n",
    "        \n",
    "        df_provisorio = pd.read_sql(consulta_1,  cnxn)\n",
    "        \n",
    "        df_provisorio[\"Ano\"] = ano\n",
    "        df_provisorio[\"Estado\"] = estado\n",
    "        \n",
    "        df_provisorio['cpf'] = df_provisorio['cpf'].str.strip()\n",
    "    \n",
    "        df_provisorio.loc[(df_provisorio['vinc_ativ3112'] == ' 1') |\n",
    "                      (df_provisorio['vinc_ativ3112'] == '1')  |\n",
    "                      (df_provisorio['vinc_ativ3112'] == 'True'), 'vinc_ativ3112'] = 1\n",
    "    \n",
    "        df_provisorio.loc[(df_provisorio['vinc_ativ3112'] == ' 0') |\n",
    "                      (df_provisorio['vinc_ativ3112'] == '0')  |\n",
    "                      (df_provisorio['vinc_ativ3112'] == 'False'),'vinc_ativ3112'] = 0\n",
    "           \n",
    "        df = pd.concat([df, df_provisorio])\n",
    "           \n",
    "        print(f\"foi criado um df de tamanho {len(df)}\")\n",
    "\n",
    "    elif ano >= 2006:\n",
    "        \n",
    "        consulta_1 = \"\"\" SELECT\n",
    "                        a.CPF cpf,\n",
    "                        a.[PIS] pis,\n",
    "                        a.[NOME] nome,\n",
    "                        a.[MUNICIPIO] id_municipio,\n",
    "                        a.[RADIC CNPJ] cnpj_raiz,\n",
    "                        a.[OCUP 2002] cbo_2002,\n",
    "                        a.[REM DEZEMBRO] rem_dez,\n",
    "                        a.[DT ADMISSAO] data_adm,\n",
    "                        a.[TEMP EMPR] tenure,\n",
    "                        a.[EMP EM 31 12] vinc_ativ3112,\n",
    "                        a.[HORAS CONTR] hours\n",
    "                        FROM dbo.{}{}ID a\n",
    "                        WHERE a.[EMP EM 31 12] != '0'\n",
    "                        AND a.[EMP EM 31 12] != '0'\n",
    "                        AND a.[EMP EM 31 12] != ' 0'\n",
    "                        AND a.[EMP EM 31 12] != 0\n",
    "                        AND a.[CPF] IN {}\n",
    "                        \"\"\".format(estado,ano,cpfs_rdd)\n",
    "        \n",
    "        df_provisorio = pd.read_sql(consulta_1,  cnxn)\n",
    "        \n",
    "        df_provisorio[\"Ano\"] = ano\n",
    "        df_provisorio[\"Estado\"] = estado\n",
    "        \n",
    "        df_provisorio['cpf'] = df_provisorio['cpf'].str.strip()\n",
    "\n",
    "    \n",
    "        df_provisorio.loc[(df_provisorio['vinc_ativ3112'] == ' 1') |\n",
    "                      (df_provisorio['vinc_ativ3112'] == '1')  |\n",
    "                      (df_provisorio['vinc_ativ3112'] == 'True'), 'vinc_ativ3112'] = 1\n",
    "    \n",
    "        df_provisorio.loc[(df_provisorio['vinc_ativ3112'] == ' 0') |\n",
    "                      (df_provisorio['vinc_ativ3112'] == '0')  |\n",
    "                      (df_provisorio['vinc_ativ3112'] == 'False'),'vinc_ativ3112'] = 0\n",
    "           \n",
    "        df = pd.concat([df, df_provisorio])\n",
    "           \n",
    "        print(f\"foi criado um df de tamanho {len(df)}\")\n",
    "        \n",
    "        \n",
    "    else: # 2003 until 2005\n",
    "        \n",
    "        consulta_1 = \"\"\" SELECT\n",
    "                        a.CPF cpf,\n",
    "                        a.[PIS] pis,\n",
    "                        a.[NOME] nome,\n",
    "                        a.[MUNICIPIO] id_municipio,\n",
    "                        a.[RADIC CNPJ] cnpj_raiz,\n",
    "                        a.[OCUP 2002] cbo_2002,\n",
    "                        a.[REM DEZEMBRO] rem_dez,\n",
    "                        a.[DT ADMISSAO] data_adm,\n",
    "                        a.[TEMP EMPR] tenure,\n",
    "                        a.[EMP EM 31 12] vinc_ativ3112,\n",
    "                        a.[HORAS CONTR] hours\n",
    "                        FROM dbo.{}{}ID a\n",
    "                        WHERE a.[EMP EM 31 12] != '0'\n",
    "                        AND a.[EMP EM 31 12] != '0'\n",
    "                        AND a.[EMP EM 31 12] != ' 0'\n",
    "                        AND a.[EMP EM 31 12] != 0\n",
    "                        AND a.[CPF] IN {}\n",
    "                        \"\"\".format(estado,ano,cpfs_rdd)\n",
    "        df_provisorio = pd.read_sql(consulta_1,  cnxn)\n",
    "        \n",
    "        df_provisorio[\"Ano\"] = ano\n",
    "        df_provisorio[\"Estado\"] = estado\n",
    "        \n",
    "        df_provisorio['cpf'] = df_provisorio['cpf'].str.strip()\n",
    "\n",
    "    \n",
    "        df_provisorio.loc[(df_provisorio['vinc_ativ3112'] == ' 1') |\n",
    "                      (df_provisorio['vinc_ativ3112'] == '1')  |\n",
    "                      (df_provisorio['vinc_ativ3112'] == 'True'), 'vinc_ativ3112'] = 1\n",
    "    \n",
    "        df_provisorio.loc[(df_provisorio['vinc_ativ3112'] == ' 0') |\n",
    "                      (df_provisorio['vinc_ativ3112'] == '0')  |\n",
    "                      (df_provisorio['vinc_ativ3112'] == 'False'),'vinc_ativ3112'] = 0\n",
    "           \n",
    "        df = pd.concat([df, df_provisorio])\n",
    "           \n",
    "        print(f\"foi criado um df de tamanho {len(df)}\")"
   ]
  },
  {
   "cell_type": "code",
   "execution_count": 823,
   "metadata": {},
   "outputs": [
    {
     "name": "stdout",
     "output_type": "stream",
     "text": [
      "foi criado um df de tamanho 21\n",
      "foi criado um df de tamanho 124\n",
      "foi criado um df de tamanho 256\n",
      "foi criado um df de tamanho 388\n",
      "foi criado um df de tamanho 516\n",
      "foi criado um df de tamanho 699\n",
      "foi criado um df de tamanho 905\n",
      "foi criado um df de tamanho 1110\n",
      "foi criado um df de tamanho 1339\n",
      "foi criado um df de tamanho 1536\n",
      "foi criado um df de tamanho 1753\n",
      "foi criado um df de tamanho 1947\n",
      "foi criado um df de tamanho 2148\n",
      "foi criado um df de tamanho 2307\n",
      "foi criado um df de tamanho 2479\n",
      "foi criado um df de tamanho 2670\n",
      "foi criado um df de tamanho 2757\n",
      "foi criado um df de tamanho 3180\n",
      "foi criado um df de tamanho 3670\n",
      "foi criado um df de tamanho 4162\n",
      "foi criado um df de tamanho 4674\n",
      "foi criado um df de tamanho 5398\n",
      "foi criado um df de tamanho 6231\n",
      "foi criado um df de tamanho 7006\n",
      "foi criado um df de tamanho 7775\n",
      "foi criado um df de tamanho 8447\n",
      "foi criado um df de tamanho 9227\n",
      "foi criado um df de tamanho 9963\n",
      "foi criado um df de tamanho 10707\n",
      "foi criado um df de tamanho 11273\n",
      "foi criado um df de tamanho 11926\n",
      "foi criado um df de tamanho 12533\n",
      "foi criado um df de tamanho 12540\n",
      "foi criado um df de tamanho 12582\n",
      "foi criado um df de tamanho 12632\n",
      "foi criado um df de tamanho 12679\n",
      "foi criado um df de tamanho 12733\n",
      "foi criado um df de tamanho 12797\n",
      "foi criado um df de tamanho 12869\n",
      "foi criado um df de tamanho 12943\n",
      "foi criado um df de tamanho 13021\n",
      "foi criado um df de tamanho 13099\n",
      "foi criado um df de tamanho 13173\n",
      "foi criado um df de tamanho 13247\n",
      "foi criado um df de tamanho 13321\n",
      "foi criado um df de tamanho 13388\n",
      "foi criado um df de tamanho 13459\n",
      "foi criado um df de tamanho 13521\n",
      "foi criado um df de tamanho 13565\n",
      "foi criado um df de tamanho 13846\n",
      "foi criado um df de tamanho 14172\n",
      "foi criado um df de tamanho 14506\n",
      "foi criado um df de tamanho 14866\n",
      "foi criado um df de tamanho 15300\n",
      "foi criado um df de tamanho 15812\n",
      "foi criado um df de tamanho 16252\n",
      "foi criado um df de tamanho 16704\n",
      "foi criado um df de tamanho 17076\n",
      "foi criado um df de tamanho 17512\n",
      "foi criado um df de tamanho 17919\n",
      "foi criado um df de tamanho 18315\n",
      "foi criado um df de tamanho 18629\n",
      "foi criado um df de tamanho 19022\n",
      "foi criado um df de tamanho 19362\n",
      "foi criado um df de tamanho 19371\n",
      "foi criado um df de tamanho 19527\n",
      "foi criado um df de tamanho 19697\n",
      "foi criado um df de tamanho 19870\n",
      "foi criado um df de tamanho 20065\n",
      "foi criado um df de tamanho 20321\n",
      "foi criado um df de tamanho 20580\n",
      "foi criado um df de tamanho 20846\n",
      "foi criado um df de tamanho 21131\n",
      "foi criado um df de tamanho 21416\n",
      "foi criado um df de tamanho 21732\n",
      "foi criado um df de tamanho 22061\n",
      "foi criado um df de tamanho 22390\n",
      "foi criado um df de tamanho 22672\n",
      "foi criado um df de tamanho 22969\n",
      "foi criado um df de tamanho 23254\n",
      "foi criado um df de tamanho 23315\n",
      "foi criado um df de tamanho 23522\n",
      "foi criado um df de tamanho 23759\n",
      "foi criado um df de tamanho 24015\n",
      "foi criado um df de tamanho 24253\n",
      "foi criado um df de tamanho 24551\n",
      "foi criado um df de tamanho 24942\n",
      "foi criado um df de tamanho 25289\n",
      "foi criado um df de tamanho 25658\n",
      "foi criado um df de tamanho 25957\n",
      "foi criado um df de tamanho 26311\n",
      "foi criado um df de tamanho 26645\n",
      "foi criado um df de tamanho 26992\n",
      "foi criado um df de tamanho 27242\n",
      "foi criado um df de tamanho 27533\n",
      "foi criado um df de tamanho 27784\n",
      "foi criado um df de tamanho 27791\n",
      "foi criado um df de tamanho 27859\n",
      "foi criado um df de tamanho 27944\n",
      "foi criado um df de tamanho 28018\n",
      "foi criado um df de tamanho 28121\n",
      "foi criado um df de tamanho 28293\n",
      "foi criado um df de tamanho 28491\n",
      "foi criado um df de tamanho 28662\n",
      "foi criado um df de tamanho 28836\n",
      "foi criado um df de tamanho 28986\n",
      "foi criado um df de tamanho 29156\n",
      "foi criado um df de tamanho 29312\n",
      "foi criado um df de tamanho 29459\n",
      "foi criado um df de tamanho 29563\n",
      "foi criado um df de tamanho 29682\n",
      "foi criado um df de tamanho 29792\n",
      "foi criado um df de tamanho 29803\n",
      "foi criado um df de tamanho 29917\n",
      "foi criado um df de tamanho 30064\n",
      "foi criado um df de tamanho 30207\n",
      "foi criado um df de tamanho 30361\n",
      "foi criado um df de tamanho 30564\n",
      "foi criado um df de tamanho 30844\n",
      "foi criado um df de tamanho 31105\n",
      "foi criado um df de tamanho 31332\n",
      "foi criado um df de tamanho 31530\n",
      "foi criado um df de tamanho 31760\n",
      "foi criado um df de tamanho 31982\n",
      "foi criado um df de tamanho 32198\n",
      "foi criado um df de tamanho 32369\n",
      "foi criado um df de tamanho 32569\n",
      "foi criado um df de tamanho 32754\n",
      "foi criado um df de tamanho 32897\n",
      "foi criado um df de tamanho 33365\n",
      "foi criado um df de tamanho 33910\n",
      "foi criado um df de tamanho 34442\n",
      "foi criado um df de tamanho 35289\n",
      "foi criado um df de tamanho 36072\n",
      "foi criado um df de tamanho 36935\n",
      "foi criado um df de tamanho 37784\n",
      "foi criado um df de tamanho 38636\n",
      "foi criado um df de tamanho 39396\n",
      "foi criado um df de tamanho 40220\n",
      "foi criado um df de tamanho 41021\n",
      "foi criado um df de tamanho 41795\n",
      "foi criado um df de tamanho 42410\n",
      "foi criado um df de tamanho 43038\n",
      "foi criado um df de tamanho 43626\n",
      "foi criado um df de tamanho 43638\n",
      "foi criado um df de tamanho 43702\n",
      "foi criado um df de tamanho 43795\n",
      "foi criado um df de tamanho 43922\n",
      "foi criado um df de tamanho 44050\n",
      "foi criado um df de tamanho 44187\n",
      "foi criado um df de tamanho 44341\n",
      "foi criado um df de tamanho 44482\n",
      "foi criado um df de tamanho 44638\n",
      "foi criado um df de tamanho 44779\n",
      "foi criado um df de tamanho 44942\n",
      "foi criado um df de tamanho 45094\n",
      "foi criado um df de tamanho 45240\n",
      "foi criado um df de tamanho 45352\n",
      "foi criado um df de tamanho 45478\n",
      "foi criado um df de tamanho 45589\n",
      "foi criado um df de tamanho 45599\n",
      "foi criado um df de tamanho 45668\n",
      "foi criado um df de tamanho 45761\n",
      "foi criado um df de tamanho 45858\n",
      "foi criado um df de tamanho 45954\n",
      "foi criado um df de tamanho 46038\n",
      "foi criado um df de tamanho 46151\n",
      "foi criado um df de tamanho 46252\n",
      "foi criado um df de tamanho 46358\n",
      "foi criado um df de tamanho 46451\n",
      "foi criado um df de tamanho 46564\n",
      "foi criado um df de tamanho 46661\n",
      "foi criado um df de tamanho 46767\n",
      "foi criado um df de tamanho 46843\n",
      "foi criado um df de tamanho 46935\n",
      "foi criado um df de tamanho 47019\n",
      "foi criado um df de tamanho 47054\n",
      "foi criado um df de tamanho 47301\n",
      "foi criado um df de tamanho 47598\n",
      "foi criado um df de tamanho 47886\n",
      "foi criado um df de tamanho 48185\n",
      "foi criado um df de tamanho 48581\n",
      "foi criado um df de tamanho 49068\n",
      "foi criado um df de tamanho 49512\n",
      "foi criado um df de tamanho 49974\n",
      "foi criado um df de tamanho 49991\n",
      "foi criado um df de tamanho 50449\n",
      "foi criado um df de tamanho 50879\n",
      "foi criado um df de tamanho 51341\n",
      "foi criado um df de tamanho 51685\n",
      "foi criado um df de tamanho 52071\n",
      "foi criado um df de tamanho 52437\n",
      "foi criado um df de tamanho 52462\n",
      "foi criado um df de tamanho 52538\n",
      "foi criado um df de tamanho 52655\n",
      "foi criado um df de tamanho 52766\n",
      "foi criado um df de tamanho 52880\n",
      "foi criado um df de tamanho 52987\n",
      "foi criado um df de tamanho 53117\n",
      "foi criado um df de tamanho 53230\n",
      "foi criado um df de tamanho 53358\n",
      "foi criado um df de tamanho 53462\n",
      "foi criado um df de tamanho 53593\n",
      "foi criado um df de tamanho 53716\n",
      "foi criado um df de tamanho 53833\n",
      "foi criado um df de tamanho 53913\n",
      "foi criado um df de tamanho 54006\n",
      "foi criado um df de tamanho 54089\n",
      "foi criado um df de tamanho 54120\n",
      "foi criado um df de tamanho 54239\n",
      "foi criado um df de tamanho 54388\n",
      "foi criado um df de tamanho 54539\n",
      "foi criado um df de tamanho 54701\n",
      "foi criado um df de tamanho 54921\n",
      "foi criado um df de tamanho 55175\n",
      "foi criado um df de tamanho 55417\n",
      "foi criado um df de tamanho 55661\n",
      "foi criado um df de tamanho 55880\n",
      "foi criado um df de tamanho 56122\n",
      "foi criado um df de tamanho 56351\n",
      "foi criado um df de tamanho 56576\n",
      "foi criado um df de tamanho 56745\n",
      "foi criado um df de tamanho 56946\n",
      "foi criado um df de tamanho 57151\n",
      "foi criado um df de tamanho 57169\n",
      "foi criado um df de tamanho 57307\n",
      "foi criado um df de tamanho 57473\n",
      "foi criado um df de tamanho 57654\n",
      "foi criado um df de tamanho 57852\n",
      "foi criado um df de tamanho 58051\n",
      "foi criado um df de tamanho 58306\n",
      "foi criado um df de tamanho 58516\n",
      "foi criado um df de tamanho 58739\n",
      "foi criado um df de tamanho 58907\n",
      "foi criado um df de tamanho 59125\n",
      "foi criado um df de tamanho 59318\n",
      "foi criado um df de tamanho 59507\n",
      "foi criado um df de tamanho 59652\n",
      "foi criado um df de tamanho 59833\n",
      "foi criado um df de tamanho 59993\n",
      "foi criado um df de tamanho 60009\n",
      "foi criado um df de tamanho 60049\n",
      "foi criado um df de tamanho 60094\n"
     ]
    },
    {
     "name": "stdout",
     "output_type": "stream",
     "text": [
      "foi criado um df de tamanho 60145\n",
      "foi criado um df de tamanho 60193\n",
      "foi criado um df de tamanho 60282\n",
      "foi criado um df de tamanho 60390\n",
      "foi criado um df de tamanho 60494\n",
      "foi criado um df de tamanho 60613\n",
      "foi criado um df de tamanho 60703\n",
      "foi criado um df de tamanho 60815\n",
      "foi criado um df de tamanho 60909\n",
      "foi criado um df de tamanho 61005\n",
      "foi criado um df de tamanho 61079\n",
      "foi criado um df de tamanho 61158\n",
      "foi criado um df de tamanho 61226\n",
      "foi criado um df de tamanho 61238\n",
      "foi criado um df de tamanho 61369\n",
      "foi criado um df de tamanho 61493\n",
      "foi criado um df de tamanho 61627\n",
      "foi criado um df de tamanho 61767\n",
      "foi criado um df de tamanho 62001\n",
      "foi criado um df de tamanho 62278\n",
      "foi criado um df de tamanho 62546\n",
      "foi criado um df de tamanho 62823\n",
      "foi criado um df de tamanho 63097\n",
      "foi criado um df de tamanho 63368\n",
      "foi criado um df de tamanho 63634\n",
      "foi criado um df de tamanho 63891\n",
      "foi criado um df de tamanho 64092\n",
      "foi criado um df de tamanho 64311\n",
      "foi criado um df de tamanho 64499\n",
      "foi criado um df de tamanho 64512\n",
      "foi criado um df de tamanho 64631\n",
      "foi criado um df de tamanho 64764\n",
      "foi criado um df de tamanho 64903\n",
      "foi criado um df de tamanho 65053\n",
      "foi criado um df de tamanho 65223\n",
      "foi criado um df de tamanho 65400\n",
      "foi criado um df de tamanho 65559\n",
      "foi criado um df de tamanho 65713\n",
      "foi criado um df de tamanho 65859\n",
      "foi criado um df de tamanho 66006\n",
      "foi criado um df de tamanho 66162\n",
      "foi criado um df de tamanho 66322\n",
      "foi criado um df de tamanho 66441\n",
      "foi criado um df de tamanho 66589\n",
      "foi criado um df de tamanho 66707\n",
      "foi criado um df de tamanho 66790\n",
      "foi criado um df de tamanho 67153\n",
      "foi criado um df de tamanho 67612\n",
      "foi criado um df de tamanho 68078\n",
      "foi criado um df de tamanho 68560\n",
      "foi criado um df de tamanho 68985\n",
      "foi criado um df de tamanho 69511\n",
      "foi criado um df de tamanho 70002\n",
      "foi criado um df de tamanho 70485\n",
      "foi criado um df de tamanho 70862\n",
      "foi criado um df de tamanho 71335\n",
      "foi criado um df de tamanho 71790\n",
      "foi criado um df de tamanho 72231\n",
      "foi criado um df de tamanho 72550\n",
      "foi criado um df de tamanho 72949\n",
      "foi criado um df de tamanho 73306\n",
      "foi criado um df de tamanho 73312\n",
      "foi criado um df de tamanho 73452\n",
      "foi criado um df de tamanho 73610\n",
      "foi criado um df de tamanho 73754\n",
      "foi criado um df de tamanho 73893\n",
      "foi criado um df de tamanho 74088\n",
      "foi criado um df de tamanho 74300\n",
      "foi criado um df de tamanho 74513\n",
      "foi criado um df de tamanho 74723\n",
      "foi criado um df de tamanho 74927\n",
      "foi criado um df de tamanho 75152\n",
      "foi criado um df de tamanho 75355\n",
      "foi criado um df de tamanho 75567\n",
      "foi criado um df de tamanho 75747\n",
      "foi criado um df de tamanho 75945\n",
      "foi criado um df de tamanho 76107\n",
      "foi criado um df de tamanho 76107\n",
      "foi criado um df de tamanho 76113\n",
      "foi criado um df de tamanho 76121\n",
      "foi criado um df de tamanho 76129\n",
      "foi criado um df de tamanho 76140\n",
      "foi criado um df de tamanho 76152\n",
      "foi criado um df de tamanho 76170\n",
      "foi criado um df de tamanho 76191\n",
      "foi criado um df de tamanho 76212\n",
      "foi criado um df de tamanho 76232\n",
      "foi criado um df de tamanho 76255\n",
      "foi criado um df de tamanho 76276\n",
      "foi criado um df de tamanho 76296\n",
      "foi criado um df de tamanho 76309\n",
      "foi criado um df de tamanho 76325\n",
      "foi criado um df de tamanho 76338\n",
      "foi criado um df de tamanho 76338\n",
      "foi criado um df de tamanho 76357\n",
      "foi criado um df de tamanho 76379\n",
      "foi criado um df de tamanho 76398\n",
      "foi criado um df de tamanho 76420\n",
      "foi criado um df de tamanho 76446\n",
      "foi criado um df de tamanho 76474\n",
      "foi criado um df de tamanho 76500\n",
      "foi criado um df de tamanho 76527\n",
      "foi criado um df de tamanho 76551\n",
      "foi criado um df de tamanho 76577\n",
      "foi criado um df de tamanho 76601\n",
      "foi criado um df de tamanho 76625\n",
      "foi criado um df de tamanho 76651\n",
      "foi criado um df de tamanho 76683\n",
      "foi criado um df de tamanho 76713\n",
      "foi criado um df de tamanho 76716\n",
      "foi criado um df de tamanho 76758\n",
      "foi criado um df de tamanho 76799\n",
      "foi criado um df de tamanho 76851\n",
      "foi criado um df de tamanho 76904\n",
      "foi criado um df de tamanho 77005\n",
      "foi criado um df de tamanho 77111\n",
      "foi criado um df de tamanho 77211\n",
      "foi criado um df de tamanho 77317\n",
      "foi criado um df de tamanho 77416\n",
      "foi criado um df de tamanho 77520\n",
      "foi criado um df de tamanho 77623\n",
      "foi criado um df de tamanho 77720\n",
      "foi criado um df de tamanho 77791\n",
      "foi criado um df de tamanho 77882\n",
      "foi criado um df de tamanho 77965\n",
      "foi criado um df de tamanho 77972\n",
      "foi criado um df de tamanho 78032\n",
      "foi criado um df de tamanho 78097\n",
      "foi criado um df de tamanho 78154\n",
      "foi criado um df de tamanho 78212\n",
      "foi criado um df de tamanho 78278\n",
      "foi criado um df de tamanho 78361\n",
      "foi criado um df de tamanho 78437\n",
      "foi criado um df de tamanho 78527\n",
      "foi criado um df de tamanho 78611\n",
      "foi criado um df de tamanho 78694\n",
      "foi criado um df de tamanho 78766\n",
      "foi criado um df de tamanho 78832\n",
      "foi criado um df de tamanho 78895\n",
      "foi criado um df de tamanho 78973\n",
      "foi criado um df de tamanho 79042\n",
      "foi criado um df de tamanho 79052\n",
      "foi criado um df de tamanho 79105\n",
      "foi criado um df de tamanho 79179\n",
      "foi criado um df de tamanho 79248\n",
      "foi criado um df de tamanho 79326\n",
      "foi criado um df de tamanho 79407\n",
      "foi criado um df de tamanho 79502\n",
      "foi criado um df de tamanho 79595\n",
      "foi criado um df de tamanho 79683\n",
      "foi criado um df de tamanho 79753\n",
      "foi criado um df de tamanho 79826\n",
      "foi criado um df de tamanho 79903\n",
      "foi criado um df de tamanho 79975\n",
      "foi criado um df de tamanho 80032\n",
      "foi criado um df de tamanho 80099\n",
      "foi criado um df de tamanho 80152\n",
      "foi criado um df de tamanho 80156\n",
      "foi criado um df de tamanho 80179\n",
      "foi criado um df de tamanho 80204\n",
      "foi criado um df de tamanho 80229\n",
      "foi criado um df de tamanho 80255\n",
      "foi criado um df de tamanho 80285\n",
      "foi criado um df de tamanho 80321\n",
      "foi criado um df de tamanho 80365\n",
      "foi criado um df de tamanho 80405\n",
      "foi criado um df de tamanho 80438\n",
      "foi criado um df de tamanho 80470\n",
      "foi criado um df de tamanho 80502\n",
      "foi criado um df de tamanho 80542\n",
      "foi criado um df de tamanho 80572\n",
      "foi criado um df de tamanho 80609\n",
      "foi criado um df de tamanho 80637\n",
      "My program took 6317.158036470413 to run\n"
     ]
    }
   ],
   "source": [
    "start_time = time.time()\n",
    "\n",
    "for x in estados:\n",
    "    for i in anos:\n",
    "        rais(i,x)\n",
    "    \n",
    "print(\"My program took\", time.time() - start_time, \"to run\")"
   ]
  },
  {
   "cell_type": "markdown",
   "metadata": {},
   "source": [
    "# Cleaning RAIS data"
   ]
  },
  {
   "cell_type": "code",
   "execution_count": 824,
   "metadata": {},
   "outputs": [],
   "source": [
    "df = df.drop(columns = \"rem_dez\")"
   ]
  },
  {
   "cell_type": "code",
   "execution_count": 825,
   "metadata": {
    "scrolled": true
   },
   "outputs": [
    {
     "name": "stdout",
     "output_type": "stream",
     "text": [
      "<class 'pandas.core.frame.DataFrame'>\n",
      "Int64Index: 80637 entries, 0 to 27\n",
      "Data columns (total 12 columns):\n",
      " #   Column         Non-Null Count  Dtype \n",
      "---  ------         --------------  ----- \n",
      " 0   cpf            80637 non-null  object\n",
      " 1   pis            80637 non-null  object\n",
      " 2   nome           80637 non-null  object\n",
      " 3   id_municipio   80637 non-null  object\n",
      " 4   cnpj_raiz      80637 non-null  object\n",
      " 5   cbo_2002       80637 non-null  object\n",
      " 6   data_adm       80637 non-null  object\n",
      " 7   tenure         80637 non-null  object\n",
      " 8   vinc_ativ3112  80637 non-null  object\n",
      " 9   hours          80637 non-null  object\n",
      " 10  Ano            80637 non-null  int64 \n",
      " 11  Estado         80637 non-null  object\n",
      "dtypes: int64(1), object(11)\n",
      "memory usage: 8.0+ MB\n"
     ]
    }
   ],
   "source": [
    "df.info()"
   ]
  },
  {
   "cell_type": "code",
   "execution_count": 826,
   "metadata": {},
   "outputs": [],
   "source": [
    "df = df.drop_duplicates()"
   ]
  },
  {
   "cell_type": "code",
   "execution_count": 827,
   "metadata": {},
   "outputs": [
    {
     "name": "stdout",
     "output_type": "stream",
     "text": [
      "<class 'pandas.core.frame.DataFrame'>\n",
      "Int64Index: 80614 entries, 0 to 27\n",
      "Data columns (total 12 columns):\n",
      " #   Column         Non-Null Count  Dtype \n",
      "---  ------         --------------  ----- \n",
      " 0   cpf            80614 non-null  object\n",
      " 1   pis            80614 non-null  object\n",
      " 2   nome           80614 non-null  object\n",
      " 3   id_municipio   80614 non-null  object\n",
      " 4   cnpj_raiz      80614 non-null  object\n",
      " 5   cbo_2002       80614 non-null  object\n",
      " 6   data_adm       80614 non-null  object\n",
      " 7   tenure         80614 non-null  object\n",
      " 8   vinc_ativ3112  80614 non-null  object\n",
      " 9   hours          80614 non-null  object\n",
      " 10  Ano            80614 non-null  int64 \n",
      " 11  Estado         80614 non-null  object\n",
      "dtypes: int64(1), object(11)\n",
      "memory usage: 8.0+ MB\n"
     ]
    }
   ],
   "source": [
    "df.info()"
   ]
  },
  {
   "cell_type": "code",
   "execution_count": 828,
   "metadata": {},
   "outputs": [],
   "source": [
    "# keeping only numbers in the cbo_2002 variable\n",
    "df['cbo_2002_original'] = df['cbo_2002']\n",
    "df['cbo_2002'] = df['cbo_2002'].str.extract('(\\d+)').astype(str)"
   ]
  },
  {
   "cell_type": "code",
   "execution_count": 829,
   "metadata": {},
   "outputs": [],
   "source": [
    "df[\"pis\"] = df[\"pis\"].str.strip() #removing leading and ending spaces"
   ]
  },
  {
   "cell_type": "code",
   "execution_count": 830,
   "metadata": {},
   "outputs": [],
   "source": [
    "df[\"data_adm\"] = df[\"data_adm\"].str.strip() #removing leading and ending spaces\n",
    "df[\"cbo_2002\"] = df[\"cbo_2002\"].str.strip() #removing leading and ending spaces"
   ]
  },
  {
   "cell_type": "markdown",
   "metadata": {},
   "source": [
    "# Creating variable \"tenure\" that measures how many months someone worked in a STEM occupation"
   ]
  },
  {
   "cell_type": "code",
   "execution_count": 831,
   "metadata": {},
   "outputs": [],
   "source": [
    "lista = list(df[\"tenure\"])"
   ]
  },
  {
   "cell_type": "code",
   "execution_count": 832,
   "metadata": {},
   "outputs": [],
   "source": [
    "# replacing \",\" for \".\"\n",
    "coluna = []\n",
    "\n",
    "for i in lista:\n",
    "    if ',' in str(i).lower():  \n",
    "        coluna.append(i.replace(',', '.'))\n",
    "    else:\n",
    "        coluna.append(i)\n",
    "        \n",
    "df[\"tenure\"] = coluna"
   ]
  },
  {
   "cell_type": "code",
   "execution_count": 833,
   "metadata": {},
   "outputs": [],
   "source": [
    "# changing variable types\n",
    "df[\"tenure\"] = df['tenure'].astype(float)\n",
    "#df[\"tenure\"] = df['tenure'].astype(int)\n",
    "#df['data_adm'] = df['data_adm'].astype(int)\n"
   ]
  },
  {
   "cell_type": "code",
   "execution_count": 834,
   "metadata": {},
   "outputs": [],
   "source": [
    "df['cnpj_raiz'] = df['cnpj_raiz'].astype(str).str.zfill(8) # filling cnpj with leading 0 until it reaches 8 characters\n",
    "df['cbo_2002'] = df['cbo_2002'].astype(str).str.zfill(6) # filling cbo with leading 0 until it reaches 6 characters\n",
    "df['data_adm'] = df['data_adm'].astype(str).str.zfill(8) # filling cbo with leading 0 until it reaches 8 characters\n",
    "\n",
    "df['data_adm'] = pd.to_datetime(df['data_adm'], format = '%d%m%Y') # changing do date time type"
   ]
  },
  {
   "cell_type": "markdown",
   "metadata": {},
   "source": [
    "## Keeping CPFs with more than one PIS only for those who match names with TCE dataset"
   ]
  },
  {
   "cell_type": "code",
   "execution_count": 835,
   "metadata": {
    "scrolled": false
   },
   "outputs": [],
   "source": [
    "df[\"n_pis\"] = df.groupby('cpf')['pis'].transform('nunique') # number of unique PIS per cpf"
   ]
  },
  {
   "cell_type": "code",
   "execution_count": 836,
   "metadata": {},
   "outputs": [],
   "source": [
    "# cleaning names\n",
    "df[\"nome\"] = df[\"nome\"].str.strip() #removing leading and ending spaces\n",
    "df[\"nome\"] = df[\"nome\"].apply(unidecode) # removing accents\n",
    "df[\"nome\"] = df[\"nome\"].str.lower() #using lower letters\n",
    "df[\"first_name\"] = df[\"nome\"].str.split().str[0] #creating first name variable\n",
    "df[\"last_name\"] = df[\"nome\"].str.split().str[-1] #creating last name variable\n",
    "\n",
    "# cleaning names from TSE dataset\n",
    "df_candidates[\"nome\"] = df_candidates[\"nome\"].str.strip() #removing leading and ending spaces\n",
    "df_candidates[\"nome\"] = df_candidates[\"nome\"].apply(unidecode) #removing accents\n",
    "df_candidates[\"nome\"] = df_candidates[\"nome\"].str.lower() #using lower letters\n",
    "df_candidates[\"first_name\"] = df_candidates[\"nome\"].str.split().str[0] #creating first name variable\n",
    "df_candidates[\"last_name\"] = df_candidates[\"nome\"].str.split().str[-1] #creating last name variable"
   ]
  },
  {
   "cell_type": "code",
   "execution_count": 837,
   "metadata": {},
   "outputs": [],
   "source": [
    "df = pd.merge(df, df_candidates[['cpf','nome','first_name','last_name','id_municipio']], how = \"outer\", on = \"cpf\", indicator = True, validate = \"many_to_one\", suffixes = ('_rais', '_tse') , )"
   ]
  },
  {
   "cell_type": "code",
   "execution_count": 838,
   "metadata": {},
   "outputs": [
    {
     "data": {
      "text/plain": [
       "both          80614\n",
       "right_only     4036\n",
       "left_only         0\n",
       "Name: _merge, dtype: int64"
      ]
     },
     "execution_count": 838,
     "metadata": {},
     "output_type": "execute_result"
    }
   ],
   "source": [
    "df._merge.value_counts()"
   ]
  },
  {
   "cell_type": "markdown",
   "metadata": {},
   "source": [
    "- 4036 of 13585 candidates did not appeared in RAIS"
   ]
  },
  {
   "cell_type": "code",
   "execution_count": 839,
   "metadata": {},
   "outputs": [],
   "source": [
    "df = df[df[\"_merge\"] != \"right_only\"] # dropping TSE candidates that were not in RAIS"
   ]
  },
  {
   "cell_type": "code",
   "execution_count": 840,
   "metadata": {},
   "outputs": [],
   "source": [
    "df['equal_names'] = (df[\"first_name_rais\"] == df[\"first_name_tse\"]) # creating dummy that indicates wether the name in RAIS is the same as the name in TSE "
   ]
  },
  {
   "cell_type": "code",
   "execution_count": 841,
   "metadata": {},
   "outputs": [],
   "source": [
    "df = df[(df['n_pis'] == 1) | df['equal_names'] == True] # keeping only observations in RAIS which have only one PIS or have the same first_name in RAIS and TSE datasets "
   ]
  },
  {
   "cell_type": "code",
   "execution_count": 842,
   "metadata": {},
   "outputs": [],
   "source": [
    "df = df.drop(columns = ['equal_names', '_merge', 'id_municipio_tse', 'last_name_tse', 'first_name_tse', 'nome_tse', 'last_name_rais', 'first_name_rais'])"
   ]
  },
  {
   "cell_type": "code",
   "execution_count": 843,
   "metadata": {},
   "outputs": [],
   "source": [
    "df[\"n_pis_new\"] = df.groupby('cpf')['pis'].transform('nunique')"
   ]
  },
  {
   "cell_type": "code",
   "execution_count": 844,
   "metadata": {},
   "outputs": [
    {
     "data": {
      "text/html": [
       "<div>\n",
       "<style scoped>\n",
       "    .dataframe tbody tr th:only-of-type {\n",
       "        vertical-align: middle;\n",
       "    }\n",
       "\n",
       "    .dataframe tbody tr th {\n",
       "        vertical-align: top;\n",
       "    }\n",
       "\n",
       "    .dataframe thead th {\n",
       "        text-align: right;\n",
       "    }\n",
       "</style>\n",
       "<table border=\"1\" class=\"dataframe\">\n",
       "  <thead>\n",
       "    <tr style=\"text-align: right;\">\n",
       "      <th></th>\n",
       "      <th>tenure</th>\n",
       "      <th>Ano</th>\n",
       "      <th>n_pis</th>\n",
       "      <th>n_pis_new</th>\n",
       "    </tr>\n",
       "  </thead>\n",
       "  <tbody>\n",
       "    <tr>\n",
       "      <th>count</th>\n",
       "      <td>80082.000000</td>\n",
       "      <td>80082.000000</td>\n",
       "      <td>80082.000000</td>\n",
       "      <td>80082.000000</td>\n",
       "    </tr>\n",
       "    <tr>\n",
       "      <th>mean</th>\n",
       "      <td>105.539399</td>\n",
       "      <td>2011.193402</td>\n",
       "      <td>1.146625</td>\n",
       "      <td>1.126196</td>\n",
       "    </tr>\n",
       "    <tr>\n",
       "      <th>std</th>\n",
       "      <td>108.653309</td>\n",
       "      <td>4.102809</td>\n",
       "      <td>0.864160</td>\n",
       "      <td>0.369250</td>\n",
       "    </tr>\n",
       "    <tr>\n",
       "      <th>min</th>\n",
       "      <td>0.000000</td>\n",
       "      <td>2003.000000</td>\n",
       "      <td>1.000000</td>\n",
       "      <td>1.000000</td>\n",
       "    </tr>\n",
       "    <tr>\n",
       "      <th>25%</th>\n",
       "      <td>20.900000</td>\n",
       "      <td>2008.000000</td>\n",
       "      <td>1.000000</td>\n",
       "      <td>1.000000</td>\n",
       "    </tr>\n",
       "    <tr>\n",
       "      <th>50%</th>\n",
       "      <td>59.900000</td>\n",
       "      <td>2011.000000</td>\n",
       "      <td>1.000000</td>\n",
       "      <td>1.000000</td>\n",
       "    </tr>\n",
       "    <tr>\n",
       "      <th>75%</th>\n",
       "      <td>164.900000</td>\n",
       "      <td>2015.000000</td>\n",
       "      <td>1.000000</td>\n",
       "      <td>1.000000</td>\n",
       "    </tr>\n",
       "    <tr>\n",
       "      <th>max</th>\n",
       "      <td>592.900024</td>\n",
       "      <td>2018.000000</td>\n",
       "      <td>70.000000</td>\n",
       "      <td>6.000000</td>\n",
       "    </tr>\n",
       "  </tbody>\n",
       "</table>\n",
       "</div>"
      ],
      "text/plain": [
       "             tenure           Ano         n_pis     n_pis_new\n",
       "count  80082.000000  80082.000000  80082.000000  80082.000000\n",
       "mean     105.539399   2011.193402      1.146625      1.126196\n",
       "std      108.653309      4.102809      0.864160      0.369250\n",
       "min        0.000000   2003.000000      1.000000      1.000000\n",
       "25%       20.900000   2008.000000      1.000000      1.000000\n",
       "50%       59.900000   2011.000000      1.000000      1.000000\n",
       "75%      164.900000   2015.000000      1.000000      1.000000\n",
       "max      592.900024   2018.000000     70.000000      6.000000"
      ]
     },
     "execution_count": 844,
     "metadata": {},
     "output_type": "execute_result"
    }
   ],
   "source": [
    "df.describe()"
   ]
  },
  {
   "cell_type": "markdown",
   "metadata": {},
   "source": [
    "- there are still a few CPFs with multiple PIS. But now they seem to be the same person because they have the same name"
   ]
  },
  {
   "cell_type": "markdown",
   "metadata": {},
   "source": [
    "## Creating identificator of contracts per person"
   ]
  },
  {
   "cell_type": "code",
   "execution_count": 845,
   "metadata": {},
   "outputs": [
    {
     "name": "stdout",
     "output_type": "stream",
     "text": [
      "<class 'pandas.core.frame.DataFrame'>\n",
      "Int64Index: 80082 entries, 0 to 80613\n",
      "Data columns (total 15 columns):\n",
      " #   Column             Non-Null Count  Dtype         \n",
      "---  ------             --------------  -----         \n",
      " 0   cpf                80082 non-null  object        \n",
      " 1   pis                80082 non-null  object        \n",
      " 2   nome_rais          80082 non-null  object        \n",
      " 3   id_municipio_rais  80082 non-null  object        \n",
      " 4   cnpj_raiz          80082 non-null  object        \n",
      " 5   cbo_2002           80082 non-null  object        \n",
      " 6   data_adm           80082 non-null  datetime64[ns]\n",
      " 7   tenure             80082 non-null  float64       \n",
      " 8   vinc_ativ3112      80082 non-null  object        \n",
      " 9   hours              80082 non-null  object        \n",
      " 10  Ano                80082 non-null  float64       \n",
      " 11  Estado             80082 non-null  object        \n",
      " 12  cbo_2002_original  80082 non-null  object        \n",
      " 13  n_pis              80082 non-null  float64       \n",
      " 14  n_pis_new          80082 non-null  int64         \n",
      "dtypes: datetime64[ns](1), float64(3), int64(1), object(10)\n",
      "memory usage: 9.8+ MB\n"
     ]
    }
   ],
   "source": [
    "df.info()"
   ]
  },
  {
   "cell_type": "code",
   "execution_count": 846,
   "metadata": {},
   "outputs": [],
   "source": [
    "df[\"count\"] = df.groupby(['cpf','data_adm',\"cbo_2002\"])[\"cbo_2002\"].transform('count') # this variable indicates that person p is working in a contract c"
   ]
  },
  {
   "cell_type": "code",
   "execution_count": 847,
   "metadata": {},
   "outputs": [],
   "source": [
    "df[\"contract_id\"] = df.groupby(['cpf','data_adm',\"cbo_2002\",\"cnpj_raiz\"]).ngroup() # this variable indicates that person p is working in a contract c"
   ]
  },
  {
   "cell_type": "code",
   "execution_count": 848,
   "metadata": {},
   "outputs": [],
   "source": [
    "df[\"n_contracts\"] = df.groupby('cpf')['contract_id'].transform('nunique') # this variable indicates the number of different contracts that each person had\n",
    "df[\"n_contracts_year\"] = df.groupby(['cpf','Ano'])['contract_id'].transform('nunique') # the same but per year"
   ]
  },
  {
   "cell_type": "code",
   "execution_count": 849,
   "metadata": {},
   "outputs": [
    {
     "data": {
      "text/html": [
       "<div>\n",
       "<style scoped>\n",
       "    .dataframe tbody tr th:only-of-type {\n",
       "        vertical-align: middle;\n",
       "    }\n",
       "\n",
       "    .dataframe tbody tr th {\n",
       "        vertical-align: top;\n",
       "    }\n",
       "\n",
       "    .dataframe thead th {\n",
       "        text-align: right;\n",
       "    }\n",
       "</style>\n",
       "<table border=\"1\" class=\"dataframe\">\n",
       "  <thead>\n",
       "    <tr style=\"text-align: right;\">\n",
       "      <th></th>\n",
       "      <th>tenure</th>\n",
       "      <th>Ano</th>\n",
       "      <th>n_pis</th>\n",
       "      <th>n_pis_new</th>\n",
       "      <th>count</th>\n",
       "      <th>contract_id</th>\n",
       "      <th>n_contracts</th>\n",
       "      <th>n_contracts_year</th>\n",
       "    </tr>\n",
       "  </thead>\n",
       "  <tbody>\n",
       "    <tr>\n",
       "      <th>count</th>\n",
       "      <td>80082.000000</td>\n",
       "      <td>80082.000000</td>\n",
       "      <td>80082.000000</td>\n",
       "      <td>80082.000000</td>\n",
       "      <td>80082.000000</td>\n",
       "      <td>80082.000000</td>\n",
       "      <td>80082.000000</td>\n",
       "      <td>80082.000000</td>\n",
       "    </tr>\n",
       "    <tr>\n",
       "      <th>mean</th>\n",
       "      <td>105.539399</td>\n",
       "      <td>2011.193402</td>\n",
       "      <td>1.146625</td>\n",
       "      <td>1.126196</td>\n",
       "      <td>5.651707</td>\n",
       "      <td>14723.256837</td>\n",
       "      <td>4.538111</td>\n",
       "      <td>1.404573</td>\n",
       "    </tr>\n",
       "    <tr>\n",
       "      <th>std</th>\n",
       "      <td>108.653309</td>\n",
       "      <td>4.102809</td>\n",
       "      <td>0.864160</td>\n",
       "      <td>0.369250</td>\n",
       "      <td>4.166271</td>\n",
       "      <td>8337.653493</td>\n",
       "      <td>3.412618</td>\n",
       "      <td>0.754463</td>\n",
       "    </tr>\n",
       "    <tr>\n",
       "      <th>min</th>\n",
       "      <td>0.000000</td>\n",
       "      <td>2003.000000</td>\n",
       "      <td>1.000000</td>\n",
       "      <td>1.000000</td>\n",
       "      <td>1.000000</td>\n",
       "      <td>0.000000</td>\n",
       "      <td>1.000000</td>\n",
       "      <td>1.000000</td>\n",
       "    </tr>\n",
       "    <tr>\n",
       "      <th>25%</th>\n",
       "      <td>20.900000</td>\n",
       "      <td>2008.000000</td>\n",
       "      <td>1.000000</td>\n",
       "      <td>1.000000</td>\n",
       "      <td>2.000000</td>\n",
       "      <td>7682.250000</td>\n",
       "      <td>2.000000</td>\n",
       "      <td>1.000000</td>\n",
       "    </tr>\n",
       "    <tr>\n",
       "      <th>50%</th>\n",
       "      <td>59.900000</td>\n",
       "      <td>2011.000000</td>\n",
       "      <td>1.000000</td>\n",
       "      <td>1.000000</td>\n",
       "      <td>5.000000</td>\n",
       "      <td>14758.000000</td>\n",
       "      <td>4.000000</td>\n",
       "      <td>1.000000</td>\n",
       "    </tr>\n",
       "    <tr>\n",
       "      <th>75%</th>\n",
       "      <td>164.900000</td>\n",
       "      <td>2015.000000</td>\n",
       "      <td>1.000000</td>\n",
       "      <td>1.000000</td>\n",
       "      <td>9.000000</td>\n",
       "      <td>21813.000000</td>\n",
       "      <td>6.000000</td>\n",
       "      <td>2.000000</td>\n",
       "    </tr>\n",
       "    <tr>\n",
       "      <th>max</th>\n",
       "      <td>592.900024</td>\n",
       "      <td>2018.000000</td>\n",
       "      <td>70.000000</td>\n",
       "      <td>6.000000</td>\n",
       "      <td>23.000000</td>\n",
       "      <td>29266.000000</td>\n",
       "      <td>34.000000</td>\n",
       "      <td>9.000000</td>\n",
       "    </tr>\n",
       "  </tbody>\n",
       "</table>\n",
       "</div>"
      ],
      "text/plain": [
       "             tenure           Ano         n_pis     n_pis_new         count  \\\n",
       "count  80082.000000  80082.000000  80082.000000  80082.000000  80082.000000   \n",
       "mean     105.539399   2011.193402      1.146625      1.126196      5.651707   \n",
       "std      108.653309      4.102809      0.864160      0.369250      4.166271   \n",
       "min        0.000000   2003.000000      1.000000      1.000000      1.000000   \n",
       "25%       20.900000   2008.000000      1.000000      1.000000      2.000000   \n",
       "50%       59.900000   2011.000000      1.000000      1.000000      5.000000   \n",
       "75%      164.900000   2015.000000      1.000000      1.000000      9.000000   \n",
       "max      592.900024   2018.000000     70.000000      6.000000     23.000000   \n",
       "\n",
       "        contract_id   n_contracts  n_contracts_year  \n",
       "count  80082.000000  80082.000000      80082.000000  \n",
       "mean   14723.256837      4.538111          1.404573  \n",
       "std     8337.653493      3.412618          0.754463  \n",
       "min        0.000000      1.000000          1.000000  \n",
       "25%     7682.250000      2.000000          1.000000  \n",
       "50%    14758.000000      4.000000          1.000000  \n",
       "75%    21813.000000      6.000000          2.000000  \n",
       "max    29266.000000     34.000000          9.000000  "
      ]
     },
     "execution_count": 849,
     "metadata": {},
     "output_type": "execute_result"
    }
   ],
   "source": [
    "df.describe()"
   ]
  },
  {
   "cell_type": "markdown",
   "metadata": {},
   "source": [
    "## Creating \"contract_tenure\" "
   ]
  },
  {
   "cell_type": "markdown",
   "metadata": {},
   "source": [
    "- it calculates the total time that a worker was in a specific contract"
   ]
  },
  {
   "cell_type": "code",
   "execution_count": 850,
   "metadata": {},
   "outputs": [],
   "source": [
    "df[\"contract_first_year\"] = df.groupby(['contract_id'])[\"Ano\"].transform('min') # first year a contract appears in Rais\n",
    "df[\"contract_last_year\"] = df.groupby(['contract_id'])[\"Ano\"].transform('max') # last year a contract appears in Rais"
   ]
  },
  {
   "cell_type": "code",
   "execution_count": 851,
   "metadata": {},
   "outputs": [],
   "source": [
    "df[\"contract_first_year_tenure\"] = df[(df[\"contract_first_year\"] == df[\"Ano\"])][\"tenure\"] # getting the inital value of tenure per contract\n",
    "df[\"contract_last_year_tenure\"] = df[(df[\"contract_last_year\"] == df[\"Ano\"])][\"tenure\"] # getting the final value of tenure per contract"
   ]
  },
  {
   "cell_type": "code",
   "execution_count": 852,
   "metadata": {},
   "outputs": [],
   "source": [
    "df[\"contract_first_year_tenure\"] = df.groupby(['contract_id'])[\"contract_first_year_tenure\"].transform('sum') # coping this value to all the observations of that contract\n",
    "df[\"contract_last_year_tenure\"] = df.groupby(['contract_id'])[\"contract_last_year_tenure\"].transform('sum') # coping this value to all the observations of that contract"
   ]
  },
  {
   "cell_type": "code",
   "execution_count": 853,
   "metadata": {},
   "outputs": [],
   "source": [
    "df[\"contract_tenure\"] = df[\"contract_last_year_tenure\"] - df[\"contract_first_year_tenure\"]"
   ]
  },
  {
   "cell_type": "code",
   "execution_count": 854,
   "metadata": {},
   "outputs": [],
   "source": [
    "df.loc[(df[\"contract_first_year\"] == df[\"contract_last_year\"]) & (df[\"contract_first_year_tenure\"] <= 12), \"contract_tenure\"] = df[\"contract_first_year_tenure\"] # using the first years' tenure all the total value if the contract only has one year and the tenure in the first yera is less or equal to 12\n",
    "df.loc[(df[\"contract_first_year\"] == df[\"contract_last_year\"]) & (df[\"contract_first_year_tenure\"] > 12), \"contract_tenure\"] = 12 # replacing the total duration of a contract for 12 when the contract only appeared one year and the tenure of the first contract was bigger than 12. "
   ]
  },
  {
   "cell_type": "markdown",
   "metadata": {},
   "source": [
    "- The last replacement was necessary, because we do not observe before 2003. Therefore, since tenure does not reset when a worker change its' occupation inside the same company, a worker could have been working in a non-STEM job for 120 months, but only in the last 12 months he worked in a STEM job. Therefore, we would be superestimating his STEM experience. When we change this value to 12, it means that we're only considering his experience from 2003 until the yera of his election "
   ]
  },
  {
   "cell_type": "code",
   "execution_count": 855,
   "metadata": {},
   "outputs": [
    {
     "data": {
      "text/html": [
       "<div>\n",
       "<style scoped>\n",
       "    .dataframe tbody tr th:only-of-type {\n",
       "        vertical-align: middle;\n",
       "    }\n",
       "\n",
       "    .dataframe tbody tr th {\n",
       "        vertical-align: top;\n",
       "    }\n",
       "\n",
       "    .dataframe thead th {\n",
       "        text-align: right;\n",
       "    }\n",
       "</style>\n",
       "<table border=\"1\" class=\"dataframe\">\n",
       "  <thead>\n",
       "    <tr style=\"text-align: right;\">\n",
       "      <th></th>\n",
       "      <th>tenure</th>\n",
       "      <th>Ano</th>\n",
       "      <th>n_pis</th>\n",
       "      <th>n_pis_new</th>\n",
       "      <th>count</th>\n",
       "      <th>contract_id</th>\n",
       "      <th>n_contracts</th>\n",
       "      <th>n_contracts_year</th>\n",
       "      <th>contract_first_year</th>\n",
       "      <th>contract_last_year</th>\n",
       "      <th>contract_first_year_tenure</th>\n",
       "      <th>contract_last_year_tenure</th>\n",
       "      <th>contract_tenure</th>\n",
       "    </tr>\n",
       "  </thead>\n",
       "  <tbody>\n",
       "    <tr>\n",
       "      <th>count</th>\n",
       "      <td>80082.000000</td>\n",
       "      <td>80082.000000</td>\n",
       "      <td>80082.000000</td>\n",
       "      <td>80082.000000</td>\n",
       "      <td>80082.000000</td>\n",
       "      <td>80082.000000</td>\n",
       "      <td>80082.000000</td>\n",
       "      <td>80082.000000</td>\n",
       "      <td>80082.000000</td>\n",
       "      <td>80082.000000</td>\n",
       "      <td>80082.000000</td>\n",
       "      <td>80082.000000</td>\n",
       "      <td>80082.000000</td>\n",
       "    </tr>\n",
       "    <tr>\n",
       "      <th>mean</th>\n",
       "      <td>105.539399</td>\n",
       "      <td>2011.193402</td>\n",
       "      <td>1.146625</td>\n",
       "      <td>1.126196</td>\n",
       "      <td>5.651707</td>\n",
       "      <td>14723.256837</td>\n",
       "      <td>4.538111</td>\n",
       "      <td>1.404573</td>\n",
       "      <td>2008.780088</td>\n",
       "      <td>2013.605117</td>\n",
       "      <td>76.582229</td>\n",
       "      <td>134.492424</td>\n",
       "      <td>59.567819</td>\n",
       "    </tr>\n",
       "    <tr>\n",
       "      <th>std</th>\n",
       "      <td>108.653309</td>\n",
       "      <td>4.102809</td>\n",
       "      <td>0.864160</td>\n",
       "      <td>0.369250</td>\n",
       "      <td>4.166271</td>\n",
       "      <td>8337.653493</td>\n",
       "      <td>3.412618</td>\n",
       "      <td>0.754463</td>\n",
       "      <td>3.964828</td>\n",
       "      <td>4.270065</td>\n",
       "      <td>95.456042</td>\n",
       "      <td>120.528301</td>\n",
       "      <td>50.643400</td>\n",
       "    </tr>\n",
       "    <tr>\n",
       "      <th>min</th>\n",
       "      <td>0.000000</td>\n",
       "      <td>2003.000000</td>\n",
       "      <td>1.000000</td>\n",
       "      <td>1.000000</td>\n",
       "      <td>1.000000</td>\n",
       "      <td>0.000000</td>\n",
       "      <td>1.000000</td>\n",
       "      <td>1.000000</td>\n",
       "      <td>2003.000000</td>\n",
       "      <td>2003.000000</td>\n",
       "      <td>0.000000</td>\n",
       "      <td>0.000000</td>\n",
       "      <td>-111.600000</td>\n",
       "    </tr>\n",
       "    <tr>\n",
       "      <th>25%</th>\n",
       "      <td>20.900000</td>\n",
       "      <td>2008.000000</td>\n",
       "      <td>1.000000</td>\n",
       "      <td>1.000000</td>\n",
       "      <td>2.000000</td>\n",
       "      <td>7682.250000</td>\n",
       "      <td>2.000000</td>\n",
       "      <td>1.000000</td>\n",
       "      <td>2005.000000</td>\n",
       "      <td>2010.000000</td>\n",
       "      <td>9.900000</td>\n",
       "      <td>34.900000</td>\n",
       "      <td>12.000000</td>\n",
       "    </tr>\n",
       "    <tr>\n",
       "      <th>50%</th>\n",
       "      <td>59.900000</td>\n",
       "      <td>2011.000000</td>\n",
       "      <td>1.000000</td>\n",
       "      <td>1.000000</td>\n",
       "      <td>5.000000</td>\n",
       "      <td>14758.000000</td>\n",
       "      <td>4.000000</td>\n",
       "      <td>1.000000</td>\n",
       "      <td>2008.000000</td>\n",
       "      <td>2015.000000</td>\n",
       "      <td>25.000000</td>\n",
       "      <td>95.900000</td>\n",
       "      <td>47.999994</td>\n",
       "    </tr>\n",
       "    <tr>\n",
       "      <th>75%</th>\n",
       "      <td>164.900000</td>\n",
       "      <td>2015.000000</td>\n",
       "      <td>1.000000</td>\n",
       "      <td>1.000000</td>\n",
       "      <td>9.000000</td>\n",
       "      <td>21813.000000</td>\n",
       "      <td>6.000000</td>\n",
       "      <td>2.000000</td>\n",
       "      <td>2012.000000</td>\n",
       "      <td>2018.000000</td>\n",
       "      <td>119.450001</td>\n",
       "      <td>204.399994</td>\n",
       "      <td>96.000000</td>\n",
       "    </tr>\n",
       "    <tr>\n",
       "      <th>max</th>\n",
       "      <td>592.900024</td>\n",
       "      <td>2018.000000</td>\n",
       "      <td>70.000000</td>\n",
       "      <td>6.000000</td>\n",
       "      <td>23.000000</td>\n",
       "      <td>29266.000000</td>\n",
       "      <td>34.000000</td>\n",
       "      <td>9.000000</td>\n",
       "      <td>2018.000000</td>\n",
       "      <td>2018.000000</td>\n",
       "      <td>557.900024</td>\n",
       "      <td>592.900024</td>\n",
       "      <td>187.999994</td>\n",
       "    </tr>\n",
       "  </tbody>\n",
       "</table>\n",
       "</div>"
      ],
      "text/plain": [
       "             tenure           Ano         n_pis     n_pis_new         count  \\\n",
       "count  80082.000000  80082.000000  80082.000000  80082.000000  80082.000000   \n",
       "mean     105.539399   2011.193402      1.146625      1.126196      5.651707   \n",
       "std      108.653309      4.102809      0.864160      0.369250      4.166271   \n",
       "min        0.000000   2003.000000      1.000000      1.000000      1.000000   \n",
       "25%       20.900000   2008.000000      1.000000      1.000000      2.000000   \n",
       "50%       59.900000   2011.000000      1.000000      1.000000      5.000000   \n",
       "75%      164.900000   2015.000000      1.000000      1.000000      9.000000   \n",
       "max      592.900024   2018.000000     70.000000      6.000000     23.000000   \n",
       "\n",
       "        contract_id   n_contracts  n_contracts_year  contract_first_year  \\\n",
       "count  80082.000000  80082.000000      80082.000000         80082.000000   \n",
       "mean   14723.256837      4.538111          1.404573          2008.780088   \n",
       "std     8337.653493      3.412618          0.754463             3.964828   \n",
       "min        0.000000      1.000000          1.000000          2003.000000   \n",
       "25%     7682.250000      2.000000          1.000000          2005.000000   \n",
       "50%    14758.000000      4.000000          1.000000          2008.000000   \n",
       "75%    21813.000000      6.000000          2.000000          2012.000000   \n",
       "max    29266.000000     34.000000          9.000000          2018.000000   \n",
       "\n",
       "       contract_last_year  contract_first_year_tenure  \\\n",
       "count        80082.000000                80082.000000   \n",
       "mean          2013.605117                   76.582229   \n",
       "std              4.270065                   95.456042   \n",
       "min           2003.000000                    0.000000   \n",
       "25%           2010.000000                    9.900000   \n",
       "50%           2015.000000                   25.000000   \n",
       "75%           2018.000000                  119.450001   \n",
       "max           2018.000000                  557.900024   \n",
       "\n",
       "       contract_last_year_tenure  contract_tenure  \n",
       "count               80082.000000     80082.000000  \n",
       "mean                  134.492424        59.567819  \n",
       "std                   120.528301        50.643400  \n",
       "min                     0.000000      -111.600000  \n",
       "25%                    34.900000        12.000000  \n",
       "50%                    95.900000        47.999994  \n",
       "75%                   204.399994        96.000000  \n",
       "max                   592.900024       187.999994  "
      ]
     },
     "execution_count": 855,
     "metadata": {},
     "output_type": "execute_result"
    }
   ],
   "source": [
    "df.describe()"
   ]
  },
  {
   "cell_type": "markdown",
   "metadata": {},
   "source": [
    "- Negatives in min value for contract_tenure is strange, but I'll ignore it for now since it does not happen for STEM occupations"
   ]
  },
  {
   "cell_type": "markdown",
   "metadata": {},
   "source": [
    "# Classifing occupations as STEM"
   ]
  },
  {
   "cell_type": "code",
   "execution_count": 856,
   "metadata": {},
   "outputs": [],
   "source": [
    "df[\"stem_job\"] = df[\"cbo_2002\"].apply(lambda x: 1 if x[0:4] in cbos_stem else 0) # using the list from Machado(2021) to classify each occupation as a stem_job"
   ]
  },
  {
   "cell_type": "markdown",
   "metadata": {},
   "source": [
    "## Keeping only last year of each contract"
   ]
  },
  {
   "cell_type": "code",
   "execution_count": 857,
   "metadata": {},
   "outputs": [],
   "source": [
    "last_year_contract = df.groupby(['contract_id'])['Ano'].idxmax()# creating a dataset that keeps only the last year of a contract c from person p \n",
    "df = df.loc[last_year_contract]"
   ]
  },
  {
   "cell_type": "markdown",
   "metadata": {},
   "source": [
    "## Saving"
   ]
  },
  {
   "cell_type": "code",
   "execution_count": 858,
   "metadata": {},
   "outputs": [],
   "source": [
    "df.to_csv(output_dir + 'data/mayors_jobs_2020.csv', sep = \",\", index = False, encoding = \"utf-8-sig\")"
   ]
  },
  {
   "cell_type": "markdown",
   "metadata": {},
   "source": [
    "# Keeping only STEM contracts"
   ]
  },
  {
   "cell_type": "code",
   "execution_count": 859,
   "metadata": {},
   "outputs": [
    {
     "name": "stdout",
     "output_type": "stream",
     "text": [
      "<class 'pandas.core.frame.DataFrame'>\n",
      "Int64Index: 29267 entries, 55163 to 27506\n",
      "Data columns (total 25 columns):\n",
      " #   Column                      Non-Null Count  Dtype         \n",
      "---  ------                      --------------  -----         \n",
      " 0   cpf                         29267 non-null  object        \n",
      " 1   pis                         29267 non-null  object        \n",
      " 2   nome_rais                   29267 non-null  object        \n",
      " 3   id_municipio_rais           29267 non-null  object        \n",
      " 4   cnpj_raiz                   29267 non-null  object        \n",
      " 5   cbo_2002                    29267 non-null  object        \n",
      " 6   data_adm                    29267 non-null  datetime64[ns]\n",
      " 7   tenure                      29267 non-null  float64       \n",
      " 8   vinc_ativ3112               29267 non-null  object        \n",
      " 9   hours                       29267 non-null  object        \n",
      " 10  Ano                         29267 non-null  float64       \n",
      " 11  Estado                      29267 non-null  object        \n",
      " 12  cbo_2002_original           29267 non-null  object        \n",
      " 13  n_pis                       29267 non-null  float64       \n",
      " 14  n_pis_new                   29267 non-null  int64         \n",
      " 15  count                       29267 non-null  int64         \n",
      " 16  contract_id                 29267 non-null  int64         \n",
      " 17  n_contracts                 29267 non-null  int64         \n",
      " 18  n_contracts_year            29267 non-null  int64         \n",
      " 19  contract_first_year         29267 non-null  float64       \n",
      " 20  contract_last_year          29267 non-null  float64       \n",
      " 21  contract_first_year_tenure  29267 non-null  float64       \n",
      " 22  contract_last_year_tenure   29267 non-null  float64       \n",
      " 23  contract_tenure             29267 non-null  float64       \n",
      " 24  stem_job                    29267 non-null  int64         \n",
      "dtypes: datetime64[ns](1), float64(8), int64(6), object(10)\n",
      "memory usage: 5.8+ MB\n"
     ]
    }
   ],
   "source": [
    "df.info()"
   ]
  },
  {
   "cell_type": "code",
   "execution_count": 860,
   "metadata": {},
   "outputs": [],
   "source": [
    "df = df.query(\"stem_job == 1\")"
   ]
  },
  {
   "cell_type": "code",
   "execution_count": 861,
   "metadata": {},
   "outputs": [
    {
     "name": "stdout",
     "output_type": "stream",
     "text": [
      "<class 'pandas.core.frame.DataFrame'>\n",
      "Int64Index: 772 entries, 42770 to 5515\n",
      "Data columns (total 25 columns):\n",
      " #   Column                      Non-Null Count  Dtype         \n",
      "---  ------                      --------------  -----         \n",
      " 0   cpf                         772 non-null    object        \n",
      " 1   pis                         772 non-null    object        \n",
      " 2   nome_rais                   772 non-null    object        \n",
      " 3   id_municipio_rais           772 non-null    object        \n",
      " 4   cnpj_raiz                   772 non-null    object        \n",
      " 5   cbo_2002                    772 non-null    object        \n",
      " 6   data_adm                    772 non-null    datetime64[ns]\n",
      " 7   tenure                      772 non-null    float64       \n",
      " 8   vinc_ativ3112               772 non-null    object        \n",
      " 9   hours                       772 non-null    object        \n",
      " 10  Ano                         772 non-null    float64       \n",
      " 11  Estado                      772 non-null    object        \n",
      " 12  cbo_2002_original           772 non-null    object        \n",
      " 13  n_pis                       772 non-null    float64       \n",
      " 14  n_pis_new                   772 non-null    int64         \n",
      " 15  count                       772 non-null    int64         \n",
      " 16  contract_id                 772 non-null    int64         \n",
      " 17  n_contracts                 772 non-null    int64         \n",
      " 18  n_contracts_year            772 non-null    int64         \n",
      " 19  contract_first_year         772 non-null    float64       \n",
      " 20  contract_last_year          772 non-null    float64       \n",
      " 21  contract_first_year_tenure  772 non-null    float64       \n",
      " 22  contract_last_year_tenure   772 non-null    float64       \n",
      " 23  contract_tenure             772 non-null    float64       \n",
      " 24  stem_job                    772 non-null    int64         \n",
      "dtypes: datetime64[ns](1), float64(8), int64(6), object(10)\n",
      "memory usage: 156.8+ KB\n"
     ]
    }
   ],
   "source": [
    "df.info()"
   ]
  },
  {
   "cell_type": "markdown",
   "metadata": {},
   "source": [
    "## Keeping only one contract per year"
   ]
  },
  {
   "cell_type": "code",
   "execution_count": 862,
   "metadata": {},
   "outputs": [],
   "source": [
    "df = df.groupby(['cpf']).apply(lambda x: x.loc[x['contract_tenure'].idxmax()]) # for person p at year y keeps the contract with the biggest tenure\n",
    "df = df.reset_index(drop = True)"
   ]
  },
  {
   "cell_type": "code",
   "execution_count": 863,
   "metadata": {},
   "outputs": [],
   "source": [
    "df['hours'] = df['hours'].astype(float)"
   ]
  },
  {
   "cell_type": "code",
   "execution_count": 864,
   "metadata": {},
   "outputs": [],
   "source": [
    "# in case there are contracts with the same number of tenure, keep the one with biggest hours contracted\n",
    "df = df.groupby(['cpf']).apply(lambda x: x.loc[x['hours'].idxmax()]) # for person p at year y keeps the contract with the biggest hours\n",
    "df = df.reset_index(drop = True)"
   ]
  },
  {
   "cell_type": "code",
   "execution_count": 865,
   "metadata": {},
   "outputs": [],
   "source": [
    "# In case person p at year y has more than one contract with the same number of tenure and hours, we keep one of them ramdomly\n",
    "df = df.groupby(\"cpf\").apply(lambda x: x.sample(1)) # group by ID and select a random row from each ID\n",
    "df.reset_index(drop = True, inplace = True)"
   ]
  },
  {
   "cell_type": "markdown",
   "metadata": {},
   "source": [
    "- Duplicates were happening because we tried to keep only the occupation with the highest number of months that a person worked, there are some people that worked the same amount in different occupations. Therefore we'll keep one of the duplicated choosing it randomly  "
   ]
  },
  {
   "cell_type": "code",
   "execution_count": 866,
   "metadata": {},
   "outputs": [
    {
     "name": "stdout",
     "output_type": "stream",
     "text": [
      "<class 'pandas.core.frame.DataFrame'>\n",
      "RangeIndex: 515 entries, 0 to 514\n",
      "Data columns (total 25 columns):\n",
      " #   Column                      Non-Null Count  Dtype         \n",
      "---  ------                      --------------  -----         \n",
      " 0   cpf                         515 non-null    object        \n",
      " 1   pis                         515 non-null    object        \n",
      " 2   nome_rais                   515 non-null    object        \n",
      " 3   id_municipio_rais           515 non-null    object        \n",
      " 4   cnpj_raiz                   515 non-null    object        \n",
      " 5   cbo_2002                    515 non-null    object        \n",
      " 6   data_adm                    515 non-null    datetime64[ns]\n",
      " 7   tenure                      515 non-null    float64       \n",
      " 8   vinc_ativ3112               515 non-null    object        \n",
      " 9   hours                       515 non-null    float64       \n",
      " 10  Ano                         515 non-null    float64       \n",
      " 11  Estado                      515 non-null    object        \n",
      " 12  cbo_2002_original           515 non-null    object        \n",
      " 13  n_pis                       515 non-null    float64       \n",
      " 14  n_pis_new                   515 non-null    int64         \n",
      " 15  count                       515 non-null    int64         \n",
      " 16  contract_id                 515 non-null    int64         \n",
      " 17  n_contracts                 515 non-null    int64         \n",
      " 18  n_contracts_year            515 non-null    int64         \n",
      " 19  contract_first_year         515 non-null    float64       \n",
      " 20  contract_last_year          515 non-null    float64       \n",
      " 21  contract_first_year_tenure  515 non-null    float64       \n",
      " 22  contract_last_year_tenure   515 non-null    float64       \n",
      " 23  contract_tenure             515 non-null    float64       \n",
      " 24  stem_job                    515 non-null    int64         \n",
      "dtypes: datetime64[ns](1), float64(9), int64(6), object(9)\n",
      "memory usage: 100.7+ KB\n"
     ]
    }
   ],
   "source": [
    "df.info()"
   ]
  },
  {
   "cell_type": "code",
   "execution_count": 867,
   "metadata": {},
   "outputs": [
    {
     "data": {
      "text/html": [
       "<div>\n",
       "<style scoped>\n",
       "    .dataframe tbody tr th:only-of-type {\n",
       "        vertical-align: middle;\n",
       "    }\n",
       "\n",
       "    .dataframe tbody tr th {\n",
       "        vertical-align: top;\n",
       "    }\n",
       "\n",
       "    .dataframe thead th {\n",
       "        text-align: right;\n",
       "    }\n",
       "</style>\n",
       "<table border=\"1\" class=\"dataframe\">\n",
       "  <thead>\n",
       "    <tr style=\"text-align: right;\">\n",
       "      <th></th>\n",
       "      <th>tenure</th>\n",
       "      <th>hours</th>\n",
       "      <th>Ano</th>\n",
       "      <th>n_pis</th>\n",
       "      <th>n_pis_new</th>\n",
       "      <th>count</th>\n",
       "      <th>contract_id</th>\n",
       "      <th>n_contracts</th>\n",
       "      <th>n_contracts_year</th>\n",
       "      <th>contract_first_year</th>\n",
       "      <th>contract_last_year</th>\n",
       "      <th>contract_first_year_tenure</th>\n",
       "      <th>contract_last_year_tenure</th>\n",
       "      <th>contract_tenure</th>\n",
       "      <th>stem_job</th>\n",
       "    </tr>\n",
       "  </thead>\n",
       "  <tbody>\n",
       "    <tr>\n",
       "      <th>count</th>\n",
       "      <td>515.000000</td>\n",
       "      <td>515.000000</td>\n",
       "      <td>515.000000</td>\n",
       "      <td>515.000000</td>\n",
       "      <td>515.000000</td>\n",
       "      <td>515.000000</td>\n",
       "      <td>515.000000</td>\n",
       "      <td>515.000000</td>\n",
       "      <td>515.000000</td>\n",
       "      <td>515.000000</td>\n",
       "      <td>515.000000</td>\n",
       "      <td>515.000000</td>\n",
       "      <td>515.000000</td>\n",
       "      <td>515.000000</td>\n",
       "      <td>515.0</td>\n",
       "    </tr>\n",
       "    <tr>\n",
       "      <th>mean</th>\n",
       "      <td>121.365048</td>\n",
       "      <td>35.763107</td>\n",
       "      <td>2011.755340</td>\n",
       "      <td>1.122330</td>\n",
       "      <td>1.100971</td>\n",
       "      <td>3.871845</td>\n",
       "      <td>14513.930097</td>\n",
       "      <td>4.627184</td>\n",
       "      <td>1.363107</td>\n",
       "      <td>2008.566990</td>\n",
       "      <td>2011.755340</td>\n",
       "      <td>83.096505</td>\n",
       "      <td>121.365048</td>\n",
       "      <td>41.487378</td>\n",
       "      <td>1.0</td>\n",
       "    </tr>\n",
       "    <tr>\n",
       "      <th>std</th>\n",
       "      <td>123.292450</td>\n",
       "      <td>10.196618</td>\n",
       "      <td>4.828815</td>\n",
       "      <td>0.402553</td>\n",
       "      <td>0.320352</td>\n",
       "      <td>3.618355</td>\n",
       "      <td>8189.222425</td>\n",
       "      <td>3.080129</td>\n",
       "      <td>0.634757</td>\n",
       "      <td>4.325843</td>\n",
       "      <td>4.828815</td>\n",
       "      <td>102.886606</td>\n",
       "      <td>123.292450</td>\n",
       "      <td>47.309276</td>\n",
       "      <td>0.0</td>\n",
       "    </tr>\n",
       "    <tr>\n",
       "      <th>min</th>\n",
       "      <td>0.900000</td>\n",
       "      <td>1.000000</td>\n",
       "      <td>2003.000000</td>\n",
       "      <td>1.000000</td>\n",
       "      <td>1.000000</td>\n",
       "      <td>1.000000</td>\n",
       "      <td>103.000000</td>\n",
       "      <td>1.000000</td>\n",
       "      <td>1.000000</td>\n",
       "      <td>2003.000000</td>\n",
       "      <td>2003.000000</td>\n",
       "      <td>0.400000</td>\n",
       "      <td>0.900000</td>\n",
       "      <td>0.900000</td>\n",
       "      <td>1.0</td>\n",
       "    </tr>\n",
       "    <tr>\n",
       "      <th>25%</th>\n",
       "      <td>20.200000</td>\n",
       "      <td>30.000000</td>\n",
       "      <td>2007.000000</td>\n",
       "      <td>1.000000</td>\n",
       "      <td>1.000000</td>\n",
       "      <td>1.000000</td>\n",
       "      <td>7429.500000</td>\n",
       "      <td>2.000000</td>\n",
       "      <td>1.000000</td>\n",
       "      <td>2005.000000</td>\n",
       "      <td>2007.000000</td>\n",
       "      <td>8.600000</td>\n",
       "      <td>20.200000</td>\n",
       "      <td>12.000000</td>\n",
       "      <td>1.0</td>\n",
       "    </tr>\n",
       "    <tr>\n",
       "      <th>50%</th>\n",
       "      <td>76.900000</td>\n",
       "      <td>40.000000</td>\n",
       "      <td>2012.000000</td>\n",
       "      <td>1.000000</td>\n",
       "      <td>1.000000</td>\n",
       "      <td>2.000000</td>\n",
       "      <td>13900.000000</td>\n",
       "      <td>4.000000</td>\n",
       "      <td>1.000000</td>\n",
       "      <td>2008.000000</td>\n",
       "      <td>2012.000000</td>\n",
       "      <td>27.800000</td>\n",
       "      <td>76.900000</td>\n",
       "      <td>12.000000</td>\n",
       "      <td>1.0</td>\n",
       "    </tr>\n",
       "    <tr>\n",
       "      <th>75%</th>\n",
       "      <td>195.500000</td>\n",
       "      <td>44.000000</td>\n",
       "      <td>2017.000000</td>\n",
       "      <td>1.000000</td>\n",
       "      <td>1.000000</td>\n",
       "      <td>6.000000</td>\n",
       "      <td>21243.500000</td>\n",
       "      <td>6.000000</td>\n",
       "      <td>2.000000</td>\n",
       "      <td>2012.000000</td>\n",
       "      <td>2017.000000</td>\n",
       "      <td>140.700000</td>\n",
       "      <td>195.500000</td>\n",
       "      <td>60.000001</td>\n",
       "      <td>1.0</td>\n",
       "    </tr>\n",
       "    <tr>\n",
       "      <th>max</th>\n",
       "      <td>537.900000</td>\n",
       "      <td>44.000000</td>\n",
       "      <td>2018.000000</td>\n",
       "      <td>6.000000</td>\n",
       "      <td>3.000000</td>\n",
       "      <td>16.000000</td>\n",
       "      <td>29214.000000</td>\n",
       "      <td>29.000000</td>\n",
       "      <td>4.000000</td>\n",
       "      <td>2018.000000</td>\n",
       "      <td>2018.000000</td>\n",
       "      <td>465.900000</td>\n",
       "      <td>537.900000</td>\n",
       "      <td>168.100012</td>\n",
       "      <td>1.0</td>\n",
       "    </tr>\n",
       "  </tbody>\n",
       "</table>\n",
       "</div>"
      ],
      "text/plain": [
       "           tenure       hours          Ano       n_pis   n_pis_new  \\\n",
       "count  515.000000  515.000000   515.000000  515.000000  515.000000   \n",
       "mean   121.365048   35.763107  2011.755340    1.122330    1.100971   \n",
       "std    123.292450   10.196618     4.828815    0.402553    0.320352   \n",
       "min      0.900000    1.000000  2003.000000    1.000000    1.000000   \n",
       "25%     20.200000   30.000000  2007.000000    1.000000    1.000000   \n",
       "50%     76.900000   40.000000  2012.000000    1.000000    1.000000   \n",
       "75%    195.500000   44.000000  2017.000000    1.000000    1.000000   \n",
       "max    537.900000   44.000000  2018.000000    6.000000    3.000000   \n",
       "\n",
       "            count   contract_id  n_contracts  n_contracts_year  \\\n",
       "count  515.000000    515.000000   515.000000        515.000000   \n",
       "mean     3.871845  14513.930097     4.627184          1.363107   \n",
       "std      3.618355   8189.222425     3.080129          0.634757   \n",
       "min      1.000000    103.000000     1.000000          1.000000   \n",
       "25%      1.000000   7429.500000     2.000000          1.000000   \n",
       "50%      2.000000  13900.000000     4.000000          1.000000   \n",
       "75%      6.000000  21243.500000     6.000000          2.000000   \n",
       "max     16.000000  29214.000000    29.000000          4.000000   \n",
       "\n",
       "       contract_first_year  contract_last_year  contract_first_year_tenure  \\\n",
       "count           515.000000          515.000000                  515.000000   \n",
       "mean           2008.566990         2011.755340                   83.096505   \n",
       "std               4.325843            4.828815                  102.886606   \n",
       "min            2003.000000         2003.000000                    0.400000   \n",
       "25%            2005.000000         2007.000000                    8.600000   \n",
       "50%            2008.000000         2012.000000                   27.800000   \n",
       "75%            2012.000000         2017.000000                  140.700000   \n",
       "max            2018.000000         2018.000000                  465.900000   \n",
       "\n",
       "       contract_last_year_tenure  contract_tenure  stem_job  \n",
       "count                 515.000000       515.000000     515.0  \n",
       "mean                  121.365048        41.487378       1.0  \n",
       "std                   123.292450        47.309276       0.0  \n",
       "min                     0.900000         0.900000       1.0  \n",
       "25%                    20.200000        12.000000       1.0  \n",
       "50%                    76.900000        12.000000       1.0  \n",
       "75%                   195.500000        60.000001       1.0  \n",
       "max                   537.900000       168.100012       1.0  "
      ]
     },
     "execution_count": 867,
     "metadata": {},
     "output_type": "execute_result"
    }
   ],
   "source": [
    "df.describe()"
   ]
  },
  {
   "cell_type": "markdown",
   "metadata": {},
   "source": [
    "## Creating column \"cbo_max\" that indicates the STEM job with more tenure"
   ]
  },
  {
   "cell_type": "code",
   "execution_count": 868,
   "metadata": {},
   "outputs": [],
   "source": [
    "df[\"total_tenure\"] = df.groupby(['cpf'])['contract_tenure'].transform('sum') # total months in STEM occupations per person "
   ]
  },
  {
   "cell_type": "code",
   "execution_count": 869,
   "metadata": {},
   "outputs": [
    {
     "data": {
      "text/html": [
       "<div>\n",
       "<style scoped>\n",
       "    .dataframe tbody tr th:only-of-type {\n",
       "        vertical-align: middle;\n",
       "    }\n",
       "\n",
       "    .dataframe tbody tr th {\n",
       "        vertical-align: top;\n",
       "    }\n",
       "\n",
       "    .dataframe thead th {\n",
       "        text-align: right;\n",
       "    }\n",
       "</style>\n",
       "<table border=\"1\" class=\"dataframe\">\n",
       "  <thead>\n",
       "    <tr style=\"text-align: right;\">\n",
       "      <th></th>\n",
       "      <th>tenure</th>\n",
       "      <th>hours</th>\n",
       "      <th>Ano</th>\n",
       "      <th>n_pis</th>\n",
       "      <th>n_pis_new</th>\n",
       "      <th>count</th>\n",
       "      <th>contract_id</th>\n",
       "      <th>n_contracts</th>\n",
       "      <th>n_contracts_year</th>\n",
       "      <th>contract_first_year</th>\n",
       "      <th>contract_last_year</th>\n",
       "      <th>contract_first_year_tenure</th>\n",
       "      <th>contract_last_year_tenure</th>\n",
       "      <th>contract_tenure</th>\n",
       "      <th>stem_job</th>\n",
       "      <th>total_tenure</th>\n",
       "    </tr>\n",
       "  </thead>\n",
       "  <tbody>\n",
       "    <tr>\n",
       "      <th>count</th>\n",
       "      <td>515.000000</td>\n",
       "      <td>515.000000</td>\n",
       "      <td>515.000000</td>\n",
       "      <td>515.000000</td>\n",
       "      <td>515.000000</td>\n",
       "      <td>515.000000</td>\n",
       "      <td>515.000000</td>\n",
       "      <td>515.000000</td>\n",
       "      <td>515.000000</td>\n",
       "      <td>515.000000</td>\n",
       "      <td>515.000000</td>\n",
       "      <td>515.000000</td>\n",
       "      <td>515.000000</td>\n",
       "      <td>515.000000</td>\n",
       "      <td>515.0</td>\n",
       "      <td>515.000000</td>\n",
       "    </tr>\n",
       "    <tr>\n",
       "      <th>mean</th>\n",
       "      <td>121.365048</td>\n",
       "      <td>35.763107</td>\n",
       "      <td>2011.755340</td>\n",
       "      <td>1.122330</td>\n",
       "      <td>1.100971</td>\n",
       "      <td>3.871845</td>\n",
       "      <td>14513.930097</td>\n",
       "      <td>4.627184</td>\n",
       "      <td>1.363107</td>\n",
       "      <td>2008.566990</td>\n",
       "      <td>2011.755340</td>\n",
       "      <td>83.096505</td>\n",
       "      <td>121.365048</td>\n",
       "      <td>41.487378</td>\n",
       "      <td>1.0</td>\n",
       "      <td>41.487378</td>\n",
       "    </tr>\n",
       "    <tr>\n",
       "      <th>std</th>\n",
       "      <td>123.292450</td>\n",
       "      <td>10.196618</td>\n",
       "      <td>4.828815</td>\n",
       "      <td>0.402553</td>\n",
       "      <td>0.320352</td>\n",
       "      <td>3.618355</td>\n",
       "      <td>8189.222425</td>\n",
       "      <td>3.080129</td>\n",
       "      <td>0.634757</td>\n",
       "      <td>4.325843</td>\n",
       "      <td>4.828815</td>\n",
       "      <td>102.886606</td>\n",
       "      <td>123.292450</td>\n",
       "      <td>47.309276</td>\n",
       "      <td>0.0</td>\n",
       "      <td>47.309276</td>\n",
       "    </tr>\n",
       "    <tr>\n",
       "      <th>min</th>\n",
       "      <td>0.900000</td>\n",
       "      <td>1.000000</td>\n",
       "      <td>2003.000000</td>\n",
       "      <td>1.000000</td>\n",
       "      <td>1.000000</td>\n",
       "      <td>1.000000</td>\n",
       "      <td>103.000000</td>\n",
       "      <td>1.000000</td>\n",
       "      <td>1.000000</td>\n",
       "      <td>2003.000000</td>\n",
       "      <td>2003.000000</td>\n",
       "      <td>0.400000</td>\n",
       "      <td>0.900000</td>\n",
       "      <td>0.900000</td>\n",
       "      <td>1.0</td>\n",
       "      <td>0.900000</td>\n",
       "    </tr>\n",
       "    <tr>\n",
       "      <th>25%</th>\n",
       "      <td>20.200000</td>\n",
       "      <td>30.000000</td>\n",
       "      <td>2007.000000</td>\n",
       "      <td>1.000000</td>\n",
       "      <td>1.000000</td>\n",
       "      <td>1.000000</td>\n",
       "      <td>7429.500000</td>\n",
       "      <td>2.000000</td>\n",
       "      <td>1.000000</td>\n",
       "      <td>2005.000000</td>\n",
       "      <td>2007.000000</td>\n",
       "      <td>8.600000</td>\n",
       "      <td>20.200000</td>\n",
       "      <td>12.000000</td>\n",
       "      <td>1.0</td>\n",
       "      <td>12.000000</td>\n",
       "    </tr>\n",
       "    <tr>\n",
       "      <th>50%</th>\n",
       "      <td>76.900000</td>\n",
       "      <td>40.000000</td>\n",
       "      <td>2012.000000</td>\n",
       "      <td>1.000000</td>\n",
       "      <td>1.000000</td>\n",
       "      <td>2.000000</td>\n",
       "      <td>13900.000000</td>\n",
       "      <td>4.000000</td>\n",
       "      <td>1.000000</td>\n",
       "      <td>2008.000000</td>\n",
       "      <td>2012.000000</td>\n",
       "      <td>27.800000</td>\n",
       "      <td>76.900000</td>\n",
       "      <td>12.000000</td>\n",
       "      <td>1.0</td>\n",
       "      <td>12.000000</td>\n",
       "    </tr>\n",
       "    <tr>\n",
       "      <th>75%</th>\n",
       "      <td>195.500000</td>\n",
       "      <td>44.000000</td>\n",
       "      <td>2017.000000</td>\n",
       "      <td>1.000000</td>\n",
       "      <td>1.000000</td>\n",
       "      <td>6.000000</td>\n",
       "      <td>21243.500000</td>\n",
       "      <td>6.000000</td>\n",
       "      <td>2.000000</td>\n",
       "      <td>2012.000000</td>\n",
       "      <td>2017.000000</td>\n",
       "      <td>140.700000</td>\n",
       "      <td>195.500000</td>\n",
       "      <td>60.000001</td>\n",
       "      <td>1.0</td>\n",
       "      <td>60.000001</td>\n",
       "    </tr>\n",
       "    <tr>\n",
       "      <th>max</th>\n",
       "      <td>537.900000</td>\n",
       "      <td>44.000000</td>\n",
       "      <td>2018.000000</td>\n",
       "      <td>6.000000</td>\n",
       "      <td>3.000000</td>\n",
       "      <td>16.000000</td>\n",
       "      <td>29214.000000</td>\n",
       "      <td>29.000000</td>\n",
       "      <td>4.000000</td>\n",
       "      <td>2018.000000</td>\n",
       "      <td>2018.000000</td>\n",
       "      <td>465.900000</td>\n",
       "      <td>537.900000</td>\n",
       "      <td>168.100012</td>\n",
       "      <td>1.0</td>\n",
       "      <td>168.100012</td>\n",
       "    </tr>\n",
       "  </tbody>\n",
       "</table>\n",
       "</div>"
      ],
      "text/plain": [
       "           tenure       hours          Ano       n_pis   n_pis_new  \\\n",
       "count  515.000000  515.000000   515.000000  515.000000  515.000000   \n",
       "mean   121.365048   35.763107  2011.755340    1.122330    1.100971   \n",
       "std    123.292450   10.196618     4.828815    0.402553    0.320352   \n",
       "min      0.900000    1.000000  2003.000000    1.000000    1.000000   \n",
       "25%     20.200000   30.000000  2007.000000    1.000000    1.000000   \n",
       "50%     76.900000   40.000000  2012.000000    1.000000    1.000000   \n",
       "75%    195.500000   44.000000  2017.000000    1.000000    1.000000   \n",
       "max    537.900000   44.000000  2018.000000    6.000000    3.000000   \n",
       "\n",
       "            count   contract_id  n_contracts  n_contracts_year  \\\n",
       "count  515.000000    515.000000   515.000000        515.000000   \n",
       "mean     3.871845  14513.930097     4.627184          1.363107   \n",
       "std      3.618355   8189.222425     3.080129          0.634757   \n",
       "min      1.000000    103.000000     1.000000          1.000000   \n",
       "25%      1.000000   7429.500000     2.000000          1.000000   \n",
       "50%      2.000000  13900.000000     4.000000          1.000000   \n",
       "75%      6.000000  21243.500000     6.000000          2.000000   \n",
       "max     16.000000  29214.000000    29.000000          4.000000   \n",
       "\n",
       "       contract_first_year  contract_last_year  contract_first_year_tenure  \\\n",
       "count           515.000000          515.000000                  515.000000   \n",
       "mean           2008.566990         2011.755340                   83.096505   \n",
       "std               4.325843            4.828815                  102.886606   \n",
       "min            2003.000000         2003.000000                    0.400000   \n",
       "25%            2005.000000         2007.000000                    8.600000   \n",
       "50%            2008.000000         2012.000000                   27.800000   \n",
       "75%            2012.000000         2017.000000                  140.700000   \n",
       "max            2018.000000         2018.000000                  465.900000   \n",
       "\n",
       "       contract_last_year_tenure  contract_tenure  stem_job  total_tenure  \n",
       "count                 515.000000       515.000000     515.0    515.000000  \n",
       "mean                  121.365048        41.487378       1.0     41.487378  \n",
       "std                   123.292450        47.309276       0.0     47.309276  \n",
       "min                     0.900000         0.900000       1.0      0.900000  \n",
       "25%                    20.200000        12.000000       1.0     12.000000  \n",
       "50%                    76.900000        12.000000       1.0     12.000000  \n",
       "75%                   195.500000        60.000001       1.0     60.000001  \n",
       "max                   537.900000       168.100012       1.0    168.100012  "
      ]
     },
     "execution_count": 869,
     "metadata": {},
     "output_type": "execute_result"
    }
   ],
   "source": [
    "df.describe()"
   ]
  },
  {
   "cell_type": "code",
   "execution_count": 870,
   "metadata": {},
   "outputs": [],
   "source": [
    "df = df.rename(columns = {\"tenure\": \"tenure_rais\"})"
   ]
  },
  {
   "cell_type": "code",
   "execution_count": 871,
   "metadata": {},
   "outputs": [],
   "source": [
    "df = df.rename(columns = {\"total_tenure\": \"tenure\"})"
   ]
  },
  {
   "cell_type": "code",
   "execution_count": 872,
   "metadata": {},
   "outputs": [],
   "source": [
    "df[\"max_contract_tenure\"] = df.groupby(['cpf'])['contract_tenure'].transform('max') # creates a variable with the highest number of months that a person worked "
   ]
  },
  {
   "cell_type": "code",
   "execution_count": 873,
   "metadata": {},
   "outputs": [],
   "source": [
    "df = df[(df[\"max_contract_tenure\"] == df[\"contract_tenure\"])] # keeping only the occupation with the highest number of months that a person worked  "
   ]
  },
  {
   "cell_type": "markdown",
   "metadata": {},
   "source": [
    "- é possível que as duplicatas estejam vindo daqui. Se um cara trabalhou o mesmo tempo em duas profissões, vai dar duplicado.\n",
    "- uma alternativa é manter apenas a profissão com o salário mais alto no caso de duplicata."
   ]
  },
  {
   "cell_type": "code",
   "execution_count": 875,
   "metadata": {
    "scrolled": true
   },
   "outputs": [],
   "source": [
    "# droping acessory variables\n",
    "df = df.drop(columns = ['Ano', 'contract_first_year_tenure', 'n_contracts_year', 'contract_last_year_tenure', 'contract_first_year','contract_last_year', 'contract_tenure', 'max_contract_tenure', 'contract_id', 'count', 'n_pis', 'cbo_2002_original', 'cnpj_raiz'])"
   ]
  },
  {
   "cell_type": "code",
   "execution_count": 876,
   "metadata": {},
   "outputs": [
    {
     "name": "stdout",
     "output_type": "stream",
     "text": [
      "<class 'pandas.core.frame.DataFrame'>\n",
      "Int64Index: 515 entries, 0 to 514\n",
      "Data columns (total 14 columns):\n",
      " #   Column             Non-Null Count  Dtype         \n",
      "---  ------             --------------  -----         \n",
      " 0   cpf                515 non-null    object        \n",
      " 1   pis                515 non-null    object        \n",
      " 2   nome_rais          515 non-null    object        \n",
      " 3   id_municipio_rais  515 non-null    object        \n",
      " 4   cbo_2002           515 non-null    object        \n",
      " 5   data_adm           515 non-null    datetime64[ns]\n",
      " 6   tenure_rais        515 non-null    float64       \n",
      " 7   vinc_ativ3112      515 non-null    object        \n",
      " 8   hours              515 non-null    float64       \n",
      " 9   Estado             515 non-null    object        \n",
      " 10  n_pis_new          515 non-null    int64         \n",
      " 11  n_contracts        515 non-null    int64         \n",
      " 12  stem_job           515 non-null    int64         \n",
      " 13  tenure             515 non-null    float64       \n",
      "dtypes: datetime64[ns](1), float64(3), int64(3), object(7)\n",
      "memory usage: 76.5+ KB\n"
     ]
    }
   ],
   "source": [
    "df.info()"
   ]
  },
  {
   "cell_type": "markdown",
   "metadata": {},
   "source": [
    "## Merging electoral data (df_canidates) with STEM mayors' occupational data (df_tenure_only_stem) "
   ]
  },
  {
   "cell_type": "code",
   "execution_count": 877,
   "metadata": {},
   "outputs": [],
   "source": [
    "df = pd.merge(df, df_candidates, how = \"outer\", on = \"cpf\", indicator = True, validate = \"one_to_one\")"
   ]
  },
  {
   "cell_type": "code",
   "execution_count": 878,
   "metadata": {},
   "outputs": [],
   "source": [
    "df[\"stem_job\"].fillna(0, inplace=True) # classifies all candidates that didn't have a formal STEM job as a Non-STEM candidate"
   ]
  },
  {
   "cell_type": "code",
   "execution_count": 879,
   "metadata": {},
   "outputs": [],
   "source": [
    "df[\"tenure\"].fillna(0, inplace = True) # gives 0 of exposure intensity to Non-STEM candidates"
   ]
  },
  {
   "cell_type": "code",
   "execution_count": 880,
   "metadata": {
    "scrolled": true
   },
   "outputs": [
    {
     "data": {
      "text/html": [
       "<div>\n",
       "<style scoped>\n",
       "    .dataframe tbody tr th:only-of-type {\n",
       "        vertical-align: middle;\n",
       "    }\n",
       "\n",
       "    .dataframe tbody tr th {\n",
       "        vertical-align: top;\n",
       "    }\n",
       "\n",
       "    .dataframe thead th {\n",
       "        text-align: right;\n",
       "    }\n",
       "</style>\n",
       "<table border=\"1\" class=\"dataframe\">\n",
       "  <thead>\n",
       "    <tr style=\"text-align: right;\">\n",
       "      <th></th>\n",
       "      <th>tenure_rais</th>\n",
       "      <th>hours</th>\n",
       "      <th>n_pis_new</th>\n",
       "      <th>n_contracts</th>\n",
       "      <th>stem_job</th>\n",
       "      <th>tenure</th>\n",
       "    </tr>\n",
       "  </thead>\n",
       "  <tbody>\n",
       "    <tr>\n",
       "      <th>count</th>\n",
       "      <td>515.000000</td>\n",
       "      <td>515.000000</td>\n",
       "      <td>515.000000</td>\n",
       "      <td>515.000000</td>\n",
       "      <td>13585.000000</td>\n",
       "      <td>13585.000000</td>\n",
       "    </tr>\n",
       "    <tr>\n",
       "      <th>mean</th>\n",
       "      <td>121.365048</td>\n",
       "      <td>35.763107</td>\n",
       "      <td>1.100971</td>\n",
       "      <td>4.627184</td>\n",
       "      <td>0.037909</td>\n",
       "      <td>1.572764</td>\n",
       "    </tr>\n",
       "    <tr>\n",
       "      <th>std</th>\n",
       "      <td>123.292450</td>\n",
       "      <td>10.196618</td>\n",
       "      <td>0.320352</td>\n",
       "      <td>3.080129</td>\n",
       "      <td>0.190984</td>\n",
       "      <td>12.143727</td>\n",
       "    </tr>\n",
       "    <tr>\n",
       "      <th>min</th>\n",
       "      <td>0.900000</td>\n",
       "      <td>1.000000</td>\n",
       "      <td>1.000000</td>\n",
       "      <td>1.000000</td>\n",
       "      <td>0.000000</td>\n",
       "      <td>0.000000</td>\n",
       "    </tr>\n",
       "    <tr>\n",
       "      <th>25%</th>\n",
       "      <td>20.200000</td>\n",
       "      <td>30.000000</td>\n",
       "      <td>1.000000</td>\n",
       "      <td>2.000000</td>\n",
       "      <td>0.000000</td>\n",
       "      <td>0.000000</td>\n",
       "    </tr>\n",
       "    <tr>\n",
       "      <th>50%</th>\n",
       "      <td>76.900000</td>\n",
       "      <td>40.000000</td>\n",
       "      <td>1.000000</td>\n",
       "      <td>4.000000</td>\n",
       "      <td>0.000000</td>\n",
       "      <td>0.000000</td>\n",
       "    </tr>\n",
       "    <tr>\n",
       "      <th>75%</th>\n",
       "      <td>195.500000</td>\n",
       "      <td>44.000000</td>\n",
       "      <td>1.000000</td>\n",
       "      <td>6.000000</td>\n",
       "      <td>0.000000</td>\n",
       "      <td>0.000000</td>\n",
       "    </tr>\n",
       "    <tr>\n",
       "      <th>max</th>\n",
       "      <td>537.900000</td>\n",
       "      <td>44.000000</td>\n",
       "      <td>3.000000</td>\n",
       "      <td>29.000000</td>\n",
       "      <td>1.000000</td>\n",
       "      <td>168.100012</td>\n",
       "    </tr>\n",
       "  </tbody>\n",
       "</table>\n",
       "</div>"
      ],
      "text/plain": [
       "       tenure_rais       hours   n_pis_new  n_contracts      stem_job  \\\n",
       "count   515.000000  515.000000  515.000000   515.000000  13585.000000   \n",
       "mean    121.365048   35.763107    1.100971     4.627184      0.037909   \n",
       "std     123.292450   10.196618    0.320352     3.080129      0.190984   \n",
       "min       0.900000    1.000000    1.000000     1.000000      0.000000   \n",
       "25%      20.200000   30.000000    1.000000     2.000000      0.000000   \n",
       "50%      76.900000   40.000000    1.000000     4.000000      0.000000   \n",
       "75%     195.500000   44.000000    1.000000     6.000000      0.000000   \n",
       "max     537.900000   44.000000    3.000000    29.000000      1.000000   \n",
       "\n",
       "             tenure  \n",
       "count  13585.000000  \n",
       "mean       1.572764  \n",
       "std       12.143727  \n",
       "min        0.000000  \n",
       "25%        0.000000  \n",
       "50%        0.000000  \n",
       "75%        0.000000  \n",
       "max      168.100012  "
      ]
     },
     "execution_count": 880,
     "metadata": {},
     "output_type": "execute_result"
    }
   ],
   "source": [
    "df.describe()"
   ]
  },
  {
   "cell_type": "markdown",
   "metadata": {},
   "source": [
    "# Creating variable \"rdd_stem_won\" that indicates whether the STEM candidates won "
   ]
  },
  {
   "cell_type": "code",
   "execution_count": 881,
   "metadata": {},
   "outputs": [
    {
     "name": "stdout",
     "output_type": "stream",
     "text": [
      "<class 'pandas.core.frame.DataFrame'>\n",
      "Int64Index: 13585 entries, 0 to 13584\n",
      "Data columns (total 37 columns):\n",
      " #   Column             Non-Null Count  Dtype         \n",
      "---  ------             --------------  -----         \n",
      " 0   cpf                13585 non-null  object        \n",
      " 1   pis                515 non-null    object        \n",
      " 2   nome_rais          515 non-null    object        \n",
      " 3   id_municipio_rais  515 non-null    object        \n",
      " 4   cbo_2002           515 non-null    object        \n",
      " 5   data_adm           515 non-null    datetime64[ns]\n",
      " 6   tenure_rais        515 non-null    float64       \n",
      " 7   vinc_ativ3112      515 non-null    object        \n",
      " 8   hours              515 non-null    float64       \n",
      " 9   Estado             515 non-null    object        \n",
      " 10  n_pis_new          515 non-null    float64       \n",
      " 11  n_contracts        515 non-null    float64       \n",
      " 12  stem_job           13585 non-null  float64       \n",
      " 13  tenure             13585 non-null  float64       \n",
      " 14  ano                13585 non-null  object        \n",
      " 15  tipo_eleicao       13585 non-null  object        \n",
      " 16  sigla_uf           13585 non-null  object        \n",
      " 17  id_municipio       13585 non-null  object        \n",
      " 18  nome               13585 non-null  object        \n",
      " 19  nome_urna          13585 non-null  object        \n",
      " 20  numero_partido     13585 non-null  object        \n",
      " 21  sigla_partido      13585 non-null  object        \n",
      " 22  cargo              13585 non-null  object        \n",
      " 23  situacao           13585 non-null  object        \n",
      " 24  ocupacao           13585 non-null  object        \n",
      " 25  idade              13585 non-null  object        \n",
      " 26  genero             13585 non-null  object        \n",
      " 27  instrucao          13585 non-null  object        \n",
      " 28  raca               13517 non-null  object        \n",
      " 29  resultado          13585 non-null  object        \n",
      " 30  2_lugar            13585 non-null  object        \n",
      " 31  3_lugar            13585 non-null  object        \n",
      " 32  dif_votos_2_lugar  13585 non-null  object        \n",
      " 33  dif_votos_3_lugar  9337 non-null   object        \n",
      " 34  first_name         13585 non-null  object        \n",
      " 35  last_name          13585 non-null  object        \n",
      " 36  _merge             13585 non-null  category      \n",
      "dtypes: category(1), datetime64[ns](1), float64(6), object(29)\n",
      "memory usage: 3.8+ MB\n"
     ]
    }
   ],
   "source": [
    "df.info()"
   ]
  },
  {
   "cell_type": "code",
   "execution_count": 882,
   "metadata": {},
   "outputs": [],
   "source": [
    "teste = pd.DataFrame(df.groupby([\"id_municipio\"]).stem_job.sum())"
   ]
  },
  {
   "cell_type": "code",
   "execution_count": 883,
   "metadata": {},
   "outputs": [],
   "source": [
    "teste.rename(columns = {\"stem_job\": \"n_stem_candidates\"}, inplace = True)"
   ]
  },
  {
   "cell_type": "code",
   "execution_count": 884,
   "metadata": {},
   "outputs": [],
   "source": [
    "df = df.drop(columns = \"_merge\")"
   ]
  },
  {
   "cell_type": "code",
   "execution_count": 885,
   "metadata": {},
   "outputs": [],
   "source": [
    "df = pd.merge(df, teste, how = \"left\", on = \"id_municipio\", indicator = True)"
   ]
  },
  {
   "cell_type": "code",
   "execution_count": 886,
   "metadata": {},
   "outputs": [
    {
     "data": {
      "text/plain": [
       "0.0    12241\n",
       "1.0     1279\n",
       "2.0       65\n",
       "Name: n_stem_candidates, dtype: int64"
      ]
     },
     "execution_count": 886,
     "metadata": {},
     "output_type": "execute_result"
    }
   ],
   "source": [
    "df.n_stem_candidates.value_counts()"
   ]
  },
  {
   "cell_type": "code",
   "execution_count": 887,
   "metadata": {},
   "outputs": [
    {
     "data": {
      "text/plain": [
       "(211, 38)"
      ]
     },
     "execution_count": 887,
     "metadata": {},
     "output_type": "execute_result"
    }
   ],
   "source": [
    "df.query(\"resultado == 'eleito' & stem_job == 1\").shape"
   ]
  },
  {
   "cell_type": "code",
   "execution_count": 888,
   "metadata": {},
   "outputs": [],
   "source": [
    "df[\"stem_won\"] = ((df[\"resultado\"] == 'eleito') & (df[\"stem_job\"] == 1)).astype(int) # creates dummy"
   ]
  },
  {
   "cell_type": "markdown",
   "metadata": {},
   "source": [
    "# Droping stem candidates whose election was invalidated"
   ]
  },
  {
   "cell_type": "code",
   "execution_count": 889,
   "metadata": {},
   "outputs": [
    {
     "data": {
      "text/plain": [
       "deferido                508\n",
       "deferido com recurso      6\n",
       "cassado com recurso       1\n",
       "Name: situacao, dtype: int64"
      ]
     },
     "execution_count": 889,
     "metadata": {},
     "output_type": "execute_result"
    }
   ],
   "source": [
    "df[df[\"stem_job\"] == 1].situacao.value_counts()"
   ]
  },
  {
   "cell_type": "markdown",
   "metadata": {},
   "source": [
    "# Saving"
   ]
  },
  {
   "cell_type": "code",
   "execution_count": 890,
   "metadata": {},
   "outputs": [],
   "source": [
    "# droping variables that we won't use\n",
    "df = df.drop(columns = ['_merge', 'data_adm'])"
   ]
  },
  {
   "cell_type": "code",
   "execution_count": 891,
   "metadata": {},
   "outputs": [],
   "source": [
    "# changing types\n",
    "df.ano = df.ano.astype(int)\n",
    "df.idade = df.idade.astype(float)\n",
    "df.dif_votos_2_lugar = df.dif_votos_2_lugar.astype(float)\n",
    "df.dif_votos_3_lugar = df.dif_votos_3_lugar.astype(float)"
   ]
  },
  {
   "cell_type": "code",
   "execution_count": 892,
   "metadata": {},
   "outputs": [
    {
     "name": "stdout",
     "output_type": "stream",
     "text": [
      "<class 'pandas.core.frame.DataFrame'>\n",
      "Int64Index: 13585 entries, 0 to 13584\n",
      "Data columns (total 37 columns):\n",
      " #   Column             Non-Null Count  Dtype  \n",
      "---  ------             --------------  -----  \n",
      " 0   cpf                13585 non-null  object \n",
      " 1   pis                515 non-null    object \n",
      " 2   nome_rais          515 non-null    object \n",
      " 3   id_municipio_rais  515 non-null    object \n",
      " 4   cbo_2002           515 non-null    object \n",
      " 5   tenure_rais        515 non-null    float64\n",
      " 6   vinc_ativ3112      515 non-null    object \n",
      " 7   hours              515 non-null    float64\n",
      " 8   Estado             515 non-null    object \n",
      " 9   n_pis_new          515 non-null    float64\n",
      " 10  n_contracts        515 non-null    float64\n",
      " 11  stem_job           13585 non-null  float64\n",
      " 12  tenure             13585 non-null  float64\n",
      " 13  ano                13585 non-null  int32  \n",
      " 14  tipo_eleicao       13585 non-null  object \n",
      " 15  sigla_uf           13585 non-null  object \n",
      " 16  id_municipio       13585 non-null  object \n",
      " 17  nome               13585 non-null  object \n",
      " 18  nome_urna          13585 non-null  object \n",
      " 19  numero_partido     13585 non-null  object \n",
      " 20  sigla_partido      13585 non-null  object \n",
      " 21  cargo              13585 non-null  object \n",
      " 22  situacao           13585 non-null  object \n",
      " 23  ocupacao           13585 non-null  object \n",
      " 24  idade              13585 non-null  float64\n",
      " 25  genero             13585 non-null  object \n",
      " 26  instrucao          13585 non-null  object \n",
      " 27  raca               13517 non-null  object \n",
      " 28  resultado          13585 non-null  object \n",
      " 29  2_lugar            13585 non-null  object \n",
      " 30  3_lugar            13585 non-null  object \n",
      " 31  dif_votos_2_lugar  13585 non-null  float64\n",
      " 32  dif_votos_3_lugar  9337 non-null   float64\n",
      " 33  first_name         13585 non-null  object \n",
      " 34  last_name          13585 non-null  object \n",
      " 35  n_stem_candidates  13585 non-null  float64\n",
      " 36  stem_won           13585 non-null  int32  \n",
      "dtypes: float64(10), int32(2), object(25)\n",
      "memory usage: 3.8+ MB\n"
     ]
    }
   ],
   "source": [
    "df.info()"
   ]
  },
  {
   "cell_type": "markdown",
   "metadata": {},
   "source": [
    "- cbo_2002 has a lower number of observations because we only got information on STEM occupations\n",
    "- dif_votos_3_lugar has a lower number of obs because we consider it missing when municipalities had less than 3 candidates"
   ]
  },
  {
   "cell_type": "code",
   "execution_count": 893,
   "metadata": {},
   "outputs": [
    {
     "data": {
      "text/html": [
       "<div>\n",
       "<style scoped>\n",
       "    .dataframe tbody tr th:only-of-type {\n",
       "        vertical-align: middle;\n",
       "    }\n",
       "\n",
       "    .dataframe tbody tr th {\n",
       "        vertical-align: top;\n",
       "    }\n",
       "\n",
       "    .dataframe thead th {\n",
       "        text-align: right;\n",
       "    }\n",
       "</style>\n",
       "<table border=\"1\" class=\"dataframe\">\n",
       "  <thead>\n",
       "    <tr style=\"text-align: right;\">\n",
       "      <th></th>\n",
       "      <th>tenure_rais</th>\n",
       "      <th>hours</th>\n",
       "      <th>n_pis_new</th>\n",
       "      <th>n_contracts</th>\n",
       "      <th>stem_job</th>\n",
       "      <th>tenure</th>\n",
       "      <th>ano</th>\n",
       "      <th>idade</th>\n",
       "      <th>dif_votos_2_lugar</th>\n",
       "      <th>dif_votos_3_lugar</th>\n",
       "      <th>n_stem_candidates</th>\n",
       "      <th>stem_won</th>\n",
       "    </tr>\n",
       "  </thead>\n",
       "  <tbody>\n",
       "    <tr>\n",
       "      <th>count</th>\n",
       "      <td>515.000000</td>\n",
       "      <td>515.000000</td>\n",
       "      <td>515.000000</td>\n",
       "      <td>515.000000</td>\n",
       "      <td>13585.000000</td>\n",
       "      <td>13585.000000</td>\n",
       "      <td>13585.0</td>\n",
       "      <td>13585.000000</td>\n",
       "      <td>13585.000000</td>\n",
       "      <td>9337.000000</td>\n",
       "      <td>13585.000000</td>\n",
       "      <td>13585.000000</td>\n",
       "    </tr>\n",
       "    <tr>\n",
       "      <th>mean</th>\n",
       "      <td>121.365048</td>\n",
       "      <td>35.763107</td>\n",
       "      <td>1.100971</td>\n",
       "      <td>4.627184</td>\n",
       "      <td>0.037909</td>\n",
       "      <td>1.572764</td>\n",
       "      <td>2020.0</td>\n",
       "      <td>49.763563</td>\n",
       "      <td>0.178352</td>\n",
       "      <td>0.393450</td>\n",
       "      <td>0.103717</td>\n",
       "      <td>0.015532</td>\n",
       "    </tr>\n",
       "    <tr>\n",
       "      <th>std</th>\n",
       "      <td>123.292450</td>\n",
       "      <td>10.196618</td>\n",
       "      <td>0.320352</td>\n",
       "      <td>3.080129</td>\n",
       "      <td>0.190984</td>\n",
       "      <td>12.143727</td>\n",
       "      <td>0.0</td>\n",
       "      <td>11.006271</td>\n",
       "      <td>0.171953</td>\n",
       "      <td>0.174863</td>\n",
       "      <td>0.320214</td>\n",
       "      <td>0.123660</td>\n",
       "    </tr>\n",
       "    <tr>\n",
       "      <th>min</th>\n",
       "      <td>0.900000</td>\n",
       "      <td>1.000000</td>\n",
       "      <td>1.000000</td>\n",
       "      <td>1.000000</td>\n",
       "      <td>0.000000</td>\n",
       "      <td>0.000000</td>\n",
       "      <td>2020.0</td>\n",
       "      <td>21.000000</td>\n",
       "      <td>0.000000</td>\n",
       "      <td>0.007768</td>\n",
       "      <td>0.000000</td>\n",
       "      <td>0.000000</td>\n",
       "    </tr>\n",
       "    <tr>\n",
       "      <th>25%</th>\n",
       "      <td>20.200000</td>\n",
       "      <td>30.000000</td>\n",
       "      <td>1.000000</td>\n",
       "      <td>2.000000</td>\n",
       "      <td>0.000000</td>\n",
       "      <td>0.000000</td>\n",
       "      <td>2020.0</td>\n",
       "      <td>42.000000</td>\n",
       "      <td>0.056080</td>\n",
       "      <td>0.259222</td>\n",
       "      <td>0.000000</td>\n",
       "      <td>0.000000</td>\n",
       "    </tr>\n",
       "    <tr>\n",
       "      <th>50%</th>\n",
       "      <td>76.900000</td>\n",
       "      <td>40.000000</td>\n",
       "      <td>1.000000</td>\n",
       "      <td>4.000000</td>\n",
       "      <td>0.000000</td>\n",
       "      <td>0.000000</td>\n",
       "      <td>2020.0</td>\n",
       "      <td>50.000000</td>\n",
       "      <td>0.125111</td>\n",
       "      <td>0.416296</td>\n",
       "      <td>0.000000</td>\n",
       "      <td>0.000000</td>\n",
       "    </tr>\n",
       "    <tr>\n",
       "      <th>75%</th>\n",
       "      <td>195.500000</td>\n",
       "      <td>44.000000</td>\n",
       "      <td>1.000000</td>\n",
       "      <td>6.000000</td>\n",
       "      <td>0.000000</td>\n",
       "      <td>0.000000</td>\n",
       "      <td>2020.0</td>\n",
       "      <td>57.000000</td>\n",
       "      <td>0.243022</td>\n",
       "      <td>0.516148</td>\n",
       "      <td>0.000000</td>\n",
       "      <td>0.000000</td>\n",
       "    </tr>\n",
       "    <tr>\n",
       "      <th>max</th>\n",
       "      <td>537.900000</td>\n",
       "      <td>44.000000</td>\n",
       "      <td>3.000000</td>\n",
       "      <td>29.000000</td>\n",
       "      <td>1.000000</td>\n",
       "      <td>168.100012</td>\n",
       "      <td>2020.0</td>\n",
       "      <td>95.000000</td>\n",
       "      <td>0.996139</td>\n",
       "      <td>0.986481</td>\n",
       "      <td>2.000000</td>\n",
       "      <td>1.000000</td>\n",
       "    </tr>\n",
       "  </tbody>\n",
       "</table>\n",
       "</div>"
      ],
      "text/plain": [
       "       tenure_rais       hours   n_pis_new  n_contracts      stem_job  \\\n",
       "count   515.000000  515.000000  515.000000   515.000000  13585.000000   \n",
       "mean    121.365048   35.763107    1.100971     4.627184      0.037909   \n",
       "std     123.292450   10.196618    0.320352     3.080129      0.190984   \n",
       "min       0.900000    1.000000    1.000000     1.000000      0.000000   \n",
       "25%      20.200000   30.000000    1.000000     2.000000      0.000000   \n",
       "50%      76.900000   40.000000    1.000000     4.000000      0.000000   \n",
       "75%     195.500000   44.000000    1.000000     6.000000      0.000000   \n",
       "max     537.900000   44.000000    3.000000    29.000000      1.000000   \n",
       "\n",
       "             tenure      ano         idade  dif_votos_2_lugar  \\\n",
       "count  13585.000000  13585.0  13585.000000       13585.000000   \n",
       "mean       1.572764   2020.0     49.763563           0.178352   \n",
       "std       12.143727      0.0     11.006271           0.171953   \n",
       "min        0.000000   2020.0     21.000000           0.000000   \n",
       "25%        0.000000   2020.0     42.000000           0.056080   \n",
       "50%        0.000000   2020.0     50.000000           0.125111   \n",
       "75%        0.000000   2020.0     57.000000           0.243022   \n",
       "max      168.100012   2020.0     95.000000           0.996139   \n",
       "\n",
       "       dif_votos_3_lugar  n_stem_candidates      stem_won  \n",
       "count        9337.000000       13585.000000  13585.000000  \n",
       "mean            0.393450           0.103717      0.015532  \n",
       "std             0.174863           0.320214      0.123660  \n",
       "min             0.007768           0.000000      0.000000  \n",
       "25%             0.259222           0.000000      0.000000  \n",
       "50%             0.416296           0.000000      0.000000  \n",
       "75%             0.516148           0.000000      0.000000  \n",
       "max             0.986481           2.000000      1.000000  "
      ]
     },
     "execution_count": 893,
     "metadata": {},
     "output_type": "execute_result"
    }
   ],
   "source": [
    "df.describe()"
   ]
  },
  {
   "cell_type": "code",
   "execution_count": 894,
   "metadata": {},
   "outputs": [],
   "source": [
    "df.to_csv(output_dir + 'data/base_rdd_covid_stem_2020.csv', sep = \",\", index = False, encoding = \"utf-8-sig\")"
   ]
  },
  {
   "cell_type": "code",
   "execution_count": 895,
   "metadata": {},
   "outputs": [],
   "source": [
    "teste = df[df['stem_job'] == 1]"
   ]
  },
  {
   "cell_type": "code",
   "execution_count": 898,
   "metadata": {},
   "outputs": [
    {
     "data": {
      "text/plain": [
       "<AxesSubplot:xlabel='tenure', ylabel='Count'>"
      ]
     },
     "execution_count": 898,
     "metadata": {},
     "output_type": "execute_result"
    },
    {
     "data": {
      "image/png": "[encoded data removed]",
      "text/plain": [
       "<Figure size 432x288 with 1 Axes>"
      ]
     },
     "metadata": {
      "needs_background": "light"
     },
     "output_type": "display_data"
    }
   ],
   "source": [
    "sns.histplot(teste['tenure'])"
   ]
  }
 ],
 "metadata": {
  "kernelspec": {
   "display_name": "Python 3 (ipykernel)",
   "language": "python",
   "name": "python3"
  },
  "language_info": {
   "codemirror_mode": {
    "name": "ipython",
    "version": 3
   },
   "file_extension": ".py",
   "mimetype": "text/x-python",
   "name": "python",
   "nbconvert_exporter": "python",
   "pygments_lexer": "ipython3",
   "version": "3.9.12"
  }
 },
 "nbformat": 4,
 "nbformat_minor": 4
}
