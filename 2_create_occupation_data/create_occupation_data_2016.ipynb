{
 "cells": [
  {
   "cell_type": "markdown",
   "metadata": {},
   "source": [
    "# Program description"
   ]
  },
  {
   "cell_type": "markdown",
   "metadata": {},
   "source": [
    "- This program merges electoral data with worker level data and classifies each candidate as STEM or Non-STEM"
   ]
  },
  {
   "cell_type": "markdown",
   "metadata": {},
   "source": [
    "# Setting the ambience"
   ]
  },
  {
   "cell_type": "code",
   "execution_count": 146,
   "metadata": {},
   "outputs": [],
   "source": [
    "import pandas as pd\n",
    "import re\n",
    "import pyodbc\n",
    "import time\n",
    "import numpy as np\n",
    "import warnings\n",
    "from unidecode import unidecode\n",
    "warnings.simplefilter(\"ignore\") # disable warnings\n",
    "\n",
    "create_electoral_data_dir = \"C:/Users/GabrielCaserDosPasso/Documents/RAIS/1_create_electoral_data/output/data/\"\n",
    "work_dir                  = \"C:/Users/GabrielCaserDosPasso/Documents/RAIS/2_create_occupation_data/\"\n",
    "output_dir                = \"C:/Users/GabrielCaserDosPasso/Documents/RAIS/2_create_occupation_data/output/\""
   ]
  },
  {
   "cell_type": "markdown",
   "metadata": {},
   "source": [
    "# Oppening dataset with most voted candidates"
   ]
  },
  {
   "cell_type": "code",
   "execution_count": 147,
   "metadata": {},
   "outputs": [],
   "source": [
    "df_candidates = pd.read_csv(create_electoral_data_dir + \"df_candidatos_2016_clean.csv\", sep = \";\", dtype = str)"
   ]
  },
  {
   "cell_type": "markdown",
   "metadata": {},
   "source": [
    "# Deffining STEM professions"
   ]
  },
  {
   "cell_type": "code",
   "execution_count": 149,
   "metadata": {},
   "outputs": [],
   "source": [
    "cbos_stem = \"1223 1236 1237 1413 1425 1426 2011 2012 2021 2030 2031 2032 2033 2034 2111 2112 2122 2123 2124 2131 2132 2133 2134 2140 2142 2143 2144 2145 2146 2147 2148 2149 2211 2212 2221 2222 2341 2342 2343 2344 2513 3001 3003 3011 3012 3111 3112 3115 3121 3122 3123 3161 3171 3172 3180 3181 3182 3183 3185 3186 3187 3201 3212 3253 3951\""
   ]
  },
  {
   "cell_type": "markdown",
   "metadata": {},
   "source": [
    "- source: Machado et all 2021"
   ]
  },
  {
   "cell_type": "markdown",
   "metadata": {},
   "source": [
    "# Deffining years and states of interest"
   ]
  },
  {
   "cell_type": "code",
   "execution_count": 150,
   "metadata": {},
   "outputs": [],
   "source": [
    "anos =[2003]\n",
    "for i in range(2016 - anos[0]): # mudar depois\n",
    "    anos.append(anos[-1] + 1)"
   ]
  },
  {
   "cell_type": "code",
   "execution_count": 151,
   "metadata": {},
   "outputs": [],
   "source": [
    "estados = list(df_candidates.sigla_uf.unique())\n",
    "#estados = [\"SP\"]"
   ]
  },
  {
   "cell_type": "markdown",
   "metadata": {},
   "source": [
    "# Creating list of IDs to search in RAIS"
   ]
  },
  {
   "cell_type": "code",
   "execution_count": 152,
   "metadata": {},
   "outputs": [],
   "source": [
    "cpfs_rdd = tuple(df_candidates.cpf.unique())"
   ]
  },
  {
   "cell_type": "code",
   "execution_count": 153,
   "metadata": {},
   "outputs": [
    {
     "data": {
      "text/plain": [
       "12931"
      ]
     },
     "execution_count": 153,
     "metadata": {},
     "output_type": "execute_result"
    }
   ],
   "source": [
    "len(cpfs_rdd)"
   ]
  },
  {
   "cell_type": "markdown",
   "metadata": {},
   "source": [
    "# Login into RAIS server"
   ]
  },
  {
   "cell_type": "code",
   "execution_count": 154,
   "metadata": {},
   "outputs": [],
   "source": [
    "server = 'sql-sigilo-eastus-prod.71d5dd223a40.database.windows.net'\n",
    "\n",
    "database = 'RAIS'\n",
    "\n",
    "port= '1433'\n",
    "\n",
    "username = 'GabrielCP3'\n",
    "\n",
    "password = '@VN1ai2GG3as4'\n",
    "\n",
    "driver= '{SQL Server}'\n",
    "\n",
    "cnxn = pyodbc.connect('DRIVER='+driver+';SERVER='+server+';PORT='+port+';DATABASE='+database+';UID='+username+';PWD='+ password)\n",
    "\n",
    "cursor = cnxn.cursor()"
   ]
  },
  {
   "cell_type": "markdown",
   "metadata": {},
   "source": [
    "## Creating function that downloads RAIS data"
   ]
  },
  {
   "cell_type": "code",
   "execution_count": 155,
   "metadata": {},
   "outputs": [],
   "source": [
    "df = pd.DataFrame()"
   ]
  },
  {
   "cell_type": "code",
   "execution_count": 156,
   "metadata": {},
   "outputs": [],
   "source": [
    "def rais(ano,estado):\n",
    "    global df\n",
    "   \n",
    "    if ano >= 2011:\n",
    "        consulta_1 = \"\"\" SELECT\n",
    "                    a.CPF cpf,\n",
    "                    a.[PIS] pis,\n",
    "                    a.[Nome Trabalhador] nome,\n",
    "                    a.[Município] id_municipio,\n",
    "                    a.[CNPJ Raiz] cnpj_raiz,\n",
    "                    a.[CBO Ocupação 2002] cbo_2002,\n",
    "                    a.[Vl Remun Dezembro Nom] rem_dez,\n",
    "                    a.[Data Admissão Declarada] data_adm,\n",
    "                    a.[Tempo Emprego] tenure,\n",
    "                    a.[Vínculo Ativo 31 12] vinc_ativ3112,\n",
    "                    a.[Qtd Hora Contr] hours\n",
    "                    FROM dbo.{}{}ID a\n",
    "                    WHERE a.[Vínculo Ativo 31 12] != '0'\n",
    "                    AND a.[Vínculo Ativo 31 12] != '0'\n",
    "                    AND a.[Vínculo Ativo 31 12] != ' 0'\n",
    "                    AND a.[Vínculo Ativo 31 12] != 0\n",
    "                    AND a.[CPF] IN {}\n",
    "                   \"\"\".format(estado,ano,cpfs_rdd)\n",
    "        \n",
    "        df_provisorio = pd.read_sql(consulta_1,  cnxn)\n",
    "        \n",
    "        df_provisorio[\"Ano\"] = ano\n",
    "        df_provisorio[\"Estado\"] = estado\n",
    "        \n",
    "        df_provisorio['cpf'] = df_provisorio['cpf'].str.strip()\n",
    "    \n",
    "        df_provisorio.loc[(df_provisorio['vinc_ativ3112'] == ' 1') |\n",
    "                      (df_provisorio['vinc_ativ3112'] == '1')  |\n",
    "                      (df_provisorio['vinc_ativ3112'] == 'True'), 'vinc_ativ3112'] = 1\n",
    "    \n",
    "        df_provisorio.loc[(df_provisorio['vinc_ativ3112'] == ' 0') |\n",
    "                      (df_provisorio['vinc_ativ3112'] == '0')  |\n",
    "                      (df_provisorio['vinc_ativ3112'] == 'False'),'vinc_ativ3112'] = 0\n",
    "           \n",
    "        df = pd.concat([df, df_provisorio])\n",
    "           \n",
    "        print(f\"foi criado um df de tamanho {len(df)}\")\n",
    "\n",
    "    elif ano >= 2006:\n",
    "        \n",
    "        consulta_1 = \"\"\" SELECT\n",
    "                        a.CPF cpf,\n",
    "                        a.[PIS] pis,\n",
    "                        a.[NOME] nome,\n",
    "                        a.[MUNICIPIO] id_municipio,\n",
    "                        a.[RADIC CNPJ] cnpj_raiz,\n",
    "                        a.[OCUP 2002] cbo_2002,\n",
    "                        a.[REM DEZEMBRO] rem_dez,\n",
    "                        a.[DT ADMISSAO] data_adm,\n",
    "                        a.[TEMP EMPR] tenure,\n",
    "                        a.[EMP EM 31 12] vinc_ativ3112,\n",
    "                        a.[HORAS CONTR] hours\n",
    "                        FROM dbo.{}{}ID a\n",
    "                        WHERE a.[EMP EM 31 12] != '0'\n",
    "                        AND a.[EMP EM 31 12] != '0'\n",
    "                        AND a.[EMP EM 31 12] != ' 0'\n",
    "                        AND a.[EMP EM 31 12] != 0\n",
    "                        AND a.[CPF] IN {}\n",
    "                        \"\"\".format(estado,ano,cpfs_rdd)\n",
    "        \n",
    "        df_provisorio = pd.read_sql(consulta_1,  cnxn)\n",
    "        \n",
    "        df_provisorio[\"Ano\"] = ano\n",
    "        df_provisorio[\"Estado\"] = estado\n",
    "        \n",
    "        df_provisorio['cpf'] = df_provisorio['cpf'].str.strip()\n",
    "\n",
    "    \n",
    "        df_provisorio.loc[(df_provisorio['vinc_ativ3112'] == ' 1') |\n",
    "                      (df_provisorio['vinc_ativ3112'] == '1')  |\n",
    "                      (df_provisorio['vinc_ativ3112'] == 'True'), 'vinc_ativ3112'] = 1\n",
    "    \n",
    "        df_provisorio.loc[(df_provisorio['vinc_ativ3112'] == ' 0') |\n",
    "                      (df_provisorio['vinc_ativ3112'] == '0')  |\n",
    "                      (df_provisorio['vinc_ativ3112'] == 'False'),'vinc_ativ3112'] = 0\n",
    "           \n",
    "        df = pd.concat([df, df_provisorio])\n",
    "           \n",
    "        print(f\"foi criado um df de tamanho {len(df)}\")\n",
    "        \n",
    "        \n",
    "    else: # 2003 until 2005\n",
    "        \n",
    "        consulta_1 = \"\"\" SELECT\n",
    "                        a.CPF cpf,\n",
    "                        a.[PIS] pis,\n",
    "                        a.[NOME] nome,\n",
    "                        a.[MUNICIPIO] id_municipio,\n",
    "                        a.[RADIC CNPJ] cnpj_raiz,\n",
    "                        a.[OCUP 2002] cbo_2002,\n",
    "                        a.[REM DEZEMBRO] rem_dez,\n",
    "                        a.[DT ADMISSAO] data_adm,\n",
    "                        a.[TEMP EMPR] tenure,\n",
    "                        a.[EMP EM 31 12] vinc_ativ3112,\n",
    "                        a.[HORAS CONTR] hours\n",
    "                        FROM dbo.{}{}ID a\n",
    "                        WHERE a.[EMP EM 31 12] != '0'\n",
    "                        AND a.[EMP EM 31 12] != '0'\n",
    "                        AND a.[EMP EM 31 12] != ' 0'\n",
    "                        AND a.[EMP EM 31 12] != 0\n",
    "                        AND a.[CPF] IN {}\n",
    "                        \"\"\".format(estado,ano,cpfs_rdd)\n",
    "        df_provisorio = pd.read_sql(consulta_1,  cnxn)\n",
    "        \n",
    "        df_provisorio[\"Ano\"] = ano\n",
    "        df_provisorio[\"Estado\"] = estado\n",
    "        \n",
    "        df_provisorio['cpf'] = df_provisorio['cpf'].str.strip()\n",
    "\n",
    "    \n",
    "        df_provisorio.loc[(df_provisorio['vinc_ativ3112'] == ' 1') |\n",
    "                      (df_provisorio['vinc_ativ3112'] == '1')  |\n",
    "                      (df_provisorio['vinc_ativ3112'] == 'True'), 'vinc_ativ3112'] = 1\n",
    "    \n",
    "        df_provisorio.loc[(df_provisorio['vinc_ativ3112'] == ' 0') |\n",
    "                      (df_provisorio['vinc_ativ3112'] == '0')  |\n",
    "                      (df_provisorio['vinc_ativ3112'] == 'False'),'vinc_ativ3112'] = 0\n",
    "           \n",
    "        df = pd.concat([df, df_provisorio])\n",
    "           \n",
    "        print(f\"foi criado um df de tamanho {len(df)}\")"
   ]
  },
  {
   "cell_type": "code",
   "execution_count": 157,
   "metadata": {},
   "outputs": [
    {
     "name": "stdout",
     "output_type": "stream",
     "text": [
      "foi criado um df de tamanho 8\n",
      "foi criado um df de tamanho 76\n",
      "foi criado um df de tamanho 176\n",
      "foi criado um df de tamanho 278\n",
      "foi criado um df de tamanho 377\n",
      "foi criado um df de tamanho 454\n",
      "foi criado um df de tamanho 564\n",
      "foi criado um df de tamanho 669\n",
      "foi criado um df de tamanho 779\n",
      "foi criado um df de tamanho 872\n",
      "foi criado um df de tamanho 984\n",
      "foi criado um df de tamanho 1075\n",
      "foi criado um df de tamanho 1167\n",
      "foi criado um df de tamanho 1235\n",
      "foi criado um df de tamanho 1329\n",
      "foi criado um df de tamanho 1784\n",
      "foi criado um df de tamanho 2356\n",
      "foi criado um df de tamanho 2892\n",
      "foi criado um df de tamanho 3427\n",
      "foi criado um df de tamanho 4077\n",
      "foi criado um df de tamanho 4863\n",
      "foi criado um df de tamanho 5603\n",
      "foi criado um df de tamanho 6323\n",
      "foi criado um df de tamanho 6911\n",
      "foi criado um df de tamanho 7558\n",
      "foi criado um df de tamanho 8142\n",
      "foi criado um df de tamanho 8691\n",
      "foi criado um df de tamanho 9094\n",
      "foi criado um df de tamanho 9118\n",
      "foi criado um df de tamanho 9267\n",
      "foi criado um df de tamanho 9455\n",
      "foi criado um df de tamanho 9642\n",
      "foi criado um df de tamanho 9844\n",
      "foi criado um df de tamanho 10084\n",
      "foi criado um df de tamanho 10362\n",
      "foi criado um df de tamanho 10623\n",
      "foi criado um df de tamanho 10893\n",
      "foi criado um df de tamanho 11118\n",
      "foi criado um df de tamanho 11339\n",
      "foi criado um df de tamanho 11539\n",
      "foi criado um df de tamanho 11737\n",
      "foi criado um df de tamanho 11880\n",
      "foi criado um df de tamanho 11920\n",
      "foi criado um df de tamanho 12217\n",
      "foi criado um df de tamanho 12556\n",
      "foi criado um df de tamanho 12892\n",
      "foi criado um df de tamanho 13258\n",
      "foi criado um df de tamanho 13679\n",
      "foi criado um df de tamanho 14178\n",
      "foi criado um df de tamanho 14613\n",
      "foi criado um df de tamanho 15060\n",
      "foi criado um df de tamanho 15422\n",
      "foi criado um df de tamanho 15844\n",
      "foi criado um df de tamanho 16222\n",
      "foi criado um df de tamanho 16590\n",
      "foi criado um df de tamanho 16859\n",
      "foi criado um df de tamanho 16907\n",
      "foi criado um df de tamanho 17134\n",
      "foi criado um df de tamanho 17408\n",
      "foi criado um df de tamanho 17681\n",
      "foi criado um df de tamanho 17971\n",
      "foi criado um df de tamanho 18289\n",
      "foi criado um df de tamanho 18691\n",
      "foi criado um df de tamanho 19044\n",
      "foi criado um df de tamanho 19414\n",
      "foi criado um df de tamanho 19420\n",
      "foi criado um df de tamanho 19746\n",
      "foi criado um df de tamanho 20040\n",
      "foi criado um df de tamanho 20344\n",
      "foi criado um df de tamanho 20570\n",
      "foi criado um df de tamanho 20586\n",
      "foi criado um df de tamanho 20672\n",
      "foi criado um df de tamanho 20778\n",
      "foi criado um df de tamanho 20901\n",
      "foi criado um df de tamanho 21028\n",
      "foi criado um df de tamanho 21176\n",
      "foi criado um df de tamanho 21354\n",
      "foi criado um df de tamanho 21510\n",
      "foi criado um df de tamanho 21685\n",
      "foi criado um df de tamanho 21829\n",
      "foi criado um df de tamanho 21966\n",
      "foi criado um df de tamanho 22097\n",
      "foi criado um df de tamanho 22220\n",
      "foi criado um df de tamanho 22312\n",
      "foi criado um df de tamanho 22312\n",
      "foi criado um df de tamanho 22329\n",
      "foi criado um df de tamanho 22350\n",
      "foi criado um df de tamanho 22374\n",
      "foi criado um df de tamanho 22393\n",
      "foi criado um df de tamanho 22417\n",
      "foi criado um df de tamanho 22450\n",
      "foi criado um df de tamanho 22482\n",
      "foi criado um df de tamanho 22507\n",
      "foi criado um df de tamanho 22530\n",
      "foi criado um df de tamanho 22554\n",
      "foi criado um df de tamanho 22577\n",
      "foi criado um df de tamanho 22599\n",
      "foi criado um df de tamanho 22622\n",
      "foi criado um df de tamanho 22628\n",
      "foi criado um df de tamanho 22791\n",
      "foi criado um df de tamanho 22963\n",
      "foi criado um df de tamanho 23147\n",
      "foi criado um df de tamanho 23341\n",
      "foi criado um df de tamanho 23590\n",
      "foi criado um df de tamanho 23850\n",
      "foi criado um df de tamanho 24122\n",
      "foi criado um df de tamanho 24398\n",
      "foi criado um df de tamanho 24665\n",
      "foi criado um df de tamanho 24940\n",
      "foi criado um df de tamanho 25224\n",
      "foi criado um df de tamanho 25487\n",
      "foi criado um df de tamanho 25719\n",
      "foi criado um df de tamanho 25728\n",
      "foi criado um df de tamanho 25846\n",
      "foi criado um df de tamanho 26005\n",
      "foi criado um df de tamanho 26167\n",
      "foi criado um df de tamanho 26331\n",
      "foi criado um df de tamanho 26529\n",
      "foi criado um df de tamanho 26778\n",
      "foi criado um df de tamanho 27002\n",
      "foi criado um df de tamanho 27229\n",
      "foi criado um df de tamanho 27425\n",
      "foi criado um df de tamanho 27610\n",
      "foi criado um df de tamanho 27780\n",
      "foi criado um df de tamanho 27952\n",
      "foi criado um df de tamanho 28085\n",
      "foi criado um df de tamanho 28093\n",
      "foi criado um df de tamanho 28242\n",
      "foi criado um df de tamanho 28421\n",
      "foi criado um df de tamanho 28588\n",
      "foi criado um df de tamanho 28752\n",
      "foi criado um df de tamanho 28964\n",
      "foi criado um df de tamanho 29189\n",
      "foi criado um df de tamanho 29420\n",
      "foi criado um df de tamanho 29657\n",
      "foi criado um df de tamanho 29867\n",
      "foi criado um df de tamanho 30066\n",
      "foi criado um df de tamanho 30229\n",
      "foi criado um df de tamanho 30399\n",
      "foi criado um df de tamanho 30537\n",
      "foi criado um df de tamanho 30618\n",
      "foi criado um df de tamanho 30980\n",
      "foi criado um df de tamanho 31450\n",
      "foi criado um df de tamanho 31912\n",
      "foi criado um df de tamanho 32390\n",
      "foi criado um df de tamanho 32781\n",
      "foi criado um df de tamanho 33266\n",
      "foi criado um df de tamanho 33721\n",
      "foi criado um df de tamanho 34165\n",
      "foi criado um df de tamanho 34516\n",
      "foi criado um df de tamanho 34914\n",
      "foi criado um df de tamanho 35293\n",
      "foi criado um df de tamanho 35650\n",
      "foi criado um df de tamanho 35884\n",
      "foi criado um df de tamanho 35975\n",
      "foi criado um df de tamanho 36385\n",
      "foi criado um df de tamanho 36862\n",
      "foi criado um df de tamanho 37332\n",
      "foi criado um df de tamanho 38114\n",
      "foi criado um df de tamanho 38816\n",
      "foi criado um df de tamanho 39604\n",
      "foi criado um df de tamanho 40349\n",
      "foi criado um df de tamanho 41094\n",
      "foi criado um df de tamanho 41716\n",
      "foi criado um df de tamanho 42365\n",
      "foi criado um df de tamanho 42970\n",
      "foi criado um df de tamanho 43548\n",
      "foi criado um df de tamanho 43987\n",
      "foi criado um df de tamanho 44007\n",
      "foi criado um df de tamanho 44121\n",
      "foi criado um df de tamanho 44272\n",
      "foi criado um df de tamanho 44422\n",
      "foi criado um df de tamanho 44587\n",
      "foi criado um df de tamanho 44799\n",
      "foi criado um df de tamanho 45026\n",
      "foi criado um df de tamanho 45270\n",
      "foi criado um df de tamanho 45525\n",
      "foi criado um df de tamanho 45724\n",
      "foi criado um df de tamanho 45948\n",
      "foi criado um df de tamanho 46155\n",
      "foi criado um df de tamanho 46365\n",
      "foi criado um df de tamanho 46534\n",
      "foi criado um df de tamanho 46549\n",
      "foi criado um df de tamanho 46615\n",
      "foi criado um df de tamanho 46707\n",
      "foi criado um df de tamanho 46805\n",
      "foi criado um df de tamanho 46905\n",
      "foi criado um df de tamanho 46999\n",
      "foi criado um df de tamanho 47108\n",
      "foi criado um df de tamanho 47195\n",
      "foi criado um df de tamanho 47293\n",
      "foi criado um df de tamanho 47373\n",
      "foi criado um df de tamanho 47453\n",
      "foi criado um df de tamanho 47522\n",
      "foi criado um df de tamanho 47586\n",
      "foi criado um df de tamanho 47623\n",
      "foi criado um df de tamanho 47633\n",
      "foi criado um df de tamanho 47702\n",
      "foi criado um df de tamanho 47796\n",
      "foi criado um df de tamanho 47882\n",
      "foi criado um df de tamanho 48001\n",
      "foi criado um df de tamanho 48144\n",
      "foi criado um df de tamanho 48326\n",
      "foi criado um df de tamanho 48491\n",
      "foi criado um df de tamanho 48647\n",
      "foi criado um df de tamanho 48777\n",
      "foi criado um df de tamanho 48931\n",
      "foi criado um df de tamanho 49085\n",
      "foi criado um df de tamanho 49224\n",
      "foi criado um df de tamanho 49320\n",
      "foi criado um df de tamanho 49324\n",
      "foi criado um df de tamanho 49379\n",
      "foi criado um df de tamanho 49431\n",
      "foi criado um df de tamanho 49495\n",
      "foi criado um df de tamanho 49559\n",
      "foi criado um df de tamanho 49641\n",
      "foi criado um df de tamanho 49733\n",
      "foi criado um df de tamanho 49824\n",
      "foi criado um df de tamanho 49918\n",
      "foi criado um df de tamanho 50005\n",
      "foi criado um df de tamanho 50098\n",
      "foi criado um df de tamanho 50183\n",
      "foi criado um df de tamanho 50266\n",
      "foi criado um df de tamanho 50324\n",
      "foi criado um df de tamanho 50330\n",
      "foi criado um df de tamanho 50468\n",
      "foi criado um df de tamanho 50620\n",
      "foi criado um df de tamanho 50779\n",
      "foi criado um df de tamanho 50952\n",
      "foi criado um df de tamanho 51173\n",
      "foi criado um df de tamanho 51459\n",
      "foi criado um df de tamanho 51732\n",
      "foi criado um df de tamanho 52008\n",
      "foi criado um df de tamanho 52263\n",
      "foi criado um df de tamanho 52505\n",
      "foi criado um df de tamanho 52719\n",
      "foi criado um df de tamanho 52922\n",
      "foi criado um df de tamanho 53088\n",
      "foi criado um df de tamanho 53101\n",
      "foi criado um df de tamanho 53224\n",
      "foi criado um df de tamanho 53360\n",
      "foi criado um df de tamanho 53500\n",
      "foi criado um df de tamanho 53646\n"
     ]
    },
    {
     "name": "stdout",
     "output_type": "stream",
     "text": [
      "foi criado um df de tamanho 53794\n",
      "foi criado um df de tamanho 53958\n",
      "foi criado um df de tamanho 54097\n",
      "foi criado um df de tamanho 54237\n",
      "foi criado um df de tamanho 54358\n",
      "foi criado um df de tamanho 54470\n",
      "foi criado um df de tamanho 54580\n",
      "foi criado um df de tamanho 54695\n",
      "foi criado um df de tamanho 54775\n",
      "foi criado um df de tamanho 54782\n",
      "foi criado um df de tamanho 54838\n",
      "foi criado um df de tamanho 54902\n",
      "foi criado um df de tamanho 54962\n",
      "foi criado um df de tamanho 55025\n",
      "foi criado um df de tamanho 55100\n",
      "foi criado um df de tamanho 55187\n",
      "foi criado um df de tamanho 55286\n",
      "foi criado um df de tamanho 55373\n",
      "foi criado um df de tamanho 55450\n",
      "foi criado um df de tamanho 55525\n",
      "foi criado um df de tamanho 55585\n",
      "foi criado um df de tamanho 55643\n",
      "foi criado um df de tamanho 55688\n",
      "foi criado um df de tamanho 55736\n",
      "foi criado um df de tamanho 55933\n",
      "foi criado um df de tamanho 56174\n",
      "foi criado um df de tamanho 56435\n",
      "foi criado um df de tamanho 56688\n",
      "foi criado um df de tamanho 56962\n",
      "foi criado um df de tamanho 57294\n",
      "foi criado um df de tamanho 57586\n",
      "foi criado um df de tamanho 57923\n",
      "foi criado um df de tamanho 58170\n",
      "foi criado um df de tamanho 58449\n",
      "foi criado um df de tamanho 58685\n",
      "foi criado um df de tamanho 58952\n",
      "foi criado um df de tamanho 59123\n",
      "foi criado um df de tamanho 59142\n",
      "foi criado um df de tamanho 59280\n",
      "foi criado um df de tamanho 59468\n",
      "foi criado um df de tamanho 59662\n",
      "foi criado um df de tamanho 59843\n",
      "foi criado um df de tamanho 60013\n",
      "foi criado um df de tamanho 60249\n",
      "foi criado um df de tamanho 60447\n",
      "foi criado um df de tamanho 60657\n",
      "foi criado um df de tamanho 60811\n",
      "foi criado um df de tamanho 61011\n",
      "foi criado um df de tamanho 61162\n",
      "foi criado um df de tamanho 61307\n",
      "foi criado um df de tamanho 61401\n",
      "foi criado um df de tamanho 61402\n",
      "foi criado um df de tamanho 61409\n",
      "foi criado um df de tamanho 61419\n",
      "foi criado um df de tamanho 61429\n",
      "foi criado um df de tamanho 61443\n",
      "foi criado um df de tamanho 61458\n",
      "foi criado um df de tamanho 61489\n",
      "foi criado um df de tamanho 61522\n",
      "foi criado um df de tamanho 61552\n",
      "foi criado um df de tamanho 61581\n",
      "foi criado um df de tamanho 61613\n",
      "foi criado um df de tamanho 61646\n",
      "foi criado um df de tamanho 61673\n",
      "foi criado um df de tamanho 61696\n",
      "foi criado um df de tamanho 61702\n",
      "foi criado um df de tamanho 61742\n",
      "foi criado um df de tamanho 61789\n",
      "foi criado um df de tamanho 61826\n",
      "foi criado um df de tamanho 61865\n",
      "foi criado um df de tamanho 61912\n",
      "foi criado um df de tamanho 61973\n",
      "foi criado um df de tamanho 62025\n",
      "foi criado um df de tamanho 62084\n",
      "foi criado um df de tamanho 62134\n",
      "foi criado um df de tamanho 62194\n",
      "foi criado um df de tamanho 62245\n",
      "foi criado um df de tamanho 62294\n",
      "foi criado um df de tamanho 62345\n",
      "foi criado um df de tamanho 62366\n",
      "foi criado um df de tamanho 62418\n",
      "foi criado um df de tamanho 62478\n",
      "foi criado um df de tamanho 62549\n",
      "foi criado um df de tamanho 62620\n",
      "foi criado um df de tamanho 62700\n",
      "foi criado um df de tamanho 62798\n",
      "foi criado um df de tamanho 62899\n",
      "foi criado um df de tamanho 63000\n",
      "foi criado um df de tamanho 63070\n",
      "foi criado um df de tamanho 63156\n",
      "foi criado um df de tamanho 63223\n",
      "foi criado um df de tamanho 63296\n",
      "foi criado um df de tamanho 63348\n",
      "foi criado um df de tamanho 63364\n",
      "foi criado um df de tamanho 63423\n",
      "foi criado um df de tamanho 63503\n",
      "foi criado um df de tamanho 63583\n",
      "foi criado um df de tamanho 63666\n",
      "foi criado um df de tamanho 63754\n",
      "foi criado um df de tamanho 63850\n",
      "foi criado um df de tamanho 63942\n",
      "foi criado um df de tamanho 64022\n",
      "foi criado um df de tamanho 64084\n",
      "foi criado um df de tamanho 64142\n",
      "foi criado um df de tamanho 64202\n",
      "foi criado um df de tamanho 64268\n",
      "foi criado um df de tamanho 64311\n",
      "foi criado um df de tamanho 64312\n",
      "foi criado um df de tamanho 64337\n",
      "foi criado um df de tamanho 64365\n",
      "foi criado um df de tamanho 64389\n",
      "foi criado um df de tamanho 64420\n",
      "foi criado um df de tamanho 64454\n",
      "foi criado um df de tamanho 64495\n",
      "foi criado um df de tamanho 64540\n",
      "foi criado um df de tamanho 64582\n",
      "foi criado um df de tamanho 64625\n",
      "foi criado um df de tamanho 64656\n",
      "foi criado um df de tamanho 64690\n",
      "foi criado um df de tamanho 64734\n",
      "foi criado um df de tamanho 64772\n",
      "My program took 4570.1361763477325 to run\n"
     ]
    }
   ],
   "source": [
    "start_time = time.time()\n",
    "\n",
    "for x in estados:\n",
    "    for i in anos:\n",
    "        rais(i,x)\n",
    "    \n",
    "print(\"My program took\", time.time() - start_time, \"to run\")"
   ]
  },
  {
   "cell_type": "markdown",
   "metadata": {},
   "source": [
    "# Cleaning RAIS data"
   ]
  },
  {
   "cell_type": "code",
   "execution_count": 158,
   "metadata": {},
   "outputs": [],
   "source": [
    "df = df.drop(columns = \"rem_dez\")"
   ]
  },
  {
   "cell_type": "code",
   "execution_count": 159,
   "metadata": {
    "scrolled": true
   },
   "outputs": [
    {
     "name": "stdout",
     "output_type": "stream",
     "text": [
      "<class 'pandas.core.frame.DataFrame'>\n",
      "Index: 64772 entries, 0 to 37\n",
      "Data columns (total 12 columns):\n",
      " #   Column         Non-Null Count  Dtype \n",
      "---  ------         --------------  ----- \n",
      " 0   cpf            64772 non-null  object\n",
      " 1   pis            64772 non-null  object\n",
      " 2   nome           64772 non-null  object\n",
      " 3   id_municipio   64772 non-null  object\n",
      " 4   cnpj_raiz      64772 non-null  object\n",
      " 5   cbo_2002       64772 non-null  object\n",
      " 6   data_adm       64772 non-null  object\n",
      " 7   tenure         64772 non-null  object\n",
      " 8   vinc_ativ3112  64772 non-null  object\n",
      " 9   hours          64772 non-null  object\n",
      " 10  Ano            64772 non-null  int64 \n",
      " 11  Estado         64772 non-null  object\n",
      "dtypes: int64(1), object(11)\n",
      "memory usage: 6.4+ MB\n"
     ]
    }
   ],
   "source": [
    "df.info()"
   ]
  },
  {
   "cell_type": "code",
   "execution_count": 160,
   "metadata": {},
   "outputs": [],
   "source": [
    "df = df.drop_duplicates()"
   ]
  },
  {
   "cell_type": "code",
   "execution_count": 161,
   "metadata": {},
   "outputs": [
    {
     "name": "stdout",
     "output_type": "stream",
     "text": [
      "<class 'pandas.core.frame.DataFrame'>\n",
      "Index: 64740 entries, 0 to 37\n",
      "Data columns (total 12 columns):\n",
      " #   Column         Non-Null Count  Dtype \n",
      "---  ------         --------------  ----- \n",
      " 0   cpf            64740 non-null  object\n",
      " 1   pis            64740 non-null  object\n",
      " 2   nome           64740 non-null  object\n",
      " 3   id_municipio   64740 non-null  object\n",
      " 4   cnpj_raiz      64740 non-null  object\n",
      " 5   cbo_2002       64740 non-null  object\n",
      " 6   data_adm       64740 non-null  object\n",
      " 7   tenure         64740 non-null  object\n",
      " 8   vinc_ativ3112  64740 non-null  object\n",
      " 9   hours          64740 non-null  object\n",
      " 10  Ano            64740 non-null  int64 \n",
      " 11  Estado         64740 non-null  object\n",
      "dtypes: int64(1), object(11)\n",
      "memory usage: 6.4+ MB\n"
     ]
    }
   ],
   "source": [
    "df.info()"
   ]
  },
  {
   "cell_type": "code",
   "execution_count": 162,
   "metadata": {},
   "outputs": [],
   "source": [
    "# keeping only numbers in the cbo_2002 variable\n",
    "df['cbo_2002_original'] = df['cbo_2002']\n",
    "df['cbo_2002'] = df['cbo_2002'].str.extract('(\\d+)').astype(str)"
   ]
  },
  {
   "cell_type": "code",
   "execution_count": 163,
   "metadata": {},
   "outputs": [],
   "source": [
    "df[\"pis\"] = df[\"pis\"].str.strip() #removing leading and ending spaces"
   ]
  },
  {
   "cell_type": "code",
   "execution_count": 164,
   "metadata": {},
   "outputs": [],
   "source": [
    "df[\"data_adm\"] = df[\"data_adm\"].str.strip() #removing leading and ending spaces\n",
    "df[\"cbo_2002\"] = df[\"cbo_2002\"].str.strip() #removing leading and ending spaces"
   ]
  },
  {
   "cell_type": "markdown",
   "metadata": {},
   "source": [
    "# Creating variable \"tenure\" that measures how many months someone worked in a STEM occupation"
   ]
  },
  {
   "cell_type": "code",
   "execution_count": 165,
   "metadata": {},
   "outputs": [],
   "source": [
    "lista = list(df[\"tenure\"])"
   ]
  },
  {
   "cell_type": "code",
   "execution_count": 166,
   "metadata": {},
   "outputs": [],
   "source": [
    "# replacing \",\" for \".\"\n",
    "coluna = []\n",
    "\n",
    "for i in lista:\n",
    "    if ',' in str(i).lower():  \n",
    "        coluna.append(i.replace(',', '.'))\n",
    "    else:\n",
    "        coluna.append(i)\n",
    "        \n",
    "df[\"tenure\"] = coluna"
   ]
  },
  {
   "cell_type": "code",
   "execution_count": 167,
   "metadata": {},
   "outputs": [],
   "source": [
    "# changing variable types\n",
    "df[\"tenure\"] = df['tenure'].astype(float)\n",
    "#df[\"tenure\"] = df['tenure'].astype(int)\n",
    "#df['data_adm'] = df['data_adm'].astype(int)\n"
   ]
  },
  {
   "cell_type": "code",
   "execution_count": 168,
   "metadata": {},
   "outputs": [],
   "source": [
    "df['cnpj_raiz'] = df['cnpj_raiz'].astype(str).str.zfill(8) # filling cnpj with leading 0 until it reaches 8 characters\n",
    "df['cbo_2002'] = df['cbo_2002'].astype(str).str.zfill(6) # filling cbo with leading 0 until it reaches 6 characters\n",
    "df['data_adm'] = df['data_adm'].astype(str).str.zfill(8) # filling cbo with leading 0 until it reaches 8 characters\n",
    "\n",
    "df['data_adm'] = pd.to_datetime(df['data_adm'], format = '%d%m%Y') # changing do date time type"
   ]
  },
  {
   "cell_type": "markdown",
   "metadata": {},
   "source": [
    "## Keeping CPFs with more than one PIS only for those who match names with TCE dataset"
   ]
  },
  {
   "cell_type": "code",
   "execution_count": 169,
   "metadata": {
    "scrolled": false
   },
   "outputs": [],
   "source": [
    "df[\"n_pis\"] = df.groupby('cpf')['pis'].transform('nunique') # number of unique PIS per cpf"
   ]
  },
  {
   "cell_type": "code",
   "execution_count": 170,
   "metadata": {},
   "outputs": [],
   "source": [
    "# cleaning names\n",
    "df[\"nome\"] = df[\"nome\"].str.strip() #removing leading and ending spaces\n",
    "df[\"nome\"] = df[\"nome\"].apply(unidecode) # removing accents\n",
    "df[\"nome\"] = df[\"nome\"].str.lower() #using lower letters\n",
    "df[\"first_name\"] = df[\"nome\"].str.split().str[0] #creating first name variable\n",
    "df[\"last_name\"] = df[\"nome\"].str.split().str[-1] #creating last name variable\n",
    "\n",
    "# cleaning names from TSE dataset\n",
    "df_candidates[\"nome\"] = df_candidates[\"nome\"].str.strip() #removing leading and ending spaces\n",
    "df_candidates[\"nome\"] = df_candidates[\"nome\"].apply(unidecode) #removing accents\n",
    "df_candidates[\"nome\"] = df_candidates[\"nome\"].str.lower() #using lower letters\n",
    "df_candidates[\"first_name\"] = df_candidates[\"nome\"].str.split().str[0] #creating first name variable\n",
    "df_candidates[\"last_name\"] = df_candidates[\"nome\"].str.split().str[-1] #creating last name variable"
   ]
  },
  {
   "cell_type": "code",
   "execution_count": 171,
   "metadata": {},
   "outputs": [],
   "source": [
    "df = pd.merge(df, df_candidates[['cpf','nome','first_name','last_name','id_municipio']], how = \"outer\", on = \"cpf\", indicator = True, validate = \"many_to_one\", suffixes = ('_rais', '_tse') , )"
   ]
  },
  {
   "cell_type": "code",
   "execution_count": 172,
   "metadata": {},
   "outputs": [
    {
     "data": {
      "text/plain": [
       "_merge\n",
       "both          64740\n",
       "right_only     4379\n",
       "left_only         0\n",
       "Name: count, dtype: int64"
      ]
     },
     "execution_count": 172,
     "metadata": {},
     "output_type": "execute_result"
    }
   ],
   "source": [
    "df._merge.value_counts()"
   ]
  },
  {
   "cell_type": "markdown",
   "metadata": {},
   "source": [
    "- 4036 of 13585 candidates did not appeared in RAIS"
   ]
  },
  {
   "cell_type": "code",
   "execution_count": 173,
   "metadata": {},
   "outputs": [],
   "source": [
    "df = df[df[\"_merge\"] != \"right_only\"] # dropping TSE candidates that were not in RAIS"
   ]
  },
  {
   "cell_type": "code",
   "execution_count": 174,
   "metadata": {},
   "outputs": [],
   "source": [
    "df['equal_names'] = (df[\"first_name_rais\"] == df[\"first_name_tse\"]) # creating dummy that indicates wether the name in RAIS is the same as the name in TSE "
   ]
  },
  {
   "cell_type": "code",
   "execution_count": 175,
   "metadata": {},
   "outputs": [],
   "source": [
    "df = df[(df['n_pis'] == 1) | df['equal_names'] == True] # keeping only observations in RAIS which have only one PIS or have the same first_name in RAIS and TSE datasets "
   ]
  },
  {
   "cell_type": "code",
   "execution_count": 176,
   "metadata": {},
   "outputs": [],
   "source": [
    "df = df.drop(columns = ['equal_names', '_merge', 'id_municipio_tse', 'last_name_tse', 'first_name_tse', 'nome_tse', 'last_name_rais', 'first_name_rais'])"
   ]
  },
  {
   "cell_type": "code",
   "execution_count": 177,
   "metadata": {},
   "outputs": [],
   "source": [
    "df[\"n_pis_new\"] = df.groupby('cpf')['pis'].transform('nunique')"
   ]
  },
  {
   "cell_type": "code",
   "execution_count": 178,
   "metadata": {},
   "outputs": [
    {
     "data": {
      "text/html": [
       "<div>\n",
       "<style scoped>\n",
       "    .dataframe tbody tr th:only-of-type {\n",
       "        vertical-align: middle;\n",
       "    }\n",
       "\n",
       "    .dataframe tbody tr th {\n",
       "        vertical-align: top;\n",
       "    }\n",
       "\n",
       "    .dataframe thead th {\n",
       "        text-align: right;\n",
       "    }\n",
       "</style>\n",
       "<table border=\"1\" class=\"dataframe\">\n",
       "  <thead>\n",
       "    <tr style=\"text-align: right;\">\n",
       "      <th></th>\n",
       "      <th>data_adm</th>\n",
       "      <th>tenure</th>\n",
       "      <th>Ano</th>\n",
       "      <th>n_pis</th>\n",
       "      <th>n_pis_new</th>\n",
       "    </tr>\n",
       "  </thead>\n",
       "  <tbody>\n",
       "    <tr>\n",
       "      <th>count</th>\n",
       "      <td>64264</td>\n",
       "      <td>64264.000000</td>\n",
       "      <td>64264.000000</td>\n",
       "      <td>64264.000000</td>\n",
       "      <td>64264.000000</td>\n",
       "    </tr>\n",
       "    <tr>\n",
       "      <th>mean</th>\n",
       "      <td>2001-05-08 23:56:26.231793792</td>\n",
       "      <td>115.263410</td>\n",
       "      <td>2009.971135</td>\n",
       "      <td>1.132983</td>\n",
       "      <td>1.113734</td>\n",
       "    </tr>\n",
       "    <tr>\n",
       "      <th>min</th>\n",
       "      <td>1959-11-06 00:00:00</td>\n",
       "      <td>0.000000</td>\n",
       "      <td>2003.000000</td>\n",
       "      <td>1.000000</td>\n",
       "      <td>1.000000</td>\n",
       "    </tr>\n",
       "    <tr>\n",
       "      <th>25%</th>\n",
       "      <td>1994-08-08 18:00:00</td>\n",
       "      <td>22.900000</td>\n",
       "      <td>2007.000000</td>\n",
       "      <td>1.000000</td>\n",
       "      <td>1.000000</td>\n",
       "    </tr>\n",
       "    <tr>\n",
       "      <th>50%</th>\n",
       "      <td>2004-04-01 00:00:00</td>\n",
       "      <td>70.000000</td>\n",
       "      <td>2010.000000</td>\n",
       "      <td>1.000000</td>\n",
       "      <td>1.000000</td>\n",
       "    </tr>\n",
       "    <tr>\n",
       "      <th>75%</th>\n",
       "      <td>2009-01-01 00:00:00</td>\n",
       "      <td>188.900000</td>\n",
       "      <td>2013.000000</td>\n",
       "      <td>1.000000</td>\n",
       "      <td>1.000000</td>\n",
       "    </tr>\n",
       "    <tr>\n",
       "      <th>max</th>\n",
       "      <td>2016-12-31 00:00:00</td>\n",
       "      <td>589.800000</td>\n",
       "      <td>2016.000000</td>\n",
       "      <td>18.000000</td>\n",
       "      <td>4.000000</td>\n",
       "    </tr>\n",
       "    <tr>\n",
       "      <th>std</th>\n",
       "      <td>NaN</td>\n",
       "      <td>113.516959</td>\n",
       "      <td>3.538090</td>\n",
       "      <td>0.457243</td>\n",
       "      <td>0.355153</td>\n",
       "    </tr>\n",
       "  </tbody>\n",
       "</table>\n",
       "</div>"
      ],
      "text/plain": [
       "                            data_adm        tenure           Ano  \\\n",
       "count                          64264  64264.000000  64264.000000   \n",
       "mean   2001-05-08 23:56:26.231793792    115.263410   2009.971135   \n",
       "min              1959-11-06 00:00:00      0.000000   2003.000000   \n",
       "25%              1994-08-08 18:00:00     22.900000   2007.000000   \n",
       "50%              2004-04-01 00:00:00     70.000000   2010.000000   \n",
       "75%              2009-01-01 00:00:00    188.900000   2013.000000   \n",
       "max              2016-12-31 00:00:00    589.800000   2016.000000   \n",
       "std                              NaN    113.516959      3.538090   \n",
       "\n",
       "              n_pis     n_pis_new  \n",
       "count  64264.000000  64264.000000  \n",
       "mean       1.132983      1.113734  \n",
       "min        1.000000      1.000000  \n",
       "25%        1.000000      1.000000  \n",
       "50%        1.000000      1.000000  \n",
       "75%        1.000000      1.000000  \n",
       "max       18.000000      4.000000  \n",
       "std        0.457243      0.355153  "
      ]
     },
     "execution_count": 178,
     "metadata": {},
     "output_type": "execute_result"
    }
   ],
   "source": [
    "df.describe()"
   ]
  },
  {
   "cell_type": "markdown",
   "metadata": {},
   "source": [
    "- there are still a few CPFs with multiple PIS. But now they seem to be the same person because they have the same name"
   ]
  },
  {
   "cell_type": "markdown",
   "metadata": {},
   "source": [
    "## Creating identificator of contracts per person"
   ]
  },
  {
   "cell_type": "code",
   "execution_count": 179,
   "metadata": {},
   "outputs": [
    {
     "name": "stdout",
     "output_type": "stream",
     "text": [
      "<class 'pandas.core.frame.DataFrame'>\n",
      "Index: 64264 entries, 0 to 64739\n",
      "Data columns (total 15 columns):\n",
      " #   Column             Non-Null Count  Dtype         \n",
      "---  ------             --------------  -----         \n",
      " 0   cpf                64264 non-null  object        \n",
      " 1   pis                64264 non-null  object        \n",
      " 2   nome_rais          64264 non-null  object        \n",
      " 3   id_municipio_rais  64264 non-null  object        \n",
      " 4   cnpj_raiz          64264 non-null  object        \n",
      " 5   cbo_2002           64264 non-null  object        \n",
      " 6   data_adm           64264 non-null  datetime64[ns]\n",
      " 7   tenure             64264 non-null  float64       \n",
      " 8   vinc_ativ3112      64264 non-null  object        \n",
      " 9   hours              64264 non-null  object        \n",
      " 10  Ano                64264 non-null  float64       \n",
      " 11  Estado             64264 non-null  object        \n",
      " 12  cbo_2002_original  64264 non-null  object        \n",
      " 13  n_pis              64264 non-null  float64       \n",
      " 14  n_pis_new          64264 non-null  int64         \n",
      "dtypes: datetime64[ns](1), float64(3), int64(1), object(10)\n",
      "memory usage: 7.8+ MB\n"
     ]
    }
   ],
   "source": [
    "df.info()"
   ]
  },
  {
   "cell_type": "code",
   "execution_count": 180,
   "metadata": {},
   "outputs": [],
   "source": [
    "df[\"count\"] = df.groupby(['cpf','data_adm',\"cbo_2002\"])[\"cbo_2002\"].transform('count') # this variable indicates that person p is working in a contract c"
   ]
  },
  {
   "cell_type": "code",
   "execution_count": 181,
   "metadata": {},
   "outputs": [],
   "source": [
    "df[\"contract_id\"] = df.groupby(['cpf','data_adm',\"cbo_2002\",\"cnpj_raiz\"]).ngroup() # this variable indicates that person p is working in a contract c"
   ]
  },
  {
   "cell_type": "code",
   "execution_count": 182,
   "metadata": {},
   "outputs": [],
   "source": [
    "df[\"n_contracts\"] = df.groupby('cpf')['contract_id'].transform('nunique') # this variable indicates the number of different contracts that each person had\n",
    "df[\"n_contracts_year\"] = df.groupby(['cpf','Ano'])['contract_id'].transform('nunique') # the same but per year"
   ]
  },
  {
   "cell_type": "code",
   "execution_count": 183,
   "metadata": {},
   "outputs": [
    {
     "data": {
      "text/html": [
       "<div>\n",
       "<style scoped>\n",
       "    .dataframe tbody tr th:only-of-type {\n",
       "        vertical-align: middle;\n",
       "    }\n",
       "\n",
       "    .dataframe tbody tr th {\n",
       "        vertical-align: top;\n",
       "    }\n",
       "\n",
       "    .dataframe thead th {\n",
       "        text-align: right;\n",
       "    }\n",
       "</style>\n",
       "<table border=\"1\" class=\"dataframe\">\n",
       "  <thead>\n",
       "    <tr style=\"text-align: right;\">\n",
       "      <th></th>\n",
       "      <th>data_adm</th>\n",
       "      <th>tenure</th>\n",
       "      <th>Ano</th>\n",
       "      <th>n_pis</th>\n",
       "      <th>n_pis_new</th>\n",
       "      <th>count</th>\n",
       "      <th>contract_id</th>\n",
       "      <th>n_contracts</th>\n",
       "      <th>n_contracts_year</th>\n",
       "    </tr>\n",
       "  </thead>\n",
       "  <tbody>\n",
       "    <tr>\n",
       "      <th>count</th>\n",
       "      <td>64264</td>\n",
       "      <td>64264.000000</td>\n",
       "      <td>64264.000000</td>\n",
       "      <td>64264.000000</td>\n",
       "      <td>64264.000000</td>\n",
       "      <td>64264.000000</td>\n",
       "      <td>64264.000000</td>\n",
       "      <td>64264.000000</td>\n",
       "      <td>64264.000000</td>\n",
       "    </tr>\n",
       "    <tr>\n",
       "      <th>mean</th>\n",
       "      <td>2001-05-08 23:56:26.231793792</td>\n",
       "      <td>115.263410</td>\n",
       "      <td>2009.971135</td>\n",
       "      <td>1.132983</td>\n",
       "      <td>1.113734</td>\n",
       "      <td>5.232976</td>\n",
       "      <td>12075.003750</td>\n",
       "      <td>4.249378</td>\n",
       "      <td>1.441320</td>\n",
       "    </tr>\n",
       "    <tr>\n",
       "      <th>min</th>\n",
       "      <td>1959-11-06 00:00:00</td>\n",
       "      <td>0.000000</td>\n",
       "      <td>2003.000000</td>\n",
       "      <td>1.000000</td>\n",
       "      <td>1.000000</td>\n",
       "      <td>1.000000</td>\n",
       "      <td>0.000000</td>\n",
       "      <td>1.000000</td>\n",
       "      <td>1.000000</td>\n",
       "    </tr>\n",
       "    <tr>\n",
       "      <th>25%</th>\n",
       "      <td>1994-08-08 18:00:00</td>\n",
       "      <td>22.900000</td>\n",
       "      <td>2007.000000</td>\n",
       "      <td>1.000000</td>\n",
       "      <td>1.000000</td>\n",
       "      <td>2.000000</td>\n",
       "      <td>6202.750000</td>\n",
       "      <td>2.000000</td>\n",
       "      <td>1.000000</td>\n",
       "    </tr>\n",
       "    <tr>\n",
       "      <th>50%</th>\n",
       "      <td>2004-04-01 00:00:00</td>\n",
       "      <td>70.000000</td>\n",
       "      <td>2010.000000</td>\n",
       "      <td>1.000000</td>\n",
       "      <td>1.000000</td>\n",
       "      <td>4.000000</td>\n",
       "      <td>12109.000000</td>\n",
       "      <td>3.000000</td>\n",
       "      <td>1.000000</td>\n",
       "    </tr>\n",
       "    <tr>\n",
       "      <th>75%</th>\n",
       "      <td>2009-01-01 00:00:00</td>\n",
       "      <td>188.900000</td>\n",
       "      <td>2013.000000</td>\n",
       "      <td>1.000000</td>\n",
       "      <td>1.000000</td>\n",
       "      <td>8.000000</td>\n",
       "      <td>17891.000000</td>\n",
       "      <td>5.000000</td>\n",
       "      <td>2.000000</td>\n",
       "    </tr>\n",
       "    <tr>\n",
       "      <th>max</th>\n",
       "      <td>2016-12-31 00:00:00</td>\n",
       "      <td>589.800000</td>\n",
       "      <td>2016.000000</td>\n",
       "      <td>18.000000</td>\n",
       "      <td>4.000000</td>\n",
       "      <td>23.000000</td>\n",
       "      <td>24012.000000</td>\n",
       "      <td>31.000000</td>\n",
       "      <td>9.000000</td>\n",
       "    </tr>\n",
       "    <tr>\n",
       "      <th>std</th>\n",
       "      <td>NaN</td>\n",
       "      <td>113.516959</td>\n",
       "      <td>3.538090</td>\n",
       "      <td>0.457243</td>\n",
       "      <td>0.355153</td>\n",
       "      <td>3.690494</td>\n",
       "      <td>6822.330247</td>\n",
       "      <td>3.309209</td>\n",
       "      <td>0.786488</td>\n",
       "    </tr>\n",
       "  </tbody>\n",
       "</table>\n",
       "</div>"
      ],
      "text/plain": [
       "                            data_adm        tenure           Ano  \\\n",
       "count                          64264  64264.000000  64264.000000   \n",
       "mean   2001-05-08 23:56:26.231793792    115.263410   2009.971135   \n",
       "min              1959-11-06 00:00:00      0.000000   2003.000000   \n",
       "25%              1994-08-08 18:00:00     22.900000   2007.000000   \n",
       "50%              2004-04-01 00:00:00     70.000000   2010.000000   \n",
       "75%              2009-01-01 00:00:00    188.900000   2013.000000   \n",
       "max              2016-12-31 00:00:00    589.800000   2016.000000   \n",
       "std                              NaN    113.516959      3.538090   \n",
       "\n",
       "              n_pis     n_pis_new         count   contract_id   n_contracts  \\\n",
       "count  64264.000000  64264.000000  64264.000000  64264.000000  64264.000000   \n",
       "mean       1.132983      1.113734      5.232976  12075.003750      4.249378   \n",
       "min        1.000000      1.000000      1.000000      0.000000      1.000000   \n",
       "25%        1.000000      1.000000      2.000000   6202.750000      2.000000   \n",
       "50%        1.000000      1.000000      4.000000  12109.000000      3.000000   \n",
       "75%        1.000000      1.000000      8.000000  17891.000000      5.000000   \n",
       "max       18.000000      4.000000     23.000000  24012.000000     31.000000   \n",
       "std        0.457243      0.355153      3.690494   6822.330247      3.309209   \n",
       "\n",
       "       n_contracts_year  \n",
       "count      64264.000000  \n",
       "mean           1.441320  \n",
       "min            1.000000  \n",
       "25%            1.000000  \n",
       "50%            1.000000  \n",
       "75%            2.000000  \n",
       "max            9.000000  \n",
       "std            0.786488  "
      ]
     },
     "execution_count": 183,
     "metadata": {},
     "output_type": "execute_result"
    }
   ],
   "source": [
    "df.describe()"
   ]
  },
  {
   "cell_type": "markdown",
   "metadata": {},
   "source": [
    "## Creating \"contract_tenure\" "
   ]
  },
  {
   "cell_type": "markdown",
   "metadata": {},
   "source": [
    "- it calculates the total time that a worker was in a specific contract"
   ]
  },
  {
   "cell_type": "code",
   "execution_count": 184,
   "metadata": {},
   "outputs": [],
   "source": [
    "df[\"contract_first_year\"] = df.groupby(['contract_id'])[\"Ano\"].transform('min') # first year a contract appears in Rais\n",
    "df[\"contract_last_year\"] = df.groupby(['contract_id'])[\"Ano\"].transform('max') # last year a contract appears in Rais"
   ]
  },
  {
   "cell_type": "code",
   "execution_count": 185,
   "metadata": {},
   "outputs": [],
   "source": [
    "df[\"contract_first_year_tenure\"] = df[(df[\"contract_first_year\"] == df[\"Ano\"])][\"tenure\"] # getting the inital value of tenure per contract\n",
    "df[\"contract_last_year_tenure\"] = df[(df[\"contract_last_year\"] == df[\"Ano\"])][\"tenure\"] # getting the final value of tenure per contract"
   ]
  },
  {
   "cell_type": "code",
   "execution_count": 186,
   "metadata": {},
   "outputs": [],
   "source": [
    "df[\"contract_first_year_tenure\"] = df.groupby(['contract_id'])[\"contract_first_year_tenure\"].transform('sum') # coping this value to all the observations of that contract\n",
    "df[\"contract_last_year_tenure\"] = df.groupby(['contract_id'])[\"contract_last_year_tenure\"].transform('sum') # coping this value to all the observations of that contract"
   ]
  },
  {
   "cell_type": "code",
   "execution_count": 187,
   "metadata": {},
   "outputs": [],
   "source": [
    "df[\"contract_tenure\"] = df[\"contract_last_year_tenure\"] - df[\"contract_first_year_tenure\"]"
   ]
  },
  {
   "cell_type": "code",
   "execution_count": 188,
   "metadata": {},
   "outputs": [],
   "source": [
    "df.loc[(df[\"contract_first_year\"] == df[\"contract_last_year\"]) & (df[\"contract_first_year_tenure\"] <= 12), \"contract_tenure\"] = df[\"contract_first_year_tenure\"] # using the first years' tenure all the total value if the contract only has one year and the tenure in the first yera is less or equal to 12\n",
    "df.loc[(df[\"contract_first_year\"] == df[\"contract_last_year\"]) & (df[\"contract_first_year_tenure\"] > 12), \"contract_tenure\"] = 12 # replacing the total duration of a contract for 12 when the contract only appeared one year and the tenure of the first contract was bigger than 12. "
   ]
  },
  {
   "cell_type": "markdown",
   "metadata": {},
   "source": [
    "- The last replacement was necessary, because we do not observe before 2003. Therefore, since tenure does not reset when a worker change its' occupation inside the same company, a worker could have been working in a non-STEM job for 120 months, but only in the last 12 months he worked in a STEM job. Therefore, we would be superestimating his STEM experience. When we change this value to 12, it means that we're only considering his experience from 2003 until the yera of his election "
   ]
  },
  {
   "cell_type": "markdown",
   "metadata": {},
   "source": [
    "- Negatives in min value for contract_tenure is strange, but I'll ignore it for now since it does not happen for STEM occupations"
   ]
  },
  {
   "cell_type": "markdown",
   "metadata": {},
   "source": [
    "# Classifing occupations as STEM"
   ]
  },
  {
   "cell_type": "code",
   "execution_count": 190,
   "metadata": {},
   "outputs": [],
   "source": [
    "df[\"stem_job\"] = df[\"cbo_2002\"].apply(lambda x: 1 if x[0:4] in cbos_stem else 0) # using the list from Machado(2021) to classify each occupation as a stem_job"
   ]
  },
  {
   "cell_type": "markdown",
   "metadata": {},
   "source": [
    "## Keeping only last year of each contract"
   ]
  },
  {
   "cell_type": "code",
   "execution_count": 191,
   "metadata": {},
   "outputs": [],
   "source": [
    "last_year_contract = df.groupby(['contract_id'])['Ano'].idxmax()# creating a dataset that keeps only the last year of a contract c from person p \n",
    "df = df.loc[last_year_contract]"
   ]
  },
  {
   "cell_type": "markdown",
   "metadata": {},
   "source": [
    "## Saving"
   ]
  },
  {
   "cell_type": "code",
   "execution_count": 192,
   "metadata": {},
   "outputs": [],
   "source": [
    "df.to_csv(output_dir + 'data/mayors_jobs_2016.csv', sep = \",\", index = False, encoding = \"utf-8-sig\")"
   ]
  },
  {
   "cell_type": "markdown",
   "metadata": {},
   "source": [
    "# Keeping only STEM contracts"
   ]
  },
  {
   "cell_type": "code",
   "execution_count": 193,
   "metadata": {},
   "outputs": [
    {
     "name": "stdout",
     "output_type": "stream",
     "text": [
      "<class 'pandas.core.frame.DataFrame'>\n",
      "Index: 24013 entries, 1269 to 18288\n",
      "Data columns (total 25 columns):\n",
      " #   Column                      Non-Null Count  Dtype         \n",
      "---  ------                      --------------  -----         \n",
      " 0   cpf                         24013 non-null  object        \n",
      " 1   pis                         24013 non-null  object        \n",
      " 2   nome_rais                   24013 non-null  object        \n",
      " 3   id_municipio_rais           24013 non-null  object        \n",
      " 4   cnpj_raiz                   24013 non-null  object        \n",
      " 5   cbo_2002                    24013 non-null  object        \n",
      " 6   data_adm                    24013 non-null  datetime64[ns]\n",
      " 7   tenure                      24013 non-null  float64       \n",
      " 8   vinc_ativ3112               24013 non-null  object        \n",
      " 9   hours                       24013 non-null  object        \n",
      " 10  Ano                         24013 non-null  float64       \n",
      " 11  Estado                      24013 non-null  object        \n",
      " 12  cbo_2002_original           24013 non-null  object        \n",
      " 13  n_pis                       24013 non-null  float64       \n",
      " 14  n_pis_new                   24013 non-null  int64         \n",
      " 15  count                       24013 non-null  int64         \n",
      " 16  contract_id                 24013 non-null  int64         \n",
      " 17  n_contracts                 24013 non-null  int64         \n",
      " 18  n_contracts_year            24013 non-null  int64         \n",
      " 19  contract_first_year         24013 non-null  float64       \n",
      " 20  contract_last_year          24013 non-null  float64       \n",
      " 21  contract_first_year_tenure  24013 non-null  float64       \n",
      " 22  contract_last_year_tenure   24013 non-null  float64       \n",
      " 23  contract_tenure             24013 non-null  float64       \n",
      " 24  stem_job                    24013 non-null  int64         \n",
      "dtypes: datetime64[ns](1), float64(8), int64(6), object(10)\n",
      "memory usage: 4.8+ MB\n"
     ]
    }
   ],
   "source": [
    "df.info()"
   ]
  },
  {
   "cell_type": "code",
   "execution_count": 194,
   "metadata": {},
   "outputs": [],
   "source": [
    "df = df.query(\"stem_job == 1\")"
   ]
  },
  {
   "cell_type": "code",
   "execution_count": 195,
   "metadata": {},
   "outputs": [
    {
     "name": "stdout",
     "output_type": "stream",
     "text": [
      "<class 'pandas.core.frame.DataFrame'>\n",
      "Index: 650 entries, 43685 to 3691\n",
      "Data columns (total 25 columns):\n",
      " #   Column                      Non-Null Count  Dtype         \n",
      "---  ------                      --------------  -----         \n",
      " 0   cpf                         650 non-null    object        \n",
      " 1   pis                         650 non-null    object        \n",
      " 2   nome_rais                   650 non-null    object        \n",
      " 3   id_municipio_rais           650 non-null    object        \n",
      " 4   cnpj_raiz                   650 non-null    object        \n",
      " 5   cbo_2002                    650 non-null    object        \n",
      " 6   data_adm                    650 non-null    datetime64[ns]\n",
      " 7   tenure                      650 non-null    float64       \n",
      " 8   vinc_ativ3112               650 non-null    object        \n",
      " 9   hours                       650 non-null    object        \n",
      " 10  Ano                         650 non-null    float64       \n",
      " 11  Estado                      650 non-null    object        \n",
      " 12  cbo_2002_original           650 non-null    object        \n",
      " 13  n_pis                       650 non-null    float64       \n",
      " 14  n_pis_new                   650 non-null    int64         \n",
      " 15  count                       650 non-null    int64         \n",
      " 16  contract_id                 650 non-null    int64         \n",
      " 17  n_contracts                 650 non-null    int64         \n",
      " 18  n_contracts_year            650 non-null    int64         \n",
      " 19  contract_first_year         650 non-null    float64       \n",
      " 20  contract_last_year          650 non-null    float64       \n",
      " 21  contract_first_year_tenure  650 non-null    float64       \n",
      " 22  contract_last_year_tenure   650 non-null    float64       \n",
      " 23  contract_tenure             650 non-null    float64       \n",
      " 24  stem_job                    650 non-null    int64         \n",
      "dtypes: datetime64[ns](1), float64(8), int64(6), object(10)\n",
      "memory usage: 132.0+ KB\n"
     ]
    }
   ],
   "source": [
    "df.info()"
   ]
  },
  {
   "cell_type": "markdown",
   "metadata": {},
   "source": [
    "## Keeping only one contract per year"
   ]
  },
  {
   "cell_type": "code",
   "execution_count": 196,
   "metadata": {},
   "outputs": [],
   "source": [
    "df = df.groupby(['cpf']).apply(lambda x: x.loc[x['contract_tenure'].idxmax()]) # for person p at year y keeps the contract with the biggest tenure\n",
    "df = df.reset_index(drop = True)"
   ]
  },
  {
   "cell_type": "code",
   "execution_count": 197,
   "metadata": {},
   "outputs": [],
   "source": [
    "df['hours'] = df['hours'].astype(float)"
   ]
  },
  {
   "cell_type": "code",
   "execution_count": 198,
   "metadata": {},
   "outputs": [],
   "source": [
    "# in case there are contracts with the same number of tenure, keep the one with biggest hours contracted\n",
    "df = df.groupby(['cpf']).apply(lambda x: x.loc[x['hours'].idxmax()]) # for person p at year y keeps the contract with the biggest hours\n",
    "df = df.reset_index(drop = True)"
   ]
  },
  {
   "cell_type": "code",
   "execution_count": 199,
   "metadata": {},
   "outputs": [],
   "source": [
    "# In case person p at year y has more than one contract with the same number of tenure and hours, we keep one of them ramdomly\n",
    "df = df.groupby(\"cpf\").apply(lambda x: x.sample(1)) # group by ID and select a random row from each ID\n",
    "df.reset_index(drop = True, inplace = True)"
   ]
  },
  {
   "cell_type": "markdown",
   "metadata": {},
   "source": [
    "- Duplicates were happening because we tried to keep only the occupation with the highest number of months that a person worked, there are some people that worked the same amount in different occupations. Therefore we'll keep one of the duplicated choosing it randomly  "
   ]
  },
  {
   "cell_type": "code",
   "execution_count": 200,
   "metadata": {},
   "outputs": [
    {
     "name": "stdout",
     "output_type": "stream",
     "text": [
      "<class 'pandas.core.frame.DataFrame'>\n",
      "RangeIndex: 436 entries, 0 to 435\n",
      "Data columns (total 25 columns):\n",
      " #   Column                      Non-Null Count  Dtype         \n",
      "---  ------                      --------------  -----         \n",
      " 0   cpf                         436 non-null    object        \n",
      " 1   pis                         436 non-null    object        \n",
      " 2   nome_rais                   436 non-null    object        \n",
      " 3   id_municipio_rais           436 non-null    object        \n",
      " 4   cnpj_raiz                   436 non-null    object        \n",
      " 5   cbo_2002                    436 non-null    object        \n",
      " 6   data_adm                    436 non-null    datetime64[ns]\n",
      " 7   tenure                      436 non-null    float64       \n",
      " 8   vinc_ativ3112               436 non-null    object        \n",
      " 9   hours                       436 non-null    float64       \n",
      " 10  Ano                         436 non-null    float64       \n",
      " 11  Estado                      436 non-null    object        \n",
      " 12  cbo_2002_original           436 non-null    object        \n",
      " 13  n_pis                       436 non-null    float64       \n",
      " 14  n_pis_new                   436 non-null    int64         \n",
      " 15  count                       436 non-null    int64         \n",
      " 16  contract_id                 436 non-null    int64         \n",
      " 17  n_contracts                 436 non-null    int64         \n",
      " 18  n_contracts_year            436 non-null    int64         \n",
      " 19  contract_first_year         436 non-null    float64       \n",
      " 20  contract_last_year          436 non-null    float64       \n",
      " 21  contract_first_year_tenure  436 non-null    float64       \n",
      " 22  contract_last_year_tenure   436 non-null    float64       \n",
      " 23  contract_tenure             436 non-null    float64       \n",
      " 24  stem_job                    436 non-null    int64         \n",
      "dtypes: datetime64[ns](1), float64(9), int64(6), object(9)\n",
      "memory usage: 85.3+ KB\n"
     ]
    }
   ],
   "source": [
    "df.info()"
   ]
  },
  {
   "cell_type": "code",
   "execution_count": 201,
   "metadata": {},
   "outputs": [
    {
     "data": {
      "text/html": [
       "<div>\n",
       "<style scoped>\n",
       "    .dataframe tbody tr th:only-of-type {\n",
       "        vertical-align: middle;\n",
       "    }\n",
       "\n",
       "    .dataframe tbody tr th {\n",
       "        vertical-align: top;\n",
       "    }\n",
       "\n",
       "    .dataframe thead th {\n",
       "        text-align: right;\n",
       "    }\n",
       "</style>\n",
       "<table border=\"1\" class=\"dataframe\">\n",
       "  <thead>\n",
       "    <tr style=\"text-align: right;\">\n",
       "      <th></th>\n",
       "      <th>data_adm</th>\n",
       "      <th>tenure</th>\n",
       "      <th>hours</th>\n",
       "      <th>Ano</th>\n",
       "      <th>n_pis</th>\n",
       "      <th>n_pis_new</th>\n",
       "      <th>count</th>\n",
       "      <th>contract_id</th>\n",
       "      <th>n_contracts</th>\n",
       "      <th>n_contracts_year</th>\n",
       "      <th>contract_first_year</th>\n",
       "      <th>contract_last_year</th>\n",
       "      <th>contract_first_year_tenure</th>\n",
       "      <th>contract_last_year_tenure</th>\n",
       "      <th>contract_tenure</th>\n",
       "      <th>stem_job</th>\n",
       "    </tr>\n",
       "  </thead>\n",
       "  <tbody>\n",
       "    <tr>\n",
       "      <th>count</th>\n",
       "      <td>436</td>\n",
       "      <td>436.000000</td>\n",
       "      <td>436.000000</td>\n",
       "      <td>436.000000</td>\n",
       "      <td>436.000000</td>\n",
       "      <td>436.000000</td>\n",
       "      <td>436.000000</td>\n",
       "      <td>436.000000</td>\n",
       "      <td>436.000000</td>\n",
       "      <td>436.000000</td>\n",
       "      <td>436.000000</td>\n",
       "      <td>436.000000</td>\n",
       "      <td>436.000000</td>\n",
       "      <td>436.000000</td>\n",
       "      <td>436.000000</td>\n",
       "      <td>436.0</td>\n",
       "    </tr>\n",
       "    <tr>\n",
       "      <th>mean</th>\n",
       "      <td>1999-09-02 07:58:53.944954112</td>\n",
       "      <td>141.659174</td>\n",
       "      <td>35.392202</td>\n",
       "      <td>2010.490826</td>\n",
       "      <td>1.133028</td>\n",
       "      <td>1.100917</td>\n",
       "      <td>3.653670</td>\n",
       "      <td>11949.295872</td>\n",
       "      <td>4.229358</td>\n",
       "      <td>1.279817</td>\n",
       "      <td>2007.559633</td>\n",
       "      <td>2010.490826</td>\n",
       "      <td>106.452523</td>\n",
       "      <td>141.659174</td>\n",
       "      <td>38.726147</td>\n",
       "      <td>1.0</td>\n",
       "    </tr>\n",
       "    <tr>\n",
       "      <th>min</th>\n",
       "      <td>1970-05-12 00:00:00</td>\n",
       "      <td>0.700000</td>\n",
       "      <td>1.000000</td>\n",
       "      <td>2003.000000</td>\n",
       "      <td>1.000000</td>\n",
       "      <td>1.000000</td>\n",
       "      <td>1.000000</td>\n",
       "      <td>44.000000</td>\n",
       "      <td>1.000000</td>\n",
       "      <td>1.000000</td>\n",
       "      <td>2003.000000</td>\n",
       "      <td>2003.000000</td>\n",
       "      <td>0.400000</td>\n",
       "      <td>0.700000</td>\n",
       "      <td>0.700000</td>\n",
       "      <td>1.0</td>\n",
       "    </tr>\n",
       "    <tr>\n",
       "      <th>25%</th>\n",
       "      <td>1990-05-03 06:00:00</td>\n",
       "      <td>26.900000</td>\n",
       "      <td>30.000000</td>\n",
       "      <td>2006.000000</td>\n",
       "      <td>1.000000</td>\n",
       "      <td>1.000000</td>\n",
       "      <td>1.000000</td>\n",
       "      <td>6021.500000</td>\n",
       "      <td>2.000000</td>\n",
       "      <td>1.000000</td>\n",
       "      <td>2004.000000</td>\n",
       "      <td>2006.000000</td>\n",
       "      <td>10.900000</td>\n",
       "      <td>26.900000</td>\n",
       "      <td>12.000000</td>\n",
       "      <td>1.0</td>\n",
       "    </tr>\n",
       "    <tr>\n",
       "      <th>50%</th>\n",
       "      <td>2002-05-01 12:00:00</td>\n",
       "      <td>101.999998</td>\n",
       "      <td>40.000000</td>\n",
       "      <td>2010.000000</td>\n",
       "      <td>1.000000</td>\n",
       "      <td>1.000000</td>\n",
       "      <td>2.000000</td>\n",
       "      <td>11667.500000</td>\n",
       "      <td>4.000000</td>\n",
       "      <td>1.000000</td>\n",
       "      <td>2007.000000</td>\n",
       "      <td>2010.000000</td>\n",
       "      <td>47.800000</td>\n",
       "      <td>101.999998</td>\n",
       "      <td>12.000000</td>\n",
       "      <td>1.0</td>\n",
       "    </tr>\n",
       "    <tr>\n",
       "      <th>75%</th>\n",
       "      <td>2008-12-08 18:00:00</td>\n",
       "      <td>226.825000</td>\n",
       "      <td>44.000000</td>\n",
       "      <td>2015.000000</td>\n",
       "      <td>1.000000</td>\n",
       "      <td>1.000000</td>\n",
       "      <td>5.000000</td>\n",
       "      <td>17917.750000</td>\n",
       "      <td>6.000000</td>\n",
       "      <td>1.000000</td>\n",
       "      <td>2010.000000</td>\n",
       "      <td>2015.000000</td>\n",
       "      <td>191.400000</td>\n",
       "      <td>226.825000</td>\n",
       "      <td>48.000002</td>\n",
       "      <td>1.0</td>\n",
       "    </tr>\n",
       "    <tr>\n",
       "      <th>max</th>\n",
       "      <td>2015-12-17 00:00:00</td>\n",
       "      <td>487.899994</td>\n",
       "      <td>44.000000</td>\n",
       "      <td>2016.000000</td>\n",
       "      <td>6.000000</td>\n",
       "      <td>3.000000</td>\n",
       "      <td>13.000000</td>\n",
       "      <td>23988.000000</td>\n",
       "      <td>18.000000</td>\n",
       "      <td>4.000000</td>\n",
       "      <td>2016.000000</td>\n",
       "      <td>2016.000000</td>\n",
       "      <td>451.900000</td>\n",
       "      <td>487.899994</td>\n",
       "      <td>144.100012</td>\n",
       "      <td>1.0</td>\n",
       "    </tr>\n",
       "    <tr>\n",
       "      <th>std</th>\n",
       "      <td>NaN</td>\n",
       "      <td>128.036228</td>\n",
       "      <td>10.218074</td>\n",
       "      <td>4.218995</td>\n",
       "      <td>0.429607</td>\n",
       "      <td>0.330655</td>\n",
       "      <td>3.236539</td>\n",
       "      <td>6905.105597</td>\n",
       "      <td>2.815827</td>\n",
       "      <td>0.590854</td>\n",
       "      <td>3.634272</td>\n",
       "      <td>4.218995</td>\n",
       "      <td>113.117778</td>\n",
       "      <td>128.036228</td>\n",
       "      <td>41.580013</td>\n",
       "      <td>0.0</td>\n",
       "    </tr>\n",
       "  </tbody>\n",
       "</table>\n",
       "</div>"
      ],
      "text/plain": [
       "                            data_adm      tenure       hours          Ano  \\\n",
       "count                            436  436.000000  436.000000   436.000000   \n",
       "mean   1999-09-02 07:58:53.944954112  141.659174   35.392202  2010.490826   \n",
       "min              1970-05-12 00:00:00    0.700000    1.000000  2003.000000   \n",
       "25%              1990-05-03 06:00:00   26.900000   30.000000  2006.000000   \n",
       "50%              2002-05-01 12:00:00  101.999998   40.000000  2010.000000   \n",
       "75%              2008-12-08 18:00:00  226.825000   44.000000  2015.000000   \n",
       "max              2015-12-17 00:00:00  487.899994   44.000000  2016.000000   \n",
       "std                              NaN  128.036228   10.218074     4.218995   \n",
       "\n",
       "            n_pis   n_pis_new       count   contract_id  n_contracts  \\\n",
       "count  436.000000  436.000000  436.000000    436.000000   436.000000   \n",
       "mean     1.133028    1.100917    3.653670  11949.295872     4.229358   \n",
       "min      1.000000    1.000000    1.000000     44.000000     1.000000   \n",
       "25%      1.000000    1.000000    1.000000   6021.500000     2.000000   \n",
       "50%      1.000000    1.000000    2.000000  11667.500000     4.000000   \n",
       "75%      1.000000    1.000000    5.000000  17917.750000     6.000000   \n",
       "max      6.000000    3.000000   13.000000  23988.000000    18.000000   \n",
       "std      0.429607    0.330655    3.236539   6905.105597     2.815827   \n",
       "\n",
       "       n_contracts_year  contract_first_year  contract_last_year  \\\n",
       "count        436.000000           436.000000          436.000000   \n",
       "mean           1.279817          2007.559633         2010.490826   \n",
       "min            1.000000          2003.000000         2003.000000   \n",
       "25%            1.000000          2004.000000         2006.000000   \n",
       "50%            1.000000          2007.000000         2010.000000   \n",
       "75%            1.000000          2010.000000         2015.000000   \n",
       "max            4.000000          2016.000000         2016.000000   \n",
       "std            0.590854             3.634272            4.218995   \n",
       "\n",
       "       contract_first_year_tenure  contract_last_year_tenure  contract_tenure  \\\n",
       "count                  436.000000                 436.000000       436.000000   \n",
       "mean                   106.452523                 141.659174        38.726147   \n",
       "min                      0.400000                   0.700000         0.700000   \n",
       "25%                     10.900000                  26.900000        12.000000   \n",
       "50%                     47.800000                 101.999998        12.000000   \n",
       "75%                    191.400000                 226.825000        48.000002   \n",
       "max                    451.900000                 487.899994       144.100012   \n",
       "std                    113.117778                 128.036228        41.580013   \n",
       "\n",
       "       stem_job  \n",
       "count     436.0  \n",
       "mean        1.0  \n",
       "min         1.0  \n",
       "25%         1.0  \n",
       "50%         1.0  \n",
       "75%         1.0  \n",
       "max         1.0  \n",
       "std         0.0  "
      ]
     },
     "execution_count": 201,
     "metadata": {},
     "output_type": "execute_result"
    }
   ],
   "source": [
    "df.describe()"
   ]
  },
  {
   "cell_type": "markdown",
   "metadata": {},
   "source": [
    "## Creating column \"cbo_max\" that indicates the STEM job with more tenure"
   ]
  },
  {
   "cell_type": "code",
   "execution_count": 202,
   "metadata": {},
   "outputs": [],
   "source": [
    "df[\"total_tenure\"] = df.groupby(['cpf'])['contract_tenure'].transform('sum') # total months in STEM occupations per person "
   ]
  },
  {
   "cell_type": "code",
   "execution_count": 203,
   "metadata": {},
   "outputs": [
    {
     "data": {
      "text/html": [
       "<div>\n",
       "<style scoped>\n",
       "    .dataframe tbody tr th:only-of-type {\n",
       "        vertical-align: middle;\n",
       "    }\n",
       "\n",
       "    .dataframe tbody tr th {\n",
       "        vertical-align: top;\n",
       "    }\n",
       "\n",
       "    .dataframe thead th {\n",
       "        text-align: right;\n",
       "    }\n",
       "</style>\n",
       "<table border=\"1\" class=\"dataframe\">\n",
       "  <thead>\n",
       "    <tr style=\"text-align: right;\">\n",
       "      <th></th>\n",
       "      <th>data_adm</th>\n",
       "      <th>tenure</th>\n",
       "      <th>hours</th>\n",
       "      <th>Ano</th>\n",
       "      <th>n_pis</th>\n",
       "      <th>n_pis_new</th>\n",
       "      <th>count</th>\n",
       "      <th>contract_id</th>\n",
       "      <th>n_contracts</th>\n",
       "      <th>n_contracts_year</th>\n",
       "      <th>contract_first_year</th>\n",
       "      <th>contract_last_year</th>\n",
       "      <th>contract_first_year_tenure</th>\n",
       "      <th>contract_last_year_tenure</th>\n",
       "      <th>contract_tenure</th>\n",
       "      <th>stem_job</th>\n",
       "      <th>total_tenure</th>\n",
       "    </tr>\n",
       "  </thead>\n",
       "  <tbody>\n",
       "    <tr>\n",
       "      <th>count</th>\n",
       "      <td>436</td>\n",
       "      <td>436.000000</td>\n",
       "      <td>436.000000</td>\n",
       "      <td>436.000000</td>\n",
       "      <td>436.000000</td>\n",
       "      <td>436.000000</td>\n",
       "      <td>436.000000</td>\n",
       "      <td>436.000000</td>\n",
       "      <td>436.000000</td>\n",
       "      <td>436.000000</td>\n",
       "      <td>436.000000</td>\n",
       "      <td>436.000000</td>\n",
       "      <td>436.000000</td>\n",
       "      <td>436.000000</td>\n",
       "      <td>436.000000</td>\n",
       "      <td>436.0</td>\n",
       "      <td>436.000000</td>\n",
       "    </tr>\n",
       "    <tr>\n",
       "      <th>mean</th>\n",
       "      <td>1999-09-02 07:58:53.944954112</td>\n",
       "      <td>141.659174</td>\n",
       "      <td>35.392202</td>\n",
       "      <td>2010.490826</td>\n",
       "      <td>1.133028</td>\n",
       "      <td>1.100917</td>\n",
       "      <td>3.653670</td>\n",
       "      <td>11949.295872</td>\n",
       "      <td>4.229358</td>\n",
       "      <td>1.279817</td>\n",
       "      <td>2007.559633</td>\n",
       "      <td>2010.490826</td>\n",
       "      <td>106.452523</td>\n",
       "      <td>141.659174</td>\n",
       "      <td>38.726147</td>\n",
       "      <td>1.0</td>\n",
       "      <td>38.726147</td>\n",
       "    </tr>\n",
       "    <tr>\n",
       "      <th>min</th>\n",
       "      <td>1970-05-12 00:00:00</td>\n",
       "      <td>0.700000</td>\n",
       "      <td>1.000000</td>\n",
       "      <td>2003.000000</td>\n",
       "      <td>1.000000</td>\n",
       "      <td>1.000000</td>\n",
       "      <td>1.000000</td>\n",
       "      <td>44.000000</td>\n",
       "      <td>1.000000</td>\n",
       "      <td>1.000000</td>\n",
       "      <td>2003.000000</td>\n",
       "      <td>2003.000000</td>\n",
       "      <td>0.400000</td>\n",
       "      <td>0.700000</td>\n",
       "      <td>0.700000</td>\n",
       "      <td>1.0</td>\n",
       "      <td>0.700000</td>\n",
       "    </tr>\n",
       "    <tr>\n",
       "      <th>25%</th>\n",
       "      <td>1990-05-03 06:00:00</td>\n",
       "      <td>26.900000</td>\n",
       "      <td>30.000000</td>\n",
       "      <td>2006.000000</td>\n",
       "      <td>1.000000</td>\n",
       "      <td>1.000000</td>\n",
       "      <td>1.000000</td>\n",
       "      <td>6021.500000</td>\n",
       "      <td>2.000000</td>\n",
       "      <td>1.000000</td>\n",
       "      <td>2004.000000</td>\n",
       "      <td>2006.000000</td>\n",
       "      <td>10.900000</td>\n",
       "      <td>26.900000</td>\n",
       "      <td>12.000000</td>\n",
       "      <td>1.0</td>\n",
       "      <td>12.000000</td>\n",
       "    </tr>\n",
       "    <tr>\n",
       "      <th>50%</th>\n",
       "      <td>2002-05-01 12:00:00</td>\n",
       "      <td>101.999998</td>\n",
       "      <td>40.000000</td>\n",
       "      <td>2010.000000</td>\n",
       "      <td>1.000000</td>\n",
       "      <td>1.000000</td>\n",
       "      <td>2.000000</td>\n",
       "      <td>11667.500000</td>\n",
       "      <td>4.000000</td>\n",
       "      <td>1.000000</td>\n",
       "      <td>2007.000000</td>\n",
       "      <td>2010.000000</td>\n",
       "      <td>47.800000</td>\n",
       "      <td>101.999998</td>\n",
       "      <td>12.000000</td>\n",
       "      <td>1.0</td>\n",
       "      <td>12.000000</td>\n",
       "    </tr>\n",
       "    <tr>\n",
       "      <th>75%</th>\n",
       "      <td>2008-12-08 18:00:00</td>\n",
       "      <td>226.825000</td>\n",
       "      <td>44.000000</td>\n",
       "      <td>2015.000000</td>\n",
       "      <td>1.000000</td>\n",
       "      <td>1.000000</td>\n",
       "      <td>5.000000</td>\n",
       "      <td>17917.750000</td>\n",
       "      <td>6.000000</td>\n",
       "      <td>1.000000</td>\n",
       "      <td>2010.000000</td>\n",
       "      <td>2015.000000</td>\n",
       "      <td>191.400000</td>\n",
       "      <td>226.825000</td>\n",
       "      <td>48.000002</td>\n",
       "      <td>1.0</td>\n",
       "      <td>48.000002</td>\n",
       "    </tr>\n",
       "    <tr>\n",
       "      <th>max</th>\n",
       "      <td>2015-12-17 00:00:00</td>\n",
       "      <td>487.899994</td>\n",
       "      <td>44.000000</td>\n",
       "      <td>2016.000000</td>\n",
       "      <td>6.000000</td>\n",
       "      <td>3.000000</td>\n",
       "      <td>13.000000</td>\n",
       "      <td>23988.000000</td>\n",
       "      <td>18.000000</td>\n",
       "      <td>4.000000</td>\n",
       "      <td>2016.000000</td>\n",
       "      <td>2016.000000</td>\n",
       "      <td>451.900000</td>\n",
       "      <td>487.899994</td>\n",
       "      <td>144.100012</td>\n",
       "      <td>1.0</td>\n",
       "      <td>144.100012</td>\n",
       "    </tr>\n",
       "    <tr>\n",
       "      <th>std</th>\n",
       "      <td>NaN</td>\n",
       "      <td>128.036228</td>\n",
       "      <td>10.218074</td>\n",
       "      <td>4.218995</td>\n",
       "      <td>0.429607</td>\n",
       "      <td>0.330655</td>\n",
       "      <td>3.236539</td>\n",
       "      <td>6905.105597</td>\n",
       "      <td>2.815827</td>\n",
       "      <td>0.590854</td>\n",
       "      <td>3.634272</td>\n",
       "      <td>4.218995</td>\n",
       "      <td>113.117778</td>\n",
       "      <td>128.036228</td>\n",
       "      <td>41.580013</td>\n",
       "      <td>0.0</td>\n",
       "      <td>41.580013</td>\n",
       "    </tr>\n",
       "  </tbody>\n",
       "</table>\n",
       "</div>"
      ],
      "text/plain": [
       "                            data_adm      tenure       hours          Ano  \\\n",
       "count                            436  436.000000  436.000000   436.000000   \n",
       "mean   1999-09-02 07:58:53.944954112  141.659174   35.392202  2010.490826   \n",
       "min              1970-05-12 00:00:00    0.700000    1.000000  2003.000000   \n",
       "25%              1990-05-03 06:00:00   26.900000   30.000000  2006.000000   \n",
       "50%              2002-05-01 12:00:00  101.999998   40.000000  2010.000000   \n",
       "75%              2008-12-08 18:00:00  226.825000   44.000000  2015.000000   \n",
       "max              2015-12-17 00:00:00  487.899994   44.000000  2016.000000   \n",
       "std                              NaN  128.036228   10.218074     4.218995   \n",
       "\n",
       "            n_pis   n_pis_new       count   contract_id  n_contracts  \\\n",
       "count  436.000000  436.000000  436.000000    436.000000   436.000000   \n",
       "mean     1.133028    1.100917    3.653670  11949.295872     4.229358   \n",
       "min      1.000000    1.000000    1.000000     44.000000     1.000000   \n",
       "25%      1.000000    1.000000    1.000000   6021.500000     2.000000   \n",
       "50%      1.000000    1.000000    2.000000  11667.500000     4.000000   \n",
       "75%      1.000000    1.000000    5.000000  17917.750000     6.000000   \n",
       "max      6.000000    3.000000   13.000000  23988.000000    18.000000   \n",
       "std      0.429607    0.330655    3.236539   6905.105597     2.815827   \n",
       "\n",
       "       n_contracts_year  contract_first_year  contract_last_year  \\\n",
       "count        436.000000           436.000000          436.000000   \n",
       "mean           1.279817          2007.559633         2010.490826   \n",
       "min            1.000000          2003.000000         2003.000000   \n",
       "25%            1.000000          2004.000000         2006.000000   \n",
       "50%            1.000000          2007.000000         2010.000000   \n",
       "75%            1.000000          2010.000000         2015.000000   \n",
       "max            4.000000          2016.000000         2016.000000   \n",
       "std            0.590854             3.634272            4.218995   \n",
       "\n",
       "       contract_first_year_tenure  contract_last_year_tenure  contract_tenure  \\\n",
       "count                  436.000000                 436.000000       436.000000   \n",
       "mean                   106.452523                 141.659174        38.726147   \n",
       "min                      0.400000                   0.700000         0.700000   \n",
       "25%                     10.900000                  26.900000        12.000000   \n",
       "50%                     47.800000                 101.999998        12.000000   \n",
       "75%                    191.400000                 226.825000        48.000002   \n",
       "max                    451.900000                 487.899994       144.100012   \n",
       "std                    113.117778                 128.036228        41.580013   \n",
       "\n",
       "       stem_job  total_tenure  \n",
       "count     436.0    436.000000  \n",
       "mean        1.0     38.726147  \n",
       "min         1.0      0.700000  \n",
       "25%         1.0     12.000000  \n",
       "50%         1.0     12.000000  \n",
       "75%         1.0     48.000002  \n",
       "max         1.0    144.100012  \n",
       "std         0.0     41.580013  "
      ]
     },
     "execution_count": 203,
     "metadata": {},
     "output_type": "execute_result"
    }
   ],
   "source": [
    "df.describe()"
   ]
  },
  {
   "cell_type": "code",
   "execution_count": 204,
   "metadata": {},
   "outputs": [],
   "source": [
    "df = df.rename(columns = {\"tenure\": \"tenure_rais\"})"
   ]
  },
  {
   "cell_type": "code",
   "execution_count": 205,
   "metadata": {},
   "outputs": [],
   "source": [
    "df = df.rename(columns = {\"total_tenure\": \"tenure\"})"
   ]
  },
  {
   "cell_type": "code",
   "execution_count": 206,
   "metadata": {},
   "outputs": [],
   "source": [
    "df[\"max_contract_tenure\"] = df.groupby(['cpf'])['contract_tenure'].transform('max') # creates a variable with the highest number of months that a person worked "
   ]
  },
  {
   "cell_type": "code",
   "execution_count": 207,
   "metadata": {},
   "outputs": [],
   "source": [
    "df = df[(df[\"max_contract_tenure\"] == df[\"contract_tenure\"])] # keeping only the occupation with the highest number of months that a person worked  "
   ]
  },
  {
   "cell_type": "markdown",
   "metadata": {},
   "source": [
    "- é possível que as duplicatas estejam vindo daqui. Se um cara trabalhou o mesmo tempo em duas profissões, vai dar duplicado.\n",
    "- uma alternativa é manter apenas a profissão com o salário mais alto no caso de duplicata."
   ]
  },
  {
   "cell_type": "code",
   "execution_count": 209,
   "metadata": {
    "scrolled": true
   },
   "outputs": [],
   "source": [
    "# droping acessory variables\n",
    "df = df.drop(columns = ['Ano', 'contract_first_year_tenure', 'n_contracts_year', 'contract_last_year_tenure', 'contract_first_year','contract_last_year', 'contract_tenure', 'max_contract_tenure', 'contract_id', 'count', 'n_pis', 'cbo_2002_original', 'cnpj_raiz'])"
   ]
  },
  {
   "cell_type": "code",
   "execution_count": 210,
   "metadata": {},
   "outputs": [
    {
     "name": "stdout",
     "output_type": "stream",
     "text": [
      "<class 'pandas.core.frame.DataFrame'>\n",
      "RangeIndex: 436 entries, 0 to 435\n",
      "Data columns (total 14 columns):\n",
      " #   Column             Non-Null Count  Dtype         \n",
      "---  ------             --------------  -----         \n",
      " 0   cpf                436 non-null    object        \n",
      " 1   pis                436 non-null    object        \n",
      " 2   nome_rais          436 non-null    object        \n",
      " 3   id_municipio_rais  436 non-null    object        \n",
      " 4   cbo_2002           436 non-null    object        \n",
      " 5   data_adm           436 non-null    datetime64[ns]\n",
      " 6   tenure_rais        436 non-null    float64       \n",
      " 7   vinc_ativ3112      436 non-null    object        \n",
      " 8   hours              436 non-null    float64       \n",
      " 9   Estado             436 non-null    object        \n",
      " 10  n_pis_new          436 non-null    int64         \n",
      " 11  n_contracts        436 non-null    int64         \n",
      " 12  stem_job           436 non-null    int64         \n",
      " 13  tenure             436 non-null    float64       \n",
      "dtypes: datetime64[ns](1), float64(3), int64(3), object(7)\n",
      "memory usage: 47.8+ KB\n"
     ]
    }
   ],
   "source": [
    "df.info()"
   ]
  },
  {
   "cell_type": "markdown",
   "metadata": {},
   "source": [
    "## Merging electoral data (df_canidates) with STEM mayors' occupational data (df_tenure_only_stem) "
   ]
  },
  {
   "cell_type": "code",
   "execution_count": 211,
   "metadata": {},
   "outputs": [],
   "source": [
    "df = pd.merge(df, df_candidates, how = \"outer\", on = \"cpf\", indicator = True, validate = \"one_to_one\")"
   ]
  },
  {
   "cell_type": "code",
   "execution_count": 212,
   "metadata": {},
   "outputs": [],
   "source": [
    "df[\"stem_job\"].fillna(0, inplace=True) # classifies all candidates that didn't have a formal STEM job as a Non-STEM candidate"
   ]
  },
  {
   "cell_type": "code",
   "execution_count": 213,
   "metadata": {},
   "outputs": [],
   "source": [
    "df[\"tenure\"].fillna(0, inplace = True) # gives 0 of exposure intensity to Non-STEM candidates"
   ]
  },
  {
   "cell_type": "code",
   "execution_count": 214,
   "metadata": {
    "scrolled": true
   },
   "outputs": [
    {
     "data": {
      "text/html": [
       "<div>\n",
       "<style scoped>\n",
       "    .dataframe tbody tr th:only-of-type {\n",
       "        vertical-align: middle;\n",
       "    }\n",
       "\n",
       "    .dataframe tbody tr th {\n",
       "        vertical-align: top;\n",
       "    }\n",
       "\n",
       "    .dataframe thead th {\n",
       "        text-align: right;\n",
       "    }\n",
       "</style>\n",
       "<table border=\"1\" class=\"dataframe\">\n",
       "  <thead>\n",
       "    <tr style=\"text-align: right;\">\n",
       "      <th></th>\n",
       "      <th>data_adm</th>\n",
       "      <th>tenure_rais</th>\n",
       "      <th>hours</th>\n",
       "      <th>n_pis_new</th>\n",
       "      <th>n_contracts</th>\n",
       "      <th>stem_job</th>\n",
       "      <th>tenure</th>\n",
       "    </tr>\n",
       "  </thead>\n",
       "  <tbody>\n",
       "    <tr>\n",
       "      <th>count</th>\n",
       "      <td>436</td>\n",
       "      <td>436.000000</td>\n",
       "      <td>436.000000</td>\n",
       "      <td>436.000000</td>\n",
       "      <td>436.000000</td>\n",
       "      <td>12931.000000</td>\n",
       "      <td>12931.000000</td>\n",
       "    </tr>\n",
       "    <tr>\n",
       "      <th>mean</th>\n",
       "      <td>1999-09-02 07:58:53.944954112</td>\n",
       "      <td>141.659174</td>\n",
       "      <td>35.392202</td>\n",
       "      <td>1.100917</td>\n",
       "      <td>4.229358</td>\n",
       "      <td>0.033717</td>\n",
       "      <td>1.305746</td>\n",
       "    </tr>\n",
       "    <tr>\n",
       "      <th>min</th>\n",
       "      <td>1970-05-12 00:00:00</td>\n",
       "      <td>0.700000</td>\n",
       "      <td>1.000000</td>\n",
       "      <td>1.000000</td>\n",
       "      <td>1.000000</td>\n",
       "      <td>0.000000</td>\n",
       "      <td>0.000000</td>\n",
       "    </tr>\n",
       "    <tr>\n",
       "      <th>25%</th>\n",
       "      <td>1990-05-03 06:00:00</td>\n",
       "      <td>26.900000</td>\n",
       "      <td>30.000000</td>\n",
       "      <td>1.000000</td>\n",
       "      <td>2.000000</td>\n",
       "      <td>0.000000</td>\n",
       "      <td>0.000000</td>\n",
       "    </tr>\n",
       "    <tr>\n",
       "      <th>50%</th>\n",
       "      <td>2002-05-01 12:00:00</td>\n",
       "      <td>101.999998</td>\n",
       "      <td>40.000000</td>\n",
       "      <td>1.000000</td>\n",
       "      <td>4.000000</td>\n",
       "      <td>0.000000</td>\n",
       "      <td>0.000000</td>\n",
       "    </tr>\n",
       "    <tr>\n",
       "      <th>75%</th>\n",
       "      <td>2008-12-08 18:00:00</td>\n",
       "      <td>226.825000</td>\n",
       "      <td>44.000000</td>\n",
       "      <td>1.000000</td>\n",
       "      <td>6.000000</td>\n",
       "      <td>0.000000</td>\n",
       "      <td>0.000000</td>\n",
       "    </tr>\n",
       "    <tr>\n",
       "      <th>max</th>\n",
       "      <td>2015-12-17 00:00:00</td>\n",
       "      <td>487.899994</td>\n",
       "      <td>44.000000</td>\n",
       "      <td>3.000000</td>\n",
       "      <td>18.000000</td>\n",
       "      <td>1.000000</td>\n",
       "      <td>144.100012</td>\n",
       "    </tr>\n",
       "    <tr>\n",
       "      <th>std</th>\n",
       "      <td>NaN</td>\n",
       "      <td>128.036228</td>\n",
       "      <td>10.218074</td>\n",
       "      <td>0.330655</td>\n",
       "      <td>2.815827</td>\n",
       "      <td>0.180508</td>\n",
       "      <td>10.345534</td>\n",
       "    </tr>\n",
       "  </tbody>\n",
       "</table>\n",
       "</div>"
      ],
      "text/plain": [
       "                            data_adm  tenure_rais       hours   n_pis_new  \\\n",
       "count                            436   436.000000  436.000000  436.000000   \n",
       "mean   1999-09-02 07:58:53.944954112   141.659174   35.392202    1.100917   \n",
       "min              1970-05-12 00:00:00     0.700000    1.000000    1.000000   \n",
       "25%              1990-05-03 06:00:00    26.900000   30.000000    1.000000   \n",
       "50%              2002-05-01 12:00:00   101.999998   40.000000    1.000000   \n",
       "75%              2008-12-08 18:00:00   226.825000   44.000000    1.000000   \n",
       "max              2015-12-17 00:00:00   487.899994   44.000000    3.000000   \n",
       "std                              NaN   128.036228   10.218074    0.330655   \n",
       "\n",
       "       n_contracts      stem_job        tenure  \n",
       "count   436.000000  12931.000000  12931.000000  \n",
       "mean      4.229358      0.033717      1.305746  \n",
       "min       1.000000      0.000000      0.000000  \n",
       "25%       2.000000      0.000000      0.000000  \n",
       "50%       4.000000      0.000000      0.000000  \n",
       "75%       6.000000      0.000000      0.000000  \n",
       "max      18.000000      1.000000    144.100012  \n",
       "std       2.815827      0.180508     10.345534  "
      ]
     },
     "execution_count": 214,
     "metadata": {},
     "output_type": "execute_result"
    }
   ],
   "source": [
    "df.describe()"
   ]
  },
  {
   "cell_type": "markdown",
   "metadata": {},
   "source": [
    "# Creating variable \"rdd_stem_won\" that indicates whether the STEM candidates won "
   ]
  },
  {
   "cell_type": "code",
   "execution_count": 215,
   "metadata": {},
   "outputs": [
    {
     "name": "stdout",
     "output_type": "stream",
     "text": [
      "<class 'pandas.core.frame.DataFrame'>\n",
      "RangeIndex: 12931 entries, 0 to 12930\n",
      "Data columns (total 37 columns):\n",
      " #   Column             Non-Null Count  Dtype         \n",
      "---  ------             --------------  -----         \n",
      " 0   cpf                12931 non-null  object        \n",
      " 1   pis                436 non-null    object        \n",
      " 2   nome_rais          436 non-null    object        \n",
      " 3   id_municipio_rais  436 non-null    object        \n",
      " 4   cbo_2002           436 non-null    object        \n",
      " 5   data_adm           436 non-null    datetime64[ns]\n",
      " 6   tenure_rais        436 non-null    float64       \n",
      " 7   vinc_ativ3112      436 non-null    object        \n",
      " 8   hours              436 non-null    float64       \n",
      " 9   Estado             436 non-null    object        \n",
      " 10  n_pis_new          436 non-null    float64       \n",
      " 11  n_contracts        436 non-null    float64       \n",
      " 12  stem_job           12931 non-null  float64       \n",
      " 13  tenure             12931 non-null  float64       \n",
      " 14  ano                12931 non-null  object        \n",
      " 15  tipo_eleicao       12931 non-null  object        \n",
      " 16  sigla_uf           12931 non-null  object        \n",
      " 17  id_municipio       12931 non-null  object        \n",
      " 18  nome               12931 non-null  object        \n",
      " 19  nome_urna          12931 non-null  object        \n",
      " 20  numero_partido     12931 non-null  object        \n",
      " 21  sigla_partido      12931 non-null  object        \n",
      " 22  cargo              12931 non-null  object        \n",
      " 23  situacao           12931 non-null  object        \n",
      " 24  ocupacao           12931 non-null  object        \n",
      " 25  idade              12930 non-null  object        \n",
      " 26  genero             12931 non-null  object        \n",
      " 27  instrucao          12931 non-null  object        \n",
      " 28  raca               12931 non-null  object        \n",
      " 29  resultado          12931 non-null  object        \n",
      " 30  2_lugar            12931 non-null  object        \n",
      " 31  3_lugar            12931 non-null  object        \n",
      " 32  dif_votos_2_lugar  12931 non-null  object        \n",
      " 33  dif_votos_3_lugar  7543 non-null   object        \n",
      " 34  first_name         12931 non-null  object        \n",
      " 35  last_name          12931 non-null  object        \n",
      " 36  _merge             12931 non-null  category      \n",
      "dtypes: category(1), datetime64[ns](1), float64(6), object(29)\n",
      "memory usage: 3.6+ MB\n"
     ]
    }
   ],
   "source": [
    "df.info()"
   ]
  },
  {
   "cell_type": "code",
   "execution_count": 216,
   "metadata": {},
   "outputs": [],
   "source": [
    "teste = pd.DataFrame(df.groupby([\"id_municipio\"]).stem_job.sum())"
   ]
  },
  {
   "cell_type": "code",
   "execution_count": 217,
   "metadata": {},
   "outputs": [],
   "source": [
    "teste.rename(columns = {\"stem_job\": \"n_stem_candidates\"}, inplace = True)"
   ]
  },
  {
   "cell_type": "code",
   "execution_count": 218,
   "metadata": {},
   "outputs": [],
   "source": [
    "df = df.drop(columns = \"_merge\")"
   ]
  },
  {
   "cell_type": "code",
   "execution_count": 219,
   "metadata": {},
   "outputs": [],
   "source": [
    "df = pd.merge(df, teste, how = \"left\", on = \"id_municipio\", indicator = True)"
   ]
  },
  {
   "cell_type": "code",
   "execution_count": 220,
   "metadata": {},
   "outputs": [
    {
     "data": {
      "text/plain": [
       "n_stem_candidates\n",
       "0.0    11846\n",
       "1.0     1031\n",
       "2.0       54\n",
       "Name: count, dtype: int64"
      ]
     },
     "execution_count": 220,
     "metadata": {},
     "output_type": "execute_result"
    }
   ],
   "source": [
    "df.n_stem_candidates.value_counts()"
   ]
  },
  {
   "cell_type": "code",
   "execution_count": 221,
   "metadata": {},
   "outputs": [
    {
     "data": {
      "text/plain": [
       "(167, 38)"
      ]
     },
     "execution_count": 221,
     "metadata": {},
     "output_type": "execute_result"
    }
   ],
   "source": [
    "df.query(\"resultado == 'eleito' & stem_job == 1\").shape"
   ]
  },
  {
   "cell_type": "code",
   "execution_count": 222,
   "metadata": {},
   "outputs": [],
   "source": [
    "df[\"stem_won\"] = ((df[\"resultado\"] == 'eleito') & (df[\"stem_job\"] == 1)).astype(int) # creates dummy"
   ]
  },
  {
   "cell_type": "markdown",
   "metadata": {},
   "source": [
    "# Droping stem candidates whose election was invalidated"
   ]
  },
  {
   "cell_type": "code",
   "execution_count": 223,
   "metadata": {},
   "outputs": [
    {
     "data": {
      "text/plain": [
       "situacao\n",
       "deferido                420\n",
       "deferido com recurso     16\n",
       "Name: count, dtype: int64"
      ]
     },
     "execution_count": 223,
     "metadata": {},
     "output_type": "execute_result"
    }
   ],
   "source": [
    "df[df[\"stem_job\"] == 1].situacao.value_counts()"
   ]
  },
  {
   "cell_type": "markdown",
   "metadata": {},
   "source": [
    "# Saving"
   ]
  },
  {
   "cell_type": "code",
   "execution_count": 224,
   "metadata": {},
   "outputs": [],
   "source": [
    "# droping variables that we won't use\n",
    "df = df.drop(columns = ['_merge', 'data_adm'])"
   ]
  },
  {
   "cell_type": "code",
   "execution_count": 225,
   "metadata": {},
   "outputs": [],
   "source": [
    "# changing types\n",
    "df.ano = df.ano.astype(int)\n",
    "df.idade = df.idade.astype(float)\n",
    "df.dif_votos_2_lugar = df.dif_votos_2_lugar.astype(float)\n",
    "df.dif_votos_3_lugar = df.dif_votos_3_lugar.astype(float)"
   ]
  },
  {
   "cell_type": "code",
   "execution_count": 226,
   "metadata": {},
   "outputs": [
    {
     "name": "stdout",
     "output_type": "stream",
     "text": [
      "<class 'pandas.core.frame.DataFrame'>\n",
      "RangeIndex: 12931 entries, 0 to 12930\n",
      "Data columns (total 37 columns):\n",
      " #   Column             Non-Null Count  Dtype  \n",
      "---  ------             --------------  -----  \n",
      " 0   cpf                12931 non-null  object \n",
      " 1   pis                436 non-null    object \n",
      " 2   nome_rais          436 non-null    object \n",
      " 3   id_municipio_rais  436 non-null    object \n",
      " 4   cbo_2002           436 non-null    object \n",
      " 5   tenure_rais        436 non-null    float64\n",
      " 6   vinc_ativ3112      436 non-null    object \n",
      " 7   hours              436 non-null    float64\n",
      " 8   Estado             436 non-null    object \n",
      " 9   n_pis_new          436 non-null    float64\n",
      " 10  n_contracts        436 non-null    float64\n",
      " 11  stem_job           12931 non-null  float64\n",
      " 12  tenure             12931 non-null  float64\n",
      " 13  ano                12931 non-null  int32  \n",
      " 14  tipo_eleicao       12931 non-null  object \n",
      " 15  sigla_uf           12931 non-null  object \n",
      " 16  id_municipio       12931 non-null  object \n",
      " 17  nome               12931 non-null  object \n",
      " 18  nome_urna          12931 non-null  object \n",
      " 19  numero_partido     12931 non-null  object \n",
      " 20  sigla_partido      12931 non-null  object \n",
      " 21  cargo              12931 non-null  object \n",
      " 22  situacao           12931 non-null  object \n",
      " 23  ocupacao           12931 non-null  object \n",
      " 24  idade              12930 non-null  float64\n",
      " 25  genero             12931 non-null  object \n",
      " 26  instrucao          12931 non-null  object \n",
      " 27  raca               12931 non-null  object \n",
      " 28  resultado          12931 non-null  object \n",
      " 29  2_lugar            12931 non-null  object \n",
      " 30  3_lugar            12931 non-null  object \n",
      " 31  dif_votos_2_lugar  12931 non-null  float64\n",
      " 32  dif_votos_3_lugar  7543 non-null   float64\n",
      " 33  first_name         12931 non-null  object \n",
      " 34  last_name          12931 non-null  object \n",
      " 35  n_stem_candidates  12931 non-null  float64\n",
      " 36  stem_won           12931 non-null  int32  \n",
      "dtypes: float64(10), int32(2), object(25)\n",
      "memory usage: 3.6+ MB\n"
     ]
    }
   ],
   "source": [
    "df.info()"
   ]
  },
  {
   "cell_type": "markdown",
   "metadata": {},
   "source": [
    "- cbo_2002 has a lower number of observations because we only got information on STEM occupations\n",
    "- dif_votos_3_lugar has a lower number of obs because we consider it missing when municipalities had less than 3 candidates"
   ]
  },
  {
   "cell_type": "code",
   "execution_count": 227,
   "metadata": {},
   "outputs": [
    {
     "data": {
      "text/html": [
       "<div>\n",
       "<style scoped>\n",
       "    .dataframe tbody tr th:only-of-type {\n",
       "        vertical-align: middle;\n",
       "    }\n",
       "\n",
       "    .dataframe tbody tr th {\n",
       "        vertical-align: top;\n",
       "    }\n",
       "\n",
       "    .dataframe thead th {\n",
       "        text-align: right;\n",
       "    }\n",
       "</style>\n",
       "<table border=\"1\" class=\"dataframe\">\n",
       "  <thead>\n",
       "    <tr style=\"text-align: right;\">\n",
       "      <th></th>\n",
       "      <th>tenure_rais</th>\n",
       "      <th>hours</th>\n",
       "      <th>n_pis_new</th>\n",
       "      <th>n_contracts</th>\n",
       "      <th>stem_job</th>\n",
       "      <th>tenure</th>\n",
       "      <th>ano</th>\n",
       "      <th>idade</th>\n",
       "      <th>dif_votos_2_lugar</th>\n",
       "      <th>dif_votos_3_lugar</th>\n",
       "      <th>n_stem_candidates</th>\n",
       "      <th>stem_won</th>\n",
       "    </tr>\n",
       "  </thead>\n",
       "  <tbody>\n",
       "    <tr>\n",
       "      <th>count</th>\n",
       "      <td>436.000000</td>\n",
       "      <td>436.000000</td>\n",
       "      <td>436.000000</td>\n",
       "      <td>436.000000</td>\n",
       "      <td>12931.000000</td>\n",
       "      <td>12931.000000</td>\n",
       "      <td>12931.0</td>\n",
       "      <td>12930.000000</td>\n",
       "      <td>12931.000000</td>\n",
       "      <td>7543.000000</td>\n",
       "      <td>12931.000000</td>\n",
       "      <td>12931.000000</td>\n",
       "    </tr>\n",
       "    <tr>\n",
       "      <th>mean</th>\n",
       "      <td>141.659174</td>\n",
       "      <td>35.392202</td>\n",
       "      <td>1.100917</td>\n",
       "      <td>4.229358</td>\n",
       "      <td>0.033717</td>\n",
       "      <td>1.305746</td>\n",
       "      <td>2016.0</td>\n",
       "      <td>49.359319</td>\n",
       "      <td>0.161358</td>\n",
       "      <td>0.388245</td>\n",
       "      <td>0.088083</td>\n",
       "      <td>0.012915</td>\n",
       "    </tr>\n",
       "    <tr>\n",
       "      <th>std</th>\n",
       "      <td>128.036228</td>\n",
       "      <td>10.218074</td>\n",
       "      <td>0.330655</td>\n",
       "      <td>2.815827</td>\n",
       "      <td>0.180508</td>\n",
       "      <td>10.345534</td>\n",
       "      <td>0.0</td>\n",
       "      <td>10.789145</td>\n",
       "      <td>0.156098</td>\n",
       "      <td>0.170052</td>\n",
       "      <td>0.297797</td>\n",
       "      <td>0.112911</td>\n",
       "    </tr>\n",
       "    <tr>\n",
       "      <th>min</th>\n",
       "      <td>0.700000</td>\n",
       "      <td>1.000000</td>\n",
       "      <td>1.000000</td>\n",
       "      <td>1.000000</td>\n",
       "      <td>0.000000</td>\n",
       "      <td>0.000000</td>\n",
       "      <td>2016.0</td>\n",
       "      <td>21.000000</td>\n",
       "      <td>0.000000</td>\n",
       "      <td>0.003633</td>\n",
       "      <td>0.000000</td>\n",
       "      <td>0.000000</td>\n",
       "    </tr>\n",
       "    <tr>\n",
       "      <th>25%</th>\n",
       "      <td>26.900000</td>\n",
       "      <td>30.000000</td>\n",
       "      <td>1.000000</td>\n",
       "      <td>2.000000</td>\n",
       "      <td>0.000000</td>\n",
       "      <td>0.000000</td>\n",
       "      <td>2016.0</td>\n",
       "      <td>42.000000</td>\n",
       "      <td>0.051898</td>\n",
       "      <td>0.256850</td>\n",
       "      <td>0.000000</td>\n",
       "      <td>0.000000</td>\n",
       "    </tr>\n",
       "    <tr>\n",
       "      <th>50%</th>\n",
       "      <td>101.999998</td>\n",
       "      <td>40.000000</td>\n",
       "      <td>1.000000</td>\n",
       "      <td>4.000000</td>\n",
       "      <td>0.000000</td>\n",
       "      <td>0.000000</td>\n",
       "      <td>2016.0</td>\n",
       "      <td>49.000000</td>\n",
       "      <td>0.117414</td>\n",
       "      <td>0.407434</td>\n",
       "      <td>0.000000</td>\n",
       "      <td>0.000000</td>\n",
       "    </tr>\n",
       "    <tr>\n",
       "      <th>75%</th>\n",
       "      <td>226.825000</td>\n",
       "      <td>44.000000</td>\n",
       "      <td>1.000000</td>\n",
       "      <td>6.000000</td>\n",
       "      <td>0.000000</td>\n",
       "      <td>0.000000</td>\n",
       "      <td>2016.0</td>\n",
       "      <td>57.000000</td>\n",
       "      <td>0.219736</td>\n",
       "      <td>0.509563</td>\n",
       "      <td>0.000000</td>\n",
       "      <td>0.000000</td>\n",
       "    </tr>\n",
       "    <tr>\n",
       "      <th>max</th>\n",
       "      <td>487.899994</td>\n",
       "      <td>44.000000</td>\n",
       "      <td>3.000000</td>\n",
       "      <td>18.000000</td>\n",
       "      <td>1.000000</td>\n",
       "      <td>144.100012</td>\n",
       "      <td>2016.0</td>\n",
       "      <td>90.000000</td>\n",
       "      <td>0.981252</td>\n",
       "      <td>0.981894</td>\n",
       "      <td>2.000000</td>\n",
       "      <td>1.000000</td>\n",
       "    </tr>\n",
       "  </tbody>\n",
       "</table>\n",
       "</div>"
      ],
      "text/plain": [
       "       tenure_rais       hours   n_pis_new  n_contracts      stem_job  \\\n",
       "count   436.000000  436.000000  436.000000   436.000000  12931.000000   \n",
       "mean    141.659174   35.392202    1.100917     4.229358      0.033717   \n",
       "std     128.036228   10.218074    0.330655     2.815827      0.180508   \n",
       "min       0.700000    1.000000    1.000000     1.000000      0.000000   \n",
       "25%      26.900000   30.000000    1.000000     2.000000      0.000000   \n",
       "50%     101.999998   40.000000    1.000000     4.000000      0.000000   \n",
       "75%     226.825000   44.000000    1.000000     6.000000      0.000000   \n",
       "max     487.899994   44.000000    3.000000    18.000000      1.000000   \n",
       "\n",
       "             tenure      ano         idade  dif_votos_2_lugar  \\\n",
       "count  12931.000000  12931.0  12930.000000       12931.000000   \n",
       "mean       1.305746   2016.0     49.359319           0.161358   \n",
       "std       10.345534      0.0     10.789145           0.156098   \n",
       "min        0.000000   2016.0     21.000000           0.000000   \n",
       "25%        0.000000   2016.0     42.000000           0.051898   \n",
       "50%        0.000000   2016.0     49.000000           0.117414   \n",
       "75%        0.000000   2016.0     57.000000           0.219736   \n",
       "max      144.100012   2016.0     90.000000           0.981252   \n",
       "\n",
       "       dif_votos_3_lugar  n_stem_candidates      stem_won  \n",
       "count        7543.000000       12931.000000  12931.000000  \n",
       "mean            0.388245           0.088083      0.012915  \n",
       "std             0.170052           0.297797      0.112911  \n",
       "min             0.003633           0.000000      0.000000  \n",
       "25%             0.256850           0.000000      0.000000  \n",
       "50%             0.407434           0.000000      0.000000  \n",
       "75%             0.509563           0.000000      0.000000  \n",
       "max             0.981894           2.000000      1.000000  "
      ]
     },
     "execution_count": 227,
     "metadata": {},
     "output_type": "execute_result"
    }
   ],
   "source": [
    "df.describe()"
   ]
  },
  {
   "cell_type": "code",
   "execution_count": 228,
   "metadata": {},
   "outputs": [],
   "source": [
    "df.to_csv(output_dir + 'data/base_rdd_covid_stem_2016.csv', sep = \",\", index = False, encoding = \"utf-8-sig\")"
   ]
  },
  {
   "cell_type": "code",
   "execution_count": 229,
   "metadata": {},
   "outputs": [],
   "source": [
    "teste = df[df['stem_job'] == 1]"
   ]
  },
  {
   "cell_type": "code",
   "execution_count": 230,
   "metadata": {},
   "outputs": [],
   "source": [
    "import seaborn as sns"
   ]
  },
  {
   "cell_type": "code",
   "execution_count": 231,
   "metadata": {},
   "outputs": [
    {
     "data": {
      "text/plain": [
       "tenure\n",
       "12.000000     155\n",
       "24.000000      32\n",
       "36.000000      19\n",
       "12.000000      12\n",
       "84.000000       9\n",
       "             ... \n",
       "36.100000       1\n",
       "7.900000        1\n",
       "108.100000      1\n",
       "84.000003       1\n",
       "0.700000        1\n",
       "Name: count, Length: 120, dtype: int64"
      ]
     },
     "execution_count": 231,
     "metadata": {},
     "output_type": "execute_result"
    }
   ],
   "source": [
    "teste.tenure.value_counts()"
   ]
  }
 ],
 "metadata": {
  "kernelspec": {
   "display_name": "Python 3 (ipykernel)",
   "language": "python",
   "name": "python3"
  },
  "language_info": {
   "codemirror_mode": {
    "name": "ipython",
    "version": 3
   },
   "file_extension": ".py",
   "mimetype": "text/x-python",
   "name": "python",
   "nbconvert_exporter": "python",
   "pygments_lexer": "ipython3",
   "version": "3.9.12"
  }
 },
 "nbformat": 4,
 "nbformat_minor": 4
}
