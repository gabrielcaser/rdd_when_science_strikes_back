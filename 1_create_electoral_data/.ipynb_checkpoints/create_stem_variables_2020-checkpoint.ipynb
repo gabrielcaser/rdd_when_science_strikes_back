{
 "cells": [
  {
   "cell_type": "markdown",
   "metadata": {},
   "source": [
    "- Alterações desta versão\n",
    "    - estou encontrando menos municipios rdd == 1, imagino porque botei situacao == deferido. Posso testar para ver se os resultados melhoram"
   ]
  },
  {
   "cell_type": "markdown",
   "metadata": {},
   "source": [
    "# Configurando o ambiente"
   ]
  },
  {
   "cell_type": "code",
   "execution_count": 1,
   "metadata": {},
   "outputs": [],
   "source": [
    "import pandas as pd\n",
    "import numpy as np\n",
    "import matplotlib.pyplot as plt\n",
    "import re\n",
    "import seaborn as sns\n",
    "#import basedosdados as bd\n",
    "import pyodbc\n",
    "import re\n",
    "import time"
   ]
  },
  {
   "cell_type": "markdown",
   "metadata": {},
   "source": [
    "# Procurando profissões STEM"
   ]
  },
  {
   "cell_type": "code",
   "execution_count": 2,
   "metadata": {},
   "outputs": [],
   "source": [
    "cbos_stem = \"1223 1236 1237 1413 1425 1426 2011 2012 2021 2030 2031 2032 2033 2034 2111 2112 2122 2123 2124 2131 2132 2133 2134 2140 2142 2143 2144 2145 2146 2147 2148 2149 2211 2212 2221 2222 2341 2342 2343 2344 2513 3001 3003 3011 3012 3111 3112 3115 3121 3122 3123 3161 3171 3172 3180 3181 3182 3183 3185 3186 3187 3201 3212 3253 3951\""
   ]
  },
  {
   "cell_type": "markdown",
   "metadata": {},
   "source": [
    "- fonte: Machado et all 2021"
   ]
  },
  {
   "cell_type": "code",
   "execution_count": 3,
   "metadata": {},
   "outputs": [],
   "source": [
    "cbos_stem = tuple(cbos_stem.split(\" \"))"
   ]
  },
  {
   "cell_type": "markdown",
   "metadata": {},
   "source": [
    "# Procurando Candidatos STEM"
   ]
  },
  {
   "cell_type": "markdown",
   "metadata": {},
   "source": [
    "## Procurando candidatos eleitos na BD+"
   ]
  },
  {
   "cell_type": "code",
   "execution_count": 4,
   "metadata": {},
   "outputs": [],
   "source": [
    "#query = \"\"\" SELECT\n",
    "#                *         \n",
    "#            FROM `basedosdados.br_tse_eleicoes.candidatos` candidatos\n",
    "#            INNER JOIN `basedosdados.br_tse_eleicoes.resultados_candidato` resultados\n",
    "#            ON candidatos.id_candidato_bd = resultados.id_candidato_bd\n",
    "#            WHERE candidatos.cargo = 'prefeito'\n",
    "#            AND resultados.tipo_eleicao = 'eleicao ordinaria'\n",
    "#            AND candidatos.tipo_eleicao = 'eleicao ordinaria'\n",
    "#            AND resultados.turno = 1\n",
    "#            AND resultados.ano = 2020\n",
    "#            AND candidatos.ano = 2020\n",
    "#            AND candidatos.situacao = 'deferido'\"\"\"\n",
    "#\n",
    "#eleitos = bd.read_sql(query, billing_project_id= \"econometria-314719\")"
   ]
  },
  {
   "cell_type": "markdown",
   "metadata": {},
   "source": [
    "### salvando"
   ]
  },
  {
   "cell_type": "code",
   "execution_count": 5,
   "metadata": {},
   "outputs": [],
   "source": [
    "#eleitos.to_csv('output/eleitos.csv', sep = \";\", index = False, encoding = \"utf-8-sig\")"
   ]
  },
  {
   "cell_type": "markdown",
   "metadata": {},
   "source": [
    "### abrindo"
   ]
  },
  {
   "cell_type": "code",
   "execution_count": 6,
   "metadata": {},
   "outputs": [],
   "source": [
    "eleitos = pd.read_csv(\"Dados/input/eleitos.csv\", sep = \";\", dtype = {\"id_municipio\": str, \"id_municipio_tse\": str, \"id_candidato_bd\": str, \"cpf\": str})"
   ]
  },
  {
   "cell_type": "code",
   "execution_count": 7,
   "metadata": {},
   "outputs": [
    {
     "name": "stdout",
     "output_type": "stream",
     "text": [
      "<class 'pandas.core.frame.DataFrame'>\n",
      "RangeIndex: 17702 entries, 0 to 17701\n",
      "Data columns (total 40 columns):\n",
      " #   Column                Non-Null Count  Dtype \n",
      "---  ------                --------------  ----- \n",
      " 0   ano                   17702 non-null  int64 \n",
      " 1   tipo_eleicao          17702 non-null  object\n",
      " 2   sigla_uf              17702 non-null  object\n",
      " 3   id_municipio          17702 non-null  object\n",
      " 4   id_municipio_tse      17702 non-null  object\n",
      " 5   id_candidato_bd       17702 non-null  object\n",
      " 6   cpf                   17702 non-null  object\n",
      " 7   titulo_eleitoral      17702 non-null  int64 \n",
      " 8   sequencial            17702 non-null  int64 \n",
      " 9   numero                17702 non-null  int64 \n",
      " 10  nome                  17702 non-null  object\n",
      " 11  nome_urna             17702 non-null  object\n",
      " 12  numero_partido        17702 non-null  int64 \n",
      " 13  sigla_partido         17702 non-null  object\n",
      " 14  cargo                 17702 non-null  object\n",
      " 15  situacao              17702 non-null  object\n",
      " 16  ocupacao              17702 non-null  object\n",
      " 17  data_nascimento       17702 non-null  object\n",
      " 18  idade                 17702 non-null  int64 \n",
      " 19  genero                17702 non-null  object\n",
      " 20  instrucao             17702 non-null  object\n",
      " 21  estado_civil          17702 non-null  object\n",
      " 22  nacionalidade         17702 non-null  object\n",
      " 23  sigla_uf_nascimento   17702 non-null  object\n",
      " 24  municipio_nascimento  17702 non-null  object\n",
      " 25  email                 17702 non-null  object\n",
      " 26  raca                  17608 non-null  object\n",
      " 27  ano_1                 17702 non-null  int64 \n",
      " 28  turno                 17702 non-null  int64 \n",
      " 29  tipo_eleicao_1        17702 non-null  object\n",
      " 30  sigla_uf_1            17702 non-null  object\n",
      " 31  id_municipio_1        17702 non-null  int64 \n",
      " 32  id_municipio_tse_1    17702 non-null  int64 \n",
      " 33  cargo_1               17702 non-null  object\n",
      " 34  sigla_partido_1       17702 non-null  object\n",
      " 35  numero_candidato      17702 non-null  int64 \n",
      " 36  sequencial_candidato  17702 non-null  int64 \n",
      " 37  id_candidato_bd_1     17702 non-null  int64 \n",
      " 38  resultado             17702 non-null  object\n",
      " 39  votos                 17702 non-null  int64 \n",
      "dtypes: int64(14), object(26)\n",
      "memory usage: 5.4+ MB\n"
     ]
    }
   ],
   "source": [
    "eleitos.info()"
   ]
  },
  {
   "cell_type": "code",
   "execution_count": 8,
   "metadata": {},
   "outputs": [
    {
     "data": {
      "text/plain": [
       "17702"
      ]
     },
     "execution_count": 8,
     "metadata": {},
     "output_type": "execute_result"
    }
   ],
   "source": [
    "len(eleitos)"
   ]
  },
  {
   "cell_type": "markdown",
   "metadata": {},
   "source": [
    "### Mantendo apenas municípios onde candidato foi eleito no primeiro turno"
   ]
  },
  {
   "cell_type": "code",
   "execution_count": 9,
   "metadata": {},
   "outputs": [
    {
     "data": {
      "text/plain": [
       "array(['nao eleito', '2º turno', 'eleito'], dtype=object)"
      ]
     },
     "execution_count": 9,
     "metadata": {},
     "output_type": "execute_result"
    }
   ],
   "source": [
    "eleitos[\"resultado\"].unique()"
   ]
  },
  {
   "cell_type": "code",
   "execution_count": 10,
   "metadata": {},
   "outputs": [],
   "source": [
    "eleitos[\"decisao_primeiro_turno\"] = eleitos[\"resultado\"] == 'eleito'"
   ]
  },
  {
   "cell_type": "code",
   "execution_count": 11,
   "metadata": {},
   "outputs": [
    {
     "data": {
      "text/plain": [
       "False    12435\n",
       "True      5267\n",
       "Name: decisao_primeiro_turno, dtype: int64"
      ]
     },
     "execution_count": 11,
     "metadata": {},
     "output_type": "execute_result"
    }
   ],
   "source": [
    "eleitos[\"decisao_primeiro_turno\"].value_counts()"
   ]
  },
  {
   "cell_type": "code",
   "execution_count": 12,
   "metadata": {},
   "outputs": [],
   "source": [
    "eleitos[\"decisao_primeiro_turno\"] = eleitos.groupby([\"id_municipio_tse\"]).decisao_primeiro_turno.transform('sum')"
   ]
  },
  {
   "cell_type": "code",
   "execution_count": 13,
   "metadata": {},
   "outputs": [
    {
     "data": {
      "text/plain": [
       "1    16557\n",
       "0     1145\n",
       "Name: decisao_primeiro_turno, dtype: int64"
      ]
     },
     "execution_count": 13,
     "metadata": {},
     "output_type": "execute_result"
    }
   ],
   "source": [
    "eleitos[\"decisao_primeiro_turno\"].value_counts()"
   ]
  },
  {
   "cell_type": "code",
   "execution_count": 14,
   "metadata": {},
   "outputs": [],
   "source": [
    "eleitos = eleitos[eleitos[\"decisao_primeiro_turno\"] == 1]"
   ]
  },
  {
   "cell_type": "code",
   "execution_count": 15,
   "metadata": {},
   "outputs": [
    {
     "data": {
      "text/plain": [
       "5267"
      ]
     },
     "execution_count": 15,
     "metadata": {},
     "output_type": "execute_result"
    }
   ],
   "source": [
    "len(eleitos[\"id_municipio\"].unique())"
   ]
  },
  {
   "cell_type": "markdown",
   "metadata": {},
   "source": [
    "### Criando variável de percentual de votos por candidato"
   ]
  },
  {
   "cell_type": "code",
   "execution_count": 16,
   "metadata": {},
   "outputs": [],
   "source": [
    "eleitos[\"total_votos\"] = eleitos.groupby([\"id_municipio_tse\"]).votos.transform('sum')"
   ]
  },
  {
   "cell_type": "code",
   "execution_count": 17,
   "metadata": {},
   "outputs": [],
   "source": [
    "eleitos[\"%votos\"] = (eleitos.votos / eleitos.total_votos)"
   ]
  },
  {
   "cell_type": "markdown",
   "metadata": {},
   "source": [
    "### Criando variável para segundo lugar"
   ]
  },
  {
   "cell_type": "code",
   "execution_count": 18,
   "metadata": {},
   "outputs": [
    {
     "data": {
      "text/plain": [
       "16557"
      ]
     },
     "execution_count": 18,
     "metadata": {},
     "output_type": "execute_result"
    }
   ],
   "source": [
    "len(eleitos)"
   ]
  },
  {
   "cell_type": "code",
   "execution_count": 19,
   "metadata": {},
   "outputs": [],
   "source": [
    "eleitos[\"2_lugar\"] = eleitos[eleitos[\"resultado\"] == 'nao eleito'].groupby([\"id_municipio_tse\"]).votos.transform('max')"
   ]
  },
  {
   "cell_type": "code",
   "execution_count": 20,
   "metadata": {},
   "outputs": [],
   "source": [
    "eleitos[\"2_lugar\"] = eleitos.votos == eleitos[\"2_lugar\"]"
   ]
  },
  {
   "cell_type": "markdown",
   "metadata": {},
   "source": [
    "### Criando variável para terceiro lugar"
   ]
  },
  {
   "cell_type": "code",
   "execution_count": 21,
   "metadata": {},
   "outputs": [],
   "source": [
    "eleitos[\"3_lugar\"] = eleitos[(eleitos[\"resultado\"] == 'nao eleito') & (eleitos[\"2_lugar\"] == False)].groupby([\"id_municipio_tse\"]).votos.transform('max')"
   ]
  },
  {
   "cell_type": "code",
   "execution_count": 22,
   "metadata": {},
   "outputs": [],
   "source": [
    "eleitos[\"3_lugar\"] = eleitos.votos == eleitos[\"3_lugar\"]"
   ]
  },
  {
   "cell_type": "markdown",
   "metadata": {},
   "source": [
    "### Mantendo apenas o eleito, o segundo e o terceiro lugar"
   ]
  },
  {
   "cell_type": "code",
   "execution_count": 23,
   "metadata": {},
   "outputs": [],
   "source": [
    "eleitos = eleitos[(eleitos[\"resultado\"] == 'eleito') | (eleitos[\"2_lugar\"] == True) | (eleitos[\"3_lugar\"] == True)]"
   ]
  },
  {
   "cell_type": "code",
   "execution_count": 24,
   "metadata": {},
   "outputs": [
    {
     "data": {
      "text/html": [
       "<div>\n",
       "<style scoped>\n",
       "    .dataframe tbody tr th:only-of-type {\n",
       "        vertical-align: middle;\n",
       "    }\n",
       "\n",
       "    .dataframe tbody tr th {\n",
       "        vertical-align: top;\n",
       "    }\n",
       "\n",
       "    .dataframe thead th {\n",
       "        text-align: right;\n",
       "    }\n",
       "</style>\n",
       "<table border=\"1\" class=\"dataframe\">\n",
       "  <thead>\n",
       "    <tr style=\"text-align: right;\">\n",
       "      <th></th>\n",
       "      <th>ano</th>\n",
       "      <th>tipo_eleicao</th>\n",
       "      <th>sigla_uf</th>\n",
       "      <th>id_municipio</th>\n",
       "      <th>id_municipio_tse</th>\n",
       "      <th>id_candidato_bd</th>\n",
       "      <th>cpf</th>\n",
       "      <th>titulo_eleitoral</th>\n",
       "      <th>sequencial</th>\n",
       "      <th>numero</th>\n",
       "      <th>...</th>\n",
       "      <th>numero_candidato</th>\n",
       "      <th>sequencial_candidato</th>\n",
       "      <th>id_candidato_bd_1</th>\n",
       "      <th>resultado</th>\n",
       "      <th>votos</th>\n",
       "      <th>decisao_primeiro_turno</th>\n",
       "      <th>total_votos</th>\n",
       "      <th>%votos</th>\n",
       "      <th>2_lugar</th>\n",
       "      <th>3_lugar</th>\n",
       "    </tr>\n",
       "  </thead>\n",
       "  <tbody>\n",
       "    <tr>\n",
       "      <th>7813</th>\n",
       "      <td>2020</td>\n",
       "      <td>eleicao ordinaria</td>\n",
       "      <td>RO</td>\n",
       "      <td>1100015</td>\n",
       "      <td>310</td>\n",
       "      <td>500468</td>\n",
       "      <td>66145201215</td>\n",
       "      <td>8912282399</td>\n",
       "      <td>220001187738</td>\n",
       "      <td>19</td>\n",
       "      <td>...</td>\n",
       "      <td>19</td>\n",
       "      <td>220001187738</td>\n",
       "      <td>500468</td>\n",
       "      <td>eleito</td>\n",
       "      <td>7536</td>\n",
       "      <td>1</td>\n",
       "      <td>13120</td>\n",
       "      <td>0.574390</td>\n",
       "      <td>False</td>\n",
       "      <td>False</td>\n",
       "    </tr>\n",
       "    <tr>\n",
       "      <th>3071</th>\n",
       "      <td>2020</td>\n",
       "      <td>eleicao ordinaria</td>\n",
       "      <td>RO</td>\n",
       "      <td>1100015</td>\n",
       "      <td>310</td>\n",
       "      <td>1494057</td>\n",
       "      <td>16994140172</td>\n",
       "      <td>4122242305</td>\n",
       "      <td>220001055240</td>\n",
       "      <td>12</td>\n",
       "      <td>...</td>\n",
       "      <td>12</td>\n",
       "      <td>220001055240</td>\n",
       "      <td>1494057</td>\n",
       "      <td>nao eleito</td>\n",
       "      <td>4526</td>\n",
       "      <td>1</td>\n",
       "      <td>13120</td>\n",
       "      <td>0.344970</td>\n",
       "      <td>True</td>\n",
       "      <td>False</td>\n",
       "    </tr>\n",
       "    <tr>\n",
       "      <th>3427</th>\n",
       "      <td>2020</td>\n",
       "      <td>eleicao ordinaria</td>\n",
       "      <td>RO</td>\n",
       "      <td>1100015</td>\n",
       "      <td>310</td>\n",
       "      <td>285972</td>\n",
       "      <td>49891030920</td>\n",
       "      <td>6843012380</td>\n",
       "      <td>220000768332</td>\n",
       "      <td>13</td>\n",
       "      <td>...</td>\n",
       "      <td>13</td>\n",
       "      <td>220000768332</td>\n",
       "      <td>285972</td>\n",
       "      <td>nao eleito</td>\n",
       "      <td>732</td>\n",
       "      <td>1</td>\n",
       "      <td>13120</td>\n",
       "      <td>0.055793</td>\n",
       "      <td>False</td>\n",
       "      <td>True</td>\n",
       "    </tr>\n",
       "    <tr>\n",
       "      <th>936</th>\n",
       "      <td>2020</td>\n",
       "      <td>eleicao ordinaria</td>\n",
       "      <td>RO</td>\n",
       "      <td>1100031</td>\n",
       "      <td>450</td>\n",
       "      <td>29478</td>\n",
       "      <td>34061738291</td>\n",
       "      <td>5696402321</td>\n",
       "      <td>220000955267</td>\n",
       "      <td>11</td>\n",
       "      <td>...</td>\n",
       "      <td>11</td>\n",
       "      <td>220000955267</td>\n",
       "      <td>29478</td>\n",
       "      <td>eleito</td>\n",
       "      <td>2242</td>\n",
       "      <td>1</td>\n",
       "      <td>3630</td>\n",
       "      <td>0.617631</td>\n",
       "      <td>False</td>\n",
       "      <td>False</td>\n",
       "    </tr>\n",
       "    <tr>\n",
       "      <th>14404</th>\n",
       "      <td>2020</td>\n",
       "      <td>eleicao ordinaria</td>\n",
       "      <td>RO</td>\n",
       "      <td>1100031</td>\n",
       "      <td>450</td>\n",
       "      <td>110633</td>\n",
       "      <td>38549182249</td>\n",
       "      <td>5680032348</td>\n",
       "      <td>220001137117</td>\n",
       "      <td>51</td>\n",
       "      <td>...</td>\n",
       "      <td>51</td>\n",
       "      <td>220001137117</td>\n",
       "      <td>110633</td>\n",
       "      <td>nao eleito</td>\n",
       "      <td>200</td>\n",
       "      <td>1</td>\n",
       "      <td>3630</td>\n",
       "      <td>0.055096</td>\n",
       "      <td>False</td>\n",
       "      <td>True</td>\n",
       "    </tr>\n",
       "    <tr>\n",
       "      <th>12970</th>\n",
       "      <td>2020</td>\n",
       "      <td>eleicao ordinaria</td>\n",
       "      <td>RO</td>\n",
       "      <td>1100031</td>\n",
       "      <td>450</td>\n",
       "      <td>225569</td>\n",
       "      <td>45751609204</td>\n",
       "      <td>8183392321</td>\n",
       "      <td>220001193423</td>\n",
       "      <td>45</td>\n",
       "      <td>...</td>\n",
       "      <td>45</td>\n",
       "      <td>220001193423</td>\n",
       "      <td>225569</td>\n",
       "      <td>nao eleito</td>\n",
       "      <td>1188</td>\n",
       "      <td>1</td>\n",
       "      <td>3630</td>\n",
       "      <td>0.327273</td>\n",
       "      <td>True</td>\n",
       "      <td>False</td>\n",
       "    </tr>\n",
       "    <tr>\n",
       "      <th>15548</th>\n",
       "      <td>2020</td>\n",
       "      <td>eleicao ordinaria</td>\n",
       "      <td>RO</td>\n",
       "      <td>1100049</td>\n",
       "      <td>94</td>\n",
       "      <td>782088</td>\n",
       "      <td>89845277268</td>\n",
       "      <td>13637562380</td>\n",
       "      <td>220001025502</td>\n",
       "      <td>55</td>\n",
       "      <td>...</td>\n",
       "      <td>55</td>\n",
       "      <td>220001025502</td>\n",
       "      <td>782088</td>\n",
       "      <td>eleito</td>\n",
       "      <td>25791</td>\n",
       "      <td>1</td>\n",
       "      <td>42251</td>\n",
       "      <td>0.610423</td>\n",
       "      <td>False</td>\n",
       "      <td>False</td>\n",
       "    </tr>\n",
       "    <tr>\n",
       "      <th>10805</th>\n",
       "      <td>2020</td>\n",
       "      <td>eleicao ordinaria</td>\n",
       "      <td>RO</td>\n",
       "      <td>1100049</td>\n",
       "      <td>94</td>\n",
       "      <td>1235541</td>\n",
       "      <td>08082136871</td>\n",
       "      <td>7945522330</td>\n",
       "      <td>220001268453</td>\n",
       "      <td>25</td>\n",
       "      <td>...</td>\n",
       "      <td>25</td>\n",
       "      <td>220001268453</td>\n",
       "      <td>1235541</td>\n",
       "      <td>nao eleito</td>\n",
       "      <td>12692</td>\n",
       "      <td>1</td>\n",
       "      <td>42251</td>\n",
       "      <td>0.300395</td>\n",
       "      <td>True</td>\n",
       "      <td>False</td>\n",
       "    </tr>\n",
       "    <tr>\n",
       "      <th>17444</th>\n",
       "      <td>2020</td>\n",
       "      <td>eleicao ordinaria</td>\n",
       "      <td>RO</td>\n",
       "      <td>1100049</td>\n",
       "      <td>94</td>\n",
       "      <td>119076</td>\n",
       "      <td>39036073200</td>\n",
       "      <td>6245192364</td>\n",
       "      <td>220001198451</td>\n",
       "      <td>90</td>\n",
       "      <td>...</td>\n",
       "      <td>90</td>\n",
       "      <td>220001198451</td>\n",
       "      <td>119076</td>\n",
       "      <td>nao eleito</td>\n",
       "      <td>3220</td>\n",
       "      <td>1</td>\n",
       "      <td>42251</td>\n",
       "      <td>0.076211</td>\n",
       "      <td>False</td>\n",
       "      <td>True</td>\n",
       "    </tr>\n",
       "    <tr>\n",
       "      <th>5800</th>\n",
       "      <td>2020</td>\n",
       "      <td>eleicao ordinaria</td>\n",
       "      <td>RO</td>\n",
       "      <td>1100056</td>\n",
       "      <td>272</td>\n",
       "      <td>631087</td>\n",
       "      <td>77209559272</td>\n",
       "      <td>12159292380</td>\n",
       "      <td>220000750651</td>\n",
       "      <td>15</td>\n",
       "      <td>...</td>\n",
       "      <td>15</td>\n",
       "      <td>220000750651</td>\n",
       "      <td>631087</td>\n",
       "      <td>nao eleito</td>\n",
       "      <td>2177</td>\n",
       "      <td>1</td>\n",
       "      <td>8926</td>\n",
       "      <td>0.243894</td>\n",
       "      <td>False</td>\n",
       "      <td>True</td>\n",
       "    </tr>\n",
       "    <tr>\n",
       "      <th>12617</th>\n",
       "      <td>2020</td>\n",
       "      <td>eleicao ordinaria</td>\n",
       "      <td>RO</td>\n",
       "      <td>1100056</td>\n",
       "      <td>272</td>\n",
       "      <td>321867</td>\n",
       "      <td>52617831000</td>\n",
       "      <td>4714202321</td>\n",
       "      <td>220001005073</td>\n",
       "      <td>43</td>\n",
       "      <td>...</td>\n",
       "      <td>43</td>\n",
       "      <td>220001005073</td>\n",
       "      <td>321867</td>\n",
       "      <td>eleito</td>\n",
       "      <td>3741</td>\n",
       "      <td>1</td>\n",
       "      <td>8926</td>\n",
       "      <td>0.419113</td>\n",
       "      <td>False</td>\n",
       "      <td>False</td>\n",
       "    </tr>\n",
       "    <tr>\n",
       "      <th>10120</th>\n",
       "      <td>2020</td>\n",
       "      <td>eleicao ordinaria</td>\n",
       "      <td>RO</td>\n",
       "      <td>1100056</td>\n",
       "      <td>272</td>\n",
       "      <td>118662</td>\n",
       "      <td>39014347200</td>\n",
       "      <td>5899632305</td>\n",
       "      <td>220000745959</td>\n",
       "      <td>25</td>\n",
       "      <td>...</td>\n",
       "      <td>25</td>\n",
       "      <td>220000745959</td>\n",
       "      <td>118662</td>\n",
       "      <td>nao eleito</td>\n",
       "      <td>3008</td>\n",
       "      <td>1</td>\n",
       "      <td>8926</td>\n",
       "      <td>0.336993</td>\n",
       "      <td>True</td>\n",
       "      <td>False</td>\n",
       "    </tr>\n",
       "    <tr>\n",
       "      <th>7663</th>\n",
       "      <td>2020</td>\n",
       "      <td>eleicao ordinaria</td>\n",
       "      <td>RO</td>\n",
       "      <td>1100064</td>\n",
       "      <td>230</td>\n",
       "      <td>30511</td>\n",
       "      <td>34120050297</td>\n",
       "      <td>6598382321</td>\n",
       "      <td>220000835461</td>\n",
       "      <td>19</td>\n",
       "      <td>...</td>\n",
       "      <td>19</td>\n",
       "      <td>220000835461</td>\n",
       "      <td>30511</td>\n",
       "      <td>nao eleito</td>\n",
       "      <td>786</td>\n",
       "      <td>1</td>\n",
       "      <td>6920</td>\n",
       "      <td>0.113584</td>\n",
       "      <td>False</td>\n",
       "      <td>True</td>\n",
       "    </tr>\n",
       "    <tr>\n",
       "      <th>12487</th>\n",
       "      <td>2020</td>\n",
       "      <td>eleicao ordinaria</td>\n",
       "      <td>RO</td>\n",
       "      <td>1100064</td>\n",
       "      <td>230</td>\n",
       "      <td>1592149</td>\n",
       "      <td>22305122349</td>\n",
       "      <td>11507232330</td>\n",
       "      <td>220001066451</td>\n",
       "      <td>40</td>\n",
       "      <td>...</td>\n",
       "      <td>40</td>\n",
       "      <td>220001066451</td>\n",
       "      <td>1592149</td>\n",
       "      <td>eleito</td>\n",
       "      <td>3895</td>\n",
       "      <td>1</td>\n",
       "      <td>6920</td>\n",
       "      <td>0.562861</td>\n",
       "      <td>False</td>\n",
       "      <td>False</td>\n",
       "    </tr>\n",
       "    <tr>\n",
       "      <th>12835</th>\n",
       "      <td>2020</td>\n",
       "      <td>eleicao ordinaria</td>\n",
       "      <td>RO</td>\n",
       "      <td>1100064</td>\n",
       "      <td>230</td>\n",
       "      <td>1775293</td>\n",
       "      <td>31588859215</td>\n",
       "      <td>5701512313</td>\n",
       "      <td>220001010804</td>\n",
       "      <td>43</td>\n",
       "      <td>...</td>\n",
       "      <td>43</td>\n",
       "      <td>220001010804</td>\n",
       "      <td>1775293</td>\n",
       "      <td>nao eleito</td>\n",
       "      <td>2239</td>\n",
       "      <td>1</td>\n",
       "      <td>6920</td>\n",
       "      <td>0.323555</td>\n",
       "      <td>True</td>\n",
       "      <td>False</td>\n",
       "    </tr>\n",
       "    <tr>\n",
       "      <th>3010</th>\n",
       "      <td>2020</td>\n",
       "      <td>eleicao ordinaria</td>\n",
       "      <td>RO</td>\n",
       "      <td>1100072</td>\n",
       "      <td>655</td>\n",
       "      <td>1292123</td>\n",
       "      <td>09447216803</td>\n",
       "      <td>30064180108</td>\n",
       "      <td>220000862759</td>\n",
       "      <td>12</td>\n",
       "      <td>...</td>\n",
       "      <td>12</td>\n",
       "      <td>220000862759</td>\n",
       "      <td>1292123</td>\n",
       "      <td>nao eleito</td>\n",
       "      <td>1178</td>\n",
       "      <td>1</td>\n",
       "      <td>4322</td>\n",
       "      <td>0.272559</td>\n",
       "      <td>True</td>\n",
       "      <td>False</td>\n",
       "    </tr>\n",
       "    <tr>\n",
       "      <th>12049</th>\n",
       "      <td>2020</td>\n",
       "      <td>eleicao ordinaria</td>\n",
       "      <td>RO</td>\n",
       "      <td>1100072</td>\n",
       "      <td>655</td>\n",
       "      <td>612425</td>\n",
       "      <td>75584964204</td>\n",
       "      <td>11627392356</td>\n",
       "      <td>220000649931</td>\n",
       "      <td>40</td>\n",
       "      <td>...</td>\n",
       "      <td>40</td>\n",
       "      <td>220000649931</td>\n",
       "      <td>612425</td>\n",
       "      <td>eleito</td>\n",
       "      <td>2087</td>\n",
       "      <td>1</td>\n",
       "      <td>4322</td>\n",
       "      <td>0.482878</td>\n",
       "      <td>False</td>\n",
       "      <td>False</td>\n",
       "    </tr>\n",
       "    <tr>\n",
       "      <th>1194</th>\n",
       "      <td>2020</td>\n",
       "      <td>eleicao ordinaria</td>\n",
       "      <td>RO</td>\n",
       "      <td>1100072</td>\n",
       "      <td>655</td>\n",
       "      <td>286636</td>\n",
       "      <td>49930621253</td>\n",
       "      <td>7776232330</td>\n",
       "      <td>220000663093</td>\n",
       "      <td>11</td>\n",
       "      <td>...</td>\n",
       "      <td>11</td>\n",
       "      <td>220000663093</td>\n",
       "      <td>286636</td>\n",
       "      <td>nao eleito</td>\n",
       "      <td>706</td>\n",
       "      <td>1</td>\n",
       "      <td>4322</td>\n",
       "      <td>0.163350</td>\n",
       "      <td>False</td>\n",
       "      <td>True</td>\n",
       "    </tr>\n",
       "    <tr>\n",
       "      <th>14946</th>\n",
       "      <td>2020</td>\n",
       "      <td>eleicao ordinaria</td>\n",
       "      <td>RO</td>\n",
       "      <td>1100080</td>\n",
       "      <td>213</td>\n",
       "      <td>166931</td>\n",
       "      <td>42016762268</td>\n",
       "      <td>5905062305</td>\n",
       "      <td>220001054362</td>\n",
       "      <td>55</td>\n",
       "      <td>...</td>\n",
       "      <td>55</td>\n",
       "      <td>220001054362</td>\n",
       "      <td>166931</td>\n",
       "      <td>nao eleito</td>\n",
       "      <td>1691</td>\n",
       "      <td>1</td>\n",
       "      <td>6480</td>\n",
       "      <td>0.260957</td>\n",
       "      <td>True</td>\n",
       "      <td>False</td>\n",
       "    </tr>\n",
       "    <tr>\n",
       "      <th>367</th>\n",
       "      <td>2020</td>\n",
       "      <td>eleicao ordinaria</td>\n",
       "      <td>RO</td>\n",
       "      <td>1100080</td>\n",
       "      <td>213</td>\n",
       "      <td>535102</td>\n",
       "      <td>69261636268</td>\n",
       "      <td>10453082330</td>\n",
       "      <td>220000775161</td>\n",
       "      <td>10</td>\n",
       "      <td>...</td>\n",
       "      <td>10</td>\n",
       "      <td>220000775161</td>\n",
       "      <td>535102</td>\n",
       "      <td>eleito</td>\n",
       "      <td>4789</td>\n",
       "      <td>1</td>\n",
       "      <td>6480</td>\n",
       "      <td>0.739043</td>\n",
       "      <td>False</td>\n",
       "      <td>False</td>\n",
       "    </tr>\n",
       "  </tbody>\n",
       "</table>\n",
       "<p>20 rows × 45 columns</p>\n",
       "</div>"
      ],
      "text/plain": [
       "        ano       tipo_eleicao sigla_uf id_municipio id_municipio_tse  \\\n",
       "7813   2020  eleicao ordinaria       RO      1100015              310   \n",
       "3071   2020  eleicao ordinaria       RO      1100015              310   \n",
       "3427   2020  eleicao ordinaria       RO      1100015              310   \n",
       "936    2020  eleicao ordinaria       RO      1100031              450   \n",
       "14404  2020  eleicao ordinaria       RO      1100031              450   \n",
       "12970  2020  eleicao ordinaria       RO      1100031              450   \n",
       "15548  2020  eleicao ordinaria       RO      1100049               94   \n",
       "10805  2020  eleicao ordinaria       RO      1100049               94   \n",
       "17444  2020  eleicao ordinaria       RO      1100049               94   \n",
       "5800   2020  eleicao ordinaria       RO      1100056              272   \n",
       "12617  2020  eleicao ordinaria       RO      1100056              272   \n",
       "10120  2020  eleicao ordinaria       RO      1100056              272   \n",
       "7663   2020  eleicao ordinaria       RO      1100064              230   \n",
       "12487  2020  eleicao ordinaria       RO      1100064              230   \n",
       "12835  2020  eleicao ordinaria       RO      1100064              230   \n",
       "3010   2020  eleicao ordinaria       RO      1100072              655   \n",
       "12049  2020  eleicao ordinaria       RO      1100072              655   \n",
       "1194   2020  eleicao ordinaria       RO      1100072              655   \n",
       "14946  2020  eleicao ordinaria       RO      1100080              213   \n",
       "367    2020  eleicao ordinaria       RO      1100080              213   \n",
       "\n",
       "      id_candidato_bd          cpf  titulo_eleitoral    sequencial  numero  \\\n",
       "7813           500468  66145201215        8912282399  220001187738      19   \n",
       "3071          1494057  16994140172        4122242305  220001055240      12   \n",
       "3427           285972  49891030920        6843012380  220000768332      13   \n",
       "936             29478  34061738291        5696402321  220000955267      11   \n",
       "14404          110633  38549182249        5680032348  220001137117      51   \n",
       "12970          225569  45751609204        8183392321  220001193423      45   \n",
       "15548          782088  89845277268       13637562380  220001025502      55   \n",
       "10805         1235541  08082136871        7945522330  220001268453      25   \n",
       "17444          119076  39036073200        6245192364  220001198451      90   \n",
       "5800           631087  77209559272       12159292380  220000750651      15   \n",
       "12617          321867  52617831000        4714202321  220001005073      43   \n",
       "10120          118662  39014347200        5899632305  220000745959      25   \n",
       "7663            30511  34120050297        6598382321  220000835461      19   \n",
       "12487         1592149  22305122349       11507232330  220001066451      40   \n",
       "12835         1775293  31588859215        5701512313  220001010804      43   \n",
       "3010          1292123  09447216803       30064180108  220000862759      12   \n",
       "12049          612425  75584964204       11627392356  220000649931      40   \n",
       "1194           286636  49930621253        7776232330  220000663093      11   \n",
       "14946          166931  42016762268        5905062305  220001054362      55   \n",
       "367            535102  69261636268       10453082330  220000775161      10   \n",
       "\n",
       "       ... numero_candidato sequencial_candidato  id_candidato_bd_1  \\\n",
       "7813   ...               19         220001187738             500468   \n",
       "3071   ...               12         220001055240            1494057   \n",
       "3427   ...               13         220000768332             285972   \n",
       "936    ...               11         220000955267              29478   \n",
       "14404  ...               51         220001137117             110633   \n",
       "12970  ...               45         220001193423             225569   \n",
       "15548  ...               55         220001025502             782088   \n",
       "10805  ...               25         220001268453            1235541   \n",
       "17444  ...               90         220001198451             119076   \n",
       "5800   ...               15         220000750651             631087   \n",
       "12617  ...               43         220001005073             321867   \n",
       "10120  ...               25         220000745959             118662   \n",
       "7663   ...               19         220000835461              30511   \n",
       "12487  ...               40         220001066451            1592149   \n",
       "12835  ...               43         220001010804            1775293   \n",
       "3010   ...               12         220000862759            1292123   \n",
       "12049  ...               40         220000649931             612425   \n",
       "1194   ...               11         220000663093             286636   \n",
       "14946  ...               55         220001054362             166931   \n",
       "367    ...               10         220000775161             535102   \n",
       "\n",
       "        resultado  votos decisao_primeiro_turno total_votos    %votos  \\\n",
       "7813       eleito   7536                      1       13120  0.574390   \n",
       "3071   nao eleito   4526                      1       13120  0.344970   \n",
       "3427   nao eleito    732                      1       13120  0.055793   \n",
       "936        eleito   2242                      1        3630  0.617631   \n",
       "14404  nao eleito    200                      1        3630  0.055096   \n",
       "12970  nao eleito   1188                      1        3630  0.327273   \n",
       "15548      eleito  25791                      1       42251  0.610423   \n",
       "10805  nao eleito  12692                      1       42251  0.300395   \n",
       "17444  nao eleito   3220                      1       42251  0.076211   \n",
       "5800   nao eleito   2177                      1        8926  0.243894   \n",
       "12617      eleito   3741                      1        8926  0.419113   \n",
       "10120  nao eleito   3008                      1        8926  0.336993   \n",
       "7663   nao eleito    786                      1        6920  0.113584   \n",
       "12487      eleito   3895                      1        6920  0.562861   \n",
       "12835  nao eleito   2239                      1        6920  0.323555   \n",
       "3010   nao eleito   1178                      1        4322  0.272559   \n",
       "12049      eleito   2087                      1        4322  0.482878   \n",
       "1194   nao eleito    706                      1        4322  0.163350   \n",
       "14946  nao eleito   1691                      1        6480  0.260957   \n",
       "367        eleito   4789                      1        6480  0.739043   \n",
       "\n",
       "       2_lugar 3_lugar  \n",
       "7813     False   False  \n",
       "3071      True   False  \n",
       "3427     False    True  \n",
       "936      False   False  \n",
       "14404    False    True  \n",
       "12970     True   False  \n",
       "15548    False   False  \n",
       "10805     True   False  \n",
       "17444    False    True  \n",
       "5800     False    True  \n",
       "12617    False   False  \n",
       "10120     True   False  \n",
       "7663     False    True  \n",
       "12487    False   False  \n",
       "12835     True   False  \n",
       "3010      True   False  \n",
       "12049    False   False  \n",
       "1194     False    True  \n",
       "14946     True   False  \n",
       "367      False   False  \n",
       "\n",
       "[20 rows x 45 columns]"
      ]
     },
     "execution_count": 24,
     "metadata": {},
     "output_type": "execute_result"
    }
   ],
   "source": [
    "eleitos.sort_values(by = \"id_municipio\").head(20)"
   ]
  },
  {
   "cell_type": "markdown",
   "metadata": {},
   "source": [
    "### Criando variável de diferença entre primeiro e segundo candidatos e entre primeiro e terceiro candidatos"
   ]
  },
  {
   "cell_type": "code",
   "execution_count": 25,
   "metadata": {},
   "outputs": [],
   "source": [
    "dif_segundo = pd.DataFrame(eleitos.groupby(\"id_municipio_tse\")['%votos'].apply(lambda x: x.nlargest(2).iloc[0] - x.nlargest(2).iloc[-1])).reset_index()"
   ]
  },
  {
   "cell_type": "code",
   "execution_count": 26,
   "metadata": {},
   "outputs": [],
   "source": [
    "dif_segundo = dif_segundo.rename(columns = {\"%votos\": \"dif_votos_2_lugar\"})"
   ]
  },
  {
   "cell_type": "code",
   "execution_count": 27,
   "metadata": {},
   "outputs": [],
   "source": [
    "eleitos = eleitos.merge(dif_segundo, how = \"left\", on = \"id_municipio_tse\")"
   ]
  },
  {
   "cell_type": "code",
   "execution_count": 28,
   "metadata": {},
   "outputs": [],
   "source": [
    "dif_terceiros = pd.DataFrame(eleitos.groupby(\"id_municipio_tse\")['%votos'].apply(lambda x: x.nlargest(3).iloc[0] - x.nlargest(3).iloc[-1])).reset_index()"
   ]
  },
  {
   "cell_type": "code",
   "execution_count": 29,
   "metadata": {},
   "outputs": [],
   "source": [
    "dif_terceiros = dif_terceiros.rename(columns = {\"%votos\": \"dif_votos_3_lugar\"})"
   ]
  },
  {
   "cell_type": "code",
   "execution_count": 30,
   "metadata": {},
   "outputs": [],
   "source": [
    "eleitos = eleitos.merge(dif_terceiros, how = \"left\", on = \"id_municipio_tse\")"
   ]
  },
  {
   "cell_type": "code",
   "execution_count": 31,
   "metadata": {},
   "outputs": [
    {
     "data": {
      "text/html": [
       "<div>\n",
       "<style scoped>\n",
       "    .dataframe tbody tr th:only-of-type {\n",
       "        vertical-align: middle;\n",
       "    }\n",
       "\n",
       "    .dataframe tbody tr th {\n",
       "        vertical-align: top;\n",
       "    }\n",
       "\n",
       "    .dataframe thead th {\n",
       "        text-align: right;\n",
       "    }\n",
       "</style>\n",
       "<table border=\"1\" class=\"dataframe\">\n",
       "  <thead>\n",
       "    <tr style=\"text-align: right;\">\n",
       "      <th></th>\n",
       "      <th>ano</th>\n",
       "      <th>tipo_eleicao</th>\n",
       "      <th>sigla_uf</th>\n",
       "      <th>id_municipio</th>\n",
       "      <th>id_municipio_tse</th>\n",
       "      <th>id_candidato_bd</th>\n",
       "      <th>cpf</th>\n",
       "      <th>titulo_eleitoral</th>\n",
       "      <th>sequencial</th>\n",
       "      <th>numero</th>\n",
       "      <th>...</th>\n",
       "      <th>id_candidato_bd_1</th>\n",
       "      <th>resultado</th>\n",
       "      <th>votos</th>\n",
       "      <th>decisao_primeiro_turno</th>\n",
       "      <th>total_votos</th>\n",
       "      <th>%votos</th>\n",
       "      <th>2_lugar</th>\n",
       "      <th>3_lugar</th>\n",
       "      <th>dif_votos_2_lugar</th>\n",
       "      <th>dif_votos_3_lugar</th>\n",
       "    </tr>\n",
       "  </thead>\n",
       "  <tbody>\n",
       "    <tr>\n",
       "      <th>0</th>\n",
       "      <td>2020</td>\n",
       "      <td>eleicao ordinaria</td>\n",
       "      <td>MA</td>\n",
       "      <td>2108900</td>\n",
       "      <td>8753</td>\n",
       "      <td>229903</td>\n",
       "      <td>46029877372</td>\n",
       "      <td>21558431147</td>\n",
       "      <td>100000766496</td>\n",
       "      <td>35</td>\n",
       "      <td>...</td>\n",
       "      <td>229903</td>\n",
       "      <td>nao eleito</td>\n",
       "      <td>48</td>\n",
       "      <td>1</td>\n",
       "      <td>12029</td>\n",
       "      <td>0.003990</td>\n",
       "      <td>False</td>\n",
       "      <td>True</td>\n",
       "      <td>0.028016</td>\n",
       "      <td>0.508022</td>\n",
       "    </tr>\n",
       "    <tr>\n",
       "      <th>1</th>\n",
       "      <td>2020</td>\n",
       "      <td>eleicao ordinaria</td>\n",
       "      <td>MG</td>\n",
       "      <td>3104007</td>\n",
       "      <td>40797</td>\n",
       "      <td>256140</td>\n",
       "      <td>47771127800</td>\n",
       "      <td>64487590281</td>\n",
       "      <td>130000829575</td>\n",
       "      <td>30</td>\n",
       "      <td>...</td>\n",
       "      <td>256140</td>\n",
       "      <td>nao eleito</td>\n",
       "      <td>4814</td>\n",
       "      <td>1</td>\n",
       "      <td>52928</td>\n",
       "      <td>0.090954</td>\n",
       "      <td>False</td>\n",
       "      <td>True</td>\n",
       "      <td>0.244124</td>\n",
       "      <td>0.436933</td>\n",
       "    </tr>\n",
       "    <tr>\n",
       "      <th>2</th>\n",
       "      <td>2020</td>\n",
       "      <td>eleicao ordinaria</td>\n",
       "      <td>AM</td>\n",
       "      <td>1303700</td>\n",
       "      <td>2739</td>\n",
       "      <td>396295</td>\n",
       "      <td>58360905215</td>\n",
       "      <td>14344452291</td>\n",
       "      <td>40001155600</td>\n",
       "      <td>35</td>\n",
       "      <td>...</td>\n",
       "      <td>396295</td>\n",
       "      <td>nao eleito</td>\n",
       "      <td>64</td>\n",
       "      <td>1</td>\n",
       "      <td>12750</td>\n",
       "      <td>0.005020</td>\n",
       "      <td>False</td>\n",
       "      <td>True</td>\n",
       "      <td>0.193412</td>\n",
       "      <td>0.589176</td>\n",
       "    </tr>\n",
       "    <tr>\n",
       "      <th>3</th>\n",
       "      <td>2020</td>\n",
       "      <td>eleicao ordinaria</td>\n",
       "      <td>BA</td>\n",
       "      <td>2924405</td>\n",
       "      <td>37893</td>\n",
       "      <td>446377</td>\n",
       "      <td>61970409568</td>\n",
       "      <td>67717190558</td>\n",
       "      <td>50000878741</td>\n",
       "      <td>35</td>\n",
       "      <td>...</td>\n",
       "      <td>446377</td>\n",
       "      <td>nao eleito</td>\n",
       "      <td>4318</td>\n",
       "      <td>1</td>\n",
       "      <td>20757</td>\n",
       "      <td>0.208026</td>\n",
       "      <td>True</td>\n",
       "      <td>False</td>\n",
       "      <td>0.583948</td>\n",
       "      <td>0.583948</td>\n",
       "    </tr>\n",
       "    <tr>\n",
       "      <th>4</th>\n",
       "      <td>2020</td>\n",
       "      <td>eleicao ordinaria</td>\n",
       "      <td>MG</td>\n",
       "      <td>3130309</td>\n",
       "      <td>46051</td>\n",
       "      <td>448055</td>\n",
       "      <td>62099469687</td>\n",
       "      <td>82855220264</td>\n",
       "      <td>130000924281</td>\n",
       "      <td>35</td>\n",
       "      <td>...</td>\n",
       "      <td>448055</td>\n",
       "      <td>nao eleito</td>\n",
       "      <td>268</td>\n",
       "      <td>1</td>\n",
       "      <td>5496</td>\n",
       "      <td>0.048763</td>\n",
       "      <td>False</td>\n",
       "      <td>True</td>\n",
       "      <td>0.070233</td>\n",
       "      <td>0.461972</td>\n",
       "    </tr>\n",
       "    <tr>\n",
       "      <th>...</th>\n",
       "      <td>...</td>\n",
       "      <td>...</td>\n",
       "      <td>...</td>\n",
       "      <td>...</td>\n",
       "      <td>...</td>\n",
       "      <td>...</td>\n",
       "      <td>...</td>\n",
       "      <td>...</td>\n",
       "      <td>...</td>\n",
       "      <td>...</td>\n",
       "      <td>...</td>\n",
       "      <td>...</td>\n",
       "      <td>...</td>\n",
       "      <td>...</td>\n",
       "      <td>...</td>\n",
       "      <td>...</td>\n",
       "      <td>...</td>\n",
       "      <td>...</td>\n",
       "      <td>...</td>\n",
       "      <td>...</td>\n",
       "      <td>...</td>\n",
       "    </tr>\n",
       "    <tr>\n",
       "      <th>13308</th>\n",
       "      <td>2020</td>\n",
       "      <td>eleicao ordinaria</td>\n",
       "      <td>TO</td>\n",
       "      <td>1709500</td>\n",
       "      <td>93858</td>\n",
       "      <td>1719990</td>\n",
       "      <td>28884329191</td>\n",
       "      <td>16283812739</td>\n",
       "      <td>270001044309</td>\n",
       "      <td>90</td>\n",
       "      <td>...</td>\n",
       "      <td>1719990</td>\n",
       "      <td>eleito</td>\n",
       "      <td>20116</td>\n",
       "      <td>1</td>\n",
       "      <td>39404</td>\n",
       "      <td>0.510507</td>\n",
       "      <td>False</td>\n",
       "      <td>False</td>\n",
       "      <td>0.077581</td>\n",
       "      <td>0.458075</td>\n",
       "    </tr>\n",
       "    <tr>\n",
       "      <th>13309</th>\n",
       "      <td>2020</td>\n",
       "      <td>eleicao ordinaria</td>\n",
       "      <td>MT</td>\n",
       "      <td>5101852</td>\n",
       "      <td>90905</td>\n",
       "      <td>1722649</td>\n",
       "      <td>00124773117</td>\n",
       "      <td>35058172704</td>\n",
       "      <td>110000827225</td>\n",
       "      <td>90</td>\n",
       "      <td>...</td>\n",
       "      <td>1722649</td>\n",
       "      <td>nao eleito</td>\n",
       "      <td>587</td>\n",
       "      <td>1</td>\n",
       "      <td>3333</td>\n",
       "      <td>0.176118</td>\n",
       "      <td>False</td>\n",
       "      <td>True</td>\n",
       "      <td>0.140114</td>\n",
       "      <td>0.276028</td>\n",
       "    </tr>\n",
       "    <tr>\n",
       "      <th>13310</th>\n",
       "      <td>2020</td>\n",
       "      <td>eleicao ordinaria</td>\n",
       "      <td>MT</td>\n",
       "      <td>5106802</td>\n",
       "      <td>91359</td>\n",
       "      <td>1760144</td>\n",
       "      <td>30827310900</td>\n",
       "      <td>18444551856</td>\n",
       "      <td>110001042327</td>\n",
       "      <td>90</td>\n",
       "      <td>...</td>\n",
       "      <td>1760144</td>\n",
       "      <td>nao eleito</td>\n",
       "      <td>50</td>\n",
       "      <td>1</td>\n",
       "      <td>2881</td>\n",
       "      <td>0.017355</td>\n",
       "      <td>False</td>\n",
       "      <td>True</td>\n",
       "      <td>0.041999</td>\n",
       "      <td>0.494967</td>\n",
       "    </tr>\n",
       "    <tr>\n",
       "      <th>13311</th>\n",
       "      <td>2020</td>\n",
       "      <td>eleicao ordinaria</td>\n",
       "      <td>RJ</td>\n",
       "      <td>3306107</td>\n",
       "      <td>59218</td>\n",
       "      <td>1784783</td>\n",
       "      <td>32093632772</td>\n",
       "      <td>67680040361</td>\n",
       "      <td>190000995787</td>\n",
       "      <td>90</td>\n",
       "      <td>...</td>\n",
       "      <td>1784783</td>\n",
       "      <td>nao eleito</td>\n",
       "      <td>2147</td>\n",
       "      <td>1</td>\n",
       "      <td>36259</td>\n",
       "      <td>0.059213</td>\n",
       "      <td>False</td>\n",
       "      <td>True</td>\n",
       "      <td>0.017816</td>\n",
       "      <td>0.405830</td>\n",
       "    </tr>\n",
       "    <tr>\n",
       "      <th>13312</th>\n",
       "      <td>2020</td>\n",
       "      <td>eleicao ordinaria</td>\n",
       "      <td>SP</td>\n",
       "      <td>3541901</td>\n",
       "      <td>69396</td>\n",
       "      <td>1797190</td>\n",
       "      <td>03619196893</td>\n",
       "      <td>38995250159</td>\n",
       "      <td>250001129737</td>\n",
       "      <td>90</td>\n",
       "      <td>...</td>\n",
       "      <td>1797190</td>\n",
       "      <td>nao eleito</td>\n",
       "      <td>176</td>\n",
       "      <td>1</td>\n",
       "      <td>5382</td>\n",
       "      <td>0.032702</td>\n",
       "      <td>False</td>\n",
       "      <td>True</td>\n",
       "      <td>0.273133</td>\n",
       "      <td>0.587514</td>\n",
       "    </tr>\n",
       "  </tbody>\n",
       "</table>\n",
       "<p>13313 rows × 47 columns</p>\n",
       "</div>"
      ],
      "text/plain": [
       "        ano       tipo_eleicao sigla_uf id_municipio id_municipio_tse  \\\n",
       "0      2020  eleicao ordinaria       MA      2108900             8753   \n",
       "1      2020  eleicao ordinaria       MG      3104007            40797   \n",
       "2      2020  eleicao ordinaria       AM      1303700             2739   \n",
       "3      2020  eleicao ordinaria       BA      2924405            37893   \n",
       "4      2020  eleicao ordinaria       MG      3130309            46051   \n",
       "...     ...                ...      ...          ...              ...   \n",
       "13308  2020  eleicao ordinaria       TO      1709500            93858   \n",
       "13309  2020  eleicao ordinaria       MT      5101852            90905   \n",
       "13310  2020  eleicao ordinaria       MT      5106802            91359   \n",
       "13311  2020  eleicao ordinaria       RJ      3306107            59218   \n",
       "13312  2020  eleicao ordinaria       SP      3541901            69396   \n",
       "\n",
       "      id_candidato_bd          cpf  titulo_eleitoral    sequencial  numero  \\\n",
       "0              229903  46029877372       21558431147  100000766496      35   \n",
       "1              256140  47771127800       64487590281  130000829575      30   \n",
       "2              396295  58360905215       14344452291   40001155600      35   \n",
       "3              446377  61970409568       67717190558   50000878741      35   \n",
       "4              448055  62099469687       82855220264  130000924281      35   \n",
       "...               ...          ...               ...           ...     ...   \n",
       "13308         1719990  28884329191       16283812739  270001044309      90   \n",
       "13309         1722649  00124773117       35058172704  110000827225      90   \n",
       "13310         1760144  30827310900       18444551856  110001042327      90   \n",
       "13311         1784783  32093632772       67680040361  190000995787      90   \n",
       "13312         1797190  03619196893       38995250159  250001129737      90   \n",
       "\n",
       "       ... id_candidato_bd_1   resultado  votos decisao_primeiro_turno  \\\n",
       "0      ...            229903  nao eleito     48                      1   \n",
       "1      ...            256140  nao eleito   4814                      1   \n",
       "2      ...            396295  nao eleito     64                      1   \n",
       "3      ...            446377  nao eleito   4318                      1   \n",
       "4      ...            448055  nao eleito    268                      1   \n",
       "...    ...               ...         ...    ...                    ...   \n",
       "13308  ...           1719990      eleito  20116                      1   \n",
       "13309  ...           1722649  nao eleito    587                      1   \n",
       "13310  ...           1760144  nao eleito     50                      1   \n",
       "13311  ...           1784783  nao eleito   2147                      1   \n",
       "13312  ...           1797190  nao eleito    176                      1   \n",
       "\n",
       "      total_votos    %votos 2_lugar 3_lugar  dif_votos_2_lugar  \\\n",
       "0           12029  0.003990   False    True           0.028016   \n",
       "1           52928  0.090954   False    True           0.244124   \n",
       "2           12750  0.005020   False    True           0.193412   \n",
       "3           20757  0.208026    True   False           0.583948   \n",
       "4            5496  0.048763   False    True           0.070233   \n",
       "...           ...       ...     ...     ...                ...   \n",
       "13308       39404  0.510507   False   False           0.077581   \n",
       "13309        3333  0.176118   False    True           0.140114   \n",
       "13310        2881  0.017355   False    True           0.041999   \n",
       "13311       36259  0.059213   False    True           0.017816   \n",
       "13312        5382  0.032702   False    True           0.273133   \n",
       "\n",
       "      dif_votos_3_lugar  \n",
       "0              0.508022  \n",
       "1              0.436933  \n",
       "2              0.589176  \n",
       "3              0.583948  \n",
       "4              0.461972  \n",
       "...                 ...  \n",
       "13308          0.458075  \n",
       "13309          0.276028  \n",
       "13310          0.494967  \n",
       "13311          0.405830  \n",
       "13312          0.587514  \n",
       "\n",
       "[13313 rows x 47 columns]"
      ]
     },
     "execution_count": 31,
     "metadata": {},
     "output_type": "execute_result"
    }
   ],
   "source": [
    "eleitos"
   ]
  },
  {
   "cell_type": "code",
   "execution_count": 32,
   "metadata": {},
   "outputs": [],
   "source": [
    "eleitos.loc[eleitos['dif_votos_2_lugar'] == eleitos['dif_votos_3_lugar'], 'dif_votos_3_lugar'] = np.nan"
   ]
  },
  {
   "cell_type": "code",
   "execution_count": 33,
   "metadata": {},
   "outputs": [
    {
     "data": {
      "text/plain": [
       "317"
      ]
     },
     "execution_count": 33,
     "metadata": {},
     "output_type": "execute_result"
    }
   ],
   "source": [
    "len(eleitos[eleitos['dif_votos_3_lugar'] <= 0.15].id_municipio_tse.unique())"
   ]
  },
  {
   "cell_type": "code",
   "execution_count": 34,
   "metadata": {},
   "outputs": [
    {
     "data": {
      "text/plain": [
       "6059     0.229421\n",
       "2488     0.289177\n",
       "2732          NaN\n",
       "606      0.562534\n",
       "10874   -0.272176\n",
       "           ...   \n",
       "7894     0.324288\n",
       "7267          NaN\n",
       "4599    -0.154146\n",
       "7987     0.395328\n",
       "2260          NaN\n",
       "Name: %votos, Length: 13313, dtype: float64"
      ]
     },
     "execution_count": 34,
     "metadata": {},
     "output_type": "execute_result"
    }
   ],
   "source": [
    "eleitos.sort_values(by = \"id_municipio\").groupby([\"id_municipio_tse\"])[\"%votos\"].diff(-1)"
   ]
  },
  {
   "cell_type": "code",
   "execution_count": 35,
   "metadata": {},
   "outputs": [],
   "source": [
    "eleitos[\"dif_votos\"] = eleitos.groupby([\"id_municipio_tse\"])[\"%votos\"].diff(-1) * (-1)"
   ]
  },
  {
   "cell_type": "code",
   "execution_count": 36,
   "metadata": {},
   "outputs": [],
   "source": [
    "eleitos[\"dif_votos\"] = eleitos.groupby([\"id_municipio_tse\"])[\"dif_votos\"].transform('max')"
   ]
  },
  {
   "cell_type": "code",
   "execution_count": 37,
   "metadata": {},
   "outputs": [],
   "source": [
    "eleitos = eleitos.sort_values(by = \"id_municipio\")"
   ]
  },
  {
   "cell_type": "code",
   "execution_count": 38,
   "metadata": {},
   "outputs": [
    {
     "data": {
      "text/plain": [
       "5267"
      ]
     },
     "execution_count": 38,
     "metadata": {},
     "output_type": "execute_result"
    }
   ],
   "source": [
    "len(eleitos[\"id_municipio\"].unique())"
   ]
  },
  {
   "cell_type": "code",
   "execution_count": null,
   "metadata": {},
   "outputs": [],
   "source": []
  },
  {
   "cell_type": "code",
   "execution_count": 39,
   "metadata": {},
   "outputs": [],
   "source": [
    "eleitos['dif_votos'] = eleitos['dif_votos'].fillna(0) # colocando diferença igual a 0 para cidades em que o candidato teve 100% dos votos"
   ]
  },
  {
   "cell_type": "code",
   "execution_count": 40,
   "metadata": {},
   "outputs": [],
   "source": [
    "eleitos['dif_votos'] = eleitos['dif_votos'].abs()"
   ]
  },
  {
   "cell_type": "code",
   "execution_count": 41,
   "metadata": {},
   "outputs": [
    {
     "data": {
      "text/plain": [
       "count    13313.000000\n",
       "mean         0.241278\n",
       "std          0.195516\n",
       "min          0.000000\n",
       "25%          0.079954\n",
       "50%          0.191617\n",
       "75%          0.376029\n",
       "max          0.997461\n",
       "Name: dif_votos, dtype: float64"
      ]
     },
     "execution_count": 41,
     "metadata": {},
     "output_type": "execute_result"
    }
   ],
   "source": [
    "eleitos.dif_votos.describe() # distribuição faz sentido"
   ]
  },
  {
   "cell_type": "code",
   "execution_count": 42,
   "metadata": {},
   "outputs": [
    {
     "data": {
      "text/html": [
       "<div>\n",
       "<style scoped>\n",
       "    .dataframe tbody tr th:only-of-type {\n",
       "        vertical-align: middle;\n",
       "    }\n",
       "\n",
       "    .dataframe tbody tr th {\n",
       "        vertical-align: top;\n",
       "    }\n",
       "\n",
       "    .dataframe thead th {\n",
       "        text-align: right;\n",
       "    }\n",
       "</style>\n",
       "<table border=\"1\" class=\"dataframe\">\n",
       "  <thead>\n",
       "    <tr style=\"text-align: right;\">\n",
       "      <th></th>\n",
       "      <th>ano</th>\n",
       "      <th>titulo_eleitoral</th>\n",
       "      <th>sequencial</th>\n",
       "      <th>numero</th>\n",
       "      <th>numero_partido</th>\n",
       "      <th>idade</th>\n",
       "      <th>ano_1</th>\n",
       "      <th>turno</th>\n",
       "      <th>id_municipio_1</th>\n",
       "      <th>id_municipio_tse_1</th>\n",
       "      <th>numero_candidato</th>\n",
       "      <th>sequencial_candidato</th>\n",
       "      <th>id_candidato_bd_1</th>\n",
       "      <th>votos</th>\n",
       "      <th>decisao_primeiro_turno</th>\n",
       "      <th>total_votos</th>\n",
       "      <th>%votos</th>\n",
       "      <th>dif_votos_2_lugar</th>\n",
       "      <th>dif_votos_3_lugar</th>\n",
       "      <th>dif_votos</th>\n",
       "    </tr>\n",
       "  </thead>\n",
       "  <tbody>\n",
       "    <tr>\n",
       "      <th>count</th>\n",
       "      <td>13313.0</td>\n",
       "      <td>1.331300e+04</td>\n",
       "      <td>1.331300e+04</td>\n",
       "      <td>13313.000000</td>\n",
       "      <td>13313.000000</td>\n",
       "      <td>13313.000000</td>\n",
       "      <td>13313.0</td>\n",
       "      <td>13313.0</td>\n",
       "      <td>1.331300e+04</td>\n",
       "      <td>13313.000000</td>\n",
       "      <td>13313.000000</td>\n",
       "      <td>1.331300e+04</td>\n",
       "      <td>1.331300e+04</td>\n",
       "      <td>13313.000000</td>\n",
       "      <td>13313.0</td>\n",
       "      <td>1.331300e+04</td>\n",
       "      <td>13313.000000</td>\n",
       "      <td>13313.000000</td>\n",
       "      <td>8959.000000</td>\n",
       "      <td>13313.000000</td>\n",
       "    </tr>\n",
       "    <tr>\n",
       "      <th>mean</th>\n",
       "      <td>2020.0</td>\n",
       "      <td>5.892269e+10</td>\n",
       "      <td>1.560206e+11</td>\n",
       "      <td>28.757305</td>\n",
       "      <td>28.757305</td>\n",
       "      <td>49.654849</td>\n",
       "      <td>2020.0</td>\n",
       "      <td>1.0</td>\n",
       "      <td>3.252043e+06</td>\n",
       "      <td>51593.130023</td>\n",
       "      <td>28.757305</td>\n",
       "      <td>1.560206e+11</td>\n",
       "      <td>8.656970e+05</td>\n",
       "      <td>5102.830166</td>\n",
       "      <td>1.0</td>\n",
       "      <td>1.519707e+04</td>\n",
       "      <td>0.386968</td>\n",
       "      <td>0.180775</td>\n",
       "      <td>0.398241</td>\n",
       "      <td>0.241278</td>\n",
       "    </tr>\n",
       "    <tr>\n",
       "      <th>std</th>\n",
       "      <td>0.0</td>\n",
       "      <td>6.444390e+10</td>\n",
       "      <td>6.847858e+10</td>\n",
       "      <td>19.517645</td>\n",
       "      <td>19.517645</td>\n",
       "      <td>10.955888</td>\n",
       "      <td>0.0</td>\n",
       "      <td>0.0</td>\n",
       "      <td>9.879560e+05</td>\n",
       "      <td>29269.134833</td>\n",
       "      <td>19.517645</td>\n",
       "      <td>6.847858e+10</td>\n",
       "      <td>5.176271e+05</td>\n",
       "      <td>14905.692184</td>\n",
       "      <td>0.0</td>\n",
       "      <td>3.868662e+04</td>\n",
       "      <td>0.208126</td>\n",
       "      <td>0.178934</td>\n",
       "      <td>0.178059</td>\n",
       "      <td>0.195516</td>\n",
       "    </tr>\n",
       "    <tr>\n",
       "      <th>min</th>\n",
       "      <td>2020.0</td>\n",
       "      <td>2.051341e+06</td>\n",
       "      <td>1.000065e+10</td>\n",
       "      <td>10.000000</td>\n",
       "      <td>10.000000</td>\n",
       "      <td>21.000000</td>\n",
       "      <td>2020.0</td>\n",
       "      <td>1.0</td>\n",
       "      <td>1.100015e+06</td>\n",
       "      <td>19.000000</td>\n",
       "      <td>10.000000</td>\n",
       "      <td>1.000065e+10</td>\n",
       "      <td>1.620000e+02</td>\n",
       "      <td>2.000000</td>\n",
       "      <td>1.0</td>\n",
       "      <td>6.160000e+02</td>\n",
       "      <td>0.000252</td>\n",
       "      <td>0.000000</td>\n",
       "      <td>0.007768</td>\n",
       "      <td>0.000000</td>\n",
       "    </tr>\n",
       "    <tr>\n",
       "      <th>25%</th>\n",
       "      <td>2020.0</td>\n",
       "      <td>1.800208e+10</td>\n",
       "      <td>1.100007e+11</td>\n",
       "      <td>13.000000</td>\n",
       "      <td>13.000000</td>\n",
       "      <td>42.000000</td>\n",
       "      <td>2020.0</td>\n",
       "      <td>1.0</td>\n",
       "      <td>2.513307e+06</td>\n",
       "      <td>24830.000000</td>\n",
       "      <td>13.000000</td>\n",
       "      <td>1.100007e+11</td>\n",
       "      <td>4.178580e+05</td>\n",
       "      <td>1249.000000</td>\n",
       "      <td>1.0</td>\n",
       "      <td>3.929000e+03</td>\n",
       "      <td>0.240441</td>\n",
       "      <td>0.053070</td>\n",
       "      <td>0.262422</td>\n",
       "      <td>0.079954</td>\n",
       "    </tr>\n",
       "    <tr>\n",
       "      <th>50%</th>\n",
       "      <td>2020.0</td>\n",
       "      <td>3.638170e+10</td>\n",
       "      <td>1.500011e+11</td>\n",
       "      <td>22.000000</td>\n",
       "      <td>22.000000</td>\n",
       "      <td>49.000000</td>\n",
       "      <td>2020.0</td>\n",
       "      <td>1.0</td>\n",
       "      <td>3.146404e+06</td>\n",
       "      <td>51438.000000</td>\n",
       "      <td>22.000000</td>\n",
       "      <td>1.500011e+11</td>\n",
       "      <td>8.282730e+05</td>\n",
       "      <td>2483.000000</td>\n",
       "      <td>1.0</td>\n",
       "      <td>7.248000e+03</td>\n",
       "      <td>0.411529</td>\n",
       "      <td>0.125038</td>\n",
       "      <td>0.420359</td>\n",
       "      <td>0.191617</td>\n",
       "    </tr>\n",
       "    <tr>\n",
       "      <th>75%</th>\n",
       "      <td>2020.0</td>\n",
       "      <td>7.450167e+10</td>\n",
       "      <td>2.100009e+11</td>\n",
       "      <td>45.000000</td>\n",
       "      <td>45.000000</td>\n",
       "      <td>57.000000</td>\n",
       "      <td>2020.0</td>\n",
       "      <td>1.0</td>\n",
       "      <td>4.117404e+06</td>\n",
       "      <td>78875.000000</td>\n",
       "      <td>45.000000</td>\n",
       "      <td>2.100009e+11</td>\n",
       "      <td>1.292588e+06</td>\n",
       "      <td>5172.000000</td>\n",
       "      <td>1.0</td>\n",
       "      <td>1.451000e+04</td>\n",
       "      <td>0.516081</td>\n",
       "      <td>0.245775</td>\n",
       "      <td>0.519276</td>\n",
       "      <td>0.376029</td>\n",
       "    </tr>\n",
       "    <tr>\n",
       "      <th>max</th>\n",
       "      <td>2020.0</td>\n",
       "      <td>4.336587e+11</td>\n",
       "      <td>2.700013e+11</td>\n",
       "      <td>90.000000</td>\n",
       "      <td>90.000000</td>\n",
       "      <td>95.000000</td>\n",
       "      <td>2020.0</td>\n",
       "      <td>1.0</td>\n",
       "      <td>5.222302e+06</td>\n",
       "      <td>99074.000000</td>\n",
       "      <td>90.000000</td>\n",
       "      <td>2.700013e+11</td>\n",
       "      <td>1.800485e+06</td>\n",
       "      <td>784307.000000</td>\n",
       "      <td>1.0</td>\n",
       "      <td>1.237764e+06</td>\n",
       "      <td>1.000000</td>\n",
       "      <td>0.997461</td>\n",
       "      <td>0.986481</td>\n",
       "      <td>0.997461</td>\n",
       "    </tr>\n",
       "  </tbody>\n",
       "</table>\n",
       "</div>"
      ],
      "text/plain": [
       "           ano  titulo_eleitoral    sequencial        numero  numero_partido  \\\n",
       "count  13313.0      1.331300e+04  1.331300e+04  13313.000000    13313.000000   \n",
       "mean    2020.0      5.892269e+10  1.560206e+11     28.757305       28.757305   \n",
       "std        0.0      6.444390e+10  6.847858e+10     19.517645       19.517645   \n",
       "min     2020.0      2.051341e+06  1.000065e+10     10.000000       10.000000   \n",
       "25%     2020.0      1.800208e+10  1.100007e+11     13.000000       13.000000   \n",
       "50%     2020.0      3.638170e+10  1.500011e+11     22.000000       22.000000   \n",
       "75%     2020.0      7.450167e+10  2.100009e+11     45.000000       45.000000   \n",
       "max     2020.0      4.336587e+11  2.700013e+11     90.000000       90.000000   \n",
       "\n",
       "              idade    ano_1    turno  id_municipio_1  id_municipio_tse_1  \\\n",
       "count  13313.000000  13313.0  13313.0    1.331300e+04        13313.000000   \n",
       "mean      49.654849   2020.0      1.0    3.252043e+06        51593.130023   \n",
       "std       10.955888      0.0      0.0    9.879560e+05        29269.134833   \n",
       "min       21.000000   2020.0      1.0    1.100015e+06           19.000000   \n",
       "25%       42.000000   2020.0      1.0    2.513307e+06        24830.000000   \n",
       "50%       49.000000   2020.0      1.0    3.146404e+06        51438.000000   \n",
       "75%       57.000000   2020.0      1.0    4.117404e+06        78875.000000   \n",
       "max       95.000000   2020.0      1.0    5.222302e+06        99074.000000   \n",
       "\n",
       "       numero_candidato  sequencial_candidato  id_candidato_bd_1  \\\n",
       "count      13313.000000          1.331300e+04       1.331300e+04   \n",
       "mean          28.757305          1.560206e+11       8.656970e+05   \n",
       "std           19.517645          6.847858e+10       5.176271e+05   \n",
       "min           10.000000          1.000065e+10       1.620000e+02   \n",
       "25%           13.000000          1.100007e+11       4.178580e+05   \n",
       "50%           22.000000          1.500011e+11       8.282730e+05   \n",
       "75%           45.000000          2.100009e+11       1.292588e+06   \n",
       "max           90.000000          2.700013e+11       1.800485e+06   \n",
       "\n",
       "               votos  decisao_primeiro_turno   total_votos        %votos  \\\n",
       "count   13313.000000                 13313.0  1.331300e+04  13313.000000   \n",
       "mean     5102.830166                     1.0  1.519707e+04      0.386968   \n",
       "std     14905.692184                     0.0  3.868662e+04      0.208126   \n",
       "min         2.000000                     1.0  6.160000e+02      0.000252   \n",
       "25%      1249.000000                     1.0  3.929000e+03      0.240441   \n",
       "50%      2483.000000                     1.0  7.248000e+03      0.411529   \n",
       "75%      5172.000000                     1.0  1.451000e+04      0.516081   \n",
       "max    784307.000000                     1.0  1.237764e+06      1.000000   \n",
       "\n",
       "       dif_votos_2_lugar  dif_votos_3_lugar     dif_votos  \n",
       "count       13313.000000        8959.000000  13313.000000  \n",
       "mean            0.180775           0.398241      0.241278  \n",
       "std             0.178934           0.178059      0.195516  \n",
       "min             0.000000           0.007768      0.000000  \n",
       "25%             0.053070           0.262422      0.079954  \n",
       "50%             0.125038           0.420359      0.191617  \n",
       "75%             0.245775           0.519276      0.376029  \n",
       "max             0.997461           0.986481      0.997461  "
      ]
     },
     "execution_count": 42,
     "metadata": {},
     "output_type": "execute_result"
    }
   ],
   "source": [
    "eleitos.describe()"
   ]
  },
  {
   "cell_type": "code",
   "execution_count": 43,
   "metadata": {},
   "outputs": [],
   "source": [
    "cpfs_rdd = tuple(eleitos.cpf.unique())"
   ]
  },
  {
   "cell_type": "code",
   "execution_count": 44,
   "metadata": {},
   "outputs": [
    {
     "data": {
      "text/plain": [
       "13313"
      ]
     },
     "execution_count": 44,
     "metadata": {},
     "output_type": "execute_result"
    }
   ],
   "source": [
    "len(cpfs_rdd)"
   ]
  },
  {
   "cell_type": "code",
   "execution_count": null,
   "metadata": {},
   "outputs": [],
   "source": []
  },
  {
   "cell_type": "markdown",
   "metadata": {},
   "source": [
    "## Criando função para procurar os cpfs eleitos na RAIS em todos os estados e em todos os anos antes de 2012"
   ]
  },
  {
   "cell_type": "code",
   "execution_count": 45,
   "metadata": {},
   "outputs": [],
   "source": [
    "#import pandas as pd\n",
    "#import numpy as np\n",
    "#import seaborn as sns\n",
    "##import basedosdados as bd\n",
    "\n",
    "#\n",
    "#sns.set(rc={'figure.figsize':(11.7,8.27)})\n",
    "#sns.set_theme(style=\"darkgrid\")"
   ]
  },
  {
   "cell_type": "markdown",
   "metadata": {},
   "source": [
    "## Definindo profissões STEM"
   ]
  },
  {
   "cell_type": "code",
   "execution_count": null,
   "metadata": {},
   "outputs": [],
   "source": []
  },
  {
   "cell_type": "code",
   "execution_count": 46,
   "metadata": {},
   "outputs": [],
   "source": [
    "server = 'sql-sigilo-eastus-prod.71d5dd223a40.database.windows.net'\n",
    "\n",
    "database = 'RAIS'\n",
    "\n",
    "port= '1433'\n",
    "\n",
    "username = 'GabrielCP3'\n",
    "\n",
    "password = '@VN1ai2GG3as4'\n",
    "\n",
    "driver= '{SQL Server}'\n",
    "\n",
    "cnxn = pyodbc.connect('DRIVER='+driver+';SERVER='+server+';PORT='+port+';DATABASE='+database+';UID='+username+';PWD='+ password)\n",
    "\n",
    "cursor = cnxn.cursor()"
   ]
  },
  {
   "cell_type": "code",
   "execution_count": null,
   "metadata": {},
   "outputs": [],
   "source": []
  },
  {
   "cell_type": "markdown",
   "metadata": {},
   "source": [
    "## Criando anos e estados de interesse"
   ]
  },
  {
   "cell_type": "code",
   "execution_count": 47,
   "metadata": {},
   "outputs": [],
   "source": [
    "anos =[2003]\n",
    "for i in range(2018-anos[0]):\n",
    "    anos.append(anos[-1] + 1)"
   ]
  },
  {
   "cell_type": "code",
   "execution_count": 48,
   "metadata": {},
   "outputs": [],
   "source": [
    "estados = list(eleitos.sigla_uf.unique())"
   ]
  },
  {
   "cell_type": "markdown",
   "metadata": {},
   "source": [
    "## Buscando na RAIS"
   ]
  },
  {
   "cell_type": "code",
   "execution_count": 49,
   "metadata": {},
   "outputs": [],
   "source": [
    "df = pd.DataFrame()"
   ]
  },
  {
   "cell_type": "code",
   "execution_count": 50,
   "metadata": {},
   "outputs": [],
   "source": [
    "def rais(ano,estado):\n",
    "    global df\n",
    "   \n",
    "    if ano >= 2011:\n",
    "        consulta_1 = \"\"\" SELECT\n",
    "                    a.CPF cpf,\n",
    "                    a.[Nome Trabalhador] nome,\n",
    "                    a.[Município] id_municipio,\n",
    "                    a.[Sexo Trabalhador] sexo,\n",
    "                    a.[Raça Cor] raca,\n",
    "                    a.[Idade] idade,\n",
    "                    a.[CNPJ Raiz] cnpj_raiz,\n",
    "                    a.[CBO Ocupação 2002] cbo_2002,\n",
    "                    a.[CNAE 2 0 Classe] as cnae,\n",
    "                    a.[Vl Remun Dezembro Nom] rem_dez,\n",
    "                    a.[Data Admissão Declarada] data_adm,\n",
    "                    a.[Tempo Emprego] tenure,\n",
    "                    a.[Vínculo Ativo 31 12] vinc_ativ3112\n",
    "                    FROM dbo.{}{}ID a\n",
    "                    WHERE a.[Vínculo Ativo 31 12] != '0'\n",
    "                    AND a.[Vínculo Ativo 31 12] != '0'\n",
    "                    AND a.[Vínculo Ativo 31 12] != ' 0'\n",
    "                    AND a.[Vínculo Ativo 31 12] != 0\n",
    "                    AND a.[CPF] IN {}\n",
    "                   \"\"\".format(estado,ano,cpfs_rdd)\n",
    "        \n",
    "        df_provisorio = pd.read_sql(consulta_1,  cnxn)\n",
    "        \n",
    "        df_provisorio[\"Ano\"] = ano\n",
    "        df_provisorio[\"Estado\"] = estado\n",
    "        \n",
    "        df_provisorio['cpf'] = df_provisorio['cpf'].str.strip()\n",
    "    \n",
    "        df_provisorio.loc[(df_provisorio['vinc_ativ3112'] == ' 1') |\n",
    "                      (df_provisorio['vinc_ativ3112'] == '1')  |\n",
    "                      (df_provisorio['vinc_ativ3112'] == 'True'), 'vinc_ativ3112'] = 1\n",
    "    \n",
    "        df_provisorio.loc[(df_provisorio['vinc_ativ3112'] == ' 0') |\n",
    "                      (df_provisorio['vinc_ativ3112'] == '0')  |\n",
    "                      (df_provisorio['vinc_ativ3112'] == 'False'),'vinc_ativ3112'] = 0\n",
    "           \n",
    "        df = pd.concat([df, df_provisorio])\n",
    "           \n",
    "        print(f\"foi criado um df de tamanho {len(df)}\")\n",
    "\n",
    "    elif ano >= 2006:\n",
    "        \n",
    "        consulta_1 = \"\"\" SELECT\n",
    "                        a.CPF cpf,\n",
    "                        a.[NOME] nome,\n",
    "                        a.[MUNICIPIO] id_municipio,\n",
    "                        a.[GENERO] sexo,\n",
    "                        a.[RACA_COR] raca,\n",
    "                        a.[DT NASCIMENT] dt_nasc,\n",
    "                        a.[RADIC CNPJ] cnpj_raiz,\n",
    "                        a.[OCUP 2002] cbo_2002,\n",
    "                        a.[SB CLAS 20] as sbclas20,\n",
    "                        a.[REM DEZEMBRO] rem_dez,\n",
    "                        a.[DT ADMISSAO] data_adm,\n",
    "                        a.[TEMP EMPR] tenure,\n",
    "                        a.[EMP EM 31 12] vinc_ativ3112\n",
    "                        FROM dbo.{}{}ID a\n",
    "                        WHERE a.[EMP EM 31 12] != '0'\n",
    "                        AND a.[EMP EM 31 12] != '0'\n",
    "                        AND a.[EMP EM 31 12] != ' 0'\n",
    "                        AND a.[EMP EM 31 12] != 0\n",
    "                        AND a.[CPF] IN {}\n",
    "                        \"\"\".format(estado,ano,cpfs_rdd)\n",
    "        \n",
    "        df_provisorio = pd.read_sql(consulta_1,  cnxn)\n",
    "        \n",
    "        df_provisorio[\"Ano\"] = ano\n",
    "        df_provisorio[\"Estado\"] = estado\n",
    "        \n",
    "        df_provisorio['cpf'] = df_provisorio['cpf'].str.strip()\n",
    "\n",
    "    \n",
    "        df_provisorio.loc[(df_provisorio['vinc_ativ3112'] == ' 1') |\n",
    "                      (df_provisorio['vinc_ativ3112'] == '1')  |\n",
    "                      (df_provisorio['vinc_ativ3112'] == 'True'), 'vinc_ativ3112'] = 1\n",
    "    \n",
    "        df_provisorio.loc[(df_provisorio['vinc_ativ3112'] == ' 0') |\n",
    "                      (df_provisorio['vinc_ativ3112'] == '0')  |\n",
    "                      (df_provisorio['vinc_ativ3112'] == 'False'),'vinc_ativ3112'] = 0\n",
    "           \n",
    "        df = pd.concat([df, df_provisorio])\n",
    "           \n",
    "        print(f\"foi criado um df de tamanho {len(df)}\")\n",
    "        \n",
    "        \n",
    "    else:\n",
    "        \n",
    "        consulta_1 = \"\"\" SELECT\n",
    "                        a.CPF cpf,\n",
    "                        a.[NOME] nome,\n",
    "                        a.[MUNICIPIO] id_municipio,\n",
    "                        a.[SEXO] sexo,\n",
    "                        a.[RACA_COR] raca,\n",
    "                        a.[DT NASCIMENT] dt_nasc,\n",
    "                        a.[RADIC CNPJ] cnpj_raiz,\n",
    "                        a.[OCUP 2002] cbo_2002,\n",
    "                        a.[CLAS CNAE 95] as cnae_95,\n",
    "                        a.[REM DEZEMBRO] rem_dez,\n",
    "                        a.[DT ADMISSAO] data_adm,\n",
    "                        a.[TEMP EMPR] tenure,\n",
    "                        a.[EMP EM 31 12] vinc_ativ3112\n",
    "                        FROM dbo.{}{}ID a\n",
    "                        WHERE a.[EMP EM 31 12] != '0'\n",
    "                        AND a.[EMP EM 31 12] != '0'\n",
    "                        AND a.[EMP EM 31 12] != ' 0'\n",
    "                        AND a.[EMP EM 31 12] != 0\n",
    "                        AND a.[CPF] IN {}\n",
    "                        \"\"\".format(estado,ano,cpfs_rdd)\n",
    "        df_provisorio = pd.read_sql(consulta_1,  cnxn)\n",
    "        \n",
    "        df_provisorio[\"Ano\"] = ano\n",
    "        df_provisorio[\"Estado\"] = estado\n",
    "        \n",
    "        df_provisorio['cpf'] = df_provisorio['cpf'].str.strip()\n",
    "\n",
    "    \n",
    "        df_provisorio.loc[(df_provisorio['vinc_ativ3112'] == ' 1') |\n",
    "                      (df_provisorio['vinc_ativ3112'] == '1')  |\n",
    "                      (df_provisorio['vinc_ativ3112'] == 'True'), 'vinc_ativ3112'] = 1\n",
    "    \n",
    "        df_provisorio.loc[(df_provisorio['vinc_ativ3112'] == ' 0') |\n",
    "                      (df_provisorio['vinc_ativ3112'] == '0')  |\n",
    "                      (df_provisorio['vinc_ativ3112'] == 'False'),'vinc_ativ3112'] = 0\n",
    "           \n",
    "        df = pd.concat([df, df_provisorio])\n",
    "           \n",
    "        print(f\"foi criado um df de tamanho {len(df)}\")"
   ]
  },
  {
   "cell_type": "code",
   "execution_count": 51,
   "metadata": {},
   "outputs": [
    {
     "name": "stderr",
     "output_type": "stream",
     "text": [
      "C:\\ProgramData\\Anaconda3\\lib\\site-packages\\pandas\\io\\sql.py:761: UserWarning: pandas only support SQLAlchemy connectable(engine/connection) ordatabase string URI or sqlite3 DBAPI2 connectionother DBAPI2 objects are not tested, please consider using SQLAlchemy\n",
      "  warnings.warn(\n"
     ]
    },
    {
     "name": "stdout",
     "output_type": "stream",
     "text": [
      "foi criado um df de tamanho 7\n"
     ]
    },
    {
     "name": "stderr",
     "output_type": "stream",
     "text": [
      "C:\\ProgramData\\Anaconda3\\lib\\site-packages\\pandas\\io\\sql.py:761: UserWarning: pandas only support SQLAlchemy connectable(engine/connection) ordatabase string URI or sqlite3 DBAPI2 connectionother DBAPI2 objects are not tested, please consider using SQLAlchemy\n",
      "  warnings.warn(\n"
     ]
    },
    {
     "name": "stdout",
     "output_type": "stream",
     "text": [
      "foi criado um df de tamanho 66\n"
     ]
    },
    {
     "name": "stderr",
     "output_type": "stream",
     "text": [
      "C:\\ProgramData\\Anaconda3\\lib\\site-packages\\pandas\\io\\sql.py:761: UserWarning: pandas only support SQLAlchemy connectable(engine/connection) ordatabase string URI or sqlite3 DBAPI2 connectionother DBAPI2 objects are not tested, please consider using SQLAlchemy\n",
      "  warnings.warn(\n"
     ]
    },
    {
     "name": "stdout",
     "output_type": "stream",
     "text": [
      "foi criado um df de tamanho 130\n"
     ]
    },
    {
     "name": "stderr",
     "output_type": "stream",
     "text": [
      "C:\\ProgramData\\Anaconda3\\lib\\site-packages\\pandas\\io\\sql.py:761: UserWarning: pandas only support SQLAlchemy connectable(engine/connection) ordatabase string URI or sqlite3 DBAPI2 connectionother DBAPI2 objects are not tested, please consider using SQLAlchemy\n",
      "  warnings.warn(\n"
     ]
    },
    {
     "name": "stdout",
     "output_type": "stream",
     "text": [
      "foi criado um df de tamanho 186\n"
     ]
    },
    {
     "name": "stderr",
     "output_type": "stream",
     "text": [
      "C:\\ProgramData\\Anaconda3\\lib\\site-packages\\pandas\\io\\sql.py:761: UserWarning: pandas only support SQLAlchemy connectable(engine/connection) ordatabase string URI or sqlite3 DBAPI2 connectionother DBAPI2 objects are not tested, please consider using SQLAlchemy\n",
      "  warnings.warn(\n"
     ]
    },
    {
     "name": "stdout",
     "output_type": "stream",
     "text": [
      "foi criado um df de tamanho 241\n"
     ]
    },
    {
     "name": "stderr",
     "output_type": "stream",
     "text": [
      "C:\\ProgramData\\Anaconda3\\lib\\site-packages\\pandas\\io\\sql.py:761: UserWarning: pandas only support SQLAlchemy connectable(engine/connection) ordatabase string URI or sqlite3 DBAPI2 connectionother DBAPI2 objects are not tested, please consider using SQLAlchemy\n",
      "  warnings.warn(\n"
     ]
    },
    {
     "name": "stdout",
     "output_type": "stream",
     "text": [
      "foi criado um df de tamanho 305\n"
     ]
    },
    {
     "name": "stderr",
     "output_type": "stream",
     "text": [
      "C:\\ProgramData\\Anaconda3\\lib\\site-packages\\pandas\\io\\sql.py:761: UserWarning: pandas only support SQLAlchemy connectable(engine/connection) ordatabase string URI or sqlite3 DBAPI2 connectionother DBAPI2 objects are not tested, please consider using SQLAlchemy\n",
      "  warnings.warn(\n"
     ]
    },
    {
     "name": "stdout",
     "output_type": "stream",
     "text": [
      "foi criado um df de tamanho 387\n"
     ]
    },
    {
     "name": "stderr",
     "output_type": "stream",
     "text": [
      "C:\\ProgramData\\Anaconda3\\lib\\site-packages\\pandas\\io\\sql.py:761: UserWarning: pandas only support SQLAlchemy connectable(engine/connection) ordatabase string URI or sqlite3 DBAPI2 connectionother DBAPI2 objects are not tested, please consider using SQLAlchemy\n",
      "  warnings.warn(\n"
     ]
    },
    {
     "name": "stdout",
     "output_type": "stream",
     "text": [
      "foi criado um df de tamanho 462\n"
     ]
    },
    {
     "name": "stderr",
     "output_type": "stream",
     "text": [
      "C:\\ProgramData\\Anaconda3\\lib\\site-packages\\pandas\\io\\sql.py:761: UserWarning: pandas only support SQLAlchemy connectable(engine/connection) ordatabase string URI or sqlite3 DBAPI2 connectionother DBAPI2 objects are not tested, please consider using SQLAlchemy\n",
      "  warnings.warn(\n"
     ]
    },
    {
     "name": "stdout",
     "output_type": "stream",
     "text": [
      "foi criado um df de tamanho 550\n"
     ]
    },
    {
     "name": "stderr",
     "output_type": "stream",
     "text": [
      "C:\\ProgramData\\Anaconda3\\lib\\site-packages\\pandas\\io\\sql.py:761: UserWarning: pandas only support SQLAlchemy connectable(engine/connection) ordatabase string URI or sqlite3 DBAPI2 connectionother DBAPI2 objects are not tested, please consider using SQLAlchemy\n",
      "  warnings.warn(\n"
     ]
    },
    {
     "name": "stdout",
     "output_type": "stream",
     "text": [
      "foi criado um df de tamanho 632\n"
     ]
    },
    {
     "name": "stderr",
     "output_type": "stream",
     "text": [
      "C:\\ProgramData\\Anaconda3\\lib\\site-packages\\pandas\\io\\sql.py:761: UserWarning: pandas only support SQLAlchemy connectable(engine/connection) ordatabase string URI or sqlite3 DBAPI2 connectionother DBAPI2 objects are not tested, please consider using SQLAlchemy\n",
      "  warnings.warn(\n"
     ]
    },
    {
     "name": "stdout",
     "output_type": "stream",
     "text": [
      "foi criado um df de tamanho 713\n"
     ]
    },
    {
     "name": "stderr",
     "output_type": "stream",
     "text": [
      "C:\\ProgramData\\Anaconda3\\lib\\site-packages\\pandas\\io\\sql.py:761: UserWarning: pandas only support SQLAlchemy connectable(engine/connection) ordatabase string URI or sqlite3 DBAPI2 connectionother DBAPI2 objects are not tested, please consider using SQLAlchemy\n",
      "  warnings.warn(\n"
     ]
    },
    {
     "name": "stdout",
     "output_type": "stream",
     "text": [
      "foi criado um df de tamanho 784\n"
     ]
    },
    {
     "name": "stderr",
     "output_type": "stream",
     "text": [
      "C:\\ProgramData\\Anaconda3\\lib\\site-packages\\pandas\\io\\sql.py:761: UserWarning: pandas only support SQLAlchemy connectable(engine/connection) ordatabase string URI or sqlite3 DBAPI2 connectionother DBAPI2 objects are not tested, please consider using SQLAlchemy\n",
      "  warnings.warn(\n"
     ]
    },
    {
     "name": "stdout",
     "output_type": "stream",
     "text": [
      "foi criado um df de tamanho 849\n"
     ]
    },
    {
     "name": "stderr",
     "output_type": "stream",
     "text": [
      "C:\\ProgramData\\Anaconda3\\lib\\site-packages\\pandas\\io\\sql.py:761: UserWarning: pandas only support SQLAlchemy connectable(engine/connection) ordatabase string URI or sqlite3 DBAPI2 connectionother DBAPI2 objects are not tested, please consider using SQLAlchemy\n",
      "  warnings.warn(\n"
     ]
    },
    {
     "name": "stdout",
     "output_type": "stream",
     "text": [
      "foi criado um df de tamanho 911\n"
     ]
    },
    {
     "name": "stderr",
     "output_type": "stream",
     "text": [
      "C:\\ProgramData\\Anaconda3\\lib\\site-packages\\pandas\\io\\sql.py:761: UserWarning: pandas only support SQLAlchemy connectable(engine/connection) ordatabase string URI or sqlite3 DBAPI2 connectionother DBAPI2 objects are not tested, please consider using SQLAlchemy\n",
      "  warnings.warn(\n"
     ]
    },
    {
     "name": "stdout",
     "output_type": "stream",
     "text": [
      "foi criado um df de tamanho 988\n"
     ]
    },
    {
     "name": "stderr",
     "output_type": "stream",
     "text": [
      "C:\\ProgramData\\Anaconda3\\lib\\site-packages\\pandas\\io\\sql.py:761: UserWarning: pandas only support SQLAlchemy connectable(engine/connection) ordatabase string URI or sqlite3 DBAPI2 connectionother DBAPI2 objects are not tested, please consider using SQLAlchemy\n",
      "  warnings.warn(\n"
     ]
    },
    {
     "name": "stdout",
     "output_type": "stream",
     "text": [
      "foi criado um df de tamanho 1056\n"
     ]
    },
    {
     "name": "stderr",
     "output_type": "stream",
     "text": [
      "C:\\ProgramData\\Anaconda3\\lib\\site-packages\\pandas\\io\\sql.py:761: UserWarning: pandas only support SQLAlchemy connectable(engine/connection) ordatabase string URI or sqlite3 DBAPI2 connectionother DBAPI2 objects are not tested, please consider using SQLAlchemy\n",
      "  warnings.warn(\n"
     ]
    },
    {
     "name": "stdout",
     "output_type": "stream",
     "text": [
      "foi criado um df de tamanho 1060\n"
     ]
    },
    {
     "name": "stderr",
     "output_type": "stream",
     "text": [
      "C:\\ProgramData\\Anaconda3\\lib\\site-packages\\pandas\\io\\sql.py:761: UserWarning: pandas only support SQLAlchemy connectable(engine/connection) ordatabase string URI or sqlite3 DBAPI2 connectionother DBAPI2 objects are not tested, please consider using SQLAlchemy\n",
      "  warnings.warn(\n"
     ]
    },
    {
     "name": "stdout",
     "output_type": "stream",
     "text": [
      "foi criado um df de tamanho 1083\n"
     ]
    },
    {
     "name": "stderr",
     "output_type": "stream",
     "text": [
      "C:\\ProgramData\\Anaconda3\\lib\\site-packages\\pandas\\io\\sql.py:761: UserWarning: pandas only support SQLAlchemy connectable(engine/connection) ordatabase string URI or sqlite3 DBAPI2 connectionother DBAPI2 objects are not tested, please consider using SQLAlchemy\n",
      "  warnings.warn(\n"
     ]
    },
    {
     "name": "stdout",
     "output_type": "stream",
     "text": [
      "foi criado um df de tamanho 1107\n"
     ]
    },
    {
     "name": "stderr",
     "output_type": "stream",
     "text": [
      "C:\\ProgramData\\Anaconda3\\lib\\site-packages\\pandas\\io\\sql.py:761: UserWarning: pandas only support SQLAlchemy connectable(engine/connection) ordatabase string URI or sqlite3 DBAPI2 connectionother DBAPI2 objects are not tested, please consider using SQLAlchemy\n",
      "  warnings.warn(\n"
     ]
    },
    {
     "name": "stdout",
     "output_type": "stream",
     "text": [
      "foi criado um df de tamanho 1132\n"
     ]
    },
    {
     "name": "stderr",
     "output_type": "stream",
     "text": [
      "C:\\ProgramData\\Anaconda3\\lib\\site-packages\\pandas\\io\\sql.py:761: UserWarning: pandas only support SQLAlchemy connectable(engine/connection) ordatabase string URI or sqlite3 DBAPI2 connectionother DBAPI2 objects are not tested, please consider using SQLAlchemy\n",
      "  warnings.warn(\n"
     ]
    },
    {
     "name": "stdout",
     "output_type": "stream",
     "text": [
      "foi criado um df de tamanho 1158\n"
     ]
    },
    {
     "name": "stderr",
     "output_type": "stream",
     "text": [
      "C:\\ProgramData\\Anaconda3\\lib\\site-packages\\pandas\\io\\sql.py:761: UserWarning: pandas only support SQLAlchemy connectable(engine/connection) ordatabase string URI or sqlite3 DBAPI2 connectionother DBAPI2 objects are not tested, please consider using SQLAlchemy\n",
      "  warnings.warn(\n"
     ]
    },
    {
     "name": "stdout",
     "output_type": "stream",
     "text": [
      "foi criado um df de tamanho 1186\n"
     ]
    },
    {
     "name": "stderr",
     "output_type": "stream",
     "text": [
      "C:\\ProgramData\\Anaconda3\\lib\\site-packages\\pandas\\io\\sql.py:761: UserWarning: pandas only support SQLAlchemy connectable(engine/connection) ordatabase string URI or sqlite3 DBAPI2 connectionother DBAPI2 objects are not tested, please consider using SQLAlchemy\n",
      "  warnings.warn(\n"
     ]
    },
    {
     "name": "stdout",
     "output_type": "stream",
     "text": [
      "foi criado um df de tamanho 1221\n"
     ]
    },
    {
     "name": "stderr",
     "output_type": "stream",
     "text": [
      "C:\\ProgramData\\Anaconda3\\lib\\site-packages\\pandas\\io\\sql.py:761: UserWarning: pandas only support SQLAlchemy connectable(engine/connection) ordatabase string URI or sqlite3 DBAPI2 connectionother DBAPI2 objects are not tested, please consider using SQLAlchemy\n",
      "  warnings.warn(\n"
     ]
    },
    {
     "name": "stdout",
     "output_type": "stream",
     "text": [
      "foi criado um df de tamanho 1263\n"
     ]
    },
    {
     "name": "stderr",
     "output_type": "stream",
     "text": [
      "C:\\ProgramData\\Anaconda3\\lib\\site-packages\\pandas\\io\\sql.py:761: UserWarning: pandas only support SQLAlchemy connectable(engine/connection) ordatabase string URI or sqlite3 DBAPI2 connectionother DBAPI2 objects are not tested, please consider using SQLAlchemy\n",
      "  warnings.warn(\n"
     ]
    },
    {
     "name": "stdout",
     "output_type": "stream",
     "text": [
      "foi criado um df de tamanho 1302\n"
     ]
    },
    {
     "name": "stderr",
     "output_type": "stream",
     "text": [
      "C:\\ProgramData\\Anaconda3\\lib\\site-packages\\pandas\\io\\sql.py:761: UserWarning: pandas only support SQLAlchemy connectable(engine/connection) ordatabase string URI or sqlite3 DBAPI2 connectionother DBAPI2 objects are not tested, please consider using SQLAlchemy\n",
      "  warnings.warn(\n"
     ]
    },
    {
     "name": "stdout",
     "output_type": "stream",
     "text": [
      "foi criado um df de tamanho 1335\n"
     ]
    },
    {
     "name": "stderr",
     "output_type": "stream",
     "text": [
      "C:\\ProgramData\\Anaconda3\\lib\\site-packages\\pandas\\io\\sql.py:761: UserWarning: pandas only support SQLAlchemy connectable(engine/connection) ordatabase string URI or sqlite3 DBAPI2 connectionother DBAPI2 objects are not tested, please consider using SQLAlchemy\n",
      "  warnings.warn(\n"
     ]
    },
    {
     "name": "stdout",
     "output_type": "stream",
     "text": [
      "foi criado um df de tamanho 1368\n"
     ]
    },
    {
     "name": "stderr",
     "output_type": "stream",
     "text": [
      "C:\\ProgramData\\Anaconda3\\lib\\site-packages\\pandas\\io\\sql.py:761: UserWarning: pandas only support SQLAlchemy connectable(engine/connection) ordatabase string URI or sqlite3 DBAPI2 connectionother DBAPI2 objects are not tested, please consider using SQLAlchemy\n",
      "  warnings.warn(\n"
     ]
    },
    {
     "name": "stdout",
     "output_type": "stream",
     "text": [
      "foi criado um df de tamanho 1400\n"
     ]
    },
    {
     "name": "stderr",
     "output_type": "stream",
     "text": [
      "C:\\ProgramData\\Anaconda3\\lib\\site-packages\\pandas\\io\\sql.py:761: UserWarning: pandas only support SQLAlchemy connectable(engine/connection) ordatabase string URI or sqlite3 DBAPI2 connectionother DBAPI2 objects are not tested, please consider using SQLAlchemy\n",
      "  warnings.warn(\n"
     ]
    },
    {
     "name": "stdout",
     "output_type": "stream",
     "text": [
      "foi criado um df de tamanho 1440\n"
     ]
    },
    {
     "name": "stderr",
     "output_type": "stream",
     "text": [
      "C:\\ProgramData\\Anaconda3\\lib\\site-packages\\pandas\\io\\sql.py:761: UserWarning: pandas only support SQLAlchemy connectable(engine/connection) ordatabase string URI or sqlite3 DBAPI2 connectionother DBAPI2 objects are not tested, please consider using SQLAlchemy\n",
      "  warnings.warn(\n"
     ]
    },
    {
     "name": "stdout",
     "output_type": "stream",
     "text": [
      "foi criado um df de tamanho 1469\n"
     ]
    },
    {
     "name": "stderr",
     "output_type": "stream",
     "text": [
      "C:\\ProgramData\\Anaconda3\\lib\\site-packages\\pandas\\io\\sql.py:761: UserWarning: pandas only support SQLAlchemy connectable(engine/connection) ordatabase string URI or sqlite3 DBAPI2 connectionother DBAPI2 objects are not tested, please consider using SQLAlchemy\n",
      "  warnings.warn(\n"
     ]
    },
    {
     "name": "stdout",
     "output_type": "stream",
     "text": [
      "foi criado um df de tamanho 1506\n"
     ]
    },
    {
     "name": "stderr",
     "output_type": "stream",
     "text": [
      "C:\\ProgramData\\Anaconda3\\lib\\site-packages\\pandas\\io\\sql.py:761: UserWarning: pandas only support SQLAlchemy connectable(engine/connection) ordatabase string URI or sqlite3 DBAPI2 connectionother DBAPI2 objects are not tested, please consider using SQLAlchemy\n",
      "  warnings.warn(\n"
     ]
    },
    {
     "name": "stdout",
     "output_type": "stream",
     "text": [
      "foi criado um df de tamanho 1534\n"
     ]
    },
    {
     "name": "stderr",
     "output_type": "stream",
     "text": [
      "C:\\ProgramData\\Anaconda3\\lib\\site-packages\\pandas\\io\\sql.py:761: UserWarning: pandas only support SQLAlchemy connectable(engine/connection) ordatabase string URI or sqlite3 DBAPI2 connectionother DBAPI2 objects are not tested, please consider using SQLAlchemy\n",
      "  warnings.warn(\n"
     ]
    },
    {
     "name": "stdout",
     "output_type": "stream",
     "text": [
      "foi criado um df de tamanho 1540\n"
     ]
    },
    {
     "name": "stderr",
     "output_type": "stream",
     "text": [
      "C:\\ProgramData\\Anaconda3\\lib\\site-packages\\pandas\\io\\sql.py:761: UserWarning: pandas only support SQLAlchemy connectable(engine/connection) ordatabase string URI or sqlite3 DBAPI2 connectionother DBAPI2 objects are not tested, please consider using SQLAlchemy\n",
      "  warnings.warn(\n"
     ]
    },
    {
     "name": "stdout",
     "output_type": "stream",
     "text": [
      "foi criado um df de tamanho 1580\n"
     ]
    },
    {
     "name": "stderr",
     "output_type": "stream",
     "text": [
      "C:\\ProgramData\\Anaconda3\\lib\\site-packages\\pandas\\io\\sql.py:761: UserWarning: pandas only support SQLAlchemy connectable(engine/connection) ordatabase string URI or sqlite3 DBAPI2 connectionother DBAPI2 objects are not tested, please consider using SQLAlchemy\n",
      "  warnings.warn(\n"
     ]
    },
    {
     "name": "stdout",
     "output_type": "stream",
     "text": [
      "foi criado um df de tamanho 1629\n"
     ]
    },
    {
     "name": "stderr",
     "output_type": "stream",
     "text": [
      "C:\\ProgramData\\Anaconda3\\lib\\site-packages\\pandas\\io\\sql.py:761: UserWarning: pandas only support SQLAlchemy connectable(engine/connection) ordatabase string URI or sqlite3 DBAPI2 connectionother DBAPI2 objects are not tested, please consider using SQLAlchemy\n",
      "  warnings.warn(\n"
     ]
    },
    {
     "name": "stdout",
     "output_type": "stream",
     "text": [
      "foi criado um df de tamanho 1675\n"
     ]
    },
    {
     "name": "stderr",
     "output_type": "stream",
     "text": [
      "C:\\ProgramData\\Anaconda3\\lib\\site-packages\\pandas\\io\\sql.py:761: UserWarning: pandas only support SQLAlchemy connectable(engine/connection) ordatabase string URI or sqlite3 DBAPI2 connectionother DBAPI2 objects are not tested, please consider using SQLAlchemy\n",
      "  warnings.warn(\n"
     ]
    },
    {
     "name": "stdout",
     "output_type": "stream",
     "text": [
      "foi criado um df de tamanho 1728\n"
     ]
    },
    {
     "name": "stderr",
     "output_type": "stream",
     "text": [
      "C:\\ProgramData\\Anaconda3\\lib\\site-packages\\pandas\\io\\sql.py:761: UserWarning: pandas only support SQLAlchemy connectable(engine/connection) ordatabase string URI or sqlite3 DBAPI2 connectionother DBAPI2 objects are not tested, please consider using SQLAlchemy\n",
      "  warnings.warn(\n"
     ]
    },
    {
     "name": "stdout",
     "output_type": "stream",
     "text": [
      "foi criado um df de tamanho 1791\n"
     ]
    },
    {
     "name": "stderr",
     "output_type": "stream",
     "text": [
      "C:\\ProgramData\\Anaconda3\\lib\\site-packages\\pandas\\io\\sql.py:761: UserWarning: pandas only support SQLAlchemy connectable(engine/connection) ordatabase string URI or sqlite3 DBAPI2 connectionother DBAPI2 objects are not tested, please consider using SQLAlchemy\n",
      "  warnings.warn(\n"
     ]
    },
    {
     "name": "stdout",
     "output_type": "stream",
     "text": [
      "foi criado um df de tamanho 1860\n"
     ]
    },
    {
     "name": "stderr",
     "output_type": "stream",
     "text": [
      "C:\\ProgramData\\Anaconda3\\lib\\site-packages\\pandas\\io\\sql.py:761: UserWarning: pandas only support SQLAlchemy connectable(engine/connection) ordatabase string URI or sqlite3 DBAPI2 connectionother DBAPI2 objects are not tested, please consider using SQLAlchemy\n",
      "  warnings.warn(\n"
     ]
    },
    {
     "name": "stdout",
     "output_type": "stream",
     "text": [
      "foi criado um df de tamanho 1932\n"
     ]
    },
    {
     "name": "stderr",
     "output_type": "stream",
     "text": [
      "C:\\ProgramData\\Anaconda3\\lib\\site-packages\\pandas\\io\\sql.py:761: UserWarning: pandas only support SQLAlchemy connectable(engine/connection) ordatabase string URI or sqlite3 DBAPI2 connectionother DBAPI2 objects are not tested, please consider using SQLAlchemy\n",
      "  warnings.warn(\n"
     ]
    },
    {
     "name": "stdout",
     "output_type": "stream",
     "text": [
      "foi criado um df de tamanho 2006\n"
     ]
    },
    {
     "name": "stderr",
     "output_type": "stream",
     "text": [
      "C:\\ProgramData\\Anaconda3\\lib\\site-packages\\pandas\\io\\sql.py:761: UserWarning: pandas only support SQLAlchemy connectable(engine/connection) ordatabase string URI or sqlite3 DBAPI2 connectionother DBAPI2 objects are not tested, please consider using SQLAlchemy\n",
      "  warnings.warn(\n"
     ]
    },
    {
     "name": "stdout",
     "output_type": "stream",
     "text": [
      "foi criado um df de tamanho 2078\n"
     ]
    },
    {
     "name": "stderr",
     "output_type": "stream",
     "text": [
      "C:\\ProgramData\\Anaconda3\\lib\\site-packages\\pandas\\io\\sql.py:761: UserWarning: pandas only support SQLAlchemy connectable(engine/connection) ordatabase string URI or sqlite3 DBAPI2 connectionother DBAPI2 objects are not tested, please consider using SQLAlchemy\n",
      "  warnings.warn(\n"
     ]
    },
    {
     "name": "stdout",
     "output_type": "stream",
     "text": [
      "foi criado um df de tamanho 2149\n"
     ]
    },
    {
     "name": "stderr",
     "output_type": "stream",
     "text": [
      "C:\\ProgramData\\Anaconda3\\lib\\site-packages\\pandas\\io\\sql.py:761: UserWarning: pandas only support SQLAlchemy connectable(engine/connection) ordatabase string URI or sqlite3 DBAPI2 connectionother DBAPI2 objects are not tested, please consider using SQLAlchemy\n",
      "  warnings.warn(\n"
     ]
    },
    {
     "name": "stdout",
     "output_type": "stream",
     "text": [
      "foi criado um df de tamanho 2220\n"
     ]
    },
    {
     "name": "stderr",
     "output_type": "stream",
     "text": [
      "C:\\ProgramData\\Anaconda3\\lib\\site-packages\\pandas\\io\\sql.py:761: UserWarning: pandas only support SQLAlchemy connectable(engine/connection) ordatabase string URI or sqlite3 DBAPI2 connectionother DBAPI2 objects are not tested, please consider using SQLAlchemy\n",
      "  warnings.warn(\n"
     ]
    },
    {
     "name": "stdout",
     "output_type": "stream",
     "text": [
      "foi criado um df de tamanho 2291\n"
     ]
    },
    {
     "name": "stderr",
     "output_type": "stream",
     "text": [
      "C:\\ProgramData\\Anaconda3\\lib\\site-packages\\pandas\\io\\sql.py:761: UserWarning: pandas only support SQLAlchemy connectable(engine/connection) ordatabase string URI or sqlite3 DBAPI2 connectionother DBAPI2 objects are not tested, please consider using SQLAlchemy\n",
      "  warnings.warn(\n"
     ]
    },
    {
     "name": "stdout",
     "output_type": "stream",
     "text": [
      "foi criado um df de tamanho 2357\n"
     ]
    },
    {
     "name": "stderr",
     "output_type": "stream",
     "text": [
      "C:\\ProgramData\\Anaconda3\\lib\\site-packages\\pandas\\io\\sql.py:761: UserWarning: pandas only support SQLAlchemy connectable(engine/connection) ordatabase string URI or sqlite3 DBAPI2 connectionother DBAPI2 objects are not tested, please consider using SQLAlchemy\n",
      "  warnings.warn(\n"
     ]
    },
    {
     "name": "stdout",
     "output_type": "stream",
     "text": [
      "foi criado um df de tamanho 2422\n"
     ]
    },
    {
     "name": "stderr",
     "output_type": "stream",
     "text": [
      "C:\\ProgramData\\Anaconda3\\lib\\site-packages\\pandas\\io\\sql.py:761: UserWarning: pandas only support SQLAlchemy connectable(engine/connection) ordatabase string URI or sqlite3 DBAPI2 connectionother DBAPI2 objects are not tested, please consider using SQLAlchemy\n",
      "  warnings.warn(\n"
     ]
    },
    {
     "name": "stdout",
     "output_type": "stream",
     "text": [
      "foi criado um df de tamanho 2480\n"
     ]
    },
    {
     "name": "stderr",
     "output_type": "stream",
     "text": [
      "C:\\ProgramData\\Anaconda3\\lib\\site-packages\\pandas\\io\\sql.py:761: UserWarning: pandas only support SQLAlchemy connectable(engine/connection) ordatabase string URI or sqlite3 DBAPI2 connectionother DBAPI2 objects are not tested, please consider using SQLAlchemy\n",
      "  warnings.warn(\n"
     ]
    },
    {
     "name": "stdout",
     "output_type": "stream",
     "text": [
      "foi criado um df de tamanho 2480\n"
     ]
    },
    {
     "name": "stderr",
     "output_type": "stream",
     "text": [
      "C:\\ProgramData\\Anaconda3\\lib\\site-packages\\pandas\\io\\sql.py:761: UserWarning: pandas only support SQLAlchemy connectable(engine/connection) ordatabase string URI or sqlite3 DBAPI2 connectionother DBAPI2 objects are not tested, please consider using SQLAlchemy\n",
      "  warnings.warn(\n"
     ]
    },
    {
     "name": "stdout",
     "output_type": "stream",
     "text": [
      "foi criado um df de tamanho 2486\n"
     ]
    },
    {
     "name": "stderr",
     "output_type": "stream",
     "text": [
      "C:\\ProgramData\\Anaconda3\\lib\\site-packages\\pandas\\io\\sql.py:761: UserWarning: pandas only support SQLAlchemy connectable(engine/connection) ordatabase string URI or sqlite3 DBAPI2 connectionother DBAPI2 objects are not tested, please consider using SQLAlchemy\n",
      "  warnings.warn(\n"
     ]
    },
    {
     "name": "stdout",
     "output_type": "stream",
     "text": [
      "foi criado um df de tamanho 2494\n"
     ]
    },
    {
     "name": "stderr",
     "output_type": "stream",
     "text": [
      "C:\\ProgramData\\Anaconda3\\lib\\site-packages\\pandas\\io\\sql.py:761: UserWarning: pandas only support SQLAlchemy connectable(engine/connection) ordatabase string URI or sqlite3 DBAPI2 connectionother DBAPI2 objects are not tested, please consider using SQLAlchemy\n",
      "  warnings.warn(\n"
     ]
    },
    {
     "name": "stdout",
     "output_type": "stream",
     "text": [
      "foi criado um df de tamanho 2502\n"
     ]
    },
    {
     "name": "stderr",
     "output_type": "stream",
     "text": [
      "C:\\ProgramData\\Anaconda3\\lib\\site-packages\\pandas\\io\\sql.py:761: UserWarning: pandas only support SQLAlchemy connectable(engine/connection) ordatabase string URI or sqlite3 DBAPI2 connectionother DBAPI2 objects are not tested, please consider using SQLAlchemy\n",
      "  warnings.warn(\n"
     ]
    },
    {
     "name": "stdout",
     "output_type": "stream",
     "text": [
      "foi criado um df de tamanho 2513\n"
     ]
    },
    {
     "name": "stderr",
     "output_type": "stream",
     "text": [
      "C:\\ProgramData\\Anaconda3\\lib\\site-packages\\pandas\\io\\sql.py:761: UserWarning: pandas only support SQLAlchemy connectable(engine/connection) ordatabase string URI or sqlite3 DBAPI2 connectionother DBAPI2 objects are not tested, please consider using SQLAlchemy\n",
      "  warnings.warn(\n"
     ]
    },
    {
     "name": "stdout",
     "output_type": "stream",
     "text": [
      "foi criado um df de tamanho 2525\n"
     ]
    },
    {
     "name": "stderr",
     "output_type": "stream",
     "text": [
      "C:\\ProgramData\\Anaconda3\\lib\\site-packages\\pandas\\io\\sql.py:761: UserWarning: pandas only support SQLAlchemy connectable(engine/connection) ordatabase string URI or sqlite3 DBAPI2 connectionother DBAPI2 objects are not tested, please consider using SQLAlchemy\n",
      "  warnings.warn(\n"
     ]
    },
    {
     "name": "stdout",
     "output_type": "stream",
     "text": [
      "foi criado um df de tamanho 2542\n"
     ]
    },
    {
     "name": "stderr",
     "output_type": "stream",
     "text": [
      "C:\\ProgramData\\Anaconda3\\lib\\site-packages\\pandas\\io\\sql.py:761: UserWarning: pandas only support SQLAlchemy connectable(engine/connection) ordatabase string URI or sqlite3 DBAPI2 connectionother DBAPI2 objects are not tested, please consider using SQLAlchemy\n",
      "  warnings.warn(\n"
     ]
    },
    {
     "name": "stdout",
     "output_type": "stream",
     "text": [
      "foi criado um df de tamanho 2561\n"
     ]
    },
    {
     "name": "stderr",
     "output_type": "stream",
     "text": [
      "C:\\ProgramData\\Anaconda3\\lib\\site-packages\\pandas\\io\\sql.py:761: UserWarning: pandas only support SQLAlchemy connectable(engine/connection) ordatabase string URI or sqlite3 DBAPI2 connectionother DBAPI2 objects are not tested, please consider using SQLAlchemy\n",
      "  warnings.warn(\n"
     ]
    },
    {
     "name": "stdout",
     "output_type": "stream",
     "text": [
      "foi criado um df de tamanho 2580\n"
     ]
    },
    {
     "name": "stderr",
     "output_type": "stream",
     "text": [
      "C:\\ProgramData\\Anaconda3\\lib\\site-packages\\pandas\\io\\sql.py:761: UserWarning: pandas only support SQLAlchemy connectable(engine/connection) ordatabase string URI or sqlite3 DBAPI2 connectionother DBAPI2 objects are not tested, please consider using SQLAlchemy\n",
      "  warnings.warn(\n"
     ]
    },
    {
     "name": "stdout",
     "output_type": "stream",
     "text": [
      "foi criado um df de tamanho 2598\n"
     ]
    },
    {
     "name": "stderr",
     "output_type": "stream",
     "text": [
      "C:\\ProgramData\\Anaconda3\\lib\\site-packages\\pandas\\io\\sql.py:761: UserWarning: pandas only support SQLAlchemy connectable(engine/connection) ordatabase string URI or sqlite3 DBAPI2 connectionother DBAPI2 objects are not tested, please consider using SQLAlchemy\n",
      "  warnings.warn(\n"
     ]
    },
    {
     "name": "stdout",
     "output_type": "stream",
     "text": [
      "foi criado um df de tamanho 2617\n"
     ]
    },
    {
     "name": "stderr",
     "output_type": "stream",
     "text": [
      "C:\\ProgramData\\Anaconda3\\lib\\site-packages\\pandas\\io\\sql.py:761: UserWarning: pandas only support SQLAlchemy connectable(engine/connection) ordatabase string URI or sqlite3 DBAPI2 connectionother DBAPI2 objects are not tested, please consider using SQLAlchemy\n",
      "  warnings.warn(\n"
     ]
    },
    {
     "name": "stdout",
     "output_type": "stream",
     "text": [
      "foi criado um df de tamanho 2635\n"
     ]
    },
    {
     "name": "stderr",
     "output_type": "stream",
     "text": [
      "C:\\ProgramData\\Anaconda3\\lib\\site-packages\\pandas\\io\\sql.py:761: UserWarning: pandas only support SQLAlchemy connectable(engine/connection) ordatabase string URI or sqlite3 DBAPI2 connectionother DBAPI2 objects are not tested, please consider using SQLAlchemy\n",
      "  warnings.warn(\n"
     ]
    },
    {
     "name": "stdout",
     "output_type": "stream",
     "text": [
      "foi criado um df de tamanho 2654\n"
     ]
    },
    {
     "name": "stderr",
     "output_type": "stream",
     "text": [
      "C:\\ProgramData\\Anaconda3\\lib\\site-packages\\pandas\\io\\sql.py:761: UserWarning: pandas only support SQLAlchemy connectable(engine/connection) ordatabase string URI or sqlite3 DBAPI2 connectionother DBAPI2 objects are not tested, please consider using SQLAlchemy\n",
      "  warnings.warn(\n"
     ]
    },
    {
     "name": "stdout",
     "output_type": "stream",
     "text": [
      "foi criado um df de tamanho 2666\n"
     ]
    },
    {
     "name": "stderr",
     "output_type": "stream",
     "text": [
      "C:\\ProgramData\\Anaconda3\\lib\\site-packages\\pandas\\io\\sql.py:761: UserWarning: pandas only support SQLAlchemy connectable(engine/connection) ordatabase string URI or sqlite3 DBAPI2 connectionother DBAPI2 objects are not tested, please consider using SQLAlchemy\n",
      "  warnings.warn(\n"
     ]
    },
    {
     "name": "stdout",
     "output_type": "stream",
     "text": [
      "foi criado um df de tamanho 2681\n"
     ]
    },
    {
     "name": "stderr",
     "output_type": "stream",
     "text": [
      "C:\\ProgramData\\Anaconda3\\lib\\site-packages\\pandas\\io\\sql.py:761: UserWarning: pandas only support SQLAlchemy connectable(engine/connection) ordatabase string URI or sqlite3 DBAPI2 connectionother DBAPI2 objects are not tested, please consider using SQLAlchemy\n",
      "  warnings.warn(\n"
     ]
    },
    {
     "name": "stdout",
     "output_type": "stream",
     "text": [
      "foi criado um df de tamanho 2694\n"
     ]
    },
    {
     "name": "stderr",
     "output_type": "stream",
     "text": [
      "C:\\ProgramData\\Anaconda3\\lib\\site-packages\\pandas\\io\\sql.py:761: UserWarning: pandas only support SQLAlchemy connectable(engine/connection) ordatabase string URI or sqlite3 DBAPI2 connectionother DBAPI2 objects are not tested, please consider using SQLAlchemy\n",
      "  warnings.warn(\n"
     ]
    },
    {
     "name": "stdout",
     "output_type": "stream",
     "text": [
      "foi criado um df de tamanho 2707\n"
     ]
    },
    {
     "name": "stderr",
     "output_type": "stream",
     "text": [
      "C:\\ProgramData\\Anaconda3\\lib\\site-packages\\pandas\\io\\sql.py:761: UserWarning: pandas only support SQLAlchemy connectable(engine/connection) ordatabase string URI or sqlite3 DBAPI2 connectionother DBAPI2 objects are not tested, please consider using SQLAlchemy\n",
      "  warnings.warn(\n"
     ]
    },
    {
     "name": "stdout",
     "output_type": "stream",
     "text": [
      "foi criado um df de tamanho 2764\n"
     ]
    },
    {
     "name": "stderr",
     "output_type": "stream",
     "text": [
      "C:\\ProgramData\\Anaconda3\\lib\\site-packages\\pandas\\io\\sql.py:761: UserWarning: pandas only support SQLAlchemy connectable(engine/connection) ordatabase string URI or sqlite3 DBAPI2 connectionother DBAPI2 objects are not tested, please consider using SQLAlchemy\n",
      "  warnings.warn(\n"
     ]
    },
    {
     "name": "stdout",
     "output_type": "stream",
     "text": [
      "foi criado um df de tamanho 2848\n"
     ]
    },
    {
     "name": "stderr",
     "output_type": "stream",
     "text": [
      "C:\\ProgramData\\Anaconda3\\lib\\site-packages\\pandas\\io\\sql.py:761: UserWarning: pandas only support SQLAlchemy connectable(engine/connection) ordatabase string URI or sqlite3 DBAPI2 connectionother DBAPI2 objects are not tested, please consider using SQLAlchemy\n",
      "  warnings.warn(\n"
     ]
    },
    {
     "name": "stdout",
     "output_type": "stream",
     "text": [
      "foi criado um df de tamanho 2969\n"
     ]
    },
    {
     "name": "stderr",
     "output_type": "stream",
     "text": [
      "C:\\ProgramData\\Anaconda3\\lib\\site-packages\\pandas\\io\\sql.py:761: UserWarning: pandas only support SQLAlchemy connectable(engine/connection) ordatabase string URI or sqlite3 DBAPI2 connectionother DBAPI2 objects are not tested, please consider using SQLAlchemy\n",
      "  warnings.warn(\n"
     ]
    },
    {
     "name": "stdout",
     "output_type": "stream",
     "text": [
      "foi criado um df de tamanho 3090\n"
     ]
    },
    {
     "name": "stderr",
     "output_type": "stream",
     "text": [
      "C:\\ProgramData\\Anaconda3\\lib\\site-packages\\pandas\\io\\sql.py:761: UserWarning: pandas only support SQLAlchemy connectable(engine/connection) ordatabase string URI or sqlite3 DBAPI2 connectionother DBAPI2 objects are not tested, please consider using SQLAlchemy\n",
      "  warnings.warn(\n"
     ]
    },
    {
     "name": "stdout",
     "output_type": "stream",
     "text": [
      "foi criado um df de tamanho 3214\n"
     ]
    },
    {
     "name": "stderr",
     "output_type": "stream",
     "text": [
      "C:\\ProgramData\\Anaconda3\\lib\\site-packages\\pandas\\io\\sql.py:761: UserWarning: pandas only support SQLAlchemy connectable(engine/connection) ordatabase string URI or sqlite3 DBAPI2 connectionother DBAPI2 objects are not tested, please consider using SQLAlchemy\n",
      "  warnings.warn(\n"
     ]
    },
    {
     "name": "stdout",
     "output_type": "stream",
     "text": [
      "foi criado um df de tamanho 3355\n"
     ]
    },
    {
     "name": "stderr",
     "output_type": "stream",
     "text": [
      "C:\\ProgramData\\Anaconda3\\lib\\site-packages\\pandas\\io\\sql.py:761: UserWarning: pandas only support SQLAlchemy connectable(engine/connection) ordatabase string URI or sqlite3 DBAPI2 connectionother DBAPI2 objects are not tested, please consider using SQLAlchemy\n",
      "  warnings.warn(\n"
     ]
    },
    {
     "name": "stdout",
     "output_type": "stream",
     "text": [
      "foi criado um df de tamanho 3488\n"
     ]
    },
    {
     "name": "stderr",
     "output_type": "stream",
     "text": [
      "C:\\ProgramData\\Anaconda3\\lib\\site-packages\\pandas\\io\\sql.py:761: UserWarning: pandas only support SQLAlchemy connectable(engine/connection) ordatabase string URI or sqlite3 DBAPI2 connectionother DBAPI2 objects are not tested, please consider using SQLAlchemy\n",
      "  warnings.warn(\n"
     ]
    },
    {
     "name": "stdout",
     "output_type": "stream",
     "text": [
      "foi criado um df de tamanho 3633\n"
     ]
    },
    {
     "name": "stderr",
     "output_type": "stream",
     "text": [
      "C:\\ProgramData\\Anaconda3\\lib\\site-packages\\pandas\\io\\sql.py:761: UserWarning: pandas only support SQLAlchemy connectable(engine/connection) ordatabase string URI or sqlite3 DBAPI2 connectionother DBAPI2 objects are not tested, please consider using SQLAlchemy\n",
      "  warnings.warn(\n"
     ]
    },
    {
     "name": "stdout",
     "output_type": "stream",
     "text": [
      "foi criado um df de tamanho 3762\n"
     ]
    },
    {
     "name": "stderr",
     "output_type": "stream",
     "text": [
      "C:\\ProgramData\\Anaconda3\\lib\\site-packages\\pandas\\io\\sql.py:761: UserWarning: pandas only support SQLAlchemy connectable(engine/connection) ordatabase string URI or sqlite3 DBAPI2 connectionother DBAPI2 objects are not tested, please consider using SQLAlchemy\n",
      "  warnings.warn(\n"
     ]
    },
    {
     "name": "stdout",
     "output_type": "stream",
     "text": [
      "foi criado um df de tamanho 3911\n"
     ]
    },
    {
     "name": "stderr",
     "output_type": "stream",
     "text": [
      "C:\\ProgramData\\Anaconda3\\lib\\site-packages\\pandas\\io\\sql.py:761: UserWarning: pandas only support SQLAlchemy connectable(engine/connection) ordatabase string URI or sqlite3 DBAPI2 connectionother DBAPI2 objects are not tested, please consider using SQLAlchemy\n",
      "  warnings.warn(\n"
     ]
    },
    {
     "name": "stdout",
     "output_type": "stream",
     "text": [
      "foi criado um df de tamanho 4052\n"
     ]
    },
    {
     "name": "stderr",
     "output_type": "stream",
     "text": [
      "C:\\ProgramData\\Anaconda3\\lib\\site-packages\\pandas\\io\\sql.py:761: UserWarning: pandas only support SQLAlchemy connectable(engine/connection) ordatabase string URI or sqlite3 DBAPI2 connectionother DBAPI2 objects are not tested, please consider using SQLAlchemy\n",
      "  warnings.warn(\n"
     ]
    },
    {
     "name": "stdout",
     "output_type": "stream",
     "text": [
      "foi criado um df de tamanho 4183\n"
     ]
    },
    {
     "name": "stderr",
     "output_type": "stream",
     "text": [
      "C:\\ProgramData\\Anaconda3\\lib\\site-packages\\pandas\\io\\sql.py:761: UserWarning: pandas only support SQLAlchemy connectable(engine/connection) ordatabase string URI or sqlite3 DBAPI2 connectionother DBAPI2 objects are not tested, please consider using SQLAlchemy\n",
      "  warnings.warn(\n"
     ]
    },
    {
     "name": "stdout",
     "output_type": "stream",
     "text": [
      "foi criado um df de tamanho 4282\n"
     ]
    },
    {
     "name": "stderr",
     "output_type": "stream",
     "text": [
      "C:\\ProgramData\\Anaconda3\\lib\\site-packages\\pandas\\io\\sql.py:761: UserWarning: pandas only support SQLAlchemy connectable(engine/connection) ordatabase string URI or sqlite3 DBAPI2 connectionother DBAPI2 objects are not tested, please consider using SQLAlchemy\n",
      "  warnings.warn(\n"
     ]
    },
    {
     "name": "stdout",
     "output_type": "stream",
     "text": [
      "foi criado um df de tamanho 4391\n"
     ]
    },
    {
     "name": "stderr",
     "output_type": "stream",
     "text": [
      "C:\\ProgramData\\Anaconda3\\lib\\site-packages\\pandas\\io\\sql.py:761: UserWarning: pandas only support SQLAlchemy connectable(engine/connection) ordatabase string URI or sqlite3 DBAPI2 connectionother DBAPI2 objects are not tested, please consider using SQLAlchemy\n",
      "  warnings.warn(\n"
     ]
    },
    {
     "name": "stdout",
     "output_type": "stream",
     "text": [
      "foi criado um df de tamanho 4488\n"
     ]
    },
    {
     "name": "stderr",
     "output_type": "stream",
     "text": [
      "C:\\ProgramData\\Anaconda3\\lib\\site-packages\\pandas\\io\\sql.py:761: UserWarning: pandas only support SQLAlchemy connectable(engine/connection) ordatabase string URI or sqlite3 DBAPI2 connectionother DBAPI2 objects are not tested, please consider using SQLAlchemy\n",
      "  warnings.warn(\n"
     ]
    },
    {
     "name": "stdout",
     "output_type": "stream",
     "text": [
      "foi criado um df de tamanho 4488\n"
     ]
    },
    {
     "name": "stderr",
     "output_type": "stream",
     "text": [
      "C:\\ProgramData\\Anaconda3\\lib\\site-packages\\pandas\\io\\sql.py:761: UserWarning: pandas only support SQLAlchemy connectable(engine/connection) ordatabase string URI or sqlite3 DBAPI2 connectionother DBAPI2 objects are not tested, please consider using SQLAlchemy\n",
      "  warnings.warn(\n"
     ]
    },
    {
     "name": "stdout",
     "output_type": "stream",
     "text": [
      "foi criado um df de tamanho 4506\n"
     ]
    },
    {
     "name": "stderr",
     "output_type": "stream",
     "text": [
      "C:\\ProgramData\\Anaconda3\\lib\\site-packages\\pandas\\io\\sql.py:761: UserWarning: pandas only support SQLAlchemy connectable(engine/connection) ordatabase string URI or sqlite3 DBAPI2 connectionother DBAPI2 objects are not tested, please consider using SQLAlchemy\n",
      "  warnings.warn(\n"
     ]
    },
    {
     "name": "stdout",
     "output_type": "stream",
     "text": [
      "foi criado um df de tamanho 4528\n"
     ]
    },
    {
     "name": "stderr",
     "output_type": "stream",
     "text": [
      "C:\\ProgramData\\Anaconda3\\lib\\site-packages\\pandas\\io\\sql.py:761: UserWarning: pandas only support SQLAlchemy connectable(engine/connection) ordatabase string URI or sqlite3 DBAPI2 connectionother DBAPI2 objects are not tested, please consider using SQLAlchemy\n",
      "  warnings.warn(\n"
     ]
    },
    {
     "name": "stdout",
     "output_type": "stream",
     "text": [
      "foi criado um df de tamanho 4547\n"
     ]
    },
    {
     "name": "stderr",
     "output_type": "stream",
     "text": [
      "C:\\ProgramData\\Anaconda3\\lib\\site-packages\\pandas\\io\\sql.py:761: UserWarning: pandas only support SQLAlchemy connectable(engine/connection) ordatabase string URI or sqlite3 DBAPI2 connectionother DBAPI2 objects are not tested, please consider using SQLAlchemy\n",
      "  warnings.warn(\n"
     ]
    },
    {
     "name": "stdout",
     "output_type": "stream",
     "text": [
      "foi criado um df de tamanho 4568\n"
     ]
    },
    {
     "name": "stderr",
     "output_type": "stream",
     "text": [
      "C:\\ProgramData\\Anaconda3\\lib\\site-packages\\pandas\\io\\sql.py:761: UserWarning: pandas only support SQLAlchemy connectable(engine/connection) ordatabase string URI or sqlite3 DBAPI2 connectionother DBAPI2 objects are not tested, please consider using SQLAlchemy\n",
      "  warnings.warn(\n"
     ]
    },
    {
     "name": "stdout",
     "output_type": "stream",
     "text": [
      "foi criado um df de tamanho 4593\n"
     ]
    },
    {
     "name": "stderr",
     "output_type": "stream",
     "text": [
      "C:\\ProgramData\\Anaconda3\\lib\\site-packages\\pandas\\io\\sql.py:761: UserWarning: pandas only support SQLAlchemy connectable(engine/connection) ordatabase string URI or sqlite3 DBAPI2 connectionother DBAPI2 objects are not tested, please consider using SQLAlchemy\n",
      "  warnings.warn(\n"
     ]
    },
    {
     "name": "stdout",
     "output_type": "stream",
     "text": [
      "foi criado um df de tamanho 4620\n"
     ]
    },
    {
     "name": "stderr",
     "output_type": "stream",
     "text": [
      "C:\\ProgramData\\Anaconda3\\lib\\site-packages\\pandas\\io\\sql.py:761: UserWarning: pandas only support SQLAlchemy connectable(engine/connection) ordatabase string URI or sqlite3 DBAPI2 connectionother DBAPI2 objects are not tested, please consider using SQLAlchemy\n",
      "  warnings.warn(\n"
     ]
    },
    {
     "name": "stdout",
     "output_type": "stream",
     "text": [
      "foi criado um df de tamanho 4645\n"
     ]
    },
    {
     "name": "stderr",
     "output_type": "stream",
     "text": [
      "C:\\ProgramData\\Anaconda3\\lib\\site-packages\\pandas\\io\\sql.py:761: UserWarning: pandas only support SQLAlchemy connectable(engine/connection) ordatabase string URI or sqlite3 DBAPI2 connectionother DBAPI2 objects are not tested, please consider using SQLAlchemy\n",
      "  warnings.warn(\n"
     ]
    },
    {
     "name": "stdout",
     "output_type": "stream",
     "text": [
      "foi criado um df de tamanho 4672\n"
     ]
    },
    {
     "name": "stderr",
     "output_type": "stream",
     "text": [
      "C:\\ProgramData\\Anaconda3\\lib\\site-packages\\pandas\\io\\sql.py:761: UserWarning: pandas only support SQLAlchemy connectable(engine/connection) ordatabase string URI or sqlite3 DBAPI2 connectionother DBAPI2 objects are not tested, please consider using SQLAlchemy\n",
      "  warnings.warn(\n"
     ]
    },
    {
     "name": "stdout",
     "output_type": "stream",
     "text": [
      "foi criado um df de tamanho 4695\n"
     ]
    },
    {
     "name": "stderr",
     "output_type": "stream",
     "text": [
      "C:\\ProgramData\\Anaconda3\\lib\\site-packages\\pandas\\io\\sql.py:761: UserWarning: pandas only support SQLAlchemy connectable(engine/connection) ordatabase string URI or sqlite3 DBAPI2 connectionother DBAPI2 objects are not tested, please consider using SQLAlchemy\n",
      "  warnings.warn(\n"
     ]
    },
    {
     "name": "stdout",
     "output_type": "stream",
     "text": [
      "foi criado um df de tamanho 4719\n"
     ]
    },
    {
     "name": "stderr",
     "output_type": "stream",
     "text": [
      "C:\\ProgramData\\Anaconda3\\lib\\site-packages\\pandas\\io\\sql.py:761: UserWarning: pandas only support SQLAlchemy connectable(engine/connection) ordatabase string URI or sqlite3 DBAPI2 connectionother DBAPI2 objects are not tested, please consider using SQLAlchemy\n",
      "  warnings.warn(\n"
     ]
    },
    {
     "name": "stdout",
     "output_type": "stream",
     "text": [
      "foi criado um df de tamanho 4742\n"
     ]
    },
    {
     "name": "stderr",
     "output_type": "stream",
     "text": [
      "C:\\ProgramData\\Anaconda3\\lib\\site-packages\\pandas\\io\\sql.py:761: UserWarning: pandas only support SQLAlchemy connectable(engine/connection) ordatabase string URI or sqlite3 DBAPI2 connectionother DBAPI2 objects are not tested, please consider using SQLAlchemy\n",
      "  warnings.warn(\n"
     ]
    },
    {
     "name": "stdout",
     "output_type": "stream",
     "text": [
      "foi criado um df de tamanho 4765\n"
     ]
    },
    {
     "name": "stderr",
     "output_type": "stream",
     "text": [
      "C:\\ProgramData\\Anaconda3\\lib\\site-packages\\pandas\\io\\sql.py:761: UserWarning: pandas only support SQLAlchemy connectable(engine/connection) ordatabase string URI or sqlite3 DBAPI2 connectionother DBAPI2 objects are not tested, please consider using SQLAlchemy\n",
      "  warnings.warn(\n"
     ]
    },
    {
     "name": "stdout",
     "output_type": "stream",
     "text": [
      "foi criado um df de tamanho 4790\n"
     ]
    },
    {
     "name": "stderr",
     "output_type": "stream",
     "text": [
      "C:\\ProgramData\\Anaconda3\\lib\\site-packages\\pandas\\io\\sql.py:761: UserWarning: pandas only support SQLAlchemy connectable(engine/connection) ordatabase string URI or sqlite3 DBAPI2 connectionother DBAPI2 objects are not tested, please consider using SQLAlchemy\n",
      "  warnings.warn(\n"
     ]
    },
    {
     "name": "stdout",
     "output_type": "stream",
     "text": [
      "foi criado um df de tamanho 4821\n"
     ]
    },
    {
     "name": "stderr",
     "output_type": "stream",
     "text": [
      "C:\\ProgramData\\Anaconda3\\lib\\site-packages\\pandas\\io\\sql.py:761: UserWarning: pandas only support SQLAlchemy connectable(engine/connection) ordatabase string URI or sqlite3 DBAPI2 connectionother DBAPI2 objects are not tested, please consider using SQLAlchemy\n",
      "  warnings.warn(\n"
     ]
    },
    {
     "name": "stdout",
     "output_type": "stream",
     "text": [
      "foi criado um df de tamanho 4851\n"
     ]
    },
    {
     "name": "stderr",
     "output_type": "stream",
     "text": [
      "C:\\ProgramData\\Anaconda3\\lib\\site-packages\\pandas\\io\\sql.py:761: UserWarning: pandas only support SQLAlchemy connectable(engine/connection) ordatabase string URI or sqlite3 DBAPI2 connectionother DBAPI2 objects are not tested, please consider using SQLAlchemy\n",
      "  warnings.warn(\n"
     ]
    },
    {
     "name": "stdout",
     "output_type": "stream",
     "text": [
      "foi criado um df de tamanho 4864\n"
     ]
    },
    {
     "name": "stderr",
     "output_type": "stream",
     "text": [
      "C:\\ProgramData\\Anaconda3\\lib\\site-packages\\pandas\\io\\sql.py:761: UserWarning: pandas only support SQLAlchemy connectable(engine/connection) ordatabase string URI or sqlite3 DBAPI2 connectionother DBAPI2 objects are not tested, please consider using SQLAlchemy\n",
      "  warnings.warn(\n"
     ]
    },
    {
     "name": "stdout",
     "output_type": "stream",
     "text": [
      "foi criado um df de tamanho 4985\n"
     ]
    },
    {
     "name": "stderr",
     "output_type": "stream",
     "text": [
      "C:\\ProgramData\\Anaconda3\\lib\\site-packages\\pandas\\io\\sql.py:761: UserWarning: pandas only support SQLAlchemy connectable(engine/connection) ordatabase string URI or sqlite3 DBAPI2 connectionother DBAPI2 objects are not tested, please consider using SQLAlchemy\n",
      "  warnings.warn(\n"
     ]
    },
    {
     "name": "stdout",
     "output_type": "stream",
     "text": [
      "foi criado um df de tamanho 5119\n"
     ]
    },
    {
     "name": "stderr",
     "output_type": "stream",
     "text": [
      "C:\\ProgramData\\Anaconda3\\lib\\site-packages\\pandas\\io\\sql.py:761: UserWarning: pandas only support SQLAlchemy connectable(engine/connection) ordatabase string URI or sqlite3 DBAPI2 connectionother DBAPI2 objects are not tested, please consider using SQLAlchemy\n",
      "  warnings.warn(\n"
     ]
    },
    {
     "name": "stdout",
     "output_type": "stream",
     "text": [
      "foi criado um df de tamanho 5260\n"
     ]
    },
    {
     "name": "stderr",
     "output_type": "stream",
     "text": [
      "C:\\ProgramData\\Anaconda3\\lib\\site-packages\\pandas\\io\\sql.py:761: UserWarning: pandas only support SQLAlchemy connectable(engine/connection) ordatabase string URI or sqlite3 DBAPI2 connectionother DBAPI2 objects are not tested, please consider using SQLAlchemy\n",
      "  warnings.warn(\n"
     ]
    },
    {
     "name": "stdout",
     "output_type": "stream",
     "text": [
      "foi criado um df de tamanho 5412\n"
     ]
    },
    {
     "name": "stderr",
     "output_type": "stream",
     "text": [
      "C:\\ProgramData\\Anaconda3\\lib\\site-packages\\pandas\\io\\sql.py:761: UserWarning: pandas only support SQLAlchemy connectable(engine/connection) ordatabase string URI or sqlite3 DBAPI2 connectionother DBAPI2 objects are not tested, please consider using SQLAlchemy\n",
      "  warnings.warn(\n"
     ]
    },
    {
     "name": "stdout",
     "output_type": "stream",
     "text": [
      "foi criado um df de tamanho 5584\n"
     ]
    },
    {
     "name": "stderr",
     "output_type": "stream",
     "text": [
      "C:\\ProgramData\\Anaconda3\\lib\\site-packages\\pandas\\io\\sql.py:761: UserWarning: pandas only support SQLAlchemy connectable(engine/connection) ordatabase string URI or sqlite3 DBAPI2 connectionother DBAPI2 objects are not tested, please consider using SQLAlchemy\n",
      "  warnings.warn(\n"
     ]
    },
    {
     "name": "stdout",
     "output_type": "stream",
     "text": [
      "foi criado um df de tamanho 5762\n"
     ]
    },
    {
     "name": "stderr",
     "output_type": "stream",
     "text": [
      "C:\\ProgramData\\Anaconda3\\lib\\site-packages\\pandas\\io\\sql.py:761: UserWarning: pandas only support SQLAlchemy connectable(engine/connection) ordatabase string URI or sqlite3 DBAPI2 connectionother DBAPI2 objects are not tested, please consider using SQLAlchemy\n",
      "  warnings.warn(\n"
     ]
    },
    {
     "name": "stdout",
     "output_type": "stream",
     "text": [
      "foi criado um df de tamanho 5922\n"
     ]
    },
    {
     "name": "stderr",
     "output_type": "stream",
     "text": [
      "C:\\ProgramData\\Anaconda3\\lib\\site-packages\\pandas\\io\\sql.py:761: UserWarning: pandas only support SQLAlchemy connectable(engine/connection) ordatabase string URI or sqlite3 DBAPI2 connectionother DBAPI2 objects are not tested, please consider using SQLAlchemy\n",
      "  warnings.warn(\n"
     ]
    },
    {
     "name": "stdout",
     "output_type": "stream",
     "text": [
      "foi criado um df de tamanho 6075\n"
     ]
    },
    {
     "name": "stderr",
     "output_type": "stream",
     "text": [
      "C:\\ProgramData\\Anaconda3\\lib\\site-packages\\pandas\\io\\sql.py:761: UserWarning: pandas only support SQLAlchemy connectable(engine/connection) ordatabase string URI or sqlite3 DBAPI2 connectionother DBAPI2 objects are not tested, please consider using SQLAlchemy\n",
      "  warnings.warn(\n"
     ]
    },
    {
     "name": "stdout",
     "output_type": "stream",
     "text": [
      "foi criado um df de tamanho 6220\n"
     ]
    },
    {
     "name": "stderr",
     "output_type": "stream",
     "text": [
      "C:\\ProgramData\\Anaconda3\\lib\\site-packages\\pandas\\io\\sql.py:761: UserWarning: pandas only support SQLAlchemy connectable(engine/connection) ordatabase string URI or sqlite3 DBAPI2 connectionother DBAPI2 objects are not tested, please consider using SQLAlchemy\n",
      "  warnings.warn(\n"
     ]
    },
    {
     "name": "stdout",
     "output_type": "stream",
     "text": [
      "foi criado um df de tamanho 6367\n"
     ]
    },
    {
     "name": "stderr",
     "output_type": "stream",
     "text": [
      "C:\\ProgramData\\Anaconda3\\lib\\site-packages\\pandas\\io\\sql.py:761: UserWarning: pandas only support SQLAlchemy connectable(engine/connection) ordatabase string URI or sqlite3 DBAPI2 connectionother DBAPI2 objects are not tested, please consider using SQLAlchemy\n",
      "  warnings.warn(\n"
     ]
    },
    {
     "name": "stdout",
     "output_type": "stream",
     "text": [
      "foi criado um df de tamanho 6522\n"
     ]
    },
    {
     "name": "stderr",
     "output_type": "stream",
     "text": [
      "C:\\ProgramData\\Anaconda3\\lib\\site-packages\\pandas\\io\\sql.py:761: UserWarning: pandas only support SQLAlchemy connectable(engine/connection) ordatabase string URI or sqlite3 DBAPI2 connectionother DBAPI2 objects are not tested, please consider using SQLAlchemy\n",
      "  warnings.warn(\n"
     ]
    },
    {
     "name": "stdout",
     "output_type": "stream",
     "text": [
      "foi criado um df de tamanho 6679\n"
     ]
    },
    {
     "name": "stderr",
     "output_type": "stream",
     "text": [
      "C:\\ProgramData\\Anaconda3\\lib\\site-packages\\pandas\\io\\sql.py:761: UserWarning: pandas only support SQLAlchemy connectable(engine/connection) ordatabase string URI or sqlite3 DBAPI2 connectionother DBAPI2 objects are not tested, please consider using SQLAlchemy\n",
      "  warnings.warn(\n"
     ]
    },
    {
     "name": "stdout",
     "output_type": "stream",
     "text": [
      "foi criado um df de tamanho 6796\n"
     ]
    },
    {
     "name": "stderr",
     "output_type": "stream",
     "text": [
      "C:\\ProgramData\\Anaconda3\\lib\\site-packages\\pandas\\io\\sql.py:761: UserWarning: pandas only support SQLAlchemy connectable(engine/connection) ordatabase string URI or sqlite3 DBAPI2 connectionother DBAPI2 objects are not tested, please consider using SQLAlchemy\n",
      "  warnings.warn(\n"
     ]
    },
    {
     "name": "stdout",
     "output_type": "stream",
     "text": [
      "foi criado um df de tamanho 6943\n"
     ]
    },
    {
     "name": "stderr",
     "output_type": "stream",
     "text": [
      "C:\\ProgramData\\Anaconda3\\lib\\site-packages\\pandas\\io\\sql.py:761: UserWarning: pandas only support SQLAlchemy connectable(engine/connection) ordatabase string URI or sqlite3 DBAPI2 connectionother DBAPI2 objects are not tested, please consider using SQLAlchemy\n",
      "  warnings.warn(\n"
     ]
    },
    {
     "name": "stdout",
     "output_type": "stream",
     "text": [
      "foi criado um df de tamanho 7061\n"
     ]
    },
    {
     "name": "stderr",
     "output_type": "stream",
     "text": [
      "C:\\ProgramData\\Anaconda3\\lib\\site-packages\\pandas\\io\\sql.py:761: UserWarning: pandas only support SQLAlchemy connectable(engine/connection) ordatabase string URI or sqlite3 DBAPI2 connectionother DBAPI2 objects are not tested, please consider using SQLAlchemy\n",
      "  warnings.warn(\n"
     ]
    },
    {
     "name": "stdout",
     "output_type": "stream",
     "text": [
      "foi criado um df de tamanho 7082\n"
     ]
    },
    {
     "name": "stderr",
     "output_type": "stream",
     "text": [
      "C:\\ProgramData\\Anaconda3\\lib\\site-packages\\pandas\\io\\sql.py:761: UserWarning: pandas only support SQLAlchemy connectable(engine/connection) ordatabase string URI or sqlite3 DBAPI2 connectionother DBAPI2 objects are not tested, please consider using SQLAlchemy\n",
      "  warnings.warn(\n"
     ]
    },
    {
     "name": "stdout",
     "output_type": "stream",
     "text": [
      "foi criado um df de tamanho 7179\n"
     ]
    },
    {
     "name": "stderr",
     "output_type": "stream",
     "text": [
      "C:\\ProgramData\\Anaconda3\\lib\\site-packages\\pandas\\io\\sql.py:761: UserWarning: pandas only support SQLAlchemy connectable(engine/connection) ordatabase string URI or sqlite3 DBAPI2 connectionother DBAPI2 objects are not tested, please consider using SQLAlchemy\n",
      "  warnings.warn(\n"
     ]
    },
    {
     "name": "stdout",
     "output_type": "stream",
     "text": [
      "foi criado um df de tamanho 7304\n"
     ]
    },
    {
     "name": "stderr",
     "output_type": "stream",
     "text": [
      "C:\\ProgramData\\Anaconda3\\lib\\site-packages\\pandas\\io\\sql.py:761: UserWarning: pandas only support SQLAlchemy connectable(engine/connection) ordatabase string URI or sqlite3 DBAPI2 connectionother DBAPI2 objects are not tested, please consider using SQLAlchemy\n",
      "  warnings.warn(\n"
     ]
    },
    {
     "name": "stdout",
     "output_type": "stream",
     "text": [
      "foi criado um df de tamanho 7429\n"
     ]
    },
    {
     "name": "stderr",
     "output_type": "stream",
     "text": [
      "C:\\ProgramData\\Anaconda3\\lib\\site-packages\\pandas\\io\\sql.py:761: UserWarning: pandas only support SQLAlchemy connectable(engine/connection) ordatabase string URI or sqlite3 DBAPI2 connectionother DBAPI2 objects are not tested, please consider using SQLAlchemy\n",
      "  warnings.warn(\n"
     ]
    },
    {
     "name": "stdout",
     "output_type": "stream",
     "text": [
      "foi criado um df de tamanho 7548\n"
     ]
    },
    {
     "name": "stderr",
     "output_type": "stream",
     "text": [
      "C:\\ProgramData\\Anaconda3\\lib\\site-packages\\pandas\\io\\sql.py:761: UserWarning: pandas only support SQLAlchemy connectable(engine/connection) ordatabase string URI or sqlite3 DBAPI2 connectionother DBAPI2 objects are not tested, please consider using SQLAlchemy\n",
      "  warnings.warn(\n"
     ]
    },
    {
     "name": "stdout",
     "output_type": "stream",
     "text": [
      "foi criado um df de tamanho 7711\n"
     ]
    },
    {
     "name": "stderr",
     "output_type": "stream",
     "text": [
      "C:\\ProgramData\\Anaconda3\\lib\\site-packages\\pandas\\io\\sql.py:761: UserWarning: pandas only support SQLAlchemy connectable(engine/connection) ordatabase string URI or sqlite3 DBAPI2 connectionother DBAPI2 objects are not tested, please consider using SQLAlchemy\n",
      "  warnings.warn(\n"
     ]
    },
    {
     "name": "stdout",
     "output_type": "stream",
     "text": [
      "foi criado um df de tamanho 7894\n"
     ]
    },
    {
     "name": "stderr",
     "output_type": "stream",
     "text": [
      "C:\\ProgramData\\Anaconda3\\lib\\site-packages\\pandas\\io\\sql.py:761: UserWarning: pandas only support SQLAlchemy connectable(engine/connection) ordatabase string URI or sqlite3 DBAPI2 connectionother DBAPI2 objects are not tested, please consider using SQLAlchemy\n",
      "  warnings.warn(\n"
     ]
    },
    {
     "name": "stdout",
     "output_type": "stream",
     "text": [
      "foi criado um df de tamanho 8079\n"
     ]
    },
    {
     "name": "stderr",
     "output_type": "stream",
     "text": [
      "C:\\ProgramData\\Anaconda3\\lib\\site-packages\\pandas\\io\\sql.py:761: UserWarning: pandas only support SQLAlchemy connectable(engine/connection) ordatabase string URI or sqlite3 DBAPI2 connectionother DBAPI2 objects are not tested, please consider using SQLAlchemy\n",
      "  warnings.warn(\n"
     ]
    },
    {
     "name": "stdout",
     "output_type": "stream",
     "text": [
      "foi criado um df de tamanho 8285\n"
     ]
    },
    {
     "name": "stderr",
     "output_type": "stream",
     "text": [
      "C:\\ProgramData\\Anaconda3\\lib\\site-packages\\pandas\\io\\sql.py:761: UserWarning: pandas only support SQLAlchemy connectable(engine/connection) ordatabase string URI or sqlite3 DBAPI2 connectionother DBAPI2 objects are not tested, please consider using SQLAlchemy\n",
      "  warnings.warn(\n"
     ]
    },
    {
     "name": "stdout",
     "output_type": "stream",
     "text": [
      "foi criado um df de tamanho 8463\n"
     ]
    },
    {
     "name": "stderr",
     "output_type": "stream",
     "text": [
      "C:\\ProgramData\\Anaconda3\\lib\\site-packages\\pandas\\io\\sql.py:761: UserWarning: pandas only support SQLAlchemy connectable(engine/connection) ordatabase string URI or sqlite3 DBAPI2 connectionother DBAPI2 objects are not tested, please consider using SQLAlchemy\n",
      "  warnings.warn(\n"
     ]
    },
    {
     "name": "stdout",
     "output_type": "stream",
     "text": [
      "foi criado um df de tamanho 8655\n"
     ]
    },
    {
     "name": "stderr",
     "output_type": "stream",
     "text": [
      "C:\\ProgramData\\Anaconda3\\lib\\site-packages\\pandas\\io\\sql.py:761: UserWarning: pandas only support SQLAlchemy connectable(engine/connection) ordatabase string URI or sqlite3 DBAPI2 connectionother DBAPI2 objects are not tested, please consider using SQLAlchemy\n",
      "  warnings.warn(\n"
     ]
    },
    {
     "name": "stdout",
     "output_type": "stream",
     "text": [
      "foi criado um df de tamanho 8828\n"
     ]
    },
    {
     "name": "stderr",
     "output_type": "stream",
     "text": [
      "C:\\ProgramData\\Anaconda3\\lib\\site-packages\\pandas\\io\\sql.py:761: UserWarning: pandas only support SQLAlchemy connectable(engine/connection) ordatabase string URI or sqlite3 DBAPI2 connectionother DBAPI2 objects are not tested, please consider using SQLAlchemy\n",
      "  warnings.warn(\n"
     ]
    },
    {
     "name": "stdout",
     "output_type": "stream",
     "text": [
      "foi criado um df de tamanho 9006\n"
     ]
    },
    {
     "name": "stderr",
     "output_type": "stream",
     "text": [
      "C:\\ProgramData\\Anaconda3\\lib\\site-packages\\pandas\\io\\sql.py:761: UserWarning: pandas only support SQLAlchemy connectable(engine/connection) ordatabase string URI or sqlite3 DBAPI2 connectionother DBAPI2 objects are not tested, please consider using SQLAlchemy\n",
      "  warnings.warn(\n"
     ]
    },
    {
     "name": "stdout",
     "output_type": "stream",
     "text": [
      "foi criado um df de tamanho 9150\n"
     ]
    },
    {
     "name": "stderr",
     "output_type": "stream",
     "text": [
      "C:\\ProgramData\\Anaconda3\\lib\\site-packages\\pandas\\io\\sql.py:761: UserWarning: pandas only support SQLAlchemy connectable(engine/connection) ordatabase string URI or sqlite3 DBAPI2 connectionother DBAPI2 objects are not tested, please consider using SQLAlchemy\n",
      "  warnings.warn(\n"
     ]
    },
    {
     "name": "stdout",
     "output_type": "stream",
     "text": [
      "foi criado um df de tamanho 9302\n"
     ]
    },
    {
     "name": "stderr",
     "output_type": "stream",
     "text": [
      "C:\\ProgramData\\Anaconda3\\lib\\site-packages\\pandas\\io\\sql.py:761: UserWarning: pandas only support SQLAlchemy connectable(engine/connection) ordatabase string URI or sqlite3 DBAPI2 connectionother DBAPI2 objects are not tested, please consider using SQLAlchemy\n",
      "  warnings.warn(\n"
     ]
    },
    {
     "name": "stdout",
     "output_type": "stream",
     "text": [
      "foi criado um df de tamanho 9471\n"
     ]
    },
    {
     "name": "stderr",
     "output_type": "stream",
     "text": [
      "C:\\ProgramData\\Anaconda3\\lib\\site-packages\\pandas\\io\\sql.py:761: UserWarning: pandas only support SQLAlchemy connectable(engine/connection) ordatabase string URI or sqlite3 DBAPI2 connectionother DBAPI2 objects are not tested, please consider using SQLAlchemy\n",
      "  warnings.warn(\n"
     ]
    },
    {
     "name": "stdout",
     "output_type": "stream",
     "text": [
      "foi criado um df de tamanho 9479\n"
     ]
    },
    {
     "name": "stderr",
     "output_type": "stream",
     "text": [
      "C:\\ProgramData\\Anaconda3\\lib\\site-packages\\pandas\\io\\sql.py:761: UserWarning: pandas only support SQLAlchemy connectable(engine/connection) ordatabase string URI or sqlite3 DBAPI2 connectionother DBAPI2 objects are not tested, please consider using SQLAlchemy\n",
      "  warnings.warn(\n"
     ]
    },
    {
     "name": "stdout",
     "output_type": "stream",
     "text": [
      "foi criado um df de tamanho 9626\n"
     ]
    },
    {
     "name": "stderr",
     "output_type": "stream",
     "text": [
      "C:\\ProgramData\\Anaconda3\\lib\\site-packages\\pandas\\io\\sql.py:761: UserWarning: pandas only support SQLAlchemy connectable(engine/connection) ordatabase string URI or sqlite3 DBAPI2 connectionother DBAPI2 objects are not tested, please consider using SQLAlchemy\n",
      "  warnings.warn(\n"
     ]
    },
    {
     "name": "stdout",
     "output_type": "stream",
     "text": [
      "foi criado um df de tamanho 9784\n"
     ]
    },
    {
     "name": "stderr",
     "output_type": "stream",
     "text": [
      "C:\\ProgramData\\Anaconda3\\lib\\site-packages\\pandas\\io\\sql.py:761: UserWarning: pandas only support SQLAlchemy connectable(engine/connection) ordatabase string URI or sqlite3 DBAPI2 connectionother DBAPI2 objects are not tested, please consider using SQLAlchemy\n",
      "  warnings.warn(\n"
     ]
    },
    {
     "name": "stdout",
     "output_type": "stream",
     "text": [
      "foi criado um df de tamanho 9947\n"
     ]
    },
    {
     "name": "stderr",
     "output_type": "stream",
     "text": [
      "C:\\ProgramData\\Anaconda3\\lib\\site-packages\\pandas\\io\\sql.py:761: UserWarning: pandas only support SQLAlchemy connectable(engine/connection) ordatabase string URI or sqlite3 DBAPI2 connectionother DBAPI2 objects are not tested, please consider using SQLAlchemy\n",
      "  warnings.warn(\n"
     ]
    },
    {
     "name": "stdout",
     "output_type": "stream",
     "text": [
      "foi criado um df de tamanho 10130\n"
     ]
    },
    {
     "name": "stderr",
     "output_type": "stream",
     "text": [
      "C:\\ProgramData\\Anaconda3\\lib\\site-packages\\pandas\\io\\sql.py:761: UserWarning: pandas only support SQLAlchemy connectable(engine/connection) ordatabase string URI or sqlite3 DBAPI2 connectionother DBAPI2 objects are not tested, please consider using SQLAlchemy\n",
      "  warnings.warn(\n"
     ]
    },
    {
     "name": "stdout",
     "output_type": "stream",
     "text": [
      "foi criado um df de tamanho 10370\n"
     ]
    },
    {
     "name": "stderr",
     "output_type": "stream",
     "text": [
      "C:\\ProgramData\\Anaconda3\\lib\\site-packages\\pandas\\io\\sql.py:761: UserWarning: pandas only support SQLAlchemy connectable(engine/connection) ordatabase string URI or sqlite3 DBAPI2 connectionother DBAPI2 objects are not tested, please consider using SQLAlchemy\n",
      "  warnings.warn(\n"
     ]
    },
    {
     "name": "stdout",
     "output_type": "stream",
     "text": [
      "foi criado um df de tamanho 10613\n"
     ]
    },
    {
     "name": "stderr",
     "output_type": "stream",
     "text": [
      "C:\\ProgramData\\Anaconda3\\lib\\site-packages\\pandas\\io\\sql.py:761: UserWarning: pandas only support SQLAlchemy connectable(engine/connection) ordatabase string URI or sqlite3 DBAPI2 connectionother DBAPI2 objects are not tested, please consider using SQLAlchemy\n",
      "  warnings.warn(\n"
     ]
    },
    {
     "name": "stdout",
     "output_type": "stream",
     "text": [
      "foi criado um df de tamanho 10862\n"
     ]
    },
    {
     "name": "stderr",
     "output_type": "stream",
     "text": [
      "C:\\ProgramData\\Anaconda3\\lib\\site-packages\\pandas\\io\\sql.py:761: UserWarning: pandas only support SQLAlchemy connectable(engine/connection) ordatabase string URI or sqlite3 DBAPI2 connectionother DBAPI2 objects are not tested, please consider using SQLAlchemy\n",
      "  warnings.warn(\n"
     ]
    },
    {
     "name": "stdout",
     "output_type": "stream",
     "text": [
      "foi criado um df de tamanho 11133\n"
     ]
    },
    {
     "name": "stderr",
     "output_type": "stream",
     "text": [
      "C:\\ProgramData\\Anaconda3\\lib\\site-packages\\pandas\\io\\sql.py:761: UserWarning: pandas only support SQLAlchemy connectable(engine/connection) ordatabase string URI or sqlite3 DBAPI2 connectionother DBAPI2 objects are not tested, please consider using SQLAlchemy\n",
      "  warnings.warn(\n"
     ]
    },
    {
     "name": "stdout",
     "output_type": "stream",
     "text": [
      "foi criado um df de tamanho 11401\n"
     ]
    },
    {
     "name": "stderr",
     "output_type": "stream",
     "text": [
      "C:\\ProgramData\\Anaconda3\\lib\\site-packages\\pandas\\io\\sql.py:761: UserWarning: pandas only support SQLAlchemy connectable(engine/connection) ordatabase string URI or sqlite3 DBAPI2 connectionother DBAPI2 objects are not tested, please consider using SQLAlchemy\n",
      "  warnings.warn(\n"
     ]
    },
    {
     "name": "stdout",
     "output_type": "stream",
     "text": [
      "foi criado um df de tamanho 11703\n"
     ]
    },
    {
     "name": "stderr",
     "output_type": "stream",
     "text": [
      "C:\\ProgramData\\Anaconda3\\lib\\site-packages\\pandas\\io\\sql.py:761: UserWarning: pandas only support SQLAlchemy connectable(engine/connection) ordatabase string URI or sqlite3 DBAPI2 connectionother DBAPI2 objects are not tested, please consider using SQLAlchemy\n",
      "  warnings.warn(\n"
     ]
    },
    {
     "name": "stdout",
     "output_type": "stream",
     "text": [
      "foi criado um df de tamanho 12018\n"
     ]
    },
    {
     "name": "stderr",
     "output_type": "stream",
     "text": [
      "C:\\ProgramData\\Anaconda3\\lib\\site-packages\\pandas\\io\\sql.py:761: UserWarning: pandas only support SQLAlchemy connectable(engine/connection) ordatabase string URI or sqlite3 DBAPI2 connectionother DBAPI2 objects are not tested, please consider using SQLAlchemy\n",
      "  warnings.warn(\n"
     ]
    },
    {
     "name": "stdout",
     "output_type": "stream",
     "text": [
      "foi criado um df de tamanho 12328\n"
     ]
    },
    {
     "name": "stderr",
     "output_type": "stream",
     "text": [
      "C:\\ProgramData\\Anaconda3\\lib\\site-packages\\pandas\\io\\sql.py:761: UserWarning: pandas only support SQLAlchemy connectable(engine/connection) ordatabase string URI or sqlite3 DBAPI2 connectionother DBAPI2 objects are not tested, please consider using SQLAlchemy\n",
      "  warnings.warn(\n"
     ]
    },
    {
     "name": "stdout",
     "output_type": "stream",
     "text": [
      "foi criado um df de tamanho 12593\n"
     ]
    },
    {
     "name": "stderr",
     "output_type": "stream",
     "text": [
      "C:\\ProgramData\\Anaconda3\\lib\\site-packages\\pandas\\io\\sql.py:761: UserWarning: pandas only support SQLAlchemy connectable(engine/connection) ordatabase string URI or sqlite3 DBAPI2 connectionother DBAPI2 objects are not tested, please consider using SQLAlchemy\n",
      "  warnings.warn(\n"
     ]
    },
    {
     "name": "stdout",
     "output_type": "stream",
     "text": [
      "foi criado um df de tamanho 12872\n"
     ]
    },
    {
     "name": "stderr",
     "output_type": "stream",
     "text": [
      "C:\\ProgramData\\Anaconda3\\lib\\site-packages\\pandas\\io\\sql.py:761: UserWarning: pandas only support SQLAlchemy connectable(engine/connection) ordatabase string URI or sqlite3 DBAPI2 connectionother DBAPI2 objects are not tested, please consider using SQLAlchemy\n",
      "  warnings.warn(\n"
     ]
    },
    {
     "name": "stdout",
     "output_type": "stream",
     "text": [
      "foi criado um df de tamanho 13141\n"
     ]
    },
    {
     "name": "stderr",
     "output_type": "stream",
     "text": [
      "C:\\ProgramData\\Anaconda3\\lib\\site-packages\\pandas\\io\\sql.py:761: UserWarning: pandas only support SQLAlchemy connectable(engine/connection) ordatabase string URI or sqlite3 DBAPI2 connectionother DBAPI2 objects are not tested, please consider using SQLAlchemy\n",
      "  warnings.warn(\n"
     ]
    },
    {
     "name": "stdout",
     "output_type": "stream",
     "text": [
      "foi criado um df de tamanho 13152\n"
     ]
    },
    {
     "name": "stderr",
     "output_type": "stream",
     "text": [
      "C:\\ProgramData\\Anaconda3\\lib\\site-packages\\pandas\\io\\sql.py:761: UserWarning: pandas only support SQLAlchemy connectable(engine/connection) ordatabase string URI or sqlite3 DBAPI2 connectionother DBAPI2 objects are not tested, please consider using SQLAlchemy\n",
      "  warnings.warn(\n"
     ]
    },
    {
     "name": "stdout",
     "output_type": "stream",
     "text": [
      "foi criado um df de tamanho 13267\n"
     ]
    },
    {
     "name": "stderr",
     "output_type": "stream",
     "text": [
      "C:\\ProgramData\\Anaconda3\\lib\\site-packages\\pandas\\io\\sql.py:761: UserWarning: pandas only support SQLAlchemy connectable(engine/connection) ordatabase string URI or sqlite3 DBAPI2 connectionother DBAPI2 objects are not tested, please consider using SQLAlchemy\n",
      "  warnings.warn(\n"
     ]
    },
    {
     "name": "stdout",
     "output_type": "stream",
     "text": [
      "foi criado um df de tamanho 13414\n"
     ]
    },
    {
     "name": "stderr",
     "output_type": "stream",
     "text": [
      "C:\\ProgramData\\Anaconda3\\lib\\site-packages\\pandas\\io\\sql.py:761: UserWarning: pandas only support SQLAlchemy connectable(engine/connection) ordatabase string URI or sqlite3 DBAPI2 connectionother DBAPI2 objects are not tested, please consider using SQLAlchemy\n",
      "  warnings.warn(\n"
     ]
    },
    {
     "name": "stdout",
     "output_type": "stream",
     "text": [
      "foi criado um df de tamanho 13556\n"
     ]
    },
    {
     "name": "stderr",
     "output_type": "stream",
     "text": [
      "C:\\ProgramData\\Anaconda3\\lib\\site-packages\\pandas\\io\\sql.py:761: UserWarning: pandas only support SQLAlchemy connectable(engine/connection) ordatabase string URI or sqlite3 DBAPI2 connectionother DBAPI2 objects are not tested, please consider using SQLAlchemy\n",
      "  warnings.warn(\n"
     ]
    },
    {
     "name": "stdout",
     "output_type": "stream",
     "text": [
      "foi criado um df de tamanho 13711\n"
     ]
    },
    {
     "name": "stderr",
     "output_type": "stream",
     "text": [
      "C:\\ProgramData\\Anaconda3\\lib\\site-packages\\pandas\\io\\sql.py:761: UserWarning: pandas only support SQLAlchemy connectable(engine/connection) ordatabase string URI or sqlite3 DBAPI2 connectionother DBAPI2 objects are not tested, please consider using SQLAlchemy\n",
      "  warnings.warn(\n"
     ]
    },
    {
     "name": "stdout",
     "output_type": "stream",
     "text": [
      "foi criado um df de tamanho 13916\n"
     ]
    },
    {
     "name": "stderr",
     "output_type": "stream",
     "text": [
      "C:\\ProgramData\\Anaconda3\\lib\\site-packages\\pandas\\io\\sql.py:761: UserWarning: pandas only support SQLAlchemy connectable(engine/connection) ordatabase string URI or sqlite3 DBAPI2 connectionother DBAPI2 objects are not tested, please consider using SQLAlchemy\n",
      "  warnings.warn(\n"
     ]
    },
    {
     "name": "stdout",
     "output_type": "stream",
     "text": [
      "foi criado um df de tamanho 14196\n"
     ]
    },
    {
     "name": "stderr",
     "output_type": "stream",
     "text": [
      "C:\\ProgramData\\Anaconda3\\lib\\site-packages\\pandas\\io\\sql.py:761: UserWarning: pandas only support SQLAlchemy connectable(engine/connection) ordatabase string URI or sqlite3 DBAPI2 connectionother DBAPI2 objects are not tested, please consider using SQLAlchemy\n",
      "  warnings.warn(\n"
     ]
    },
    {
     "name": "stdout",
     "output_type": "stream",
     "text": [
      "foi criado um df de tamanho 14456\n"
     ]
    },
    {
     "name": "stderr",
     "output_type": "stream",
     "text": [
      "C:\\ProgramData\\Anaconda3\\lib\\site-packages\\pandas\\io\\sql.py:761: UserWarning: pandas only support SQLAlchemy connectable(engine/connection) ordatabase string URI or sqlite3 DBAPI2 connectionother DBAPI2 objects are not tested, please consider using SQLAlchemy\n",
      "  warnings.warn(\n"
     ]
    },
    {
     "name": "stdout",
     "output_type": "stream",
     "text": [
      "foi criado um df de tamanho 14681\n"
     ]
    },
    {
     "name": "stderr",
     "output_type": "stream",
     "text": [
      "C:\\ProgramData\\Anaconda3\\lib\\site-packages\\pandas\\io\\sql.py:761: UserWarning: pandas only support SQLAlchemy connectable(engine/connection) ordatabase string URI or sqlite3 DBAPI2 connectionother DBAPI2 objects are not tested, please consider using SQLAlchemy\n",
      "  warnings.warn(\n"
     ]
    },
    {
     "name": "stdout",
     "output_type": "stream",
     "text": [
      "foi criado um df de tamanho 14875\n"
     ]
    },
    {
     "name": "stderr",
     "output_type": "stream",
     "text": [
      "C:\\ProgramData\\Anaconda3\\lib\\site-packages\\pandas\\io\\sql.py:761: UserWarning: pandas only support SQLAlchemy connectable(engine/connection) ordatabase string URI or sqlite3 DBAPI2 connectionother DBAPI2 objects are not tested, please consider using SQLAlchemy\n",
      "  warnings.warn(\n"
     ]
    },
    {
     "name": "stdout",
     "output_type": "stream",
     "text": [
      "foi criado um df de tamanho 15102\n"
     ]
    },
    {
     "name": "stderr",
     "output_type": "stream",
     "text": [
      "C:\\ProgramData\\Anaconda3\\lib\\site-packages\\pandas\\io\\sql.py:761: UserWarning: pandas only support SQLAlchemy connectable(engine/connection) ordatabase string URI or sqlite3 DBAPI2 connectionother DBAPI2 objects are not tested, please consider using SQLAlchemy\n",
      "  warnings.warn(\n"
     ]
    },
    {
     "name": "stdout",
     "output_type": "stream",
     "text": [
      "foi criado um df de tamanho 15319\n"
     ]
    },
    {
     "name": "stderr",
     "output_type": "stream",
     "text": [
      "C:\\ProgramData\\Anaconda3\\lib\\site-packages\\pandas\\io\\sql.py:761: UserWarning: pandas only support SQLAlchemy connectable(engine/connection) ordatabase string URI or sqlite3 DBAPI2 connectionother DBAPI2 objects are not tested, please consider using SQLAlchemy\n",
      "  warnings.warn(\n"
     ]
    },
    {
     "name": "stdout",
     "output_type": "stream",
     "text": [
      "foi criado um df de tamanho 15531\n"
     ]
    },
    {
     "name": "stderr",
     "output_type": "stream",
     "text": [
      "C:\\ProgramData\\Anaconda3\\lib\\site-packages\\pandas\\io\\sql.py:761: UserWarning: pandas only support SQLAlchemy connectable(engine/connection) ordatabase string URI or sqlite3 DBAPI2 connectionother DBAPI2 objects are not tested, please consider using SQLAlchemy\n",
      "  warnings.warn(\n"
     ]
    },
    {
     "name": "stdout",
     "output_type": "stream",
     "text": [
      "foi criado um df de tamanho 15697\n"
     ]
    },
    {
     "name": "stderr",
     "output_type": "stream",
     "text": [
      "C:\\ProgramData\\Anaconda3\\lib\\site-packages\\pandas\\io\\sql.py:761: UserWarning: pandas only support SQLAlchemy connectable(engine/connection) ordatabase string URI or sqlite3 DBAPI2 connectionother DBAPI2 objects are not tested, please consider using SQLAlchemy\n",
      "  warnings.warn(\n"
     ]
    },
    {
     "name": "stdout",
     "output_type": "stream",
     "text": [
      "foi criado um df de tamanho 15891\n"
     ]
    },
    {
     "name": "stderr",
     "output_type": "stream",
     "text": [
      "C:\\ProgramData\\Anaconda3\\lib\\site-packages\\pandas\\io\\sql.py:761: UserWarning: pandas only support SQLAlchemy connectable(engine/connection) ordatabase string URI or sqlite3 DBAPI2 connectionother DBAPI2 objects are not tested, please consider using SQLAlchemy\n",
      "  warnings.warn(\n"
     ]
    },
    {
     "name": "stdout",
     "output_type": "stream",
     "text": [
      "foi criado um df de tamanho 16073\n"
     ]
    },
    {
     "name": "stderr",
     "output_type": "stream",
     "text": [
      "C:\\ProgramData\\Anaconda3\\lib\\site-packages\\pandas\\io\\sql.py:761: UserWarning: pandas only support SQLAlchemy connectable(engine/connection) ordatabase string URI or sqlite3 DBAPI2 connectionother DBAPI2 objects are not tested, please consider using SQLAlchemy\n",
      "  warnings.warn(\n"
     ]
    },
    {
     "name": "stdout",
     "output_type": "stream",
     "text": [
      "foi criado um df de tamanho 16079\n"
     ]
    },
    {
     "name": "stderr",
     "output_type": "stream",
     "text": [
      "C:\\ProgramData\\Anaconda3\\lib\\site-packages\\pandas\\io\\sql.py:761: UserWarning: pandas only support SQLAlchemy connectable(engine/connection) ordatabase string URI or sqlite3 DBAPI2 connectionother DBAPI2 objects are not tested, please consider using SQLAlchemy\n",
      "  warnings.warn(\n"
     ]
    },
    {
     "name": "stdout",
     "output_type": "stream",
     "text": [
      "foi criado um df de tamanho 16215\n"
     ]
    },
    {
     "name": "stderr",
     "output_type": "stream",
     "text": [
      "C:\\ProgramData\\Anaconda3\\lib\\site-packages\\pandas\\io\\sql.py:761: UserWarning: pandas only support SQLAlchemy connectable(engine/connection) ordatabase string URI or sqlite3 DBAPI2 connectionother DBAPI2 objects are not tested, please consider using SQLAlchemy\n",
      "  warnings.warn(\n"
     ]
    },
    {
     "name": "stdout",
     "output_type": "stream",
     "text": [
      "foi criado um df de tamanho 16367\n"
     ]
    },
    {
     "name": "stderr",
     "output_type": "stream",
     "text": [
      "C:\\ProgramData\\Anaconda3\\lib\\site-packages\\pandas\\io\\sql.py:761: UserWarning: pandas only support SQLAlchemy connectable(engine/connection) ordatabase string URI or sqlite3 DBAPI2 connectionother DBAPI2 objects are not tested, please consider using SQLAlchemy\n",
      "  warnings.warn(\n"
     ]
    },
    {
     "name": "stdout",
     "output_type": "stream",
     "text": [
      "foi criado um df de tamanho 16508\n"
     ]
    },
    {
     "name": "stderr",
     "output_type": "stream",
     "text": [
      "C:\\ProgramData\\Anaconda3\\lib\\site-packages\\pandas\\io\\sql.py:761: UserWarning: pandas only support SQLAlchemy connectable(engine/connection) ordatabase string URI or sqlite3 DBAPI2 connectionother DBAPI2 objects are not tested, please consider using SQLAlchemy\n",
      "  warnings.warn(\n"
     ]
    },
    {
     "name": "stdout",
     "output_type": "stream",
     "text": [
      "foi criado um df de tamanho 16642\n"
     ]
    },
    {
     "name": "stderr",
     "output_type": "stream",
     "text": [
      "C:\\ProgramData\\Anaconda3\\lib\\site-packages\\pandas\\io\\sql.py:761: UserWarning: pandas only support SQLAlchemy connectable(engine/connection) ordatabase string URI or sqlite3 DBAPI2 connectionother DBAPI2 objects are not tested, please consider using SQLAlchemy\n",
      "  warnings.warn(\n"
     ]
    },
    {
     "name": "stdout",
     "output_type": "stream",
     "text": [
      "foi criado um df de tamanho 16834\n"
     ]
    },
    {
     "name": "stderr",
     "output_type": "stream",
     "text": [
      "C:\\ProgramData\\Anaconda3\\lib\\site-packages\\pandas\\io\\sql.py:761: UserWarning: pandas only support SQLAlchemy connectable(engine/connection) ordatabase string URI or sqlite3 DBAPI2 connectionother DBAPI2 objects are not tested, please consider using SQLAlchemy\n",
      "  warnings.warn(\n"
     ]
    },
    {
     "name": "stdout",
     "output_type": "stream",
     "text": [
      "foi criado um df de tamanho 17041\n"
     ]
    },
    {
     "name": "stderr",
     "output_type": "stream",
     "text": [
      "C:\\ProgramData\\Anaconda3\\lib\\site-packages\\pandas\\io\\sql.py:761: UserWarning: pandas only support SQLAlchemy connectable(engine/connection) ordatabase string URI or sqlite3 DBAPI2 connectionother DBAPI2 objects are not tested, please consider using SQLAlchemy\n",
      "  warnings.warn(\n"
     ]
    },
    {
     "name": "stdout",
     "output_type": "stream",
     "text": [
      "foi criado um df de tamanho 17251\n"
     ]
    },
    {
     "name": "stderr",
     "output_type": "stream",
     "text": [
      "C:\\ProgramData\\Anaconda3\\lib\\site-packages\\pandas\\io\\sql.py:761: UserWarning: pandas only support SQLAlchemy connectable(engine/connection) ordatabase string URI or sqlite3 DBAPI2 connectionother DBAPI2 objects are not tested, please consider using SQLAlchemy\n",
      "  warnings.warn(\n"
     ]
    },
    {
     "name": "stdout",
     "output_type": "stream",
     "text": [
      "foi criado um df de tamanho 17458\n"
     ]
    },
    {
     "name": "stderr",
     "output_type": "stream",
     "text": [
      "C:\\ProgramData\\Anaconda3\\lib\\site-packages\\pandas\\io\\sql.py:761: UserWarning: pandas only support SQLAlchemy connectable(engine/connection) ordatabase string URI or sqlite3 DBAPI2 connectionother DBAPI2 objects are not tested, please consider using SQLAlchemy\n",
      "  warnings.warn(\n"
     ]
    },
    {
     "name": "stdout",
     "output_type": "stream",
     "text": [
      "foi criado um df de tamanho 17658\n"
     ]
    },
    {
     "name": "stderr",
     "output_type": "stream",
     "text": [
      "C:\\ProgramData\\Anaconda3\\lib\\site-packages\\pandas\\io\\sql.py:761: UserWarning: pandas only support SQLAlchemy connectable(engine/connection) ordatabase string URI or sqlite3 DBAPI2 connectionother DBAPI2 objects are not tested, please consider using SQLAlchemy\n",
      "  warnings.warn(\n"
     ]
    },
    {
     "name": "stdout",
     "output_type": "stream",
     "text": [
      "foi criado um df de tamanho 17881\n"
     ]
    },
    {
     "name": "stderr",
     "output_type": "stream",
     "text": [
      "C:\\ProgramData\\Anaconda3\\lib\\site-packages\\pandas\\io\\sql.py:761: UserWarning: pandas only support SQLAlchemy connectable(engine/connection) ordatabase string URI or sqlite3 DBAPI2 connectionother DBAPI2 objects are not tested, please consider using SQLAlchemy\n",
      "  warnings.warn(\n"
     ]
    },
    {
     "name": "stdout",
     "output_type": "stream",
     "text": [
      "foi criado um df de tamanho 18082\n"
     ]
    },
    {
     "name": "stderr",
     "output_type": "stream",
     "text": [
      "C:\\ProgramData\\Anaconda3\\lib\\site-packages\\pandas\\io\\sql.py:761: UserWarning: pandas only support SQLAlchemy connectable(engine/connection) ordatabase string URI or sqlite3 DBAPI2 connectionother DBAPI2 objects are not tested, please consider using SQLAlchemy\n",
      "  warnings.warn(\n"
     ]
    },
    {
     "name": "stdout",
     "output_type": "stream",
     "text": [
      "foi criado um df de tamanho 18291\n"
     ]
    },
    {
     "name": "stderr",
     "output_type": "stream",
     "text": [
      "C:\\ProgramData\\Anaconda3\\lib\\site-packages\\pandas\\io\\sql.py:761: UserWarning: pandas only support SQLAlchemy connectable(engine/connection) ordatabase string URI or sqlite3 DBAPI2 connectionother DBAPI2 objects are not tested, please consider using SQLAlchemy\n",
      "  warnings.warn(\n"
     ]
    },
    {
     "name": "stdout",
     "output_type": "stream",
     "text": [
      "foi criado um df de tamanho 18467\n"
     ]
    },
    {
     "name": "stderr",
     "output_type": "stream",
     "text": [
      "C:\\ProgramData\\Anaconda3\\lib\\site-packages\\pandas\\io\\sql.py:761: UserWarning: pandas only support SQLAlchemy connectable(engine/connection) ordatabase string URI or sqlite3 DBAPI2 connectionother DBAPI2 objects are not tested, please consider using SQLAlchemy\n",
      "  warnings.warn(\n"
     ]
    },
    {
     "name": "stdout",
     "output_type": "stream",
     "text": [
      "foi criado um df de tamanho 18662\n"
     ]
    },
    {
     "name": "stderr",
     "output_type": "stream",
     "text": [
      "C:\\ProgramData\\Anaconda3\\lib\\site-packages\\pandas\\io\\sql.py:761: UserWarning: pandas only support SQLAlchemy connectable(engine/connection) ordatabase string URI or sqlite3 DBAPI2 connectionother DBAPI2 objects are not tested, please consider using SQLAlchemy\n",
      "  warnings.warn(\n"
     ]
    },
    {
     "name": "stdout",
     "output_type": "stream",
     "text": [
      "foi criado um df de tamanho 18822\n"
     ]
    },
    {
     "name": "stderr",
     "output_type": "stream",
     "text": [
      "C:\\ProgramData\\Anaconda3\\lib\\site-packages\\pandas\\io\\sql.py:761: UserWarning: pandas only support SQLAlchemy connectable(engine/connection) ordatabase string URI or sqlite3 DBAPI2 connectionother DBAPI2 objects are not tested, please consider using SQLAlchemy\n",
      "  warnings.warn(\n"
     ]
    },
    {
     "name": "stdout",
     "output_type": "stream",
     "text": [
      "foi criado um df de tamanho 18833\n"
     ]
    },
    {
     "name": "stderr",
     "output_type": "stream",
     "text": [
      "C:\\ProgramData\\Anaconda3\\lib\\site-packages\\pandas\\io\\sql.py:761: UserWarning: pandas only support SQLAlchemy connectable(engine/connection) ordatabase string URI or sqlite3 DBAPI2 connectionother DBAPI2 objects are not tested, please consider using SQLAlchemy\n",
      "  warnings.warn(\n"
     ]
    },
    {
     "name": "stdout",
     "output_type": "stream",
     "text": [
      "foi criado um df de tamanho 18958\n"
     ]
    },
    {
     "name": "stderr",
     "output_type": "stream",
     "text": [
      "C:\\ProgramData\\Anaconda3\\lib\\site-packages\\pandas\\io\\sql.py:761: UserWarning: pandas only support SQLAlchemy connectable(engine/connection) ordatabase string URI or sqlite3 DBAPI2 connectionother DBAPI2 objects are not tested, please consider using SQLAlchemy\n",
      "  warnings.warn(\n"
     ]
    },
    {
     "name": "stdout",
     "output_type": "stream",
     "text": [
      "foi criado um df de tamanho 19075\n"
     ]
    },
    {
     "name": "stderr",
     "output_type": "stream",
     "text": [
      "C:\\ProgramData\\Anaconda3\\lib\\site-packages\\pandas\\io\\sql.py:761: UserWarning: pandas only support SQLAlchemy connectable(engine/connection) ordatabase string URI or sqlite3 DBAPI2 connectionother DBAPI2 objects are not tested, please consider using SQLAlchemy\n",
      "  warnings.warn(\n"
     ]
    },
    {
     "name": "stdout",
     "output_type": "stream",
     "text": [
      "foi criado um df de tamanho 19203\n"
     ]
    },
    {
     "name": "stderr",
     "output_type": "stream",
     "text": [
      "C:\\ProgramData\\Anaconda3\\lib\\site-packages\\pandas\\io\\sql.py:761: UserWarning: pandas only support SQLAlchemy connectable(engine/connection) ordatabase string URI or sqlite3 DBAPI2 connectionother DBAPI2 objects are not tested, please consider using SQLAlchemy\n",
      "  warnings.warn(\n"
     ]
    },
    {
     "name": "stdout",
     "output_type": "stream",
     "text": [
      "foi criado um df de tamanho 19339\n"
     ]
    },
    {
     "name": "stderr",
     "output_type": "stream",
     "text": [
      "C:\\ProgramData\\Anaconda3\\lib\\site-packages\\pandas\\io\\sql.py:761: UserWarning: pandas only support SQLAlchemy connectable(engine/connection) ordatabase string URI or sqlite3 DBAPI2 connectionother DBAPI2 objects are not tested, please consider using SQLAlchemy\n",
      "  warnings.warn(\n"
     ]
    },
    {
     "name": "stdout",
     "output_type": "stream",
     "text": [
      "foi criado um df de tamanho 19567\n"
     ]
    },
    {
     "name": "stderr",
     "output_type": "stream",
     "text": [
      "C:\\ProgramData\\Anaconda3\\lib\\site-packages\\pandas\\io\\sql.py:761: UserWarning: pandas only support SQLAlchemy connectable(engine/connection) ordatabase string URI or sqlite3 DBAPI2 connectionother DBAPI2 objects are not tested, please consider using SQLAlchemy\n",
      "  warnings.warn(\n"
     ]
    },
    {
     "name": "stdout",
     "output_type": "stream",
     "text": [
      "foi criado um df de tamanho 19840\n"
     ]
    },
    {
     "name": "stderr",
     "output_type": "stream",
     "text": [
      "C:\\ProgramData\\Anaconda3\\lib\\site-packages\\pandas\\io\\sql.py:761: UserWarning: pandas only support SQLAlchemy connectable(engine/connection) ordatabase string URI or sqlite3 DBAPI2 connectionother DBAPI2 objects are not tested, please consider using SQLAlchemy\n",
      "  warnings.warn(\n"
     ]
    },
    {
     "name": "stdout",
     "output_type": "stream",
     "text": [
      "foi criado um df de tamanho 20103\n"
     ]
    },
    {
     "name": "stderr",
     "output_type": "stream",
     "text": [
      "C:\\ProgramData\\Anaconda3\\lib\\site-packages\\pandas\\io\\sql.py:761: UserWarning: pandas only support SQLAlchemy connectable(engine/connection) ordatabase string URI or sqlite3 DBAPI2 connectionother DBAPI2 objects are not tested, please consider using SQLAlchemy\n",
      "  warnings.warn(\n"
     ]
    },
    {
     "name": "stdout",
     "output_type": "stream",
     "text": [
      "foi criado um df de tamanho 20376\n"
     ]
    },
    {
     "name": "stderr",
     "output_type": "stream",
     "text": [
      "C:\\ProgramData\\Anaconda3\\lib\\site-packages\\pandas\\io\\sql.py:761: UserWarning: pandas only support SQLAlchemy connectable(engine/connection) ordatabase string URI or sqlite3 DBAPI2 connectionother DBAPI2 objects are not tested, please consider using SQLAlchemy\n",
      "  warnings.warn(\n"
     ]
    },
    {
     "name": "stdout",
     "output_type": "stream",
     "text": [
      "foi criado um df de tamanho 20646\n"
     ]
    },
    {
     "name": "stderr",
     "output_type": "stream",
     "text": [
      "C:\\ProgramData\\Anaconda3\\lib\\site-packages\\pandas\\io\\sql.py:761: UserWarning: pandas only support SQLAlchemy connectable(engine/connection) ordatabase string URI or sqlite3 DBAPI2 connectionother DBAPI2 objects are not tested, please consider using SQLAlchemy\n",
      "  warnings.warn(\n"
     ]
    },
    {
     "name": "stdout",
     "output_type": "stream",
     "text": [
      "foi criado um df de tamanho 20913\n"
     ]
    },
    {
     "name": "stderr",
     "output_type": "stream",
     "text": [
      "C:\\ProgramData\\Anaconda3\\lib\\site-packages\\pandas\\io\\sql.py:761: UserWarning: pandas only support SQLAlchemy connectable(engine/connection) ordatabase string URI or sqlite3 DBAPI2 connectionother DBAPI2 objects are not tested, please consider using SQLAlchemy\n",
      "  warnings.warn(\n"
     ]
    },
    {
     "name": "stdout",
     "output_type": "stream",
     "text": [
      "foi criado um df de tamanho 21176\n"
     ]
    },
    {
     "name": "stderr",
     "output_type": "stream",
     "text": [
      "C:\\ProgramData\\Anaconda3\\lib\\site-packages\\pandas\\io\\sql.py:761: UserWarning: pandas only support SQLAlchemy connectable(engine/connection) ordatabase string URI or sqlite3 DBAPI2 connectionother DBAPI2 objects are not tested, please consider using SQLAlchemy\n",
      "  warnings.warn(\n"
     ]
    },
    {
     "name": "stdout",
     "output_type": "stream",
     "text": [
      "foi criado um df de tamanho 21429\n"
     ]
    },
    {
     "name": "stderr",
     "output_type": "stream",
     "text": [
      "C:\\ProgramData\\Anaconda3\\lib\\site-packages\\pandas\\io\\sql.py:761: UserWarning: pandas only support SQLAlchemy connectable(engine/connection) ordatabase string URI or sqlite3 DBAPI2 connectionother DBAPI2 objects are not tested, please consider using SQLAlchemy\n",
      "  warnings.warn(\n"
     ]
    },
    {
     "name": "stdout",
     "output_type": "stream",
     "text": [
      "foi criado um df de tamanho 21628\n"
     ]
    },
    {
     "name": "stderr",
     "output_type": "stream",
     "text": [
      "C:\\ProgramData\\Anaconda3\\lib\\site-packages\\pandas\\io\\sql.py:761: UserWarning: pandas only support SQLAlchemy connectable(engine/connection) ordatabase string URI or sqlite3 DBAPI2 connectionother DBAPI2 objects are not tested, please consider using SQLAlchemy\n",
      "  warnings.warn(\n"
     ]
    },
    {
     "name": "stdout",
     "output_type": "stream",
     "text": [
      "foi criado um df de tamanho 21842\n"
     ]
    },
    {
     "name": "stderr",
     "output_type": "stream",
     "text": [
      "C:\\ProgramData\\Anaconda3\\lib\\site-packages\\pandas\\io\\sql.py:761: UserWarning: pandas only support SQLAlchemy connectable(engine/connection) ordatabase string URI or sqlite3 DBAPI2 connectionother DBAPI2 objects are not tested, please consider using SQLAlchemy\n",
      "  warnings.warn(\n"
     ]
    },
    {
     "name": "stdout",
     "output_type": "stream",
     "text": [
      "foi criado um df de tamanho 22028\n"
     ]
    },
    {
     "name": "stderr",
     "output_type": "stream",
     "text": [
      "C:\\ProgramData\\Anaconda3\\lib\\site-packages\\pandas\\io\\sql.py:761: UserWarning: pandas only support SQLAlchemy connectable(engine/connection) ordatabase string URI or sqlite3 DBAPI2 connectionother DBAPI2 objects are not tested, please consider using SQLAlchemy\n",
      "  warnings.warn(\n"
     ]
    },
    {
     "name": "stdout",
     "output_type": "stream",
     "text": [
      "foi criado um df de tamanho 22059\n"
     ]
    },
    {
     "name": "stderr",
     "output_type": "stream",
     "text": [
      "C:\\ProgramData\\Anaconda3\\lib\\site-packages\\pandas\\io\\sql.py:761: UserWarning: pandas only support SQLAlchemy connectable(engine/connection) ordatabase string URI or sqlite3 DBAPI2 connectionother DBAPI2 objects are not tested, please consider using SQLAlchemy\n",
      "  warnings.warn(\n"
     ]
    },
    {
     "name": "stdout",
     "output_type": "stream",
     "text": [
      "foi criado um df de tamanho 22177\n"
     ]
    },
    {
     "name": "stderr",
     "output_type": "stream",
     "text": [
      "C:\\ProgramData\\Anaconda3\\lib\\site-packages\\pandas\\io\\sql.py:761: UserWarning: pandas only support SQLAlchemy connectable(engine/connection) ordatabase string URI or sqlite3 DBAPI2 connectionother DBAPI2 objects are not tested, please consider using SQLAlchemy\n",
      "  warnings.warn(\n"
     ]
    },
    {
     "name": "stdout",
     "output_type": "stream",
     "text": [
      "foi criado um df de tamanho 22324\n"
     ]
    },
    {
     "name": "stderr",
     "output_type": "stream",
     "text": [
      "C:\\ProgramData\\Anaconda3\\lib\\site-packages\\pandas\\io\\sql.py:761: UserWarning: pandas only support SQLAlchemy connectable(engine/connection) ordatabase string URI or sqlite3 DBAPI2 connectionother DBAPI2 objects are not tested, please consider using SQLAlchemy\n",
      "  warnings.warn(\n"
     ]
    },
    {
     "name": "stdout",
     "output_type": "stream",
     "text": [
      "foi criado um df de tamanho 22473\n"
     ]
    },
    {
     "name": "stderr",
     "output_type": "stream",
     "text": [
      "C:\\ProgramData\\Anaconda3\\lib\\site-packages\\pandas\\io\\sql.py:761: UserWarning: pandas only support SQLAlchemy connectable(engine/connection) ordatabase string URI or sqlite3 DBAPI2 connectionother DBAPI2 objects are not tested, please consider using SQLAlchemy\n",
      "  warnings.warn(\n"
     ]
    },
    {
     "name": "stdout",
     "output_type": "stream",
     "text": [
      "foi criado um df de tamanho 22634\n"
     ]
    },
    {
     "name": "stderr",
     "output_type": "stream",
     "text": [
      "C:\\ProgramData\\Anaconda3\\lib\\site-packages\\pandas\\io\\sql.py:761: UserWarning: pandas only support SQLAlchemy connectable(engine/connection) ordatabase string URI or sqlite3 DBAPI2 connectionother DBAPI2 objects are not tested, please consider using SQLAlchemy\n",
      "  warnings.warn(\n"
     ]
    },
    {
     "name": "stdout",
     "output_type": "stream",
     "text": [
      "foi criado um df de tamanho 22849\n"
     ]
    },
    {
     "name": "stderr",
     "output_type": "stream",
     "text": [
      "C:\\ProgramData\\Anaconda3\\lib\\site-packages\\pandas\\io\\sql.py:761: UserWarning: pandas only support SQLAlchemy connectable(engine/connection) ordatabase string URI or sqlite3 DBAPI2 connectionother DBAPI2 objects are not tested, please consider using SQLAlchemy\n",
      "  warnings.warn(\n"
     ]
    },
    {
     "name": "stdout",
     "output_type": "stream",
     "text": [
      "foi criado um df de tamanho 23100\n"
     ]
    },
    {
     "name": "stderr",
     "output_type": "stream",
     "text": [
      "C:\\ProgramData\\Anaconda3\\lib\\site-packages\\pandas\\io\\sql.py:761: UserWarning: pandas only support SQLAlchemy connectable(engine/connection) ordatabase string URI or sqlite3 DBAPI2 connectionother DBAPI2 objects are not tested, please consider using SQLAlchemy\n",
      "  warnings.warn(\n"
     ]
    },
    {
     "name": "stdout",
     "output_type": "stream",
     "text": [
      "foi criado um df de tamanho 23342\n"
     ]
    },
    {
     "name": "stderr",
     "output_type": "stream",
     "text": [
      "C:\\ProgramData\\Anaconda3\\lib\\site-packages\\pandas\\io\\sql.py:761: UserWarning: pandas only support SQLAlchemy connectable(engine/connection) ordatabase string URI or sqlite3 DBAPI2 connectionother DBAPI2 objects are not tested, please consider using SQLAlchemy\n",
      "  warnings.warn(\n"
     ]
    },
    {
     "name": "stdout",
     "output_type": "stream",
     "text": [
      "foi criado um df de tamanho 23587\n"
     ]
    },
    {
     "name": "stderr",
     "output_type": "stream",
     "text": [
      "C:\\ProgramData\\Anaconda3\\lib\\site-packages\\pandas\\io\\sql.py:761: UserWarning: pandas only support SQLAlchemy connectable(engine/connection) ordatabase string URI or sqlite3 DBAPI2 connectionother DBAPI2 objects are not tested, please consider using SQLAlchemy\n",
      "  warnings.warn(\n"
     ]
    },
    {
     "name": "stdout",
     "output_type": "stream",
     "text": [
      "foi criado um df de tamanho 23805\n"
     ]
    },
    {
     "name": "stderr",
     "output_type": "stream",
     "text": [
      "C:\\ProgramData\\Anaconda3\\lib\\site-packages\\pandas\\io\\sql.py:761: UserWarning: pandas only support SQLAlchemy connectable(engine/connection) ordatabase string URI or sqlite3 DBAPI2 connectionother DBAPI2 objects are not tested, please consider using SQLAlchemy\n",
      "  warnings.warn(\n"
     ]
    },
    {
     "name": "stdout",
     "output_type": "stream",
     "text": [
      "foi criado um df de tamanho 24049\n"
     ]
    },
    {
     "name": "stderr",
     "output_type": "stream",
     "text": [
      "C:\\ProgramData\\Anaconda3\\lib\\site-packages\\pandas\\io\\sql.py:761: UserWarning: pandas only support SQLAlchemy connectable(engine/connection) ordatabase string URI or sqlite3 DBAPI2 connectionother DBAPI2 objects are not tested, please consider using SQLAlchemy\n",
      "  warnings.warn(\n"
     ]
    },
    {
     "name": "stdout",
     "output_type": "stream",
     "text": [
      "foi criado um df de tamanho 24278\n"
     ]
    },
    {
     "name": "stderr",
     "output_type": "stream",
     "text": [
      "C:\\ProgramData\\Anaconda3\\lib\\site-packages\\pandas\\io\\sql.py:761: UserWarning: pandas only support SQLAlchemy connectable(engine/connection) ordatabase string URI or sqlite3 DBAPI2 connectionother DBAPI2 objects are not tested, please consider using SQLAlchemy\n",
      "  warnings.warn(\n"
     ]
    },
    {
     "name": "stdout",
     "output_type": "stream",
     "text": [
      "foi criado um df de tamanho 24501\n"
     ]
    },
    {
     "name": "stderr",
     "output_type": "stream",
     "text": [
      "C:\\ProgramData\\Anaconda3\\lib\\site-packages\\pandas\\io\\sql.py:761: UserWarning: pandas only support SQLAlchemy connectable(engine/connection) ordatabase string URI or sqlite3 DBAPI2 connectionother DBAPI2 objects are not tested, please consider using SQLAlchemy\n",
      "  warnings.warn(\n"
     ]
    },
    {
     "name": "stdout",
     "output_type": "stream",
     "text": [
      "foi criado um df de tamanho 24669\n"
     ]
    },
    {
     "name": "stderr",
     "output_type": "stream",
     "text": [
      "C:\\ProgramData\\Anaconda3\\lib\\site-packages\\pandas\\io\\sql.py:761: UserWarning: pandas only support SQLAlchemy connectable(engine/connection) ordatabase string URI or sqlite3 DBAPI2 connectionother DBAPI2 objects are not tested, please consider using SQLAlchemy\n",
      "  warnings.warn(\n"
     ]
    },
    {
     "name": "stdout",
     "output_type": "stream",
     "text": [
      "foi criado um df de tamanho 24867\n"
     ]
    },
    {
     "name": "stderr",
     "output_type": "stream",
     "text": [
      "C:\\ProgramData\\Anaconda3\\lib\\site-packages\\pandas\\io\\sql.py:761: UserWarning: pandas only support SQLAlchemy connectable(engine/connection) ordatabase string URI or sqlite3 DBAPI2 connectionother DBAPI2 objects are not tested, please consider using SQLAlchemy\n",
      "  warnings.warn(\n"
     ]
    },
    {
     "name": "stdout",
     "output_type": "stream",
     "text": [
      "foi criado um df de tamanho 25070\n"
     ]
    },
    {
     "name": "stderr",
     "output_type": "stream",
     "text": [
      "C:\\ProgramData\\Anaconda3\\lib\\site-packages\\pandas\\io\\sql.py:761: UserWarning: pandas only support SQLAlchemy connectable(engine/connection) ordatabase string URI or sqlite3 DBAPI2 connectionother DBAPI2 objects are not tested, please consider using SQLAlchemy\n",
      "  warnings.warn(\n"
     ]
    },
    {
     "name": "stdout",
     "output_type": "stream",
     "text": [
      "foi criado um df de tamanho 25073\n"
     ]
    },
    {
     "name": "stderr",
     "output_type": "stream",
     "text": [
      "C:\\ProgramData\\Anaconda3\\lib\\site-packages\\pandas\\io\\sql.py:761: UserWarning: pandas only support SQLAlchemy connectable(engine/connection) ordatabase string URI or sqlite3 DBAPI2 connectionother DBAPI2 objects are not tested, please consider using SQLAlchemy\n",
      "  warnings.warn(\n"
     ]
    },
    {
     "name": "stdout",
     "output_type": "stream",
     "text": [
      "foi criado um df de tamanho 25111\n"
     ]
    },
    {
     "name": "stderr",
     "output_type": "stream",
     "text": [
      "C:\\ProgramData\\Anaconda3\\lib\\site-packages\\pandas\\io\\sql.py:761: UserWarning: pandas only support SQLAlchemy connectable(engine/connection) ordatabase string URI or sqlite3 DBAPI2 connectionother DBAPI2 objects are not tested, please consider using SQLAlchemy\n",
      "  warnings.warn(\n"
     ]
    },
    {
     "name": "stdout",
     "output_type": "stream",
     "text": [
      "foi criado um df de tamanho 25149\n"
     ]
    },
    {
     "name": "stderr",
     "output_type": "stream",
     "text": [
      "C:\\ProgramData\\Anaconda3\\lib\\site-packages\\pandas\\io\\sql.py:761: UserWarning: pandas only support SQLAlchemy connectable(engine/connection) ordatabase string URI or sqlite3 DBAPI2 connectionother DBAPI2 objects are not tested, please consider using SQLAlchemy\n",
      "  warnings.warn(\n"
     ]
    },
    {
     "name": "stdout",
     "output_type": "stream",
     "text": [
      "foi criado um df de tamanho 25196\n"
     ]
    },
    {
     "name": "stderr",
     "output_type": "stream",
     "text": [
      "C:\\ProgramData\\Anaconda3\\lib\\site-packages\\pandas\\io\\sql.py:761: UserWarning: pandas only support SQLAlchemy connectable(engine/connection) ordatabase string URI or sqlite3 DBAPI2 connectionother DBAPI2 objects are not tested, please consider using SQLAlchemy\n",
      "  warnings.warn(\n"
     ]
    },
    {
     "name": "stdout",
     "output_type": "stream",
     "text": [
      "foi criado um df de tamanho 25241\n"
     ]
    },
    {
     "name": "stderr",
     "output_type": "stream",
     "text": [
      "C:\\ProgramData\\Anaconda3\\lib\\site-packages\\pandas\\io\\sql.py:761: UserWarning: pandas only support SQLAlchemy connectable(engine/connection) ordatabase string URI or sqlite3 DBAPI2 connectionother DBAPI2 objects are not tested, please consider using SQLAlchemy\n",
      "  warnings.warn(\n"
     ]
    },
    {
     "name": "stdout",
     "output_type": "stream",
     "text": [
      "foi criado um df de tamanho 25330\n"
     ]
    },
    {
     "name": "stderr",
     "output_type": "stream",
     "text": [
      "C:\\ProgramData\\Anaconda3\\lib\\site-packages\\pandas\\io\\sql.py:761: UserWarning: pandas only support SQLAlchemy connectable(engine/connection) ordatabase string URI or sqlite3 DBAPI2 connectionother DBAPI2 objects are not tested, please consider using SQLAlchemy\n",
      "  warnings.warn(\n"
     ]
    },
    {
     "name": "stdout",
     "output_type": "stream",
     "text": [
      "foi criado um df de tamanho 25425\n"
     ]
    },
    {
     "name": "stderr",
     "output_type": "stream",
     "text": [
      "C:\\ProgramData\\Anaconda3\\lib\\site-packages\\pandas\\io\\sql.py:761: UserWarning: pandas only support SQLAlchemy connectable(engine/connection) ordatabase string URI or sqlite3 DBAPI2 connectionother DBAPI2 objects are not tested, please consider using SQLAlchemy\n",
      "  warnings.warn(\n"
     ]
    },
    {
     "name": "stdout",
     "output_type": "stream",
     "text": [
      "foi criado um df de tamanho 25512\n"
     ]
    },
    {
     "name": "stderr",
     "output_type": "stream",
     "text": [
      "C:\\ProgramData\\Anaconda3\\lib\\site-packages\\pandas\\io\\sql.py:761: UserWarning: pandas only support SQLAlchemy connectable(engine/connection) ordatabase string URI or sqlite3 DBAPI2 connectionother DBAPI2 objects are not tested, please consider using SQLAlchemy\n",
      "  warnings.warn(\n"
     ]
    },
    {
     "name": "stdout",
     "output_type": "stream",
     "text": [
      "foi criado um df de tamanho 25603\n"
     ]
    },
    {
     "name": "stderr",
     "output_type": "stream",
     "text": [
      "C:\\ProgramData\\Anaconda3\\lib\\site-packages\\pandas\\io\\sql.py:761: UserWarning: pandas only support SQLAlchemy connectable(engine/connection) ordatabase string URI or sqlite3 DBAPI2 connectionother DBAPI2 objects are not tested, please consider using SQLAlchemy\n",
      "  warnings.warn(\n"
     ]
    },
    {
     "name": "stdout",
     "output_type": "stream",
     "text": [
      "foi criado um df de tamanho 25692\n"
     ]
    },
    {
     "name": "stderr",
     "output_type": "stream",
     "text": [
      "C:\\ProgramData\\Anaconda3\\lib\\site-packages\\pandas\\io\\sql.py:761: UserWarning: pandas only support SQLAlchemy connectable(engine/connection) ordatabase string URI or sqlite3 DBAPI2 connectionother DBAPI2 objects are not tested, please consider using SQLAlchemy\n",
      "  warnings.warn(\n"
     ]
    },
    {
     "name": "stdout",
     "output_type": "stream",
     "text": [
      "foi criado um df de tamanho 25789\n"
     ]
    },
    {
     "name": "stderr",
     "output_type": "stream",
     "text": [
      "C:\\ProgramData\\Anaconda3\\lib\\site-packages\\pandas\\io\\sql.py:761: UserWarning: pandas only support SQLAlchemy connectable(engine/connection) ordatabase string URI or sqlite3 DBAPI2 connectionother DBAPI2 objects are not tested, please consider using SQLAlchemy\n",
      "  warnings.warn(\n"
     ]
    },
    {
     "name": "stdout",
     "output_type": "stream",
     "text": [
      "foi criado um df de tamanho 25882\n"
     ]
    },
    {
     "name": "stderr",
     "output_type": "stream",
     "text": [
      "C:\\ProgramData\\Anaconda3\\lib\\site-packages\\pandas\\io\\sql.py:761: UserWarning: pandas only support SQLAlchemy connectable(engine/connection) ordatabase string URI or sqlite3 DBAPI2 connectionother DBAPI2 objects are not tested, please consider using SQLAlchemy\n",
      "  warnings.warn(\n"
     ]
    },
    {
     "name": "stdout",
     "output_type": "stream",
     "text": [
      "foi criado um df de tamanho 25971\n"
     ]
    },
    {
     "name": "stderr",
     "output_type": "stream",
     "text": [
      "C:\\ProgramData\\Anaconda3\\lib\\site-packages\\pandas\\io\\sql.py:761: UserWarning: pandas only support SQLAlchemy connectable(engine/connection) ordatabase string URI or sqlite3 DBAPI2 connectionother DBAPI2 objects are not tested, please consider using SQLAlchemy\n",
      "  warnings.warn(\n"
     ]
    },
    {
     "name": "stdout",
     "output_type": "stream",
     "text": [
      "foi criado um df de tamanho 26040\n"
     ]
    },
    {
     "name": "stderr",
     "output_type": "stream",
     "text": [
      "C:\\ProgramData\\Anaconda3\\lib\\site-packages\\pandas\\io\\sql.py:761: UserWarning: pandas only support SQLAlchemy connectable(engine/connection) ordatabase string URI or sqlite3 DBAPI2 connectionother DBAPI2 objects are not tested, please consider using SQLAlchemy\n",
      "  warnings.warn(\n"
     ]
    },
    {
     "name": "stdout",
     "output_type": "stream",
     "text": [
      "foi criado um df de tamanho 26121\n"
     ]
    },
    {
     "name": "stderr",
     "output_type": "stream",
     "text": [
      "C:\\ProgramData\\Anaconda3\\lib\\site-packages\\pandas\\io\\sql.py:761: UserWarning: pandas only support SQLAlchemy connectable(engine/connection) ordatabase string URI or sqlite3 DBAPI2 connectionother DBAPI2 objects are not tested, please consider using SQLAlchemy\n",
      "  warnings.warn(\n"
     ]
    },
    {
     "name": "stdout",
     "output_type": "stream",
     "text": [
      "foi criado um df de tamanho 26192\n"
     ]
    },
    {
     "name": "stderr",
     "output_type": "stream",
     "text": [
      "C:\\ProgramData\\Anaconda3\\lib\\site-packages\\pandas\\io\\sql.py:761: UserWarning: pandas only support SQLAlchemy connectable(engine/connection) ordatabase string URI or sqlite3 DBAPI2 connectionother DBAPI2 objects are not tested, please consider using SQLAlchemy\n",
      "  warnings.warn(\n"
     ]
    },
    {
     "name": "stdout",
     "output_type": "stream",
     "text": [
      "foi criado um df de tamanho 26202\n"
     ]
    },
    {
     "name": "stderr",
     "output_type": "stream",
     "text": [
      "C:\\ProgramData\\Anaconda3\\lib\\site-packages\\pandas\\io\\sql.py:761: UserWarning: pandas only support SQLAlchemy connectable(engine/connection) ordatabase string URI or sqlite3 DBAPI2 connectionother DBAPI2 objects are not tested, please consider using SQLAlchemy\n",
      "  warnings.warn(\n"
     ]
    },
    {
     "name": "stdout",
     "output_type": "stream",
     "text": [
      "foi criado um df de tamanho 26269\n"
     ]
    },
    {
     "name": "stderr",
     "output_type": "stream",
     "text": [
      "C:\\ProgramData\\Anaconda3\\lib\\site-packages\\pandas\\io\\sql.py:761: UserWarning: pandas only support SQLAlchemy connectable(engine/connection) ordatabase string URI or sqlite3 DBAPI2 connectionother DBAPI2 objects are not tested, please consider using SQLAlchemy\n",
      "  warnings.warn(\n"
     ]
    },
    {
     "name": "stdout",
     "output_type": "stream",
     "text": [
      "foi criado um df de tamanho 26359\n"
     ]
    },
    {
     "name": "stderr",
     "output_type": "stream",
     "text": [
      "C:\\ProgramData\\Anaconda3\\lib\\site-packages\\pandas\\io\\sql.py:761: UserWarning: pandas only support SQLAlchemy connectable(engine/connection) ordatabase string URI or sqlite3 DBAPI2 connectionother DBAPI2 objects are not tested, please consider using SQLAlchemy\n",
      "  warnings.warn(\n"
     ]
    },
    {
     "name": "stdout",
     "output_type": "stream",
     "text": [
      "foi criado um df de tamanho 26453\n"
     ]
    },
    {
     "name": "stderr",
     "output_type": "stream",
     "text": [
      "C:\\ProgramData\\Anaconda3\\lib\\site-packages\\pandas\\io\\sql.py:761: UserWarning: pandas only support SQLAlchemy connectable(engine/connection) ordatabase string URI or sqlite3 DBAPI2 connectionother DBAPI2 objects are not tested, please consider using SQLAlchemy\n",
      "  warnings.warn(\n"
     ]
    },
    {
     "name": "stdout",
     "output_type": "stream",
     "text": [
      "foi criado um df de tamanho 26547\n"
     ]
    },
    {
     "name": "stderr",
     "output_type": "stream",
     "text": [
      "C:\\ProgramData\\Anaconda3\\lib\\site-packages\\pandas\\io\\sql.py:761: UserWarning: pandas only support SQLAlchemy connectable(engine/connection) ordatabase string URI or sqlite3 DBAPI2 connectionother DBAPI2 objects are not tested, please consider using SQLAlchemy\n",
      "  warnings.warn(\n"
     ]
    },
    {
     "name": "stdout",
     "output_type": "stream",
     "text": [
      "foi criado um df de tamanho 26628\n"
     ]
    },
    {
     "name": "stderr",
     "output_type": "stream",
     "text": [
      "C:\\ProgramData\\Anaconda3\\lib\\site-packages\\pandas\\io\\sql.py:761: UserWarning: pandas only support SQLAlchemy connectable(engine/connection) ordatabase string URI or sqlite3 DBAPI2 connectionother DBAPI2 objects are not tested, please consider using SQLAlchemy\n",
      "  warnings.warn(\n"
     ]
    },
    {
     "name": "stdout",
     "output_type": "stream",
     "text": [
      "foi criado um df de tamanho 26739\n"
     ]
    },
    {
     "name": "stderr",
     "output_type": "stream",
     "text": [
      "C:\\ProgramData\\Anaconda3\\lib\\site-packages\\pandas\\io\\sql.py:761: UserWarning: pandas only support SQLAlchemy connectable(engine/connection) ordatabase string URI or sqlite3 DBAPI2 connectionother DBAPI2 objects are not tested, please consider using SQLAlchemy\n",
      "  warnings.warn(\n"
     ]
    },
    {
     "name": "stdout",
     "output_type": "stream",
     "text": [
      "foi criado um df de tamanho 26838\n"
     ]
    },
    {
     "name": "stderr",
     "output_type": "stream",
     "text": [
      "C:\\ProgramData\\Anaconda3\\lib\\site-packages\\pandas\\io\\sql.py:761: UserWarning: pandas only support SQLAlchemy connectable(engine/connection) ordatabase string URI or sqlite3 DBAPI2 connectionother DBAPI2 objects are not tested, please consider using SQLAlchemy\n",
      "  warnings.warn(\n"
     ]
    },
    {
     "name": "stdout",
     "output_type": "stream",
     "text": [
      "foi criado um df de tamanho 26941\n"
     ]
    },
    {
     "name": "stderr",
     "output_type": "stream",
     "text": [
      "C:\\ProgramData\\Anaconda3\\lib\\site-packages\\pandas\\io\\sql.py:761: UserWarning: pandas only support SQLAlchemy connectable(engine/connection) ordatabase string URI or sqlite3 DBAPI2 connectionother DBAPI2 objects are not tested, please consider using SQLAlchemy\n",
      "  warnings.warn(\n"
     ]
    },
    {
     "name": "stdout",
     "output_type": "stream",
     "text": [
      "foi criado um df de tamanho 27030\n"
     ]
    },
    {
     "name": "stderr",
     "output_type": "stream",
     "text": [
      "C:\\ProgramData\\Anaconda3\\lib\\site-packages\\pandas\\io\\sql.py:761: UserWarning: pandas only support SQLAlchemy connectable(engine/connection) ordatabase string URI or sqlite3 DBAPI2 connectionother DBAPI2 objects are not tested, please consider using SQLAlchemy\n",
      "  warnings.warn(\n"
     ]
    },
    {
     "name": "stdout",
     "output_type": "stream",
     "text": [
      "foi criado um df de tamanho 27139\n"
     ]
    },
    {
     "name": "stderr",
     "output_type": "stream",
     "text": [
      "C:\\ProgramData\\Anaconda3\\lib\\site-packages\\pandas\\io\\sql.py:761: UserWarning: pandas only support SQLAlchemy connectable(engine/connection) ordatabase string URI or sqlite3 DBAPI2 connectionother DBAPI2 objects are not tested, please consider using SQLAlchemy\n",
      "  warnings.warn(\n"
     ]
    },
    {
     "name": "stdout",
     "output_type": "stream",
     "text": [
      "foi criado um df de tamanho 27232\n"
     ]
    },
    {
     "name": "stderr",
     "output_type": "stream",
     "text": [
      "C:\\ProgramData\\Anaconda3\\lib\\site-packages\\pandas\\io\\sql.py:761: UserWarning: pandas only support SQLAlchemy connectable(engine/connection) ordatabase string URI or sqlite3 DBAPI2 connectionother DBAPI2 objects are not tested, please consider using SQLAlchemy\n",
      "  warnings.warn(\n"
     ]
    },
    {
     "name": "stdout",
     "output_type": "stream",
     "text": [
      "foi criado um df de tamanho 27332\n"
     ]
    },
    {
     "name": "stderr",
     "output_type": "stream",
     "text": [
      "C:\\ProgramData\\Anaconda3\\lib\\site-packages\\pandas\\io\\sql.py:761: UserWarning: pandas only support SQLAlchemy connectable(engine/connection) ordatabase string URI or sqlite3 DBAPI2 connectionother DBAPI2 objects are not tested, please consider using SQLAlchemy\n",
      "  warnings.warn(\n"
     ]
    },
    {
     "name": "stdout",
     "output_type": "stream",
     "text": [
      "foi criado um df de tamanho 27406\n"
     ]
    },
    {
     "name": "stderr",
     "output_type": "stream",
     "text": [
      "C:\\ProgramData\\Anaconda3\\lib\\site-packages\\pandas\\io\\sql.py:761: UserWarning: pandas only support SQLAlchemy connectable(engine/connection) ordatabase string URI or sqlite3 DBAPI2 connectionother DBAPI2 objects are not tested, please consider using SQLAlchemy\n",
      "  warnings.warn(\n"
     ]
    },
    {
     "name": "stdout",
     "output_type": "stream",
     "text": [
      "foi criado um df de tamanho 27495\n"
     ]
    },
    {
     "name": "stderr",
     "output_type": "stream",
     "text": [
      "C:\\ProgramData\\Anaconda3\\lib\\site-packages\\pandas\\io\\sql.py:761: UserWarning: pandas only support SQLAlchemy connectable(engine/connection) ordatabase string URI or sqlite3 DBAPI2 connectionother DBAPI2 objects are not tested, please consider using SQLAlchemy\n",
      "  warnings.warn(\n"
     ]
    },
    {
     "name": "stdout",
     "output_type": "stream",
     "text": [
      "foi criado um df de tamanho 27575\n"
     ]
    },
    {
     "name": "stderr",
     "output_type": "stream",
     "text": [
      "C:\\ProgramData\\Anaconda3\\lib\\site-packages\\pandas\\io\\sql.py:761: UserWarning: pandas only support SQLAlchemy connectable(engine/connection) ordatabase string URI or sqlite3 DBAPI2 connectionother DBAPI2 objects are not tested, please consider using SQLAlchemy\n",
      "  warnings.warn(\n"
     ]
    },
    {
     "name": "stdout",
     "output_type": "stream",
     "text": [
      "foi criado um df de tamanho 27619\n"
     ]
    },
    {
     "name": "stderr",
     "output_type": "stream",
     "text": [
      "C:\\ProgramData\\Anaconda3\\lib\\site-packages\\pandas\\io\\sql.py:761: UserWarning: pandas only support SQLAlchemy connectable(engine/connection) ordatabase string URI or sqlite3 DBAPI2 connectionother DBAPI2 objects are not tested, please consider using SQLAlchemy\n",
      "  warnings.warn(\n"
     ]
    },
    {
     "name": "stdout",
     "output_type": "stream",
     "text": [
      "foi criado um df de tamanho 27887\n"
     ]
    },
    {
     "name": "stderr",
     "output_type": "stream",
     "text": [
      "C:\\ProgramData\\Anaconda3\\lib\\site-packages\\pandas\\io\\sql.py:761: UserWarning: pandas only support SQLAlchemy connectable(engine/connection) ordatabase string URI or sqlite3 DBAPI2 connectionother DBAPI2 objects are not tested, please consider using SQLAlchemy\n",
      "  warnings.warn(\n"
     ]
    },
    {
     "name": "stdout",
     "output_type": "stream",
     "text": [
      "foi criado um df de tamanho 28197\n"
     ]
    },
    {
     "name": "stderr",
     "output_type": "stream",
     "text": [
      "C:\\ProgramData\\Anaconda3\\lib\\site-packages\\pandas\\io\\sql.py:761: UserWarning: pandas only support SQLAlchemy connectable(engine/connection) ordatabase string URI or sqlite3 DBAPI2 connectionother DBAPI2 objects are not tested, please consider using SQLAlchemy\n",
      "  warnings.warn(\n"
     ]
    },
    {
     "name": "stdout",
     "output_type": "stream",
     "text": [
      "foi criado um df de tamanho 28518\n"
     ]
    },
    {
     "name": "stderr",
     "output_type": "stream",
     "text": [
      "C:\\ProgramData\\Anaconda3\\lib\\site-packages\\pandas\\io\\sql.py:761: UserWarning: pandas only support SQLAlchemy connectable(engine/connection) ordatabase string URI or sqlite3 DBAPI2 connectionother DBAPI2 objects are not tested, please consider using SQLAlchemy\n",
      "  warnings.warn(\n"
     ]
    },
    {
     "name": "stdout",
     "output_type": "stream",
     "text": [
      "foi criado um df de tamanho 28863\n"
     ]
    },
    {
     "name": "stderr",
     "output_type": "stream",
     "text": [
      "C:\\ProgramData\\Anaconda3\\lib\\site-packages\\pandas\\io\\sql.py:761: UserWarning: pandas only support SQLAlchemy connectable(engine/connection) ordatabase string URI or sqlite3 DBAPI2 connectionother DBAPI2 objects are not tested, please consider using SQLAlchemy\n",
      "  warnings.warn(\n"
     ]
    },
    {
     "name": "stdout",
     "output_type": "stream",
     "text": [
      "foi criado um df de tamanho 29279\n"
     ]
    },
    {
     "name": "stderr",
     "output_type": "stream",
     "text": [
      "C:\\ProgramData\\Anaconda3\\lib\\site-packages\\pandas\\io\\sql.py:761: UserWarning: pandas only support SQLAlchemy connectable(engine/connection) ordatabase string URI or sqlite3 DBAPI2 connectionother DBAPI2 objects are not tested, please consider using SQLAlchemy\n",
      "  warnings.warn(\n"
     ]
    },
    {
     "name": "stdout",
     "output_type": "stream",
     "text": [
      "foi criado um df de tamanho 29767\n"
     ]
    },
    {
     "name": "stderr",
     "output_type": "stream",
     "text": [
      "C:\\ProgramData\\Anaconda3\\lib\\site-packages\\pandas\\io\\sql.py:761: UserWarning: pandas only support SQLAlchemy connectable(engine/connection) ordatabase string URI or sqlite3 DBAPI2 connectionother DBAPI2 objects are not tested, please consider using SQLAlchemy\n",
      "  warnings.warn(\n"
     ]
    },
    {
     "name": "stdout",
     "output_type": "stream",
     "text": [
      "foi criado um df de tamanho 30184\n"
     ]
    },
    {
     "name": "stderr",
     "output_type": "stream",
     "text": [
      "C:\\ProgramData\\Anaconda3\\lib\\site-packages\\pandas\\io\\sql.py:761: UserWarning: pandas only support SQLAlchemy connectable(engine/connection) ordatabase string URI or sqlite3 DBAPI2 connectionother DBAPI2 objects are not tested, please consider using SQLAlchemy\n",
      "  warnings.warn(\n"
     ]
    },
    {
     "name": "stdout",
     "output_type": "stream",
     "text": [
      "foi criado um df de tamanho 30615\n"
     ]
    },
    {
     "name": "stderr",
     "output_type": "stream",
     "text": [
      "C:\\ProgramData\\Anaconda3\\lib\\site-packages\\pandas\\io\\sql.py:761: UserWarning: pandas only support SQLAlchemy connectable(engine/connection) ordatabase string URI or sqlite3 DBAPI2 connectionother DBAPI2 objects are not tested, please consider using SQLAlchemy\n",
      "  warnings.warn(\n"
     ]
    },
    {
     "name": "stdout",
     "output_type": "stream",
     "text": [
      "foi criado um df de tamanho 30974\n"
     ]
    },
    {
     "name": "stderr",
     "output_type": "stream",
     "text": [
      "C:\\ProgramData\\Anaconda3\\lib\\site-packages\\pandas\\io\\sql.py:761: UserWarning: pandas only support SQLAlchemy connectable(engine/connection) ordatabase string URI or sqlite3 DBAPI2 connectionother DBAPI2 objects are not tested, please consider using SQLAlchemy\n",
      "  warnings.warn(\n"
     ]
    },
    {
     "name": "stdout",
     "output_type": "stream",
     "text": [
      "foi criado um df de tamanho 31393\n"
     ]
    },
    {
     "name": "stderr",
     "output_type": "stream",
     "text": [
      "C:\\ProgramData\\Anaconda3\\lib\\site-packages\\pandas\\io\\sql.py:761: UserWarning: pandas only support SQLAlchemy connectable(engine/connection) ordatabase string URI or sqlite3 DBAPI2 connectionother DBAPI2 objects are not tested, please consider using SQLAlchemy\n",
      "  warnings.warn(\n"
     ]
    },
    {
     "name": "stdout",
     "output_type": "stream",
     "text": [
      "foi criado um df de tamanho 31777\n"
     ]
    },
    {
     "name": "stderr",
     "output_type": "stream",
     "text": [
      "C:\\ProgramData\\Anaconda3\\lib\\site-packages\\pandas\\io\\sql.py:761: UserWarning: pandas only support SQLAlchemy connectable(engine/connection) ordatabase string URI or sqlite3 DBAPI2 connectionother DBAPI2 objects are not tested, please consider using SQLAlchemy\n",
      "  warnings.warn(\n"
     ]
    },
    {
     "name": "stdout",
     "output_type": "stream",
     "text": [
      "foi criado um df de tamanho 32151\n"
     ]
    },
    {
     "name": "stderr",
     "output_type": "stream",
     "text": [
      "C:\\ProgramData\\Anaconda3\\lib\\site-packages\\pandas\\io\\sql.py:761: UserWarning: pandas only support SQLAlchemy connectable(engine/connection) ordatabase string URI or sqlite3 DBAPI2 connectionother DBAPI2 objects are not tested, please consider using SQLAlchemy\n",
      "  warnings.warn(\n"
     ]
    },
    {
     "name": "stdout",
     "output_type": "stream",
     "text": [
      "foi criado um df de tamanho 32452\n"
     ]
    },
    {
     "name": "stderr",
     "output_type": "stream",
     "text": [
      "C:\\ProgramData\\Anaconda3\\lib\\site-packages\\pandas\\io\\sql.py:761: UserWarning: pandas only support SQLAlchemy connectable(engine/connection) ordatabase string URI or sqlite3 DBAPI2 connectionother DBAPI2 objects are not tested, please consider using SQLAlchemy\n",
      "  warnings.warn(\n"
     ]
    },
    {
     "name": "stdout",
     "output_type": "stream",
     "text": [
      "foi criado um df de tamanho 32831\n"
     ]
    },
    {
     "name": "stderr",
     "output_type": "stream",
     "text": [
      "C:\\ProgramData\\Anaconda3\\lib\\site-packages\\pandas\\io\\sql.py:761: UserWarning: pandas only support SQLAlchemy connectable(engine/connection) ordatabase string URI or sqlite3 DBAPI2 connectionother DBAPI2 objects are not tested, please consider using SQLAlchemy\n",
      "  warnings.warn(\n"
     ]
    },
    {
     "name": "stdout",
     "output_type": "stream",
     "text": [
      "foi criado um df de tamanho 33163\n"
     ]
    },
    {
     "name": "stderr",
     "output_type": "stream",
     "text": [
      "C:\\ProgramData\\Anaconda3\\lib\\site-packages\\pandas\\io\\sql.py:761: UserWarning: pandas only support SQLAlchemy connectable(engine/connection) ordatabase string URI or sqlite3 DBAPI2 connectionother DBAPI2 objects are not tested, please consider using SQLAlchemy\n",
      "  warnings.warn(\n"
     ]
    },
    {
     "name": "stdout",
     "output_type": "stream",
     "text": [
      "foi criado um df de tamanho 33252\n"
     ]
    },
    {
     "name": "stderr",
     "output_type": "stream",
     "text": [
      "C:\\ProgramData\\Anaconda3\\lib\\site-packages\\pandas\\io\\sql.py:761: UserWarning: pandas only support SQLAlchemy connectable(engine/connection) ordatabase string URI or sqlite3 DBAPI2 connectionother DBAPI2 objects are not tested, please consider using SQLAlchemy\n",
      "  warnings.warn(\n"
     ]
    },
    {
     "name": "stdout",
     "output_type": "stream",
     "text": [
      "foi criado um df de tamanho 33683\n"
     ]
    },
    {
     "name": "stderr",
     "output_type": "stream",
     "text": [
      "C:\\ProgramData\\Anaconda3\\lib\\site-packages\\pandas\\io\\sql.py:761: UserWarning: pandas only support SQLAlchemy connectable(engine/connection) ordatabase string URI or sqlite3 DBAPI2 connectionother DBAPI2 objects are not tested, please consider using SQLAlchemy\n",
      "  warnings.warn(\n"
     ]
    },
    {
     "name": "stdout",
     "output_type": "stream",
     "text": [
      "foi criado um df de tamanho 34178\n"
     ]
    },
    {
     "name": "stderr",
     "output_type": "stream",
     "text": [
      "C:\\ProgramData\\Anaconda3\\lib\\site-packages\\pandas\\io\\sql.py:761: UserWarning: pandas only support SQLAlchemy connectable(engine/connection) ordatabase string URI or sqlite3 DBAPI2 connectionother DBAPI2 objects are not tested, please consider using SQLAlchemy\n",
      "  warnings.warn(\n"
     ]
    },
    {
     "name": "stdout",
     "output_type": "stream",
     "text": [
      "foi criado um df de tamanho 34678\n"
     ]
    },
    {
     "name": "stderr",
     "output_type": "stream",
     "text": [
      "C:\\ProgramData\\Anaconda3\\lib\\site-packages\\pandas\\io\\sql.py:761: UserWarning: pandas only support SQLAlchemy connectable(engine/connection) ordatabase string URI or sqlite3 DBAPI2 connectionother DBAPI2 objects are not tested, please consider using SQLAlchemy\n",
      "  warnings.warn(\n"
     ]
    },
    {
     "name": "stdout",
     "output_type": "stream",
     "text": [
      "foi criado um df de tamanho 35199\n"
     ]
    },
    {
     "name": "stderr",
     "output_type": "stream",
     "text": [
      "C:\\ProgramData\\Anaconda3\\lib\\site-packages\\pandas\\io\\sql.py:761: UserWarning: pandas only support SQLAlchemy connectable(engine/connection) ordatabase string URI or sqlite3 DBAPI2 connectionother DBAPI2 objects are not tested, please consider using SQLAlchemy\n",
      "  warnings.warn(\n"
     ]
    },
    {
     "name": "stdout",
     "output_type": "stream",
     "text": [
      "foi criado um df de tamanho 35934\n"
     ]
    },
    {
     "name": "stderr",
     "output_type": "stream",
     "text": [
      "C:\\ProgramData\\Anaconda3\\lib\\site-packages\\pandas\\io\\sql.py:761: UserWarning: pandas only support SQLAlchemy connectable(engine/connection) ordatabase string URI or sqlite3 DBAPI2 connectionother DBAPI2 objects are not tested, please consider using SQLAlchemy\n",
      "  warnings.warn(\n"
     ]
    },
    {
     "name": "stdout",
     "output_type": "stream",
     "text": [
      "foi criado um df de tamanho 36780\n"
     ]
    },
    {
     "name": "stderr",
     "output_type": "stream",
     "text": [
      "C:\\ProgramData\\Anaconda3\\lib\\site-packages\\pandas\\io\\sql.py:761: UserWarning: pandas only support SQLAlchemy connectable(engine/connection) ordatabase string URI or sqlite3 DBAPI2 connectionother DBAPI2 objects are not tested, please consider using SQLAlchemy\n",
      "  warnings.warn(\n"
     ]
    },
    {
     "name": "stdout",
     "output_type": "stream",
     "text": [
      "foi criado um df de tamanho 37576\n"
     ]
    },
    {
     "name": "stderr",
     "output_type": "stream",
     "text": [
      "C:\\ProgramData\\Anaconda3\\lib\\site-packages\\pandas\\io\\sql.py:761: UserWarning: pandas only support SQLAlchemy connectable(engine/connection) ordatabase string URI or sqlite3 DBAPI2 connectionother DBAPI2 objects are not tested, please consider using SQLAlchemy\n",
      "  warnings.warn(\n"
     ]
    },
    {
     "name": "stdout",
     "output_type": "stream",
     "text": [
      "foi criado um df de tamanho 38361\n"
     ]
    },
    {
     "name": "stderr",
     "output_type": "stream",
     "text": [
      "C:\\ProgramData\\Anaconda3\\lib\\site-packages\\pandas\\io\\sql.py:761: UserWarning: pandas only support SQLAlchemy connectable(engine/connection) ordatabase string URI or sqlite3 DBAPI2 connectionother DBAPI2 objects are not tested, please consider using SQLAlchemy\n",
      "  warnings.warn(\n"
     ]
    },
    {
     "name": "stdout",
     "output_type": "stream",
     "text": [
      "foi criado um df de tamanho 39047\n"
     ]
    },
    {
     "name": "stderr",
     "output_type": "stream",
     "text": [
      "C:\\ProgramData\\Anaconda3\\lib\\site-packages\\pandas\\io\\sql.py:761: UserWarning: pandas only support SQLAlchemy connectable(engine/connection) ordatabase string URI or sqlite3 DBAPI2 connectionother DBAPI2 objects are not tested, please consider using SQLAlchemy\n",
      "  warnings.warn(\n"
     ]
    },
    {
     "name": "stdout",
     "output_type": "stream",
     "text": [
      "foi criado um df de tamanho 39844\n"
     ]
    },
    {
     "name": "stderr",
     "output_type": "stream",
     "text": [
      "C:\\ProgramData\\Anaconda3\\lib\\site-packages\\pandas\\io\\sql.py:761: UserWarning: pandas only support SQLAlchemy connectable(engine/connection) ordatabase string URI or sqlite3 DBAPI2 connectionother DBAPI2 objects are not tested, please consider using SQLAlchemy\n",
      "  warnings.warn(\n"
     ]
    },
    {
     "name": "stdout",
     "output_type": "stream",
     "text": [
      "foi criado um df de tamanho 40596\n"
     ]
    },
    {
     "name": "stderr",
     "output_type": "stream",
     "text": [
      "C:\\ProgramData\\Anaconda3\\lib\\site-packages\\pandas\\io\\sql.py:761: UserWarning: pandas only support SQLAlchemy connectable(engine/connection) ordatabase string URI or sqlite3 DBAPI2 connectionother DBAPI2 objects are not tested, please consider using SQLAlchemy\n",
      "  warnings.warn(\n"
     ]
    },
    {
     "name": "stdout",
     "output_type": "stream",
     "text": [
      "foi criado um df de tamanho 41355\n"
     ]
    },
    {
     "name": "stderr",
     "output_type": "stream",
     "text": [
      "C:\\ProgramData\\Anaconda3\\lib\\site-packages\\pandas\\io\\sql.py:761: UserWarning: pandas only support SQLAlchemy connectable(engine/connection) ordatabase string URI or sqlite3 DBAPI2 connectionother DBAPI2 objects are not tested, please consider using SQLAlchemy\n",
      "  warnings.warn(\n"
     ]
    },
    {
     "name": "stdout",
     "output_type": "stream",
     "text": [
      "foi criado um df de tamanho 41934\n"
     ]
    },
    {
     "name": "stderr",
     "output_type": "stream",
     "text": [
      "C:\\ProgramData\\Anaconda3\\lib\\site-packages\\pandas\\io\\sql.py:761: UserWarning: pandas only support SQLAlchemy connectable(engine/connection) ordatabase string URI or sqlite3 DBAPI2 connectionother DBAPI2 objects are not tested, please consider using SQLAlchemy\n",
      "  warnings.warn(\n"
     ]
    },
    {
     "name": "stdout",
     "output_type": "stream",
     "text": [
      "foi criado um df de tamanho 42596\n"
     ]
    },
    {
     "name": "stderr",
     "output_type": "stream",
     "text": [
      "C:\\ProgramData\\Anaconda3\\lib\\site-packages\\pandas\\io\\sql.py:761: UserWarning: pandas only support SQLAlchemy connectable(engine/connection) ordatabase string URI or sqlite3 DBAPI2 connectionother DBAPI2 objects are not tested, please consider using SQLAlchemy\n",
      "  warnings.warn(\n"
     ]
    },
    {
     "name": "stdout",
     "output_type": "stream",
     "text": [
      "foi criado um df de tamanho 43209\n"
     ]
    },
    {
     "name": "stderr",
     "output_type": "stream",
     "text": [
      "C:\\ProgramData\\Anaconda3\\lib\\site-packages\\pandas\\io\\sql.py:761: UserWarning: pandas only support SQLAlchemy connectable(engine/connection) ordatabase string URI or sqlite3 DBAPI2 connectionother DBAPI2 objects are not tested, please consider using SQLAlchemy\n",
      "  warnings.warn(\n"
     ]
    },
    {
     "name": "stdout",
     "output_type": "stream",
     "text": [
      "foi criado um df de tamanho 43225\n"
     ]
    },
    {
     "name": "stderr",
     "output_type": "stream",
     "text": [
      "C:\\ProgramData\\Anaconda3\\lib\\site-packages\\pandas\\io\\sql.py:761: UserWarning: pandas only support SQLAlchemy connectable(engine/connection) ordatabase string URI or sqlite3 DBAPI2 connectionother DBAPI2 objects are not tested, please consider using SQLAlchemy\n",
      "  warnings.warn(\n"
     ]
    },
    {
     "name": "stdout",
     "output_type": "stream",
     "text": [
      "foi criado um df de tamanho 43262\n"
     ]
    },
    {
     "name": "stderr",
     "output_type": "stream",
     "text": [
      "C:\\ProgramData\\Anaconda3\\lib\\site-packages\\pandas\\io\\sql.py:761: UserWarning: pandas only support SQLAlchemy connectable(engine/connection) ordatabase string URI or sqlite3 DBAPI2 connectionother DBAPI2 objects are not tested, please consider using SQLAlchemy\n",
      "  warnings.warn(\n"
     ]
    },
    {
     "name": "stdout",
     "output_type": "stream",
     "text": [
      "foi criado um df de tamanho 43304\n"
     ]
    },
    {
     "name": "stderr",
     "output_type": "stream",
     "text": [
      "C:\\ProgramData\\Anaconda3\\lib\\site-packages\\pandas\\io\\sql.py:761: UserWarning: pandas only support SQLAlchemy connectable(engine/connection) ordatabase string URI or sqlite3 DBAPI2 connectionother DBAPI2 objects are not tested, please consider using SQLAlchemy\n",
      "  warnings.warn(\n"
     ]
    },
    {
     "name": "stdout",
     "output_type": "stream",
     "text": [
      "foi criado um df de tamanho 43352\n"
     ]
    },
    {
     "name": "stderr",
     "output_type": "stream",
     "text": [
      "C:\\ProgramData\\Anaconda3\\lib\\site-packages\\pandas\\io\\sql.py:761: UserWarning: pandas only support SQLAlchemy connectable(engine/connection) ordatabase string URI or sqlite3 DBAPI2 connectionother DBAPI2 objects are not tested, please consider using SQLAlchemy\n",
      "  warnings.warn(\n"
     ]
    },
    {
     "name": "stdout",
     "output_type": "stream",
     "text": [
      "foi criado um df de tamanho 43396\n"
     ]
    },
    {
     "name": "stderr",
     "output_type": "stream",
     "text": [
      "C:\\ProgramData\\Anaconda3\\lib\\site-packages\\pandas\\io\\sql.py:761: UserWarning: pandas only support SQLAlchemy connectable(engine/connection) ordatabase string URI or sqlite3 DBAPI2 connectionother DBAPI2 objects are not tested, please consider using SQLAlchemy\n",
      "  warnings.warn(\n"
     ]
    },
    {
     "name": "stdout",
     "output_type": "stream",
     "text": [
      "foi criado um df de tamanho 43481\n"
     ]
    },
    {
     "name": "stderr",
     "output_type": "stream",
     "text": [
      "C:\\ProgramData\\Anaconda3\\lib\\site-packages\\pandas\\io\\sql.py:761: UserWarning: pandas only support SQLAlchemy connectable(engine/connection) ordatabase string URI or sqlite3 DBAPI2 connectionother DBAPI2 objects are not tested, please consider using SQLAlchemy\n",
      "  warnings.warn(\n"
     ]
    },
    {
     "name": "stdout",
     "output_type": "stream",
     "text": [
      "foi criado um df de tamanho 43586\n"
     ]
    },
    {
     "name": "stderr",
     "output_type": "stream",
     "text": [
      "C:\\ProgramData\\Anaconda3\\lib\\site-packages\\pandas\\io\\sql.py:761: UserWarning: pandas only support SQLAlchemy connectable(engine/connection) ordatabase string URI or sqlite3 DBAPI2 connectionother DBAPI2 objects are not tested, please consider using SQLAlchemy\n",
      "  warnings.warn(\n"
     ]
    },
    {
     "name": "stdout",
     "output_type": "stream",
     "text": [
      "foi criado um df de tamanho 43686\n"
     ]
    },
    {
     "name": "stderr",
     "output_type": "stream",
     "text": [
      "C:\\ProgramData\\Anaconda3\\lib\\site-packages\\pandas\\io\\sql.py:761: UserWarning: pandas only support SQLAlchemy connectable(engine/connection) ordatabase string URI or sqlite3 DBAPI2 connectionother DBAPI2 objects are not tested, please consider using SQLAlchemy\n",
      "  warnings.warn(\n"
     ]
    },
    {
     "name": "stdout",
     "output_type": "stream",
     "text": [
      "foi criado um df de tamanho 43802\n"
     ]
    },
    {
     "name": "stderr",
     "output_type": "stream",
     "text": [
      "C:\\ProgramData\\Anaconda3\\lib\\site-packages\\pandas\\io\\sql.py:761: UserWarning: pandas only support SQLAlchemy connectable(engine/connection) ordatabase string URI or sqlite3 DBAPI2 connectionother DBAPI2 objects are not tested, please consider using SQLAlchemy\n",
      "  warnings.warn(\n"
     ]
    },
    {
     "name": "stdout",
     "output_type": "stream",
     "text": [
      "foi criado um df de tamanho 43890\n"
     ]
    },
    {
     "name": "stderr",
     "output_type": "stream",
     "text": [
      "C:\\ProgramData\\Anaconda3\\lib\\site-packages\\pandas\\io\\sql.py:761: UserWarning: pandas only support SQLAlchemy connectable(engine/connection) ordatabase string URI or sqlite3 DBAPI2 connectionother DBAPI2 objects are not tested, please consider using SQLAlchemy\n",
      "  warnings.warn(\n"
     ]
    },
    {
     "name": "stdout",
     "output_type": "stream",
     "text": [
      "foi criado um df de tamanho 43998\n"
     ]
    },
    {
     "name": "stderr",
     "output_type": "stream",
     "text": [
      "C:\\ProgramData\\Anaconda3\\lib\\site-packages\\pandas\\io\\sql.py:761: UserWarning: pandas only support SQLAlchemy connectable(engine/connection) ordatabase string URI or sqlite3 DBAPI2 connectionother DBAPI2 objects are not tested, please consider using SQLAlchemy\n",
      "  warnings.warn(\n"
     ]
    },
    {
     "name": "stdout",
     "output_type": "stream",
     "text": [
      "foi criado um df de tamanho 44089\n"
     ]
    },
    {
     "name": "stderr",
     "output_type": "stream",
     "text": [
      "C:\\ProgramData\\Anaconda3\\lib\\site-packages\\pandas\\io\\sql.py:761: UserWarning: pandas only support SQLAlchemy connectable(engine/connection) ordatabase string URI or sqlite3 DBAPI2 connectionother DBAPI2 objects are not tested, please consider using SQLAlchemy\n",
      "  warnings.warn(\n"
     ]
    },
    {
     "name": "stdout",
     "output_type": "stream",
     "text": [
      "foi criado um df de tamanho 44182\n"
     ]
    },
    {
     "name": "stderr",
     "output_type": "stream",
     "text": [
      "C:\\ProgramData\\Anaconda3\\lib\\site-packages\\pandas\\io\\sql.py:761: UserWarning: pandas only support SQLAlchemy connectable(engine/connection) ordatabase string URI or sqlite3 DBAPI2 connectionother DBAPI2 objects are not tested, please consider using SQLAlchemy\n",
      "  warnings.warn(\n"
     ]
    },
    {
     "name": "stdout",
     "output_type": "stream",
     "text": [
      "foi criado um df de tamanho 44253\n"
     ]
    },
    {
     "name": "stderr",
     "output_type": "stream",
     "text": [
      "C:\\ProgramData\\Anaconda3\\lib\\site-packages\\pandas\\io\\sql.py:761: UserWarning: pandas only support SQLAlchemy connectable(engine/connection) ordatabase string URI or sqlite3 DBAPI2 connectionother DBAPI2 objects are not tested, please consider using SQLAlchemy\n",
      "  warnings.warn(\n"
     ]
    },
    {
     "name": "stdout",
     "output_type": "stream",
     "text": [
      "foi criado um df de tamanho 44329\n"
     ]
    },
    {
     "name": "stderr",
     "output_type": "stream",
     "text": [
      "C:\\ProgramData\\Anaconda3\\lib\\site-packages\\pandas\\io\\sql.py:761: UserWarning: pandas only support SQLAlchemy connectable(engine/connection) ordatabase string URI or sqlite3 DBAPI2 connectionother DBAPI2 objects are not tested, please consider using SQLAlchemy\n",
      "  warnings.warn(\n"
     ]
    },
    {
     "name": "stdout",
     "output_type": "stream",
     "text": [
      "foi criado um df de tamanho 44394\n"
     ]
    },
    {
     "name": "stderr",
     "output_type": "stream",
     "text": [
      "C:\\ProgramData\\Anaconda3\\lib\\site-packages\\pandas\\io\\sql.py:761: UserWarning: pandas only support SQLAlchemy connectable(engine/connection) ordatabase string URI or sqlite3 DBAPI2 connectionother DBAPI2 objects are not tested, please consider using SQLAlchemy\n",
      "  warnings.warn(\n"
     ]
    },
    {
     "name": "stdout",
     "output_type": "stream",
     "text": [
      "foi criado um df de tamanho 44402\n"
     ]
    },
    {
     "name": "stderr",
     "output_type": "stream",
     "text": [
      "C:\\ProgramData\\Anaconda3\\lib\\site-packages\\pandas\\io\\sql.py:761: UserWarning: pandas only support SQLAlchemy connectable(engine/connection) ordatabase string URI or sqlite3 DBAPI2 connectionother DBAPI2 objects are not tested, please consider using SQLAlchemy\n",
      "  warnings.warn(\n"
     ]
    },
    {
     "name": "stdout",
     "output_type": "stream",
     "text": [
      "foi criado um df de tamanho 44460\n"
     ]
    },
    {
     "name": "stderr",
     "output_type": "stream",
     "text": [
      "C:\\ProgramData\\Anaconda3\\lib\\site-packages\\pandas\\io\\sql.py:761: UserWarning: pandas only support SQLAlchemy connectable(engine/connection) ordatabase string URI or sqlite3 DBAPI2 connectionother DBAPI2 objects are not tested, please consider using SQLAlchemy\n",
      "  warnings.warn(\n"
     ]
    },
    {
     "name": "stdout",
     "output_type": "stream",
     "text": [
      "foi criado um df de tamanho 44534\n"
     ]
    },
    {
     "name": "stderr",
     "output_type": "stream",
     "text": [
      "C:\\ProgramData\\Anaconda3\\lib\\site-packages\\pandas\\io\\sql.py:761: UserWarning: pandas only support SQLAlchemy connectable(engine/connection) ordatabase string URI or sqlite3 DBAPI2 connectionother DBAPI2 objects are not tested, please consider using SQLAlchemy\n",
      "  warnings.warn(\n"
     ]
    },
    {
     "name": "stdout",
     "output_type": "stream",
     "text": [
      "foi criado um df de tamanho 44596\n"
     ]
    },
    {
     "name": "stderr",
     "output_type": "stream",
     "text": [
      "C:\\ProgramData\\Anaconda3\\lib\\site-packages\\pandas\\io\\sql.py:761: UserWarning: pandas only support SQLAlchemy connectable(engine/connection) ordatabase string URI or sqlite3 DBAPI2 connectionother DBAPI2 objects are not tested, please consider using SQLAlchemy\n",
      "  warnings.warn(\n"
     ]
    },
    {
     "name": "stdout",
     "output_type": "stream",
     "text": [
      "foi criado um df de tamanho 44688\n"
     ]
    },
    {
     "name": "stderr",
     "output_type": "stream",
     "text": [
      "C:\\ProgramData\\Anaconda3\\lib\\site-packages\\pandas\\io\\sql.py:761: UserWarning: pandas only support SQLAlchemy connectable(engine/connection) ordatabase string URI or sqlite3 DBAPI2 connectionother DBAPI2 objects are not tested, please consider using SQLAlchemy\n",
      "  warnings.warn(\n"
     ]
    },
    {
     "name": "stdout",
     "output_type": "stream",
     "text": [
      "foi criado um df de tamanho 44849\n"
     ]
    },
    {
     "name": "stderr",
     "output_type": "stream",
     "text": [
      "C:\\ProgramData\\Anaconda3\\lib\\site-packages\\pandas\\io\\sql.py:761: UserWarning: pandas only support SQLAlchemy connectable(engine/connection) ordatabase string URI or sqlite3 DBAPI2 connectionother DBAPI2 objects are not tested, please consider using SQLAlchemy\n",
      "  warnings.warn(\n"
     ]
    },
    {
     "name": "stdout",
     "output_type": "stream",
     "text": [
      "foi criado um df de tamanho 45035\n"
     ]
    },
    {
     "name": "stderr",
     "output_type": "stream",
     "text": [
      "C:\\ProgramData\\Anaconda3\\lib\\site-packages\\pandas\\io\\sql.py:761: UserWarning: pandas only support SQLAlchemy connectable(engine/connection) ordatabase string URI or sqlite3 DBAPI2 connectionother DBAPI2 objects are not tested, please consider using SQLAlchemy\n",
      "  warnings.warn(\n"
     ]
    },
    {
     "name": "stdout",
     "output_type": "stream",
     "text": [
      "foi criado um df de tamanho 45193\n"
     ]
    },
    {
     "name": "stderr",
     "output_type": "stream",
     "text": [
      "C:\\ProgramData\\Anaconda3\\lib\\site-packages\\pandas\\io\\sql.py:761: UserWarning: pandas only support SQLAlchemy connectable(engine/connection) ordatabase string URI or sqlite3 DBAPI2 connectionother DBAPI2 objects are not tested, please consider using SQLAlchemy\n",
      "  warnings.warn(\n"
     ]
    },
    {
     "name": "stdout",
     "output_type": "stream",
     "text": [
      "foi criado um df de tamanho 45352\n"
     ]
    },
    {
     "name": "stderr",
     "output_type": "stream",
     "text": [
      "C:\\ProgramData\\Anaconda3\\lib\\site-packages\\pandas\\io\\sql.py:761: UserWarning: pandas only support SQLAlchemy connectable(engine/connection) ordatabase string URI or sqlite3 DBAPI2 connectionother DBAPI2 objects are not tested, please consider using SQLAlchemy\n",
      "  warnings.warn(\n"
     ]
    },
    {
     "name": "stdout",
     "output_type": "stream",
     "text": [
      "foi criado um df de tamanho 45487\n"
     ]
    },
    {
     "name": "stderr",
     "output_type": "stream",
     "text": [
      "C:\\ProgramData\\Anaconda3\\lib\\site-packages\\pandas\\io\\sql.py:761: UserWarning: pandas only support SQLAlchemy connectable(engine/connection) ordatabase string URI or sqlite3 DBAPI2 connectionother DBAPI2 objects are not tested, please consider using SQLAlchemy\n",
      "  warnings.warn(\n"
     ]
    },
    {
     "name": "stdout",
     "output_type": "stream",
     "text": [
      "foi criado um df de tamanho 45645\n"
     ]
    },
    {
     "name": "stderr",
     "output_type": "stream",
     "text": [
      "C:\\ProgramData\\Anaconda3\\lib\\site-packages\\pandas\\io\\sql.py:761: UserWarning: pandas only support SQLAlchemy connectable(engine/connection) ordatabase string URI or sqlite3 DBAPI2 connectionother DBAPI2 objects are not tested, please consider using SQLAlchemy\n",
      "  warnings.warn(\n"
     ]
    },
    {
     "name": "stdout",
     "output_type": "stream",
     "text": [
      "foi criado um df de tamanho 45788\n"
     ]
    },
    {
     "name": "stderr",
     "output_type": "stream",
     "text": [
      "C:\\ProgramData\\Anaconda3\\lib\\site-packages\\pandas\\io\\sql.py:761: UserWarning: pandas only support SQLAlchemy connectable(engine/connection) ordatabase string URI or sqlite3 DBAPI2 connectionother DBAPI2 objects are not tested, please consider using SQLAlchemy\n",
      "  warnings.warn(\n"
     ]
    },
    {
     "name": "stdout",
     "output_type": "stream",
     "text": [
      "foi criado um df de tamanho 45926\n"
     ]
    },
    {
     "name": "stderr",
     "output_type": "stream",
     "text": [
      "C:\\ProgramData\\Anaconda3\\lib\\site-packages\\pandas\\io\\sql.py:761: UserWarning: pandas only support SQLAlchemy connectable(engine/connection) ordatabase string URI or sqlite3 DBAPI2 connectionother DBAPI2 objects are not tested, please consider using SQLAlchemy\n",
      "  warnings.warn(\n"
     ]
    },
    {
     "name": "stdout",
     "output_type": "stream",
     "text": [
      "foi criado um df de tamanho 46020\n"
     ]
    },
    {
     "name": "stderr",
     "output_type": "stream",
     "text": [
      "C:\\ProgramData\\Anaconda3\\lib\\site-packages\\pandas\\io\\sql.py:761: UserWarning: pandas only support SQLAlchemy connectable(engine/connection) ordatabase string URI or sqlite3 DBAPI2 connectionother DBAPI2 objects are not tested, please consider using SQLAlchemy\n",
      "  warnings.warn(\n"
     ]
    },
    {
     "name": "stdout",
     "output_type": "stream",
     "text": [
      "foi criado um df de tamanho 46128\n"
     ]
    },
    {
     "name": "stderr",
     "output_type": "stream",
     "text": [
      "C:\\ProgramData\\Anaconda3\\lib\\site-packages\\pandas\\io\\sql.py:761: UserWarning: pandas only support SQLAlchemy connectable(engine/connection) ordatabase string URI or sqlite3 DBAPI2 connectionother DBAPI2 objects are not tested, please consider using SQLAlchemy\n",
      "  warnings.warn(\n"
     ]
    },
    {
     "name": "stdout",
     "output_type": "stream",
     "text": [
      "foi criado um df de tamanho 46228\n"
     ]
    },
    {
     "name": "stderr",
     "output_type": "stream",
     "text": [
      "C:\\ProgramData\\Anaconda3\\lib\\site-packages\\pandas\\io\\sql.py:761: UserWarning: pandas only support SQLAlchemy connectable(engine/connection) ordatabase string URI or sqlite3 DBAPI2 connectionother DBAPI2 objects are not tested, please consider using SQLAlchemy\n",
      "  warnings.warn(\n"
     ]
    },
    {
     "name": "stdout",
     "output_type": "stream",
     "text": [
      "foi criado um df de tamanho 46368\n"
     ]
    },
    {
     "name": "stderr",
     "output_type": "stream",
     "text": [
      "C:\\ProgramData\\Anaconda3\\lib\\site-packages\\pandas\\io\\sql.py:761: UserWarning: pandas only support SQLAlchemy connectable(engine/connection) ordatabase string URI or sqlite3 DBAPI2 connectionother DBAPI2 objects are not tested, please consider using SQLAlchemy\n",
      "  warnings.warn(\n"
     ]
    },
    {
     "name": "stdout",
     "output_type": "stream",
     "text": [
      "foi criado um df de tamanho 46823\n"
     ]
    },
    {
     "name": "stderr",
     "output_type": "stream",
     "text": [
      "C:\\ProgramData\\Anaconda3\\lib\\site-packages\\pandas\\io\\sql.py:761: UserWarning: pandas only support SQLAlchemy connectable(engine/connection) ordatabase string URI or sqlite3 DBAPI2 connectionother DBAPI2 objects are not tested, please consider using SQLAlchemy\n",
      "  warnings.warn(\n"
     ]
    },
    {
     "name": "stdout",
     "output_type": "stream",
     "text": [
      "foi criado um df de tamanho 47353\n"
     ]
    },
    {
     "name": "stderr",
     "output_type": "stream",
     "text": [
      "C:\\ProgramData\\Anaconda3\\lib\\site-packages\\pandas\\io\\sql.py:761: UserWarning: pandas only support SQLAlchemy connectable(engine/connection) ordatabase string URI or sqlite3 DBAPI2 connectionother DBAPI2 objects are not tested, please consider using SQLAlchemy\n",
      "  warnings.warn(\n"
     ]
    },
    {
     "name": "stdout",
     "output_type": "stream",
     "text": [
      "foi criado um df de tamanho 47876\n"
     ]
    },
    {
     "name": "stderr",
     "output_type": "stream",
     "text": [
      "C:\\ProgramData\\Anaconda3\\lib\\site-packages\\pandas\\io\\sql.py:761: UserWarning: pandas only support SQLAlchemy connectable(engine/connection) ordatabase string URI or sqlite3 DBAPI2 connectionother DBAPI2 objects are not tested, please consider using SQLAlchemy\n",
      "  warnings.warn(\n"
     ]
    },
    {
     "name": "stdout",
     "output_type": "stream",
     "text": [
      "foi criado um df de tamanho 48705\n"
     ]
    },
    {
     "name": "stderr",
     "output_type": "stream",
     "text": [
      "C:\\ProgramData\\Anaconda3\\lib\\site-packages\\pandas\\io\\sql.py:761: UserWarning: pandas only support SQLAlchemy connectable(engine/connection) ordatabase string URI or sqlite3 DBAPI2 connectionother DBAPI2 objects are not tested, please consider using SQLAlchemy\n",
      "  warnings.warn(\n"
     ]
    },
    {
     "name": "stdout",
     "output_type": "stream",
     "text": [
      "foi criado um df de tamanho 49469\n"
     ]
    },
    {
     "name": "stderr",
     "output_type": "stream",
     "text": [
      "C:\\ProgramData\\Anaconda3\\lib\\site-packages\\pandas\\io\\sql.py:761: UserWarning: pandas only support SQLAlchemy connectable(engine/connection) ordatabase string URI or sqlite3 DBAPI2 connectionother DBAPI2 objects are not tested, please consider using SQLAlchemy\n",
      "  warnings.warn(\n"
     ]
    },
    {
     "name": "stdout",
     "output_type": "stream",
     "text": [
      "foi criado um df de tamanho 50312\n"
     ]
    },
    {
     "name": "stderr",
     "output_type": "stream",
     "text": [
      "C:\\ProgramData\\Anaconda3\\lib\\site-packages\\pandas\\io\\sql.py:761: UserWarning: pandas only support SQLAlchemy connectable(engine/connection) ordatabase string URI or sqlite3 DBAPI2 connectionother DBAPI2 objects are not tested, please consider using SQLAlchemy\n",
      "  warnings.warn(\n"
     ]
    },
    {
     "name": "stdout",
     "output_type": "stream",
     "text": [
      "foi criado um df de tamanho 51140\n"
     ]
    },
    {
     "name": "stderr",
     "output_type": "stream",
     "text": [
      "C:\\ProgramData\\Anaconda3\\lib\\site-packages\\pandas\\io\\sql.py:761: UserWarning: pandas only support SQLAlchemy connectable(engine/connection) ordatabase string URI or sqlite3 DBAPI2 connectionother DBAPI2 objects are not tested, please consider using SQLAlchemy\n",
      "  warnings.warn(\n"
     ]
    },
    {
     "name": "stdout",
     "output_type": "stream",
     "text": [
      "foi criado um df de tamanho 51978\n"
     ]
    },
    {
     "name": "stderr",
     "output_type": "stream",
     "text": [
      "C:\\ProgramData\\Anaconda3\\lib\\site-packages\\pandas\\io\\sql.py:761: UserWarning: pandas only support SQLAlchemy connectable(engine/connection) ordatabase string URI or sqlite3 DBAPI2 connectionother DBAPI2 objects are not tested, please consider using SQLAlchemy\n",
      "  warnings.warn(\n"
     ]
    },
    {
     "name": "stdout",
     "output_type": "stream",
     "text": [
      "foi criado um df de tamanho 52726\n"
     ]
    },
    {
     "name": "stderr",
     "output_type": "stream",
     "text": [
      "C:\\ProgramData\\Anaconda3\\lib\\site-packages\\pandas\\io\\sql.py:761: UserWarning: pandas only support SQLAlchemy connectable(engine/connection) ordatabase string URI or sqlite3 DBAPI2 connectionother DBAPI2 objects are not tested, please consider using SQLAlchemy\n",
      "  warnings.warn(\n"
     ]
    },
    {
     "name": "stdout",
     "output_type": "stream",
     "text": [
      "foi criado um df de tamanho 53533\n"
     ]
    },
    {
     "name": "stderr",
     "output_type": "stream",
     "text": [
      "C:\\ProgramData\\Anaconda3\\lib\\site-packages\\pandas\\io\\sql.py:761: UserWarning: pandas only support SQLAlchemy connectable(engine/connection) ordatabase string URI or sqlite3 DBAPI2 connectionother DBAPI2 objects are not tested, please consider using SQLAlchemy\n",
      "  warnings.warn(\n"
     ]
    },
    {
     "name": "stdout",
     "output_type": "stream",
     "text": [
      "foi criado um df de tamanho 54319\n"
     ]
    },
    {
     "name": "stderr",
     "output_type": "stream",
     "text": [
      "C:\\ProgramData\\Anaconda3\\lib\\site-packages\\pandas\\io\\sql.py:761: UserWarning: pandas only support SQLAlchemy connectable(engine/connection) ordatabase string URI or sqlite3 DBAPI2 connectionother DBAPI2 objects are not tested, please consider using SQLAlchemy\n",
      "  warnings.warn(\n"
     ]
    },
    {
     "name": "stdout",
     "output_type": "stream",
     "text": [
      "foi criado um df de tamanho 55077\n"
     ]
    },
    {
     "name": "stderr",
     "output_type": "stream",
     "text": [
      "C:\\ProgramData\\Anaconda3\\lib\\site-packages\\pandas\\io\\sql.py:761: UserWarning: pandas only support SQLAlchemy connectable(engine/connection) ordatabase string URI or sqlite3 DBAPI2 connectionother DBAPI2 objects are not tested, please consider using SQLAlchemy\n",
      "  warnings.warn(\n"
     ]
    },
    {
     "name": "stdout",
     "output_type": "stream",
     "text": [
      "foi criado um df de tamanho 55683\n"
     ]
    },
    {
     "name": "stderr",
     "output_type": "stream",
     "text": [
      "C:\\ProgramData\\Anaconda3\\lib\\site-packages\\pandas\\io\\sql.py:761: UserWarning: pandas only support SQLAlchemy connectable(engine/connection) ordatabase string URI or sqlite3 DBAPI2 connectionother DBAPI2 objects are not tested, please consider using SQLAlchemy\n",
      "  warnings.warn(\n"
     ]
    },
    {
     "name": "stdout",
     "output_type": "stream",
     "text": [
      "foi criado um df de tamanho 56289\n"
     ]
    },
    {
     "name": "stderr",
     "output_type": "stream",
     "text": [
      "C:\\ProgramData\\Anaconda3\\lib\\site-packages\\pandas\\io\\sql.py:761: UserWarning: pandas only support SQLAlchemy connectable(engine/connection) ordatabase string URI or sqlite3 DBAPI2 connectionother DBAPI2 objects are not tested, please consider using SQLAlchemy\n",
      "  warnings.warn(\n"
     ]
    },
    {
     "name": "stdout",
     "output_type": "stream",
     "text": [
      "foi criado um df de tamanho 56856\n"
     ]
    },
    {
     "name": "stderr",
     "output_type": "stream",
     "text": [
      "C:\\ProgramData\\Anaconda3\\lib\\site-packages\\pandas\\io\\sql.py:761: UserWarning: pandas only support SQLAlchemy connectable(engine/connection) ordatabase string URI or sqlite3 DBAPI2 connectionother DBAPI2 objects are not tested, please consider using SQLAlchemy\n",
      "  warnings.warn(\n"
     ]
    },
    {
     "name": "stdout",
     "output_type": "stream",
     "text": [
      "foi criado um df de tamanho 56889\n"
     ]
    },
    {
     "name": "stderr",
     "output_type": "stream",
     "text": [
      "C:\\ProgramData\\Anaconda3\\lib\\site-packages\\pandas\\io\\sql.py:761: UserWarning: pandas only support SQLAlchemy connectable(engine/connection) ordatabase string URI or sqlite3 DBAPI2 connectionother DBAPI2 objects are not tested, please consider using SQLAlchemy\n",
      "  warnings.warn(\n"
     ]
    },
    {
     "name": "stdout",
     "output_type": "stream",
     "text": [
      "foi criado um df de tamanho 57131\n"
     ]
    },
    {
     "name": "stderr",
     "output_type": "stream",
     "text": [
      "C:\\ProgramData\\Anaconda3\\lib\\site-packages\\pandas\\io\\sql.py:761: UserWarning: pandas only support SQLAlchemy connectable(engine/connection) ordatabase string URI or sqlite3 DBAPI2 connectionother DBAPI2 objects are not tested, please consider using SQLAlchemy\n",
      "  warnings.warn(\n"
     ]
    },
    {
     "name": "stdout",
     "output_type": "stream",
     "text": [
      "foi criado um df de tamanho 57420\n"
     ]
    },
    {
     "name": "stderr",
     "output_type": "stream",
     "text": [
      "C:\\ProgramData\\Anaconda3\\lib\\site-packages\\pandas\\io\\sql.py:761: UserWarning: pandas only support SQLAlchemy connectable(engine/connection) ordatabase string URI or sqlite3 DBAPI2 connectionother DBAPI2 objects are not tested, please consider using SQLAlchemy\n",
      "  warnings.warn(\n"
     ]
    },
    {
     "name": "stdout",
     "output_type": "stream",
     "text": [
      "foi criado um df de tamanho 57707\n"
     ]
    },
    {
     "name": "stderr",
     "output_type": "stream",
     "text": [
      "C:\\ProgramData\\Anaconda3\\lib\\site-packages\\pandas\\io\\sql.py:761: UserWarning: pandas only support SQLAlchemy connectable(engine/connection) ordatabase string URI or sqlite3 DBAPI2 connectionother DBAPI2 objects are not tested, please consider using SQLAlchemy\n",
      "  warnings.warn(\n"
     ]
    },
    {
     "name": "stdout",
     "output_type": "stream",
     "text": [
      "foi criado um df de tamanho 58002\n"
     ]
    },
    {
     "name": "stderr",
     "output_type": "stream",
     "text": [
      "C:\\ProgramData\\Anaconda3\\lib\\site-packages\\pandas\\io\\sql.py:761: UserWarning: pandas only support SQLAlchemy connectable(engine/connection) ordatabase string URI or sqlite3 DBAPI2 connectionother DBAPI2 objects are not tested, please consider using SQLAlchemy\n",
      "  warnings.warn(\n"
     ]
    },
    {
     "name": "stdout",
     "output_type": "stream",
     "text": [
      "foi criado um df de tamanho 58392\n"
     ]
    },
    {
     "name": "stderr",
     "output_type": "stream",
     "text": [
      "C:\\ProgramData\\Anaconda3\\lib\\site-packages\\pandas\\io\\sql.py:761: UserWarning: pandas only support SQLAlchemy connectable(engine/connection) ordatabase string URI or sqlite3 DBAPI2 connectionother DBAPI2 objects are not tested, please consider using SQLAlchemy\n",
      "  warnings.warn(\n"
     ]
    },
    {
     "name": "stdout",
     "output_type": "stream",
     "text": [
      "foi criado um df de tamanho 58871\n"
     ]
    },
    {
     "name": "stderr",
     "output_type": "stream",
     "text": [
      "C:\\ProgramData\\Anaconda3\\lib\\site-packages\\pandas\\io\\sql.py:761: UserWarning: pandas only support SQLAlchemy connectable(engine/connection) ordatabase string URI or sqlite3 DBAPI2 connectionother DBAPI2 objects are not tested, please consider using SQLAlchemy\n",
      "  warnings.warn(\n"
     ]
    },
    {
     "name": "stdout",
     "output_type": "stream",
     "text": [
      "foi criado um df de tamanho 59312\n"
     ]
    },
    {
     "name": "stderr",
     "output_type": "stream",
     "text": [
      "C:\\ProgramData\\Anaconda3\\lib\\site-packages\\pandas\\io\\sql.py:761: UserWarning: pandas only support SQLAlchemy connectable(engine/connection) ordatabase string URI or sqlite3 DBAPI2 connectionother DBAPI2 objects are not tested, please consider using SQLAlchemy\n",
      "  warnings.warn(\n"
     ]
    },
    {
     "name": "stdout",
     "output_type": "stream",
     "text": [
      "foi criado um df de tamanho 59768\n"
     ]
    },
    {
     "name": "stderr",
     "output_type": "stream",
     "text": [
      "C:\\ProgramData\\Anaconda3\\lib\\site-packages\\pandas\\io\\sql.py:761: UserWarning: pandas only support SQLAlchemy connectable(engine/connection) ordatabase string URI or sqlite3 DBAPI2 connectionother DBAPI2 objects are not tested, please consider using SQLAlchemy\n",
      "  warnings.warn(\n"
     ]
    },
    {
     "name": "stdout",
     "output_type": "stream",
     "text": [
      "foi criado um df de tamanho 59782\n"
     ]
    },
    {
     "name": "stderr",
     "output_type": "stream",
     "text": [
      "C:\\ProgramData\\Anaconda3\\lib\\site-packages\\pandas\\io\\sql.py:761: UserWarning: pandas only support SQLAlchemy connectable(engine/connection) ordatabase string URI or sqlite3 DBAPI2 connectionother DBAPI2 objects are not tested, please consider using SQLAlchemy\n",
      "  warnings.warn(\n"
     ]
    },
    {
     "name": "stdout",
     "output_type": "stream",
     "text": [
      "foi criado um df de tamanho 60229\n"
     ]
    },
    {
     "name": "stderr",
     "output_type": "stream",
     "text": [
      "C:\\ProgramData\\Anaconda3\\lib\\site-packages\\pandas\\io\\sql.py:761: UserWarning: pandas only support SQLAlchemy connectable(engine/connection) ordatabase string URI or sqlite3 DBAPI2 connectionother DBAPI2 objects are not tested, please consider using SQLAlchemy\n",
      "  warnings.warn(\n"
     ]
    },
    {
     "name": "stdout",
     "output_type": "stream",
     "text": [
      "foi criado um df de tamanho 60651\n"
     ]
    },
    {
     "name": "stderr",
     "output_type": "stream",
     "text": [
      "C:\\ProgramData\\Anaconda3\\lib\\site-packages\\pandas\\io\\sql.py:761: UserWarning: pandas only support SQLAlchemy connectable(engine/connection) ordatabase string URI or sqlite3 DBAPI2 connectionother DBAPI2 objects are not tested, please consider using SQLAlchemy\n",
      "  warnings.warn(\n"
     ]
    },
    {
     "name": "stdout",
     "output_type": "stream",
     "text": [
      "foi criado um df de tamanho 61101\n"
     ]
    },
    {
     "name": "stderr",
     "output_type": "stream",
     "text": [
      "C:\\ProgramData\\Anaconda3\\lib\\site-packages\\pandas\\io\\sql.py:761: UserWarning: pandas only support SQLAlchemy connectable(engine/connection) ordatabase string URI or sqlite3 DBAPI2 connectionother DBAPI2 objects are not tested, please consider using SQLAlchemy\n",
      "  warnings.warn(\n"
     ]
    },
    {
     "name": "stdout",
     "output_type": "stream",
     "text": [
      "foi criado um df de tamanho 61441\n"
     ]
    },
    {
     "name": "stderr",
     "output_type": "stream",
     "text": [
      "C:\\ProgramData\\Anaconda3\\lib\\site-packages\\pandas\\io\\sql.py:761: UserWarning: pandas only support SQLAlchemy connectable(engine/connection) ordatabase string URI or sqlite3 DBAPI2 connectionother DBAPI2 objects are not tested, please consider using SQLAlchemy\n",
      "  warnings.warn(\n"
     ]
    },
    {
     "name": "stdout",
     "output_type": "stream",
     "text": [
      "foi criado um df de tamanho 61822\n"
     ]
    },
    {
     "name": "stderr",
     "output_type": "stream",
     "text": [
      "C:\\ProgramData\\Anaconda3\\lib\\site-packages\\pandas\\io\\sql.py:761: UserWarning: pandas only support SQLAlchemy connectable(engine/connection) ordatabase string URI or sqlite3 DBAPI2 connectionother DBAPI2 objects are not tested, please consider using SQLAlchemy\n",
      "  warnings.warn(\n"
     ]
    },
    {
     "name": "stdout",
     "output_type": "stream",
     "text": [
      "foi criado um df de tamanho 62185\n"
     ]
    },
    {
     "name": "stderr",
     "output_type": "stream",
     "text": [
      "C:\\ProgramData\\Anaconda3\\lib\\site-packages\\pandas\\io\\sql.py:761: UserWarning: pandas only support SQLAlchemy connectable(engine/connection) ordatabase string URI or sqlite3 DBAPI2 connectionother DBAPI2 objects are not tested, please consider using SQLAlchemy\n",
      "  warnings.warn(\n"
     ]
    },
    {
     "name": "stdout",
     "output_type": "stream",
     "text": [
      "foi criado um df de tamanho 62246\n"
     ]
    },
    {
     "name": "stderr",
     "output_type": "stream",
     "text": [
      "C:\\ProgramData\\Anaconda3\\lib\\site-packages\\pandas\\io\\sql.py:761: UserWarning: pandas only support SQLAlchemy connectable(engine/connection) ordatabase string URI or sqlite3 DBAPI2 connectionother DBAPI2 objects are not tested, please consider using SQLAlchemy\n",
      "  warnings.warn(\n"
     ]
    },
    {
     "name": "stdout",
     "output_type": "stream",
     "text": [
      "foi criado um df de tamanho 62448\n"
     ]
    },
    {
     "name": "stderr",
     "output_type": "stream",
     "text": [
      "C:\\ProgramData\\Anaconda3\\lib\\site-packages\\pandas\\io\\sql.py:761: UserWarning: pandas only support SQLAlchemy connectable(engine/connection) ordatabase string URI or sqlite3 DBAPI2 connectionother DBAPI2 objects are not tested, please consider using SQLAlchemy\n",
      "  warnings.warn(\n"
     ]
    },
    {
     "name": "stdout",
     "output_type": "stream",
     "text": [
      "foi criado um df de tamanho 62679\n"
     ]
    },
    {
     "name": "stderr",
     "output_type": "stream",
     "text": [
      "C:\\ProgramData\\Anaconda3\\lib\\site-packages\\pandas\\io\\sql.py:761: UserWarning: pandas only support SQLAlchemy connectable(engine/connection) ordatabase string URI or sqlite3 DBAPI2 connectionother DBAPI2 objects are not tested, please consider using SQLAlchemy\n",
      "  warnings.warn(\n"
     ]
    },
    {
     "name": "stdout",
     "output_type": "stream",
     "text": [
      "foi criado um df de tamanho 62929\n"
     ]
    },
    {
     "name": "stderr",
     "output_type": "stream",
     "text": [
      "C:\\ProgramData\\Anaconda3\\lib\\site-packages\\pandas\\io\\sql.py:761: UserWarning: pandas only support SQLAlchemy connectable(engine/connection) ordatabase string URI or sqlite3 DBAPI2 connectionother DBAPI2 objects are not tested, please consider using SQLAlchemy\n",
      "  warnings.warn(\n"
     ]
    },
    {
     "name": "stdout",
     "output_type": "stream",
     "text": [
      "foi criado um df de tamanho 63162\n"
     ]
    },
    {
     "name": "stderr",
     "output_type": "stream",
     "text": [
      "C:\\ProgramData\\Anaconda3\\lib\\site-packages\\pandas\\io\\sql.py:761: UserWarning: pandas only support SQLAlchemy connectable(engine/connection) ordatabase string URI or sqlite3 DBAPI2 connectionother DBAPI2 objects are not tested, please consider using SQLAlchemy\n",
      "  warnings.warn(\n"
     ]
    },
    {
     "name": "stdout",
     "output_type": "stream",
     "text": [
      "foi criado um df de tamanho 63456\n"
     ]
    },
    {
     "name": "stderr",
     "output_type": "stream",
     "text": [
      "C:\\ProgramData\\Anaconda3\\lib\\site-packages\\pandas\\io\\sql.py:761: UserWarning: pandas only support SQLAlchemy connectable(engine/connection) ordatabase string URI or sqlite3 DBAPI2 connectionother DBAPI2 objects are not tested, please consider using SQLAlchemy\n",
      "  warnings.warn(\n"
     ]
    },
    {
     "name": "stdout",
     "output_type": "stream",
     "text": [
      "foi criado um df de tamanho 63841\n"
     ]
    },
    {
     "name": "stderr",
     "output_type": "stream",
     "text": [
      "C:\\ProgramData\\Anaconda3\\lib\\site-packages\\pandas\\io\\sql.py:761: UserWarning: pandas only support SQLAlchemy connectable(engine/connection) ordatabase string URI or sqlite3 DBAPI2 connectionother DBAPI2 objects are not tested, please consider using SQLAlchemy\n",
      "  warnings.warn(\n"
     ]
    },
    {
     "name": "stdout",
     "output_type": "stream",
     "text": [
      "foi criado um df de tamanho 64184\n"
     ]
    },
    {
     "name": "stderr",
     "output_type": "stream",
     "text": [
      "C:\\ProgramData\\Anaconda3\\lib\\site-packages\\pandas\\io\\sql.py:761: UserWarning: pandas only support SQLAlchemy connectable(engine/connection) ordatabase string URI or sqlite3 DBAPI2 connectionother DBAPI2 objects are not tested, please consider using SQLAlchemy\n",
      "  warnings.warn(\n"
     ]
    },
    {
     "name": "stdout",
     "output_type": "stream",
     "text": [
      "foi criado um df de tamanho 64549\n"
     ]
    },
    {
     "name": "stderr",
     "output_type": "stream",
     "text": [
      "C:\\ProgramData\\Anaconda3\\lib\\site-packages\\pandas\\io\\sql.py:761: UserWarning: pandas only support SQLAlchemy connectable(engine/connection) ordatabase string URI or sqlite3 DBAPI2 connectionother DBAPI2 objects are not tested, please consider using SQLAlchemy\n",
      "  warnings.warn(\n"
     ]
    },
    {
     "name": "stdout",
     "output_type": "stream",
     "text": [
      "foi criado um df de tamanho 64843\n"
     ]
    },
    {
     "name": "stderr",
     "output_type": "stream",
     "text": [
      "C:\\ProgramData\\Anaconda3\\lib\\site-packages\\pandas\\io\\sql.py:761: UserWarning: pandas only support SQLAlchemy connectable(engine/connection) ordatabase string URI or sqlite3 DBAPI2 connectionother DBAPI2 objects are not tested, please consider using SQLAlchemy\n",
      "  warnings.warn(\n"
     ]
    },
    {
     "name": "stdout",
     "output_type": "stream",
     "text": [
      "foi criado um df de tamanho 65193\n"
     ]
    },
    {
     "name": "stderr",
     "output_type": "stream",
     "text": [
      "C:\\ProgramData\\Anaconda3\\lib\\site-packages\\pandas\\io\\sql.py:761: UserWarning: pandas only support SQLAlchemy connectable(engine/connection) ordatabase string URI or sqlite3 DBAPI2 connectionother DBAPI2 objects are not tested, please consider using SQLAlchemy\n",
      "  warnings.warn(\n"
     ]
    },
    {
     "name": "stdout",
     "output_type": "stream",
     "text": [
      "foi criado um df de tamanho 65521\n"
     ]
    },
    {
     "name": "stderr",
     "output_type": "stream",
     "text": [
      "C:\\ProgramData\\Anaconda3\\lib\\site-packages\\pandas\\io\\sql.py:761: UserWarning: pandas only support SQLAlchemy connectable(engine/connection) ordatabase string URI or sqlite3 DBAPI2 connectionother DBAPI2 objects are not tested, please consider using SQLAlchemy\n",
      "  warnings.warn(\n"
     ]
    },
    {
     "name": "stdout",
     "output_type": "stream",
     "text": [
      "foi criado um df de tamanho 65861\n"
     ]
    },
    {
     "name": "stderr",
     "output_type": "stream",
     "text": [
      "C:\\ProgramData\\Anaconda3\\lib\\site-packages\\pandas\\io\\sql.py:761: UserWarning: pandas only support SQLAlchemy connectable(engine/connection) ordatabase string URI or sqlite3 DBAPI2 connectionother DBAPI2 objects are not tested, please consider using SQLAlchemy\n",
      "  warnings.warn(\n"
     ]
    },
    {
     "name": "stdout",
     "output_type": "stream",
     "text": [
      "foi criado um df de tamanho 66107\n"
     ]
    },
    {
     "name": "stderr",
     "output_type": "stream",
     "text": [
      "C:\\ProgramData\\Anaconda3\\lib\\site-packages\\pandas\\io\\sql.py:761: UserWarning: pandas only support SQLAlchemy connectable(engine/connection) ordatabase string URI or sqlite3 DBAPI2 connectionother DBAPI2 objects are not tested, please consider using SQLAlchemy\n",
      "  warnings.warn(\n"
     ]
    },
    {
     "name": "stdout",
     "output_type": "stream",
     "text": [
      "foi criado um df de tamanho 66394\n"
     ]
    },
    {
     "name": "stderr",
     "output_type": "stream",
     "text": [
      "C:\\ProgramData\\Anaconda3\\lib\\site-packages\\pandas\\io\\sql.py:761: UserWarning: pandas only support SQLAlchemy connectable(engine/connection) ordatabase string URI or sqlite3 DBAPI2 connectionother DBAPI2 objects are not tested, please consider using SQLAlchemy\n",
      "  warnings.warn(\n"
     ]
    },
    {
     "name": "stdout",
     "output_type": "stream",
     "text": [
      "foi criado um df de tamanho 66639\n"
     ]
    },
    {
     "name": "stderr",
     "output_type": "stream",
     "text": [
      "C:\\ProgramData\\Anaconda3\\lib\\site-packages\\pandas\\io\\sql.py:761: UserWarning: pandas only support SQLAlchemy connectable(engine/connection) ordatabase string URI or sqlite3 DBAPI2 connectionother DBAPI2 objects are not tested, please consider using SQLAlchemy\n",
      "  warnings.warn(\n"
     ]
    },
    {
     "name": "stdout",
     "output_type": "stream",
     "text": [
      "foi criado um df de tamanho 66724\n"
     ]
    },
    {
     "name": "stderr",
     "output_type": "stream",
     "text": [
      "C:\\ProgramData\\Anaconda3\\lib\\site-packages\\pandas\\io\\sql.py:761: UserWarning: pandas only support SQLAlchemy connectable(engine/connection) ordatabase string URI or sqlite3 DBAPI2 connectionother DBAPI2 objects are not tested, please consider using SQLAlchemy\n",
      "  warnings.warn(\n"
     ]
    },
    {
     "name": "stdout",
     "output_type": "stream",
     "text": [
      "foi criado um df de tamanho 67099\n"
     ]
    },
    {
     "name": "stderr",
     "output_type": "stream",
     "text": [
      "C:\\ProgramData\\Anaconda3\\lib\\site-packages\\pandas\\io\\sql.py:761: UserWarning: pandas only support SQLAlchemy connectable(engine/connection) ordatabase string URI or sqlite3 DBAPI2 connectionother DBAPI2 objects are not tested, please consider using SQLAlchemy\n",
      "  warnings.warn(\n"
     ]
    },
    {
     "name": "stdout",
     "output_type": "stream",
     "text": [
      "foi criado um df de tamanho 67574\n"
     ]
    },
    {
     "name": "stderr",
     "output_type": "stream",
     "text": [
      "C:\\ProgramData\\Anaconda3\\lib\\site-packages\\pandas\\io\\sql.py:761: UserWarning: pandas only support SQLAlchemy connectable(engine/connection) ordatabase string URI or sqlite3 DBAPI2 connectionother DBAPI2 objects are not tested, please consider using SQLAlchemy\n",
      "  warnings.warn(\n"
     ]
    },
    {
     "name": "stdout",
     "output_type": "stream",
     "text": [
      "foi criado um df de tamanho 68060\n"
     ]
    },
    {
     "name": "stderr",
     "output_type": "stream",
     "text": [
      "C:\\ProgramData\\Anaconda3\\lib\\site-packages\\pandas\\io\\sql.py:761: UserWarning: pandas only support SQLAlchemy connectable(engine/connection) ordatabase string URI or sqlite3 DBAPI2 connectionother DBAPI2 objects are not tested, please consider using SQLAlchemy\n",
      "  warnings.warn(\n"
     ]
    },
    {
     "name": "stdout",
     "output_type": "stream",
     "text": [
      "foi criado um df de tamanho 68558\n"
     ]
    },
    {
     "name": "stderr",
     "output_type": "stream",
     "text": [
      "C:\\ProgramData\\Anaconda3\\lib\\site-packages\\pandas\\io\\sql.py:761: UserWarning: pandas only support SQLAlchemy connectable(engine/connection) ordatabase string URI or sqlite3 DBAPI2 connectionother DBAPI2 objects are not tested, please consider using SQLAlchemy\n",
      "  warnings.warn(\n"
     ]
    },
    {
     "name": "stdout",
     "output_type": "stream",
     "text": [
      "foi criado um df de tamanho 68991\n"
     ]
    },
    {
     "name": "stderr",
     "output_type": "stream",
     "text": [
      "C:\\ProgramData\\Anaconda3\\lib\\site-packages\\pandas\\io\\sql.py:761: UserWarning: pandas only support SQLAlchemy connectable(engine/connection) ordatabase string URI or sqlite3 DBAPI2 connectionother DBAPI2 objects are not tested, please consider using SQLAlchemy\n",
      "  warnings.warn(\n"
     ]
    },
    {
     "name": "stdout",
     "output_type": "stream",
     "text": [
      "foi criado um df de tamanho 69530\n"
     ]
    },
    {
     "name": "stderr",
     "output_type": "stream",
     "text": [
      "C:\\ProgramData\\Anaconda3\\lib\\site-packages\\pandas\\io\\sql.py:761: UserWarning: pandas only support SQLAlchemy connectable(engine/connection) ordatabase string URI or sqlite3 DBAPI2 connectionother DBAPI2 objects are not tested, please consider using SQLAlchemy\n",
      "  warnings.warn(\n"
     ]
    },
    {
     "name": "stdout",
     "output_type": "stream",
     "text": [
      "foi criado um df de tamanho 70037\n"
     ]
    },
    {
     "name": "stderr",
     "output_type": "stream",
     "text": [
      "C:\\ProgramData\\Anaconda3\\lib\\site-packages\\pandas\\io\\sql.py:761: UserWarning: pandas only support SQLAlchemy connectable(engine/connection) ordatabase string URI or sqlite3 DBAPI2 connectionother DBAPI2 objects are not tested, please consider using SQLAlchemy\n",
      "  warnings.warn(\n"
     ]
    },
    {
     "name": "stdout",
     "output_type": "stream",
     "text": [
      "foi criado um df de tamanho 70534\n"
     ]
    },
    {
     "name": "stderr",
     "output_type": "stream",
     "text": [
      "C:\\ProgramData\\Anaconda3\\lib\\site-packages\\pandas\\io\\sql.py:761: UserWarning: pandas only support SQLAlchemy connectable(engine/connection) ordatabase string URI or sqlite3 DBAPI2 connectionother DBAPI2 objects are not tested, please consider using SQLAlchemy\n",
      "  warnings.warn(\n"
     ]
    },
    {
     "name": "stdout",
     "output_type": "stream",
     "text": [
      "foi criado um df de tamanho 70922\n"
     ]
    },
    {
     "name": "stderr",
     "output_type": "stream",
     "text": [
      "C:\\ProgramData\\Anaconda3\\lib\\site-packages\\pandas\\io\\sql.py:761: UserWarning: pandas only support SQLAlchemy connectable(engine/connection) ordatabase string URI or sqlite3 DBAPI2 connectionother DBAPI2 objects are not tested, please consider using SQLAlchemy\n",
      "  warnings.warn(\n"
     ]
    },
    {
     "name": "stdout",
     "output_type": "stream",
     "text": [
      "foi criado um df de tamanho 71411\n"
     ]
    },
    {
     "name": "stderr",
     "output_type": "stream",
     "text": [
      "C:\\ProgramData\\Anaconda3\\lib\\site-packages\\pandas\\io\\sql.py:761: UserWarning: pandas only support SQLAlchemy connectable(engine/connection) ordatabase string URI or sqlite3 DBAPI2 connectionother DBAPI2 objects are not tested, please consider using SQLAlchemy\n",
      "  warnings.warn(\n"
     ]
    },
    {
     "name": "stdout",
     "output_type": "stream",
     "text": [
      "foi criado um df de tamanho 71883\n"
     ]
    },
    {
     "name": "stderr",
     "output_type": "stream",
     "text": [
      "C:\\ProgramData\\Anaconda3\\lib\\site-packages\\pandas\\io\\sql.py:761: UserWarning: pandas only support SQLAlchemy connectable(engine/connection) ordatabase string URI or sqlite3 DBAPI2 connectionother DBAPI2 objects are not tested, please consider using SQLAlchemy\n",
      "  warnings.warn(\n"
     ]
    },
    {
     "name": "stdout",
     "output_type": "stream",
     "text": [
      "foi criado um df de tamanho 72340\n"
     ]
    },
    {
     "name": "stderr",
     "output_type": "stream",
     "text": [
      "C:\\ProgramData\\Anaconda3\\lib\\site-packages\\pandas\\io\\sql.py:761: UserWarning: pandas only support SQLAlchemy connectable(engine/connection) ordatabase string URI or sqlite3 DBAPI2 connectionother DBAPI2 objects are not tested, please consider using SQLAlchemy\n",
      "  warnings.warn(\n"
     ]
    },
    {
     "name": "stdout",
     "output_type": "stream",
     "text": [
      "foi criado um df de tamanho 72669\n"
     ]
    },
    {
     "name": "stderr",
     "output_type": "stream",
     "text": [
      "C:\\ProgramData\\Anaconda3\\lib\\site-packages\\pandas\\io\\sql.py:761: UserWarning: pandas only support SQLAlchemy connectable(engine/connection) ordatabase string URI or sqlite3 DBAPI2 connectionother DBAPI2 objects are not tested, please consider using SQLAlchemy\n",
      "  warnings.warn(\n"
     ]
    },
    {
     "name": "stdout",
     "output_type": "stream",
     "text": [
      "foi criado um df de tamanho 73070\n"
     ]
    },
    {
     "name": "stderr",
     "output_type": "stream",
     "text": [
      "C:\\ProgramData\\Anaconda3\\lib\\site-packages\\pandas\\io\\sql.py:761: UserWarning: pandas only support SQLAlchemy connectable(engine/connection) ordatabase string URI or sqlite3 DBAPI2 connectionother DBAPI2 objects are not tested, please consider using SQLAlchemy\n",
      "  warnings.warn(\n"
     ]
    },
    {
     "name": "stdout",
     "output_type": "stream",
     "text": [
      "foi criado um df de tamanho 73427\n"
     ]
    },
    {
     "name": "stderr",
     "output_type": "stream",
     "text": [
      "C:\\ProgramData\\Anaconda3\\lib\\site-packages\\pandas\\io\\sql.py:761: UserWarning: pandas only support SQLAlchemy connectable(engine/connection) ordatabase string URI or sqlite3 DBAPI2 connectionother DBAPI2 objects are not tested, please consider using SQLAlchemy\n",
      "  warnings.warn(\n"
     ]
    },
    {
     "name": "stdout",
     "output_type": "stream",
     "text": [
      "foi criado um df de tamanho 73437\n"
     ]
    },
    {
     "name": "stderr",
     "output_type": "stream",
     "text": [
      "C:\\ProgramData\\Anaconda3\\lib\\site-packages\\pandas\\io\\sql.py:761: UserWarning: pandas only support SQLAlchemy connectable(engine/connection) ordatabase string URI or sqlite3 DBAPI2 connectionother DBAPI2 objects are not tested, please consider using SQLAlchemy\n",
      "  warnings.warn(\n"
     ]
    },
    {
     "name": "stdout",
     "output_type": "stream",
     "text": [
      "foi criado um df de tamanho 73489\n"
     ]
    },
    {
     "name": "stderr",
     "output_type": "stream",
     "text": [
      "C:\\ProgramData\\Anaconda3\\lib\\site-packages\\pandas\\io\\sql.py:761: UserWarning: pandas only support SQLAlchemy connectable(engine/connection) ordatabase string URI or sqlite3 DBAPI2 connectionother DBAPI2 objects are not tested, please consider using SQLAlchemy\n",
      "  warnings.warn(\n"
     ]
    },
    {
     "name": "stdout",
     "output_type": "stream",
     "text": [
      "foi criado um df de tamanho 73560\n"
     ]
    },
    {
     "name": "stderr",
     "output_type": "stream",
     "text": [
      "C:\\ProgramData\\Anaconda3\\lib\\site-packages\\pandas\\io\\sql.py:761: UserWarning: pandas only support SQLAlchemy connectable(engine/connection) ordatabase string URI or sqlite3 DBAPI2 connectionother DBAPI2 objects are not tested, please consider using SQLAlchemy\n",
      "  warnings.warn(\n"
     ]
    },
    {
     "name": "stdout",
     "output_type": "stream",
     "text": [
      "foi criado um df de tamanho 73626\n"
     ]
    },
    {
     "name": "stderr",
     "output_type": "stream",
     "text": [
      "C:\\ProgramData\\Anaconda3\\lib\\site-packages\\pandas\\io\\sql.py:761: UserWarning: pandas only support SQLAlchemy connectable(engine/connection) ordatabase string URI or sqlite3 DBAPI2 connectionother DBAPI2 objects are not tested, please consider using SQLAlchemy\n",
      "  warnings.warn(\n"
     ]
    },
    {
     "name": "stdout",
     "output_type": "stream",
     "text": [
      "foi criado um df de tamanho 73703\n"
     ]
    },
    {
     "name": "stderr",
     "output_type": "stream",
     "text": [
      "C:\\ProgramData\\Anaconda3\\lib\\site-packages\\pandas\\io\\sql.py:761: UserWarning: pandas only support SQLAlchemy connectable(engine/connection) ordatabase string URI or sqlite3 DBAPI2 connectionother DBAPI2 objects are not tested, please consider using SQLAlchemy\n",
      "  warnings.warn(\n"
     ]
    },
    {
     "name": "stdout",
     "output_type": "stream",
     "text": [
      "foi criado um df de tamanho 73782\n"
     ]
    },
    {
     "name": "stderr",
     "output_type": "stream",
     "text": [
      "C:\\ProgramData\\Anaconda3\\lib\\site-packages\\pandas\\io\\sql.py:761: UserWarning: pandas only support SQLAlchemy connectable(engine/connection) ordatabase string URI or sqlite3 DBAPI2 connectionother DBAPI2 objects are not tested, please consider using SQLAlchemy\n",
      "  warnings.warn(\n"
     ]
    },
    {
     "name": "stdout",
     "output_type": "stream",
     "text": [
      "foi criado um df de tamanho 73873\n"
     ]
    },
    {
     "name": "stderr",
     "output_type": "stream",
     "text": [
      "C:\\ProgramData\\Anaconda3\\lib\\site-packages\\pandas\\io\\sql.py:761: UserWarning: pandas only support SQLAlchemy connectable(engine/connection) ordatabase string URI or sqlite3 DBAPI2 connectionother DBAPI2 objects are not tested, please consider using SQLAlchemy\n",
      "  warnings.warn(\n"
     ]
    },
    {
     "name": "stdout",
     "output_type": "stream",
     "text": [
      "foi criado um df de tamanho 73961\n"
     ]
    },
    {
     "name": "stderr",
     "output_type": "stream",
     "text": [
      "C:\\ProgramData\\Anaconda3\\lib\\site-packages\\pandas\\io\\sql.py:761: UserWarning: pandas only support SQLAlchemy connectable(engine/connection) ordatabase string URI or sqlite3 DBAPI2 connectionother DBAPI2 objects are not tested, please consider using SQLAlchemy\n",
      "  warnings.warn(\n"
     ]
    },
    {
     "name": "stdout",
     "output_type": "stream",
     "text": [
      "foi criado um df de tamanho 74047\n"
     ]
    },
    {
     "name": "stderr",
     "output_type": "stream",
     "text": [
      "C:\\ProgramData\\Anaconda3\\lib\\site-packages\\pandas\\io\\sql.py:761: UserWarning: pandas only support SQLAlchemy connectable(engine/connection) ordatabase string URI or sqlite3 DBAPI2 connectionother DBAPI2 objects are not tested, please consider using SQLAlchemy\n",
      "  warnings.warn(\n"
     ]
    },
    {
     "name": "stdout",
     "output_type": "stream",
     "text": [
      "foi criado um df de tamanho 74114\n"
     ]
    },
    {
     "name": "stderr",
     "output_type": "stream",
     "text": [
      "C:\\ProgramData\\Anaconda3\\lib\\site-packages\\pandas\\io\\sql.py:761: UserWarning: pandas only support SQLAlchemy connectable(engine/connection) ordatabase string URI or sqlite3 DBAPI2 connectionother DBAPI2 objects are not tested, please consider using SQLAlchemy\n",
      "  warnings.warn(\n"
     ]
    },
    {
     "name": "stdout",
     "output_type": "stream",
     "text": [
      "foi criado um df de tamanho 74185\n"
     ]
    },
    {
     "name": "stderr",
     "output_type": "stream",
     "text": [
      "C:\\ProgramData\\Anaconda3\\lib\\site-packages\\pandas\\io\\sql.py:761: UserWarning: pandas only support SQLAlchemy connectable(engine/connection) ordatabase string URI or sqlite3 DBAPI2 connectionother DBAPI2 objects are not tested, please consider using SQLAlchemy\n",
      "  warnings.warn(\n"
     ]
    },
    {
     "name": "stdout",
     "output_type": "stream",
     "text": [
      "foi criado um df de tamanho 74260\n"
     ]
    },
    {
     "name": "stderr",
     "output_type": "stream",
     "text": [
      "C:\\ProgramData\\Anaconda3\\lib\\site-packages\\pandas\\io\\sql.py:761: UserWarning: pandas only support SQLAlchemy connectable(engine/connection) ordatabase string URI or sqlite3 DBAPI2 connectionother DBAPI2 objects are not tested, please consider using SQLAlchemy\n",
      "  warnings.warn(\n"
     ]
    },
    {
     "name": "stdout",
     "output_type": "stream",
     "text": [
      "foi criado um df de tamanho 74330\n"
     ]
    },
    {
     "name": "stderr",
     "output_type": "stream",
     "text": [
      "C:\\ProgramData\\Anaconda3\\lib\\site-packages\\pandas\\io\\sql.py:761: UserWarning: pandas only support SQLAlchemy connectable(engine/connection) ordatabase string URI or sqlite3 DBAPI2 connectionother DBAPI2 objects are not tested, please consider using SQLAlchemy\n",
      "  warnings.warn(\n"
     ]
    },
    {
     "name": "stdout",
     "output_type": "stream",
     "text": [
      "foi criado um df de tamanho 74385\n"
     ]
    },
    {
     "name": "stderr",
     "output_type": "stream",
     "text": [
      "C:\\ProgramData\\Anaconda3\\lib\\site-packages\\pandas\\io\\sql.py:761: UserWarning: pandas only support SQLAlchemy connectable(engine/connection) ordatabase string URI or sqlite3 DBAPI2 connectionother DBAPI2 objects are not tested, please consider using SQLAlchemy\n",
      "  warnings.warn(\n"
     ]
    },
    {
     "name": "stdout",
     "output_type": "stream",
     "text": [
      "foi criado um df de tamanho 74449\n"
     ]
    },
    {
     "name": "stderr",
     "output_type": "stream",
     "text": [
      "C:\\ProgramData\\Anaconda3\\lib\\site-packages\\pandas\\io\\sql.py:761: UserWarning: pandas only support SQLAlchemy connectable(engine/connection) ordatabase string URI or sqlite3 DBAPI2 connectionother DBAPI2 objects are not tested, please consider using SQLAlchemy\n",
      "  warnings.warn(\n"
     ]
    },
    {
     "name": "stdout",
     "output_type": "stream",
     "text": [
      "foi criado um df de tamanho 74499\n"
     ]
    },
    {
     "name": "stderr",
     "output_type": "stream",
     "text": [
      "C:\\ProgramData\\Anaconda3\\lib\\site-packages\\pandas\\io\\sql.py:761: UserWarning: pandas only support SQLAlchemy connectable(engine/connection) ordatabase string URI or sqlite3 DBAPI2 connectionother DBAPI2 objects are not tested, please consider using SQLAlchemy\n",
      "  warnings.warn(\n"
     ]
    },
    {
     "name": "stdout",
     "output_type": "stream",
     "text": [
      "foi criado um df de tamanho 74526\n"
     ]
    },
    {
     "name": "stderr",
     "output_type": "stream",
     "text": [
      "C:\\ProgramData\\Anaconda3\\lib\\site-packages\\pandas\\io\\sql.py:761: UserWarning: pandas only support SQLAlchemy connectable(engine/connection) ordatabase string URI or sqlite3 DBAPI2 connectionother DBAPI2 objects are not tested, please consider using SQLAlchemy\n",
      "  warnings.warn(\n"
     ]
    },
    {
     "name": "stdout",
     "output_type": "stream",
     "text": [
      "foi criado um df de tamanho 74601\n"
     ]
    },
    {
     "name": "stderr",
     "output_type": "stream",
     "text": [
      "C:\\ProgramData\\Anaconda3\\lib\\site-packages\\pandas\\io\\sql.py:761: UserWarning: pandas only support SQLAlchemy connectable(engine/connection) ordatabase string URI or sqlite3 DBAPI2 connectionother DBAPI2 objects are not tested, please consider using SQLAlchemy\n",
      "  warnings.warn(\n"
     ]
    },
    {
     "name": "stdout",
     "output_type": "stream",
     "text": [
      "foi criado um df de tamanho 74716\n"
     ]
    },
    {
     "name": "stderr",
     "output_type": "stream",
     "text": [
      "C:\\ProgramData\\Anaconda3\\lib\\site-packages\\pandas\\io\\sql.py:761: UserWarning: pandas only support SQLAlchemy connectable(engine/connection) ordatabase string URI or sqlite3 DBAPI2 connectionother DBAPI2 objects are not tested, please consider using SQLAlchemy\n",
      "  warnings.warn(\n"
     ]
    },
    {
     "name": "stdout",
     "output_type": "stream",
     "text": [
      "foi criado um df de tamanho 74826\n"
     ]
    },
    {
     "name": "stderr",
     "output_type": "stream",
     "text": [
      "C:\\ProgramData\\Anaconda3\\lib\\site-packages\\pandas\\io\\sql.py:761: UserWarning: pandas only support SQLAlchemy connectable(engine/connection) ordatabase string URI or sqlite3 DBAPI2 connectionother DBAPI2 objects are not tested, please consider using SQLAlchemy\n",
      "  warnings.warn(\n"
     ]
    },
    {
     "name": "stdout",
     "output_type": "stream",
     "text": [
      "foi criado um df de tamanho 74939\n"
     ]
    },
    {
     "name": "stderr",
     "output_type": "stream",
     "text": [
      "C:\\ProgramData\\Anaconda3\\lib\\site-packages\\pandas\\io\\sql.py:761: UserWarning: pandas only support SQLAlchemy connectable(engine/connection) ordatabase string URI or sqlite3 DBAPI2 connectionother DBAPI2 objects are not tested, please consider using SQLAlchemy\n",
      "  warnings.warn(\n"
     ]
    },
    {
     "name": "stdout",
     "output_type": "stream",
     "text": [
      "foi criado um df de tamanho 75044\n"
     ]
    },
    {
     "name": "stderr",
     "output_type": "stream",
     "text": [
      "C:\\ProgramData\\Anaconda3\\lib\\site-packages\\pandas\\io\\sql.py:761: UserWarning: pandas only support SQLAlchemy connectable(engine/connection) ordatabase string URI or sqlite3 DBAPI2 connectionother DBAPI2 objects are not tested, please consider using SQLAlchemy\n",
      "  warnings.warn(\n"
     ]
    },
    {
     "name": "stdout",
     "output_type": "stream",
     "text": [
      "foi criado um df de tamanho 75175\n"
     ]
    },
    {
     "name": "stderr",
     "output_type": "stream",
     "text": [
      "C:\\ProgramData\\Anaconda3\\lib\\site-packages\\pandas\\io\\sql.py:761: UserWarning: pandas only support SQLAlchemy connectable(engine/connection) ordatabase string URI or sqlite3 DBAPI2 connectionother DBAPI2 objects are not tested, please consider using SQLAlchemy\n",
      "  warnings.warn(\n"
     ]
    },
    {
     "name": "stdout",
     "output_type": "stream",
     "text": [
      "foi criado um df de tamanho 75290\n"
     ]
    },
    {
     "name": "stderr",
     "output_type": "stream",
     "text": [
      "C:\\ProgramData\\Anaconda3\\lib\\site-packages\\pandas\\io\\sql.py:761: UserWarning: pandas only support SQLAlchemy connectable(engine/connection) ordatabase string URI or sqlite3 DBAPI2 connectionother DBAPI2 objects are not tested, please consider using SQLAlchemy\n",
      "  warnings.warn(\n"
     ]
    },
    {
     "name": "stdout",
     "output_type": "stream",
     "text": [
      "foi criado um df de tamanho 75419\n"
     ]
    },
    {
     "name": "stderr",
     "output_type": "stream",
     "text": [
      "C:\\ProgramData\\Anaconda3\\lib\\site-packages\\pandas\\io\\sql.py:761: UserWarning: pandas only support SQLAlchemy connectable(engine/connection) ordatabase string URI or sqlite3 DBAPI2 connectionother DBAPI2 objects are not tested, please consider using SQLAlchemy\n",
      "  warnings.warn(\n"
     ]
    },
    {
     "name": "stdout",
     "output_type": "stream",
     "text": [
      "foi criado um df de tamanho 75523\n"
     ]
    },
    {
     "name": "stderr",
     "output_type": "stream",
     "text": [
      "C:\\ProgramData\\Anaconda3\\lib\\site-packages\\pandas\\io\\sql.py:761: UserWarning: pandas only support SQLAlchemy connectable(engine/connection) ordatabase string URI or sqlite3 DBAPI2 connectionother DBAPI2 objects are not tested, please consider using SQLAlchemy\n",
      "  warnings.warn(\n"
     ]
    },
    {
     "name": "stdout",
     "output_type": "stream",
     "text": [
      "foi criado um df de tamanho 75654\n"
     ]
    },
    {
     "name": "stderr",
     "output_type": "stream",
     "text": [
      "C:\\ProgramData\\Anaconda3\\lib\\site-packages\\pandas\\io\\sql.py:761: UserWarning: pandas only support SQLAlchemy connectable(engine/connection) ordatabase string URI or sqlite3 DBAPI2 connectionother DBAPI2 objects are not tested, please consider using SQLAlchemy\n",
      "  warnings.warn(\n"
     ]
    },
    {
     "name": "stdout",
     "output_type": "stream",
     "text": [
      "foi criado um df de tamanho 75778\n"
     ]
    },
    {
     "name": "stderr",
     "output_type": "stream",
     "text": [
      "C:\\ProgramData\\Anaconda3\\lib\\site-packages\\pandas\\io\\sql.py:761: UserWarning: pandas only support SQLAlchemy connectable(engine/connection) ordatabase string URI or sqlite3 DBAPI2 connectionother DBAPI2 objects are not tested, please consider using SQLAlchemy\n",
      "  warnings.warn(\n"
     ]
    },
    {
     "name": "stdout",
     "output_type": "stream",
     "text": [
      "foi criado um df de tamanho 75894\n"
     ]
    },
    {
     "name": "stderr",
     "output_type": "stream",
     "text": [
      "C:\\ProgramData\\Anaconda3\\lib\\site-packages\\pandas\\io\\sql.py:761: UserWarning: pandas only support SQLAlchemy connectable(engine/connection) ordatabase string URI or sqlite3 DBAPI2 connectionother DBAPI2 objects are not tested, please consider using SQLAlchemy\n",
      "  warnings.warn(\n"
     ]
    },
    {
     "name": "stdout",
     "output_type": "stream",
     "text": [
      "foi criado um df de tamanho 75972\n"
     ]
    },
    {
     "name": "stderr",
     "output_type": "stream",
     "text": [
      "C:\\ProgramData\\Anaconda3\\lib\\site-packages\\pandas\\io\\sql.py:761: UserWarning: pandas only support SQLAlchemy connectable(engine/connection) ordatabase string URI or sqlite3 DBAPI2 connectionother DBAPI2 objects are not tested, please consider using SQLAlchemy\n",
      "  warnings.warn(\n"
     ]
    },
    {
     "name": "stdout",
     "output_type": "stream",
     "text": [
      "foi criado um df de tamanho 76064\n"
     ]
    },
    {
     "name": "stderr",
     "output_type": "stream",
     "text": [
      "C:\\ProgramData\\Anaconda3\\lib\\site-packages\\pandas\\io\\sql.py:761: UserWarning: pandas only support SQLAlchemy connectable(engine/connection) ordatabase string URI or sqlite3 DBAPI2 connectionother DBAPI2 objects are not tested, please consider using SQLAlchemy\n",
      "  warnings.warn(\n"
     ]
    },
    {
     "name": "stdout",
     "output_type": "stream",
     "text": [
      "foi criado um df de tamanho 76146\n"
     ]
    },
    {
     "name": "stderr",
     "output_type": "stream",
     "text": [
      "C:\\ProgramData\\Anaconda3\\lib\\site-packages\\pandas\\io\\sql.py:761: UserWarning: pandas only support SQLAlchemy connectable(engine/connection) ordatabase string URI or sqlite3 DBAPI2 connectionother DBAPI2 objects are not tested, please consider using SQLAlchemy\n",
      "  warnings.warn(\n"
     ]
    },
    {
     "name": "stdout",
     "output_type": "stream",
     "text": [
      "foi criado um df de tamanho 76166\n"
     ]
    },
    {
     "name": "stderr",
     "output_type": "stream",
     "text": [
      "C:\\ProgramData\\Anaconda3\\lib\\site-packages\\pandas\\io\\sql.py:761: UserWarning: pandas only support SQLAlchemy connectable(engine/connection) ordatabase string URI or sqlite3 DBAPI2 connectionother DBAPI2 objects are not tested, please consider using SQLAlchemy\n",
      "  warnings.warn(\n"
     ]
    },
    {
     "name": "stdout",
     "output_type": "stream",
     "text": [
      "foi criado um df de tamanho 76304\n"
     ]
    },
    {
     "name": "stderr",
     "output_type": "stream",
     "text": [
      "C:\\ProgramData\\Anaconda3\\lib\\site-packages\\pandas\\io\\sql.py:761: UserWarning: pandas only support SQLAlchemy connectable(engine/connection) ordatabase string URI or sqlite3 DBAPI2 connectionother DBAPI2 objects are not tested, please consider using SQLAlchemy\n",
      "  warnings.warn(\n"
     ]
    },
    {
     "name": "stdout",
     "output_type": "stream",
     "text": [
      "foi criado um df de tamanho 76470\n"
     ]
    },
    {
     "name": "stderr",
     "output_type": "stream",
     "text": [
      "C:\\ProgramData\\Anaconda3\\lib\\site-packages\\pandas\\io\\sql.py:761: UserWarning: pandas only support SQLAlchemy connectable(engine/connection) ordatabase string URI or sqlite3 DBAPI2 connectionother DBAPI2 objects are not tested, please consider using SQLAlchemy\n",
      "  warnings.warn(\n"
     ]
    },
    {
     "name": "stdout",
     "output_type": "stream",
     "text": [
      "foi criado um df de tamanho 76650\n"
     ]
    },
    {
     "name": "stderr",
     "output_type": "stream",
     "text": [
      "C:\\ProgramData\\Anaconda3\\lib\\site-packages\\pandas\\io\\sql.py:761: UserWarning: pandas only support SQLAlchemy connectable(engine/connection) ordatabase string URI or sqlite3 DBAPI2 connectionother DBAPI2 objects are not tested, please consider using SQLAlchemy\n",
      "  warnings.warn(\n"
     ]
    },
    {
     "name": "stdout",
     "output_type": "stream",
     "text": [
      "foi criado um df de tamanho 76846\n"
     ]
    },
    {
     "name": "stderr",
     "output_type": "stream",
     "text": [
      "C:\\ProgramData\\Anaconda3\\lib\\site-packages\\pandas\\io\\sql.py:761: UserWarning: pandas only support SQLAlchemy connectable(engine/connection) ordatabase string URI or sqlite3 DBAPI2 connectionother DBAPI2 objects are not tested, please consider using SQLAlchemy\n",
      "  warnings.warn(\n"
     ]
    },
    {
     "name": "stdout",
     "output_type": "stream",
     "text": [
      "foi criado um df de tamanho 77043\n"
     ]
    },
    {
     "name": "stderr",
     "output_type": "stream",
     "text": [
      "C:\\ProgramData\\Anaconda3\\lib\\site-packages\\pandas\\io\\sql.py:761: UserWarning: pandas only support SQLAlchemy connectable(engine/connection) ordatabase string URI or sqlite3 DBAPI2 connectionother DBAPI2 objects are not tested, please consider using SQLAlchemy\n",
      "  warnings.warn(\n"
     ]
    },
    {
     "name": "stdout",
     "output_type": "stream",
     "text": [
      "foi criado um df de tamanho 77298\n"
     ]
    },
    {
     "name": "stderr",
     "output_type": "stream",
     "text": [
      "C:\\ProgramData\\Anaconda3\\lib\\site-packages\\pandas\\io\\sql.py:761: UserWarning: pandas only support SQLAlchemy connectable(engine/connection) ordatabase string URI or sqlite3 DBAPI2 connectionother DBAPI2 objects are not tested, please consider using SQLAlchemy\n",
      "  warnings.warn(\n"
     ]
    },
    {
     "name": "stdout",
     "output_type": "stream",
     "text": [
      "foi criado um df de tamanho 77510\n"
     ]
    },
    {
     "name": "stderr",
     "output_type": "stream",
     "text": [
      "C:\\ProgramData\\Anaconda3\\lib\\site-packages\\pandas\\io\\sql.py:761: UserWarning: pandas only support SQLAlchemy connectable(engine/connection) ordatabase string URI or sqlite3 DBAPI2 connectionother DBAPI2 objects are not tested, please consider using SQLAlchemy\n",
      "  warnings.warn(\n"
     ]
    },
    {
     "name": "stdout",
     "output_type": "stream",
     "text": [
      "foi criado um df de tamanho 77730\n"
     ]
    },
    {
     "name": "stderr",
     "output_type": "stream",
     "text": [
      "C:\\ProgramData\\Anaconda3\\lib\\site-packages\\pandas\\io\\sql.py:761: UserWarning: pandas only support SQLAlchemy connectable(engine/connection) ordatabase string URI or sqlite3 DBAPI2 connectionother DBAPI2 objects are not tested, please consider using SQLAlchemy\n",
      "  warnings.warn(\n"
     ]
    },
    {
     "name": "stdout",
     "output_type": "stream",
     "text": [
      "foi criado um df de tamanho 77895\n"
     ]
    },
    {
     "name": "stderr",
     "output_type": "stream",
     "text": [
      "C:\\ProgramData\\Anaconda3\\lib\\site-packages\\pandas\\io\\sql.py:761: UserWarning: pandas only support SQLAlchemy connectable(engine/connection) ordatabase string URI or sqlite3 DBAPI2 connectionother DBAPI2 objects are not tested, please consider using SQLAlchemy\n",
      "  warnings.warn(\n"
     ]
    },
    {
     "name": "stdout",
     "output_type": "stream",
     "text": [
      "foi criado um df de tamanho 78112\n"
     ]
    },
    {
     "name": "stderr",
     "output_type": "stream",
     "text": [
      "C:\\ProgramData\\Anaconda3\\lib\\site-packages\\pandas\\io\\sql.py:761: UserWarning: pandas only support SQLAlchemy connectable(engine/connection) ordatabase string URI or sqlite3 DBAPI2 connectionother DBAPI2 objects are not tested, please consider using SQLAlchemy\n",
      "  warnings.warn(\n"
     ]
    },
    {
     "name": "stdout",
     "output_type": "stream",
     "text": [
      "foi criado um df de tamanho 78306\n"
     ]
    },
    {
     "name": "stderr",
     "output_type": "stream",
     "text": [
      "C:\\ProgramData\\Anaconda3\\lib\\site-packages\\pandas\\io\\sql.py:761: UserWarning: pandas only support SQLAlchemy connectable(engine/connection) ordatabase string URI or sqlite3 DBAPI2 connectionother DBAPI2 objects are not tested, please consider using SQLAlchemy\n",
      "  warnings.warn(\n"
     ]
    },
    {
     "name": "stdout",
     "output_type": "stream",
     "text": [
      "foi criado um df de tamanho 78496\n"
     ]
    },
    {
     "name": "stderr",
     "output_type": "stream",
     "text": [
      "C:\\ProgramData\\Anaconda3\\lib\\site-packages\\pandas\\io\\sql.py:761: UserWarning: pandas only support SQLAlchemy connectable(engine/connection) ordatabase string URI or sqlite3 DBAPI2 connectionother DBAPI2 objects are not tested, please consider using SQLAlchemy\n",
      "  warnings.warn(\n"
     ]
    },
    {
     "name": "stdout",
     "output_type": "stream",
     "text": [
      "foi criado um df de tamanho 78641\n"
     ]
    },
    {
     "name": "stderr",
     "output_type": "stream",
     "text": [
      "C:\\ProgramData\\Anaconda3\\lib\\site-packages\\pandas\\io\\sql.py:761: UserWarning: pandas only support SQLAlchemy connectable(engine/connection) ordatabase string URI or sqlite3 DBAPI2 connectionother DBAPI2 objects are not tested, please consider using SQLAlchemy\n",
      "  warnings.warn(\n"
     ]
    },
    {
     "name": "stdout",
     "output_type": "stream",
     "text": [
      "foi criado um df de tamanho 78820\n"
     ]
    },
    {
     "name": "stderr",
     "output_type": "stream",
     "text": [
      "C:\\ProgramData\\Anaconda3\\lib\\site-packages\\pandas\\io\\sql.py:761: UserWarning: pandas only support SQLAlchemy connectable(engine/connection) ordatabase string URI or sqlite3 DBAPI2 connectionother DBAPI2 objects are not tested, please consider using SQLAlchemy\n",
      "  warnings.warn(\n"
     ]
    },
    {
     "name": "stdout",
     "output_type": "stream",
     "text": [
      "foi criado um df de tamanho 78978\n",
      "My program took 4608.743083000183 to run\n"
     ]
    }
   ],
   "source": [
    "start_time = time.time()\n",
    "\n",
    "for x in estados:\n",
    "    for i in anos:\n",
    "        rais(i,x)\n",
    "    \n",
    "print(\"My program took\", time.time() - start_time, \"to run\")"
   ]
  },
  {
   "cell_type": "code",
   "execution_count": 52,
   "metadata": {
    "scrolled": true
   },
   "outputs": [
    {
     "name": "stdout",
     "output_type": "stream",
     "text": [
      "<class 'pandas.core.frame.DataFrame'>\n",
      "Int64Index: 78978 entries, 0 to 157\n",
      "Data columns (total 18 columns):\n",
      " #   Column         Non-Null Count  Dtype \n",
      "---  ------         --------------  ----- \n",
      " 0   cpf            78978 non-null  object\n",
      " 1   nome           78978 non-null  object\n",
      " 2   id_municipio   78978 non-null  object\n",
      " 3   sexo           78978 non-null  object\n",
      " 4   raca           78978 non-null  object\n",
      " 5   dt_nasc        35507 non-null  object\n",
      " 6   cnpj_raiz      78978 non-null  object\n",
      " 7   cbo_2002       78978 non-null  object\n",
      " 8   cnae_95        8334 non-null   object\n",
      " 9   rem_dez        78978 non-null  object\n",
      " 10  data_adm       78978 non-null  object\n",
      " 11  tenure         78978 non-null  object\n",
      " 12  vinc_ativ3112  78978 non-null  object\n",
      " 13  Ano            78978 non-null  int64 \n",
      " 14  Estado         78978 non-null  object\n",
      " 15  sbclas20       27173 non-null  object\n",
      " 16  idade          43471 non-null  object\n",
      " 17  cnae           43471 non-null  object\n",
      "dtypes: int64(1), object(17)\n",
      "memory usage: 11.4+ MB\n"
     ]
    }
   ],
   "source": [
    "df.info()"
   ]
  },
  {
   "cell_type": "code",
   "execution_count": 53,
   "metadata": {},
   "outputs": [
    {
     "data": {
      "text/html": [
       "<div>\n",
       "<style scoped>\n",
       "    .dataframe tbody tr th:only-of-type {\n",
       "        vertical-align: middle;\n",
       "    }\n",
       "\n",
       "    .dataframe tbody tr th {\n",
       "        vertical-align: top;\n",
       "    }\n",
       "\n",
       "    .dataframe thead th {\n",
       "        text-align: right;\n",
       "    }\n",
       "</style>\n",
       "<table border=\"1\" class=\"dataframe\">\n",
       "  <thead>\n",
       "    <tr style=\"text-align: right;\">\n",
       "      <th></th>\n",
       "      <th>0</th>\n",
       "      <th>1</th>\n",
       "      <th>2</th>\n",
       "      <th>3</th>\n",
       "      <th>4</th>\n",
       "    </tr>\n",
       "  </thead>\n",
       "  <tbody>\n",
       "    <tr>\n",
       "      <th>cpf</th>\n",
       "      <td>29667959805</td>\n",
       "      <td>34175970649</td>\n",
       "      <td>62322907120</td>\n",
       "      <td>68499752268</td>\n",
       "      <td>28806727249</td>\n",
       "    </tr>\n",
       "    <tr>\n",
       "      <th>nome</th>\n",
       "      <td>SHEILA FLAVIA ANSELMO</td>\n",
       "      <td>ALCINO BILAC MACHADO</td>\n",
       "      <td>JOSE ABEL PINHEIRO</td>\n",
       "      <td>EDUARDO BERTOLETTI SIVIERO</td>\n",
       "      <td>VALCIR BORGES</td>\n",
       "    </tr>\n",
       "    <tr>\n",
       "      <th>id_municipio</th>\n",
       "      <td>110092</td>\n",
       "      <td>110006</td>\n",
       "      <td>110011</td>\n",
       "      <td>110147</td>\n",
       "      <td>110014</td>\n",
       "    </tr>\n",
       "    <tr>\n",
       "      <th>sexo</th>\n",
       "      <td>2</td>\n",
       "      <td>1</td>\n",
       "      <td>1</td>\n",
       "      <td>1</td>\n",
       "      <td>1</td>\n",
       "    </tr>\n",
       "    <tr>\n",
       "      <th>raca</th>\n",
       "      <td>2</td>\n",
       "      <td>2</td>\n",
       "      <td>2</td>\n",
       "      <td>2</td>\n",
       "      <td>2</td>\n",
       "    </tr>\n",
       "    <tr>\n",
       "      <th>dt_nasc</th>\n",
       "      <td>15071977</td>\n",
       "      <td>1011955</td>\n",
       "      <td>10061974</td>\n",
       "      <td>19031981</td>\n",
       "      <td>9011971</td>\n",
       "    </tr>\n",
       "    <tr>\n",
       "      <th>cnpj_raiz</th>\n",
       "      <td>1587887</td>\n",
       "      <td>4391512</td>\n",
       "      <td>4279238</td>\n",
       "      <td>4848293</td>\n",
       "      <td>15884109</td>\n",
       "    </tr>\n",
       "    <tr>\n",
       "      <th>cbo_2002</th>\n",
       "      <td>CBO 223605</td>\n",
       "      <td>CBO 111405</td>\n",
       "      <td>CBO 515105</td>\n",
       "      <td>CBO 411010</td>\n",
       "      <td>CBO 351305</td>\n",
       "    </tr>\n",
       "    <tr>\n",
       "      <th>cnae_95</th>\n",
       "      <td>75116</td>\n",
       "      <td>75116</td>\n",
       "      <td>75116</td>\n",
       "      <td>75116</td>\n",
       "      <td>75116</td>\n",
       "    </tr>\n",
       "    <tr>\n",
       "      <th>rem_dez</th>\n",
       "      <td>3465,90</td>\n",
       "      <td>2799,84</td>\n",
       "      <td>222,84</td>\n",
       "      <td>1686,00</td>\n",
       "      <td>1411,64</td>\n",
       "    </tr>\n",
       "    <tr>\n",
       "      <th>data_adm</th>\n",
       "      <td>8032002</td>\n",
       "      <td>2012001</td>\n",
       "      <td>3092001</td>\n",
       "      <td>1042002</td>\n",
       "      <td>1012001</td>\n",
       "    </tr>\n",
       "    <tr>\n",
       "      <th>tenure</th>\n",
       "      <td>12,0</td>\n",
       "      <td>24,8</td>\n",
       "      <td>22,8</td>\n",
       "      <td>10,0</td>\n",
       "      <td>28,0</td>\n",
       "    </tr>\n",
       "    <tr>\n",
       "      <th>vinc_ativ3112</th>\n",
       "      <td>21</td>\n",
       "      <td>21</td>\n",
       "      <td>11</td>\n",
       "      <td>21</td>\n",
       "      <td>21</td>\n",
       "    </tr>\n",
       "    <tr>\n",
       "      <th>Ano</th>\n",
       "      <td>2003</td>\n",
       "      <td>2003</td>\n",
       "      <td>2003</td>\n",
       "      <td>2003</td>\n",
       "      <td>2003</td>\n",
       "    </tr>\n",
       "    <tr>\n",
       "      <th>Estado</th>\n",
       "      <td>RO</td>\n",
       "      <td>RO</td>\n",
       "      <td>RO</td>\n",
       "      <td>RO</td>\n",
       "      <td>RO</td>\n",
       "    </tr>\n",
       "    <tr>\n",
       "      <th>sbclas20</th>\n",
       "      <td>NaN</td>\n",
       "      <td>NaN</td>\n",
       "      <td>NaN</td>\n",
       "      <td>NaN</td>\n",
       "      <td>NaN</td>\n",
       "    </tr>\n",
       "    <tr>\n",
       "      <th>idade</th>\n",
       "      <td>NaN</td>\n",
       "      <td>NaN</td>\n",
       "      <td>NaN</td>\n",
       "      <td>NaN</td>\n",
       "      <td>NaN</td>\n",
       "    </tr>\n",
       "    <tr>\n",
       "      <th>cnae</th>\n",
       "      <td>NaN</td>\n",
       "      <td>NaN</td>\n",
       "      <td>NaN</td>\n",
       "      <td>NaN</td>\n",
       "      <td>NaN</td>\n",
       "    </tr>\n",
       "  </tbody>\n",
       "</table>\n",
       "</div>"
      ],
      "text/plain": [
       "                                   0                     1  \\\n",
       "cpf                      29667959805           34175970649   \n",
       "nome           SHEILA FLAVIA ANSELMO  ALCINO BILAC MACHADO   \n",
       "id_municipio                  110092                110006   \n",
       "sexo                               2                     1   \n",
       "raca                               2                     2   \n",
       "dt_nasc                     15071977               1011955   \n",
       "cnpj_raiz                    1587887               4391512   \n",
       "cbo_2002                  CBO 223605            CBO 111405   \n",
       "cnae_95                        75116                 75116   \n",
       "rem_dez                      3465,90               2799,84   \n",
       "data_adm                     8032002               2012001   \n",
       "tenure                          12,0                  24,8   \n",
       "vinc_ativ3112                     21                    21   \n",
       "Ano                             2003                  2003   \n",
       "Estado                            RO                    RO   \n",
       "sbclas20                         NaN                   NaN   \n",
       "idade                            NaN                   NaN   \n",
       "cnae                             NaN                   NaN   \n",
       "\n",
       "                                2                           3              4  \n",
       "cpf                   62322907120                 68499752268    28806727249  \n",
       "nome           JOSE ABEL PINHEIRO  EDUARDO BERTOLETTI SIVIERO  VALCIR BORGES  \n",
       "id_municipio               110011                      110147         110014  \n",
       "sexo                            1                           1              1  \n",
       "raca                            2                           2              2  \n",
       "dt_nasc                  10061974                    19031981        9011971  \n",
       "cnpj_raiz                 4279238                     4848293       15884109  \n",
       "cbo_2002               CBO 515105                  CBO 411010     CBO 351305  \n",
       "cnae_95                     75116                       75116          75116  \n",
       "rem_dez                    222,84                     1686,00        1411,64  \n",
       "data_adm                  3092001                     1042002        1012001  \n",
       "tenure                       22,8                        10,0           28,0  \n",
       "vinc_ativ3112                  11                          21             21  \n",
       "Ano                          2003                        2003           2003  \n",
       "Estado                         RO                          RO             RO  \n",
       "sbclas20                      NaN                         NaN            NaN  \n",
       "idade                         NaN                         NaN            NaN  \n",
       "cnae                          NaN                         NaN            NaN  "
      ]
     },
     "execution_count": 53,
     "metadata": {},
     "output_type": "execute_result"
    }
   ],
   "source": [
    "df.head().T"
   ]
  },
  {
   "cell_type": "code",
   "execution_count": 54,
   "metadata": {},
   "outputs": [],
   "source": [
    "df['cbo_2002'] = df['cbo_2002'].str.extract('(\\d+)').astype(str)"
   ]
  },
  {
   "cell_type": "code",
   "execution_count": 55,
   "metadata": {},
   "outputs": [],
   "source": [
    "tabela = pd.DataFrame(df.groupby('cbo_2002')['cbo_2002'].count().nlargest(20))"
   ]
  },
  {
   "cell_type": "code",
   "execution_count": 56,
   "metadata": {},
   "outputs": [],
   "source": [
    "tabela[\"cbos\"] = tabela.index"
   ]
  },
  {
   "cell_type": "code",
   "execution_count": 57,
   "metadata": {},
   "outputs": [],
   "source": [
    "top_20_cbos = tuple(tabela.cbos)"
   ]
  },
  {
   "cell_type": "markdown",
   "metadata": {},
   "source": [
    "## Procurando cbos na BD+"
   ]
  },
  {
   "cell_type": "code",
   "execution_count": 58,
   "metadata": {},
   "outputs": [],
   "source": [
    "#import basedosdados as bd\n",
    "#\n",
    "#query = \"\"\" SELECT * FROM `basedosdados.br_ibge_cbo_2002.sinonimo`\n",
    "#            WHERE cbo_2002 IN {} \"\"\".format(top_20_cbos)\n",
    "#\n",
    "#tabela_top_20_cbos = bd.read_sql(query, billing_project_id= \"econometria-314719\")"
   ]
  },
  {
   "cell_type": "code",
   "execution_count": 59,
   "metadata": {
    "scrolled": true
   },
   "outputs": [],
   "source": [
    "#tabela_top_20_cbos"
   ]
  },
  {
   "cell_type": "markdown",
   "metadata": {},
   "source": [
    "# Gerando variável de tempo trabalhado em profissão STEM \"stem_tenure\""
   ]
  },
  {
   "cell_type": "code",
   "execution_count": 60,
   "metadata": {},
   "outputs": [],
   "source": [
    "lista = list(df[\"tenure\"])"
   ]
  },
  {
   "cell_type": "code",
   "execution_count": 61,
   "metadata": {},
   "outputs": [
    {
     "data": {
      "text/plain": [
       "0            12,0\n",
       "1            24,8\n",
       "2            22,8\n",
       "3            10,0\n",
       "4            28,0\n",
       "          ...    \n",
       "153          16.9\n",
       "154    119.300003\n",
       "155         391.0\n",
       "156          23.9\n",
       "157    204.899994\n",
       "Name: tenure, Length: 78978, dtype: object"
      ]
     },
     "execution_count": 61,
     "metadata": {},
     "output_type": "execute_result"
    }
   ],
   "source": [
    "df[\"tenure\"]"
   ]
  },
  {
   "cell_type": "code",
   "execution_count": 62,
   "metadata": {},
   "outputs": [],
   "source": [
    "coluna = []\n",
    "\n",
    "for i in lista:\n",
    "    if ',' in str(i).lower():  \n",
    "        coluna.append(i.replace(',', '.'))\n",
    "    else:\n",
    "        coluna.append(i)"
   ]
  },
  {
   "cell_type": "code",
   "execution_count": 63,
   "metadata": {},
   "outputs": [],
   "source": [
    "df[\"tenure\"] = coluna"
   ]
  },
  {
   "cell_type": "code",
   "execution_count": 64,
   "metadata": {},
   "outputs": [],
   "source": [
    "df[\"tenure\"] = df['tenure'].astype(float)"
   ]
  },
  {
   "cell_type": "code",
   "execution_count": 65,
   "metadata": {},
   "outputs": [],
   "source": [
    "df[\"tenure\"] = df['tenure'].astype(int)"
   ]
  },
  {
   "cell_type": "code",
   "execution_count": 66,
   "metadata": {},
   "outputs": [],
   "source": [
    "df['data_adm'] = df['data_adm'].astype(int)"
   ]
  },
  {
   "cell_type": "code",
   "execution_count": 67,
   "metadata": {},
   "outputs": [],
   "source": [
    "df['cnpj_raiz'] = df['cnpj_raiz'].astype(int)"
   ]
  },
  {
   "cell_type": "code",
   "execution_count": 68,
   "metadata": {},
   "outputs": [],
   "source": [
    "df[\"count\"] = df.groupby(['cpf','data_adm',\"cbo_2002\"])[\"cbo_2002\"].transform('count')"
   ]
  },
  {
   "cell_type": "code",
   "execution_count": 69,
   "metadata": {},
   "outputs": [],
   "source": [
    "df = df.drop_duplicates()"
   ]
  },
  {
   "cell_type": "code",
   "execution_count": 70,
   "metadata": {},
   "outputs": [],
   "source": [
    "df_tenure = df.groupby(['cpf','cbo_2002','cnpj_raiz','data_adm','count']).max('tenure').reset_index()"
   ]
  },
  {
   "cell_type": "code",
   "execution_count": null,
   "metadata": {},
   "outputs": [],
   "source": []
  },
  {
   "cell_type": "code",
   "execution_count": 71,
   "metadata": {},
   "outputs": [],
   "source": [
    "df_tenure = df_tenure.sort_values(by = 'Ano', ascending = True)"
   ]
  },
  {
   "cell_type": "code",
   "execution_count": 72,
   "metadata": {},
   "outputs": [
    {
     "data": {
      "text/html": [
       "<div>\n",
       "<style scoped>\n",
       "    .dataframe tbody tr th:only-of-type {\n",
       "        vertical-align: middle;\n",
       "    }\n",
       "\n",
       "    .dataframe tbody tr th {\n",
       "        vertical-align: top;\n",
       "    }\n",
       "\n",
       "    .dataframe thead th {\n",
       "        text-align: right;\n",
       "    }\n",
       "</style>\n",
       "<table border=\"1\" class=\"dataframe\">\n",
       "  <thead>\n",
       "    <tr style=\"text-align: right;\">\n",
       "      <th></th>\n",
       "      <th>cpf</th>\n",
       "      <th>cbo_2002</th>\n",
       "      <th>cnpj_raiz</th>\n",
       "      <th>data_adm</th>\n",
       "      <th>count</th>\n",
       "      <th>tenure</th>\n",
       "      <th>Ano</th>\n",
       "    </tr>\n",
       "  </thead>\n",
       "  <tbody>\n",
       "    <tr>\n",
       "      <th>11223</th>\n",
       "      <td>25805975653</td>\n",
       "      <td>111410</td>\n",
       "      <td>17516113</td>\n",
       "      <td>9072001</td>\n",
       "      <td>1</td>\n",
       "      <td>18</td>\n",
       "      <td>2003</td>\n",
       "    </tr>\n",
       "    <tr>\n",
       "      <th>21135</th>\n",
       "      <td>64376559504</td>\n",
       "      <td>411005</td>\n",
       "      <td>13218763</td>\n",
       "      <td>16072003</td>\n",
       "      <td>1</td>\n",
       "      <td>4</td>\n",
       "      <td>2003</td>\n",
       "    </tr>\n",
       "    <tr>\n",
       "      <th>10722</th>\n",
       "      <td>23962615253</td>\n",
       "      <td>413225</td>\n",
       "      <td>60746948</td>\n",
       "      <td>11062002</td>\n",
       "      <td>1</td>\n",
       "      <td>17</td>\n",
       "      <td>2003</td>\n",
       "    </tr>\n",
       "    <tr>\n",
       "      <th>18712</th>\n",
       "      <td>53859146068</td>\n",
       "      <td>331305</td>\n",
       "      <td>33621384</td>\n",
       "      <td>15032002</td>\n",
       "      <td>1</td>\n",
       "      <td>11</td>\n",
       "      <td>2003</td>\n",
       "    </tr>\n",
       "    <tr>\n",
       "      <th>28164</th>\n",
       "      <td>96226919604</td>\n",
       "      <td>142105</td>\n",
       "      <td>17406604</td>\n",
       "      <td>18112002</td>\n",
       "      <td>1</td>\n",
       "      <td>12</td>\n",
       "      <td>2003</td>\n",
       "    </tr>\n",
       "    <tr>\n",
       "      <th>...</th>\n",
       "      <td>...</td>\n",
       "      <td>...</td>\n",
       "      <td>...</td>\n",
       "      <td>...</td>\n",
       "      <td>...</td>\n",
       "      <td>...</td>\n",
       "      <td>...</td>\n",
       "    </tr>\n",
       "    <tr>\n",
       "      <th>23247</th>\n",
       "      <td>74785001291</td>\n",
       "      <td>231210</td>\n",
       "      <td>84263862</td>\n",
       "      <td>12022015</td>\n",
       "      <td>4</td>\n",
       "      <td>46</td>\n",
       "      <td>2018</td>\n",
       "    </tr>\n",
       "    <tr>\n",
       "      <th>23242</th>\n",
       "      <td>74749692468</td>\n",
       "      <td>351105</td>\n",
       "      <td>33541368</td>\n",
       "      <td>8062018</td>\n",
       "      <td>1</td>\n",
       "      <td>6</td>\n",
       "      <td>2018</td>\n",
       "    </tr>\n",
       "    <tr>\n",
       "      <th>10093</th>\n",
       "      <td>21474702953</td>\n",
       "      <td>111410</td>\n",
       "      <td>76416965</td>\n",
       "      <td>24032015</td>\n",
       "      <td>1</td>\n",
       "      <td>45</td>\n",
       "      <td>2018</td>\n",
       "    </tr>\n",
       "    <tr>\n",
       "      <th>16020</th>\n",
       "      <td>43185347153</td>\n",
       "      <td>517310</td>\n",
       "      <td>37014123</td>\n",
       "      <td>16081991</td>\n",
       "      <td>2</td>\n",
       "      <td>328</td>\n",
       "      <td>2018</td>\n",
       "    </tr>\n",
       "    <tr>\n",
       "      <th>13039</th>\n",
       "      <td>31842634879</td>\n",
       "      <td>232115</td>\n",
       "      <td>27986120</td>\n",
       "      <td>1112017</td>\n",
       "      <td>2</td>\n",
       "      <td>13</td>\n",
       "      <td>2018</td>\n",
       "    </tr>\n",
       "  </tbody>\n",
       "</table>\n",
       "<p>28887 rows × 7 columns</p>\n",
       "</div>"
      ],
      "text/plain": [
       "               cpf cbo_2002  cnpj_raiz  data_adm  count  tenure   Ano\n",
       "11223  25805975653   111410   17516113   9072001      1      18  2003\n",
       "21135  64376559504   411005   13218763  16072003      1       4  2003\n",
       "10722  23962615253   413225   60746948  11062002      1      17  2003\n",
       "18712  53859146068   331305   33621384  15032002      1      11  2003\n",
       "28164  96226919604   142105   17406604  18112002      1      12  2003\n",
       "...            ...      ...        ...       ...    ...     ...   ...\n",
       "23247  74785001291   231210   84263862  12022015      4      46  2018\n",
       "23242  74749692468   351105   33541368   8062018      1       6  2018\n",
       "10093  21474702953   111410   76416965  24032015      1      45  2018\n",
       "16020  43185347153   517310   37014123  16081991      2     328  2018\n",
       "13039  31842634879   232115   27986120   1112017      2      13  2018\n",
       "\n",
       "[28887 rows x 7 columns]"
      ]
     },
     "execution_count": 72,
     "metadata": {},
     "output_type": "execute_result"
    }
   ],
   "source": [
    "df_tenure"
   ]
  },
  {
   "cell_type": "markdown",
   "metadata": {},
   "source": [
    "# criar colunas \"first_job\""
   ]
  },
  {
   "cell_type": "code",
   "execution_count": 73,
   "metadata": {},
   "outputs": [],
   "source": [
    "df_tenure[\"first_year\"] = df_tenure.groupby(['cpf','data_adm'])[\"Ano\"].transform('min')"
   ]
  },
  {
   "cell_type": "code",
   "execution_count": 74,
   "metadata": {},
   "outputs": [
    {
     "data": {
      "text/html": [
       "<div>\n",
       "<style scoped>\n",
       "    .dataframe tbody tr th:only-of-type {\n",
       "        vertical-align: middle;\n",
       "    }\n",
       "\n",
       "    .dataframe tbody tr th {\n",
       "        vertical-align: top;\n",
       "    }\n",
       "\n",
       "    .dataframe thead th {\n",
       "        text-align: right;\n",
       "    }\n",
       "</style>\n",
       "<table border=\"1\" class=\"dataframe\">\n",
       "  <thead>\n",
       "    <tr style=\"text-align: right;\">\n",
       "      <th></th>\n",
       "      <th>cpf</th>\n",
       "      <th>cbo_2002</th>\n",
       "      <th>cnpj_raiz</th>\n",
       "      <th>data_adm</th>\n",
       "      <th>count</th>\n",
       "      <th>tenure</th>\n",
       "      <th>Ano</th>\n",
       "      <th>first_year</th>\n",
       "    </tr>\n",
       "  </thead>\n",
       "  <tbody>\n",
       "    <tr>\n",
       "      <th>11223</th>\n",
       "      <td>25805975653</td>\n",
       "      <td>111410</td>\n",
       "      <td>17516113</td>\n",
       "      <td>9072001</td>\n",
       "      <td>1</td>\n",
       "      <td>18</td>\n",
       "      <td>2003</td>\n",
       "      <td>2003</td>\n",
       "    </tr>\n",
       "    <tr>\n",
       "      <th>21135</th>\n",
       "      <td>64376559504</td>\n",
       "      <td>411005</td>\n",
       "      <td>13218763</td>\n",
       "      <td>16072003</td>\n",
       "      <td>1</td>\n",
       "      <td>4</td>\n",
       "      <td>2003</td>\n",
       "      <td>2003</td>\n",
       "    </tr>\n",
       "    <tr>\n",
       "      <th>10722</th>\n",
       "      <td>23962615253</td>\n",
       "      <td>413225</td>\n",
       "      <td>60746948</td>\n",
       "      <td>11062002</td>\n",
       "      <td>1</td>\n",
       "      <td>17</td>\n",
       "      <td>2003</td>\n",
       "      <td>2003</td>\n",
       "    </tr>\n",
       "    <tr>\n",
       "      <th>18712</th>\n",
       "      <td>53859146068</td>\n",
       "      <td>331305</td>\n",
       "      <td>33621384</td>\n",
       "      <td>15032002</td>\n",
       "      <td>1</td>\n",
       "      <td>11</td>\n",
       "      <td>2003</td>\n",
       "      <td>2003</td>\n",
       "    </tr>\n",
       "    <tr>\n",
       "      <th>28164</th>\n",
       "      <td>96226919604</td>\n",
       "      <td>142105</td>\n",
       "      <td>17406604</td>\n",
       "      <td>18112002</td>\n",
       "      <td>1</td>\n",
       "      <td>12</td>\n",
       "      <td>2003</td>\n",
       "      <td>2003</td>\n",
       "    </tr>\n",
       "    <tr>\n",
       "      <th>...</th>\n",
       "      <td>...</td>\n",
       "      <td>...</td>\n",
       "      <td>...</td>\n",
       "      <td>...</td>\n",
       "      <td>...</td>\n",
       "      <td>...</td>\n",
       "      <td>...</td>\n",
       "      <td>...</td>\n",
       "    </tr>\n",
       "    <tr>\n",
       "      <th>23247</th>\n",
       "      <td>74785001291</td>\n",
       "      <td>231210</td>\n",
       "      <td>84263862</td>\n",
       "      <td>12022015</td>\n",
       "      <td>4</td>\n",
       "      <td>46</td>\n",
       "      <td>2018</td>\n",
       "      <td>2018</td>\n",
       "    </tr>\n",
       "    <tr>\n",
       "      <th>23242</th>\n",
       "      <td>74749692468</td>\n",
       "      <td>351105</td>\n",
       "      <td>33541368</td>\n",
       "      <td>8062018</td>\n",
       "      <td>1</td>\n",
       "      <td>6</td>\n",
       "      <td>2018</td>\n",
       "      <td>2018</td>\n",
       "    </tr>\n",
       "    <tr>\n",
       "      <th>10093</th>\n",
       "      <td>21474702953</td>\n",
       "      <td>111410</td>\n",
       "      <td>76416965</td>\n",
       "      <td>24032015</td>\n",
       "      <td>1</td>\n",
       "      <td>45</td>\n",
       "      <td>2018</td>\n",
       "      <td>2017</td>\n",
       "    </tr>\n",
       "    <tr>\n",
       "      <th>16020</th>\n",
       "      <td>43185347153</td>\n",
       "      <td>517310</td>\n",
       "      <td>37014123</td>\n",
       "      <td>16081991</td>\n",
       "      <td>2</td>\n",
       "      <td>328</td>\n",
       "      <td>2018</td>\n",
       "      <td>2018</td>\n",
       "    </tr>\n",
       "    <tr>\n",
       "      <th>13039</th>\n",
       "      <td>31842634879</td>\n",
       "      <td>232115</td>\n",
       "      <td>27986120</td>\n",
       "      <td>1112017</td>\n",
       "      <td>2</td>\n",
       "      <td>13</td>\n",
       "      <td>2018</td>\n",
       "      <td>2018</td>\n",
       "    </tr>\n",
       "  </tbody>\n",
       "</table>\n",
       "<p>28887 rows × 8 columns</p>\n",
       "</div>"
      ],
      "text/plain": [
       "               cpf cbo_2002  cnpj_raiz  data_adm  count  tenure   Ano  \\\n",
       "11223  25805975653   111410   17516113   9072001      1      18  2003   \n",
       "21135  64376559504   411005   13218763  16072003      1       4  2003   \n",
       "10722  23962615253   413225   60746948  11062002      1      17  2003   \n",
       "18712  53859146068   331305   33621384  15032002      1      11  2003   \n",
       "28164  96226919604   142105   17406604  18112002      1      12  2003   \n",
       "...            ...      ...        ...       ...    ...     ...   ...   \n",
       "23247  74785001291   231210   84263862  12022015      4      46  2018   \n",
       "23242  74749692468   351105   33541368   8062018      1       6  2018   \n",
       "10093  21474702953   111410   76416965  24032015      1      45  2018   \n",
       "16020  43185347153   517310   37014123  16081991      2     328  2018   \n",
       "13039  31842634879   232115   27986120   1112017      2      13  2018   \n",
       "\n",
       "       first_year  \n",
       "11223        2003  \n",
       "21135        2003  \n",
       "10722        2003  \n",
       "18712        2003  \n",
       "28164        2003  \n",
       "...           ...  \n",
       "23247        2018  \n",
       "23242        2018  \n",
       "10093        2017  \n",
       "16020        2018  \n",
       "13039        2018  \n",
       "\n",
       "[28887 rows x 8 columns]"
      ]
     },
     "execution_count": 74,
     "metadata": {},
     "output_type": "execute_result"
    }
   ],
   "source": [
    "df_tenure"
   ]
  },
  {
   "cell_type": "code",
   "execution_count": 75,
   "metadata": {},
   "outputs": [],
   "source": [
    "df_tenure['first_job'] = (df_tenure[\"Ano\"] == df_tenure[\"first_year\"])"
   ]
  },
  {
   "cell_type": "code",
   "execution_count": 76,
   "metadata": {},
   "outputs": [
    {
     "data": {
      "text/html": [
       "<div>\n",
       "<style scoped>\n",
       "    .dataframe tbody tr th:only-of-type {\n",
       "        vertical-align: middle;\n",
       "    }\n",
       "\n",
       "    .dataframe tbody tr th {\n",
       "        vertical-align: top;\n",
       "    }\n",
       "\n",
       "    .dataframe thead th {\n",
       "        text-align: right;\n",
       "    }\n",
       "</style>\n",
       "<table border=\"1\" class=\"dataframe\">\n",
       "  <thead>\n",
       "    <tr style=\"text-align: right;\">\n",
       "      <th></th>\n",
       "      <th>cpf</th>\n",
       "      <th>cbo_2002</th>\n",
       "      <th>cnpj_raiz</th>\n",
       "      <th>data_adm</th>\n",
       "      <th>count</th>\n",
       "      <th>tenure</th>\n",
       "      <th>Ano</th>\n",
       "      <th>first_year</th>\n",
       "      <th>first_job</th>\n",
       "    </tr>\n",
       "  </thead>\n",
       "  <tbody>\n",
       "    <tr>\n",
       "      <th>11223</th>\n",
       "      <td>25805975653</td>\n",
       "      <td>111410</td>\n",
       "      <td>17516113</td>\n",
       "      <td>9072001</td>\n",
       "      <td>1</td>\n",
       "      <td>18</td>\n",
       "      <td>2003</td>\n",
       "      <td>2003</td>\n",
       "      <td>True</td>\n",
       "    </tr>\n",
       "    <tr>\n",
       "      <th>21135</th>\n",
       "      <td>64376559504</td>\n",
       "      <td>411005</td>\n",
       "      <td>13218763</td>\n",
       "      <td>16072003</td>\n",
       "      <td>1</td>\n",
       "      <td>4</td>\n",
       "      <td>2003</td>\n",
       "      <td>2003</td>\n",
       "      <td>True</td>\n",
       "    </tr>\n",
       "    <tr>\n",
       "      <th>10722</th>\n",
       "      <td>23962615253</td>\n",
       "      <td>413225</td>\n",
       "      <td>60746948</td>\n",
       "      <td>11062002</td>\n",
       "      <td>1</td>\n",
       "      <td>17</td>\n",
       "      <td>2003</td>\n",
       "      <td>2003</td>\n",
       "      <td>True</td>\n",
       "    </tr>\n",
       "    <tr>\n",
       "      <th>18712</th>\n",
       "      <td>53859146068</td>\n",
       "      <td>331305</td>\n",
       "      <td>33621384</td>\n",
       "      <td>15032002</td>\n",
       "      <td>1</td>\n",
       "      <td>11</td>\n",
       "      <td>2003</td>\n",
       "      <td>2003</td>\n",
       "      <td>True</td>\n",
       "    </tr>\n",
       "    <tr>\n",
       "      <th>28164</th>\n",
       "      <td>96226919604</td>\n",
       "      <td>142105</td>\n",
       "      <td>17406604</td>\n",
       "      <td>18112002</td>\n",
       "      <td>1</td>\n",
       "      <td>12</td>\n",
       "      <td>2003</td>\n",
       "      <td>2003</td>\n",
       "      <td>True</td>\n",
       "    </tr>\n",
       "    <tr>\n",
       "      <th>...</th>\n",
       "      <td>...</td>\n",
       "      <td>...</td>\n",
       "      <td>...</td>\n",
       "      <td>...</td>\n",
       "      <td>...</td>\n",
       "      <td>...</td>\n",
       "      <td>...</td>\n",
       "      <td>...</td>\n",
       "      <td>...</td>\n",
       "    </tr>\n",
       "    <tr>\n",
       "      <th>23247</th>\n",
       "      <td>74785001291</td>\n",
       "      <td>231210</td>\n",
       "      <td>84263862</td>\n",
       "      <td>12022015</td>\n",
       "      <td>4</td>\n",
       "      <td>46</td>\n",
       "      <td>2018</td>\n",
       "      <td>2018</td>\n",
       "      <td>True</td>\n",
       "    </tr>\n",
       "    <tr>\n",
       "      <th>23242</th>\n",
       "      <td>74749692468</td>\n",
       "      <td>351105</td>\n",
       "      <td>33541368</td>\n",
       "      <td>8062018</td>\n",
       "      <td>1</td>\n",
       "      <td>6</td>\n",
       "      <td>2018</td>\n",
       "      <td>2018</td>\n",
       "      <td>True</td>\n",
       "    </tr>\n",
       "    <tr>\n",
       "      <th>10093</th>\n",
       "      <td>21474702953</td>\n",
       "      <td>111410</td>\n",
       "      <td>76416965</td>\n",
       "      <td>24032015</td>\n",
       "      <td>1</td>\n",
       "      <td>45</td>\n",
       "      <td>2018</td>\n",
       "      <td>2017</td>\n",
       "      <td>False</td>\n",
       "    </tr>\n",
       "    <tr>\n",
       "      <th>16020</th>\n",
       "      <td>43185347153</td>\n",
       "      <td>517310</td>\n",
       "      <td>37014123</td>\n",
       "      <td>16081991</td>\n",
       "      <td>2</td>\n",
       "      <td>328</td>\n",
       "      <td>2018</td>\n",
       "      <td>2018</td>\n",
       "      <td>True</td>\n",
       "    </tr>\n",
       "    <tr>\n",
       "      <th>13039</th>\n",
       "      <td>31842634879</td>\n",
       "      <td>232115</td>\n",
       "      <td>27986120</td>\n",
       "      <td>1112017</td>\n",
       "      <td>2</td>\n",
       "      <td>13</td>\n",
       "      <td>2018</td>\n",
       "      <td>2018</td>\n",
       "      <td>True</td>\n",
       "    </tr>\n",
       "  </tbody>\n",
       "</table>\n",
       "<p>28887 rows × 9 columns</p>\n",
       "</div>"
      ],
      "text/plain": [
       "               cpf cbo_2002  cnpj_raiz  data_adm  count  tenure   Ano  \\\n",
       "11223  25805975653   111410   17516113   9072001      1      18  2003   \n",
       "21135  64376559504   411005   13218763  16072003      1       4  2003   \n",
       "10722  23962615253   413225   60746948  11062002      1      17  2003   \n",
       "18712  53859146068   331305   33621384  15032002      1      11  2003   \n",
       "28164  96226919604   142105   17406604  18112002      1      12  2003   \n",
       "...            ...      ...        ...       ...    ...     ...   ...   \n",
       "23247  74785001291   231210   84263862  12022015      4      46  2018   \n",
       "23242  74749692468   351105   33541368   8062018      1       6  2018   \n",
       "10093  21474702953   111410   76416965  24032015      1      45  2018   \n",
       "16020  43185347153   517310   37014123  16081991      2     328  2018   \n",
       "13039  31842634879   232115   27986120   1112017      2      13  2018   \n",
       "\n",
       "       first_year  first_job  \n",
       "11223        2003       True  \n",
       "21135        2003       True  \n",
       "10722        2003       True  \n",
       "18712        2003       True  \n",
       "28164        2003       True  \n",
       "...           ...        ...  \n",
       "23247        2018       True  \n",
       "23242        2018       True  \n",
       "10093        2017      False  \n",
       "16020        2018       True  \n",
       "13039        2018       True  \n",
       "\n",
       "[28887 rows x 9 columns]"
      ]
     },
     "execution_count": 76,
     "metadata": {},
     "output_type": "execute_result"
    }
   ],
   "source": [
    "df_tenure"
   ]
  },
  {
   "cell_type": "markdown",
   "metadata": {},
   "source": [
    "# Criar coluna \"previous_tenure\""
   ]
  },
  {
   "cell_type": "code",
   "execution_count": 77,
   "metadata": {},
   "outputs": [],
   "source": [
    "df_tenure['previous_tenure'] = df_tenure.groupby(['cpf','data_adm'])['tenure'].shift(1)"
   ]
  },
  {
   "cell_type": "code",
   "execution_count": 78,
   "metadata": {},
   "outputs": [],
   "source": [
    "#df_tenure[\"previous_tenure\"] = df_tenure['tenure'].shift(1)"
   ]
  },
  {
   "cell_type": "code",
   "execution_count": 79,
   "metadata": {},
   "outputs": [],
   "source": [
    "df_tenure['previous_tenure'] = df_tenure['previous_tenure'].fillna(0)"
   ]
  },
  {
   "cell_type": "code",
   "execution_count": 80,
   "metadata": {},
   "outputs": [
    {
     "data": {
      "text/html": [
       "<div>\n",
       "<style scoped>\n",
       "    .dataframe tbody tr th:only-of-type {\n",
       "        vertical-align: middle;\n",
       "    }\n",
       "\n",
       "    .dataframe tbody tr th {\n",
       "        vertical-align: top;\n",
       "    }\n",
       "\n",
       "    .dataframe thead th {\n",
       "        text-align: right;\n",
       "    }\n",
       "</style>\n",
       "<table border=\"1\" class=\"dataframe\">\n",
       "  <thead>\n",
       "    <tr style=\"text-align: right;\">\n",
       "      <th></th>\n",
       "      <th>cpf</th>\n",
       "      <th>cbo_2002</th>\n",
       "      <th>cnpj_raiz</th>\n",
       "      <th>data_adm</th>\n",
       "      <th>count</th>\n",
       "      <th>tenure</th>\n",
       "      <th>Ano</th>\n",
       "      <th>first_year</th>\n",
       "      <th>first_job</th>\n",
       "      <th>previous_tenure</th>\n",
       "    </tr>\n",
       "  </thead>\n",
       "  <tbody>\n",
       "    <tr>\n",
       "      <th>11223</th>\n",
       "      <td>25805975653</td>\n",
       "      <td>111410</td>\n",
       "      <td>17516113</td>\n",
       "      <td>9072001</td>\n",
       "      <td>1</td>\n",
       "      <td>18</td>\n",
       "      <td>2003</td>\n",
       "      <td>2003</td>\n",
       "      <td>True</td>\n",
       "      <td>0.0</td>\n",
       "    </tr>\n",
       "    <tr>\n",
       "      <th>21135</th>\n",
       "      <td>64376559504</td>\n",
       "      <td>411005</td>\n",
       "      <td>13218763</td>\n",
       "      <td>16072003</td>\n",
       "      <td>1</td>\n",
       "      <td>4</td>\n",
       "      <td>2003</td>\n",
       "      <td>2003</td>\n",
       "      <td>True</td>\n",
       "      <td>0.0</td>\n",
       "    </tr>\n",
       "    <tr>\n",
       "      <th>10722</th>\n",
       "      <td>23962615253</td>\n",
       "      <td>413225</td>\n",
       "      <td>60746948</td>\n",
       "      <td>11062002</td>\n",
       "      <td>1</td>\n",
       "      <td>17</td>\n",
       "      <td>2003</td>\n",
       "      <td>2003</td>\n",
       "      <td>True</td>\n",
       "      <td>0.0</td>\n",
       "    </tr>\n",
       "    <tr>\n",
       "      <th>18712</th>\n",
       "      <td>53859146068</td>\n",
       "      <td>331305</td>\n",
       "      <td>33621384</td>\n",
       "      <td>15032002</td>\n",
       "      <td>1</td>\n",
       "      <td>11</td>\n",
       "      <td>2003</td>\n",
       "      <td>2003</td>\n",
       "      <td>True</td>\n",
       "      <td>0.0</td>\n",
       "    </tr>\n",
       "    <tr>\n",
       "      <th>28164</th>\n",
       "      <td>96226919604</td>\n",
       "      <td>142105</td>\n",
       "      <td>17406604</td>\n",
       "      <td>18112002</td>\n",
       "      <td>1</td>\n",
       "      <td>12</td>\n",
       "      <td>2003</td>\n",
       "      <td>2003</td>\n",
       "      <td>True</td>\n",
       "      <td>0.0</td>\n",
       "    </tr>\n",
       "    <tr>\n",
       "      <th>...</th>\n",
       "      <td>...</td>\n",
       "      <td>...</td>\n",
       "      <td>...</td>\n",
       "      <td>...</td>\n",
       "      <td>...</td>\n",
       "      <td>...</td>\n",
       "      <td>...</td>\n",
       "      <td>...</td>\n",
       "      <td>...</td>\n",
       "      <td>...</td>\n",
       "    </tr>\n",
       "    <tr>\n",
       "      <th>23247</th>\n",
       "      <td>74785001291</td>\n",
       "      <td>231210</td>\n",
       "      <td>84263862</td>\n",
       "      <td>12022015</td>\n",
       "      <td>4</td>\n",
       "      <td>46</td>\n",
       "      <td>2018</td>\n",
       "      <td>2018</td>\n",
       "      <td>True</td>\n",
       "      <td>0.0</td>\n",
       "    </tr>\n",
       "    <tr>\n",
       "      <th>23242</th>\n",
       "      <td>74749692468</td>\n",
       "      <td>351105</td>\n",
       "      <td>33541368</td>\n",
       "      <td>8062018</td>\n",
       "      <td>1</td>\n",
       "      <td>6</td>\n",
       "      <td>2018</td>\n",
       "      <td>2018</td>\n",
       "      <td>True</td>\n",
       "      <td>0.0</td>\n",
       "    </tr>\n",
       "    <tr>\n",
       "      <th>10093</th>\n",
       "      <td>21474702953</td>\n",
       "      <td>111410</td>\n",
       "      <td>76416965</td>\n",
       "      <td>24032015</td>\n",
       "      <td>1</td>\n",
       "      <td>45</td>\n",
       "      <td>2018</td>\n",
       "      <td>2017</td>\n",
       "      <td>False</td>\n",
       "      <td>33.0</td>\n",
       "    </tr>\n",
       "    <tr>\n",
       "      <th>16020</th>\n",
       "      <td>43185347153</td>\n",
       "      <td>517310</td>\n",
       "      <td>37014123</td>\n",
       "      <td>16081991</td>\n",
       "      <td>2</td>\n",
       "      <td>328</td>\n",
       "      <td>2018</td>\n",
       "      <td>2018</td>\n",
       "      <td>True</td>\n",
       "      <td>0.0</td>\n",
       "    </tr>\n",
       "    <tr>\n",
       "      <th>13039</th>\n",
       "      <td>31842634879</td>\n",
       "      <td>232115</td>\n",
       "      <td>27986120</td>\n",
       "      <td>1112017</td>\n",
       "      <td>2</td>\n",
       "      <td>13</td>\n",
       "      <td>2018</td>\n",
       "      <td>2018</td>\n",
       "      <td>True</td>\n",
       "      <td>0.0</td>\n",
       "    </tr>\n",
       "  </tbody>\n",
       "</table>\n",
       "<p>28887 rows × 10 columns</p>\n",
       "</div>"
      ],
      "text/plain": [
       "               cpf cbo_2002  cnpj_raiz  data_adm  count  tenure   Ano  \\\n",
       "11223  25805975653   111410   17516113   9072001      1      18  2003   \n",
       "21135  64376559504   411005   13218763  16072003      1       4  2003   \n",
       "10722  23962615253   413225   60746948  11062002      1      17  2003   \n",
       "18712  53859146068   331305   33621384  15032002      1      11  2003   \n",
       "28164  96226919604   142105   17406604  18112002      1      12  2003   \n",
       "...            ...      ...        ...       ...    ...     ...   ...   \n",
       "23247  74785001291   231210   84263862  12022015      4      46  2018   \n",
       "23242  74749692468   351105   33541368   8062018      1       6  2018   \n",
       "10093  21474702953   111410   76416965  24032015      1      45  2018   \n",
       "16020  43185347153   517310   37014123  16081991      2     328  2018   \n",
       "13039  31842634879   232115   27986120   1112017      2      13  2018   \n",
       "\n",
       "       first_year  first_job  previous_tenure  \n",
       "11223        2003       True              0.0  \n",
       "21135        2003       True              0.0  \n",
       "10722        2003       True              0.0  \n",
       "18712        2003       True              0.0  \n",
       "28164        2003       True              0.0  \n",
       "...           ...        ...              ...  \n",
       "23247        2018       True              0.0  \n",
       "23242        2018       True              0.0  \n",
       "10093        2017      False             33.0  \n",
       "16020        2018       True              0.0  \n",
       "13039        2018       True              0.0  \n",
       "\n",
       "[28887 rows x 10 columns]"
      ]
     },
     "execution_count": 80,
     "metadata": {},
     "output_type": "execute_result"
    }
   ],
   "source": [
    "df_tenure"
   ]
  },
  {
   "cell_type": "markdown",
   "metadata": {},
   "source": [
    "# Criando coluna final \"tenure_job\""
   ]
  },
  {
   "cell_type": "code",
   "execution_count": 81,
   "metadata": {},
   "outputs": [],
   "source": [
    "df_tenure['tenure_job'] = df_tenure[\"tenure\"] - df_tenure[\"previous_tenure\"]"
   ]
  },
  {
   "cell_type": "code",
   "execution_count": 82,
   "metadata": {},
   "outputs": [
    {
     "data": {
      "text/html": [
       "<div>\n",
       "<style scoped>\n",
       "    .dataframe tbody tr th:only-of-type {\n",
       "        vertical-align: middle;\n",
       "    }\n",
       "\n",
       "    .dataframe tbody tr th {\n",
       "        vertical-align: top;\n",
       "    }\n",
       "\n",
       "    .dataframe thead th {\n",
       "        text-align: right;\n",
       "    }\n",
       "</style>\n",
       "<table border=\"1\" class=\"dataframe\">\n",
       "  <thead>\n",
       "    <tr style=\"text-align: right;\">\n",
       "      <th></th>\n",
       "      <th>cpf</th>\n",
       "      <th>cbo_2002</th>\n",
       "      <th>cnpj_raiz</th>\n",
       "      <th>data_adm</th>\n",
       "      <th>count</th>\n",
       "      <th>tenure</th>\n",
       "      <th>Ano</th>\n",
       "      <th>first_year</th>\n",
       "      <th>first_job</th>\n",
       "      <th>previous_tenure</th>\n",
       "      <th>tenure_job</th>\n",
       "    </tr>\n",
       "  </thead>\n",
       "  <tbody>\n",
       "    <tr>\n",
       "      <th>11223</th>\n",
       "      <td>25805975653</td>\n",
       "      <td>111410</td>\n",
       "      <td>17516113</td>\n",
       "      <td>9072001</td>\n",
       "      <td>1</td>\n",
       "      <td>18</td>\n",
       "      <td>2003</td>\n",
       "      <td>2003</td>\n",
       "      <td>True</td>\n",
       "      <td>0.0</td>\n",
       "      <td>18.0</td>\n",
       "    </tr>\n",
       "    <tr>\n",
       "      <th>21135</th>\n",
       "      <td>64376559504</td>\n",
       "      <td>411005</td>\n",
       "      <td>13218763</td>\n",
       "      <td>16072003</td>\n",
       "      <td>1</td>\n",
       "      <td>4</td>\n",
       "      <td>2003</td>\n",
       "      <td>2003</td>\n",
       "      <td>True</td>\n",
       "      <td>0.0</td>\n",
       "      <td>4.0</td>\n",
       "    </tr>\n",
       "    <tr>\n",
       "      <th>10722</th>\n",
       "      <td>23962615253</td>\n",
       "      <td>413225</td>\n",
       "      <td>60746948</td>\n",
       "      <td>11062002</td>\n",
       "      <td>1</td>\n",
       "      <td>17</td>\n",
       "      <td>2003</td>\n",
       "      <td>2003</td>\n",
       "      <td>True</td>\n",
       "      <td>0.0</td>\n",
       "      <td>17.0</td>\n",
       "    </tr>\n",
       "    <tr>\n",
       "      <th>18712</th>\n",
       "      <td>53859146068</td>\n",
       "      <td>331305</td>\n",
       "      <td>33621384</td>\n",
       "      <td>15032002</td>\n",
       "      <td>1</td>\n",
       "      <td>11</td>\n",
       "      <td>2003</td>\n",
       "      <td>2003</td>\n",
       "      <td>True</td>\n",
       "      <td>0.0</td>\n",
       "      <td>11.0</td>\n",
       "    </tr>\n",
       "    <tr>\n",
       "      <th>28164</th>\n",
       "      <td>96226919604</td>\n",
       "      <td>142105</td>\n",
       "      <td>17406604</td>\n",
       "      <td>18112002</td>\n",
       "      <td>1</td>\n",
       "      <td>12</td>\n",
       "      <td>2003</td>\n",
       "      <td>2003</td>\n",
       "      <td>True</td>\n",
       "      <td>0.0</td>\n",
       "      <td>12.0</td>\n",
       "    </tr>\n",
       "    <tr>\n",
       "      <th>...</th>\n",
       "      <td>...</td>\n",
       "      <td>...</td>\n",
       "      <td>...</td>\n",
       "      <td>...</td>\n",
       "      <td>...</td>\n",
       "      <td>...</td>\n",
       "      <td>...</td>\n",
       "      <td>...</td>\n",
       "      <td>...</td>\n",
       "      <td>...</td>\n",
       "      <td>...</td>\n",
       "    </tr>\n",
       "    <tr>\n",
       "      <th>23247</th>\n",
       "      <td>74785001291</td>\n",
       "      <td>231210</td>\n",
       "      <td>84263862</td>\n",
       "      <td>12022015</td>\n",
       "      <td>4</td>\n",
       "      <td>46</td>\n",
       "      <td>2018</td>\n",
       "      <td>2018</td>\n",
       "      <td>True</td>\n",
       "      <td>0.0</td>\n",
       "      <td>46.0</td>\n",
       "    </tr>\n",
       "    <tr>\n",
       "      <th>23242</th>\n",
       "      <td>74749692468</td>\n",
       "      <td>351105</td>\n",
       "      <td>33541368</td>\n",
       "      <td>8062018</td>\n",
       "      <td>1</td>\n",
       "      <td>6</td>\n",
       "      <td>2018</td>\n",
       "      <td>2018</td>\n",
       "      <td>True</td>\n",
       "      <td>0.0</td>\n",
       "      <td>6.0</td>\n",
       "    </tr>\n",
       "    <tr>\n",
       "      <th>10093</th>\n",
       "      <td>21474702953</td>\n",
       "      <td>111410</td>\n",
       "      <td>76416965</td>\n",
       "      <td>24032015</td>\n",
       "      <td>1</td>\n",
       "      <td>45</td>\n",
       "      <td>2018</td>\n",
       "      <td>2017</td>\n",
       "      <td>False</td>\n",
       "      <td>33.0</td>\n",
       "      <td>12.0</td>\n",
       "    </tr>\n",
       "    <tr>\n",
       "      <th>16020</th>\n",
       "      <td>43185347153</td>\n",
       "      <td>517310</td>\n",
       "      <td>37014123</td>\n",
       "      <td>16081991</td>\n",
       "      <td>2</td>\n",
       "      <td>328</td>\n",
       "      <td>2018</td>\n",
       "      <td>2018</td>\n",
       "      <td>True</td>\n",
       "      <td>0.0</td>\n",
       "      <td>328.0</td>\n",
       "    </tr>\n",
       "    <tr>\n",
       "      <th>13039</th>\n",
       "      <td>31842634879</td>\n",
       "      <td>232115</td>\n",
       "      <td>27986120</td>\n",
       "      <td>1112017</td>\n",
       "      <td>2</td>\n",
       "      <td>13</td>\n",
       "      <td>2018</td>\n",
       "      <td>2018</td>\n",
       "      <td>True</td>\n",
       "      <td>0.0</td>\n",
       "      <td>13.0</td>\n",
       "    </tr>\n",
       "  </tbody>\n",
       "</table>\n",
       "<p>28887 rows × 11 columns</p>\n",
       "</div>"
      ],
      "text/plain": [
       "               cpf cbo_2002  cnpj_raiz  data_adm  count  tenure   Ano  \\\n",
       "11223  25805975653   111410   17516113   9072001      1      18  2003   \n",
       "21135  64376559504   411005   13218763  16072003      1       4  2003   \n",
       "10722  23962615253   413225   60746948  11062002      1      17  2003   \n",
       "18712  53859146068   331305   33621384  15032002      1      11  2003   \n",
       "28164  96226919604   142105   17406604  18112002      1      12  2003   \n",
       "...            ...      ...        ...       ...    ...     ...   ...   \n",
       "23247  74785001291   231210   84263862  12022015      4      46  2018   \n",
       "23242  74749692468   351105   33541368   8062018      1       6  2018   \n",
       "10093  21474702953   111410   76416965  24032015      1      45  2018   \n",
       "16020  43185347153   517310   37014123  16081991      2     328  2018   \n",
       "13039  31842634879   232115   27986120   1112017      2      13  2018   \n",
       "\n",
       "       first_year  first_job  previous_tenure  tenure_job  \n",
       "11223        2003       True              0.0        18.0  \n",
       "21135        2003       True              0.0         4.0  \n",
       "10722        2003       True              0.0        17.0  \n",
       "18712        2003       True              0.0        11.0  \n",
       "28164        2003       True              0.0        12.0  \n",
       "...           ...        ...              ...         ...  \n",
       "23247        2018       True              0.0        46.0  \n",
       "23242        2018       True              0.0         6.0  \n",
       "10093        2017      False             33.0        12.0  \n",
       "16020        2018       True              0.0       328.0  \n",
       "13039        2018       True              0.0        13.0  \n",
       "\n",
       "[28887 rows x 11 columns]"
      ]
     },
     "execution_count": 82,
     "metadata": {},
     "output_type": "execute_result"
    }
   ],
   "source": [
    "df_tenure"
   ]
  },
  {
   "cell_type": "code",
   "execution_count": 83,
   "metadata": {},
   "outputs": [],
   "source": [
    "df_tenure[\"stem_job\"] = df_tenure[\"cbo_2002\"].apply(lambda x: 1 if x[0:4] in cbos_stem else 0)"
   ]
  },
  {
   "cell_type": "code",
   "execution_count": 84,
   "metadata": {},
   "outputs": [
    {
     "data": {
      "text/plain": [
       "array([0, 1], dtype=int64)"
      ]
     },
     "execution_count": 84,
     "metadata": {},
     "output_type": "execute_result"
    }
   ],
   "source": [
    "df_tenure[\"stem_job\"].unique()"
   ]
  },
  {
   "cell_type": "code",
   "execution_count": 85,
   "metadata": {},
   "outputs": [
    {
     "data": {
      "text/html": [
       "<div>\n",
       "<style scoped>\n",
       "    .dataframe tbody tr th:only-of-type {\n",
       "        vertical-align: middle;\n",
       "    }\n",
       "\n",
       "    .dataframe tbody tr th {\n",
       "        vertical-align: top;\n",
       "    }\n",
       "\n",
       "    .dataframe thead th {\n",
       "        text-align: right;\n",
       "    }\n",
       "</style>\n",
       "<table border=\"1\" class=\"dataframe\">\n",
       "  <thead>\n",
       "    <tr style=\"text-align: right;\">\n",
       "      <th></th>\n",
       "      <th>18506</th>\n",
       "      <th>26453</th>\n",
       "      <th>24296</th>\n",
       "      <th>14406</th>\n",
       "      <th>23362</th>\n",
       "      <th>19025</th>\n",
       "      <th>18556</th>\n",
       "      <th>19026</th>\n",
       "      <th>25148</th>\n",
       "      <th>27991</th>\n",
       "    </tr>\n",
       "  </thead>\n",
       "  <tbody>\n",
       "    <tr>\n",
       "      <th>cpf</th>\n",
       "      <td>52965856668</td>\n",
       "      <td>88925420600</td>\n",
       "      <td>79451586172</td>\n",
       "      <td>36602973568</td>\n",
       "      <td>75456923653</td>\n",
       "      <td>55416837691</td>\n",
       "      <td>53177088691</td>\n",
       "      <td>55416837691</td>\n",
       "      <td>82920800400</td>\n",
       "      <td>95274596053</td>\n",
       "    </tr>\n",
       "    <tr>\n",
       "      <th>cbo_2002</th>\n",
       "      <td>300305</td>\n",
       "      <td>234405</td>\n",
       "      <td>301105</td>\n",
       "      <td>214255</td>\n",
       "      <td>142530</td>\n",
       "      <td>221105</td>\n",
       "      <td>214915</td>\n",
       "      <td>234405</td>\n",
       "      <td>214215</td>\n",
       "      <td>317205</td>\n",
       "    </tr>\n",
       "    <tr>\n",
       "      <th>cnpj_raiz</th>\n",
       "      <td>664902</td>\n",
       "      <td>25658402</td>\n",
       "      <td>2448607</td>\n",
       "      <td>8402620</td>\n",
       "      <td>31969702</td>\n",
       "      <td>25206285</td>\n",
       "      <td>3123987</td>\n",
       "      <td>5461142</td>\n",
       "      <td>649811</td>\n",
       "      <td>87691507</td>\n",
       "    </tr>\n",
       "    <tr>\n",
       "      <th>data_adm</th>\n",
       "      <td>1091986</td>\n",
       "      <td>22021999</td>\n",
       "      <td>21092002</td>\n",
       "      <td>19081991</td>\n",
       "      <td>1072001</td>\n",
       "      <td>3052000</td>\n",
       "      <td>3012000</td>\n",
       "      <td>6041992</td>\n",
       "      <td>1022001</td>\n",
       "      <td>28042000</td>\n",
       "    </tr>\n",
       "    <tr>\n",
       "      <th>count</th>\n",
       "      <td>1</td>\n",
       "      <td>1</td>\n",
       "      <td>1</td>\n",
       "      <td>1</td>\n",
       "      <td>1</td>\n",
       "      <td>1</td>\n",
       "      <td>1</td>\n",
       "      <td>1</td>\n",
       "      <td>1</td>\n",
       "      <td>1</td>\n",
       "    </tr>\n",
       "    <tr>\n",
       "      <th>tenure</th>\n",
       "      <td>200</td>\n",
       "      <td>47</td>\n",
       "      <td>5</td>\n",
       "      <td>144</td>\n",
       "      <td>27</td>\n",
       "      <td>37</td>\n",
       "      <td>38</td>\n",
       "      <td>140</td>\n",
       "      <td>25</td>\n",
       "      <td>33</td>\n",
       "    </tr>\n",
       "    <tr>\n",
       "      <th>Ano</th>\n",
       "      <td>2003</td>\n",
       "      <td>2003</td>\n",
       "      <td>2003</td>\n",
       "      <td>2003</td>\n",
       "      <td>2003</td>\n",
       "      <td>2003</td>\n",
       "      <td>2003</td>\n",
       "      <td>2003</td>\n",
       "      <td>2003</td>\n",
       "      <td>2003</td>\n",
       "    </tr>\n",
       "    <tr>\n",
       "      <th>first_year</th>\n",
       "      <td>2003</td>\n",
       "      <td>2003</td>\n",
       "      <td>2003</td>\n",
       "      <td>2003</td>\n",
       "      <td>2003</td>\n",
       "      <td>2003</td>\n",
       "      <td>2003</td>\n",
       "      <td>2003</td>\n",
       "      <td>2003</td>\n",
       "      <td>2003</td>\n",
       "    </tr>\n",
       "    <tr>\n",
       "      <th>first_job</th>\n",
       "      <td>True</td>\n",
       "      <td>True</td>\n",
       "      <td>True</td>\n",
       "      <td>True</td>\n",
       "      <td>True</td>\n",
       "      <td>True</td>\n",
       "      <td>True</td>\n",
       "      <td>True</td>\n",
       "      <td>True</td>\n",
       "      <td>True</td>\n",
       "    </tr>\n",
       "    <tr>\n",
       "      <th>previous_tenure</th>\n",
       "      <td>0.0</td>\n",
       "      <td>0.0</td>\n",
       "      <td>0.0</td>\n",
       "      <td>0.0</td>\n",
       "      <td>0.0</td>\n",
       "      <td>0.0</td>\n",
       "      <td>0.0</td>\n",
       "      <td>0.0</td>\n",
       "      <td>0.0</td>\n",
       "      <td>0.0</td>\n",
       "    </tr>\n",
       "    <tr>\n",
       "      <th>tenure_job</th>\n",
       "      <td>200.0</td>\n",
       "      <td>47.0</td>\n",
       "      <td>5.0</td>\n",
       "      <td>144.0</td>\n",
       "      <td>27.0</td>\n",
       "      <td>37.0</td>\n",
       "      <td>38.0</td>\n",
       "      <td>140.0</td>\n",
       "      <td>25.0</td>\n",
       "      <td>33.0</td>\n",
       "    </tr>\n",
       "    <tr>\n",
       "      <th>stem_job</th>\n",
       "      <td>1</td>\n",
       "      <td>1</td>\n",
       "      <td>1</td>\n",
       "      <td>1</td>\n",
       "      <td>1</td>\n",
       "      <td>1</td>\n",
       "      <td>1</td>\n",
       "      <td>1</td>\n",
       "      <td>1</td>\n",
       "      <td>1</td>\n",
       "    </tr>\n",
       "  </tbody>\n",
       "</table>\n",
       "</div>"
      ],
      "text/plain": [
       "                       18506        26453        24296        14406  \\\n",
       "cpf              52965856668  88925420600  79451586172  36602973568   \n",
       "cbo_2002              300305       234405       301105       214255   \n",
       "cnpj_raiz             664902     25658402      2448607      8402620   \n",
       "data_adm             1091986     22021999     21092002     19081991   \n",
       "count                      1            1            1            1   \n",
       "tenure                   200           47            5          144   \n",
       "Ano                     2003         2003         2003         2003   \n",
       "first_year              2003         2003         2003         2003   \n",
       "first_job               True         True         True         True   \n",
       "previous_tenure          0.0          0.0          0.0          0.0   \n",
       "tenure_job             200.0         47.0          5.0        144.0   \n",
       "stem_job                   1            1            1            1   \n",
       "\n",
       "                       23362        19025        18556        19026  \\\n",
       "cpf              75456923653  55416837691  53177088691  55416837691   \n",
       "cbo_2002              142530       221105       214915       234405   \n",
       "cnpj_raiz           31969702     25206285      3123987      5461142   \n",
       "data_adm             1072001      3052000      3012000      6041992   \n",
       "count                      1            1            1            1   \n",
       "tenure                    27           37           38          140   \n",
       "Ano                     2003         2003         2003         2003   \n",
       "first_year              2003         2003         2003         2003   \n",
       "first_job               True         True         True         True   \n",
       "previous_tenure          0.0          0.0          0.0          0.0   \n",
       "tenure_job              27.0         37.0         38.0        140.0   \n",
       "stem_job                   1            1            1            1   \n",
       "\n",
       "                       25148        27991  \n",
       "cpf              82920800400  95274596053  \n",
       "cbo_2002              214215       317205  \n",
       "cnpj_raiz             649811     87691507  \n",
       "data_adm             1022001     28042000  \n",
       "count                      1            1  \n",
       "tenure                    25           33  \n",
       "Ano                     2003         2003  \n",
       "first_year              2003         2003  \n",
       "first_job               True         True  \n",
       "previous_tenure          0.0          0.0  \n",
       "tenure_job              25.0         33.0  \n",
       "stem_job                   1            1  "
      ]
     },
     "execution_count": 85,
     "metadata": {},
     "output_type": "execute_result"
    }
   ],
   "source": [
    "df_tenure.query(\"stem_job == 1\").head(10).T"
   ]
  },
  {
   "cell_type": "code",
   "execution_count": 86,
   "metadata": {},
   "outputs": [
    {
     "data": {
      "text/plain": [
       "508"
      ]
     },
     "execution_count": 86,
     "metadata": {},
     "output_type": "execute_result"
    }
   ],
   "source": [
    "len(df_tenure.query(\"stem_job == 1\").cpf.unique())"
   ]
  },
  {
   "cell_type": "code",
   "execution_count": 87,
   "metadata": {},
   "outputs": [
    {
     "data": {
      "text/plain": [
       "9274"
      ]
     },
     "execution_count": 87,
     "metadata": {},
     "output_type": "execute_result"
    }
   ],
   "source": [
    "len(df_tenure.query(\"stem_job == 0\").cpf.unique())"
   ]
  },
  {
   "cell_type": "markdown",
   "metadata": {},
   "source": [
    "### Salvando"
   ]
  },
  {
   "cell_type": "code",
   "execution_count": 88,
   "metadata": {},
   "outputs": [],
   "source": [
    "df_tenure.to_csv('Dados/output/230104_mayors_jobs_2020.csv', sep = \";\", index = False, encoding = \"utf-8-sig\")"
   ]
  },
  {
   "cell_type": "markdown",
   "metadata": {},
   "source": [
    "# Criando coluna \"cbo_max\""
   ]
  },
  {
   "cell_type": "code",
   "execution_count": 89,
   "metadata": {},
   "outputs": [],
   "source": [
    "df_tenure[\"total_tenure\"] = df_tenure.groupby(['cpf','stem_job'])['tenure_job'].transform('sum')"
   ]
  },
  {
   "cell_type": "code",
   "execution_count": 90,
   "metadata": {},
   "outputs": [
    {
     "data": {
      "text/html": [
       "<div>\n",
       "<style scoped>\n",
       "    .dataframe tbody tr th:only-of-type {\n",
       "        vertical-align: middle;\n",
       "    }\n",
       "\n",
       "    .dataframe tbody tr th {\n",
       "        vertical-align: top;\n",
       "    }\n",
       "\n",
       "    .dataframe thead th {\n",
       "        text-align: right;\n",
       "    }\n",
       "</style>\n",
       "<table border=\"1\" class=\"dataframe\">\n",
       "  <thead>\n",
       "    <tr style=\"text-align: right;\">\n",
       "      <th></th>\n",
       "      <th>cpf</th>\n",
       "      <th>cbo_2002</th>\n",
       "      <th>cnpj_raiz</th>\n",
       "      <th>data_adm</th>\n",
       "      <th>count</th>\n",
       "      <th>tenure</th>\n",
       "      <th>Ano</th>\n",
       "      <th>first_year</th>\n",
       "      <th>first_job</th>\n",
       "      <th>previous_tenure</th>\n",
       "      <th>tenure_job</th>\n",
       "      <th>stem_job</th>\n",
       "      <th>total_tenure</th>\n",
       "    </tr>\n",
       "  </thead>\n",
       "  <tbody>\n",
       "    <tr>\n",
       "      <th>18506</th>\n",
       "      <td>52965856668</td>\n",
       "      <td>300305</td>\n",
       "      <td>664902</td>\n",
       "      <td>1091986</td>\n",
       "      <td>1</td>\n",
       "      <td>200</td>\n",
       "      <td>2003</td>\n",
       "      <td>2003</td>\n",
       "      <td>True</td>\n",
       "      <td>0.0</td>\n",
       "      <td>200.0</td>\n",
       "      <td>1</td>\n",
       "      <td>248.0</td>\n",
       "    </tr>\n",
       "    <tr>\n",
       "      <th>26453</th>\n",
       "      <td>88925420600</td>\n",
       "      <td>234405</td>\n",
       "      <td>25658402</td>\n",
       "      <td>22021999</td>\n",
       "      <td>1</td>\n",
       "      <td>47</td>\n",
       "      <td>2003</td>\n",
       "      <td>2003</td>\n",
       "      <td>True</td>\n",
       "      <td>0.0</td>\n",
       "      <td>47.0</td>\n",
       "      <td>1</td>\n",
       "      <td>47.0</td>\n",
       "    </tr>\n",
       "    <tr>\n",
       "      <th>24296</th>\n",
       "      <td>79451586172</td>\n",
       "      <td>301105</td>\n",
       "      <td>2448607</td>\n",
       "      <td>21092002</td>\n",
       "      <td>1</td>\n",
       "      <td>5</td>\n",
       "      <td>2003</td>\n",
       "      <td>2003</td>\n",
       "      <td>True</td>\n",
       "      <td>0.0</td>\n",
       "      <td>5.0</td>\n",
       "      <td>1</td>\n",
       "      <td>5.0</td>\n",
       "    </tr>\n",
       "    <tr>\n",
       "      <th>14406</th>\n",
       "      <td>36602973568</td>\n",
       "      <td>214255</td>\n",
       "      <td>8402620</td>\n",
       "      <td>19081991</td>\n",
       "      <td>1</td>\n",
       "      <td>144</td>\n",
       "      <td>2003</td>\n",
       "      <td>2003</td>\n",
       "      <td>True</td>\n",
       "      <td>0.0</td>\n",
       "      <td>144.0</td>\n",
       "      <td>1</td>\n",
       "      <td>166.0</td>\n",
       "    </tr>\n",
       "    <tr>\n",
       "      <th>23362</th>\n",
       "      <td>75456923653</td>\n",
       "      <td>142530</td>\n",
       "      <td>31969702</td>\n",
       "      <td>1072001</td>\n",
       "      <td>1</td>\n",
       "      <td>27</td>\n",
       "      <td>2003</td>\n",
       "      <td>2003</td>\n",
       "      <td>True</td>\n",
       "      <td>0.0</td>\n",
       "      <td>27.0</td>\n",
       "      <td>1</td>\n",
       "      <td>39.0</td>\n",
       "    </tr>\n",
       "    <tr>\n",
       "      <th>...</th>\n",
       "      <td>...</td>\n",
       "      <td>...</td>\n",
       "      <td>...</td>\n",
       "      <td>...</td>\n",
       "      <td>...</td>\n",
       "      <td>...</td>\n",
       "      <td>...</td>\n",
       "      <td>...</td>\n",
       "      <td>...</td>\n",
       "      <td>...</td>\n",
       "      <td>...</td>\n",
       "      <td>...</td>\n",
       "      <td>...</td>\n",
       "    </tr>\n",
       "    <tr>\n",
       "      <th>4209</th>\n",
       "      <td>04491693323</td>\n",
       "      <td>214240</td>\n",
       "      <td>6554380</td>\n",
       "      <td>1012017</td>\n",
       "      <td>2</td>\n",
       "      <td>23</td>\n",
       "      <td>2018</td>\n",
       "      <td>2018</td>\n",
       "      <td>True</td>\n",
       "      <td>0.0</td>\n",
       "      <td>23.0</td>\n",
       "      <td>1</td>\n",
       "      <td>23.0</td>\n",
       "    </tr>\n",
       "    <tr>\n",
       "      <th>23084</th>\n",
       "      <td>73770612272</td>\n",
       "      <td>317110</td>\n",
       "      <td>394585</td>\n",
       "      <td>18082016</td>\n",
       "      <td>1</td>\n",
       "      <td>28</td>\n",
       "      <td>2018</td>\n",
       "      <td>2017</td>\n",
       "      <td>False</td>\n",
       "      <td>16.0</td>\n",
       "      <td>12.0</td>\n",
       "      <td>1</td>\n",
       "      <td>165.0</td>\n",
       "    </tr>\n",
       "    <tr>\n",
       "      <th>4228</th>\n",
       "      <td>04507340802</td>\n",
       "      <td>222110</td>\n",
       "      <td>46379400</td>\n",
       "      <td>27122011</td>\n",
       "      <td>7</td>\n",
       "      <td>84</td>\n",
       "      <td>2018</td>\n",
       "      <td>2018</td>\n",
       "      <td>True</td>\n",
       "      <td>0.0</td>\n",
       "      <td>84.0</td>\n",
       "      <td>1</td>\n",
       "      <td>84.0</td>\n",
       "    </tr>\n",
       "    <tr>\n",
       "      <th>4247</th>\n",
       "      <td>04527574604</td>\n",
       "      <td>214205</td>\n",
       "      <td>5705083</td>\n",
       "      <td>25052015</td>\n",
       "      <td>4</td>\n",
       "      <td>43</td>\n",
       "      <td>2018</td>\n",
       "      <td>2018</td>\n",
       "      <td>True</td>\n",
       "      <td>0.0</td>\n",
       "      <td>43.0</td>\n",
       "      <td>1</td>\n",
       "      <td>43.0</td>\n",
       "    </tr>\n",
       "    <tr>\n",
       "      <th>10141</th>\n",
       "      <td>21583900268</td>\n",
       "      <td>222110</td>\n",
       "      <td>5613654</td>\n",
       "      <td>13051986</td>\n",
       "      <td>10</td>\n",
       "      <td>391</td>\n",
       "      <td>2018</td>\n",
       "      <td>2018</td>\n",
       "      <td>True</td>\n",
       "      <td>0.0</td>\n",
       "      <td>391.0</td>\n",
       "      <td>1</td>\n",
       "      <td>391.0</td>\n",
       "    </tr>\n",
       "  </tbody>\n",
       "</table>\n",
       "<p>760 rows × 13 columns</p>\n",
       "</div>"
      ],
      "text/plain": [
       "               cpf cbo_2002  cnpj_raiz  data_adm  count  tenure   Ano  \\\n",
       "18506  52965856668   300305     664902   1091986      1     200  2003   \n",
       "26453  88925420600   234405   25658402  22021999      1      47  2003   \n",
       "24296  79451586172   301105    2448607  21092002      1       5  2003   \n",
       "14406  36602973568   214255    8402620  19081991      1     144  2003   \n",
       "23362  75456923653   142530   31969702   1072001      1      27  2003   \n",
       "...            ...      ...        ...       ...    ...     ...   ...   \n",
       "4209   04491693323   214240    6554380   1012017      2      23  2018   \n",
       "23084  73770612272   317110     394585  18082016      1      28  2018   \n",
       "4228   04507340802   222110   46379400  27122011      7      84  2018   \n",
       "4247   04527574604   214205    5705083  25052015      4      43  2018   \n",
       "10141  21583900268   222110    5613654  13051986     10     391  2018   \n",
       "\n",
       "       first_year  first_job  previous_tenure  tenure_job  stem_job  \\\n",
       "18506        2003       True              0.0       200.0         1   \n",
       "26453        2003       True              0.0        47.0         1   \n",
       "24296        2003       True              0.0         5.0         1   \n",
       "14406        2003       True              0.0       144.0         1   \n",
       "23362        2003       True              0.0        27.0         1   \n",
       "...           ...        ...              ...         ...       ...   \n",
       "4209         2018       True              0.0        23.0         1   \n",
       "23084        2017      False             16.0        12.0         1   \n",
       "4228         2018       True              0.0        84.0         1   \n",
       "4247         2018       True              0.0        43.0         1   \n",
       "10141        2018       True              0.0       391.0         1   \n",
       "\n",
       "       total_tenure  \n",
       "18506         248.0  \n",
       "26453          47.0  \n",
       "24296           5.0  \n",
       "14406         166.0  \n",
       "23362          39.0  \n",
       "...             ...  \n",
       "4209           23.0  \n",
       "23084         165.0  \n",
       "4228           84.0  \n",
       "4247           43.0  \n",
       "10141         391.0  \n",
       "\n",
       "[760 rows x 13 columns]"
      ]
     },
     "execution_count": 90,
     "metadata": {},
     "output_type": "execute_result"
    }
   ],
   "source": [
    "df_tenure.query(\"stem_job == 1\")"
   ]
  },
  {
   "cell_type": "code",
   "execution_count": 91,
   "metadata": {},
   "outputs": [],
   "source": [
    "df_tenure_2 = df_tenure.copy()"
   ]
  },
  {
   "cell_type": "code",
   "execution_count": 92,
   "metadata": {},
   "outputs": [],
   "source": [
    "df_tenure_2 = df_tenure_2.rename(columns = {\"tenure\": \"tenure_rais\"})"
   ]
  },
  {
   "cell_type": "code",
   "execution_count": 93,
   "metadata": {},
   "outputs": [],
   "source": [
    "df_tenure_2 = df_tenure_2.rename(columns = {\"total_tenure\": \"tenure\"})"
   ]
  },
  {
   "cell_type": "code",
   "execution_count": 94,
   "metadata": {},
   "outputs": [],
   "source": [
    "df_tenure_2 = df_tenure_2.query(\"stem_job == 1\")"
   ]
  },
  {
   "cell_type": "code",
   "execution_count": 95,
   "metadata": {},
   "outputs": [],
   "source": [
    "df_tenure_2[\"max_tenure_job\"] = df_tenure_2.groupby(['cpf','stem_job'])['tenure_job'].transform('max')"
   ]
  },
  {
   "cell_type": "code",
   "execution_count": 96,
   "metadata": {},
   "outputs": [],
   "source": [
    "df_tenure_2 = df_tenure_2[(df_tenure_2[\"max_tenure_job\"] == df_tenure_2[\"tenure_job\"])]"
   ]
  },
  {
   "cell_type": "code",
   "execution_count": 97,
   "metadata": {
    "scrolled": true
   },
   "outputs": [
    {
     "data": {
      "text/html": [
       "<div>\n",
       "<style scoped>\n",
       "    .dataframe tbody tr th:only-of-type {\n",
       "        vertical-align: middle;\n",
       "    }\n",
       "\n",
       "    .dataframe tbody tr th {\n",
       "        vertical-align: top;\n",
       "    }\n",
       "\n",
       "    .dataframe thead th {\n",
       "        text-align: right;\n",
       "    }\n",
       "</style>\n",
       "<table border=\"1\" class=\"dataframe\">\n",
       "  <thead>\n",
       "    <tr style=\"text-align: right;\">\n",
       "      <th></th>\n",
       "      <th>cpf</th>\n",
       "      <th>cbo_2002</th>\n",
       "      <th>cnpj_raiz</th>\n",
       "      <th>data_adm</th>\n",
       "      <th>count</th>\n",
       "      <th>tenure_rais</th>\n",
       "      <th>Ano</th>\n",
       "      <th>first_year</th>\n",
       "      <th>first_job</th>\n",
       "      <th>previous_tenure</th>\n",
       "      <th>tenure_job</th>\n",
       "      <th>stem_job</th>\n",
       "      <th>tenure</th>\n",
       "      <th>max_tenure_job</th>\n",
       "    </tr>\n",
       "  </thead>\n",
       "  <tbody>\n",
       "    <tr>\n",
       "      <th>18506</th>\n",
       "      <td>52965856668</td>\n",
       "      <td>300305</td>\n",
       "      <td>664902</td>\n",
       "      <td>1091986</td>\n",
       "      <td>1</td>\n",
       "      <td>200</td>\n",
       "      <td>2003</td>\n",
       "      <td>2003</td>\n",
       "      <td>True</td>\n",
       "      <td>0.0</td>\n",
       "      <td>200.0</td>\n",
       "      <td>1</td>\n",
       "      <td>248.0</td>\n",
       "      <td>200.0</td>\n",
       "    </tr>\n",
       "    <tr>\n",
       "      <th>26453</th>\n",
       "      <td>88925420600</td>\n",
       "      <td>234405</td>\n",
       "      <td>25658402</td>\n",
       "      <td>22021999</td>\n",
       "      <td>1</td>\n",
       "      <td>47</td>\n",
       "      <td>2003</td>\n",
       "      <td>2003</td>\n",
       "      <td>True</td>\n",
       "      <td>0.0</td>\n",
       "      <td>47.0</td>\n",
       "      <td>1</td>\n",
       "      <td>47.0</td>\n",
       "      <td>47.0</td>\n",
       "    </tr>\n",
       "    <tr>\n",
       "      <th>24296</th>\n",
       "      <td>79451586172</td>\n",
       "      <td>301105</td>\n",
       "      <td>2448607</td>\n",
       "      <td>21092002</td>\n",
       "      <td>1</td>\n",
       "      <td>5</td>\n",
       "      <td>2003</td>\n",
       "      <td>2003</td>\n",
       "      <td>True</td>\n",
       "      <td>0.0</td>\n",
       "      <td>5.0</td>\n",
       "      <td>1</td>\n",
       "      <td>5.0</td>\n",
       "      <td>5.0</td>\n",
       "    </tr>\n",
       "    <tr>\n",
       "      <th>14406</th>\n",
       "      <td>36602973568</td>\n",
       "      <td>214255</td>\n",
       "      <td>8402620</td>\n",
       "      <td>19081991</td>\n",
       "      <td>1</td>\n",
       "      <td>144</td>\n",
       "      <td>2003</td>\n",
       "      <td>2003</td>\n",
       "      <td>True</td>\n",
       "      <td>0.0</td>\n",
       "      <td>144.0</td>\n",
       "      <td>1</td>\n",
       "      <td>166.0</td>\n",
       "      <td>144.0</td>\n",
       "    </tr>\n",
       "    <tr>\n",
       "      <th>23362</th>\n",
       "      <td>75456923653</td>\n",
       "      <td>142530</td>\n",
       "      <td>31969702</td>\n",
       "      <td>1072001</td>\n",
       "      <td>1</td>\n",
       "      <td>27</td>\n",
       "      <td>2003</td>\n",
       "      <td>2003</td>\n",
       "      <td>True</td>\n",
       "      <td>0.0</td>\n",
       "      <td>27.0</td>\n",
       "      <td>1</td>\n",
       "      <td>39.0</td>\n",
       "      <td>27.0</td>\n",
       "    </tr>\n",
       "    <tr>\n",
       "      <th>...</th>\n",
       "      <td>...</td>\n",
       "      <td>...</td>\n",
       "      <td>...</td>\n",
       "      <td>...</td>\n",
       "      <td>...</td>\n",
       "      <td>...</td>\n",
       "      <td>...</td>\n",
       "      <td>...</td>\n",
       "      <td>...</td>\n",
       "      <td>...</td>\n",
       "      <td>...</td>\n",
       "      <td>...</td>\n",
       "      <td>...</td>\n",
       "      <td>...</td>\n",
       "    </tr>\n",
       "    <tr>\n",
       "      <th>10373</th>\n",
       "      <td>22388742838</td>\n",
       "      <td>234405</td>\n",
       "      <td>57725681</td>\n",
       "      <td>23022015</td>\n",
       "      <td>2</td>\n",
       "      <td>46</td>\n",
       "      <td>2018</td>\n",
       "      <td>2016</td>\n",
       "      <td>False</td>\n",
       "      <td>22.0</td>\n",
       "      <td>24.0</td>\n",
       "      <td>1</td>\n",
       "      <td>24.0</td>\n",
       "      <td>24.0</td>\n",
       "    </tr>\n",
       "    <tr>\n",
       "      <th>4209</th>\n",
       "      <td>04491693323</td>\n",
       "      <td>214240</td>\n",
       "      <td>6554380</td>\n",
       "      <td>1012017</td>\n",
       "      <td>2</td>\n",
       "      <td>23</td>\n",
       "      <td>2018</td>\n",
       "      <td>2018</td>\n",
       "      <td>True</td>\n",
       "      <td>0.0</td>\n",
       "      <td>23.0</td>\n",
       "      <td>1</td>\n",
       "      <td>23.0</td>\n",
       "      <td>23.0</td>\n",
       "    </tr>\n",
       "    <tr>\n",
       "      <th>4228</th>\n",
       "      <td>04507340802</td>\n",
       "      <td>222110</td>\n",
       "      <td>46379400</td>\n",
       "      <td>27122011</td>\n",
       "      <td>7</td>\n",
       "      <td>84</td>\n",
       "      <td>2018</td>\n",
       "      <td>2018</td>\n",
       "      <td>True</td>\n",
       "      <td>0.0</td>\n",
       "      <td>84.0</td>\n",
       "      <td>1</td>\n",
       "      <td>84.0</td>\n",
       "      <td>84.0</td>\n",
       "    </tr>\n",
       "    <tr>\n",
       "      <th>4247</th>\n",
       "      <td>04527574604</td>\n",
       "      <td>214205</td>\n",
       "      <td>5705083</td>\n",
       "      <td>25052015</td>\n",
       "      <td>4</td>\n",
       "      <td>43</td>\n",
       "      <td>2018</td>\n",
       "      <td>2018</td>\n",
       "      <td>True</td>\n",
       "      <td>0.0</td>\n",
       "      <td>43.0</td>\n",
       "      <td>1</td>\n",
       "      <td>43.0</td>\n",
       "      <td>43.0</td>\n",
       "    </tr>\n",
       "    <tr>\n",
       "      <th>10141</th>\n",
       "      <td>21583900268</td>\n",
       "      <td>222110</td>\n",
       "      <td>5613654</td>\n",
       "      <td>13051986</td>\n",
       "      <td>10</td>\n",
       "      <td>391</td>\n",
       "      <td>2018</td>\n",
       "      <td>2018</td>\n",
       "      <td>True</td>\n",
       "      <td>0.0</td>\n",
       "      <td>391.0</td>\n",
       "      <td>1</td>\n",
       "      <td>391.0</td>\n",
       "      <td>391.0</td>\n",
       "    </tr>\n",
       "  </tbody>\n",
       "</table>\n",
       "<p>513 rows × 14 columns</p>\n",
       "</div>"
      ],
      "text/plain": [
       "               cpf cbo_2002  cnpj_raiz  data_adm  count  tenure_rais   Ano  \\\n",
       "18506  52965856668   300305     664902   1091986      1          200  2003   \n",
       "26453  88925420600   234405   25658402  22021999      1           47  2003   \n",
       "24296  79451586172   301105    2448607  21092002      1            5  2003   \n",
       "14406  36602973568   214255    8402620  19081991      1          144  2003   \n",
       "23362  75456923653   142530   31969702   1072001      1           27  2003   \n",
       "...            ...      ...        ...       ...    ...          ...   ...   \n",
       "10373  22388742838   234405   57725681  23022015      2           46  2018   \n",
       "4209   04491693323   214240    6554380   1012017      2           23  2018   \n",
       "4228   04507340802   222110   46379400  27122011      7           84  2018   \n",
       "4247   04527574604   214205    5705083  25052015      4           43  2018   \n",
       "10141  21583900268   222110    5613654  13051986     10          391  2018   \n",
       "\n",
       "       first_year  first_job  previous_tenure  tenure_job  stem_job  tenure  \\\n",
       "18506        2003       True              0.0       200.0         1   248.0   \n",
       "26453        2003       True              0.0        47.0         1    47.0   \n",
       "24296        2003       True              0.0         5.0         1     5.0   \n",
       "14406        2003       True              0.0       144.0         1   166.0   \n",
       "23362        2003       True              0.0        27.0         1    39.0   \n",
       "...           ...        ...              ...         ...       ...     ...   \n",
       "10373        2016      False             22.0        24.0         1    24.0   \n",
       "4209         2018       True              0.0        23.0         1    23.0   \n",
       "4228         2018       True              0.0        84.0         1    84.0   \n",
       "4247         2018       True              0.0        43.0         1    43.0   \n",
       "10141        2018       True              0.0       391.0         1   391.0   \n",
       "\n",
       "       max_tenure_job  \n",
       "18506           200.0  \n",
       "26453            47.0  \n",
       "24296             5.0  \n",
       "14406           144.0  \n",
       "23362            27.0  \n",
       "...               ...  \n",
       "10373            24.0  \n",
       "4209             23.0  \n",
       "4228             84.0  \n",
       "4247             43.0  \n",
       "10141           391.0  \n",
       "\n",
       "[513 rows x 14 columns]"
      ]
     },
     "execution_count": 97,
     "metadata": {},
     "output_type": "execute_result"
    }
   ],
   "source": [
    "df_tenure_2"
   ]
  },
  {
   "cell_type": "code",
   "execution_count": 98,
   "metadata": {},
   "outputs": [],
   "source": [
    "df_tenure_2[\"max_year\"] = df_tenure_2.groupby(['cpf','stem_job'])['Ano'].transform('max') # testando"
   ]
  },
  {
   "cell_type": "code",
   "execution_count": 99,
   "metadata": {},
   "outputs": [],
   "source": [
    "df_tenure_2 = df_tenure_2[(df_tenure_2[\"max_year\"] == df_tenure_2[\"Ano\"])] # testando"
   ]
  },
  {
   "cell_type": "code",
   "execution_count": 100,
   "metadata": {},
   "outputs": [
    {
     "data": {
      "text/html": [
       "<div>\n",
       "<style scoped>\n",
       "    .dataframe tbody tr th:only-of-type {\n",
       "        vertical-align: middle;\n",
       "    }\n",
       "\n",
       "    .dataframe tbody tr th {\n",
       "        vertical-align: top;\n",
       "    }\n",
       "\n",
       "    .dataframe thead th {\n",
       "        text-align: right;\n",
       "    }\n",
       "</style>\n",
       "<table border=\"1\" class=\"dataframe\">\n",
       "  <thead>\n",
       "    <tr style=\"text-align: right;\">\n",
       "      <th></th>\n",
       "      <th>cpf</th>\n",
       "      <th>cbo_2002</th>\n",
       "      <th>cnpj_raiz</th>\n",
       "      <th>data_adm</th>\n",
       "      <th>count</th>\n",
       "      <th>tenure_rais</th>\n",
       "      <th>Ano</th>\n",
       "      <th>first_year</th>\n",
       "      <th>first_job</th>\n",
       "      <th>previous_tenure</th>\n",
       "      <th>tenure_job</th>\n",
       "      <th>stem_job</th>\n",
       "      <th>tenure</th>\n",
       "      <th>max_tenure_job</th>\n",
       "      <th>max_year</th>\n",
       "    </tr>\n",
       "  </thead>\n",
       "  <tbody>\n",
       "    <tr>\n",
       "      <th>18506</th>\n",
       "      <td>52965856668</td>\n",
       "      <td>300305</td>\n",
       "      <td>664902</td>\n",
       "      <td>1091986</td>\n",
       "      <td>1</td>\n",
       "      <td>200</td>\n",
       "      <td>2003</td>\n",
       "      <td>2003</td>\n",
       "      <td>True</td>\n",
       "      <td>0.0</td>\n",
       "      <td>200.0</td>\n",
       "      <td>1</td>\n",
       "      <td>248.0</td>\n",
       "      <td>200.0</td>\n",
       "      <td>2003</td>\n",
       "    </tr>\n",
       "    <tr>\n",
       "      <th>26453</th>\n",
       "      <td>88925420600</td>\n",
       "      <td>234405</td>\n",
       "      <td>25658402</td>\n",
       "      <td>22021999</td>\n",
       "      <td>1</td>\n",
       "      <td>47</td>\n",
       "      <td>2003</td>\n",
       "      <td>2003</td>\n",
       "      <td>True</td>\n",
       "      <td>0.0</td>\n",
       "      <td>47.0</td>\n",
       "      <td>1</td>\n",
       "      <td>47.0</td>\n",
       "      <td>47.0</td>\n",
       "      <td>2003</td>\n",
       "    </tr>\n",
       "    <tr>\n",
       "      <th>24296</th>\n",
       "      <td>79451586172</td>\n",
       "      <td>301105</td>\n",
       "      <td>2448607</td>\n",
       "      <td>21092002</td>\n",
       "      <td>1</td>\n",
       "      <td>5</td>\n",
       "      <td>2003</td>\n",
       "      <td>2003</td>\n",
       "      <td>True</td>\n",
       "      <td>0.0</td>\n",
       "      <td>5.0</td>\n",
       "      <td>1</td>\n",
       "      <td>5.0</td>\n",
       "      <td>5.0</td>\n",
       "      <td>2003</td>\n",
       "    </tr>\n",
       "    <tr>\n",
       "      <th>14406</th>\n",
       "      <td>36602973568</td>\n",
       "      <td>214255</td>\n",
       "      <td>8402620</td>\n",
       "      <td>19081991</td>\n",
       "      <td>1</td>\n",
       "      <td>144</td>\n",
       "      <td>2003</td>\n",
       "      <td>2003</td>\n",
       "      <td>True</td>\n",
       "      <td>0.0</td>\n",
       "      <td>144.0</td>\n",
       "      <td>1</td>\n",
       "      <td>166.0</td>\n",
       "      <td>144.0</td>\n",
       "      <td>2003</td>\n",
       "    </tr>\n",
       "    <tr>\n",
       "      <th>23362</th>\n",
       "      <td>75456923653</td>\n",
       "      <td>142530</td>\n",
       "      <td>31969702</td>\n",
       "      <td>1072001</td>\n",
       "      <td>1</td>\n",
       "      <td>27</td>\n",
       "      <td>2003</td>\n",
       "      <td>2003</td>\n",
       "      <td>True</td>\n",
       "      <td>0.0</td>\n",
       "      <td>27.0</td>\n",
       "      <td>1</td>\n",
       "      <td>39.0</td>\n",
       "      <td>27.0</td>\n",
       "      <td>2003</td>\n",
       "    </tr>\n",
       "    <tr>\n",
       "      <th>...</th>\n",
       "      <td>...</td>\n",
       "      <td>...</td>\n",
       "      <td>...</td>\n",
       "      <td>...</td>\n",
       "      <td>...</td>\n",
       "      <td>...</td>\n",
       "      <td>...</td>\n",
       "      <td>...</td>\n",
       "      <td>...</td>\n",
       "      <td>...</td>\n",
       "      <td>...</td>\n",
       "      <td>...</td>\n",
       "      <td>...</td>\n",
       "      <td>...</td>\n",
       "      <td>...</td>\n",
       "    </tr>\n",
       "    <tr>\n",
       "      <th>10373</th>\n",
       "      <td>22388742838</td>\n",
       "      <td>234405</td>\n",
       "      <td>57725681</td>\n",
       "      <td>23022015</td>\n",
       "      <td>2</td>\n",
       "      <td>46</td>\n",
       "      <td>2018</td>\n",
       "      <td>2016</td>\n",
       "      <td>False</td>\n",
       "      <td>22.0</td>\n",
       "      <td>24.0</td>\n",
       "      <td>1</td>\n",
       "      <td>24.0</td>\n",
       "      <td>24.0</td>\n",
       "      <td>2018</td>\n",
       "    </tr>\n",
       "    <tr>\n",
       "      <th>4209</th>\n",
       "      <td>04491693323</td>\n",
       "      <td>214240</td>\n",
       "      <td>6554380</td>\n",
       "      <td>1012017</td>\n",
       "      <td>2</td>\n",
       "      <td>23</td>\n",
       "      <td>2018</td>\n",
       "      <td>2018</td>\n",
       "      <td>True</td>\n",
       "      <td>0.0</td>\n",
       "      <td>23.0</td>\n",
       "      <td>1</td>\n",
       "      <td>23.0</td>\n",
       "      <td>23.0</td>\n",
       "      <td>2018</td>\n",
       "    </tr>\n",
       "    <tr>\n",
       "      <th>4228</th>\n",
       "      <td>04507340802</td>\n",
       "      <td>222110</td>\n",
       "      <td>46379400</td>\n",
       "      <td>27122011</td>\n",
       "      <td>7</td>\n",
       "      <td>84</td>\n",
       "      <td>2018</td>\n",
       "      <td>2018</td>\n",
       "      <td>True</td>\n",
       "      <td>0.0</td>\n",
       "      <td>84.0</td>\n",
       "      <td>1</td>\n",
       "      <td>84.0</td>\n",
       "      <td>84.0</td>\n",
       "      <td>2018</td>\n",
       "    </tr>\n",
       "    <tr>\n",
       "      <th>4247</th>\n",
       "      <td>04527574604</td>\n",
       "      <td>214205</td>\n",
       "      <td>5705083</td>\n",
       "      <td>25052015</td>\n",
       "      <td>4</td>\n",
       "      <td>43</td>\n",
       "      <td>2018</td>\n",
       "      <td>2018</td>\n",
       "      <td>True</td>\n",
       "      <td>0.0</td>\n",
       "      <td>43.0</td>\n",
       "      <td>1</td>\n",
       "      <td>43.0</td>\n",
       "      <td>43.0</td>\n",
       "      <td>2018</td>\n",
       "    </tr>\n",
       "    <tr>\n",
       "      <th>10141</th>\n",
       "      <td>21583900268</td>\n",
       "      <td>222110</td>\n",
       "      <td>5613654</td>\n",
       "      <td>13051986</td>\n",
       "      <td>10</td>\n",
       "      <td>391</td>\n",
       "      <td>2018</td>\n",
       "      <td>2018</td>\n",
       "      <td>True</td>\n",
       "      <td>0.0</td>\n",
       "      <td>391.0</td>\n",
       "      <td>1</td>\n",
       "      <td>391.0</td>\n",
       "      <td>391.0</td>\n",
       "      <td>2018</td>\n",
       "    </tr>\n",
       "  </tbody>\n",
       "</table>\n",
       "<p>510 rows × 15 columns</p>\n",
       "</div>"
      ],
      "text/plain": [
       "               cpf cbo_2002  cnpj_raiz  data_adm  count  tenure_rais   Ano  \\\n",
       "18506  52965856668   300305     664902   1091986      1          200  2003   \n",
       "26453  88925420600   234405   25658402  22021999      1           47  2003   \n",
       "24296  79451586172   301105    2448607  21092002      1            5  2003   \n",
       "14406  36602973568   214255    8402620  19081991      1          144  2003   \n",
       "23362  75456923653   142530   31969702   1072001      1           27  2003   \n",
       "...            ...      ...        ...       ...    ...          ...   ...   \n",
       "10373  22388742838   234405   57725681  23022015      2           46  2018   \n",
       "4209   04491693323   214240    6554380   1012017      2           23  2018   \n",
       "4228   04507340802   222110   46379400  27122011      7           84  2018   \n",
       "4247   04527574604   214205    5705083  25052015      4           43  2018   \n",
       "10141  21583900268   222110    5613654  13051986     10          391  2018   \n",
       "\n",
       "       first_year  first_job  previous_tenure  tenure_job  stem_job  tenure  \\\n",
       "18506        2003       True              0.0       200.0         1   248.0   \n",
       "26453        2003       True              0.0        47.0         1    47.0   \n",
       "24296        2003       True              0.0         5.0         1     5.0   \n",
       "14406        2003       True              0.0       144.0         1   166.0   \n",
       "23362        2003       True              0.0        27.0         1    39.0   \n",
       "...           ...        ...              ...         ...       ...     ...   \n",
       "10373        2016      False             22.0        24.0         1    24.0   \n",
       "4209         2018       True              0.0        23.0         1    23.0   \n",
       "4228         2018       True              0.0        84.0         1    84.0   \n",
       "4247         2018       True              0.0        43.0         1    43.0   \n",
       "10141        2018       True              0.0       391.0         1   391.0   \n",
       "\n",
       "       max_tenure_job  max_year  \n",
       "18506           200.0      2003  \n",
       "26453            47.0      2003  \n",
       "24296             5.0      2003  \n",
       "14406           144.0      2003  \n",
       "23362            27.0      2003  \n",
       "...               ...       ...  \n",
       "10373            24.0      2018  \n",
       "4209             23.0      2018  \n",
       "4228             84.0      2018  \n",
       "4247             43.0      2018  \n",
       "10141           391.0      2018  \n",
       "\n",
       "[510 rows x 15 columns]"
      ]
     },
     "execution_count": 100,
     "metadata": {},
     "output_type": "execute_result"
    }
   ],
   "source": [
    "df_tenure_2"
   ]
  },
  {
   "cell_type": "code",
   "execution_count": 101,
   "metadata": {},
   "outputs": [
    {
     "data": {
      "text/plain": [
       "count    510.000000\n",
       "mean     102.327451\n",
       "std      120.598135\n",
       "min        0.000000\n",
       "25%       16.500000\n",
       "50%       49.500000\n",
       "75%      148.750000\n",
       "max      826.000000\n",
       "Name: tenure, dtype: float64"
      ]
     },
     "execution_count": 101,
     "metadata": {},
     "output_type": "execute_result"
    }
   ],
   "source": [
    "df_tenure_2.tenure.describe()"
   ]
  },
  {
   "cell_type": "code",
   "execution_count": 102,
   "metadata": {},
   "outputs": [
    {
     "data": {
      "text/plain": [
       "508"
      ]
     },
     "execution_count": 102,
     "metadata": {},
     "output_type": "execute_result"
    }
   ],
   "source": [
    "len(df_tenure_2.cpf.unique())"
   ]
  },
  {
   "cell_type": "code",
   "execution_count": 103,
   "metadata": {},
   "outputs": [
    {
     "data": {
      "text/html": [
       "<div>\n",
       "<style scoped>\n",
       "    .dataframe tbody tr th:only-of-type {\n",
       "        vertical-align: middle;\n",
       "    }\n",
       "\n",
       "    .dataframe tbody tr th {\n",
       "        vertical-align: top;\n",
       "    }\n",
       "\n",
       "    .dataframe thead th {\n",
       "        text-align: right;\n",
       "    }\n",
       "</style>\n",
       "<table border=\"1\" class=\"dataframe\">\n",
       "  <thead>\n",
       "    <tr style=\"text-align: right;\">\n",
       "      <th></th>\n",
       "      <th>cpf</th>\n",
       "      <th>cbo_2002</th>\n",
       "      <th>cnpj_raiz</th>\n",
       "      <th>data_adm</th>\n",
       "      <th>count</th>\n",
       "      <th>tenure_rais</th>\n",
       "      <th>Ano</th>\n",
       "      <th>first_year</th>\n",
       "      <th>first_job</th>\n",
       "      <th>previous_tenure</th>\n",
       "      <th>tenure_job</th>\n",
       "      <th>stem_job</th>\n",
       "      <th>tenure</th>\n",
       "      <th>max_tenure_job</th>\n",
       "      <th>max_year</th>\n",
       "    </tr>\n",
       "  </thead>\n",
       "  <tbody>\n",
       "    <tr>\n",
       "      <th>14406</th>\n",
       "      <td>36602973568</td>\n",
       "      <td>214255</td>\n",
       "      <td>8402620</td>\n",
       "      <td>19081991</td>\n",
       "      <td>1</td>\n",
       "      <td>144</td>\n",
       "      <td>2003</td>\n",
       "      <td>2003</td>\n",
       "      <td>True</td>\n",
       "      <td>0.0</td>\n",
       "      <td>144.0</td>\n",
       "      <td>1</td>\n",
       "      <td>166.0</td>\n",
       "      <td>144.0</td>\n",
       "      <td>2003</td>\n",
       "    </tr>\n",
       "  </tbody>\n",
       "</table>\n",
       "</div>"
      ],
      "text/plain": [
       "               cpf cbo_2002  cnpj_raiz  data_adm  count  tenure_rais   Ano  \\\n",
       "14406  36602973568   214255    8402620  19081991      1          144  2003   \n",
       "\n",
       "       first_year  first_job  previous_tenure  tenure_job  stem_job  tenure  \\\n",
       "14406        2003       True              0.0       144.0         1   166.0   \n",
       "\n",
       "       max_tenure_job  max_year  \n",
       "14406           144.0      2003  "
      ]
     },
     "execution_count": 103,
     "metadata": {},
     "output_type": "execute_result"
    }
   ],
   "source": [
    "df_tenure_2.query(\"cpf == '36602973568'\")"
   ]
  },
  {
   "cell_type": "code",
   "execution_count": 104,
   "metadata": {
    "scrolled": true
   },
   "outputs": [],
   "source": [
    "df_tenure_2 = df_tenure_2.drop(columns = ['count', 'first_job', 'Ano', 'first_year','previous_tenure', 'tenure_job', 'max_tenure_job'])"
   ]
  },
  {
   "cell_type": "markdown",
   "metadata": {},
   "source": [
    "# Juntar bases df_tenure_2 com df"
   ]
  },
  {
   "cell_type": "code",
   "execution_count": 105,
   "metadata": {},
   "outputs": [
    {
     "name": "stdout",
     "output_type": "stream",
     "text": [
      "<class 'pandas.core.frame.DataFrame'>\n",
      "Int64Index: 510 entries, 18506 to 10141\n",
      "Data columns (total 8 columns):\n",
      " #   Column       Non-Null Count  Dtype  \n",
      "---  ------       --------------  -----  \n",
      " 0   cpf          510 non-null    object \n",
      " 1   cbo_2002     510 non-null    object \n",
      " 2   cnpj_raiz    510 non-null    int64  \n",
      " 3   data_adm     510 non-null    int64  \n",
      " 4   tenure_rais  510 non-null    int32  \n",
      " 5   stem_job     510 non-null    int64  \n",
      " 6   tenure       510 non-null    float64\n",
      " 7   max_year     510 non-null    int64  \n",
      "dtypes: float64(1), int32(1), int64(4), object(2)\n",
      "memory usage: 33.9+ KB\n"
     ]
    }
   ],
   "source": [
    "df_tenure_2.info()"
   ]
  },
  {
   "cell_type": "code",
   "execution_count": 106,
   "metadata": {},
   "outputs": [],
   "source": [
    "#df_tenure_2.cpf = str(df_tenure_2.cpf)"
   ]
  },
  {
   "cell_type": "code",
   "execution_count": 107,
   "metadata": {},
   "outputs": [],
   "source": [
    "#eleitos.cpf = str(eleitos.cpf)"
   ]
  },
  {
   "cell_type": "code",
   "execution_count": 108,
   "metadata": {},
   "outputs": [],
   "source": [
    "df = eleitos.merge(df_tenure_2, how = \"left\", on = \"cpf\")"
   ]
  },
  {
   "cell_type": "code",
   "execution_count": 109,
   "metadata": {},
   "outputs": [],
   "source": [
    "df[\"stem_job\"].fillna(0, inplace=True)"
   ]
  },
  {
   "cell_type": "code",
   "execution_count": 110,
   "metadata": {},
   "outputs": [],
   "source": [
    "df[\"tenure\"].fillna(0, inplace = True)"
   ]
  },
  {
   "cell_type": "code",
   "execution_count": 111,
   "metadata": {
    "scrolled": true
   },
   "outputs": [
    {
     "data": {
      "text/html": [
       "<div>\n",
       "<style scoped>\n",
       "    .dataframe tbody tr th:only-of-type {\n",
       "        vertical-align: middle;\n",
       "    }\n",
       "\n",
       "    .dataframe tbody tr th {\n",
       "        vertical-align: top;\n",
       "    }\n",
       "\n",
       "    .dataframe thead th {\n",
       "        text-align: right;\n",
       "    }\n",
       "</style>\n",
       "<table border=\"1\" class=\"dataframe\">\n",
       "  <thead>\n",
       "    <tr style=\"text-align: right;\">\n",
       "      <th></th>\n",
       "      <th>13310</th>\n",
       "      <th>13311</th>\n",
       "      <th>13312</th>\n",
       "      <th>13313</th>\n",
       "      <th>13314</th>\n",
       "    </tr>\n",
       "  </thead>\n",
       "  <tbody>\n",
       "    <tr>\n",
       "      <th>ano</th>\n",
       "      <td>2020</td>\n",
       "      <td>2020</td>\n",
       "      <td>2020</td>\n",
       "      <td>2020</td>\n",
       "      <td>2020</td>\n",
       "    </tr>\n",
       "    <tr>\n",
       "      <th>tipo_eleicao</th>\n",
       "      <td>eleicao ordinaria</td>\n",
       "      <td>eleicao ordinaria</td>\n",
       "      <td>eleicao ordinaria</td>\n",
       "      <td>eleicao ordinaria</td>\n",
       "      <td>eleicao ordinaria</td>\n",
       "    </tr>\n",
       "    <tr>\n",
       "      <th>sigla_uf</th>\n",
       "      <td>GO</td>\n",
       "      <td>GO</td>\n",
       "      <td>GO</td>\n",
       "      <td>GO</td>\n",
       "      <td>GO</td>\n",
       "    </tr>\n",
       "    <tr>\n",
       "      <th>id_municipio</th>\n",
       "      <td>5222203</td>\n",
       "      <td>5222203</td>\n",
       "      <td>5222302</td>\n",
       "      <td>5222302</td>\n",
       "      <td>5222302</td>\n",
       "    </tr>\n",
       "    <tr>\n",
       "      <th>id_municipio_tse</th>\n",
       "      <td>93289</td>\n",
       "      <td>93289</td>\n",
       "      <td>93505</td>\n",
       "      <td>93505</td>\n",
       "      <td>93505</td>\n",
       "    </tr>\n",
       "    <tr>\n",
       "      <th>id_candidato_bd</th>\n",
       "      <td>243606</td>\n",
       "      <td>1447379</td>\n",
       "      <td>667574</td>\n",
       "      <td>398995</td>\n",
       "      <td>785080</td>\n",
       "    </tr>\n",
       "    <tr>\n",
       "      <th>cpf</th>\n",
       "      <td>46970436187</td>\n",
       "      <td>14759330100</td>\n",
       "      <td>80065961153</td>\n",
       "      <td>58573658134</td>\n",
       "      <td>90095375104</td>\n",
       "    </tr>\n",
       "    <tr>\n",
       "      <th>titulo_eleitoral</th>\n",
       "      <td>32487671031</td>\n",
       "      <td>11497242062</td>\n",
       "      <td>28905971007</td>\n",
       "      <td>24445021090</td>\n",
       "      <td>24689481031</td>\n",
       "    </tr>\n",
       "    <tr>\n",
       "      <th>sequencial</th>\n",
       "      <td>90000976614</td>\n",
       "      <td>90001056573</td>\n",
       "      <td>90000860420</td>\n",
       "      <td>90000721220</td>\n",
       "      <td>90000719733</td>\n",
       "    </tr>\n",
       "    <tr>\n",
       "      <th>numero</th>\n",
       "      <td>25</td>\n",
       "      <td>22</td>\n",
       "      <td>15</td>\n",
       "      <td>25</td>\n",
       "      <td>12</td>\n",
       "    </tr>\n",
       "    <tr>\n",
       "      <th>nome</th>\n",
       "      <td>Rubens Francisco Lopes</td>\n",
       "      <td>Claudio Flavio Ornelas Araujo</td>\n",
       "      <td>Reginaldo Basilio De Oliveira</td>\n",
       "      <td>Waldilei Jose De Lemos</td>\n",
       "      <td>Waldeci Pereira De Morais Gomes</td>\n",
       "    </tr>\n",
       "    <tr>\n",
       "      <th>nome_urna</th>\n",
       "      <td>Rubens</td>\n",
       "      <td>Cláudio Ornelas</td>\n",
       "      <td>Professor Reginaldo</td>\n",
       "      <td>Waldilei Lemos</td>\n",
       "      <td>Waldeci Morais</td>\n",
       "    </tr>\n",
       "    <tr>\n",
       "      <th>numero_partido</th>\n",
       "      <td>25</td>\n",
       "      <td>22</td>\n",
       "      <td>15</td>\n",
       "      <td>25</td>\n",
       "      <td>12</td>\n",
       "    </tr>\n",
       "    <tr>\n",
       "      <th>sigla_partido</th>\n",
       "      <td>DEM</td>\n",
       "      <td>PL</td>\n",
       "      <td>MDB</td>\n",
       "      <td>DEM</td>\n",
       "      <td>PDT</td>\n",
       "    </tr>\n",
       "    <tr>\n",
       "      <th>cargo</th>\n",
       "      <td>prefeito</td>\n",
       "      <td>prefeito</td>\n",
       "      <td>prefeito</td>\n",
       "      <td>prefeito</td>\n",
       "      <td>prefeito</td>\n",
       "    </tr>\n",
       "    <tr>\n",
       "      <th>situacao</th>\n",
       "      <td>deferido</td>\n",
       "      <td>deferido</td>\n",
       "      <td>deferido</td>\n",
       "      <td>deferido</td>\n",
       "      <td>deferido</td>\n",
       "    </tr>\n",
       "    <tr>\n",
       "      <th>ocupacao</th>\n",
       "      <td>empresario</td>\n",
       "      <td>servidor publico estadual</td>\n",
       "      <td>professor de ensino medio</td>\n",
       "      <td>servidor publico municipal</td>\n",
       "      <td>agente administrativo</td>\n",
       "    </tr>\n",
       "    <tr>\n",
       "      <th>data_nascimento</th>\n",
       "      <td>1972-04-27</td>\n",
       "      <td>1961-02-01</td>\n",
       "      <td>1974-04-23</td>\n",
       "      <td>1972-02-25</td>\n",
       "      <td>1969-10-27</td>\n",
       "    </tr>\n",
       "    <tr>\n",
       "      <th>idade</th>\n",
       "      <td>48</td>\n",
       "      <td>60</td>\n",
       "      <td>46</td>\n",
       "      <td>49</td>\n",
       "      <td>51</td>\n",
       "    </tr>\n",
       "    <tr>\n",
       "      <th>genero</th>\n",
       "      <td>masculino</td>\n",
       "      <td>masculino</td>\n",
       "      <td>masculino</td>\n",
       "      <td>masculino</td>\n",
       "      <td>feminino</td>\n",
       "    </tr>\n",
       "    <tr>\n",
       "      <th>instrucao</th>\n",
       "      <td>ensino medio completo</td>\n",
       "      <td>ensino superior incompleto</td>\n",
       "      <td>ensino superior completo</td>\n",
       "      <td>ensino superior completo</td>\n",
       "      <td>ensino medio completo</td>\n",
       "    </tr>\n",
       "    <tr>\n",
       "      <th>estado_civil</th>\n",
       "      <td>divorciado(a)</td>\n",
       "      <td>casado(a)</td>\n",
       "      <td>casado(a)</td>\n",
       "      <td>casado(a)</td>\n",
       "      <td>casado(a)</td>\n",
       "    </tr>\n",
       "    <tr>\n",
       "      <th>nacionalidade</th>\n",
       "      <td>brasileira</td>\n",
       "      <td>brasileira</td>\n",
       "      <td>brasileira</td>\n",
       "      <td>brasileira</td>\n",
       "      <td>brasileira</td>\n",
       "    </tr>\n",
       "    <tr>\n",
       "      <th>sigla_uf_nascimento</th>\n",
       "      <td>GO</td>\n",
       "      <td>GO</td>\n",
       "      <td>GO</td>\n",
       "      <td>GO</td>\n",
       "      <td>GO</td>\n",
       "    </tr>\n",
       "    <tr>\n",
       "      <th>municipio_nascimento</th>\n",
       "      <td>Palmeiras De Goiás</td>\n",
       "      <td>Formosa</td>\n",
       "      <td>Anápolis</td>\n",
       "      <td>Pirenópolis</td>\n",
       "      <td>Pirenópolis</td>\n",
       "    </tr>\n",
       "    <tr>\n",
       "      <th>email</th>\n",
       "      <td>gilsonsaad@yahoocombr</td>\n",
       "      <td>claudioornelas1961@gmailcom</td>\n",
       "      <td>mdbvp@hotmailcom</td>\n",
       "      <td>macenacontabil@hotmailcom</td>\n",
       "      <td>leonardocalazan81@gmailcom</td>\n",
       "    </tr>\n",
       "    <tr>\n",
       "      <th>raca</th>\n",
       "      <td>parda</td>\n",
       "      <td>parda</td>\n",
       "      <td>parda</td>\n",
       "      <td>parda</td>\n",
       "      <td>branca</td>\n",
       "    </tr>\n",
       "    <tr>\n",
       "      <th>ano_1</th>\n",
       "      <td>2020</td>\n",
       "      <td>2020</td>\n",
       "      <td>2020</td>\n",
       "      <td>2020</td>\n",
       "      <td>2020</td>\n",
       "    </tr>\n",
       "    <tr>\n",
       "      <th>turno</th>\n",
       "      <td>1</td>\n",
       "      <td>1</td>\n",
       "      <td>1</td>\n",
       "      <td>1</td>\n",
       "      <td>1</td>\n",
       "    </tr>\n",
       "    <tr>\n",
       "      <th>tipo_eleicao_1</th>\n",
       "      <td>eleicao ordinaria</td>\n",
       "      <td>eleicao ordinaria</td>\n",
       "      <td>eleicao ordinaria</td>\n",
       "      <td>eleicao ordinaria</td>\n",
       "      <td>eleicao ordinaria</td>\n",
       "    </tr>\n",
       "    <tr>\n",
       "      <th>sigla_uf_1</th>\n",
       "      <td>GO</td>\n",
       "      <td>GO</td>\n",
       "      <td>GO</td>\n",
       "      <td>GO</td>\n",
       "      <td>GO</td>\n",
       "    </tr>\n",
       "    <tr>\n",
       "      <th>id_municipio_1</th>\n",
       "      <td>5222203</td>\n",
       "      <td>5222203</td>\n",
       "      <td>5222302</td>\n",
       "      <td>5222302</td>\n",
       "      <td>5222302</td>\n",
       "    </tr>\n",
       "    <tr>\n",
       "      <th>id_municipio_tse_1</th>\n",
       "      <td>93289</td>\n",
       "      <td>93289</td>\n",
       "      <td>93505</td>\n",
       "      <td>93505</td>\n",
       "      <td>93505</td>\n",
       "    </tr>\n",
       "    <tr>\n",
       "      <th>cargo_1</th>\n",
       "      <td>prefeito</td>\n",
       "      <td>prefeito</td>\n",
       "      <td>prefeito</td>\n",
       "      <td>prefeito</td>\n",
       "      <td>prefeito</td>\n",
       "    </tr>\n",
       "    <tr>\n",
       "      <th>sigla_partido_1</th>\n",
       "      <td>DEM</td>\n",
       "      <td>PL</td>\n",
       "      <td>MDB</td>\n",
       "      <td>DEM</td>\n",
       "      <td>PDT</td>\n",
       "    </tr>\n",
       "    <tr>\n",
       "      <th>numero_candidato</th>\n",
       "      <td>25</td>\n",
       "      <td>22</td>\n",
       "      <td>15</td>\n",
       "      <td>25</td>\n",
       "      <td>12</td>\n",
       "    </tr>\n",
       "    <tr>\n",
       "      <th>sequencial_candidato</th>\n",
       "      <td>90000976614</td>\n",
       "      <td>90001056573</td>\n",
       "      <td>90000860420</td>\n",
       "      <td>90000721220</td>\n",
       "      <td>90000719733</td>\n",
       "    </tr>\n",
       "    <tr>\n",
       "      <th>id_candidato_bd_1</th>\n",
       "      <td>243606</td>\n",
       "      <td>1447379</td>\n",
       "      <td>667574</td>\n",
       "      <td>398995</td>\n",
       "      <td>785080</td>\n",
       "    </tr>\n",
       "    <tr>\n",
       "      <th>resultado</th>\n",
       "      <td>eleito</td>\n",
       "      <td>nao eleito</td>\n",
       "      <td>nao eleito</td>\n",
       "      <td>eleito</td>\n",
       "      <td>nao eleito</td>\n",
       "    </tr>\n",
       "    <tr>\n",
       "      <th>votos</th>\n",
       "      <td>1452</td>\n",
       "      <td>496</td>\n",
       "      <td>1582</td>\n",
       "      <td>2255</td>\n",
       "      <td>529</td>\n",
       "    </tr>\n",
       "    <tr>\n",
       "      <th>decisao_primeiro_turno</th>\n",
       "      <td>1</td>\n",
       "      <td>1</td>\n",
       "      <td>1</td>\n",
       "      <td>1</td>\n",
       "      <td>1</td>\n",
       "    </tr>\n",
       "    <tr>\n",
       "      <th>total_votos</th>\n",
       "      <td>2948</td>\n",
       "      <td>2948</td>\n",
       "      <td>4366</td>\n",
       "      <td>4366</td>\n",
       "      <td>4366</td>\n",
       "    </tr>\n",
       "    <tr>\n",
       "      <th>%votos</th>\n",
       "      <td>0.492537</td>\n",
       "      <td>0.16825</td>\n",
       "      <td>0.362345</td>\n",
       "      <td>0.516491</td>\n",
       "      <td>0.121164</td>\n",
       "    </tr>\n",
       "    <tr>\n",
       "      <th>2_lugar</th>\n",
       "      <td>False</td>\n",
       "      <td>False</td>\n",
       "      <td>True</td>\n",
       "      <td>False</td>\n",
       "      <td>False</td>\n",
       "    </tr>\n",
       "    <tr>\n",
       "      <th>3_lugar</th>\n",
       "      <td>False</td>\n",
       "      <td>True</td>\n",
       "      <td>False</td>\n",
       "      <td>False</td>\n",
       "      <td>True</td>\n",
       "    </tr>\n",
       "    <tr>\n",
       "      <th>dif_votos_2_lugar</th>\n",
       "      <td>0.290366</td>\n",
       "      <td>0.290366</td>\n",
       "      <td>0.154146</td>\n",
       "      <td>0.154146</td>\n",
       "      <td>0.154146</td>\n",
       "    </tr>\n",
       "    <tr>\n",
       "      <th>dif_votos_3_lugar</th>\n",
       "      <td>0.324288</td>\n",
       "      <td>0.324288</td>\n",
       "      <td>0.395328</td>\n",
       "      <td>0.395328</td>\n",
       "      <td>0.395328</td>\n",
       "    </tr>\n",
       "    <tr>\n",
       "      <th>dif_votos</th>\n",
       "      <td>0.324288</td>\n",
       "      <td>0.324288</td>\n",
       "      <td>0.241182</td>\n",
       "      <td>0.241182</td>\n",
       "      <td>0.241182</td>\n",
       "    </tr>\n",
       "    <tr>\n",
       "      <th>cbo_2002</th>\n",
       "      <td>NaN</td>\n",
       "      <td>NaN</td>\n",
       "      <td>NaN</td>\n",
       "      <td>NaN</td>\n",
       "      <td>NaN</td>\n",
       "    </tr>\n",
       "    <tr>\n",
       "      <th>cnpj_raiz</th>\n",
       "      <td>NaN</td>\n",
       "      <td>NaN</td>\n",
       "      <td>NaN</td>\n",
       "      <td>NaN</td>\n",
       "      <td>NaN</td>\n",
       "    </tr>\n",
       "    <tr>\n",
       "      <th>data_adm</th>\n",
       "      <td>NaN</td>\n",
       "      <td>NaN</td>\n",
       "      <td>NaN</td>\n",
       "      <td>NaN</td>\n",
       "      <td>NaN</td>\n",
       "    </tr>\n",
       "    <tr>\n",
       "      <th>tenure_rais</th>\n",
       "      <td>NaN</td>\n",
       "      <td>NaN</td>\n",
       "      <td>NaN</td>\n",
       "      <td>NaN</td>\n",
       "      <td>NaN</td>\n",
       "    </tr>\n",
       "    <tr>\n",
       "      <th>stem_job</th>\n",
       "      <td>0.0</td>\n",
       "      <td>0.0</td>\n",
       "      <td>0.0</td>\n",
       "      <td>0.0</td>\n",
       "      <td>0.0</td>\n",
       "    </tr>\n",
       "    <tr>\n",
       "      <th>tenure</th>\n",
       "      <td>0.0</td>\n",
       "      <td>0.0</td>\n",
       "      <td>0.0</td>\n",
       "      <td>0.0</td>\n",
       "      <td>0.0</td>\n",
       "    </tr>\n",
       "    <tr>\n",
       "      <th>max_year</th>\n",
       "      <td>NaN</td>\n",
       "      <td>NaN</td>\n",
       "      <td>NaN</td>\n",
       "      <td>NaN</td>\n",
       "      <td>NaN</td>\n",
       "    </tr>\n",
       "  </tbody>\n",
       "</table>\n",
       "</div>"
      ],
      "text/plain": [
       "                                         13310                          13311  \\\n",
       "ano                                       2020                           2020   \n",
       "tipo_eleicao                 eleicao ordinaria              eleicao ordinaria   \n",
       "sigla_uf                                    GO                             GO   \n",
       "id_municipio                           5222203                        5222203   \n",
       "id_municipio_tse                         93289                          93289   \n",
       "id_candidato_bd                         243606                        1447379   \n",
       "cpf                                46970436187                    14759330100   \n",
       "titulo_eleitoral                   32487671031                    11497242062   \n",
       "sequencial                         90000976614                    90001056573   \n",
       "numero                                      25                             22   \n",
       "nome                    Rubens Francisco Lopes  Claudio Flavio Ornelas Araujo   \n",
       "nome_urna                               Rubens                Cláudio Ornelas   \n",
       "numero_partido                              25                             22   \n",
       "sigla_partido                              DEM                             PL   \n",
       "cargo                                 prefeito                       prefeito   \n",
       "situacao                              deferido                       deferido   \n",
       "ocupacao                            empresario      servidor publico estadual   \n",
       "data_nascimento                     1972-04-27                     1961-02-01   \n",
       "idade                                       48                             60   \n",
       "genero                               masculino                      masculino   \n",
       "instrucao                ensino medio completo     ensino superior incompleto   \n",
       "estado_civil                     divorciado(a)                      casado(a)   \n",
       "nacionalidade                       brasileira                     brasileira   \n",
       "sigla_uf_nascimento                         GO                             GO   \n",
       "municipio_nascimento        Palmeiras De Goiás                        Formosa   \n",
       "email                    gilsonsaad@yahoocombr    claudioornelas1961@gmailcom   \n",
       "raca                                     parda                          parda   \n",
       "ano_1                                     2020                           2020   \n",
       "turno                                        1                              1   \n",
       "tipo_eleicao_1               eleicao ordinaria              eleicao ordinaria   \n",
       "sigla_uf_1                                  GO                             GO   \n",
       "id_municipio_1                         5222203                        5222203   \n",
       "id_municipio_tse_1                       93289                          93289   \n",
       "cargo_1                               prefeito                       prefeito   \n",
       "sigla_partido_1                            DEM                             PL   \n",
       "numero_candidato                            25                             22   \n",
       "sequencial_candidato               90000976614                    90001056573   \n",
       "id_candidato_bd_1                       243606                        1447379   \n",
       "resultado                               eleito                     nao eleito   \n",
       "votos                                     1452                            496   \n",
       "decisao_primeiro_turno                       1                              1   \n",
       "total_votos                               2948                           2948   \n",
       "%votos                                0.492537                        0.16825   \n",
       "2_lugar                                  False                          False   \n",
       "3_lugar                                  False                           True   \n",
       "dif_votos_2_lugar                     0.290366                       0.290366   \n",
       "dif_votos_3_lugar                     0.324288                       0.324288   \n",
       "dif_votos                             0.324288                       0.324288   \n",
       "cbo_2002                                   NaN                            NaN   \n",
       "cnpj_raiz                                  NaN                            NaN   \n",
       "data_adm                                   NaN                            NaN   \n",
       "tenure_rais                                NaN                            NaN   \n",
       "stem_job                                   0.0                            0.0   \n",
       "tenure                                     0.0                            0.0   \n",
       "max_year                                   NaN                            NaN   \n",
       "\n",
       "                                                13312  \\\n",
       "ano                                              2020   \n",
       "tipo_eleicao                        eleicao ordinaria   \n",
       "sigla_uf                                           GO   \n",
       "id_municipio                                  5222302   \n",
       "id_municipio_tse                                93505   \n",
       "id_candidato_bd                                667574   \n",
       "cpf                                       80065961153   \n",
       "titulo_eleitoral                          28905971007   \n",
       "sequencial                                90000860420   \n",
       "numero                                             15   \n",
       "nome                    Reginaldo Basilio De Oliveira   \n",
       "nome_urna                         Professor Reginaldo   \n",
       "numero_partido                                     15   \n",
       "sigla_partido                                     MDB   \n",
       "cargo                                        prefeito   \n",
       "situacao                                     deferido   \n",
       "ocupacao                    professor de ensino medio   \n",
       "data_nascimento                            1974-04-23   \n",
       "idade                                              46   \n",
       "genero                                      masculino   \n",
       "instrucao                    ensino superior completo   \n",
       "estado_civil                                casado(a)   \n",
       "nacionalidade                              brasileira   \n",
       "sigla_uf_nascimento                                GO   \n",
       "municipio_nascimento                         Anápolis   \n",
       "email                                mdbvp@hotmailcom   \n",
       "raca                                            parda   \n",
       "ano_1                                            2020   \n",
       "turno                                               1   \n",
       "tipo_eleicao_1                      eleicao ordinaria   \n",
       "sigla_uf_1                                         GO   \n",
       "id_municipio_1                                5222302   \n",
       "id_municipio_tse_1                              93505   \n",
       "cargo_1                                      prefeito   \n",
       "sigla_partido_1                                   MDB   \n",
       "numero_candidato                                   15   \n",
       "sequencial_candidato                      90000860420   \n",
       "id_candidato_bd_1                              667574   \n",
       "resultado                                  nao eleito   \n",
       "votos                                            1582   \n",
       "decisao_primeiro_turno                              1   \n",
       "total_votos                                      4366   \n",
       "%votos                                       0.362345   \n",
       "2_lugar                                          True   \n",
       "3_lugar                                         False   \n",
       "dif_votos_2_lugar                            0.154146   \n",
       "dif_votos_3_lugar                            0.395328   \n",
       "dif_votos                                    0.241182   \n",
       "cbo_2002                                          NaN   \n",
       "cnpj_raiz                                         NaN   \n",
       "data_adm                                          NaN   \n",
       "tenure_rais                                       NaN   \n",
       "stem_job                                          0.0   \n",
       "tenure                                            0.0   \n",
       "max_year                                          NaN   \n",
       "\n",
       "                                             13313  \\\n",
       "ano                                           2020   \n",
       "tipo_eleicao                     eleicao ordinaria   \n",
       "sigla_uf                                        GO   \n",
       "id_municipio                               5222302   \n",
       "id_municipio_tse                             93505   \n",
       "id_candidato_bd                             398995   \n",
       "cpf                                    58573658134   \n",
       "titulo_eleitoral                       24445021090   \n",
       "sequencial                             90000721220   \n",
       "numero                                          25   \n",
       "nome                        Waldilei Jose De Lemos   \n",
       "nome_urna                           Waldilei Lemos   \n",
       "numero_partido                                  25   \n",
       "sigla_partido                                  DEM   \n",
       "cargo                                     prefeito   \n",
       "situacao                                  deferido   \n",
       "ocupacao                servidor publico municipal   \n",
       "data_nascimento                         1972-02-25   \n",
       "idade                                           49   \n",
       "genero                                   masculino   \n",
       "instrucao                 ensino superior completo   \n",
       "estado_civil                             casado(a)   \n",
       "nacionalidade                           brasileira   \n",
       "sigla_uf_nascimento                             GO   \n",
       "municipio_nascimento                   Pirenópolis   \n",
       "email                    macenacontabil@hotmailcom   \n",
       "raca                                         parda   \n",
       "ano_1                                         2020   \n",
       "turno                                            1   \n",
       "tipo_eleicao_1                   eleicao ordinaria   \n",
       "sigla_uf_1                                      GO   \n",
       "id_municipio_1                             5222302   \n",
       "id_municipio_tse_1                           93505   \n",
       "cargo_1                                   prefeito   \n",
       "sigla_partido_1                                DEM   \n",
       "numero_candidato                                25   \n",
       "sequencial_candidato                   90000721220   \n",
       "id_candidato_bd_1                           398995   \n",
       "resultado                                   eleito   \n",
       "votos                                         2255   \n",
       "decisao_primeiro_turno                           1   \n",
       "total_votos                                   4366   \n",
       "%votos                                    0.516491   \n",
       "2_lugar                                      False   \n",
       "3_lugar                                      False   \n",
       "dif_votos_2_lugar                         0.154146   \n",
       "dif_votos_3_lugar                         0.395328   \n",
       "dif_votos                                 0.241182   \n",
       "cbo_2002                                       NaN   \n",
       "cnpj_raiz                                      NaN   \n",
       "data_adm                                       NaN   \n",
       "tenure_rais                                    NaN   \n",
       "stem_job                                       0.0   \n",
       "tenure                                         0.0   \n",
       "max_year                                       NaN   \n",
       "\n",
       "                                                  13314  \n",
       "ano                                                2020  \n",
       "tipo_eleicao                          eleicao ordinaria  \n",
       "sigla_uf                                             GO  \n",
       "id_municipio                                    5222302  \n",
       "id_municipio_tse                                  93505  \n",
       "id_candidato_bd                                  785080  \n",
       "cpf                                         90095375104  \n",
       "titulo_eleitoral                            24689481031  \n",
       "sequencial                                  90000719733  \n",
       "numero                                               12  \n",
       "nome                    Waldeci Pereira De Morais Gomes  \n",
       "nome_urna                                Waldeci Morais  \n",
       "numero_partido                                       12  \n",
       "sigla_partido                                       PDT  \n",
       "cargo                                          prefeito  \n",
       "situacao                                       deferido  \n",
       "ocupacao                          agente administrativo  \n",
       "data_nascimento                              1969-10-27  \n",
       "idade                                                51  \n",
       "genero                                         feminino  \n",
       "instrucao                         ensino medio completo  \n",
       "estado_civil                                  casado(a)  \n",
       "nacionalidade                                brasileira  \n",
       "sigla_uf_nascimento                                  GO  \n",
       "municipio_nascimento                        Pirenópolis  \n",
       "email                        leonardocalazan81@gmailcom  \n",
       "raca                                             branca  \n",
       "ano_1                                              2020  \n",
       "turno                                                 1  \n",
       "tipo_eleicao_1                        eleicao ordinaria  \n",
       "sigla_uf_1                                           GO  \n",
       "id_municipio_1                                  5222302  \n",
       "id_municipio_tse_1                                93505  \n",
       "cargo_1                                        prefeito  \n",
       "sigla_partido_1                                     PDT  \n",
       "numero_candidato                                     12  \n",
       "sequencial_candidato                        90000719733  \n",
       "id_candidato_bd_1                                785080  \n",
       "resultado                                    nao eleito  \n",
       "votos                                               529  \n",
       "decisao_primeiro_turno                                1  \n",
       "total_votos                                        4366  \n",
       "%votos                                         0.121164  \n",
       "2_lugar                                           False  \n",
       "3_lugar                                            True  \n",
       "dif_votos_2_lugar                              0.154146  \n",
       "dif_votos_3_lugar                              0.395328  \n",
       "dif_votos                                      0.241182  \n",
       "cbo_2002                                            NaN  \n",
       "cnpj_raiz                                           NaN  \n",
       "data_adm                                            NaN  \n",
       "tenure_rais                                         NaN  \n",
       "stem_job                                            0.0  \n",
       "tenure                                              0.0  \n",
       "max_year                                            NaN  "
      ]
     },
     "execution_count": 111,
     "metadata": {},
     "output_type": "execute_result"
    }
   ],
   "source": [
    "df.tail().T"
   ]
  },
  {
   "cell_type": "code",
   "execution_count": 112,
   "metadata": {
    "scrolled": true
   },
   "outputs": [
    {
     "data": {
      "text/html": [
       "<div>\n",
       "<style scoped>\n",
       "    .dataframe tbody tr th:only-of-type {\n",
       "        vertical-align: middle;\n",
       "    }\n",
       "\n",
       "    .dataframe tbody tr th {\n",
       "        vertical-align: top;\n",
       "    }\n",
       "\n",
       "    .dataframe thead th {\n",
       "        text-align: right;\n",
       "    }\n",
       "</style>\n",
       "<table border=\"1\" class=\"dataframe\">\n",
       "  <thead>\n",
       "    <tr style=\"text-align: right;\">\n",
       "      <th></th>\n",
       "      <th>ano</th>\n",
       "      <th>tipo_eleicao</th>\n",
       "      <th>sigla_uf</th>\n",
       "      <th>id_municipio</th>\n",
       "      <th>id_municipio_tse</th>\n",
       "      <th>id_candidato_bd</th>\n",
       "      <th>cpf</th>\n",
       "      <th>titulo_eleitoral</th>\n",
       "      <th>sequencial</th>\n",
       "      <th>numero</th>\n",
       "      <th>...</th>\n",
       "      <th>dif_votos_2_lugar</th>\n",
       "      <th>dif_votos_3_lugar</th>\n",
       "      <th>dif_votos</th>\n",
       "      <th>cbo_2002</th>\n",
       "      <th>cnpj_raiz</th>\n",
       "      <th>data_adm</th>\n",
       "      <th>tenure_rais</th>\n",
       "      <th>stem_job</th>\n",
       "      <th>tenure</th>\n",
       "      <th>max_year</th>\n",
       "    </tr>\n",
       "  </thead>\n",
       "  <tbody>\n",
       "    <tr>\n",
       "      <th>0</th>\n",
       "      <td>2020</td>\n",
       "      <td>eleicao ordinaria</td>\n",
       "      <td>RO</td>\n",
       "      <td>1100015</td>\n",
       "      <td>310</td>\n",
       "      <td>500468</td>\n",
       "      <td>66145201215</td>\n",
       "      <td>8912282399</td>\n",
       "      <td>220001187738</td>\n",
       "      <td>19</td>\n",
       "      <td>...</td>\n",
       "      <td>0.229421</td>\n",
       "      <td>0.518598</td>\n",
       "      <td>0.518598</td>\n",
       "      <td>222110</td>\n",
       "      <td>5888813.0</td>\n",
       "      <td>10022005.0</td>\n",
       "      <td>22.0</td>\n",
       "      <td>1.0</td>\n",
       "      <td>22.0</td>\n",
       "      <td>2006.0</td>\n",
       "    </tr>\n",
       "    <tr>\n",
       "      <th>1</th>\n",
       "      <td>2020</td>\n",
       "      <td>eleicao ordinaria</td>\n",
       "      <td>RO</td>\n",
       "      <td>1100015</td>\n",
       "      <td>310</td>\n",
       "      <td>1494057</td>\n",
       "      <td>16994140172</td>\n",
       "      <td>4122242305</td>\n",
       "      <td>220001055240</td>\n",
       "      <td>12</td>\n",
       "      <td>...</td>\n",
       "      <td>0.229421</td>\n",
       "      <td>0.518598</td>\n",
       "      <td>0.518598</td>\n",
       "      <td>NaN</td>\n",
       "      <td>NaN</td>\n",
       "      <td>NaN</td>\n",
       "      <td>NaN</td>\n",
       "      <td>0.0</td>\n",
       "      <td>0.0</td>\n",
       "      <td>NaN</td>\n",
       "    </tr>\n",
       "    <tr>\n",
       "      <th>2</th>\n",
       "      <td>2020</td>\n",
       "      <td>eleicao ordinaria</td>\n",
       "      <td>RO</td>\n",
       "      <td>1100015</td>\n",
       "      <td>310</td>\n",
       "      <td>285972</td>\n",
       "      <td>49891030920</td>\n",
       "      <td>6843012380</td>\n",
       "      <td>220000768332</td>\n",
       "      <td>13</td>\n",
       "      <td>...</td>\n",
       "      <td>0.229421</td>\n",
       "      <td>0.518598</td>\n",
       "      <td>0.518598</td>\n",
       "      <td>317110</td>\n",
       "      <td>394585.0</td>\n",
       "      <td>4112008.0</td>\n",
       "      <td>121.0</td>\n",
       "      <td>1.0</td>\n",
       "      <td>12.0</td>\n",
       "      <td>2018.0</td>\n",
       "    </tr>\n",
       "    <tr>\n",
       "      <th>3</th>\n",
       "      <td>2020</td>\n",
       "      <td>eleicao ordinaria</td>\n",
       "      <td>RO</td>\n",
       "      <td>1100031</td>\n",
       "      <td>450</td>\n",
       "      <td>29478</td>\n",
       "      <td>34061738291</td>\n",
       "      <td>5696402321</td>\n",
       "      <td>220000955267</td>\n",
       "      <td>11</td>\n",
       "      <td>...</td>\n",
       "      <td>0.290358</td>\n",
       "      <td>0.562534</td>\n",
       "      <td>0.272176</td>\n",
       "      <td>317110</td>\n",
       "      <td>394585.0</td>\n",
       "      <td>30032004.0</td>\n",
       "      <td>81.0</td>\n",
       "      <td>1.0</td>\n",
       "      <td>81.0</td>\n",
       "      <td>2010.0</td>\n",
       "    </tr>\n",
       "    <tr>\n",
       "      <th>4</th>\n",
       "      <td>2020</td>\n",
       "      <td>eleicao ordinaria</td>\n",
       "      <td>RO</td>\n",
       "      <td>1100031</td>\n",
       "      <td>450</td>\n",
       "      <td>110633</td>\n",
       "      <td>38549182249</td>\n",
       "      <td>5680032348</td>\n",
       "      <td>220001137117</td>\n",
       "      <td>51</td>\n",
       "      <td>...</td>\n",
       "      <td>0.290358</td>\n",
       "      <td>0.562534</td>\n",
       "      <td>0.272176</td>\n",
       "      <td>NaN</td>\n",
       "      <td>NaN</td>\n",
       "      <td>NaN</td>\n",
       "      <td>NaN</td>\n",
       "      <td>0.0</td>\n",
       "      <td>0.0</td>\n",
       "      <td>NaN</td>\n",
       "    </tr>\n",
       "    <tr>\n",
       "      <th>...</th>\n",
       "      <td>...</td>\n",
       "      <td>...</td>\n",
       "      <td>...</td>\n",
       "      <td>...</td>\n",
       "      <td>...</td>\n",
       "      <td>...</td>\n",
       "      <td>...</td>\n",
       "      <td>...</td>\n",
       "      <td>...</td>\n",
       "      <td>...</td>\n",
       "      <td>...</td>\n",
       "      <td>...</td>\n",
       "      <td>...</td>\n",
       "      <td>...</td>\n",
       "      <td>...</td>\n",
       "      <td>...</td>\n",
       "      <td>...</td>\n",
       "      <td>...</td>\n",
       "      <td>...</td>\n",
       "      <td>...</td>\n",
       "      <td>...</td>\n",
       "    </tr>\n",
       "    <tr>\n",
       "      <th>13309</th>\n",
       "      <td>2020</td>\n",
       "      <td>eleicao ordinaria</td>\n",
       "      <td>GO</td>\n",
       "      <td>5222203</td>\n",
       "      <td>93289</td>\n",
       "      <td>1718212</td>\n",
       "      <td>28809530144</td>\n",
       "      <td>4249401023</td>\n",
       "      <td>90001027994</td>\n",
       "      <td>15</td>\n",
       "      <td>...</td>\n",
       "      <td>0.290366</td>\n",
       "      <td>0.324288</td>\n",
       "      <td>0.324288</td>\n",
       "      <td>NaN</td>\n",
       "      <td>NaN</td>\n",
       "      <td>NaN</td>\n",
       "      <td>NaN</td>\n",
       "      <td>0.0</td>\n",
       "      <td>0.0</td>\n",
       "      <td>NaN</td>\n",
       "    </tr>\n",
       "    <tr>\n",
       "      <th>13311</th>\n",
       "      <td>2020</td>\n",
       "      <td>eleicao ordinaria</td>\n",
       "      <td>GO</td>\n",
       "      <td>5222203</td>\n",
       "      <td>93289</td>\n",
       "      <td>1447379</td>\n",
       "      <td>14759330100</td>\n",
       "      <td>11497242062</td>\n",
       "      <td>90001056573</td>\n",
       "      <td>22</td>\n",
       "      <td>...</td>\n",
       "      <td>0.290366</td>\n",
       "      <td>0.324288</td>\n",
       "      <td>0.324288</td>\n",
       "      <td>NaN</td>\n",
       "      <td>NaN</td>\n",
       "      <td>NaN</td>\n",
       "      <td>NaN</td>\n",
       "      <td>0.0</td>\n",
       "      <td>0.0</td>\n",
       "      <td>NaN</td>\n",
       "    </tr>\n",
       "    <tr>\n",
       "      <th>13313</th>\n",
       "      <td>2020</td>\n",
       "      <td>eleicao ordinaria</td>\n",
       "      <td>GO</td>\n",
       "      <td>5222302</td>\n",
       "      <td>93505</td>\n",
       "      <td>398995</td>\n",
       "      <td>58573658134</td>\n",
       "      <td>24445021090</td>\n",
       "      <td>90000721220</td>\n",
       "      <td>25</td>\n",
       "      <td>...</td>\n",
       "      <td>0.154146</td>\n",
       "      <td>0.395328</td>\n",
       "      <td>0.241182</td>\n",
       "      <td>NaN</td>\n",
       "      <td>NaN</td>\n",
       "      <td>NaN</td>\n",
       "      <td>NaN</td>\n",
       "      <td>0.0</td>\n",
       "      <td>0.0</td>\n",
       "      <td>NaN</td>\n",
       "    </tr>\n",
       "    <tr>\n",
       "      <th>13312</th>\n",
       "      <td>2020</td>\n",
       "      <td>eleicao ordinaria</td>\n",
       "      <td>GO</td>\n",
       "      <td>5222302</td>\n",
       "      <td>93505</td>\n",
       "      <td>667574</td>\n",
       "      <td>80065961153</td>\n",
       "      <td>28905971007</td>\n",
       "      <td>90000860420</td>\n",
       "      <td>15</td>\n",
       "      <td>...</td>\n",
       "      <td>0.154146</td>\n",
       "      <td>0.395328</td>\n",
       "      <td>0.241182</td>\n",
       "      <td>NaN</td>\n",
       "      <td>NaN</td>\n",
       "      <td>NaN</td>\n",
       "      <td>NaN</td>\n",
       "      <td>0.0</td>\n",
       "      <td>0.0</td>\n",
       "      <td>NaN</td>\n",
       "    </tr>\n",
       "    <tr>\n",
       "      <th>13314</th>\n",
       "      <td>2020</td>\n",
       "      <td>eleicao ordinaria</td>\n",
       "      <td>GO</td>\n",
       "      <td>5222302</td>\n",
       "      <td>93505</td>\n",
       "      <td>785080</td>\n",
       "      <td>90095375104</td>\n",
       "      <td>24689481031</td>\n",
       "      <td>90000719733</td>\n",
       "      <td>12</td>\n",
       "      <td>...</td>\n",
       "      <td>0.154146</td>\n",
       "      <td>0.395328</td>\n",
       "      <td>0.241182</td>\n",
       "      <td>NaN</td>\n",
       "      <td>NaN</td>\n",
       "      <td>NaN</td>\n",
       "      <td>NaN</td>\n",
       "      <td>0.0</td>\n",
       "      <td>0.0</td>\n",
       "      <td>NaN</td>\n",
       "    </tr>\n",
       "  </tbody>\n",
       "</table>\n",
       "<p>13315 rows × 55 columns</p>\n",
       "</div>"
      ],
      "text/plain": [
       "        ano       tipo_eleicao sigla_uf id_municipio id_municipio_tse  \\\n",
       "0      2020  eleicao ordinaria       RO      1100015              310   \n",
       "1      2020  eleicao ordinaria       RO      1100015              310   \n",
       "2      2020  eleicao ordinaria       RO      1100015              310   \n",
       "3      2020  eleicao ordinaria       RO      1100031              450   \n",
       "4      2020  eleicao ordinaria       RO      1100031              450   \n",
       "...     ...                ...      ...          ...              ...   \n",
       "13309  2020  eleicao ordinaria       GO      5222203            93289   \n",
       "13311  2020  eleicao ordinaria       GO      5222203            93289   \n",
       "13313  2020  eleicao ordinaria       GO      5222302            93505   \n",
       "13312  2020  eleicao ordinaria       GO      5222302            93505   \n",
       "13314  2020  eleicao ordinaria       GO      5222302            93505   \n",
       "\n",
       "      id_candidato_bd          cpf  titulo_eleitoral    sequencial  numero  \\\n",
       "0              500468  66145201215        8912282399  220001187738      19   \n",
       "1             1494057  16994140172        4122242305  220001055240      12   \n",
       "2              285972  49891030920        6843012380  220000768332      13   \n",
       "3               29478  34061738291        5696402321  220000955267      11   \n",
       "4              110633  38549182249        5680032348  220001137117      51   \n",
       "...               ...          ...               ...           ...     ...   \n",
       "13309         1718212  28809530144        4249401023   90001027994      15   \n",
       "13311         1447379  14759330100       11497242062   90001056573      22   \n",
       "13313          398995  58573658134       24445021090   90000721220      25   \n",
       "13312          667574  80065961153       28905971007   90000860420      15   \n",
       "13314          785080  90095375104       24689481031   90000719733      12   \n",
       "\n",
       "       ... dif_votos_2_lugar dif_votos_3_lugar  dif_votos cbo_2002  cnpj_raiz  \\\n",
       "0      ...          0.229421          0.518598   0.518598   222110  5888813.0   \n",
       "1      ...          0.229421          0.518598   0.518598      NaN        NaN   \n",
       "2      ...          0.229421          0.518598   0.518598   317110   394585.0   \n",
       "3      ...          0.290358          0.562534   0.272176   317110   394585.0   \n",
       "4      ...          0.290358          0.562534   0.272176      NaN        NaN   \n",
       "...    ...               ...               ...        ...      ...        ...   \n",
       "13309  ...          0.290366          0.324288   0.324288      NaN        NaN   \n",
       "13311  ...          0.290366          0.324288   0.324288      NaN        NaN   \n",
       "13313  ...          0.154146          0.395328   0.241182      NaN        NaN   \n",
       "13312  ...          0.154146          0.395328   0.241182      NaN        NaN   \n",
       "13314  ...          0.154146          0.395328   0.241182      NaN        NaN   \n",
       "\n",
       "         data_adm tenure_rais stem_job  tenure max_year  \n",
       "0      10022005.0        22.0      1.0    22.0   2006.0  \n",
       "1             NaN         NaN      0.0     0.0      NaN  \n",
       "2       4112008.0       121.0      1.0    12.0   2018.0  \n",
       "3      30032004.0        81.0      1.0    81.0   2010.0  \n",
       "4             NaN         NaN      0.0     0.0      NaN  \n",
       "...           ...         ...      ...     ...      ...  \n",
       "13309         NaN         NaN      0.0     0.0      NaN  \n",
       "13311         NaN         NaN      0.0     0.0      NaN  \n",
       "13313         NaN         NaN      0.0     0.0      NaN  \n",
       "13312         NaN         NaN      0.0     0.0      NaN  \n",
       "13314         NaN         NaN      0.0     0.0      NaN  \n",
       "\n",
       "[13315 rows x 55 columns]"
      ]
     },
     "execution_count": 112,
     "metadata": {},
     "output_type": "execute_result"
    }
   ],
   "source": [
    "df.sort_values(by = \"id_municipio\")"
   ]
  },
  {
   "cell_type": "markdown",
   "metadata": {},
   "source": []
  },
  {
   "cell_type": "code",
   "execution_count": 113,
   "metadata": {},
   "outputs": [
    {
     "data": {
      "text/html": [
       "<div>\n",
       "<style scoped>\n",
       "    .dataframe tbody tr th:only-of-type {\n",
       "        vertical-align: middle;\n",
       "    }\n",
       "\n",
       "    .dataframe tbody tr th {\n",
       "        vertical-align: top;\n",
       "    }\n",
       "\n",
       "    .dataframe thead th {\n",
       "        text-align: right;\n",
       "    }\n",
       "</style>\n",
       "<table border=\"1\" class=\"dataframe\">\n",
       "  <thead>\n",
       "    <tr style=\"text-align: right;\">\n",
       "      <th></th>\n",
       "      <th>0</th>\n",
       "      <th>1</th>\n",
       "      <th>2</th>\n",
       "      <th>3</th>\n",
       "      <th>4</th>\n",
       "      <th>5</th>\n",
       "      <th>6</th>\n",
       "      <th>7</th>\n",
       "      <th>8</th>\n",
       "      <th>9</th>\n",
       "    </tr>\n",
       "  </thead>\n",
       "  <tbody>\n",
       "    <tr>\n",
       "      <th>ano</th>\n",
       "      <td>2020</td>\n",
       "      <td>2020</td>\n",
       "      <td>2020</td>\n",
       "      <td>2020</td>\n",
       "      <td>2020</td>\n",
       "      <td>2020</td>\n",
       "      <td>2020</td>\n",
       "      <td>2020</td>\n",
       "      <td>2020</td>\n",
       "      <td>2020</td>\n",
       "    </tr>\n",
       "    <tr>\n",
       "      <th>tipo_eleicao</th>\n",
       "      <td>eleicao ordinaria</td>\n",
       "      <td>eleicao ordinaria</td>\n",
       "      <td>eleicao ordinaria</td>\n",
       "      <td>eleicao ordinaria</td>\n",
       "      <td>eleicao ordinaria</td>\n",
       "      <td>eleicao ordinaria</td>\n",
       "      <td>eleicao ordinaria</td>\n",
       "      <td>eleicao ordinaria</td>\n",
       "      <td>eleicao ordinaria</td>\n",
       "      <td>eleicao ordinaria</td>\n",
       "    </tr>\n",
       "    <tr>\n",
       "      <th>sigla_uf</th>\n",
       "      <td>RO</td>\n",
       "      <td>RO</td>\n",
       "      <td>RO</td>\n",
       "      <td>RO</td>\n",
       "      <td>RO</td>\n",
       "      <td>RO</td>\n",
       "      <td>RO</td>\n",
       "      <td>RO</td>\n",
       "      <td>RO</td>\n",
       "      <td>RO</td>\n",
       "    </tr>\n",
       "    <tr>\n",
       "      <th>id_municipio</th>\n",
       "      <td>1100015</td>\n",
       "      <td>1100015</td>\n",
       "      <td>1100015</td>\n",
       "      <td>1100031</td>\n",
       "      <td>1100031</td>\n",
       "      <td>1100031</td>\n",
       "      <td>1100049</td>\n",
       "      <td>1100049</td>\n",
       "      <td>1100049</td>\n",
       "      <td>1100056</td>\n",
       "    </tr>\n",
       "    <tr>\n",
       "      <th>id_municipio_tse</th>\n",
       "      <td>310</td>\n",
       "      <td>310</td>\n",
       "      <td>310</td>\n",
       "      <td>450</td>\n",
       "      <td>450</td>\n",
       "      <td>450</td>\n",
       "      <td>94</td>\n",
       "      <td>94</td>\n",
       "      <td>94</td>\n",
       "      <td>272</td>\n",
       "    </tr>\n",
       "    <tr>\n",
       "      <th>id_candidato_bd</th>\n",
       "      <td>500468</td>\n",
       "      <td>1494057</td>\n",
       "      <td>285972</td>\n",
       "      <td>29478</td>\n",
       "      <td>110633</td>\n",
       "      <td>225569</td>\n",
       "      <td>782088</td>\n",
       "      <td>1235541</td>\n",
       "      <td>119076</td>\n",
       "      <td>631087</td>\n",
       "    </tr>\n",
       "    <tr>\n",
       "      <th>cpf</th>\n",
       "      <td>66145201215</td>\n",
       "      <td>16994140172</td>\n",
       "      <td>49891030920</td>\n",
       "      <td>34061738291</td>\n",
       "      <td>38549182249</td>\n",
       "      <td>45751609204</td>\n",
       "      <td>89845277268</td>\n",
       "      <td>08082136871</td>\n",
       "      <td>39036073200</td>\n",
       "      <td>77209559272</td>\n",
       "    </tr>\n",
       "    <tr>\n",
       "      <th>titulo_eleitoral</th>\n",
       "      <td>8912282399</td>\n",
       "      <td>4122242305</td>\n",
       "      <td>6843012380</td>\n",
       "      <td>5696402321</td>\n",
       "      <td>5680032348</td>\n",
       "      <td>8183392321</td>\n",
       "      <td>13637562380</td>\n",
       "      <td>7945522330</td>\n",
       "      <td>6245192364</td>\n",
       "      <td>12159292380</td>\n",
       "    </tr>\n",
       "    <tr>\n",
       "      <th>sequencial</th>\n",
       "      <td>220001187738</td>\n",
       "      <td>220001055240</td>\n",
       "      <td>220000768332</td>\n",
       "      <td>220000955267</td>\n",
       "      <td>220001137117</td>\n",
       "      <td>220001193423</td>\n",
       "      <td>220001025502</td>\n",
       "      <td>220001268453</td>\n",
       "      <td>220001198451</td>\n",
       "      <td>220000750651</td>\n",
       "    </tr>\n",
       "    <tr>\n",
       "      <th>numero</th>\n",
       "      <td>19</td>\n",
       "      <td>12</td>\n",
       "      <td>13</td>\n",
       "      <td>11</td>\n",
       "      <td>51</td>\n",
       "      <td>45</td>\n",
       "      <td>55</td>\n",
       "      <td>25</td>\n",
       "      <td>90</td>\n",
       "      <td>15</td>\n",
       "    </tr>\n",
       "    <tr>\n",
       "      <th>nome</th>\n",
       "      <td>Giovan Damo</td>\n",
       "      <td>Valdoir Gomes Ferreira</td>\n",
       "      <td>Ademar Dias Guimarães</td>\n",
       "      <td>Izael Dias Moreira</td>\n",
       "      <td>Adilson De Almeida Fagundes</td>\n",
       "      <td>Rosely De Fátima De Assumpção Barroso</td>\n",
       "      <td>Adailton Antunes Ferreira</td>\n",
       "      <td>Marco Aurélio Blaz Vasques</td>\n",
       "      <td>Mario Angelino Moreira</td>\n",
       "      <td>Cleiton Rodrigo Da Costa Leite</td>\n",
       "    </tr>\n",
       "    <tr>\n",
       "      <th>nome_urna</th>\n",
       "      <td>Gio Damo</td>\n",
       "      <td>Vantuil Do Posto</td>\n",
       "      <td>Professor Ademar</td>\n",
       "      <td>Izael</td>\n",
       "      <td>Adilson Fagundes</td>\n",
       "      <td>Rosely Barroso</td>\n",
       "      <td>Adailton Furia</td>\n",
       "      <td>Vasques</td>\n",
       "      <td>Jabá Moreira</td>\n",
       "      <td>Cleiton Capanema</td>\n",
       "    </tr>\n",
       "    <tr>\n",
       "      <th>numero_partido</th>\n",
       "      <td>19</td>\n",
       "      <td>12</td>\n",
       "      <td>13</td>\n",
       "      <td>11</td>\n",
       "      <td>51</td>\n",
       "      <td>45</td>\n",
       "      <td>55</td>\n",
       "      <td>25</td>\n",
       "      <td>90</td>\n",
       "      <td>15</td>\n",
       "    </tr>\n",
       "    <tr>\n",
       "      <th>sigla_partido</th>\n",
       "      <td>PODE</td>\n",
       "      <td>PDT</td>\n",
       "      <td>PT</td>\n",
       "      <td>PP</td>\n",
       "      <td>PATRIOTA</td>\n",
       "      <td>PSDB</td>\n",
       "      <td>PSD</td>\n",
       "      <td>DEM</td>\n",
       "      <td>PROS</td>\n",
       "      <td>MDB</td>\n",
       "    </tr>\n",
       "    <tr>\n",
       "      <th>cargo</th>\n",
       "      <td>prefeito</td>\n",
       "      <td>prefeito</td>\n",
       "      <td>prefeito</td>\n",
       "      <td>prefeito</td>\n",
       "      <td>prefeito</td>\n",
       "      <td>prefeito</td>\n",
       "      <td>prefeito</td>\n",
       "      <td>prefeito</td>\n",
       "      <td>prefeito</td>\n",
       "      <td>prefeito</td>\n",
       "    </tr>\n",
       "    <tr>\n",
       "      <th>situacao</th>\n",
       "      <td>deferido</td>\n",
       "      <td>deferido</td>\n",
       "      <td>deferido</td>\n",
       "      <td>deferido</td>\n",
       "      <td>deferido</td>\n",
       "      <td>deferido</td>\n",
       "      <td>deferido</td>\n",
       "      <td>deferido</td>\n",
       "      <td>deferido</td>\n",
       "      <td>deferido</td>\n",
       "    </tr>\n",
       "    <tr>\n",
       "      <th>ocupacao</th>\n",
       "      <td>agronomo</td>\n",
       "      <td>agricultor</td>\n",
       "      <td>professor de ensino fundamental</td>\n",
       "      <td>professor de ensino fundamental</td>\n",
       "      <td>tecnico de enfermagem e assemelhados (exceto e...</td>\n",
       "      <td>agricultor</td>\n",
       "      <td>deputado</td>\n",
       "      <td>servidor publico municipal</td>\n",
       "      <td>vereador</td>\n",
       "      <td>comerciante</td>\n",
       "    </tr>\n",
       "    <tr>\n",
       "      <th>data_nascimento</th>\n",
       "      <td>1981-04-09</td>\n",
       "      <td>1959-02-04</td>\n",
       "      <td>1961-06-09</td>\n",
       "      <td>1970-12-30</td>\n",
       "      <td>1971-03-20</td>\n",
       "      <td>1970-11-09</td>\n",
       "      <td>1986-09-24</td>\n",
       "      <td>1967-02-02</td>\n",
       "      <td>1974-03-27</td>\n",
       "      <td>1982-12-07</td>\n",
       "    </tr>\n",
       "    <tr>\n",
       "      <th>idade</th>\n",
       "      <td>39</td>\n",
       "      <td>62</td>\n",
       "      <td>59</td>\n",
       "      <td>50</td>\n",
       "      <td>50</td>\n",
       "      <td>50</td>\n",
       "      <td>34</td>\n",
       "      <td>54</td>\n",
       "      <td>47</td>\n",
       "      <td>38</td>\n",
       "    </tr>\n",
       "    <tr>\n",
       "      <th>genero</th>\n",
       "      <td>masculino</td>\n",
       "      <td>masculino</td>\n",
       "      <td>masculino</td>\n",
       "      <td>masculino</td>\n",
       "      <td>masculino</td>\n",
       "      <td>feminino</td>\n",
       "      <td>masculino</td>\n",
       "      <td>masculino</td>\n",
       "      <td>masculino</td>\n",
       "      <td>masculino</td>\n",
       "    </tr>\n",
       "    <tr>\n",
       "      <th>instrucao</th>\n",
       "      <td>ensino superior completo</td>\n",
       "      <td>ensino fundamental incompleto</td>\n",
       "      <td>ensino superior completo</td>\n",
       "      <td>ensino superior completo</td>\n",
       "      <td>ensino medio completo</td>\n",
       "      <td>ensino medio incompleto</td>\n",
       "      <td>ensino superior completo</td>\n",
       "      <td>ensino superior completo</td>\n",
       "      <td>ensino medio completo</td>\n",
       "      <td>ensino superior completo</td>\n",
       "    </tr>\n",
       "    <tr>\n",
       "      <th>estado_civil</th>\n",
       "      <td>solteiro(a)</td>\n",
       "      <td>solteiro(a)</td>\n",
       "      <td>divorciado(a)</td>\n",
       "      <td>solteiro(a)</td>\n",
       "      <td>casado(a)</td>\n",
       "      <td>casado(a)</td>\n",
       "      <td>casado(a)</td>\n",
       "      <td>casado(a)</td>\n",
       "      <td>casado(a)</td>\n",
       "      <td>casado(a)</td>\n",
       "    </tr>\n",
       "    <tr>\n",
       "      <th>nacionalidade</th>\n",
       "      <td>brasileira</td>\n",
       "      <td>brasileira</td>\n",
       "      <td>brasileira</td>\n",
       "      <td>brasileira</td>\n",
       "      <td>brasileira</td>\n",
       "      <td>brasileira</td>\n",
       "      <td>brasileira</td>\n",
       "      <td>brasileira</td>\n",
       "      <td>brasileira</td>\n",
       "      <td>brasileira</td>\n",
       "    </tr>\n",
       "    <tr>\n",
       "      <th>sigla_uf_nascimento</th>\n",
       "      <td>SC</td>\n",
       "      <td>GO</td>\n",
       "      <td>RS</td>\n",
       "      <td>MG</td>\n",
       "      <td>MG</td>\n",
       "      <td>PR</td>\n",
       "      <td>RO</td>\n",
       "      <td>SP</td>\n",
       "      <td>RO</td>\n",
       "      <td>PR</td>\n",
       "    </tr>\n",
       "    <tr>\n",
       "      <th>municipio_nascimento</th>\n",
       "      <td>Chapecó</td>\n",
       "      <td>Ceres</td>\n",
       "      <td>Tenente Portela</td>\n",
       "      <td>Mendes Pimentel</td>\n",
       "      <td>Mantena</td>\n",
       "      <td>Ampére</td>\n",
       "      <td>Cacoal</td>\n",
       "      <td>Monte Aprazível</td>\n",
       "      <td>Cacoal</td>\n",
       "      <td>Capanema</td>\n",
       "    </tr>\n",
       "    <tr>\n",
       "      <th>email</th>\n",
       "      <td>gioagro@hotmailcom</td>\n",
       "      <td>wendergospel@hotmailcom</td>\n",
       "      <td>ademardiasguimaraes2020@gmailcom</td>\n",
       "      <td>ccontabilize@hotmailcom</td>\n",
       "      <td>adilson--fagundes@hotmailcom</td>\n",
       "      <td>eleitoral@valverdechahairaadvbr</td>\n",
       "      <td>silvaresassessoria@gmailcom</td>\n",
       "      <td>marcoabvasques@hotmailcom</td>\n",
       "      <td>vereadorjabamoreira@gmailcom</td>\n",
       "      <td>mdbcerejeiras@hotmailcom</td>\n",
       "    </tr>\n",
       "    <tr>\n",
       "      <th>raca</th>\n",
       "      <td>branca</td>\n",
       "      <td>branca</td>\n",
       "      <td>branca</td>\n",
       "      <td>branca</td>\n",
       "      <td>branca</td>\n",
       "      <td>parda</td>\n",
       "      <td>parda</td>\n",
       "      <td>parda</td>\n",
       "      <td>parda</td>\n",
       "      <td>branca</td>\n",
       "    </tr>\n",
       "    <tr>\n",
       "      <th>ano_1</th>\n",
       "      <td>2020</td>\n",
       "      <td>2020</td>\n",
       "      <td>2020</td>\n",
       "      <td>2020</td>\n",
       "      <td>2020</td>\n",
       "      <td>2020</td>\n",
       "      <td>2020</td>\n",
       "      <td>2020</td>\n",
       "      <td>2020</td>\n",
       "      <td>2020</td>\n",
       "    </tr>\n",
       "    <tr>\n",
       "      <th>turno</th>\n",
       "      <td>1</td>\n",
       "      <td>1</td>\n",
       "      <td>1</td>\n",
       "      <td>1</td>\n",
       "      <td>1</td>\n",
       "      <td>1</td>\n",
       "      <td>1</td>\n",
       "      <td>1</td>\n",
       "      <td>1</td>\n",
       "      <td>1</td>\n",
       "    </tr>\n",
       "    <tr>\n",
       "      <th>tipo_eleicao_1</th>\n",
       "      <td>eleicao ordinaria</td>\n",
       "      <td>eleicao ordinaria</td>\n",
       "      <td>eleicao ordinaria</td>\n",
       "      <td>eleicao ordinaria</td>\n",
       "      <td>eleicao ordinaria</td>\n",
       "      <td>eleicao ordinaria</td>\n",
       "      <td>eleicao ordinaria</td>\n",
       "      <td>eleicao ordinaria</td>\n",
       "      <td>eleicao ordinaria</td>\n",
       "      <td>eleicao ordinaria</td>\n",
       "    </tr>\n",
       "    <tr>\n",
       "      <th>sigla_uf_1</th>\n",
       "      <td>RO</td>\n",
       "      <td>RO</td>\n",
       "      <td>RO</td>\n",
       "      <td>RO</td>\n",
       "      <td>RO</td>\n",
       "      <td>RO</td>\n",
       "      <td>RO</td>\n",
       "      <td>RO</td>\n",
       "      <td>RO</td>\n",
       "      <td>RO</td>\n",
       "    </tr>\n",
       "    <tr>\n",
       "      <th>id_municipio_1</th>\n",
       "      <td>1100015</td>\n",
       "      <td>1100015</td>\n",
       "      <td>1100015</td>\n",
       "      <td>1100031</td>\n",
       "      <td>1100031</td>\n",
       "      <td>1100031</td>\n",
       "      <td>1100049</td>\n",
       "      <td>1100049</td>\n",
       "      <td>1100049</td>\n",
       "      <td>1100056</td>\n",
       "    </tr>\n",
       "    <tr>\n",
       "      <th>id_municipio_tse_1</th>\n",
       "      <td>310</td>\n",
       "      <td>310</td>\n",
       "      <td>310</td>\n",
       "      <td>450</td>\n",
       "      <td>450</td>\n",
       "      <td>450</td>\n",
       "      <td>94</td>\n",
       "      <td>94</td>\n",
       "      <td>94</td>\n",
       "      <td>272</td>\n",
       "    </tr>\n",
       "    <tr>\n",
       "      <th>cargo_1</th>\n",
       "      <td>prefeito</td>\n",
       "      <td>prefeito</td>\n",
       "      <td>prefeito</td>\n",
       "      <td>prefeito</td>\n",
       "      <td>prefeito</td>\n",
       "      <td>prefeito</td>\n",
       "      <td>prefeito</td>\n",
       "      <td>prefeito</td>\n",
       "      <td>prefeito</td>\n",
       "      <td>prefeito</td>\n",
       "    </tr>\n",
       "    <tr>\n",
       "      <th>sigla_partido_1</th>\n",
       "      <td>PODE</td>\n",
       "      <td>PDT</td>\n",
       "      <td>PT</td>\n",
       "      <td>PP</td>\n",
       "      <td>PATRIOTA</td>\n",
       "      <td>PSDB</td>\n",
       "      <td>PSD</td>\n",
       "      <td>DEM</td>\n",
       "      <td>PROS</td>\n",
       "      <td>MDB</td>\n",
       "    </tr>\n",
       "    <tr>\n",
       "      <th>numero_candidato</th>\n",
       "      <td>19</td>\n",
       "      <td>12</td>\n",
       "      <td>13</td>\n",
       "      <td>11</td>\n",
       "      <td>51</td>\n",
       "      <td>45</td>\n",
       "      <td>55</td>\n",
       "      <td>25</td>\n",
       "      <td>90</td>\n",
       "      <td>15</td>\n",
       "    </tr>\n",
       "    <tr>\n",
       "      <th>sequencial_candidato</th>\n",
       "      <td>220001187738</td>\n",
       "      <td>220001055240</td>\n",
       "      <td>220000768332</td>\n",
       "      <td>220000955267</td>\n",
       "      <td>220001137117</td>\n",
       "      <td>220001193423</td>\n",
       "      <td>220001025502</td>\n",
       "      <td>220001268453</td>\n",
       "      <td>220001198451</td>\n",
       "      <td>220000750651</td>\n",
       "    </tr>\n",
       "    <tr>\n",
       "      <th>id_candidato_bd_1</th>\n",
       "      <td>500468</td>\n",
       "      <td>1494057</td>\n",
       "      <td>285972</td>\n",
       "      <td>29478</td>\n",
       "      <td>110633</td>\n",
       "      <td>225569</td>\n",
       "      <td>782088</td>\n",
       "      <td>1235541</td>\n",
       "      <td>119076</td>\n",
       "      <td>631087</td>\n",
       "    </tr>\n",
       "    <tr>\n",
       "      <th>resultado</th>\n",
       "      <td>eleito</td>\n",
       "      <td>nao eleito</td>\n",
       "      <td>nao eleito</td>\n",
       "      <td>eleito</td>\n",
       "      <td>nao eleito</td>\n",
       "      <td>nao eleito</td>\n",
       "      <td>eleito</td>\n",
       "      <td>nao eleito</td>\n",
       "      <td>nao eleito</td>\n",
       "      <td>nao eleito</td>\n",
       "    </tr>\n",
       "    <tr>\n",
       "      <th>votos</th>\n",
       "      <td>7536</td>\n",
       "      <td>4526</td>\n",
       "      <td>732</td>\n",
       "      <td>2242</td>\n",
       "      <td>200</td>\n",
       "      <td>1188</td>\n",
       "      <td>25791</td>\n",
       "      <td>12692</td>\n",
       "      <td>3220</td>\n",
       "      <td>2177</td>\n",
       "    </tr>\n",
       "    <tr>\n",
       "      <th>decisao_primeiro_turno</th>\n",
       "      <td>1</td>\n",
       "      <td>1</td>\n",
       "      <td>1</td>\n",
       "      <td>1</td>\n",
       "      <td>1</td>\n",
       "      <td>1</td>\n",
       "      <td>1</td>\n",
       "      <td>1</td>\n",
       "      <td>1</td>\n",
       "      <td>1</td>\n",
       "    </tr>\n",
       "    <tr>\n",
       "      <th>total_votos</th>\n",
       "      <td>13120</td>\n",
       "      <td>13120</td>\n",
       "      <td>13120</td>\n",
       "      <td>3630</td>\n",
       "      <td>3630</td>\n",
       "      <td>3630</td>\n",
       "      <td>42251</td>\n",
       "      <td>42251</td>\n",
       "      <td>42251</td>\n",
       "      <td>8926</td>\n",
       "    </tr>\n",
       "    <tr>\n",
       "      <th>%votos</th>\n",
       "      <td>0.57439</td>\n",
       "      <td>0.34497</td>\n",
       "      <td>0.055793</td>\n",
       "      <td>0.617631</td>\n",
       "      <td>0.055096</td>\n",
       "      <td>0.327273</td>\n",
       "      <td>0.610423</td>\n",
       "      <td>0.300395</td>\n",
       "      <td>0.076211</td>\n",
       "      <td>0.243894</td>\n",
       "    </tr>\n",
       "    <tr>\n",
       "      <th>2_lugar</th>\n",
       "      <td>False</td>\n",
       "      <td>True</td>\n",
       "      <td>False</td>\n",
       "      <td>False</td>\n",
       "      <td>False</td>\n",
       "      <td>True</td>\n",
       "      <td>False</td>\n",
       "      <td>True</td>\n",
       "      <td>False</td>\n",
       "      <td>False</td>\n",
       "    </tr>\n",
       "    <tr>\n",
       "      <th>3_lugar</th>\n",
       "      <td>False</td>\n",
       "      <td>False</td>\n",
       "      <td>True</td>\n",
       "      <td>False</td>\n",
       "      <td>True</td>\n",
       "      <td>False</td>\n",
       "      <td>False</td>\n",
       "      <td>False</td>\n",
       "      <td>True</td>\n",
       "      <td>True</td>\n",
       "    </tr>\n",
       "    <tr>\n",
       "      <th>dif_votos_2_lugar</th>\n",
       "      <td>0.229421</td>\n",
       "      <td>0.229421</td>\n",
       "      <td>0.229421</td>\n",
       "      <td>0.290358</td>\n",
       "      <td>0.290358</td>\n",
       "      <td>0.290358</td>\n",
       "      <td>0.310028</td>\n",
       "      <td>0.310028</td>\n",
       "      <td>0.310028</td>\n",
       "      <td>0.08212</td>\n",
       "    </tr>\n",
       "    <tr>\n",
       "      <th>dif_votos_3_lugar</th>\n",
       "      <td>0.518598</td>\n",
       "      <td>0.518598</td>\n",
       "      <td>0.518598</td>\n",
       "      <td>0.562534</td>\n",
       "      <td>0.562534</td>\n",
       "      <td>0.562534</td>\n",
       "      <td>0.534212</td>\n",
       "      <td>0.534212</td>\n",
       "      <td>0.534212</td>\n",
       "      <td>0.175218</td>\n",
       "    </tr>\n",
       "    <tr>\n",
       "      <th>dif_votos</th>\n",
       "      <td>0.518598</td>\n",
       "      <td>0.518598</td>\n",
       "      <td>0.518598</td>\n",
       "      <td>0.272176</td>\n",
       "      <td>0.272176</td>\n",
       "      <td>0.272176</td>\n",
       "      <td>0.310028</td>\n",
       "      <td>0.310028</td>\n",
       "      <td>0.310028</td>\n",
       "      <td>0.093099</td>\n",
       "    </tr>\n",
       "    <tr>\n",
       "      <th>cbo_2002</th>\n",
       "      <td>222110</td>\n",
       "      <td>NaN</td>\n",
       "      <td>317110</td>\n",
       "      <td>317110</td>\n",
       "      <td>NaN</td>\n",
       "      <td>NaN</td>\n",
       "      <td>NaN</td>\n",
       "      <td>317110</td>\n",
       "      <td>NaN</td>\n",
       "      <td>NaN</td>\n",
       "    </tr>\n",
       "    <tr>\n",
       "      <th>cnpj_raiz</th>\n",
       "      <td>5888813.0</td>\n",
       "      <td>NaN</td>\n",
       "      <td>394585.0</td>\n",
       "      <td>394585.0</td>\n",
       "      <td>NaN</td>\n",
       "      <td>NaN</td>\n",
       "      <td>NaN</td>\n",
       "      <td>394585.0</td>\n",
       "      <td>NaN</td>\n",
       "      <td>NaN</td>\n",
       "    </tr>\n",
       "    <tr>\n",
       "      <th>data_adm</th>\n",
       "      <td>10022005.0</td>\n",
       "      <td>NaN</td>\n",
       "      <td>4112008.0</td>\n",
       "      <td>30032004.0</td>\n",
       "      <td>NaN</td>\n",
       "      <td>NaN</td>\n",
       "      <td>NaN</td>\n",
       "      <td>22031990.0</td>\n",
       "      <td>NaN</td>\n",
       "      <td>NaN</td>\n",
       "    </tr>\n",
       "    <tr>\n",
       "      <th>tenure_rais</th>\n",
       "      <td>22.0</td>\n",
       "      <td>NaN</td>\n",
       "      <td>121.0</td>\n",
       "      <td>81.0</td>\n",
       "      <td>NaN</td>\n",
       "      <td>NaN</td>\n",
       "      <td>NaN</td>\n",
       "      <td>249.0</td>\n",
       "      <td>NaN</td>\n",
       "      <td>NaN</td>\n",
       "    </tr>\n",
       "    <tr>\n",
       "      <th>stem_job</th>\n",
       "      <td>1.0</td>\n",
       "      <td>0.0</td>\n",
       "      <td>1.0</td>\n",
       "      <td>1.0</td>\n",
       "      <td>0.0</td>\n",
       "      <td>0.0</td>\n",
       "      <td>0.0</td>\n",
       "      <td>1.0</td>\n",
       "      <td>0.0</td>\n",
       "      <td>0.0</td>\n",
       "    </tr>\n",
       "    <tr>\n",
       "      <th>tenure</th>\n",
       "      <td>22.0</td>\n",
       "      <td>0.0</td>\n",
       "      <td>12.0</td>\n",
       "      <td>81.0</td>\n",
       "      <td>0.0</td>\n",
       "      <td>0.0</td>\n",
       "      <td>0.0</td>\n",
       "      <td>254.0</td>\n",
       "      <td>0.0</td>\n",
       "      <td>0.0</td>\n",
       "    </tr>\n",
       "    <tr>\n",
       "      <th>max_year</th>\n",
       "      <td>2006.0</td>\n",
       "      <td>NaN</td>\n",
       "      <td>2018.0</td>\n",
       "      <td>2010.0</td>\n",
       "      <td>NaN</td>\n",
       "      <td>NaN</td>\n",
       "      <td>NaN</td>\n",
       "      <td>2010.0</td>\n",
       "      <td>NaN</td>\n",
       "      <td>NaN</td>\n",
       "    </tr>\n",
       "  </tbody>\n",
       "</table>\n",
       "</div>"
      ],
      "text/plain": [
       "                                               0  \\\n",
       "ano                                         2020   \n",
       "tipo_eleicao                   eleicao ordinaria   \n",
       "sigla_uf                                      RO   \n",
       "id_municipio                             1100015   \n",
       "id_municipio_tse                             310   \n",
       "id_candidato_bd                           500468   \n",
       "cpf                                  66145201215   \n",
       "titulo_eleitoral                      8912282399   \n",
       "sequencial                          220001187738   \n",
       "numero                                        19   \n",
       "nome                                 Giovan Damo   \n",
       "nome_urna                               Gio Damo   \n",
       "numero_partido                                19   \n",
       "sigla_partido                               PODE   \n",
       "cargo                                   prefeito   \n",
       "situacao                                deferido   \n",
       "ocupacao                                agronomo   \n",
       "data_nascimento                       1981-04-09   \n",
       "idade                                         39   \n",
       "genero                                 masculino   \n",
       "instrucao               ensino superior completo   \n",
       "estado_civil                         solteiro(a)   \n",
       "nacionalidade                         brasileira   \n",
       "sigla_uf_nascimento                           SC   \n",
       "municipio_nascimento                     Chapecó   \n",
       "email                         gioagro@hotmailcom   \n",
       "raca                                      branca   \n",
       "ano_1                                       2020   \n",
       "turno                                          1   \n",
       "tipo_eleicao_1                 eleicao ordinaria   \n",
       "sigla_uf_1                                    RO   \n",
       "id_municipio_1                           1100015   \n",
       "id_municipio_tse_1                           310   \n",
       "cargo_1                                 prefeito   \n",
       "sigla_partido_1                             PODE   \n",
       "numero_candidato                              19   \n",
       "sequencial_candidato                220001187738   \n",
       "id_candidato_bd_1                         500468   \n",
       "resultado                                 eleito   \n",
       "votos                                       7536   \n",
       "decisao_primeiro_turno                         1   \n",
       "total_votos                                13120   \n",
       "%votos                                   0.57439   \n",
       "2_lugar                                    False   \n",
       "3_lugar                                    False   \n",
       "dif_votos_2_lugar                       0.229421   \n",
       "dif_votos_3_lugar                       0.518598   \n",
       "dif_votos                               0.518598   \n",
       "cbo_2002                                  222110   \n",
       "cnpj_raiz                              5888813.0   \n",
       "data_adm                              10022005.0   \n",
       "tenure_rais                                 22.0   \n",
       "stem_job                                     1.0   \n",
       "tenure                                      22.0   \n",
       "max_year                                  2006.0   \n",
       "\n",
       "                                                    1  \\\n",
       "ano                                              2020   \n",
       "tipo_eleicao                        eleicao ordinaria   \n",
       "sigla_uf                                           RO   \n",
       "id_municipio                                  1100015   \n",
       "id_municipio_tse                                  310   \n",
       "id_candidato_bd                               1494057   \n",
       "cpf                                       16994140172   \n",
       "titulo_eleitoral                           4122242305   \n",
       "sequencial                               220001055240   \n",
       "numero                                             12   \n",
       "nome                           Valdoir Gomes Ferreira   \n",
       "nome_urna                            Vantuil Do Posto   \n",
       "numero_partido                                     12   \n",
       "sigla_partido                                     PDT   \n",
       "cargo                                        prefeito   \n",
       "situacao                                     deferido   \n",
       "ocupacao                                   agricultor   \n",
       "data_nascimento                            1959-02-04   \n",
       "idade                                              62   \n",
       "genero                                      masculino   \n",
       "instrucao               ensino fundamental incompleto   \n",
       "estado_civil                              solteiro(a)   \n",
       "nacionalidade                              brasileira   \n",
       "sigla_uf_nascimento                                GO   \n",
       "municipio_nascimento                            Ceres   \n",
       "email                         wendergospel@hotmailcom   \n",
       "raca                                           branca   \n",
       "ano_1                                            2020   \n",
       "turno                                               1   \n",
       "tipo_eleicao_1                      eleicao ordinaria   \n",
       "sigla_uf_1                                         RO   \n",
       "id_municipio_1                                1100015   \n",
       "id_municipio_tse_1                                310   \n",
       "cargo_1                                      prefeito   \n",
       "sigla_partido_1                                   PDT   \n",
       "numero_candidato                                   12   \n",
       "sequencial_candidato                     220001055240   \n",
       "id_candidato_bd_1                             1494057   \n",
       "resultado                                  nao eleito   \n",
       "votos                                            4526   \n",
       "decisao_primeiro_turno                              1   \n",
       "total_votos                                     13120   \n",
       "%votos                                        0.34497   \n",
       "2_lugar                                          True   \n",
       "3_lugar                                         False   \n",
       "dif_votos_2_lugar                            0.229421   \n",
       "dif_votos_3_lugar                            0.518598   \n",
       "dif_votos                                    0.518598   \n",
       "cbo_2002                                          NaN   \n",
       "cnpj_raiz                                         NaN   \n",
       "data_adm                                          NaN   \n",
       "tenure_rais                                       NaN   \n",
       "stem_job                                          0.0   \n",
       "tenure                                            0.0   \n",
       "max_year                                          NaN   \n",
       "\n",
       "                                                       2  \\\n",
       "ano                                                 2020   \n",
       "tipo_eleicao                           eleicao ordinaria   \n",
       "sigla_uf                                              RO   \n",
       "id_municipio                                     1100015   \n",
       "id_municipio_tse                                     310   \n",
       "id_candidato_bd                                   285972   \n",
       "cpf                                          49891030920   \n",
       "titulo_eleitoral                              6843012380   \n",
       "sequencial                                  220000768332   \n",
       "numero                                                13   \n",
       "nome                               Ademar Dias Guimarães   \n",
       "nome_urna                               Professor Ademar   \n",
       "numero_partido                                        13   \n",
       "sigla_partido                                         PT   \n",
       "cargo                                           prefeito   \n",
       "situacao                                        deferido   \n",
       "ocupacao                 professor de ensino fundamental   \n",
       "data_nascimento                               1961-06-09   \n",
       "idade                                                 59   \n",
       "genero                                         masculino   \n",
       "instrucao                       ensino superior completo   \n",
       "estado_civil                               divorciado(a)   \n",
       "nacionalidade                                 brasileira   \n",
       "sigla_uf_nascimento                                   RS   \n",
       "municipio_nascimento                     Tenente Portela   \n",
       "email                   ademardiasguimaraes2020@gmailcom   \n",
       "raca                                              branca   \n",
       "ano_1                                               2020   \n",
       "turno                                                  1   \n",
       "tipo_eleicao_1                         eleicao ordinaria   \n",
       "sigla_uf_1                                            RO   \n",
       "id_municipio_1                                   1100015   \n",
       "id_municipio_tse_1                                   310   \n",
       "cargo_1                                         prefeito   \n",
       "sigla_partido_1                                       PT   \n",
       "numero_candidato                                      13   \n",
       "sequencial_candidato                        220000768332   \n",
       "id_candidato_bd_1                                 285972   \n",
       "resultado                                     nao eleito   \n",
       "votos                                                732   \n",
       "decisao_primeiro_turno                                 1   \n",
       "total_votos                                        13120   \n",
       "%votos                                          0.055793   \n",
       "2_lugar                                            False   \n",
       "3_lugar                                             True   \n",
       "dif_votos_2_lugar                               0.229421   \n",
       "dif_votos_3_lugar                               0.518598   \n",
       "dif_votos                                       0.518598   \n",
       "cbo_2002                                          317110   \n",
       "cnpj_raiz                                       394585.0   \n",
       "data_adm                                       4112008.0   \n",
       "tenure_rais                                        121.0   \n",
       "stem_job                                             1.0   \n",
       "tenure                                              12.0   \n",
       "max_year                                          2018.0   \n",
       "\n",
       "                                                      3  \\\n",
       "ano                                                2020   \n",
       "tipo_eleicao                          eleicao ordinaria   \n",
       "sigla_uf                                             RO   \n",
       "id_municipio                                    1100031   \n",
       "id_municipio_tse                                    450   \n",
       "id_candidato_bd                                   29478   \n",
       "cpf                                         34061738291   \n",
       "titulo_eleitoral                             5696402321   \n",
       "sequencial                                 220000955267   \n",
       "numero                                               11   \n",
       "nome                                 Izael Dias Moreira   \n",
       "nome_urna                                         Izael   \n",
       "numero_partido                                       11   \n",
       "sigla_partido                                        PP   \n",
       "cargo                                          prefeito   \n",
       "situacao                                       deferido   \n",
       "ocupacao                professor de ensino fundamental   \n",
       "data_nascimento                              1970-12-30   \n",
       "idade                                                50   \n",
       "genero                                        masculino   \n",
       "instrucao                      ensino superior completo   \n",
       "estado_civil                                solteiro(a)   \n",
       "nacionalidade                                brasileira   \n",
       "sigla_uf_nascimento                                  MG   \n",
       "municipio_nascimento                    Mendes Pimentel   \n",
       "email                           ccontabilize@hotmailcom   \n",
       "raca                                             branca   \n",
       "ano_1                                              2020   \n",
       "turno                                                 1   \n",
       "tipo_eleicao_1                        eleicao ordinaria   \n",
       "sigla_uf_1                                           RO   \n",
       "id_municipio_1                                  1100031   \n",
       "id_municipio_tse_1                                  450   \n",
       "cargo_1                                        prefeito   \n",
       "sigla_partido_1                                      PP   \n",
       "numero_candidato                                     11   \n",
       "sequencial_candidato                       220000955267   \n",
       "id_candidato_bd_1                                 29478   \n",
       "resultado                                        eleito   \n",
       "votos                                              2242   \n",
       "decisao_primeiro_turno                                1   \n",
       "total_votos                                        3630   \n",
       "%votos                                         0.617631   \n",
       "2_lugar                                           False   \n",
       "3_lugar                                           False   \n",
       "dif_votos_2_lugar                              0.290358   \n",
       "dif_votos_3_lugar                              0.562534   \n",
       "dif_votos                                      0.272176   \n",
       "cbo_2002                                         317110   \n",
       "cnpj_raiz                                      394585.0   \n",
       "data_adm                                     30032004.0   \n",
       "tenure_rais                                        81.0   \n",
       "stem_job                                            1.0   \n",
       "tenure                                             81.0   \n",
       "max_year                                         2010.0   \n",
       "\n",
       "                                                                        4  \\\n",
       "ano                                                                  2020   \n",
       "tipo_eleicao                                            eleicao ordinaria   \n",
       "sigla_uf                                                               RO   \n",
       "id_municipio                                                      1100031   \n",
       "id_municipio_tse                                                      450   \n",
       "id_candidato_bd                                                    110633   \n",
       "cpf                                                           38549182249   \n",
       "titulo_eleitoral                                               5680032348   \n",
       "sequencial                                                   220001137117   \n",
       "numero                                                                 51   \n",
       "nome                                          Adilson De Almeida Fagundes   \n",
       "nome_urna                                                Adilson Fagundes   \n",
       "numero_partido                                                         51   \n",
       "sigla_partido                                                    PATRIOTA   \n",
       "cargo                                                            prefeito   \n",
       "situacao                                                         deferido   \n",
       "ocupacao                tecnico de enfermagem e assemelhados (exceto e...   \n",
       "data_nascimento                                                1971-03-20   \n",
       "idade                                                                  50   \n",
       "genero                                                          masculino   \n",
       "instrucao                                           ensino medio completo   \n",
       "estado_civil                                                    casado(a)   \n",
       "nacionalidade                                                  brasileira   \n",
       "sigla_uf_nascimento                                                    MG   \n",
       "municipio_nascimento                                              Mantena   \n",
       "email                                        adilson--fagundes@hotmailcom   \n",
       "raca                                                               branca   \n",
       "ano_1                                                                2020   \n",
       "turno                                                                   1   \n",
       "tipo_eleicao_1                                          eleicao ordinaria   \n",
       "sigla_uf_1                                                             RO   \n",
       "id_municipio_1                                                    1100031   \n",
       "id_municipio_tse_1                                                    450   \n",
       "cargo_1                                                          prefeito   \n",
       "sigla_partido_1                                                  PATRIOTA   \n",
       "numero_candidato                                                       51   \n",
       "sequencial_candidato                                         220001137117   \n",
       "id_candidato_bd_1                                                  110633   \n",
       "resultado                                                      nao eleito   \n",
       "votos                                                                 200   \n",
       "decisao_primeiro_turno                                                  1   \n",
       "total_votos                                                          3630   \n",
       "%votos                                                           0.055096   \n",
       "2_lugar                                                             False   \n",
       "3_lugar                                                              True   \n",
       "dif_votos_2_lugar                                                0.290358   \n",
       "dif_votos_3_lugar                                                0.562534   \n",
       "dif_votos                                                        0.272176   \n",
       "cbo_2002                                                              NaN   \n",
       "cnpj_raiz                                                             NaN   \n",
       "data_adm                                                              NaN   \n",
       "tenure_rais                                                           NaN   \n",
       "stem_job                                                              0.0   \n",
       "tenure                                                                0.0   \n",
       "max_year                                                              NaN   \n",
       "\n",
       "                                                            5  \\\n",
       "ano                                                      2020   \n",
       "tipo_eleicao                                eleicao ordinaria   \n",
       "sigla_uf                                                   RO   \n",
       "id_municipio                                          1100031   \n",
       "id_municipio_tse                                          450   \n",
       "id_candidato_bd                                        225569   \n",
       "cpf                                               45751609204   \n",
       "titulo_eleitoral                                   8183392321   \n",
       "sequencial                                       220001193423   \n",
       "numero                                                     45   \n",
       "nome                    Rosely De Fátima De Assumpção Barroso   \n",
       "nome_urna                                      Rosely Barroso   \n",
       "numero_partido                                             45   \n",
       "sigla_partido                                            PSDB   \n",
       "cargo                                                prefeito   \n",
       "situacao                                             deferido   \n",
       "ocupacao                                           agricultor   \n",
       "data_nascimento                                    1970-11-09   \n",
       "idade                                                      50   \n",
       "genero                                               feminino   \n",
       "instrucao                             ensino medio incompleto   \n",
       "estado_civil                                        casado(a)   \n",
       "nacionalidade                                      brasileira   \n",
       "sigla_uf_nascimento                                        PR   \n",
       "municipio_nascimento                                   Ampére   \n",
       "email                         eleitoral@valverdechahairaadvbr   \n",
       "raca                                                    parda   \n",
       "ano_1                                                    2020   \n",
       "turno                                                       1   \n",
       "tipo_eleicao_1                              eleicao ordinaria   \n",
       "sigla_uf_1                                                 RO   \n",
       "id_municipio_1                                        1100031   \n",
       "id_municipio_tse_1                                        450   \n",
       "cargo_1                                              prefeito   \n",
       "sigla_partido_1                                          PSDB   \n",
       "numero_candidato                                           45   \n",
       "sequencial_candidato                             220001193423   \n",
       "id_candidato_bd_1                                      225569   \n",
       "resultado                                          nao eleito   \n",
       "votos                                                    1188   \n",
       "decisao_primeiro_turno                                      1   \n",
       "total_votos                                              3630   \n",
       "%votos                                               0.327273   \n",
       "2_lugar                                                  True   \n",
       "3_lugar                                                 False   \n",
       "dif_votos_2_lugar                                    0.290358   \n",
       "dif_votos_3_lugar                                    0.562534   \n",
       "dif_votos                                            0.272176   \n",
       "cbo_2002                                                  NaN   \n",
       "cnpj_raiz                                                 NaN   \n",
       "data_adm                                                  NaN   \n",
       "tenure_rais                                               NaN   \n",
       "stem_job                                                  0.0   \n",
       "tenure                                                    0.0   \n",
       "max_year                                                  NaN   \n",
       "\n",
       "                                                  6  \\\n",
       "ano                                            2020   \n",
       "tipo_eleicao                      eleicao ordinaria   \n",
       "sigla_uf                                         RO   \n",
       "id_municipio                                1100049   \n",
       "id_municipio_tse                                 94   \n",
       "id_candidato_bd                              782088   \n",
       "cpf                                     89845277268   \n",
       "titulo_eleitoral                        13637562380   \n",
       "sequencial                             220001025502   \n",
       "numero                                           55   \n",
       "nome                      Adailton Antunes Ferreira   \n",
       "nome_urna                            Adailton Furia   \n",
       "numero_partido                                   55   \n",
       "sigla_partido                                   PSD   \n",
       "cargo                                      prefeito   \n",
       "situacao                                   deferido   \n",
       "ocupacao                                   deputado   \n",
       "data_nascimento                          1986-09-24   \n",
       "idade                                            34   \n",
       "genero                                    masculino   \n",
       "instrucao                  ensino superior completo   \n",
       "estado_civil                              casado(a)   \n",
       "nacionalidade                            brasileira   \n",
       "sigla_uf_nascimento                              RO   \n",
       "municipio_nascimento                         Cacoal   \n",
       "email                   silvaresassessoria@gmailcom   \n",
       "raca                                          parda   \n",
       "ano_1                                          2020   \n",
       "turno                                             1   \n",
       "tipo_eleicao_1                    eleicao ordinaria   \n",
       "sigla_uf_1                                       RO   \n",
       "id_municipio_1                              1100049   \n",
       "id_municipio_tse_1                               94   \n",
       "cargo_1                                    prefeito   \n",
       "sigla_partido_1                                 PSD   \n",
       "numero_candidato                                 55   \n",
       "sequencial_candidato                   220001025502   \n",
       "id_candidato_bd_1                            782088   \n",
       "resultado                                    eleito   \n",
       "votos                                         25791   \n",
       "decisao_primeiro_turno                            1   \n",
       "total_votos                                   42251   \n",
       "%votos                                     0.610423   \n",
       "2_lugar                                       False   \n",
       "3_lugar                                       False   \n",
       "dif_votos_2_lugar                          0.310028   \n",
       "dif_votos_3_lugar                          0.534212   \n",
       "dif_votos                                  0.310028   \n",
       "cbo_2002                                        NaN   \n",
       "cnpj_raiz                                       NaN   \n",
       "data_adm                                        NaN   \n",
       "tenure_rais                                     NaN   \n",
       "stem_job                                        0.0   \n",
       "tenure                                          0.0   \n",
       "max_year                                        NaN   \n",
       "\n",
       "                                                 7  \\\n",
       "ano                                           2020   \n",
       "tipo_eleicao                     eleicao ordinaria   \n",
       "sigla_uf                                        RO   \n",
       "id_municipio                               1100049   \n",
       "id_municipio_tse                                94   \n",
       "id_candidato_bd                            1235541   \n",
       "cpf                                    08082136871   \n",
       "titulo_eleitoral                        7945522330   \n",
       "sequencial                            220001268453   \n",
       "numero                                          25   \n",
       "nome                    Marco Aurélio Blaz Vasques   \n",
       "nome_urna                                  Vasques   \n",
       "numero_partido                                  25   \n",
       "sigla_partido                                  DEM   \n",
       "cargo                                     prefeito   \n",
       "situacao                                  deferido   \n",
       "ocupacao                servidor publico municipal   \n",
       "data_nascimento                         1967-02-02   \n",
       "idade                                           54   \n",
       "genero                                   masculino   \n",
       "instrucao                 ensino superior completo   \n",
       "estado_civil                             casado(a)   \n",
       "nacionalidade                           brasileira   \n",
       "sigla_uf_nascimento                             SP   \n",
       "municipio_nascimento               Monte Aprazível   \n",
       "email                    marcoabvasques@hotmailcom   \n",
       "raca                                         parda   \n",
       "ano_1                                         2020   \n",
       "turno                                            1   \n",
       "tipo_eleicao_1                   eleicao ordinaria   \n",
       "sigla_uf_1                                      RO   \n",
       "id_municipio_1                             1100049   \n",
       "id_municipio_tse_1                              94   \n",
       "cargo_1                                   prefeito   \n",
       "sigla_partido_1                                DEM   \n",
       "numero_candidato                                25   \n",
       "sequencial_candidato                  220001268453   \n",
       "id_candidato_bd_1                          1235541   \n",
       "resultado                               nao eleito   \n",
       "votos                                        12692   \n",
       "decisao_primeiro_turno                           1   \n",
       "total_votos                                  42251   \n",
       "%votos                                    0.300395   \n",
       "2_lugar                                       True   \n",
       "3_lugar                                      False   \n",
       "dif_votos_2_lugar                         0.310028   \n",
       "dif_votos_3_lugar                         0.534212   \n",
       "dif_votos                                 0.310028   \n",
       "cbo_2002                                    317110   \n",
       "cnpj_raiz                                 394585.0   \n",
       "data_adm                                22031990.0   \n",
       "tenure_rais                                  249.0   \n",
       "stem_job                                       1.0   \n",
       "tenure                                       254.0   \n",
       "max_year                                    2010.0   \n",
       "\n",
       "                                                   8  \\\n",
       "ano                                             2020   \n",
       "tipo_eleicao                       eleicao ordinaria   \n",
       "sigla_uf                                          RO   \n",
       "id_municipio                                 1100049   \n",
       "id_municipio_tse                                  94   \n",
       "id_candidato_bd                               119076   \n",
       "cpf                                      39036073200   \n",
       "titulo_eleitoral                          6245192364   \n",
       "sequencial                              220001198451   \n",
       "numero                                            90   \n",
       "nome                          Mario Angelino Moreira   \n",
       "nome_urna                               Jabá Moreira   \n",
       "numero_partido                                    90   \n",
       "sigla_partido                                   PROS   \n",
       "cargo                                       prefeito   \n",
       "situacao                                    deferido   \n",
       "ocupacao                                    vereador   \n",
       "data_nascimento                           1974-03-27   \n",
       "idade                                             47   \n",
       "genero                                     masculino   \n",
       "instrucao                      ensino medio completo   \n",
       "estado_civil                               casado(a)   \n",
       "nacionalidade                             brasileira   \n",
       "sigla_uf_nascimento                               RO   \n",
       "municipio_nascimento                          Cacoal   \n",
       "email                   vereadorjabamoreira@gmailcom   \n",
       "raca                                           parda   \n",
       "ano_1                                           2020   \n",
       "turno                                              1   \n",
       "tipo_eleicao_1                     eleicao ordinaria   \n",
       "sigla_uf_1                                        RO   \n",
       "id_municipio_1                               1100049   \n",
       "id_municipio_tse_1                                94   \n",
       "cargo_1                                     prefeito   \n",
       "sigla_partido_1                                 PROS   \n",
       "numero_candidato                                  90   \n",
       "sequencial_candidato                    220001198451   \n",
       "id_candidato_bd_1                             119076   \n",
       "resultado                                 nao eleito   \n",
       "votos                                           3220   \n",
       "decisao_primeiro_turno                             1   \n",
       "total_votos                                    42251   \n",
       "%votos                                      0.076211   \n",
       "2_lugar                                        False   \n",
       "3_lugar                                         True   \n",
       "dif_votos_2_lugar                           0.310028   \n",
       "dif_votos_3_lugar                           0.534212   \n",
       "dif_votos                                   0.310028   \n",
       "cbo_2002                                         NaN   \n",
       "cnpj_raiz                                        NaN   \n",
       "data_adm                                         NaN   \n",
       "tenure_rais                                      NaN   \n",
       "stem_job                                         0.0   \n",
       "tenure                                           0.0   \n",
       "max_year                                         NaN   \n",
       "\n",
       "                                                     9  \n",
       "ano                                               2020  \n",
       "tipo_eleicao                         eleicao ordinaria  \n",
       "sigla_uf                                            RO  \n",
       "id_municipio                                   1100056  \n",
       "id_municipio_tse                                   272  \n",
       "id_candidato_bd                                 631087  \n",
       "cpf                                        77209559272  \n",
       "titulo_eleitoral                           12159292380  \n",
       "sequencial                                220000750651  \n",
       "numero                                              15  \n",
       "nome                    Cleiton Rodrigo Da Costa Leite  \n",
       "nome_urna                             Cleiton Capanema  \n",
       "numero_partido                                      15  \n",
       "sigla_partido                                      MDB  \n",
       "cargo                                         prefeito  \n",
       "situacao                                      deferido  \n",
       "ocupacao                                   comerciante  \n",
       "data_nascimento                             1982-12-07  \n",
       "idade                                               38  \n",
       "genero                                       masculino  \n",
       "instrucao                     ensino superior completo  \n",
       "estado_civil                                 casado(a)  \n",
       "nacionalidade                               brasileira  \n",
       "sigla_uf_nascimento                                 PR  \n",
       "municipio_nascimento                          Capanema  \n",
       "email                         mdbcerejeiras@hotmailcom  \n",
       "raca                                            branca  \n",
       "ano_1                                             2020  \n",
       "turno                                                1  \n",
       "tipo_eleicao_1                       eleicao ordinaria  \n",
       "sigla_uf_1                                          RO  \n",
       "id_municipio_1                                 1100056  \n",
       "id_municipio_tse_1                                 272  \n",
       "cargo_1                                       prefeito  \n",
       "sigla_partido_1                                    MDB  \n",
       "numero_candidato                                    15  \n",
       "sequencial_candidato                      220000750651  \n",
       "id_candidato_bd_1                               631087  \n",
       "resultado                                   nao eleito  \n",
       "votos                                             2177  \n",
       "decisao_primeiro_turno                               1  \n",
       "total_votos                                       8926  \n",
       "%votos                                        0.243894  \n",
       "2_lugar                                          False  \n",
       "3_lugar                                           True  \n",
       "dif_votos_2_lugar                              0.08212  \n",
       "dif_votos_3_lugar                             0.175218  \n",
       "dif_votos                                     0.093099  \n",
       "cbo_2002                                           NaN  \n",
       "cnpj_raiz                                          NaN  \n",
       "data_adm                                           NaN  \n",
       "tenure_rais                                        NaN  \n",
       "stem_job                                           0.0  \n",
       "tenure                                             0.0  \n",
       "max_year                                           NaN  "
      ]
     },
     "execution_count": 113,
     "metadata": {},
     "output_type": "execute_result"
    }
   ],
   "source": [
    "df.head(10).T"
   ]
  },
  {
   "cell_type": "code",
   "execution_count": 114,
   "metadata": {},
   "outputs": [
    {
     "data": {
      "text/html": [
       "<div>\n",
       "<style scoped>\n",
       "    .dataframe tbody tr th:only-of-type {\n",
       "        vertical-align: middle;\n",
       "    }\n",
       "\n",
       "    .dataframe tbody tr th {\n",
       "        vertical-align: top;\n",
       "    }\n",
       "\n",
       "    .dataframe thead th {\n",
       "        text-align: right;\n",
       "    }\n",
       "</style>\n",
       "<table border=\"1\" class=\"dataframe\">\n",
       "  <thead>\n",
       "    <tr style=\"text-align: right;\">\n",
       "      <th></th>\n",
       "      <th>ano</th>\n",
       "      <th>tipo_eleicao</th>\n",
       "      <th>sigla_uf</th>\n",
       "      <th>id_municipio</th>\n",
       "      <th>id_municipio_tse</th>\n",
       "      <th>id_candidato_bd</th>\n",
       "      <th>cpf</th>\n",
       "      <th>titulo_eleitoral</th>\n",
       "      <th>sequencial</th>\n",
       "      <th>numero</th>\n",
       "      <th>...</th>\n",
       "      <th>dif_votos_2_lugar</th>\n",
       "      <th>dif_votos_3_lugar</th>\n",
       "      <th>dif_votos</th>\n",
       "      <th>cbo_2002</th>\n",
       "      <th>cnpj_raiz</th>\n",
       "      <th>data_adm</th>\n",
       "      <th>tenure_rais</th>\n",
       "      <th>stem_job</th>\n",
       "      <th>tenure</th>\n",
       "      <th>max_year</th>\n",
       "    </tr>\n",
       "  </thead>\n",
       "  <tbody>\n",
       "    <tr>\n",
       "      <th>13305</th>\n",
       "      <td>2020</td>\n",
       "      <td>eleicao ordinaria</td>\n",
       "      <td>GO</td>\n",
       "      <td>5222005</td>\n",
       "      <td>96415</td>\n",
       "      <td>1663405</td>\n",
       "      <td>26287765100</td>\n",
       "      <td>12578141023</td>\n",
       "      <td>90000763854</td>\n",
       "      <td>17</td>\n",
       "      <td>...</td>\n",
       "      <td>0.213590</td>\n",
       "      <td>0.391332</td>\n",
       "      <td>0.177742</td>\n",
       "      <td>NaN</td>\n",
       "      <td>NaN</td>\n",
       "      <td>NaN</td>\n",
       "      <td>NaN</td>\n",
       "      <td>0.0</td>\n",
       "      <td>0.0</td>\n",
       "      <td>NaN</td>\n",
       "    </tr>\n",
       "    <tr>\n",
       "      <th>13306</th>\n",
       "      <td>2020</td>\n",
       "      <td>eleicao ordinaria</td>\n",
       "      <td>GO</td>\n",
       "      <td>5222005</td>\n",
       "      <td>96415</td>\n",
       "      <td>841057</td>\n",
       "      <td>95093575100</td>\n",
       "      <td>41639871015</td>\n",
       "      <td>90000765460</td>\n",
       "      <td>11</td>\n",
       "      <td>...</td>\n",
       "      <td>0.213590</td>\n",
       "      <td>0.391332</td>\n",
       "      <td>0.177742</td>\n",
       "      <td>NaN</td>\n",
       "      <td>NaN</td>\n",
       "      <td>NaN</td>\n",
       "      <td>NaN</td>\n",
       "      <td>0.0</td>\n",
       "      <td>0.0</td>\n",
       "      <td>NaN</td>\n",
       "    </tr>\n",
       "    <tr>\n",
       "      <th>13307</th>\n",
       "      <td>2020</td>\n",
       "      <td>eleicao ordinaria</td>\n",
       "      <td>GO</td>\n",
       "      <td>5222054</td>\n",
       "      <td>96571</td>\n",
       "      <td>1049337</td>\n",
       "      <td>04609564181</td>\n",
       "      <td>63718101031</td>\n",
       "      <td>90001094891</td>\n",
       "      <td>17</td>\n",
       "      <td>...</td>\n",
       "      <td>0.034619</td>\n",
       "      <td>NaN</td>\n",
       "      <td>0.034619</td>\n",
       "      <td>NaN</td>\n",
       "      <td>NaN</td>\n",
       "      <td>NaN</td>\n",
       "      <td>NaN</td>\n",
       "      <td>0.0</td>\n",
       "      <td>0.0</td>\n",
       "      <td>NaN</td>\n",
       "    </tr>\n",
       "    <tr>\n",
       "      <th>13308</th>\n",
       "      <td>2020</td>\n",
       "      <td>eleicao ordinaria</td>\n",
       "      <td>GO</td>\n",
       "      <td>5222054</td>\n",
       "      <td>96571</td>\n",
       "      <td>49913</td>\n",
       "      <td>35123842187</td>\n",
       "      <td>10731541074</td>\n",
       "      <td>90000779505</td>\n",
       "      <td>45</td>\n",
       "      <td>...</td>\n",
       "      <td>0.034619</td>\n",
       "      <td>NaN</td>\n",
       "      <td>0.034619</td>\n",
       "      <td>NaN</td>\n",
       "      <td>NaN</td>\n",
       "      <td>NaN</td>\n",
       "      <td>NaN</td>\n",
       "      <td>0.0</td>\n",
       "      <td>0.0</td>\n",
       "      <td>NaN</td>\n",
       "    </tr>\n",
       "    <tr>\n",
       "      <th>13309</th>\n",
       "      <td>2020</td>\n",
       "      <td>eleicao ordinaria</td>\n",
       "      <td>GO</td>\n",
       "      <td>5222203</td>\n",
       "      <td>93289</td>\n",
       "      <td>1718212</td>\n",
       "      <td>28809530144</td>\n",
       "      <td>4249401023</td>\n",
       "      <td>90001027994</td>\n",
       "      <td>15</td>\n",
       "      <td>...</td>\n",
       "      <td>0.290366</td>\n",
       "      <td>0.324288</td>\n",
       "      <td>0.324288</td>\n",
       "      <td>NaN</td>\n",
       "      <td>NaN</td>\n",
       "      <td>NaN</td>\n",
       "      <td>NaN</td>\n",
       "      <td>0.0</td>\n",
       "      <td>0.0</td>\n",
       "      <td>NaN</td>\n",
       "    </tr>\n",
       "    <tr>\n",
       "      <th>13310</th>\n",
       "      <td>2020</td>\n",
       "      <td>eleicao ordinaria</td>\n",
       "      <td>GO</td>\n",
       "      <td>5222203</td>\n",
       "      <td>93289</td>\n",
       "      <td>243606</td>\n",
       "      <td>46970436187</td>\n",
       "      <td>32487671031</td>\n",
       "      <td>90000976614</td>\n",
       "      <td>25</td>\n",
       "      <td>...</td>\n",
       "      <td>0.290366</td>\n",
       "      <td>0.324288</td>\n",
       "      <td>0.324288</td>\n",
       "      <td>NaN</td>\n",
       "      <td>NaN</td>\n",
       "      <td>NaN</td>\n",
       "      <td>NaN</td>\n",
       "      <td>0.0</td>\n",
       "      <td>0.0</td>\n",
       "      <td>NaN</td>\n",
       "    </tr>\n",
       "    <tr>\n",
       "      <th>13311</th>\n",
       "      <td>2020</td>\n",
       "      <td>eleicao ordinaria</td>\n",
       "      <td>GO</td>\n",
       "      <td>5222203</td>\n",
       "      <td>93289</td>\n",
       "      <td>1447379</td>\n",
       "      <td>14759330100</td>\n",
       "      <td>11497242062</td>\n",
       "      <td>90001056573</td>\n",
       "      <td>22</td>\n",
       "      <td>...</td>\n",
       "      <td>0.290366</td>\n",
       "      <td>0.324288</td>\n",
       "      <td>0.324288</td>\n",
       "      <td>NaN</td>\n",
       "      <td>NaN</td>\n",
       "      <td>NaN</td>\n",
       "      <td>NaN</td>\n",
       "      <td>0.0</td>\n",
       "      <td>0.0</td>\n",
       "      <td>NaN</td>\n",
       "    </tr>\n",
       "    <tr>\n",
       "      <th>13312</th>\n",
       "      <td>2020</td>\n",
       "      <td>eleicao ordinaria</td>\n",
       "      <td>GO</td>\n",
       "      <td>5222302</td>\n",
       "      <td>93505</td>\n",
       "      <td>667574</td>\n",
       "      <td>80065961153</td>\n",
       "      <td>28905971007</td>\n",
       "      <td>90000860420</td>\n",
       "      <td>15</td>\n",
       "      <td>...</td>\n",
       "      <td>0.154146</td>\n",
       "      <td>0.395328</td>\n",
       "      <td>0.241182</td>\n",
       "      <td>NaN</td>\n",
       "      <td>NaN</td>\n",
       "      <td>NaN</td>\n",
       "      <td>NaN</td>\n",
       "      <td>0.0</td>\n",
       "      <td>0.0</td>\n",
       "      <td>NaN</td>\n",
       "    </tr>\n",
       "    <tr>\n",
       "      <th>13313</th>\n",
       "      <td>2020</td>\n",
       "      <td>eleicao ordinaria</td>\n",
       "      <td>GO</td>\n",
       "      <td>5222302</td>\n",
       "      <td>93505</td>\n",
       "      <td>398995</td>\n",
       "      <td>58573658134</td>\n",
       "      <td>24445021090</td>\n",
       "      <td>90000721220</td>\n",
       "      <td>25</td>\n",
       "      <td>...</td>\n",
       "      <td>0.154146</td>\n",
       "      <td>0.395328</td>\n",
       "      <td>0.241182</td>\n",
       "      <td>NaN</td>\n",
       "      <td>NaN</td>\n",
       "      <td>NaN</td>\n",
       "      <td>NaN</td>\n",
       "      <td>0.0</td>\n",
       "      <td>0.0</td>\n",
       "      <td>NaN</td>\n",
       "    </tr>\n",
       "    <tr>\n",
       "      <th>13314</th>\n",
       "      <td>2020</td>\n",
       "      <td>eleicao ordinaria</td>\n",
       "      <td>GO</td>\n",
       "      <td>5222302</td>\n",
       "      <td>93505</td>\n",
       "      <td>785080</td>\n",
       "      <td>90095375104</td>\n",
       "      <td>24689481031</td>\n",
       "      <td>90000719733</td>\n",
       "      <td>12</td>\n",
       "      <td>...</td>\n",
       "      <td>0.154146</td>\n",
       "      <td>0.395328</td>\n",
       "      <td>0.241182</td>\n",
       "      <td>NaN</td>\n",
       "      <td>NaN</td>\n",
       "      <td>NaN</td>\n",
       "      <td>NaN</td>\n",
       "      <td>0.0</td>\n",
       "      <td>0.0</td>\n",
       "      <td>NaN</td>\n",
       "    </tr>\n",
       "  </tbody>\n",
       "</table>\n",
       "<p>10 rows × 55 columns</p>\n",
       "</div>"
      ],
      "text/plain": [
       "        ano       tipo_eleicao sigla_uf id_municipio id_municipio_tse  \\\n",
       "13305  2020  eleicao ordinaria       GO      5222005            96415   \n",
       "13306  2020  eleicao ordinaria       GO      5222005            96415   \n",
       "13307  2020  eleicao ordinaria       GO      5222054            96571   \n",
       "13308  2020  eleicao ordinaria       GO      5222054            96571   \n",
       "13309  2020  eleicao ordinaria       GO      5222203            93289   \n",
       "13310  2020  eleicao ordinaria       GO      5222203            93289   \n",
       "13311  2020  eleicao ordinaria       GO      5222203            93289   \n",
       "13312  2020  eleicao ordinaria       GO      5222302            93505   \n",
       "13313  2020  eleicao ordinaria       GO      5222302            93505   \n",
       "13314  2020  eleicao ordinaria       GO      5222302            93505   \n",
       "\n",
       "      id_candidato_bd          cpf  titulo_eleitoral   sequencial  numero  \\\n",
       "13305         1663405  26287765100       12578141023  90000763854      17   \n",
       "13306          841057  95093575100       41639871015  90000765460      11   \n",
       "13307         1049337  04609564181       63718101031  90001094891      17   \n",
       "13308           49913  35123842187       10731541074  90000779505      45   \n",
       "13309         1718212  28809530144        4249401023  90001027994      15   \n",
       "13310          243606  46970436187       32487671031  90000976614      25   \n",
       "13311         1447379  14759330100       11497242062  90001056573      22   \n",
       "13312          667574  80065961153       28905971007  90000860420      15   \n",
       "13313          398995  58573658134       24445021090  90000721220      25   \n",
       "13314          785080  90095375104       24689481031  90000719733      12   \n",
       "\n",
       "       ... dif_votos_2_lugar dif_votos_3_lugar  dif_votos cbo_2002 cnpj_raiz  \\\n",
       "13305  ...          0.213590          0.391332   0.177742      NaN       NaN   \n",
       "13306  ...          0.213590          0.391332   0.177742      NaN       NaN   \n",
       "13307  ...          0.034619               NaN   0.034619      NaN       NaN   \n",
       "13308  ...          0.034619               NaN   0.034619      NaN       NaN   \n",
       "13309  ...          0.290366          0.324288   0.324288      NaN       NaN   \n",
       "13310  ...          0.290366          0.324288   0.324288      NaN       NaN   \n",
       "13311  ...          0.290366          0.324288   0.324288      NaN       NaN   \n",
       "13312  ...          0.154146          0.395328   0.241182      NaN       NaN   \n",
       "13313  ...          0.154146          0.395328   0.241182      NaN       NaN   \n",
       "13314  ...          0.154146          0.395328   0.241182      NaN       NaN   \n",
       "\n",
       "      data_adm tenure_rais stem_job  tenure max_year  \n",
       "13305      NaN         NaN      0.0     0.0      NaN  \n",
       "13306      NaN         NaN      0.0     0.0      NaN  \n",
       "13307      NaN         NaN      0.0     0.0      NaN  \n",
       "13308      NaN         NaN      0.0     0.0      NaN  \n",
       "13309      NaN         NaN      0.0     0.0      NaN  \n",
       "13310      NaN         NaN      0.0     0.0      NaN  \n",
       "13311      NaN         NaN      0.0     0.0      NaN  \n",
       "13312      NaN         NaN      0.0     0.0      NaN  \n",
       "13313      NaN         NaN      0.0     0.0      NaN  \n",
       "13314      NaN         NaN      0.0     0.0      NaN  \n",
       "\n",
       "[10 rows x 55 columns]"
      ]
     },
     "execution_count": 114,
     "metadata": {},
     "output_type": "execute_result"
    }
   ],
   "source": [
    "df.tail(10)"
   ]
  },
  {
   "cell_type": "code",
   "execution_count": 115,
   "metadata": {},
   "outputs": [
    {
     "data": {
      "text/html": [
       "<div>\n",
       "<style scoped>\n",
       "    .dataframe tbody tr th:only-of-type {\n",
       "        vertical-align: middle;\n",
       "    }\n",
       "\n",
       "    .dataframe tbody tr th {\n",
       "        vertical-align: top;\n",
       "    }\n",
       "\n",
       "    .dataframe thead th {\n",
       "        text-align: right;\n",
       "    }\n",
       "</style>\n",
       "<table border=\"1\" class=\"dataframe\">\n",
       "  <thead>\n",
       "    <tr style=\"text-align: right;\">\n",
       "      <th></th>\n",
       "      <th>ano</th>\n",
       "      <th>tipo_eleicao</th>\n",
       "      <th>sigla_uf</th>\n",
       "      <th>id_municipio</th>\n",
       "      <th>id_municipio_tse</th>\n",
       "      <th>id_candidato_bd</th>\n",
       "      <th>cpf</th>\n",
       "      <th>titulo_eleitoral</th>\n",
       "      <th>sequencial</th>\n",
       "      <th>numero</th>\n",
       "      <th>...</th>\n",
       "      <th>dif_votos_2_lugar</th>\n",
       "      <th>dif_votos_3_lugar</th>\n",
       "      <th>dif_votos</th>\n",
       "      <th>cbo_2002</th>\n",
       "      <th>cnpj_raiz</th>\n",
       "      <th>data_adm</th>\n",
       "      <th>tenure_rais</th>\n",
       "      <th>stem_job</th>\n",
       "      <th>tenure</th>\n",
       "      <th>max_year</th>\n",
       "    </tr>\n",
       "  </thead>\n",
       "  <tbody>\n",
       "    <tr>\n",
       "      <th>39</th>\n",
       "      <td>2020</td>\n",
       "      <td>eleicao ordinaria</td>\n",
       "      <td>RO</td>\n",
       "      <td>1100189</td>\n",
       "      <td>116</td>\n",
       "      <td>215010</td>\n",
       "      <td>45072884104</td>\n",
       "      <td>24848512747</td>\n",
       "      <td>220000773053</td>\n",
       "      <td>51</td>\n",
       "      <td>...</td>\n",
       "      <td>0.0</td>\n",
       "      <td>NaN</td>\n",
       "      <td>0.0</td>\n",
       "      <td>317110</td>\n",
       "      <td>394585.0</td>\n",
       "      <td>4052005.0</td>\n",
       "      <td>163.0</td>\n",
       "      <td>1.0</td>\n",
       "      <td>12.0</td>\n",
       "      <td>2018.0</td>\n",
       "    </tr>\n",
       "    <tr>\n",
       "      <th>201</th>\n",
       "      <td>2020</td>\n",
       "      <td>eleicao ordinaria</td>\n",
       "      <td>AM</td>\n",
       "      <td>1300102</td>\n",
       "      <td>2038</td>\n",
       "      <td>411240</td>\n",
       "      <td>59463031200</td>\n",
       "      <td>15131852283</td>\n",
       "      <td>40000640317</td>\n",
       "      <td>10</td>\n",
       "      <td>...</td>\n",
       "      <td>0.0</td>\n",
       "      <td>NaN</td>\n",
       "      <td>0.0</td>\n",
       "      <td>NaN</td>\n",
       "      <td>NaN</td>\n",
       "      <td>NaN</td>\n",
       "      <td>NaN</td>\n",
       "      <td>0.0</td>\n",
       "      <td>0.0</td>\n",
       "      <td>NaN</td>\n",
       "    </tr>\n",
       "    <tr>\n",
       "      <th>457</th>\n",
       "      <td>2020</td>\n",
       "      <td>eleicao ordinaria</td>\n",
       "      <td>PA</td>\n",
       "      <td>1501758</td>\n",
       "      <td>5932</td>\n",
       "      <td>608319</td>\n",
       "      <td>75206242268</td>\n",
       "      <td>38082201392</td>\n",
       "      <td>140000855685</td>\n",
       "      <td>12</td>\n",
       "      <td>...</td>\n",
       "      <td>0.0</td>\n",
       "      <td>NaN</td>\n",
       "      <td>0.0</td>\n",
       "      <td>NaN</td>\n",
       "      <td>NaN</td>\n",
       "      <td>NaN</td>\n",
       "      <td>NaN</td>\n",
       "      <td>0.0</td>\n",
       "      <td>0.0</td>\n",
       "      <td>NaN</td>\n",
       "    </tr>\n",
       "    <tr>\n",
       "      <th>605</th>\n",
       "      <td>2020</td>\n",
       "      <td>eleicao ordinaria</td>\n",
       "      <td>PA</td>\n",
       "      <td>1505494</td>\n",
       "      <td>4162</td>\n",
       "      <td>226790</td>\n",
       "      <td>45830649268</td>\n",
       "      <td>26243541376</td>\n",
       "      <td>140001105611</td>\n",
       "      <td>45</td>\n",
       "      <td>...</td>\n",
       "      <td>0.0</td>\n",
       "      <td>NaN</td>\n",
       "      <td>0.0</td>\n",
       "      <td>NaN</td>\n",
       "      <td>NaN</td>\n",
       "      <td>NaN</td>\n",
       "      <td>NaN</td>\n",
       "      <td>0.0</td>\n",
       "      <td>0.0</td>\n",
       "      <td>NaN</td>\n",
       "    </tr>\n",
       "    <tr>\n",
       "      <th>706</th>\n",
       "      <td>2020</td>\n",
       "      <td>eleicao ordinaria</td>\n",
       "      <td>PA</td>\n",
       "      <td>1507979</td>\n",
       "      <td>4367</td>\n",
       "      <td>139413</td>\n",
       "      <td>40267415249</td>\n",
       "      <td>21103031384</td>\n",
       "      <td>140001068288</td>\n",
       "      <td>55</td>\n",
       "      <td>...</td>\n",
       "      <td>0.0</td>\n",
       "      <td>NaN</td>\n",
       "      <td>0.0</td>\n",
       "      <td>NaN</td>\n",
       "      <td>NaN</td>\n",
       "      <td>NaN</td>\n",
       "      <td>NaN</td>\n",
       "      <td>0.0</td>\n",
       "      <td>0.0</td>\n",
       "      <td>NaN</td>\n",
       "    </tr>\n",
       "    <tr>\n",
       "      <th>...</th>\n",
       "      <td>...</td>\n",
       "      <td>...</td>\n",
       "      <td>...</td>\n",
       "      <td>...</td>\n",
       "      <td>...</td>\n",
       "      <td>...</td>\n",
       "      <td>...</td>\n",
       "      <td>...</td>\n",
       "      <td>...</td>\n",
       "      <td>...</td>\n",
       "      <td>...</td>\n",
       "      <td>...</td>\n",
       "      <td>...</td>\n",
       "      <td>...</td>\n",
       "      <td>...</td>\n",
       "      <td>...</td>\n",
       "      <td>...</td>\n",
       "      <td>...</td>\n",
       "      <td>...</td>\n",
       "      <td>...</td>\n",
       "      <td>...</td>\n",
       "    </tr>\n",
       "    <tr>\n",
       "      <th>12888</th>\n",
       "      <td>2020</td>\n",
       "      <td>eleicao ordinaria</td>\n",
       "      <td>GO</td>\n",
       "      <td>5206909</td>\n",
       "      <td>93394</td>\n",
       "      <td>833107</td>\n",
       "      <td>02482122147</td>\n",
       "      <td>54542111015</td>\n",
       "      <td>90000661255</td>\n",
       "      <td>19</td>\n",
       "      <td>...</td>\n",
       "      <td>0.0</td>\n",
       "      <td>NaN</td>\n",
       "      <td>0.0</td>\n",
       "      <td>NaN</td>\n",
       "      <td>NaN</td>\n",
       "      <td>NaN</td>\n",
       "      <td>NaN</td>\n",
       "      <td>0.0</td>\n",
       "      <td>0.0</td>\n",
       "      <td>NaN</td>\n",
       "    </tr>\n",
       "    <tr>\n",
       "      <th>13029</th>\n",
       "      <td>2020</td>\n",
       "      <td>eleicao ordinaria</td>\n",
       "      <td>GO</td>\n",
       "      <td>5212600</td>\n",
       "      <td>94471</td>\n",
       "      <td>882669</td>\n",
       "      <td>98812670130</td>\n",
       "      <td>40738881040</td>\n",
       "      <td>90000766950</td>\n",
       "      <td>11</td>\n",
       "      <td>...</td>\n",
       "      <td>0.0</td>\n",
       "      <td>NaN</td>\n",
       "      <td>0.0</td>\n",
       "      <td>NaN</td>\n",
       "      <td>NaN</td>\n",
       "      <td>NaN</td>\n",
       "      <td>NaN</td>\n",
       "      <td>0.0</td>\n",
       "      <td>0.0</td>\n",
       "      <td>NaN</td>\n",
       "    </tr>\n",
       "    <tr>\n",
       "      <th>13086</th>\n",
       "      <td>2020</td>\n",
       "      <td>eleicao ordinaria</td>\n",
       "      <td>GO</td>\n",
       "      <td>5214705</td>\n",
       "      <td>94919</td>\n",
       "      <td>688769</td>\n",
       "      <td>81734786191</td>\n",
       "      <td>34160361015</td>\n",
       "      <td>90000743435</td>\n",
       "      <td>17</td>\n",
       "      <td>...</td>\n",
       "      <td>0.0</td>\n",
       "      <td>NaN</td>\n",
       "      <td>0.0</td>\n",
       "      <td>NaN</td>\n",
       "      <td>NaN</td>\n",
       "      <td>NaN</td>\n",
       "      <td>NaN</td>\n",
       "      <td>0.0</td>\n",
       "      <td>0.0</td>\n",
       "      <td>NaN</td>\n",
       "    </tr>\n",
       "    <tr>\n",
       "      <th>13133</th>\n",
       "      <td>2020</td>\n",
       "      <td>eleicao ordinaria</td>\n",
       "      <td>GO</td>\n",
       "      <td>5216007</td>\n",
       "      <td>95176</td>\n",
       "      <td>714810</td>\n",
       "      <td>83802606191</td>\n",
       "      <td>36664051074</td>\n",
       "      <td>90001108813</td>\n",
       "      <td>22</td>\n",
       "      <td>...</td>\n",
       "      <td>0.0</td>\n",
       "      <td>NaN</td>\n",
       "      <td>0.0</td>\n",
       "      <td>NaN</td>\n",
       "      <td>NaN</td>\n",
       "      <td>NaN</td>\n",
       "      <td>NaN</td>\n",
       "      <td>0.0</td>\n",
       "      <td>0.0</td>\n",
       "      <td>NaN</td>\n",
       "    </tr>\n",
       "    <tr>\n",
       "      <th>13197</th>\n",
       "      <td>2020</td>\n",
       "      <td>eleicao ordinaria</td>\n",
       "      <td>GO</td>\n",
       "      <td>5219100</td>\n",
       "      <td>95770</td>\n",
       "      <td>1784257</td>\n",
       "      <td>32066961191</td>\n",
       "      <td>13116581040</td>\n",
       "      <td>90000915394</td>\n",
       "      <td>12</td>\n",
       "      <td>...</td>\n",
       "      <td>0.0</td>\n",
       "      <td>NaN</td>\n",
       "      <td>0.0</td>\n",
       "      <td>NaN</td>\n",
       "      <td>NaN</td>\n",
       "      <td>NaN</td>\n",
       "      <td>NaN</td>\n",
       "      <td>0.0</td>\n",
       "      <td>0.0</td>\n",
       "      <td>NaN</td>\n",
       "    </tr>\n",
       "  </tbody>\n",
       "</table>\n",
       "<p>208 rows × 55 columns</p>\n",
       "</div>"
      ],
      "text/plain": [
       "        ano       tipo_eleicao sigla_uf id_municipio id_municipio_tse  \\\n",
       "39     2020  eleicao ordinaria       RO      1100189              116   \n",
       "201    2020  eleicao ordinaria       AM      1300102             2038   \n",
       "457    2020  eleicao ordinaria       PA      1501758             5932   \n",
       "605    2020  eleicao ordinaria       PA      1505494             4162   \n",
       "706    2020  eleicao ordinaria       PA      1507979             4367   \n",
       "...     ...                ...      ...          ...              ...   \n",
       "12888  2020  eleicao ordinaria       GO      5206909            93394   \n",
       "13029  2020  eleicao ordinaria       GO      5212600            94471   \n",
       "13086  2020  eleicao ordinaria       GO      5214705            94919   \n",
       "13133  2020  eleicao ordinaria       GO      5216007            95176   \n",
       "13197  2020  eleicao ordinaria       GO      5219100            95770   \n",
       "\n",
       "      id_candidato_bd          cpf  titulo_eleitoral    sequencial  numero  \\\n",
       "39             215010  45072884104       24848512747  220000773053      51   \n",
       "201            411240  59463031200       15131852283   40000640317      10   \n",
       "457            608319  75206242268       38082201392  140000855685      12   \n",
       "605            226790  45830649268       26243541376  140001105611      45   \n",
       "706            139413  40267415249       21103031384  140001068288      55   \n",
       "...               ...          ...               ...           ...     ...   \n",
       "12888          833107  02482122147       54542111015   90000661255      19   \n",
       "13029          882669  98812670130       40738881040   90000766950      11   \n",
       "13086          688769  81734786191       34160361015   90000743435      17   \n",
       "13133          714810  83802606191       36664051074   90001108813      22   \n",
       "13197         1784257  32066961191       13116581040   90000915394      12   \n",
       "\n",
       "       ... dif_votos_2_lugar dif_votos_3_lugar  dif_votos cbo_2002 cnpj_raiz  \\\n",
       "39     ...               0.0               NaN        0.0   317110  394585.0   \n",
       "201    ...               0.0               NaN        0.0      NaN       NaN   \n",
       "457    ...               0.0               NaN        0.0      NaN       NaN   \n",
       "605    ...               0.0               NaN        0.0      NaN       NaN   \n",
       "706    ...               0.0               NaN        0.0      NaN       NaN   \n",
       "...    ...               ...               ...        ...      ...       ...   \n",
       "12888  ...               0.0               NaN        0.0      NaN       NaN   \n",
       "13029  ...               0.0               NaN        0.0      NaN       NaN   \n",
       "13086  ...               0.0               NaN        0.0      NaN       NaN   \n",
       "13133  ...               0.0               NaN        0.0      NaN       NaN   \n",
       "13197  ...               0.0               NaN        0.0      NaN       NaN   \n",
       "\n",
       "        data_adm tenure_rais stem_job  tenure max_year  \n",
       "39     4052005.0       163.0      1.0    12.0   2018.0  \n",
       "201          NaN         NaN      0.0     0.0      NaN  \n",
       "457          NaN         NaN      0.0     0.0      NaN  \n",
       "605          NaN         NaN      0.0     0.0      NaN  \n",
       "706          NaN         NaN      0.0     0.0      NaN  \n",
       "...          ...         ...      ...     ...      ...  \n",
       "12888        NaN         NaN      0.0     0.0      NaN  \n",
       "13029        NaN         NaN      0.0     0.0      NaN  \n",
       "13086        NaN         NaN      0.0     0.0      NaN  \n",
       "13133        NaN         NaN      0.0     0.0      NaN  \n",
       "13197        NaN         NaN      0.0     0.0      NaN  \n",
       "\n",
       "[208 rows x 55 columns]"
      ]
     },
     "execution_count": 115,
     "metadata": {},
     "output_type": "execute_result"
    }
   ],
   "source": [
    "(df[df[\"%votos\"] == df[\"%votos\"].max()])"
   ]
  },
  {
   "cell_type": "code",
   "execution_count": 116,
   "metadata": {},
   "outputs": [],
   "source": [
    "teste = pd.DataFrame(df.groupby([\"id_municipio_tse\"]).stem_job.sum())"
   ]
  },
  {
   "cell_type": "code",
   "execution_count": 117,
   "metadata": {},
   "outputs": [],
   "source": [
    "teste.rename(columns = {\"stem_job\": \"rdd\"}, inplace = True)"
   ]
  },
  {
   "cell_type": "code",
   "execution_count": 118,
   "metadata": {},
   "outputs": [],
   "source": [
    "df = df.merge(teste, how = \"inner\", on = \"id_municipio_tse\")"
   ]
  },
  {
   "cell_type": "code",
   "execution_count": 119,
   "metadata": {},
   "outputs": [
    {
     "data": {
      "text/plain": [
       "(1241, 56)"
      ]
     },
     "execution_count": 119,
     "metadata": {},
     "output_type": "execute_result"
    }
   ],
   "source": [
    "df.query(\"rdd == 1\").shape"
   ]
  },
  {
   "cell_type": "code",
   "execution_count": 120,
   "metadata": {},
   "outputs": [
    {
     "data": {
      "text/plain": [
       "(198, 56)"
      ]
     },
     "execution_count": 120,
     "metadata": {},
     "output_type": "execute_result"
    }
   ],
   "source": [
    "df.query(\"resultado == 'eleito' & rdd == 1 & stem_job == 1\").shape"
   ]
  },
  {
   "cell_type": "code",
   "execution_count": 121,
   "metadata": {},
   "outputs": [],
   "source": [
    "df[\"rdd_stem_won\"] = df.cpf.apply(lambda x: 1 if x in df.query(\"resultado == 'eleito' & rdd == 1 & stem_job == 1\").cpf.unique() else 0)"
   ]
  },
  {
   "cell_type": "code",
   "execution_count": 122,
   "metadata": {},
   "outputs": [
    {
     "data": {
      "text/plain": [
       "198"
      ]
     },
     "execution_count": 122,
     "metadata": {},
     "output_type": "execute_result"
    }
   ],
   "source": [
    "len(df[df[\"rdd_stem_won\"] == 1])"
   ]
  },
  {
   "cell_type": "code",
   "execution_count": 123,
   "metadata": {},
   "outputs": [
    {
     "name": "stdout",
     "output_type": "stream",
     "text": [
      "<class 'pandas.core.frame.DataFrame'>\n",
      "Int64Index: 13315 entries, 0 to 13314\n",
      "Data columns (total 57 columns):\n",
      " #   Column                  Non-Null Count  Dtype  \n",
      "---  ------                  --------------  -----  \n",
      " 0   ano                     13315 non-null  int64  \n",
      " 1   tipo_eleicao            13315 non-null  object \n",
      " 2   sigla_uf                13315 non-null  object \n",
      " 3   id_municipio            13315 non-null  object \n",
      " 4   id_municipio_tse        13315 non-null  object \n",
      " 5   id_candidato_bd         13315 non-null  object \n",
      " 6   cpf                     13315 non-null  object \n",
      " 7   titulo_eleitoral        13315 non-null  int64  \n",
      " 8   sequencial              13315 non-null  int64  \n",
      " 9   numero                  13315 non-null  int64  \n",
      " 10  nome                    13315 non-null  object \n",
      " 11  nome_urna               13315 non-null  object \n",
      " 12  numero_partido          13315 non-null  int64  \n",
      " 13  sigla_partido           13315 non-null  object \n",
      " 14  cargo                   13315 non-null  object \n",
      " 15  situacao                13315 non-null  object \n",
      " 16  ocupacao                13315 non-null  object \n",
      " 17  data_nascimento         13315 non-null  object \n",
      " 18  idade                   13315 non-null  int64  \n",
      " 19  genero                  13315 non-null  object \n",
      " 20  instrucao               13315 non-null  object \n",
      " 21  estado_civil            13315 non-null  object \n",
      " 22  nacionalidade           13315 non-null  object \n",
      " 23  sigla_uf_nascimento     13315 non-null  object \n",
      " 24  municipio_nascimento    13315 non-null  object \n",
      " 25  email                   13315 non-null  object \n",
      " 26  raca                    13247 non-null  object \n",
      " 27  ano_1                   13315 non-null  int64  \n",
      " 28  turno                   13315 non-null  int64  \n",
      " 29  tipo_eleicao_1          13315 non-null  object \n",
      " 30  sigla_uf_1              13315 non-null  object \n",
      " 31  id_municipio_1          13315 non-null  int64  \n",
      " 32  id_municipio_tse_1      13315 non-null  int64  \n",
      " 33  cargo_1                 13315 non-null  object \n",
      " 34  sigla_partido_1         13315 non-null  object \n",
      " 35  numero_candidato        13315 non-null  int64  \n",
      " 36  sequencial_candidato    13315 non-null  int64  \n",
      " 37  id_candidato_bd_1       13315 non-null  int64  \n",
      " 38  resultado               13315 non-null  object \n",
      " 39  votos                   13315 non-null  int64  \n",
      " 40  decisao_primeiro_turno  13315 non-null  int64  \n",
      " 41  total_votos             13315 non-null  int64  \n",
      " 42  %votos                  13315 non-null  float64\n",
      " 43  2_lugar                 13315 non-null  bool   \n",
      " 44  3_lugar                 13315 non-null  bool   \n",
      " 45  dif_votos_2_lugar       13315 non-null  float64\n",
      " 46  dif_votos_3_lugar       8960 non-null   float64\n",
      " 47  dif_votos               13315 non-null  float64\n",
      " 48  cbo_2002                510 non-null    object \n",
      " 49  cnpj_raiz               510 non-null    float64\n",
      " 50  data_adm                510 non-null    float64\n",
      " 51  tenure_rais             510 non-null    float64\n",
      " 52  stem_job                13315 non-null  float64\n",
      " 53  tenure                  13315 non-null  float64\n",
      " 54  max_year                510 non-null    float64\n",
      " 55  rdd                     13315 non-null  float64\n",
      " 56  rdd_stem_won            13315 non-null  int64  \n",
      "dtypes: bool(2), float64(11), int64(17), object(27)\n",
      "memory usage: 5.7+ MB\n"
     ]
    }
   ],
   "source": [
    "df.info()"
   ]
  },
  {
   "cell_type": "code",
   "execution_count": 124,
   "metadata": {},
   "outputs": [],
   "source": [
    "#df.to_csv('Dados/Output/220531_base_rdd_covid_stem.csv', sep = \";\", index = False, encoding = \"utf-8-sig\")"
   ]
  },
  {
   "cell_type": "markdown",
   "metadata": {},
   "source": [
    "# Pegando casos de COVID"
   ]
  },
  {
   "cell_type": "code",
   "execution_count": 125,
   "metadata": {},
   "outputs": [],
   "source": [
    "df_obitos = pd.read_csv(\"Dados/input/caso.csv\")"
   ]
  },
  {
   "cell_type": "markdown",
   "metadata": {},
   "source": [
    "fonte: https://brasil.io/dataset/covid19/caso/?search=&date=2022-01-01&state=&city=&place_type=city&is_last=&city_ibge_code=&order_for_place="
   ]
  },
  {
   "cell_type": "code",
   "execution_count": 126,
   "metadata": {},
   "outputs": [],
   "source": [
    "df_obitos = df_obitos.query(\"place_type == 'city'\")"
   ]
  },
  {
   "cell_type": "code",
   "execution_count": 127,
   "metadata": {},
   "outputs": [
    {
     "data": {
      "text/html": [
       "<div>\n",
       "<style scoped>\n",
       "    .dataframe tbody tr th:only-of-type {\n",
       "        vertical-align: middle;\n",
       "    }\n",
       "\n",
       "    .dataframe tbody tr th {\n",
       "        vertical-align: top;\n",
       "    }\n",
       "\n",
       "    .dataframe thead th {\n",
       "        text-align: right;\n",
       "    }\n",
       "</style>\n",
       "<table border=\"1\" class=\"dataframe\">\n",
       "  <thead>\n",
       "    <tr style=\"text-align: right;\">\n",
       "      <th></th>\n",
       "      <th>date</th>\n",
       "      <th>state</th>\n",
       "      <th>city</th>\n",
       "      <th>place_type</th>\n",
       "      <th>confirmed</th>\n",
       "      <th>deaths</th>\n",
       "      <th>order_for_place</th>\n",
       "      <th>is_last</th>\n",
       "      <th>estimated_population_2019</th>\n",
       "      <th>estimated_population</th>\n",
       "      <th>city_ibge_code</th>\n",
       "      <th>confirmed_per_100k_inhabitants</th>\n",
       "      <th>death_rate</th>\n",
       "    </tr>\n",
       "  </thead>\n",
       "  <tbody>\n",
       "    <tr>\n",
       "      <th>734</th>\n",
       "      <td>2021-12-14</td>\n",
       "      <td>AP</td>\n",
       "      <td>Amapá</td>\n",
       "      <td>city</td>\n",
       "      <td>1424</td>\n",
       "      <td>13</td>\n",
       "      <td>586</td>\n",
       "      <td>True</td>\n",
       "      <td>9109.0</td>\n",
       "      <td>9187.0</td>\n",
       "      <td>1600105.0</td>\n",
       "      <td>15500.16327</td>\n",
       "      <td>0.0091</td>\n",
       "    </tr>\n",
       "    <tr>\n",
       "      <th>735</th>\n",
       "      <td>2021-12-13</td>\n",
       "      <td>AP</td>\n",
       "      <td>Amapá</td>\n",
       "      <td>city</td>\n",
       "      <td>1424</td>\n",
       "      <td>13</td>\n",
       "      <td>585</td>\n",
       "      <td>False</td>\n",
       "      <td>9109.0</td>\n",
       "      <td>9187.0</td>\n",
       "      <td>1600105.0</td>\n",
       "      <td>15500.16327</td>\n",
       "      <td>0.0091</td>\n",
       "    </tr>\n",
       "    <tr>\n",
       "      <th>736</th>\n",
       "      <td>2021-12-12</td>\n",
       "      <td>AP</td>\n",
       "      <td>Amapá</td>\n",
       "      <td>city</td>\n",
       "      <td>1424</td>\n",
       "      <td>13</td>\n",
       "      <td>584</td>\n",
       "      <td>False</td>\n",
       "      <td>9109.0</td>\n",
       "      <td>9187.0</td>\n",
       "      <td>1600105.0</td>\n",
       "      <td>15500.16327</td>\n",
       "      <td>0.0091</td>\n",
       "    </tr>\n",
       "    <tr>\n",
       "      <th>737</th>\n",
       "      <td>2021-12-11</td>\n",
       "      <td>AP</td>\n",
       "      <td>Amapá</td>\n",
       "      <td>city</td>\n",
       "      <td>1424</td>\n",
       "      <td>13</td>\n",
       "      <td>583</td>\n",
       "      <td>False</td>\n",
       "      <td>9109.0</td>\n",
       "      <td>9187.0</td>\n",
       "      <td>1600105.0</td>\n",
       "      <td>15500.16327</td>\n",
       "      <td>0.0091</td>\n",
       "    </tr>\n",
       "    <tr>\n",
       "      <th>738</th>\n",
       "      <td>2021-12-10</td>\n",
       "      <td>AP</td>\n",
       "      <td>Amapá</td>\n",
       "      <td>city</td>\n",
       "      <td>1424</td>\n",
       "      <td>13</td>\n",
       "      <td>582</td>\n",
       "      <td>False</td>\n",
       "      <td>9109.0</td>\n",
       "      <td>9187.0</td>\n",
       "      <td>1600105.0</td>\n",
       "      <td>15500.16327</td>\n",
       "      <td>0.0091</td>\n",
       "    </tr>\n",
       "  </tbody>\n",
       "</table>\n",
       "</div>"
      ],
      "text/plain": [
       "           date state   city place_type  confirmed  deaths  order_for_place  \\\n",
       "734  2021-12-14    AP  Amapá       city       1424      13              586   \n",
       "735  2021-12-13    AP  Amapá       city       1424      13              585   \n",
       "736  2021-12-12    AP  Amapá       city       1424      13              584   \n",
       "737  2021-12-11    AP  Amapá       city       1424      13              583   \n",
       "738  2021-12-10    AP  Amapá       city       1424      13              582   \n",
       "\n",
       "     is_last  estimated_population_2019  estimated_population  city_ibge_code  \\\n",
       "734     True                     9109.0                9187.0       1600105.0   \n",
       "735    False                     9109.0                9187.0       1600105.0   \n",
       "736    False                     9109.0                9187.0       1600105.0   \n",
       "737    False                     9109.0                9187.0       1600105.0   \n",
       "738    False                     9109.0                9187.0       1600105.0   \n",
       "\n",
       "     confirmed_per_100k_inhabitants  death_rate  \n",
       "734                     15500.16327      0.0091  \n",
       "735                     15500.16327      0.0091  \n",
       "736                     15500.16327      0.0091  \n",
       "737                     15500.16327      0.0091  \n",
       "738                     15500.16327      0.0091  "
      ]
     },
     "execution_count": 127,
     "metadata": {},
     "output_type": "execute_result"
    }
   ],
   "source": [
    "df_obitos.head()"
   ]
  },
  {
   "cell_type": "code",
   "execution_count": 128,
   "metadata": {},
   "outputs": [],
   "source": [
    "df_obitos_2020 = df_obitos[(df_obitos[\"date\"] >= \"2020-12-28\") & (df_obitos[\"date\"] <= \"2020-12-31\")]"
   ]
  },
  {
   "cell_type": "code",
   "execution_count": 129,
   "metadata": {},
   "outputs": [
    {
     "data": {
      "text/plain": [
       "21209"
      ]
     },
     "execution_count": 129,
     "metadata": {},
     "output_type": "execute_result"
    }
   ],
   "source": [
    "len(df_obitos_2020)"
   ]
  },
  {
   "cell_type": "code",
   "execution_count": 130,
   "metadata": {},
   "outputs": [
    {
     "name": "stderr",
     "output_type": "stream",
     "text": [
      "C:\\Users\\GabrielCaserDosPasso\\AppData\\Local\\Temp\\ipykernel_136772\\966712031.py:1: SettingWithCopyWarning: \n",
      "A value is trying to be set on a copy of a slice from a DataFrame.\n",
      "Try using .loc[row_indexer,col_indexer] = value instead\n",
      "\n",
      "See the caveats in the documentation: https://pandas.pydata.org/pandas-docs/stable/user_guide/indexing.html#returning-a-view-versus-a-copy\n",
      "  df_obitos_2020['mais_recente'] = df_obitos_2020.groupby(['city'])['date'].transform(max)\n"
     ]
    }
   ],
   "source": [
    "df_obitos_2020['mais_recente'] = df_obitos_2020.groupby(['city'])['date'].transform(max)"
   ]
  },
  {
   "cell_type": "code",
   "execution_count": 131,
   "metadata": {},
   "outputs": [
    {
     "data": {
      "text/html": [
       "<div>\n",
       "<style scoped>\n",
       "    .dataframe tbody tr th:only-of-type {\n",
       "        vertical-align: middle;\n",
       "    }\n",
       "\n",
       "    .dataframe tbody tr th {\n",
       "        vertical-align: top;\n",
       "    }\n",
       "\n",
       "    .dataframe thead th {\n",
       "        text-align: right;\n",
       "    }\n",
       "</style>\n",
       "<table border=\"1\" class=\"dataframe\">\n",
       "  <thead>\n",
       "    <tr style=\"text-align: right;\">\n",
       "      <th></th>\n",
       "      <th>date</th>\n",
       "      <th>state</th>\n",
       "      <th>city</th>\n",
       "      <th>place_type</th>\n",
       "      <th>confirmed</th>\n",
       "      <th>deaths</th>\n",
       "      <th>order_for_place</th>\n",
       "      <th>is_last</th>\n",
       "      <th>estimated_population_2019</th>\n",
       "      <th>estimated_population</th>\n",
       "      <th>city_ibge_code</th>\n",
       "      <th>confirmed_per_100k_inhabitants</th>\n",
       "      <th>death_rate</th>\n",
       "      <th>mais_recente</th>\n",
       "    </tr>\n",
       "  </thead>\n",
       "  <tbody>\n",
       "    <tr>\n",
       "      <th>1081</th>\n",
       "      <td>2020-12-31</td>\n",
       "      <td>AP</td>\n",
       "      <td>Amapá</td>\n",
       "      <td>city</td>\n",
       "      <td>985</td>\n",
       "      <td>6</td>\n",
       "      <td>239</td>\n",
       "      <td>False</td>\n",
       "      <td>9109.0</td>\n",
       "      <td>9187.0</td>\n",
       "      <td>1600105.0</td>\n",
       "      <td>10721.67193</td>\n",
       "      <td>0.0061</td>\n",
       "      <td>2020-12-31</td>\n",
       "    </tr>\n",
       "    <tr>\n",
       "      <th>1082</th>\n",
       "      <td>2020-12-30</td>\n",
       "      <td>AP</td>\n",
       "      <td>Amapá</td>\n",
       "      <td>city</td>\n",
       "      <td>970</td>\n",
       "      <td>6</td>\n",
       "      <td>238</td>\n",
       "      <td>False</td>\n",
       "      <td>9109.0</td>\n",
       "      <td>9187.0</td>\n",
       "      <td>1600105.0</td>\n",
       "      <td>10558.39774</td>\n",
       "      <td>0.0062</td>\n",
       "      <td>2020-12-31</td>\n",
       "    </tr>\n",
       "    <tr>\n",
       "      <th>1083</th>\n",
       "      <td>2020-12-29</td>\n",
       "      <td>AP</td>\n",
       "      <td>Amapá</td>\n",
       "      <td>city</td>\n",
       "      <td>956</td>\n",
       "      <td>6</td>\n",
       "      <td>237</td>\n",
       "      <td>False</td>\n",
       "      <td>9109.0</td>\n",
       "      <td>9187.0</td>\n",
       "      <td>1600105.0</td>\n",
       "      <td>10406.00849</td>\n",
       "      <td>0.0063</td>\n",
       "      <td>2020-12-31</td>\n",
       "    </tr>\n",
       "    <tr>\n",
       "      <th>1084</th>\n",
       "      <td>2020-12-28</td>\n",
       "      <td>AP</td>\n",
       "      <td>Amapá</td>\n",
       "      <td>city</td>\n",
       "      <td>956</td>\n",
       "      <td>6</td>\n",
       "      <td>236</td>\n",
       "      <td>False</td>\n",
       "      <td>9109.0</td>\n",
       "      <td>9187.0</td>\n",
       "      <td>1600105.0</td>\n",
       "      <td>10406.00849</td>\n",
       "      <td>0.0063</td>\n",
       "      <td>2020-12-31</td>\n",
       "    </tr>\n",
       "    <tr>\n",
       "      <th>1667</th>\n",
       "      <td>2020-12-31</td>\n",
       "      <td>AP</td>\n",
       "      <td>Calçoene</td>\n",
       "      <td>city</td>\n",
       "      <td>1450</td>\n",
       "      <td>7</td>\n",
       "      <td>234</td>\n",
       "      <td>False</td>\n",
       "      <td>11117.0</td>\n",
       "      <td>11306.0</td>\n",
       "      <td>1600204.0</td>\n",
       "      <td>12825.04865</td>\n",
       "      <td>0.0048</td>\n",
       "      <td>2020-12-31</td>\n",
       "    </tr>\n",
       "    <tr>\n",
       "      <th>...</th>\n",
       "      <td>...</td>\n",
       "      <td>...</td>\n",
       "      <td>...</td>\n",
       "      <td>...</td>\n",
       "      <td>...</td>\n",
       "      <td>...</td>\n",
       "      <td>...</td>\n",
       "      <td>...</td>\n",
       "      <td>...</td>\n",
       "      <td>...</td>\n",
       "      <td>...</td>\n",
       "      <td>...</td>\n",
       "      <td>...</td>\n",
       "      <td>...</td>\n",
       "    </tr>\n",
       "    <tr>\n",
       "      <th>2837328</th>\n",
       "      <td>2020-12-29</td>\n",
       "      <td>SP</td>\n",
       "      <td>Álvaro de Carvalho</td>\n",
       "      <td>city</td>\n",
       "      <td>42</td>\n",
       "      <td>4</td>\n",
       "      <td>223</td>\n",
       "      <td>False</td>\n",
       "      <td>5227.0</td>\n",
       "      <td>5274.0</td>\n",
       "      <td>3501400.0</td>\n",
       "      <td>796.35950</td>\n",
       "      <td>0.0952</td>\n",
       "      <td>2020-12-31</td>\n",
       "    </tr>\n",
       "    <tr>\n",
       "      <th>2837329</th>\n",
       "      <td>2020-12-28</td>\n",
       "      <td>SP</td>\n",
       "      <td>Álvaro de Carvalho</td>\n",
       "      <td>city</td>\n",
       "      <td>42</td>\n",
       "      <td>4</td>\n",
       "      <td>222</td>\n",
       "      <td>False</td>\n",
       "      <td>5227.0</td>\n",
       "      <td>5274.0</td>\n",
       "      <td>3501400.0</td>\n",
       "      <td>796.35950</td>\n",
       "      <td>0.0952</td>\n",
       "      <td>2020-12-31</td>\n",
       "    </tr>\n",
       "    <tr>\n",
       "      <th>2837821</th>\n",
       "      <td>2020-12-31</td>\n",
       "      <td>SP</td>\n",
       "      <td>Óleo</td>\n",
       "      <td>city</td>\n",
       "      <td>6</td>\n",
       "      <td>0</td>\n",
       "      <td>182</td>\n",
       "      <td>False</td>\n",
       "      <td>2496.0</td>\n",
       "      <td>2471.0</td>\n",
       "      <td>3533809.0</td>\n",
       "      <td>242.81667</td>\n",
       "      <td>0.0000</td>\n",
       "      <td>2020-12-31</td>\n",
       "    </tr>\n",
       "    <tr>\n",
       "      <th>2837822</th>\n",
       "      <td>2020-12-29</td>\n",
       "      <td>SP</td>\n",
       "      <td>Óleo</td>\n",
       "      <td>city</td>\n",
       "      <td>6</td>\n",
       "      <td>0</td>\n",
       "      <td>181</td>\n",
       "      <td>False</td>\n",
       "      <td>2496.0</td>\n",
       "      <td>2471.0</td>\n",
       "      <td>3533809.0</td>\n",
       "      <td>242.81667</td>\n",
       "      <td>0.0000</td>\n",
       "      <td>2020-12-31</td>\n",
       "    </tr>\n",
       "    <tr>\n",
       "      <th>2837823</th>\n",
       "      <td>2020-12-28</td>\n",
       "      <td>SP</td>\n",
       "      <td>Óleo</td>\n",
       "      <td>city</td>\n",
       "      <td>6</td>\n",
       "      <td>0</td>\n",
       "      <td>180</td>\n",
       "      <td>False</td>\n",
       "      <td>2496.0</td>\n",
       "      <td>2471.0</td>\n",
       "      <td>3533809.0</td>\n",
       "      <td>242.81667</td>\n",
       "      <td>0.0000</td>\n",
       "      <td>2020-12-31</td>\n",
       "    </tr>\n",
       "  </tbody>\n",
       "</table>\n",
       "<p>21209 rows × 14 columns</p>\n",
       "</div>"
      ],
      "text/plain": [
       "               date state                city place_type  confirmed  deaths  \\\n",
       "1081     2020-12-31    AP               Amapá       city        985       6   \n",
       "1082     2020-12-30    AP               Amapá       city        970       6   \n",
       "1083     2020-12-29    AP               Amapá       city        956       6   \n",
       "1084     2020-12-28    AP               Amapá       city        956       6   \n",
       "1667     2020-12-31    AP            Calçoene       city       1450       7   \n",
       "...             ...   ...                 ...        ...        ...     ...   \n",
       "2837328  2020-12-29    SP  Álvaro de Carvalho       city         42       4   \n",
       "2837329  2020-12-28    SP  Álvaro de Carvalho       city         42       4   \n",
       "2837821  2020-12-31    SP                Óleo       city          6       0   \n",
       "2837822  2020-12-29    SP                Óleo       city          6       0   \n",
       "2837823  2020-12-28    SP                Óleo       city          6       0   \n",
       "\n",
       "         order_for_place  is_last  estimated_population_2019  \\\n",
       "1081                 239    False                     9109.0   \n",
       "1082                 238    False                     9109.0   \n",
       "1083                 237    False                     9109.0   \n",
       "1084                 236    False                     9109.0   \n",
       "1667                 234    False                    11117.0   \n",
       "...                  ...      ...                        ...   \n",
       "2837328              223    False                     5227.0   \n",
       "2837329              222    False                     5227.0   \n",
       "2837821              182    False                     2496.0   \n",
       "2837822              181    False                     2496.0   \n",
       "2837823              180    False                     2496.0   \n",
       "\n",
       "         estimated_population  city_ibge_code  confirmed_per_100k_inhabitants  \\\n",
       "1081                   9187.0       1600105.0                     10721.67193   \n",
       "1082                   9187.0       1600105.0                     10558.39774   \n",
       "1083                   9187.0       1600105.0                     10406.00849   \n",
       "1084                   9187.0       1600105.0                     10406.00849   \n",
       "1667                  11306.0       1600204.0                     12825.04865   \n",
       "...                       ...             ...                             ...   \n",
       "2837328                5274.0       3501400.0                       796.35950   \n",
       "2837329                5274.0       3501400.0                       796.35950   \n",
       "2837821                2471.0       3533809.0                       242.81667   \n",
       "2837822                2471.0       3533809.0                       242.81667   \n",
       "2837823                2471.0       3533809.0                       242.81667   \n",
       "\n",
       "         death_rate mais_recente  \n",
       "1081         0.0061   2020-12-31  \n",
       "1082         0.0062   2020-12-31  \n",
       "1083         0.0063   2020-12-31  \n",
       "1084         0.0063   2020-12-31  \n",
       "1667         0.0048   2020-12-31  \n",
       "...             ...          ...  \n",
       "2837328      0.0952   2020-12-31  \n",
       "2837329      0.0952   2020-12-31  \n",
       "2837821      0.0000   2020-12-31  \n",
       "2837822      0.0000   2020-12-31  \n",
       "2837823      0.0000   2020-12-31  \n",
       "\n",
       "[21209 rows x 14 columns]"
      ]
     },
     "execution_count": 131,
     "metadata": {},
     "output_type": "execute_result"
    }
   ],
   "source": [
    "df_obitos_2020"
   ]
  },
  {
   "cell_type": "code",
   "execution_count": 132,
   "metadata": {},
   "outputs": [
    {
     "name": "stderr",
     "output_type": "stream",
     "text": [
      "C:\\Users\\GabrielCaserDosPasso\\AppData\\Local\\Temp\\ipykernel_136772\\2149444726.py:1: SettingWithCopyWarning: \n",
      "A value is trying to be set on a copy of a slice from a DataFrame.\n",
      "Try using .loc[row_indexer,col_indexer] = value instead\n",
      "\n",
      "See the caveats in the documentation: https://pandas.pydata.org/pandas-docs/stable/user_guide/indexing.html#returning-a-view-versus-a-copy\n",
      "  df_obitos_2020['mais_recente'] = (df_obitos_2020[\"date\"] == df_obitos_2020[\"mais_recente\"])\n"
     ]
    }
   ],
   "source": [
    "df_obitos_2020['mais_recente'] = (df_obitos_2020[\"date\"] == df_obitos_2020[\"mais_recente\"])"
   ]
  },
  {
   "cell_type": "code",
   "execution_count": 133,
   "metadata": {},
   "outputs": [
    {
     "data": {
      "text/plain": [
       "5589"
      ]
     },
     "execution_count": 133,
     "metadata": {},
     "output_type": "execute_result"
    }
   ],
   "source": [
    "len(df_obitos_2020[df_obitos_2020['mais_recente'] == 1])"
   ]
  },
  {
   "cell_type": "code",
   "execution_count": 134,
   "metadata": {},
   "outputs": [],
   "source": [
    "df_obitos_2020 = df_obitos_2020[df_obitos_2020['mais_recente'] == 1]"
   ]
  },
  {
   "cell_type": "code",
   "execution_count": 135,
   "metadata": {},
   "outputs": [],
   "source": [
    "df_obitos_2020 = df_obitos_2020[['confirmed_per_100k_inhabitants','city_ibge_code']]"
   ]
  },
  {
   "cell_type": "code",
   "execution_count": 136,
   "metadata": {},
   "outputs": [],
   "source": [
    "df_obitos_2020 = df_obitos_2020.rename(columns = {\"confirmed_per_100k_inhabitants\": \"confirmed_per_100k_inhabitants_2020\"})"
   ]
  },
  {
   "cell_type": "code",
   "execution_count": null,
   "metadata": {},
   "outputs": [],
   "source": []
  },
  {
   "cell_type": "code",
   "execution_count": null,
   "metadata": {},
   "outputs": [],
   "source": []
  },
  {
   "cell_type": "code",
   "execution_count": null,
   "metadata": {},
   "outputs": [],
   "source": []
  },
  {
   "cell_type": "code",
   "execution_count": 137,
   "metadata": {},
   "outputs": [],
   "source": [
    "df_obitos = df_obitos[(df_obitos[\"date\"] >= \"2021-06-19\") & (df_obitos[\"date\"] <= \"2021-07-01\")]"
   ]
  },
  {
   "cell_type": "code",
   "execution_count": 138,
   "metadata": {},
   "outputs": [
    {
     "name": "stderr",
     "output_type": "stream",
     "text": [
      "C:\\Users\\GabrielCaserDosPasso\\AppData\\Local\\Temp\\ipykernel_136772\\2446720609.py:1: SettingWithCopyWarning: \n",
      "A value is trying to be set on a copy of a slice from a DataFrame.\n",
      "Try using .loc[row_indexer,col_indexer] = value instead\n",
      "\n",
      "See the caveats in the documentation: https://pandas.pydata.org/pandas-docs/stable/user_guide/indexing.html#returning-a-view-versus-a-copy\n",
      "  df_obitos['mais_recente'] = df_obitos.groupby(['city'])['date'].transform(max)\n"
     ]
    }
   ],
   "source": [
    "df_obitos['mais_recente'] = df_obitos.groupby(['city'])['date'].transform(max)"
   ]
  },
  {
   "cell_type": "code",
   "execution_count": 139,
   "metadata": {},
   "outputs": [
    {
     "name": "stderr",
     "output_type": "stream",
     "text": [
      "C:\\Users\\GabrielCaserDosPasso\\AppData\\Local\\Temp\\ipykernel_136772\\259542142.py:1: SettingWithCopyWarning: \n",
      "A value is trying to be set on a copy of a slice from a DataFrame.\n",
      "Try using .loc[row_indexer,col_indexer] = value instead\n",
      "\n",
      "See the caveats in the documentation: https://pandas.pydata.org/pandas-docs/stable/user_guide/indexing.html#returning-a-view-versus-a-copy\n",
      "  df_obitos['mais_recente'] = (df_obitos[\"date\"] == df_obitos[\"mais_recente\"])\n"
     ]
    }
   ],
   "source": [
    "df_obitos['mais_recente'] = (df_obitos[\"date\"] == df_obitos[\"mais_recente\"])"
   ]
  },
  {
   "cell_type": "code",
   "execution_count": 140,
   "metadata": {},
   "outputs": [
    {
     "data": {
      "text/plain": [
       "5503"
      ]
     },
     "execution_count": 140,
     "metadata": {},
     "output_type": "execute_result"
    }
   ],
   "source": [
    "len(df_obitos[df_obitos['mais_recente'] == 1])"
   ]
  },
  {
   "cell_type": "code",
   "execution_count": 141,
   "metadata": {},
   "outputs": [],
   "source": [
    "df_obitos = df_obitos[df_obitos['mais_recente'] == 1]"
   ]
  },
  {
   "cell_type": "code",
   "execution_count": 142,
   "metadata": {},
   "outputs": [
    {
     "data": {
      "text/plain": [
       "array(['2021-07-01', '2021-06-19', '2021-06-30'], dtype=object)"
      ]
     },
     "execution_count": 142,
     "metadata": {},
     "output_type": "execute_result"
    }
   ],
   "source": [
    "df_obitos.date.unique()"
   ]
  },
  {
   "cell_type": "code",
   "execution_count": 143,
   "metadata": {},
   "outputs": [
    {
     "data": {
      "text/plain": [
       "5487"
      ]
     },
     "execution_count": 143,
     "metadata": {},
     "output_type": "execute_result"
    }
   ],
   "source": [
    "len(df_obitos.city_ibge_code.unique())"
   ]
  },
  {
   "cell_type": "code",
   "execution_count": 144,
   "metadata": {},
   "outputs": [],
   "source": [
    "df_obitos = df_obitos.merge(df_obitos_2020, on='city_ibge_code', how='left')"
   ]
  },
  {
   "cell_type": "code",
   "execution_count": 145,
   "metadata": {},
   "outputs": [],
   "source": [
    "df_obitos['confirmed_per_100k_inhabitants'] = df_obitos['confirmed_per_100k_inhabitants'] - df_obitos['confirmed_per_100k_inhabitants_2020']"
   ]
  },
  {
   "cell_type": "code",
   "execution_count": 146,
   "metadata": {},
   "outputs": [
    {
     "data": {
      "text/html": [
       "<div>\n",
       "<style scoped>\n",
       "    .dataframe tbody tr th:only-of-type {\n",
       "        vertical-align: middle;\n",
       "    }\n",
       "\n",
       "    .dataframe tbody tr th {\n",
       "        vertical-align: top;\n",
       "    }\n",
       "\n",
       "    .dataframe thead th {\n",
       "        text-align: right;\n",
       "    }\n",
       "</style>\n",
       "<table border=\"1\" class=\"dataframe\">\n",
       "  <thead>\n",
       "    <tr style=\"text-align: right;\">\n",
       "      <th></th>\n",
       "      <th>date</th>\n",
       "      <th>state</th>\n",
       "      <th>city</th>\n",
       "      <th>place_type</th>\n",
       "      <th>confirmed</th>\n",
       "      <th>deaths</th>\n",
       "      <th>order_for_place</th>\n",
       "      <th>is_last</th>\n",
       "      <th>estimated_population_2019</th>\n",
       "      <th>estimated_population</th>\n",
       "      <th>city_ibge_code</th>\n",
       "      <th>confirmed_per_100k_inhabitants</th>\n",
       "      <th>death_rate</th>\n",
       "      <th>mais_recente</th>\n",
       "      <th>confirmed_per_100k_inhabitants_2020</th>\n",
       "    </tr>\n",
       "  </thead>\n",
       "  <tbody>\n",
       "    <tr>\n",
       "      <th>3676</th>\n",
       "      <td>2021-07-01</td>\n",
       "      <td>RO</td>\n",
       "      <td>Alta Floresta D'Oeste</td>\n",
       "      <td>city</td>\n",
       "      <td>3897</td>\n",
       "      <td>65</td>\n",
       "      <td>395</td>\n",
       "      <td>False</td>\n",
       "      <td>22945.0</td>\n",
       "      <td>22728.0</td>\n",
       "      <td>1100015.0</td>\n",
       "      <td>11479.23266</td>\n",
       "      <td>0.0167</td>\n",
       "      <td>True</td>\n",
       "      <td>5667.01866</td>\n",
       "    </tr>\n",
       "    <tr>\n",
       "      <th>3680</th>\n",
       "      <td>2021-07-01</td>\n",
       "      <td>RO</td>\n",
       "      <td>Ariquemes</td>\n",
       "      <td>city</td>\n",
       "      <td>21684</td>\n",
       "      <td>464</td>\n",
       "      <td>415</td>\n",
       "      <td>False</td>\n",
       "      <td>107863.0</td>\n",
       "      <td>109523.0</td>\n",
       "      <td>1100023.0</td>\n",
       "      <td>12612.87583</td>\n",
       "      <td>0.0214</td>\n",
       "      <td>True</td>\n",
       "      <td>7185.70529</td>\n",
       "    </tr>\n",
       "    <tr>\n",
       "      <th>3682</th>\n",
       "      <td>2021-07-01</td>\n",
       "      <td>RO</td>\n",
       "      <td>Cabixi</td>\n",
       "      <td>city</td>\n",
       "      <td>825</td>\n",
       "      <td>20</td>\n",
       "      <td>395</td>\n",
       "      <td>False</td>\n",
       "      <td>5312.0</td>\n",
       "      <td>5188.0</td>\n",
       "      <td>1100031.0</td>\n",
       "      <td>12297.60987</td>\n",
       "      <td>0.0242</td>\n",
       "      <td>True</td>\n",
       "      <td>3604.47186</td>\n",
       "    </tr>\n",
       "    <tr>\n",
       "      <th>3684</th>\n",
       "      <td>2021-07-01</td>\n",
       "      <td>RO</td>\n",
       "      <td>Cacoal</td>\n",
       "      <td>city</td>\n",
       "      <td>13534</td>\n",
       "      <td>279</td>\n",
       "      <td>397</td>\n",
       "      <td>False</td>\n",
       "      <td>85359.0</td>\n",
       "      <td>85893.0</td>\n",
       "      <td>1100049.0</td>\n",
       "      <td>11047.46603</td>\n",
       "      <td>0.0206</td>\n",
       "      <td>True</td>\n",
       "      <td>4709.34768</td>\n",
       "    </tr>\n",
       "    <tr>\n",
       "      <th>3688</th>\n",
       "      <td>2021-07-01</td>\n",
       "      <td>RO</td>\n",
       "      <td>Cerejeiras</td>\n",
       "      <td>city</td>\n",
       "      <td>2428</td>\n",
       "      <td>60</td>\n",
       "      <td>376</td>\n",
       "      <td>False</td>\n",
       "      <td>16323.0</td>\n",
       "      <td>16204.0</td>\n",
       "      <td>1100056.0</td>\n",
       "      <td>13002.96223</td>\n",
       "      <td>0.0247</td>\n",
       "      <td>True</td>\n",
       "      <td>1980.99235</td>\n",
       "    </tr>\n",
       "    <tr>\n",
       "      <th>...</th>\n",
       "      <td>...</td>\n",
       "      <td>...</td>\n",
       "      <td>...</td>\n",
       "      <td>...</td>\n",
       "      <td>...</td>\n",
       "      <td>...</td>\n",
       "      <td>...</td>\n",
       "      <td>...</td>\n",
       "      <td>...</td>\n",
       "      <td>...</td>\n",
       "      <td>...</td>\n",
       "      <td>...</td>\n",
       "      <td>...</td>\n",
       "      <td>...</td>\n",
       "      <td>...</td>\n",
       "    </tr>\n",
       "    <tr>\n",
       "      <th>5389</th>\n",
       "      <td>2021-07-01</td>\n",
       "      <td>SP</td>\n",
       "      <td>Importados/Indefinidos</td>\n",
       "      <td>city</td>\n",
       "      <td>931</td>\n",
       "      <td>0</td>\n",
       "      <td>447</td>\n",
       "      <td>False</td>\n",
       "      <td>NaN</td>\n",
       "      <td>NaN</td>\n",
       "      <td>NaN</td>\n",
       "      <td>NaN</td>\n",
       "      <td>0.0000</td>\n",
       "      <td>True</td>\n",
       "      <td>NaN</td>\n",
       "    </tr>\n",
       "    <tr>\n",
       "      <th>5390</th>\n",
       "      <td>2021-07-01</td>\n",
       "      <td>SP</td>\n",
       "      <td>Importados/Indefinidos</td>\n",
       "      <td>city</td>\n",
       "      <td>931</td>\n",
       "      <td>0</td>\n",
       "      <td>447</td>\n",
       "      <td>False</td>\n",
       "      <td>NaN</td>\n",
       "      <td>NaN</td>\n",
       "      <td>NaN</td>\n",
       "      <td>NaN</td>\n",
       "      <td>0.0000</td>\n",
       "      <td>True</td>\n",
       "      <td>NaN</td>\n",
       "    </tr>\n",
       "    <tr>\n",
       "      <th>5391</th>\n",
       "      <td>2021-07-01</td>\n",
       "      <td>SP</td>\n",
       "      <td>Importados/Indefinidos</td>\n",
       "      <td>city</td>\n",
       "      <td>931</td>\n",
       "      <td>0</td>\n",
       "      <td>447</td>\n",
       "      <td>False</td>\n",
       "      <td>NaN</td>\n",
       "      <td>NaN</td>\n",
       "      <td>NaN</td>\n",
       "      <td>NaN</td>\n",
       "      <td>0.0000</td>\n",
       "      <td>True</td>\n",
       "      <td>NaN</td>\n",
       "    </tr>\n",
       "    <tr>\n",
       "      <th>5392</th>\n",
       "      <td>2021-07-01</td>\n",
       "      <td>SP</td>\n",
       "      <td>Importados/Indefinidos</td>\n",
       "      <td>city</td>\n",
       "      <td>931</td>\n",
       "      <td>0</td>\n",
       "      <td>447</td>\n",
       "      <td>False</td>\n",
       "      <td>NaN</td>\n",
       "      <td>NaN</td>\n",
       "      <td>NaN</td>\n",
       "      <td>NaN</td>\n",
       "      <td>0.0000</td>\n",
       "      <td>True</td>\n",
       "      <td>NaN</td>\n",
       "    </tr>\n",
       "    <tr>\n",
       "      <th>5393</th>\n",
       "      <td>2021-07-01</td>\n",
       "      <td>SP</td>\n",
       "      <td>Importados/Indefinidos</td>\n",
       "      <td>city</td>\n",
       "      <td>931</td>\n",
       "      <td>0</td>\n",
       "      <td>447</td>\n",
       "      <td>False</td>\n",
       "      <td>NaN</td>\n",
       "      <td>NaN</td>\n",
       "      <td>NaN</td>\n",
       "      <td>NaN</td>\n",
       "      <td>0.0000</td>\n",
       "      <td>True</td>\n",
       "      <td>NaN</td>\n",
       "    </tr>\n",
       "  </tbody>\n",
       "</table>\n",
       "<p>5809 rows × 15 columns</p>\n",
       "</div>"
      ],
      "text/plain": [
       "            date state                    city place_type  confirmed  deaths  \\\n",
       "3676  2021-07-01    RO   Alta Floresta D'Oeste       city       3897      65   \n",
       "3680  2021-07-01    RO               Ariquemes       city      21684     464   \n",
       "3682  2021-07-01    RO                  Cabixi       city        825      20   \n",
       "3684  2021-07-01    RO                  Cacoal       city      13534     279   \n",
       "3688  2021-07-01    RO              Cerejeiras       city       2428      60   \n",
       "...          ...   ...                     ...        ...        ...     ...   \n",
       "5389  2021-07-01    SP  Importados/Indefinidos       city        931       0   \n",
       "5390  2021-07-01    SP  Importados/Indefinidos       city        931       0   \n",
       "5391  2021-07-01    SP  Importados/Indefinidos       city        931       0   \n",
       "5392  2021-07-01    SP  Importados/Indefinidos       city        931       0   \n",
       "5393  2021-07-01    SP  Importados/Indefinidos       city        931       0   \n",
       "\n",
       "      order_for_place  is_last  estimated_population_2019  \\\n",
       "3676              395    False                    22945.0   \n",
       "3680              415    False                   107863.0   \n",
       "3682              395    False                     5312.0   \n",
       "3684              397    False                    85359.0   \n",
       "3688              376    False                    16323.0   \n",
       "...               ...      ...                        ...   \n",
       "5389              447    False                        NaN   \n",
       "5390              447    False                        NaN   \n",
       "5391              447    False                        NaN   \n",
       "5392              447    False                        NaN   \n",
       "5393              447    False                        NaN   \n",
       "\n",
       "      estimated_population  city_ibge_code  confirmed_per_100k_inhabitants  \\\n",
       "3676               22728.0       1100015.0                     11479.23266   \n",
       "3680              109523.0       1100023.0                     12612.87583   \n",
       "3682                5188.0       1100031.0                     12297.60987   \n",
       "3684               85893.0       1100049.0                     11047.46603   \n",
       "3688               16204.0       1100056.0                     13002.96223   \n",
       "...                    ...             ...                             ...   \n",
       "5389                   NaN             NaN                             NaN   \n",
       "5390                   NaN             NaN                             NaN   \n",
       "5391                   NaN             NaN                             NaN   \n",
       "5392                   NaN             NaN                             NaN   \n",
       "5393                   NaN             NaN                             NaN   \n",
       "\n",
       "      death_rate  mais_recente  confirmed_per_100k_inhabitants_2020  \n",
       "3676      0.0167          True                           5667.01866  \n",
       "3680      0.0214          True                           7185.70529  \n",
       "3682      0.0242          True                           3604.47186  \n",
       "3684      0.0206          True                           4709.34768  \n",
       "3688      0.0247          True                           1980.99235  \n",
       "...          ...           ...                                  ...  \n",
       "5389      0.0000          True                                  NaN  \n",
       "5390      0.0000          True                                  NaN  \n",
       "5391      0.0000          True                                  NaN  \n",
       "5392      0.0000          True                                  NaN  \n",
       "5393      0.0000          True                                  NaN  \n",
       "\n",
       "[5809 rows x 15 columns]"
      ]
     },
     "execution_count": 146,
     "metadata": {},
     "output_type": "execute_result"
    }
   ],
   "source": [
    "df_obitos.sort_values(by = 'city_ibge_code')"
   ]
  },
  {
   "cell_type": "code",
   "execution_count": 147,
   "metadata": {},
   "outputs": [],
   "source": [
    "df_obitos = df_obitos.query(\"city != 'Importados/Indefinidos'\")"
   ]
  },
  {
   "cell_type": "code",
   "execution_count": 148,
   "metadata": {},
   "outputs": [
    {
     "data": {
      "text/plain": [
       "5486"
      ]
     },
     "execution_count": 148,
     "metadata": {},
     "output_type": "execute_result"
    }
   ],
   "source": [
    "len(df_obitos.city_ibge_code.unique())"
   ]
  },
  {
   "cell_type": "code",
   "execution_count": 149,
   "metadata": {},
   "outputs": [],
   "source": [
    "df_obitos.rename(columns = {\"city_ibge_code\": \"id_municipio\"}, inplace = True)"
   ]
  },
  {
   "cell_type": "code",
   "execution_count": 150,
   "metadata": {},
   "outputs": [],
   "source": [
    "#df_obitos.to_csv('Dados/output/220809_confirmed_cases_2021.csv', sep = \";\", index = False, encoding = \"utf-8-sig\")"
   ]
  },
  {
   "cell_type": "markdown",
   "metadata": {},
   "source": [
    "# Mesclando as bases"
   ]
  },
  {
   "cell_type": "code",
   "execution_count": 151,
   "metadata": {},
   "outputs": [],
   "source": [
    "#df = pd.read_csv(\"RAIS/Dados/Output/220531_base_rdd_covid_stem.csv\", sep = \";\")"
   ]
  },
  {
   "cell_type": "code",
   "execution_count": 152,
   "metadata": {},
   "outputs": [],
   "source": [
    "df[\"id_municipio\"] = df[\"id_municipio\"].astype(float)"
   ]
  },
  {
   "cell_type": "code",
   "execution_count": 153,
   "metadata": {},
   "outputs": [],
   "source": [
    "df = df.merge(df_obitos, how = \"left\", on = \"id_municipio\")"
   ]
  },
  {
   "cell_type": "code",
   "execution_count": 154,
   "metadata": {},
   "outputs": [
    {
     "data": {
      "text/html": [
       "<div>\n",
       "<style scoped>\n",
       "    .dataframe tbody tr th:only-of-type {\n",
       "        vertical-align: middle;\n",
       "    }\n",
       "\n",
       "    .dataframe tbody tr th {\n",
       "        vertical-align: top;\n",
       "    }\n",
       "\n",
       "    .dataframe thead th {\n",
       "        text-align: right;\n",
       "    }\n",
       "</style>\n",
       "<table border=\"1\" class=\"dataframe\">\n",
       "  <thead>\n",
       "    <tr style=\"text-align: right;\">\n",
       "      <th></th>\n",
       "      <th>0</th>\n",
       "      <th>1</th>\n",
       "      <th>2</th>\n",
       "      <th>3</th>\n",
       "      <th>4</th>\n",
       "    </tr>\n",
       "  </thead>\n",
       "  <tbody>\n",
       "    <tr>\n",
       "      <th>ano</th>\n",
       "      <td>2020</td>\n",
       "      <td>2020</td>\n",
       "      <td>2020</td>\n",
       "      <td>2020</td>\n",
       "      <td>2020</td>\n",
       "    </tr>\n",
       "    <tr>\n",
       "      <th>tipo_eleicao</th>\n",
       "      <td>eleicao ordinaria</td>\n",
       "      <td>eleicao ordinaria</td>\n",
       "      <td>eleicao ordinaria</td>\n",
       "      <td>eleicao ordinaria</td>\n",
       "      <td>eleicao ordinaria</td>\n",
       "    </tr>\n",
       "    <tr>\n",
       "      <th>sigla_uf</th>\n",
       "      <td>RO</td>\n",
       "      <td>RO</td>\n",
       "      <td>RO</td>\n",
       "      <td>RO</td>\n",
       "      <td>RO</td>\n",
       "    </tr>\n",
       "    <tr>\n",
       "      <th>id_municipio</th>\n",
       "      <td>1100015.0</td>\n",
       "      <td>1100015.0</td>\n",
       "      <td>1100015.0</td>\n",
       "      <td>1100031.0</td>\n",
       "      <td>1100031.0</td>\n",
       "    </tr>\n",
       "    <tr>\n",
       "      <th>id_municipio_tse</th>\n",
       "      <td>310</td>\n",
       "      <td>310</td>\n",
       "      <td>310</td>\n",
       "      <td>450</td>\n",
       "      <td>450</td>\n",
       "    </tr>\n",
       "    <tr>\n",
       "      <th>...</th>\n",
       "      <td>...</td>\n",
       "      <td>...</td>\n",
       "      <td>...</td>\n",
       "      <td>...</td>\n",
       "      <td>...</td>\n",
       "    </tr>\n",
       "    <tr>\n",
       "      <th>estimated_population</th>\n",
       "      <td>22728.0</td>\n",
       "      <td>22728.0</td>\n",
       "      <td>22728.0</td>\n",
       "      <td>5188.0</td>\n",
       "      <td>5188.0</td>\n",
       "    </tr>\n",
       "    <tr>\n",
       "      <th>confirmed_per_100k_inhabitants</th>\n",
       "      <td>11479.23266</td>\n",
       "      <td>11479.23266</td>\n",
       "      <td>11479.23266</td>\n",
       "      <td>12297.60987</td>\n",
       "      <td>12297.60987</td>\n",
       "    </tr>\n",
       "    <tr>\n",
       "      <th>death_rate</th>\n",
       "      <td>0.0167</td>\n",
       "      <td>0.0167</td>\n",
       "      <td>0.0167</td>\n",
       "      <td>0.0242</td>\n",
       "      <td>0.0242</td>\n",
       "    </tr>\n",
       "    <tr>\n",
       "      <th>mais_recente</th>\n",
       "      <td>True</td>\n",
       "      <td>True</td>\n",
       "      <td>True</td>\n",
       "      <td>True</td>\n",
       "      <td>True</td>\n",
       "    </tr>\n",
       "    <tr>\n",
       "      <th>confirmed_per_100k_inhabitants_2020</th>\n",
       "      <td>5667.01866</td>\n",
       "      <td>5667.01866</td>\n",
       "      <td>5667.01866</td>\n",
       "      <td>3604.47186</td>\n",
       "      <td>3604.47186</td>\n",
       "    </tr>\n",
       "  </tbody>\n",
       "</table>\n",
       "<p>71 rows × 5 columns</p>\n",
       "</div>"
      ],
      "text/plain": [
       "                                                     0                  1  \\\n",
       "ano                                               2020               2020   \n",
       "tipo_eleicao                         eleicao ordinaria  eleicao ordinaria   \n",
       "sigla_uf                                            RO                 RO   \n",
       "id_municipio                                 1100015.0          1100015.0   \n",
       "id_municipio_tse                                   310                310   \n",
       "...                                                ...                ...   \n",
       "estimated_population                           22728.0            22728.0   \n",
       "confirmed_per_100k_inhabitants             11479.23266        11479.23266   \n",
       "death_rate                                      0.0167             0.0167   \n",
       "mais_recente                                      True               True   \n",
       "confirmed_per_100k_inhabitants_2020         5667.01866         5667.01866   \n",
       "\n",
       "                                                     2                  3  \\\n",
       "ano                                               2020               2020   \n",
       "tipo_eleicao                         eleicao ordinaria  eleicao ordinaria   \n",
       "sigla_uf                                            RO                 RO   \n",
       "id_municipio                                 1100015.0          1100031.0   \n",
       "id_municipio_tse                                   310                450   \n",
       "...                                                ...                ...   \n",
       "estimated_population                           22728.0             5188.0   \n",
       "confirmed_per_100k_inhabitants             11479.23266        12297.60987   \n",
       "death_rate                                      0.0167             0.0242   \n",
       "mais_recente                                      True               True   \n",
       "confirmed_per_100k_inhabitants_2020         5667.01866         3604.47186   \n",
       "\n",
       "                                                     4  \n",
       "ano                                               2020  \n",
       "tipo_eleicao                         eleicao ordinaria  \n",
       "sigla_uf                                            RO  \n",
       "id_municipio                                 1100031.0  \n",
       "id_municipio_tse                                   450  \n",
       "...                                                ...  \n",
       "estimated_population                            5188.0  \n",
       "confirmed_per_100k_inhabitants             12297.60987  \n",
       "death_rate                                      0.0242  \n",
       "mais_recente                                      True  \n",
       "confirmed_per_100k_inhabitants_2020         3604.47186  \n",
       "\n",
       "[71 rows x 5 columns]"
      ]
     },
     "execution_count": 154,
     "metadata": {},
     "output_type": "execute_result"
    }
   ],
   "source": [
    "df.head().T"
   ]
  },
  {
   "cell_type": "code",
   "execution_count": 155,
   "metadata": {},
   "outputs": [
    {
     "name": "stdout",
     "output_type": "stream",
     "text": [
      "<class 'pandas.core.frame.DataFrame'>\n",
      "Int64Index: 13315 entries, 0 to 13314\n",
      "Data columns (total 71 columns):\n",
      " #   Column                               Non-Null Count  Dtype  \n",
      "---  ------                               --------------  -----  \n",
      " 0   ano                                  13315 non-null  int64  \n",
      " 1   tipo_eleicao                         13315 non-null  object \n",
      " 2   sigla_uf                             13315 non-null  object \n",
      " 3   id_municipio                         13315 non-null  float64\n",
      " 4   id_municipio_tse                     13315 non-null  object \n",
      " 5   id_candidato_bd                      13315 non-null  object \n",
      " 6   cpf                                  13315 non-null  object \n",
      " 7   titulo_eleitoral                     13315 non-null  int64  \n",
      " 8   sequencial                           13315 non-null  int64  \n",
      " 9   numero                               13315 non-null  int64  \n",
      " 10  nome                                 13315 non-null  object \n",
      " 11  nome_urna                            13315 non-null  object \n",
      " 12  numero_partido                       13315 non-null  int64  \n",
      " 13  sigla_partido                        13315 non-null  object \n",
      " 14  cargo                                13315 non-null  object \n",
      " 15  situacao                             13315 non-null  object \n",
      " 16  ocupacao                             13315 non-null  object \n",
      " 17  data_nascimento                      13315 non-null  object \n",
      " 18  idade                                13315 non-null  int64  \n",
      " 19  genero                               13315 non-null  object \n",
      " 20  instrucao                            13315 non-null  object \n",
      " 21  estado_civil                         13315 non-null  object \n",
      " 22  nacionalidade                        13315 non-null  object \n",
      " 23  sigla_uf_nascimento                  13315 non-null  object \n",
      " 24  municipio_nascimento                 13315 non-null  object \n",
      " 25  email                                13315 non-null  object \n",
      " 26  raca                                 13247 non-null  object \n",
      " 27  ano_1                                13315 non-null  int64  \n",
      " 28  turno                                13315 non-null  int64  \n",
      " 29  tipo_eleicao_1                       13315 non-null  object \n",
      " 30  sigla_uf_1                           13315 non-null  object \n",
      " 31  id_municipio_1                       13315 non-null  int64  \n",
      " 32  id_municipio_tse_1                   13315 non-null  int64  \n",
      " 33  cargo_1                              13315 non-null  object \n",
      " 34  sigla_partido_1                      13315 non-null  object \n",
      " 35  numero_candidato                     13315 non-null  int64  \n",
      " 36  sequencial_candidato                 13315 non-null  int64  \n",
      " 37  id_candidato_bd_1                    13315 non-null  int64  \n",
      " 38  resultado                            13315 non-null  object \n",
      " 39  votos                                13315 non-null  int64  \n",
      " 40  decisao_primeiro_turno               13315 non-null  int64  \n",
      " 41  total_votos                          13315 non-null  int64  \n",
      " 42  %votos                               13315 non-null  float64\n",
      " 43  2_lugar                              13315 non-null  bool   \n",
      " 44  3_lugar                              13315 non-null  bool   \n",
      " 45  dif_votos_2_lugar                    13315 non-null  float64\n",
      " 46  dif_votos_3_lugar                    8960 non-null   float64\n",
      " 47  dif_votos                            13315 non-null  float64\n",
      " 48  cbo_2002                             510 non-null    object \n",
      " 49  cnpj_raiz                            510 non-null    float64\n",
      " 50  data_adm                             510 non-null    float64\n",
      " 51  tenure_rais                          510 non-null    float64\n",
      " 52  stem_job                             13315 non-null  float64\n",
      " 53  tenure                               13315 non-null  float64\n",
      " 54  max_year                             510 non-null    float64\n",
      " 55  rdd                                  13315 non-null  float64\n",
      " 56  rdd_stem_won                         13315 non-null  int64  \n",
      " 57  date                                 13116 non-null  object \n",
      " 58  state                                13116 non-null  object \n",
      " 59  city                                 13116 non-null  object \n",
      " 60  place_type                           13116 non-null  object \n",
      " 61  confirmed                            13116 non-null  float64\n",
      " 62  deaths                               13116 non-null  float64\n",
      " 63  order_for_place                      13116 non-null  float64\n",
      " 64  is_last                              13116 non-null  object \n",
      " 65  estimated_population_2019            13116 non-null  float64\n",
      " 66  estimated_population                 13116 non-null  float64\n",
      " 67  confirmed_per_100k_inhabitants       13116 non-null  float64\n",
      " 68  death_rate                           13116 non-null  float64\n",
      " 69  mais_recente                         13116 non-null  object \n",
      " 70  confirmed_per_100k_inhabitants_2020  13116 non-null  float64\n",
      "dtypes: bool(2), float64(20), int64(17), object(32)\n",
      "memory usage: 7.1+ MB\n"
     ]
    }
   ],
   "source": [
    "df.info()"
   ]
  },
  {
   "cell_type": "markdown",
   "metadata": {},
   "source": [
    "# Salvando"
   ]
  },
  {
   "cell_type": "code",
   "execution_count": 156,
   "metadata": {},
   "outputs": [],
   "source": [
    "df.to_csv('Dados/output/230104_base_rdd_covid_stem_2020.csv', sep = \";\", index = False, encoding = \"utf-8-sig\")"
   ]
  },
  {
   "cell_type": "code",
   "execution_count": null,
   "metadata": {},
   "outputs": [],
   "source": []
  },
  {
   "cell_type": "markdown",
   "metadata": {},
   "source": [
    "# Testando"
   ]
  },
  {
   "cell_type": "code",
   "execution_count": 157,
   "metadata": {},
   "outputs": [
    {
     "data": {
      "text/html": [
       "<div>\n",
       "<style scoped>\n",
       "    .dataframe tbody tr th:only-of-type {\n",
       "        vertical-align: middle;\n",
       "    }\n",
       "\n",
       "    .dataframe tbody tr th {\n",
       "        vertical-align: top;\n",
       "    }\n",
       "\n",
       "    .dataframe thead th {\n",
       "        text-align: right;\n",
       "    }\n",
       "</style>\n",
       "<table border=\"1\" class=\"dataframe\">\n",
       "  <thead>\n",
       "    <tr style=\"text-align: right;\">\n",
       "      <th></th>\n",
       "      <th>0</th>\n",
       "      <th>2</th>\n",
       "      <th>3</th>\n",
       "      <th>7</th>\n",
       "      <th>10</th>\n",
       "      <th>14</th>\n",
       "      <th>20</th>\n",
       "      <th>21</th>\n",
       "      <th>24</th>\n",
       "      <th>30</th>\n",
       "      <th>...</th>\n",
       "      <th>12736</th>\n",
       "      <th>12753</th>\n",
       "      <th>12791</th>\n",
       "      <th>12833</th>\n",
       "      <th>12910</th>\n",
       "      <th>13095</th>\n",
       "      <th>13129</th>\n",
       "      <th>13143</th>\n",
       "      <th>13187</th>\n",
       "      <th>13273</th>\n",
       "    </tr>\n",
       "  </thead>\n",
       "  <tbody>\n",
       "    <tr>\n",
       "      <th>ano</th>\n",
       "      <td>2020</td>\n",
       "      <td>2020</td>\n",
       "      <td>2020</td>\n",
       "      <td>2020</td>\n",
       "      <td>2020</td>\n",
       "      <td>2020</td>\n",
       "      <td>2020</td>\n",
       "      <td>2020</td>\n",
       "      <td>2020</td>\n",
       "      <td>2020</td>\n",
       "      <td>...</td>\n",
       "      <td>2020</td>\n",
       "      <td>2020</td>\n",
       "      <td>2020</td>\n",
       "      <td>2020</td>\n",
       "      <td>2020</td>\n",
       "      <td>2020</td>\n",
       "      <td>2020</td>\n",
       "      <td>2020</td>\n",
       "      <td>2020</td>\n",
       "      <td>2020</td>\n",
       "    </tr>\n",
       "    <tr>\n",
       "      <th>tipo_eleicao</th>\n",
       "      <td>eleicao ordinaria</td>\n",
       "      <td>eleicao ordinaria</td>\n",
       "      <td>eleicao ordinaria</td>\n",
       "      <td>eleicao ordinaria</td>\n",
       "      <td>eleicao ordinaria</td>\n",
       "      <td>eleicao ordinaria</td>\n",
       "      <td>eleicao ordinaria</td>\n",
       "      <td>eleicao ordinaria</td>\n",
       "      <td>eleicao ordinaria</td>\n",
       "      <td>eleicao ordinaria</td>\n",
       "      <td>...</td>\n",
       "      <td>eleicao ordinaria</td>\n",
       "      <td>eleicao ordinaria</td>\n",
       "      <td>eleicao ordinaria</td>\n",
       "      <td>eleicao ordinaria</td>\n",
       "      <td>eleicao ordinaria</td>\n",
       "      <td>eleicao ordinaria</td>\n",
       "      <td>eleicao ordinaria</td>\n",
       "      <td>eleicao ordinaria</td>\n",
       "      <td>eleicao ordinaria</td>\n",
       "      <td>eleicao ordinaria</td>\n",
       "    </tr>\n",
       "    <tr>\n",
       "      <th>sigla_uf</th>\n",
       "      <td>RO</td>\n",
       "      <td>RO</td>\n",
       "      <td>RO</td>\n",
       "      <td>RO</td>\n",
       "      <td>RO</td>\n",
       "      <td>RO</td>\n",
       "      <td>RO</td>\n",
       "      <td>RO</td>\n",
       "      <td>RO</td>\n",
       "      <td>RO</td>\n",
       "      <td>...</td>\n",
       "      <td>GO</td>\n",
       "      <td>GO</td>\n",
       "      <td>GO</td>\n",
       "      <td>GO</td>\n",
       "      <td>GO</td>\n",
       "      <td>GO</td>\n",
       "      <td>GO</td>\n",
       "      <td>GO</td>\n",
       "      <td>GO</td>\n",
       "      <td>GO</td>\n",
       "    </tr>\n",
       "    <tr>\n",
       "      <th>id_municipio</th>\n",
       "      <td>1100015.0</td>\n",
       "      <td>1100015.0</td>\n",
       "      <td>1100031.0</td>\n",
       "      <td>1100049.0</td>\n",
       "      <td>1100056.0</td>\n",
       "      <td>1100064.0</td>\n",
       "      <td>1100098.0</td>\n",
       "      <td>1100098.0</td>\n",
       "      <td>1100106.0</td>\n",
       "      <td>1100122.0</td>\n",
       "      <td>...</td>\n",
       "      <td>5201207.0</td>\n",
       "      <td>5201801.0</td>\n",
       "      <td>5203906.0</td>\n",
       "      <td>5204904.0</td>\n",
       "      <td>5207907.0</td>\n",
       "      <td>5214879.0</td>\n",
       "      <td>5215801.0</td>\n",
       "      <td>5216809.0</td>\n",
       "      <td>5218789.0</td>\n",
       "      <td>5221197.0</td>\n",
       "    </tr>\n",
       "    <tr>\n",
       "      <th>id_municipio_tse</th>\n",
       "      <td>310</td>\n",
       "      <td>310</td>\n",
       "      <td>450</td>\n",
       "      <td>94</td>\n",
       "      <td>272</td>\n",
       "      <td>230</td>\n",
       "      <td>256</td>\n",
       "      <td>256</td>\n",
       "      <td>19</td>\n",
       "      <td>51</td>\n",
       "      <td>...</td>\n",
       "      <td>92231</td>\n",
       "      <td>92355</td>\n",
       "      <td>92770</td>\n",
       "      <td>92975</td>\n",
       "      <td>93599</td>\n",
       "      <td>93084</td>\n",
       "      <td>95133</td>\n",
       "      <td>95311</td>\n",
       "      <td>92827</td>\n",
       "      <td>93220</td>\n",
       "    </tr>\n",
       "    <tr>\n",
       "      <th>id_candidato_bd</th>\n",
       "      <td>500468</td>\n",
       "      <td>285972</td>\n",
       "      <td>29478</td>\n",
       "      <td>1235541</td>\n",
       "      <td>321867</td>\n",
       "      <td>1775293</td>\n",
       "      <td>152008</td>\n",
       "      <td>998799</td>\n",
       "      <td>1336851</td>\n",
       "      <td>573671</td>\n",
       "      <td>...</td>\n",
       "      <td>730216</td>\n",
       "      <td>362241</td>\n",
       "      <td>460713</td>\n",
       "      <td>1597316</td>\n",
       "      <td>19859</td>\n",
       "      <td>99410</td>\n",
       "      <td>1674267</td>\n",
       "      <td>891749</td>\n",
       "      <td>780203</td>\n",
       "      <td>1783936</td>\n",
       "    </tr>\n",
       "    <tr>\n",
       "      <th>cpf</th>\n",
       "      <td>66145201215</td>\n",
       "      <td>49891030920</td>\n",
       "      <td>34061738291</td>\n",
       "      <td>08082136871</td>\n",
       "      <td>52617831000</td>\n",
       "      <td>31588859215</td>\n",
       "      <td>41064690572</td>\n",
       "      <td>03878602820</td>\n",
       "      <td>10658785249</td>\n",
       "      <td>72214902287</td>\n",
       "      <td>...</td>\n",
       "      <td>85177474100</td>\n",
       "      <td>00179262114</td>\n",
       "      <td>62989979620</td>\n",
       "      <td>01064606172</td>\n",
       "      <td>01375401165</td>\n",
       "      <td>01500812196</td>\n",
       "      <td>26828448120</td>\n",
       "      <td>99747820153</td>\n",
       "      <td>89695429149</td>\n",
       "      <td>32050666187</td>\n",
       "    </tr>\n",
       "    <tr>\n",
       "      <th>titulo_eleitoral</th>\n",
       "      <td>8912282399</td>\n",
       "      <td>6843012380</td>\n",
       "      <td>5696402321</td>\n",
       "      <td>7945522330</td>\n",
       "      <td>4714202321</td>\n",
       "      <td>5701512313</td>\n",
       "      <td>6741832356</td>\n",
       "      <td>3433892372</td>\n",
       "      <td>26092330</td>\n",
       "      <td>11554172372</td>\n",
       "      <td>...</td>\n",
       "      <td>25651891074</td>\n",
       "      <td>47666521082</td>\n",
       "      <td>95923490272</td>\n",
       "      <td>29382351015</td>\n",
       "      <td>47485241082</td>\n",
       "      <td>50864941074</td>\n",
       "      <td>11708611015</td>\n",
       "      <td>44671431015</td>\n",
       "      <td>35424991007</td>\n",
       "      <td>21278121015</td>\n",
       "    </tr>\n",
       "    <tr>\n",
       "      <th>sequencial</th>\n",
       "      <td>220001187738</td>\n",
       "      <td>220000768332</td>\n",
       "      <td>220000955267</td>\n",
       "      <td>220001268453</td>\n",
       "      <td>220001005073</td>\n",
       "      <td>220001010804</td>\n",
       "      <td>220000744274</td>\n",
       "      <td>220001252132</td>\n",
       "      <td>220000751294</td>\n",
       "      <td>220001241045</td>\n",
       "      <td>...</td>\n",
       "      <td>90000663864</td>\n",
       "      <td>90000941714</td>\n",
       "      <td>90000863092</td>\n",
       "      <td>90000942932</td>\n",
       "      <td>90000832701</td>\n",
       "      <td>90000798266</td>\n",
       "      <td>90001010782</td>\n",
       "      <td>90001116808</td>\n",
       "      <td>90000761530</td>\n",
       "      <td>90000802242</td>\n",
       "    </tr>\n",
       "    <tr>\n",
       "      <th>numero</th>\n",
       "      <td>19</td>\n",
       "      <td>13</td>\n",
       "      <td>11</td>\n",
       "      <td>25</td>\n",
       "      <td>43</td>\n",
       "      <td>43</td>\n",
       "      <td>19</td>\n",
       "      <td>25</td>\n",
       "      <td>51</td>\n",
       "      <td>10</td>\n",
       "      <td>...</td>\n",
       "      <td>15</td>\n",
       "      <td>15</td>\n",
       "      <td>28</td>\n",
       "      <td>12</td>\n",
       "      <td>25</td>\n",
       "      <td>25</td>\n",
       "      <td>11</td>\n",
       "      <td>17</td>\n",
       "      <td>77</td>\n",
       "      <td>11</td>\n",
       "    </tr>\n",
       "    <tr>\n",
       "      <th>nome</th>\n",
       "      <td>Giovan Damo</td>\n",
       "      <td>Ademar Dias Guimarães</td>\n",
       "      <td>Izael Dias Moreira</td>\n",
       "      <td>Marco Aurélio Blaz Vasques</td>\n",
       "      <td>Lisete Marth</td>\n",
       "      <td>Edmilson Rodrigues De Almeida</td>\n",
       "      <td>Weliton Pereira Campos</td>\n",
       "      <td>Jose Sampaio Leite</td>\n",
       "      <td>Joao Soares Rodrigues</td>\n",
       "      <td>Jhony Pedro Da Paixão</td>\n",
       "      <td>...</td>\n",
       "      <td>Marcelo Martins De Paiva</td>\n",
       "      <td>Leo Antonio De Almeida</td>\n",
       "      <td>Félix Aparecido Alves</td>\n",
       "      <td>Aurolino Jose Dos Santos Ninha</td>\n",
       "      <td>Altran Lopes Avelar Nery</td>\n",
       "      <td>Valcilei Antonio Vicente</td>\n",
       "      <td>Eladir De Paula Ribeiro</td>\n",
       "      <td>Tiago Pacheco De Jesus</td>\n",
       "      <td>Ana Paula Lima De Oliveira</td>\n",
       "      <td>Ricardo Yano</td>\n",
       "    </tr>\n",
       "    <tr>\n",
       "      <th>nome_urna</th>\n",
       "      <td>Gio Damo</td>\n",
       "      <td>Professor Ademar</td>\n",
       "      <td>Izael</td>\n",
       "      <td>Vasques</td>\n",
       "      <td>Lisete Marth</td>\n",
       "      <td>Edinho Da Radio</td>\n",
       "      <td>Professor Weliton</td>\n",
       "      <td>Espeto</td>\n",
       "      <td>Joao Soares</td>\n",
       "      <td>Jhony Paixão</td>\n",
       "      <td>...</td>\n",
       "      <td>Marcelo Paiva</td>\n",
       "      <td>Dr Leo</td>\n",
       "      <td>Félix</td>\n",
       "      <td>Ninha</td>\n",
       "      <td>Altran Avelar</td>\n",
       "      <td>Valcilei</td>\n",
       "      <td>Didi</td>\n",
       "      <td>Tiago Contador</td>\n",
       "      <td>Ana Paula</td>\n",
       "      <td>Ricardo Yano</td>\n",
       "    </tr>\n",
       "    <tr>\n",
       "      <th>numero_partido</th>\n",
       "      <td>19</td>\n",
       "      <td>13</td>\n",
       "      <td>11</td>\n",
       "      <td>25</td>\n",
       "      <td>43</td>\n",
       "      <td>43</td>\n",
       "      <td>19</td>\n",
       "      <td>25</td>\n",
       "      <td>51</td>\n",
       "      <td>10</td>\n",
       "      <td>...</td>\n",
       "      <td>15</td>\n",
       "      <td>15</td>\n",
       "      <td>28</td>\n",
       "      <td>12</td>\n",
       "      <td>25</td>\n",
       "      <td>25</td>\n",
       "      <td>11</td>\n",
       "      <td>17</td>\n",
       "      <td>77</td>\n",
       "      <td>11</td>\n",
       "    </tr>\n",
       "    <tr>\n",
       "      <th>sigla_partido</th>\n",
       "      <td>PODE</td>\n",
       "      <td>PT</td>\n",
       "      <td>PP</td>\n",
       "      <td>DEM</td>\n",
       "      <td>PV</td>\n",
       "      <td>PV</td>\n",
       "      <td>PODE</td>\n",
       "      <td>DEM</td>\n",
       "      <td>PATRIOTA</td>\n",
       "      <td>REPUBLICANOS</td>\n",
       "      <td>...</td>\n",
       "      <td>MDB</td>\n",
       "      <td>MDB</td>\n",
       "      <td>PRTB</td>\n",
       "      <td>PDT</td>\n",
       "      <td>DEM</td>\n",
       "      <td>DEM</td>\n",
       "      <td>PP</td>\n",
       "      <td>PSL</td>\n",
       "      <td>SOLIDARIEDADE</td>\n",
       "      <td>PP</td>\n",
       "    </tr>\n",
       "    <tr>\n",
       "      <th>cargo</th>\n",
       "      <td>prefeito</td>\n",
       "      <td>prefeito</td>\n",
       "      <td>prefeito</td>\n",
       "      <td>prefeito</td>\n",
       "      <td>prefeito</td>\n",
       "      <td>prefeito</td>\n",
       "      <td>prefeito</td>\n",
       "      <td>prefeito</td>\n",
       "      <td>prefeito</td>\n",
       "      <td>prefeito</td>\n",
       "      <td>...</td>\n",
       "      <td>prefeito</td>\n",
       "      <td>prefeito</td>\n",
       "      <td>prefeito</td>\n",
       "      <td>prefeito</td>\n",
       "      <td>prefeito</td>\n",
       "      <td>prefeito</td>\n",
       "      <td>prefeito</td>\n",
       "      <td>prefeito</td>\n",
       "      <td>prefeito</td>\n",
       "      <td>prefeito</td>\n",
       "    </tr>\n",
       "    <tr>\n",
       "      <th>situacao</th>\n",
       "      <td>deferido</td>\n",
       "      <td>deferido</td>\n",
       "      <td>deferido</td>\n",
       "      <td>deferido</td>\n",
       "      <td>deferido</td>\n",
       "      <td>deferido</td>\n",
       "      <td>deferido</td>\n",
       "      <td>deferido</td>\n",
       "      <td>deferido</td>\n",
       "      <td>deferido</td>\n",
       "      <td>...</td>\n",
       "      <td>deferido</td>\n",
       "      <td>deferido</td>\n",
       "      <td>deferido</td>\n",
       "      <td>deferido</td>\n",
       "      <td>deferido</td>\n",
       "      <td>deferido</td>\n",
       "      <td>deferido</td>\n",
       "      <td>deferido</td>\n",
       "      <td>deferido</td>\n",
       "      <td>deferido</td>\n",
       "    </tr>\n",
       "    <tr>\n",
       "      <th>ocupacao</th>\n",
       "      <td>agronomo</td>\n",
       "      <td>professor de ensino fundamental</td>\n",
       "      <td>professor de ensino fundamental</td>\n",
       "      <td>servidor publico municipal</td>\n",
       "      <td>prefeito</td>\n",
       "      <td>locutor e comentarista de radio e televisao e ...</td>\n",
       "      <td>servidor publico municipal</td>\n",
       "      <td>servidor publico federal</td>\n",
       "      <td>advogado</td>\n",
       "      <td>deputado</td>\n",
       "      <td>...</td>\n",
       "      <td>engenheiro</td>\n",
       "      <td>medico</td>\n",
       "      <td>professor de ensino superior</td>\n",
       "      <td>engenheiro</td>\n",
       "      <td>engenheiro</td>\n",
       "      <td>servidor publico municipal</td>\n",
       "      <td>prefeito</td>\n",
       "      <td>contador</td>\n",
       "      <td>jornalista e redator</td>\n",
       "      <td>engenheiro</td>\n",
       "    </tr>\n",
       "    <tr>\n",
       "      <th>data_nascimento</th>\n",
       "      <td>1981-04-09</td>\n",
       "      <td>1961-06-09</td>\n",
       "      <td>1970-12-30</td>\n",
       "      <td>1967-02-02</td>\n",
       "      <td>1963-11-09</td>\n",
       "      <td>1969-11-24</td>\n",
       "      <td>1966-01-28</td>\n",
       "      <td>1962-05-03</td>\n",
       "      <td>1960-06-08</td>\n",
       "      <td>1982-05-26</td>\n",
       "      <td>...</td>\n",
       "      <td>1973-09-05</td>\n",
       "      <td>1984-08-15</td>\n",
       "      <td>1970-07-29</td>\n",
       "      <td>1942-08-29</td>\n",
       "      <td>1985-10-26</td>\n",
       "      <td>1985-01-18</td>\n",
       "      <td>1961-05-29</td>\n",
       "      <td>1984-07-28</td>\n",
       "      <td>1977-10-19</td>\n",
       "      <td>1964-11-07</td>\n",
       "    </tr>\n",
       "    <tr>\n",
       "      <th>idade</th>\n",
       "      <td>39</td>\n",
       "      <td>59</td>\n",
       "      <td>50</td>\n",
       "      <td>54</td>\n",
       "      <td>57</td>\n",
       "      <td>51</td>\n",
       "      <td>55</td>\n",
       "      <td>58</td>\n",
       "      <td>60</td>\n",
       "      <td>38</td>\n",
       "      <td>...</td>\n",
       "      <td>47</td>\n",
       "      <td>36</td>\n",
       "      <td>50</td>\n",
       "      <td>78</td>\n",
       "      <td>35</td>\n",
       "      <td>36</td>\n",
       "      <td>59</td>\n",
       "      <td>36</td>\n",
       "      <td>43</td>\n",
       "      <td>56</td>\n",
       "    </tr>\n",
       "    <tr>\n",
       "      <th>genero</th>\n",
       "      <td>masculino</td>\n",
       "      <td>masculino</td>\n",
       "      <td>masculino</td>\n",
       "      <td>masculino</td>\n",
       "      <td>feminino</td>\n",
       "      <td>masculino</td>\n",
       "      <td>masculino</td>\n",
       "      <td>masculino</td>\n",
       "      <td>masculino</td>\n",
       "      <td>masculino</td>\n",
       "      <td>...</td>\n",
       "      <td>masculino</td>\n",
       "      <td>masculino</td>\n",
       "      <td>masculino</td>\n",
       "      <td>masculino</td>\n",
       "      <td>masculino</td>\n",
       "      <td>masculino</td>\n",
       "      <td>masculino</td>\n",
       "      <td>masculino</td>\n",
       "      <td>feminino</td>\n",
       "      <td>masculino</td>\n",
       "    </tr>\n",
       "    <tr>\n",
       "      <th>instrucao</th>\n",
       "      <td>ensino superior completo</td>\n",
       "      <td>ensino superior completo</td>\n",
       "      <td>ensino superior completo</td>\n",
       "      <td>ensino superior completo</td>\n",
       "      <td>ensino superior completo</td>\n",
       "      <td>ensino superior completo</td>\n",
       "      <td>ensino superior completo</td>\n",
       "      <td>ensino medio completo</td>\n",
       "      <td>ensino superior completo</td>\n",
       "      <td>ensino superior completo</td>\n",
       "      <td>...</td>\n",
       "      <td>ensino superior completo</td>\n",
       "      <td>ensino superior completo</td>\n",
       "      <td>ensino superior completo</td>\n",
       "      <td>ensino superior completo</td>\n",
       "      <td>ensino superior completo</td>\n",
       "      <td>ensino medio completo</td>\n",
       "      <td>ensino medio completo</td>\n",
       "      <td>ensino superior completo</td>\n",
       "      <td>ensino superior completo</td>\n",
       "      <td>ensino superior completo</td>\n",
       "    </tr>\n",
       "    <tr>\n",
       "      <th>estado_civil</th>\n",
       "      <td>solteiro(a)</td>\n",
       "      <td>divorciado(a)</td>\n",
       "      <td>solteiro(a)</td>\n",
       "      <td>casado(a)</td>\n",
       "      <td>divorciado(a)</td>\n",
       "      <td>casado(a)</td>\n",
       "      <td>casado(a)</td>\n",
       "      <td>casado(a)</td>\n",
       "      <td>casado(a)</td>\n",
       "      <td>solteiro(a)</td>\n",
       "      <td>...</td>\n",
       "      <td>divorciado(a)</td>\n",
       "      <td>casado(a)</td>\n",
       "      <td>casado(a)</td>\n",
       "      <td>casado(a)</td>\n",
       "      <td>solteiro(a)</td>\n",
       "      <td>casado(a)</td>\n",
       "      <td>solteiro(a)</td>\n",
       "      <td>casado(a)</td>\n",
       "      <td>casado(a)</td>\n",
       "      <td>casado(a)</td>\n",
       "    </tr>\n",
       "    <tr>\n",
       "      <th>nacionalidade</th>\n",
       "      <td>brasileira</td>\n",
       "      <td>brasileira</td>\n",
       "      <td>brasileira</td>\n",
       "      <td>brasileira</td>\n",
       "      <td>brasileira</td>\n",
       "      <td>brasileira</td>\n",
       "      <td>brasileira</td>\n",
       "      <td>brasileira</td>\n",
       "      <td>brasileira</td>\n",
       "      <td>brasileira</td>\n",
       "      <td>...</td>\n",
       "      <td>brasileira</td>\n",
       "      <td>brasileira</td>\n",
       "      <td>brasileira</td>\n",
       "      <td>brasileira</td>\n",
       "      <td>brasileira</td>\n",
       "      <td>brasileira</td>\n",
       "      <td>brasileira</td>\n",
       "      <td>brasileira</td>\n",
       "      <td>brasileira</td>\n",
       "      <td>brasileira</td>\n",
       "    </tr>\n",
       "    <tr>\n",
       "      <th>sigla_uf_nascimento</th>\n",
       "      <td>SC</td>\n",
       "      <td>RS</td>\n",
       "      <td>MG</td>\n",
       "      <td>SP</td>\n",
       "      <td>PR</td>\n",
       "      <td>MG</td>\n",
       "      <td>BA</td>\n",
       "      <td>CE</td>\n",
       "      <td>AM</td>\n",
       "      <td>RO</td>\n",
       "      <td>...</td>\n",
       "      <td>MG</td>\n",
       "      <td>GO</td>\n",
       "      <td>GO</td>\n",
       "      <td>GO</td>\n",
       "      <td>GO</td>\n",
       "      <td>GO</td>\n",
       "      <td>GO</td>\n",
       "      <td>GO</td>\n",
       "      <td>GO</td>\n",
       "      <td>GO</td>\n",
       "    </tr>\n",
       "    <tr>\n",
       "      <th>municipio_nascimento</th>\n",
       "      <td>Chapecó</td>\n",
       "      <td>Tenente Portela</td>\n",
       "      <td>Mendes Pimentel</td>\n",
       "      <td>Monte Aprazível</td>\n",
       "      <td>Capanema</td>\n",
       "      <td>Governador Valadares</td>\n",
       "      <td>Tabocas Do Brejo Velho</td>\n",
       "      <td>Abaiara</td>\n",
       "      <td>Manaus</td>\n",
       "      <td>Pimenta Bueno</td>\n",
       "      <td>...</td>\n",
       "      <td>Araguari</td>\n",
       "      <td>Anápolis</td>\n",
       "      <td>Buriti Alegre</td>\n",
       "      <td>Campos Belos</td>\n",
       "      <td>Goiânia</td>\n",
       "      <td>Uruaçu</td>\n",
       "      <td>Palmelo</td>\n",
       "      <td>Anápolis</td>\n",
       "      <td>Rubiataba</td>\n",
       "      <td>Goiânia</td>\n",
       "    </tr>\n",
       "    <tr>\n",
       "      <th>email</th>\n",
       "      <td>gioagro@hotmailcom</td>\n",
       "      <td>ademardiasguimaraes2020@gmailcom</td>\n",
       "      <td>ccontabilize@hotmailcom</td>\n",
       "      <td>marcoabvasques@hotmailcom</td>\n",
       "      <td>lisetemarth1@hotmailcom</td>\n",
       "      <td>edinhofmalmeida@gmailcom</td>\n",
       "      <td>wpcampos01@hotmailcom</td>\n",
       "      <td>espetoesp@hotmailcom</td>\n",
       "      <td>joao0806@hotmailcom</td>\n",
       "      <td>prbjipa@gmailcom</td>\n",
       "      <td>...</td>\n",
       "      <td>abadiapereiradidica@gmailcom</td>\n",
       "      <td>carlosottavio9@hotmailcom</td>\n",
       "      <td>politicaburiti@gmailcom</td>\n",
       "      <td>elidams@bolcombr</td>\n",
       "      <td>eleicoes2020demfg@gmailcom</td>\n",
       "      <td>macenacontabil@hotmailcom</td>\n",
       "      <td>pppalmelo2020@gmailcom</td>\n",
       "      <td>tiagopacheco@contadorconsultorcom</td>\n",
       "      <td>poramorarioquente@gmailcom</td>\n",
       "      <td>campanhaterezopolisyano@gmailcom</td>\n",
       "    </tr>\n",
       "    <tr>\n",
       "      <th>raca</th>\n",
       "      <td>branca</td>\n",
       "      <td>branca</td>\n",
       "      <td>branca</td>\n",
       "      <td>parda</td>\n",
       "      <td>branca</td>\n",
       "      <td>branca</td>\n",
       "      <td>parda</td>\n",
       "      <td>parda</td>\n",
       "      <td>parda</td>\n",
       "      <td>parda</td>\n",
       "      <td>...</td>\n",
       "      <td>parda</td>\n",
       "      <td>parda</td>\n",
       "      <td>parda</td>\n",
       "      <td>parda</td>\n",
       "      <td>parda</td>\n",
       "      <td>parda</td>\n",
       "      <td>branca</td>\n",
       "      <td>parda</td>\n",
       "      <td>branca</td>\n",
       "      <td>parda</td>\n",
       "    </tr>\n",
       "    <tr>\n",
       "      <th>ano_1</th>\n",
       "      <td>2020</td>\n",
       "      <td>2020</td>\n",
       "      <td>2020</td>\n",
       "      <td>2020</td>\n",
       "      <td>2020</td>\n",
       "      <td>2020</td>\n",
       "      <td>2020</td>\n",
       "      <td>2020</td>\n",
       "      <td>2020</td>\n",
       "      <td>2020</td>\n",
       "      <td>...</td>\n",
       "      <td>2020</td>\n",
       "      <td>2020</td>\n",
       "      <td>2020</td>\n",
       "      <td>2020</td>\n",
       "      <td>2020</td>\n",
       "      <td>2020</td>\n",
       "      <td>2020</td>\n",
       "      <td>2020</td>\n",
       "      <td>2020</td>\n",
       "      <td>2020</td>\n",
       "    </tr>\n",
       "    <tr>\n",
       "      <th>turno</th>\n",
       "      <td>1</td>\n",
       "      <td>1</td>\n",
       "      <td>1</td>\n",
       "      <td>1</td>\n",
       "      <td>1</td>\n",
       "      <td>1</td>\n",
       "      <td>1</td>\n",
       "      <td>1</td>\n",
       "      <td>1</td>\n",
       "      <td>1</td>\n",
       "      <td>...</td>\n",
       "      <td>1</td>\n",
       "      <td>1</td>\n",
       "      <td>1</td>\n",
       "      <td>1</td>\n",
       "      <td>1</td>\n",
       "      <td>1</td>\n",
       "      <td>1</td>\n",
       "      <td>1</td>\n",
       "      <td>1</td>\n",
       "      <td>1</td>\n",
       "    </tr>\n",
       "    <tr>\n",
       "      <th>tipo_eleicao_1</th>\n",
       "      <td>eleicao ordinaria</td>\n",
       "      <td>eleicao ordinaria</td>\n",
       "      <td>eleicao ordinaria</td>\n",
       "      <td>eleicao ordinaria</td>\n",
       "      <td>eleicao ordinaria</td>\n",
       "      <td>eleicao ordinaria</td>\n",
       "      <td>eleicao ordinaria</td>\n",
       "      <td>eleicao ordinaria</td>\n",
       "      <td>eleicao ordinaria</td>\n",
       "      <td>eleicao ordinaria</td>\n",
       "      <td>...</td>\n",
       "      <td>eleicao ordinaria</td>\n",
       "      <td>eleicao ordinaria</td>\n",
       "      <td>eleicao ordinaria</td>\n",
       "      <td>eleicao ordinaria</td>\n",
       "      <td>eleicao ordinaria</td>\n",
       "      <td>eleicao ordinaria</td>\n",
       "      <td>eleicao ordinaria</td>\n",
       "      <td>eleicao ordinaria</td>\n",
       "      <td>eleicao ordinaria</td>\n",
       "      <td>eleicao ordinaria</td>\n",
       "    </tr>\n",
       "    <tr>\n",
       "      <th>sigla_uf_1</th>\n",
       "      <td>RO</td>\n",
       "      <td>RO</td>\n",
       "      <td>RO</td>\n",
       "      <td>RO</td>\n",
       "      <td>RO</td>\n",
       "      <td>RO</td>\n",
       "      <td>RO</td>\n",
       "      <td>RO</td>\n",
       "      <td>RO</td>\n",
       "      <td>RO</td>\n",
       "      <td>...</td>\n",
       "      <td>GO</td>\n",
       "      <td>GO</td>\n",
       "      <td>GO</td>\n",
       "      <td>GO</td>\n",
       "      <td>GO</td>\n",
       "      <td>GO</td>\n",
       "      <td>GO</td>\n",
       "      <td>GO</td>\n",
       "      <td>GO</td>\n",
       "      <td>GO</td>\n",
       "    </tr>\n",
       "    <tr>\n",
       "      <th>id_municipio_1</th>\n",
       "      <td>1100015</td>\n",
       "      <td>1100015</td>\n",
       "      <td>1100031</td>\n",
       "      <td>1100049</td>\n",
       "      <td>1100056</td>\n",
       "      <td>1100064</td>\n",
       "      <td>1100098</td>\n",
       "      <td>1100098</td>\n",
       "      <td>1100106</td>\n",
       "      <td>1100122</td>\n",
       "      <td>...</td>\n",
       "      <td>5201207</td>\n",
       "      <td>5201801</td>\n",
       "      <td>5203906</td>\n",
       "      <td>5204904</td>\n",
       "      <td>5207907</td>\n",
       "      <td>5214879</td>\n",
       "      <td>5215801</td>\n",
       "      <td>5216809</td>\n",
       "      <td>5218789</td>\n",
       "      <td>5221197</td>\n",
       "    </tr>\n",
       "    <tr>\n",
       "      <th>id_municipio_tse_1</th>\n",
       "      <td>310</td>\n",
       "      <td>310</td>\n",
       "      <td>450</td>\n",
       "      <td>94</td>\n",
       "      <td>272</td>\n",
       "      <td>230</td>\n",
       "      <td>256</td>\n",
       "      <td>256</td>\n",
       "      <td>19</td>\n",
       "      <td>51</td>\n",
       "      <td>...</td>\n",
       "      <td>92231</td>\n",
       "      <td>92355</td>\n",
       "      <td>92770</td>\n",
       "      <td>92975</td>\n",
       "      <td>93599</td>\n",
       "      <td>93084</td>\n",
       "      <td>95133</td>\n",
       "      <td>95311</td>\n",
       "      <td>92827</td>\n",
       "      <td>93220</td>\n",
       "    </tr>\n",
       "    <tr>\n",
       "      <th>cargo_1</th>\n",
       "      <td>prefeito</td>\n",
       "      <td>prefeito</td>\n",
       "      <td>prefeito</td>\n",
       "      <td>prefeito</td>\n",
       "      <td>prefeito</td>\n",
       "      <td>prefeito</td>\n",
       "      <td>prefeito</td>\n",
       "      <td>prefeito</td>\n",
       "      <td>prefeito</td>\n",
       "      <td>prefeito</td>\n",
       "      <td>...</td>\n",
       "      <td>prefeito</td>\n",
       "      <td>prefeito</td>\n",
       "      <td>prefeito</td>\n",
       "      <td>prefeito</td>\n",
       "      <td>prefeito</td>\n",
       "      <td>prefeito</td>\n",
       "      <td>prefeito</td>\n",
       "      <td>prefeito</td>\n",
       "      <td>prefeito</td>\n",
       "      <td>prefeito</td>\n",
       "    </tr>\n",
       "    <tr>\n",
       "      <th>sigla_partido_1</th>\n",
       "      <td>PODE</td>\n",
       "      <td>PT</td>\n",
       "      <td>PP</td>\n",
       "      <td>DEM</td>\n",
       "      <td>PV</td>\n",
       "      <td>PV</td>\n",
       "      <td>PODE</td>\n",
       "      <td>DEM</td>\n",
       "      <td>PATRIOTA</td>\n",
       "      <td>REPUBLICANOS</td>\n",
       "      <td>...</td>\n",
       "      <td>MDB</td>\n",
       "      <td>MDB</td>\n",
       "      <td>PRTB</td>\n",
       "      <td>PDT</td>\n",
       "      <td>DEM</td>\n",
       "      <td>DEM</td>\n",
       "      <td>PP</td>\n",
       "      <td>PSL</td>\n",
       "      <td>SOLIDARIEDADE</td>\n",
       "      <td>PP</td>\n",
       "    </tr>\n",
       "    <tr>\n",
       "      <th>numero_candidato</th>\n",
       "      <td>19</td>\n",
       "      <td>13</td>\n",
       "      <td>11</td>\n",
       "      <td>25</td>\n",
       "      <td>43</td>\n",
       "      <td>43</td>\n",
       "      <td>19</td>\n",
       "      <td>25</td>\n",
       "      <td>51</td>\n",
       "      <td>10</td>\n",
       "      <td>...</td>\n",
       "      <td>15</td>\n",
       "      <td>15</td>\n",
       "      <td>28</td>\n",
       "      <td>12</td>\n",
       "      <td>25</td>\n",
       "      <td>25</td>\n",
       "      <td>11</td>\n",
       "      <td>17</td>\n",
       "      <td>77</td>\n",
       "      <td>11</td>\n",
       "    </tr>\n",
       "    <tr>\n",
       "      <th>sequencial_candidato</th>\n",
       "      <td>220001187738</td>\n",
       "      <td>220000768332</td>\n",
       "      <td>220000955267</td>\n",
       "      <td>220001268453</td>\n",
       "      <td>220001005073</td>\n",
       "      <td>220001010804</td>\n",
       "      <td>220000744274</td>\n",
       "      <td>220001252132</td>\n",
       "      <td>220000751294</td>\n",
       "      <td>220001241045</td>\n",
       "      <td>...</td>\n",
       "      <td>90000663864</td>\n",
       "      <td>90000941714</td>\n",
       "      <td>90000863092</td>\n",
       "      <td>90000942932</td>\n",
       "      <td>90000832701</td>\n",
       "      <td>90000798266</td>\n",
       "      <td>90001010782</td>\n",
       "      <td>90001116808</td>\n",
       "      <td>90000761530</td>\n",
       "      <td>90000802242</td>\n",
       "    </tr>\n",
       "    <tr>\n",
       "      <th>id_candidato_bd_1</th>\n",
       "      <td>500468</td>\n",
       "      <td>285972</td>\n",
       "      <td>29478</td>\n",
       "      <td>1235541</td>\n",
       "      <td>321867</td>\n",
       "      <td>1775293</td>\n",
       "      <td>152008</td>\n",
       "      <td>998799</td>\n",
       "      <td>1336851</td>\n",
       "      <td>573671</td>\n",
       "      <td>...</td>\n",
       "      <td>730216</td>\n",
       "      <td>362241</td>\n",
       "      <td>460713</td>\n",
       "      <td>1597316</td>\n",
       "      <td>19859</td>\n",
       "      <td>99410</td>\n",
       "      <td>1674267</td>\n",
       "      <td>891749</td>\n",
       "      <td>780203</td>\n",
       "      <td>1783936</td>\n",
       "    </tr>\n",
       "    <tr>\n",
       "      <th>resultado</th>\n",
       "      <td>eleito</td>\n",
       "      <td>nao eleito</td>\n",
       "      <td>eleito</td>\n",
       "      <td>nao eleito</td>\n",
       "      <td>eleito</td>\n",
       "      <td>nao eleito</td>\n",
       "      <td>eleito</td>\n",
       "      <td>nao eleito</td>\n",
       "      <td>nao eleito</td>\n",
       "      <td>nao eleito</td>\n",
       "      <td>...</td>\n",
       "      <td>eleito</td>\n",
       "      <td>nao eleito</td>\n",
       "      <td>nao eleito</td>\n",
       "      <td>nao eleito</td>\n",
       "      <td>eleito</td>\n",
       "      <td>nao eleito</td>\n",
       "      <td>nao eleito</td>\n",
       "      <td>eleito</td>\n",
       "      <td>eleito</td>\n",
       "      <td>nao eleito</td>\n",
       "    </tr>\n",
       "    <tr>\n",
       "      <th>votos</th>\n",
       "      <td>7536</td>\n",
       "      <td>732</td>\n",
       "      <td>2242</td>\n",
       "      <td>12692</td>\n",
       "      <td>3741</td>\n",
       "      <td>2239</td>\n",
       "      <td>7829</td>\n",
       "      <td>2089</td>\n",
       "      <td>4284</td>\n",
       "      <td>11301</td>\n",
       "      <td>...</td>\n",
       "      <td>621</td>\n",
       "      <td>1145</td>\n",
       "      <td>788</td>\n",
       "      <td>2586</td>\n",
       "      <td>2078</td>\n",
       "      <td>210</td>\n",
       "      <td>914</td>\n",
       "      <td>3288</td>\n",
       "      <td>1099</td>\n",
       "      <td>2203</td>\n",
       "    </tr>\n",
       "    <tr>\n",
       "      <th>decisao_primeiro_turno</th>\n",
       "      <td>1</td>\n",
       "      <td>1</td>\n",
       "      <td>1</td>\n",
       "      <td>1</td>\n",
       "      <td>1</td>\n",
       "      <td>1</td>\n",
       "      <td>1</td>\n",
       "      <td>1</td>\n",
       "      <td>1</td>\n",
       "      <td>1</td>\n",
       "      <td>...</td>\n",
       "      <td>1</td>\n",
       "      <td>1</td>\n",
       "      <td>1</td>\n",
       "      <td>1</td>\n",
       "      <td>1</td>\n",
       "      <td>1</td>\n",
       "      <td>1</td>\n",
       "      <td>1</td>\n",
       "      <td>1</td>\n",
       "      <td>1</td>\n",
       "    </tr>\n",
       "    <tr>\n",
       "      <th>total_votos</th>\n",
       "      <td>13120</td>\n",
       "      <td>13120</td>\n",
       "      <td>3630</td>\n",
       "      <td>42251</td>\n",
       "      <td>8926</td>\n",
       "      <td>6920</td>\n",
       "      <td>11592</td>\n",
       "      <td>11592</td>\n",
       "      <td>18988</td>\n",
       "      <td>56946</td>\n",
       "      <td>...</td>\n",
       "      <td>1046</td>\n",
       "      <td>6640</td>\n",
       "      <td>6059</td>\n",
       "      <td>10455</td>\n",
       "      <td>5299</td>\n",
       "      <td>2506</td>\n",
       "      <td>1890</td>\n",
       "      <td>5736</td>\n",
       "      <td>2521</td>\n",
       "      <td>5195</td>\n",
       "    </tr>\n",
       "    <tr>\n",
       "      <th>%votos</th>\n",
       "      <td>0.57439</td>\n",
       "      <td>0.055793</td>\n",
       "      <td>0.617631</td>\n",
       "      <td>0.300395</td>\n",
       "      <td>0.419113</td>\n",
       "      <td>0.323555</td>\n",
       "      <td>0.67538</td>\n",
       "      <td>0.18021</td>\n",
       "      <td>0.225616</td>\n",
       "      <td>0.198451</td>\n",
       "      <td>...</td>\n",
       "      <td>0.59369</td>\n",
       "      <td>0.17244</td>\n",
       "      <td>0.130054</td>\n",
       "      <td>0.247346</td>\n",
       "      <td>0.392149</td>\n",
       "      <td>0.083799</td>\n",
       "      <td>0.483598</td>\n",
       "      <td>0.573222</td>\n",
       "      <td>0.435938</td>\n",
       "      <td>0.424062</td>\n",
       "    </tr>\n",
       "    <tr>\n",
       "      <th>2_lugar</th>\n",
       "      <td>False</td>\n",
       "      <td>False</td>\n",
       "      <td>False</td>\n",
       "      <td>True</td>\n",
       "      <td>False</td>\n",
       "      <td>True</td>\n",
       "      <td>False</td>\n",
       "      <td>True</td>\n",
       "      <td>True</td>\n",
       "      <td>True</td>\n",
       "      <td>...</td>\n",
       "      <td>False</td>\n",
       "      <td>False</td>\n",
       "      <td>False</td>\n",
       "      <td>False</td>\n",
       "      <td>False</td>\n",
       "      <td>False</td>\n",
       "      <td>True</td>\n",
       "      <td>False</td>\n",
       "      <td>False</td>\n",
       "      <td>True</td>\n",
       "    </tr>\n",
       "    <tr>\n",
       "      <th>3_lugar</th>\n",
       "      <td>False</td>\n",
       "      <td>True</td>\n",
       "      <td>False</td>\n",
       "      <td>False</td>\n",
       "      <td>False</td>\n",
       "      <td>False</td>\n",
       "      <td>False</td>\n",
       "      <td>False</td>\n",
       "      <td>False</td>\n",
       "      <td>False</td>\n",
       "      <td>...</td>\n",
       "      <td>False</td>\n",
       "      <td>True</td>\n",
       "      <td>True</td>\n",
       "      <td>True</td>\n",
       "      <td>False</td>\n",
       "      <td>True</td>\n",
       "      <td>False</td>\n",
       "      <td>False</td>\n",
       "      <td>False</td>\n",
       "      <td>False</td>\n",
       "    </tr>\n",
       "    <tr>\n",
       "      <th>dif_votos_2_lugar</th>\n",
       "      <td>0.229421</td>\n",
       "      <td>0.229421</td>\n",
       "      <td>0.290358</td>\n",
       "      <td>0.310028</td>\n",
       "      <td>0.08212</td>\n",
       "      <td>0.239306</td>\n",
       "      <td>0.495169</td>\n",
       "      <td>0.495169</td>\n",
       "      <td>0.015325</td>\n",
       "      <td>0.077231</td>\n",
       "      <td>...</td>\n",
       "      <td>0.18738</td>\n",
       "      <td>0.059789</td>\n",
       "      <td>0.247236</td>\n",
       "      <td>0.081014</td>\n",
       "      <td>0.005473</td>\n",
       "      <td>0.083799</td>\n",
       "      <td>0.032804</td>\n",
       "      <td>0.146444</td>\n",
       "      <td>0.13804</td>\n",
       "      <td>0.14591</td>\n",
       "    </tr>\n",
       "    <tr>\n",
       "      <th>dif_votos_3_lugar</th>\n",
       "      <td>0.518598</td>\n",
       "      <td>0.518598</td>\n",
       "      <td>0.562534</td>\n",
       "      <td>0.534212</td>\n",
       "      <td>0.175218</td>\n",
       "      <td>0.449277</td>\n",
       "      <td>0.53097</td>\n",
       "      <td>0.53097</td>\n",
       "      <td>0.058563</td>\n",
       "      <td>0.09207</td>\n",
       "      <td>...</td>\n",
       "      <td>NaN</td>\n",
       "      <td>0.175904</td>\n",
       "      <td>0.404852</td>\n",
       "      <td>0.143568</td>\n",
       "      <td>0.170976</td>\n",
       "      <td>0.416201</td>\n",
       "      <td>NaN</td>\n",
       "      <td>NaN</td>\n",
       "      <td>0.169774</td>\n",
       "      <td>0.564004</td>\n",
       "    </tr>\n",
       "    <tr>\n",
       "      <th>dif_votos</th>\n",
       "      <td>0.518598</td>\n",
       "      <td>0.518598</td>\n",
       "      <td>0.272176</td>\n",
       "      <td>0.310028</td>\n",
       "      <td>0.093099</td>\n",
       "      <td>0.449277</td>\n",
       "      <td>0.53097</td>\n",
       "      <td>0.53097</td>\n",
       "      <td>0.043238</td>\n",
       "      <td>0.09207</td>\n",
       "      <td>...</td>\n",
       "      <td>0.18738</td>\n",
       "      <td>0.116114</td>\n",
       "      <td>0.247236</td>\n",
       "      <td>0.081014</td>\n",
       "      <td>0.170976</td>\n",
       "      <td>0.083799</td>\n",
       "      <td>0.032804</td>\n",
       "      <td>0.146444</td>\n",
       "      <td>0.169774</td>\n",
       "      <td>0.564004</td>\n",
       "    </tr>\n",
       "    <tr>\n",
       "      <th>cbo_2002</th>\n",
       "      <td>222110</td>\n",
       "      <td>317110</td>\n",
       "      <td>317110</td>\n",
       "      <td>317110</td>\n",
       "      <td>317110</td>\n",
       "      <td>317110</td>\n",
       "      <td>317110</td>\n",
       "      <td>317110</td>\n",
       "      <td>317110</td>\n",
       "      <td>317110</td>\n",
       "      <td>...</td>\n",
       "      <td>214205</td>\n",
       "      <td>221105</td>\n",
       "      <td>142510</td>\n",
       "      <td>214205</td>\n",
       "      <td>312305</td>\n",
       "      <td>318510</td>\n",
       "      <td>312210</td>\n",
       "      <td>141305</td>\n",
       "      <td>212410</td>\n",
       "      <td>214205</td>\n",
       "    </tr>\n",
       "    <tr>\n",
       "      <th>cnpj_raiz</th>\n",
       "      <td>5888813.0</td>\n",
       "      <td>394585.0</td>\n",
       "      <td>394585.0</td>\n",
       "      <td>394585.0</td>\n",
       "      <td>394585.0</td>\n",
       "      <td>394585.0</td>\n",
       "      <td>394585.0</td>\n",
       "      <td>3092697.0</td>\n",
       "      <td>394585.0</td>\n",
       "      <td>394585.0</td>\n",
       "      <td>...</td>\n",
       "      <td>3967501.0</td>\n",
       "      <td>11809185.0</td>\n",
       "      <td>23814940.0</td>\n",
       "      <td>1126143.0</td>\n",
       "      <td>8377982.0</td>\n",
       "      <td>33331661.0</td>\n",
       "      <td>1616929.0</td>\n",
       "      <td>5859757.0</td>\n",
       "      <td>24852675.0</td>\n",
       "      <td>1540350.0</td>\n",
       "    </tr>\n",
       "    <tr>\n",
       "      <th>data_adm</th>\n",
       "      <td>10022005.0</td>\n",
       "      <td>4112008.0</td>\n",
       "      <td>30032004.0</td>\n",
       "      <td>22031990.0</td>\n",
       "      <td>14121987.0</td>\n",
       "      <td>1052017.0</td>\n",
       "      <td>19042005.0</td>\n",
       "      <td>1021984.0</td>\n",
       "      <td>1102009.0</td>\n",
       "      <td>24062002.0</td>\n",
       "      <td>...</td>\n",
       "      <td>1032012.0</td>\n",
       "      <td>6062013.0</td>\n",
       "      <td>16022000.0</td>\n",
       "      <td>1012009.0</td>\n",
       "      <td>16112011.0</td>\n",
       "      <td>1082007.0</td>\n",
       "      <td>2071984.0</td>\n",
       "      <td>1122008.0</td>\n",
       "      <td>4052007.0</td>\n",
       "      <td>3071989.0</td>\n",
       "    </tr>\n",
       "    <tr>\n",
       "      <th>tenure_rais</th>\n",
       "      <td>22.0</td>\n",
       "      <td>121.0</td>\n",
       "      <td>81.0</td>\n",
       "      <td>249.0</td>\n",
       "      <td>204.0</td>\n",
       "      <td>19.0</td>\n",
       "      <td>20.0</td>\n",
       "      <td>310.0</td>\n",
       "      <td>2.0</td>\n",
       "      <td>102.0</td>\n",
       "      <td>...</td>\n",
       "      <td>21.0</td>\n",
       "      <td>18.0</td>\n",
       "      <td>106.0</td>\n",
       "      <td>11.0</td>\n",
       "      <td>13.0</td>\n",
       "      <td>136.0</td>\n",
       "      <td>413.0</td>\n",
       "      <td>12.0</td>\n",
       "      <td>139.0</td>\n",
       "      <td>257.0</td>\n",
       "    </tr>\n",
       "    <tr>\n",
       "      <th>stem_job</th>\n",
       "      <td>1.0</td>\n",
       "      <td>1.0</td>\n",
       "      <td>1.0</td>\n",
       "      <td>1.0</td>\n",
       "      <td>1.0</td>\n",
       "      <td>1.0</td>\n",
       "      <td>1.0</td>\n",
       "      <td>1.0</td>\n",
       "      <td>1.0</td>\n",
       "      <td>1.0</td>\n",
       "      <td>...</td>\n",
       "      <td>1.0</td>\n",
       "      <td>1.0</td>\n",
       "      <td>1.0</td>\n",
       "      <td>1.0</td>\n",
       "      <td>1.0</td>\n",
       "      <td>1.0</td>\n",
       "      <td>1.0</td>\n",
       "      <td>1.0</td>\n",
       "      <td>1.0</td>\n",
       "      <td>1.0</td>\n",
       "    </tr>\n",
       "    <tr>\n",
       "      <th>tenure</th>\n",
       "      <td>22.0</td>\n",
       "      <td>12.0</td>\n",
       "      <td>81.0</td>\n",
       "      <td>254.0</td>\n",
       "      <td>319.0</td>\n",
       "      <td>23.0</td>\n",
       "      <td>41.0</td>\n",
       "      <td>322.0</td>\n",
       "      <td>2.0</td>\n",
       "      <td>108.0</td>\n",
       "      <td>...</td>\n",
       "      <td>44.0</td>\n",
       "      <td>18.0</td>\n",
       "      <td>128.0</td>\n",
       "      <td>11.0</td>\n",
       "      <td>13.0</td>\n",
       "      <td>60.0</td>\n",
       "      <td>413.0</td>\n",
       "      <td>12.0</td>\n",
       "      <td>24.0</td>\n",
       "      <td>257.0</td>\n",
       "    </tr>\n",
       "    <tr>\n",
       "      <th>max_year</th>\n",
       "      <td>2006.0</td>\n",
       "      <td>2018.0</td>\n",
       "      <td>2010.0</td>\n",
       "      <td>2010.0</td>\n",
       "      <td>2004.0</td>\n",
       "      <td>2018.0</td>\n",
       "      <td>2006.0</td>\n",
       "      <td>2009.0</td>\n",
       "      <td>2009.0</td>\n",
       "      <td>2010.0</td>\n",
       "      <td>...</td>\n",
       "      <td>2013.0</td>\n",
       "      <td>2014.0</td>\n",
       "      <td>2008.0</td>\n",
       "      <td>2009.0</td>\n",
       "      <td>2012.0</td>\n",
       "      <td>2018.0</td>\n",
       "      <td>2018.0</td>\n",
       "      <td>2009.0</td>\n",
       "      <td>2018.0</td>\n",
       "      <td>2010.0</td>\n",
       "    </tr>\n",
       "    <tr>\n",
       "      <th>rdd</th>\n",
       "      <td>2.0</td>\n",
       "      <td>2.0</td>\n",
       "      <td>1.0</td>\n",
       "      <td>1.0</td>\n",
       "      <td>1.0</td>\n",
       "      <td>1.0</td>\n",
       "      <td>2.0</td>\n",
       "      <td>2.0</td>\n",
       "      <td>1.0</td>\n",
       "      <td>1.0</td>\n",
       "      <td>...</td>\n",
       "      <td>1.0</td>\n",
       "      <td>1.0</td>\n",
       "      <td>1.0</td>\n",
       "      <td>1.0</td>\n",
       "      <td>1.0</td>\n",
       "      <td>1.0</td>\n",
       "      <td>1.0</td>\n",
       "      <td>1.0</td>\n",
       "      <td>1.0</td>\n",
       "      <td>1.0</td>\n",
       "    </tr>\n",
       "    <tr>\n",
       "      <th>rdd_stem_won</th>\n",
       "      <td>0</td>\n",
       "      <td>0</td>\n",
       "      <td>1</td>\n",
       "      <td>0</td>\n",
       "      <td>1</td>\n",
       "      <td>0</td>\n",
       "      <td>0</td>\n",
       "      <td>0</td>\n",
       "      <td>0</td>\n",
       "      <td>0</td>\n",
       "      <td>...</td>\n",
       "      <td>1</td>\n",
       "      <td>0</td>\n",
       "      <td>0</td>\n",
       "      <td>0</td>\n",
       "      <td>1</td>\n",
       "      <td>0</td>\n",
       "      <td>0</td>\n",
       "      <td>1</td>\n",
       "      <td>1</td>\n",
       "      <td>0</td>\n",
       "    </tr>\n",
       "    <tr>\n",
       "      <th>date</th>\n",
       "      <td>2021-07-01</td>\n",
       "      <td>2021-07-01</td>\n",
       "      <td>2021-07-01</td>\n",
       "      <td>2021-07-01</td>\n",
       "      <td>2021-07-01</td>\n",
       "      <td>2021-07-01</td>\n",
       "      <td>2021-07-01</td>\n",
       "      <td>2021-07-01</td>\n",
       "      <td>2021-07-01</td>\n",
       "      <td>2021-07-01</td>\n",
       "      <td>...</td>\n",
       "      <td>2021-07-01</td>\n",
       "      <td>2021-07-01</td>\n",
       "      <td>2021-07-01</td>\n",
       "      <td>2021-07-01</td>\n",
       "      <td>2021-07-01</td>\n",
       "      <td>2021-07-01</td>\n",
       "      <td>2021-07-01</td>\n",
       "      <td>2021-07-01</td>\n",
       "      <td>2021-07-01</td>\n",
       "      <td>2021-07-01</td>\n",
       "    </tr>\n",
       "    <tr>\n",
       "      <th>state</th>\n",
       "      <td>RO</td>\n",
       "      <td>RO</td>\n",
       "      <td>RO</td>\n",
       "      <td>RO</td>\n",
       "      <td>RO</td>\n",
       "      <td>RO</td>\n",
       "      <td>RO</td>\n",
       "      <td>RO</td>\n",
       "      <td>RO</td>\n",
       "      <td>RO</td>\n",
       "      <td>...</td>\n",
       "      <td>GO</td>\n",
       "      <td>GO</td>\n",
       "      <td>GO</td>\n",
       "      <td>GO</td>\n",
       "      <td>GO</td>\n",
       "      <td>GO</td>\n",
       "      <td>GO</td>\n",
       "      <td>GO</td>\n",
       "      <td>GO</td>\n",
       "      <td>GO</td>\n",
       "    </tr>\n",
       "    <tr>\n",
       "      <th>city</th>\n",
       "      <td>Alta Floresta D'Oeste</td>\n",
       "      <td>Alta Floresta D'Oeste</td>\n",
       "      <td>Cabixi</td>\n",
       "      <td>Cacoal</td>\n",
       "      <td>Cerejeiras</td>\n",
       "      <td>Colorado do Oeste</td>\n",
       "      <td>Espigão D'Oeste</td>\n",
       "      <td>Espigão D'Oeste</td>\n",
       "      <td>Guajará-Mirim</td>\n",
       "      <td>Ji-Paraná</td>\n",
       "      <td>...</td>\n",
       "      <td>Anhanguera</td>\n",
       "      <td>Aragoiânia</td>\n",
       "      <td>Buriti Alegre</td>\n",
       "      <td>Campos Belos</td>\n",
       "      <td>Flores de Goiás</td>\n",
       "      <td>Nova Iguaçu de Goiás</td>\n",
       "      <td>Palmelo</td>\n",
       "      <td>Petrolina de Goiás</td>\n",
       "      <td>Rio Quente</td>\n",
       "      <td>Terezópolis de Goiás</td>\n",
       "    </tr>\n",
       "  </tbody>\n",
       "</table>\n",
       "<p>60 rows × 510 columns</p>\n",
       "</div>"
      ],
      "text/plain": [
       "                                           0      \\\n",
       "ano                                         2020   \n",
       "tipo_eleicao                   eleicao ordinaria   \n",
       "sigla_uf                                      RO   \n",
       "id_municipio                           1100015.0   \n",
       "id_municipio_tse                             310   \n",
       "id_candidato_bd                           500468   \n",
       "cpf                                  66145201215   \n",
       "titulo_eleitoral                      8912282399   \n",
       "sequencial                          220001187738   \n",
       "numero                                        19   \n",
       "nome                                 Giovan Damo   \n",
       "nome_urna                               Gio Damo   \n",
       "numero_partido                                19   \n",
       "sigla_partido                               PODE   \n",
       "cargo                                   prefeito   \n",
       "situacao                                deferido   \n",
       "ocupacao                                agronomo   \n",
       "data_nascimento                       1981-04-09   \n",
       "idade                                         39   \n",
       "genero                                 masculino   \n",
       "instrucao               ensino superior completo   \n",
       "estado_civil                         solteiro(a)   \n",
       "nacionalidade                         brasileira   \n",
       "sigla_uf_nascimento                           SC   \n",
       "municipio_nascimento                     Chapecó   \n",
       "email                         gioagro@hotmailcom   \n",
       "raca                                      branca   \n",
       "ano_1                                       2020   \n",
       "turno                                          1   \n",
       "tipo_eleicao_1                 eleicao ordinaria   \n",
       "sigla_uf_1                                    RO   \n",
       "id_municipio_1                           1100015   \n",
       "id_municipio_tse_1                           310   \n",
       "cargo_1                                 prefeito   \n",
       "sigla_partido_1                             PODE   \n",
       "numero_candidato                              19   \n",
       "sequencial_candidato                220001187738   \n",
       "id_candidato_bd_1                         500468   \n",
       "resultado                                 eleito   \n",
       "votos                                       7536   \n",
       "decisao_primeiro_turno                         1   \n",
       "total_votos                                13120   \n",
       "%votos                                   0.57439   \n",
       "2_lugar                                    False   \n",
       "3_lugar                                    False   \n",
       "dif_votos_2_lugar                       0.229421   \n",
       "dif_votos_3_lugar                       0.518598   \n",
       "dif_votos                               0.518598   \n",
       "cbo_2002                                  222110   \n",
       "cnpj_raiz                              5888813.0   \n",
       "data_adm                              10022005.0   \n",
       "tenure_rais                                 22.0   \n",
       "stem_job                                     1.0   \n",
       "tenure                                      22.0   \n",
       "max_year                                  2006.0   \n",
       "rdd                                          2.0   \n",
       "rdd_stem_won                                   0   \n",
       "date                                  2021-07-01   \n",
       "state                                         RO   \n",
       "city                       Alta Floresta D'Oeste   \n",
       "\n",
       "                                                   2      \\\n",
       "ano                                                 2020   \n",
       "tipo_eleicao                           eleicao ordinaria   \n",
       "sigla_uf                                              RO   \n",
       "id_municipio                                   1100015.0   \n",
       "id_municipio_tse                                     310   \n",
       "id_candidato_bd                                   285972   \n",
       "cpf                                          49891030920   \n",
       "titulo_eleitoral                              6843012380   \n",
       "sequencial                                  220000768332   \n",
       "numero                                                13   \n",
       "nome                               Ademar Dias Guimarães   \n",
       "nome_urna                               Professor Ademar   \n",
       "numero_partido                                        13   \n",
       "sigla_partido                                         PT   \n",
       "cargo                                           prefeito   \n",
       "situacao                                        deferido   \n",
       "ocupacao                 professor de ensino fundamental   \n",
       "data_nascimento                               1961-06-09   \n",
       "idade                                                 59   \n",
       "genero                                         masculino   \n",
       "instrucao                       ensino superior completo   \n",
       "estado_civil                               divorciado(a)   \n",
       "nacionalidade                                 brasileira   \n",
       "sigla_uf_nascimento                                   RS   \n",
       "municipio_nascimento                     Tenente Portela   \n",
       "email                   ademardiasguimaraes2020@gmailcom   \n",
       "raca                                              branca   \n",
       "ano_1                                               2020   \n",
       "turno                                                  1   \n",
       "tipo_eleicao_1                         eleicao ordinaria   \n",
       "sigla_uf_1                                            RO   \n",
       "id_municipio_1                                   1100015   \n",
       "id_municipio_tse_1                                   310   \n",
       "cargo_1                                         prefeito   \n",
       "sigla_partido_1                                       PT   \n",
       "numero_candidato                                      13   \n",
       "sequencial_candidato                        220000768332   \n",
       "id_candidato_bd_1                                 285972   \n",
       "resultado                                     nao eleito   \n",
       "votos                                                732   \n",
       "decisao_primeiro_turno                                 1   \n",
       "total_votos                                        13120   \n",
       "%votos                                          0.055793   \n",
       "2_lugar                                            False   \n",
       "3_lugar                                             True   \n",
       "dif_votos_2_lugar                               0.229421   \n",
       "dif_votos_3_lugar                               0.518598   \n",
       "dif_votos                                       0.518598   \n",
       "cbo_2002                                          317110   \n",
       "cnpj_raiz                                       394585.0   \n",
       "data_adm                                       4112008.0   \n",
       "tenure_rais                                        121.0   \n",
       "stem_job                                             1.0   \n",
       "tenure                                              12.0   \n",
       "max_year                                          2018.0   \n",
       "rdd                                                  2.0   \n",
       "rdd_stem_won                                           0   \n",
       "date                                          2021-07-01   \n",
       "state                                                 RO   \n",
       "city                               Alta Floresta D'Oeste   \n",
       "\n",
       "                                                  3      \\\n",
       "ano                                                2020   \n",
       "tipo_eleicao                          eleicao ordinaria   \n",
       "sigla_uf                                             RO   \n",
       "id_municipio                                  1100031.0   \n",
       "id_municipio_tse                                    450   \n",
       "id_candidato_bd                                   29478   \n",
       "cpf                                         34061738291   \n",
       "titulo_eleitoral                             5696402321   \n",
       "sequencial                                 220000955267   \n",
       "numero                                               11   \n",
       "nome                                 Izael Dias Moreira   \n",
       "nome_urna                                         Izael   \n",
       "numero_partido                                       11   \n",
       "sigla_partido                                        PP   \n",
       "cargo                                          prefeito   \n",
       "situacao                                       deferido   \n",
       "ocupacao                professor de ensino fundamental   \n",
       "data_nascimento                              1970-12-30   \n",
       "idade                                                50   \n",
       "genero                                        masculino   \n",
       "instrucao                      ensino superior completo   \n",
       "estado_civil                                solteiro(a)   \n",
       "nacionalidade                                brasileira   \n",
       "sigla_uf_nascimento                                  MG   \n",
       "municipio_nascimento                    Mendes Pimentel   \n",
       "email                           ccontabilize@hotmailcom   \n",
       "raca                                             branca   \n",
       "ano_1                                              2020   \n",
       "turno                                                 1   \n",
       "tipo_eleicao_1                        eleicao ordinaria   \n",
       "sigla_uf_1                                           RO   \n",
       "id_municipio_1                                  1100031   \n",
       "id_municipio_tse_1                                  450   \n",
       "cargo_1                                        prefeito   \n",
       "sigla_partido_1                                      PP   \n",
       "numero_candidato                                     11   \n",
       "sequencial_candidato                       220000955267   \n",
       "id_candidato_bd_1                                 29478   \n",
       "resultado                                        eleito   \n",
       "votos                                              2242   \n",
       "decisao_primeiro_turno                                1   \n",
       "total_votos                                        3630   \n",
       "%votos                                         0.617631   \n",
       "2_lugar                                           False   \n",
       "3_lugar                                           False   \n",
       "dif_votos_2_lugar                              0.290358   \n",
       "dif_votos_3_lugar                              0.562534   \n",
       "dif_votos                                      0.272176   \n",
       "cbo_2002                                         317110   \n",
       "cnpj_raiz                                      394585.0   \n",
       "data_adm                                     30032004.0   \n",
       "tenure_rais                                        81.0   \n",
       "stem_job                                            1.0   \n",
       "tenure                                             81.0   \n",
       "max_year                                         2010.0   \n",
       "rdd                                                 1.0   \n",
       "rdd_stem_won                                          1   \n",
       "date                                         2021-07-01   \n",
       "state                                                RO   \n",
       "city                                             Cabixi   \n",
       "\n",
       "                                             7                         10     \\\n",
       "ano                                           2020                      2020   \n",
       "tipo_eleicao                     eleicao ordinaria         eleicao ordinaria   \n",
       "sigla_uf                                        RO                        RO   \n",
       "id_municipio                             1100049.0                 1100056.0   \n",
       "id_municipio_tse                                94                       272   \n",
       "id_candidato_bd                            1235541                    321867   \n",
       "cpf                                    08082136871               52617831000   \n",
       "titulo_eleitoral                        7945522330                4714202321   \n",
       "sequencial                            220001268453              220001005073   \n",
       "numero                                          25                        43   \n",
       "nome                    Marco Aurélio Blaz Vasques              Lisete Marth   \n",
       "nome_urna                                  Vasques              Lisete Marth   \n",
       "numero_partido                                  25                        43   \n",
       "sigla_partido                                  DEM                        PV   \n",
       "cargo                                     prefeito                  prefeito   \n",
       "situacao                                  deferido                  deferido   \n",
       "ocupacao                servidor publico municipal                  prefeito   \n",
       "data_nascimento                         1967-02-02                1963-11-09   \n",
       "idade                                           54                        57   \n",
       "genero                                   masculino                  feminino   \n",
       "instrucao                 ensino superior completo  ensino superior completo   \n",
       "estado_civil                             casado(a)             divorciado(a)   \n",
       "nacionalidade                           brasileira                brasileira   \n",
       "sigla_uf_nascimento                             SP                        PR   \n",
       "municipio_nascimento               Monte Aprazível                  Capanema   \n",
       "email                    marcoabvasques@hotmailcom   lisetemarth1@hotmailcom   \n",
       "raca                                         parda                    branca   \n",
       "ano_1                                         2020                      2020   \n",
       "turno                                            1                         1   \n",
       "tipo_eleicao_1                   eleicao ordinaria         eleicao ordinaria   \n",
       "sigla_uf_1                                      RO                        RO   \n",
       "id_municipio_1                             1100049                   1100056   \n",
       "id_municipio_tse_1                              94                       272   \n",
       "cargo_1                                   prefeito                  prefeito   \n",
       "sigla_partido_1                                DEM                        PV   \n",
       "numero_candidato                                25                        43   \n",
       "sequencial_candidato                  220001268453              220001005073   \n",
       "id_candidato_bd_1                          1235541                    321867   \n",
       "resultado                               nao eleito                    eleito   \n",
       "votos                                        12692                      3741   \n",
       "decisao_primeiro_turno                           1                         1   \n",
       "total_votos                                  42251                      8926   \n",
       "%votos                                    0.300395                  0.419113   \n",
       "2_lugar                                       True                     False   \n",
       "3_lugar                                      False                     False   \n",
       "dif_votos_2_lugar                         0.310028                   0.08212   \n",
       "dif_votos_3_lugar                         0.534212                  0.175218   \n",
       "dif_votos                                 0.310028                  0.093099   \n",
       "cbo_2002                                    317110                    317110   \n",
       "cnpj_raiz                                 394585.0                  394585.0   \n",
       "data_adm                                22031990.0                14121987.0   \n",
       "tenure_rais                                  249.0                     204.0   \n",
       "stem_job                                       1.0                       1.0   \n",
       "tenure                                       254.0                     319.0   \n",
       "max_year                                    2010.0                    2004.0   \n",
       "rdd                                            1.0                       1.0   \n",
       "rdd_stem_won                                     0                         1   \n",
       "date                                    2021-07-01                2021-07-01   \n",
       "state                                           RO                        RO   \n",
       "city                                        Cacoal                Cerejeiras   \n",
       "\n",
       "                                                                    14     \\\n",
       "ano                                                                  2020   \n",
       "tipo_eleicao                                            eleicao ordinaria   \n",
       "sigla_uf                                                               RO   \n",
       "id_municipio                                                    1100064.0   \n",
       "id_municipio_tse                                                      230   \n",
       "id_candidato_bd                                                   1775293   \n",
       "cpf                                                           31588859215   \n",
       "titulo_eleitoral                                               5701512313   \n",
       "sequencial                                                   220001010804   \n",
       "numero                                                                 43   \n",
       "nome                                        Edmilson Rodrigues De Almeida   \n",
       "nome_urna                                                 Edinho Da Radio   \n",
       "numero_partido                                                         43   \n",
       "sigla_partido                                                          PV   \n",
       "cargo                                                            prefeito   \n",
       "situacao                                                         deferido   \n",
       "ocupacao                locutor e comentarista de radio e televisao e ...   \n",
       "data_nascimento                                                1969-11-24   \n",
       "idade                                                                  51   \n",
       "genero                                                          masculino   \n",
       "instrucao                                        ensino superior completo   \n",
       "estado_civil                                                    casado(a)   \n",
       "nacionalidade                                                  brasileira   \n",
       "sigla_uf_nascimento                                                    MG   \n",
       "municipio_nascimento                                 Governador Valadares   \n",
       "email                                            edinhofmalmeida@gmailcom   \n",
       "raca                                                               branca   \n",
       "ano_1                                                                2020   \n",
       "turno                                                                   1   \n",
       "tipo_eleicao_1                                          eleicao ordinaria   \n",
       "sigla_uf_1                                                             RO   \n",
       "id_municipio_1                                                    1100064   \n",
       "id_municipio_tse_1                                                    230   \n",
       "cargo_1                                                          prefeito   \n",
       "sigla_partido_1                                                        PV   \n",
       "numero_candidato                                                       43   \n",
       "sequencial_candidato                                         220001010804   \n",
       "id_candidato_bd_1                                                 1775293   \n",
       "resultado                                                      nao eleito   \n",
       "votos                                                                2239   \n",
       "decisao_primeiro_turno                                                  1   \n",
       "total_votos                                                          6920   \n",
       "%votos                                                           0.323555   \n",
       "2_lugar                                                              True   \n",
       "3_lugar                                                             False   \n",
       "dif_votos_2_lugar                                                0.239306   \n",
       "dif_votos_3_lugar                                                0.449277   \n",
       "dif_votos                                                        0.449277   \n",
       "cbo_2002                                                           317110   \n",
       "cnpj_raiz                                                        394585.0   \n",
       "data_adm                                                        1052017.0   \n",
       "tenure_rais                                                          19.0   \n",
       "stem_job                                                              1.0   \n",
       "tenure                                                               23.0   \n",
       "max_year                                                           2018.0   \n",
       "rdd                                                                   1.0   \n",
       "rdd_stem_won                                                            0   \n",
       "date                                                           2021-07-01   \n",
       "state                                                                  RO   \n",
       "city                                                    Colorado do Oeste   \n",
       "\n",
       "                                             20                        21     \\\n",
       "ano                                           2020                      2020   \n",
       "tipo_eleicao                     eleicao ordinaria         eleicao ordinaria   \n",
       "sigla_uf                                        RO                        RO   \n",
       "id_municipio                             1100098.0                 1100098.0   \n",
       "id_municipio_tse                               256                       256   \n",
       "id_candidato_bd                             152008                    998799   \n",
       "cpf                                    41064690572               03878602820   \n",
       "titulo_eleitoral                        6741832356                3433892372   \n",
       "sequencial                            220000744274              220001252132   \n",
       "numero                                          19                        25   \n",
       "nome                        Weliton Pereira Campos        Jose Sampaio Leite   \n",
       "nome_urna                        Professor Weliton                    Espeto   \n",
       "numero_partido                                  19                        25   \n",
       "sigla_partido                                 PODE                       DEM   \n",
       "cargo                                     prefeito                  prefeito   \n",
       "situacao                                  deferido                  deferido   \n",
       "ocupacao                servidor publico municipal  servidor publico federal   \n",
       "data_nascimento                         1966-01-28                1962-05-03   \n",
       "idade                                           55                        58   \n",
       "genero                                   masculino                 masculino   \n",
       "instrucao                 ensino superior completo     ensino medio completo   \n",
       "estado_civil                             casado(a)                 casado(a)   \n",
       "nacionalidade                           brasileira                brasileira   \n",
       "sigla_uf_nascimento                             BA                        CE   \n",
       "municipio_nascimento        Tabocas Do Brejo Velho                   Abaiara   \n",
       "email                        wpcampos01@hotmailcom      espetoesp@hotmailcom   \n",
       "raca                                         parda                     parda   \n",
       "ano_1                                         2020                      2020   \n",
       "turno                                            1                         1   \n",
       "tipo_eleicao_1                   eleicao ordinaria         eleicao ordinaria   \n",
       "sigla_uf_1                                      RO                        RO   \n",
       "id_municipio_1                             1100098                   1100098   \n",
       "id_municipio_tse_1                             256                       256   \n",
       "cargo_1                                   prefeito                  prefeito   \n",
       "sigla_partido_1                               PODE                       DEM   \n",
       "numero_candidato                                19                        25   \n",
       "sequencial_candidato                  220000744274              220001252132   \n",
       "id_candidato_bd_1                           152008                    998799   \n",
       "resultado                                   eleito                nao eleito   \n",
       "votos                                         7829                      2089   \n",
       "decisao_primeiro_turno                           1                         1   \n",
       "total_votos                                  11592                     11592   \n",
       "%votos                                     0.67538                   0.18021   \n",
       "2_lugar                                      False                      True   \n",
       "3_lugar                                      False                     False   \n",
       "dif_votos_2_lugar                         0.495169                  0.495169   \n",
       "dif_votos_3_lugar                          0.53097                   0.53097   \n",
       "dif_votos                                  0.53097                   0.53097   \n",
       "cbo_2002                                    317110                    317110   \n",
       "cnpj_raiz                                 394585.0                 3092697.0   \n",
       "data_adm                                19042005.0                 1021984.0   \n",
       "tenure_rais                                   20.0                     310.0   \n",
       "stem_job                                       1.0                       1.0   \n",
       "tenure                                        41.0                     322.0   \n",
       "max_year                                    2006.0                    2009.0   \n",
       "rdd                                            2.0                       2.0   \n",
       "rdd_stem_won                                     0                         0   \n",
       "date                                    2021-07-01                2021-07-01   \n",
       "state                                           RO                        RO   \n",
       "city                               Espigão D'Oeste           Espigão D'Oeste   \n",
       "\n",
       "                                           24                        30     \\\n",
       "ano                                         2020                      2020   \n",
       "tipo_eleicao                   eleicao ordinaria         eleicao ordinaria   \n",
       "sigla_uf                                      RO                        RO   \n",
       "id_municipio                           1100106.0                 1100122.0   \n",
       "id_municipio_tse                              19                        51   \n",
       "id_candidato_bd                          1336851                    573671   \n",
       "cpf                                  10658785249               72214902287   \n",
       "titulo_eleitoral                        26092330               11554172372   \n",
       "sequencial                          220000751294              220001241045   \n",
       "numero                                        51                        10   \n",
       "nome                       Joao Soares Rodrigues     Jhony Pedro Da Paixão   \n",
       "nome_urna                            Joao Soares              Jhony Paixão   \n",
       "numero_partido                                51                        10   \n",
       "sigla_partido                           PATRIOTA              REPUBLICANOS   \n",
       "cargo                                   prefeito                  prefeito   \n",
       "situacao                                deferido                  deferido   \n",
       "ocupacao                                advogado                  deputado   \n",
       "data_nascimento                       1960-06-08                1982-05-26   \n",
       "idade                                         60                        38   \n",
       "genero                                 masculino                 masculino   \n",
       "instrucao               ensino superior completo  ensino superior completo   \n",
       "estado_civil                           casado(a)               solteiro(a)   \n",
       "nacionalidade                         brasileira                brasileira   \n",
       "sigla_uf_nascimento                           AM                        RO   \n",
       "municipio_nascimento                      Manaus             Pimenta Bueno   \n",
       "email                        joao0806@hotmailcom          prbjipa@gmailcom   \n",
       "raca                                       parda                     parda   \n",
       "ano_1                                       2020                      2020   \n",
       "turno                                          1                         1   \n",
       "tipo_eleicao_1                 eleicao ordinaria         eleicao ordinaria   \n",
       "sigla_uf_1                                    RO                        RO   \n",
       "id_municipio_1                           1100106                   1100122   \n",
       "id_municipio_tse_1                            19                        51   \n",
       "cargo_1                                 prefeito                  prefeito   \n",
       "sigla_partido_1                         PATRIOTA              REPUBLICANOS   \n",
       "numero_candidato                              51                        10   \n",
       "sequencial_candidato                220000751294              220001241045   \n",
       "id_candidato_bd_1                        1336851                    573671   \n",
       "resultado                             nao eleito                nao eleito   \n",
       "votos                                       4284                     11301   \n",
       "decisao_primeiro_turno                         1                         1   \n",
       "total_votos                                18988                     56946   \n",
       "%votos                                  0.225616                  0.198451   \n",
       "2_lugar                                     True                      True   \n",
       "3_lugar                                    False                     False   \n",
       "dif_votos_2_lugar                       0.015325                  0.077231   \n",
       "dif_votos_3_lugar                       0.058563                   0.09207   \n",
       "dif_votos                               0.043238                   0.09207   \n",
       "cbo_2002                                  317110                    317110   \n",
       "cnpj_raiz                               394585.0                  394585.0   \n",
       "data_adm                               1102009.0                24062002.0   \n",
       "tenure_rais                                  2.0                     102.0   \n",
       "stem_job                                     1.0                       1.0   \n",
       "tenure                                       2.0                     108.0   \n",
       "max_year                                  2009.0                    2010.0   \n",
       "rdd                                          1.0                       1.0   \n",
       "rdd_stem_won                                   0                         0   \n",
       "date                                  2021-07-01                2021-07-01   \n",
       "state                                         RO                        RO   \n",
       "city                               Guajará-Mirim                 Ji-Paraná   \n",
       "\n",
       "                        ...                         12736  \\\n",
       "ano                     ...                          2020   \n",
       "tipo_eleicao            ...             eleicao ordinaria   \n",
       "sigla_uf                ...                            GO   \n",
       "id_municipio            ...                     5201207.0   \n",
       "id_municipio_tse        ...                         92231   \n",
       "id_candidato_bd         ...                        730216   \n",
       "cpf                     ...                   85177474100   \n",
       "titulo_eleitoral        ...                   25651891074   \n",
       "sequencial              ...                   90000663864   \n",
       "numero                  ...                            15   \n",
       "nome                    ...      Marcelo Martins De Paiva   \n",
       "nome_urna               ...                 Marcelo Paiva   \n",
       "numero_partido          ...                            15   \n",
       "sigla_partido           ...                           MDB   \n",
       "cargo                   ...                      prefeito   \n",
       "situacao                ...                      deferido   \n",
       "ocupacao                ...                    engenheiro   \n",
       "data_nascimento         ...                    1973-09-05   \n",
       "idade                   ...                            47   \n",
       "genero                  ...                     masculino   \n",
       "instrucao               ...      ensino superior completo   \n",
       "estado_civil            ...                 divorciado(a)   \n",
       "nacionalidade           ...                    brasileira   \n",
       "sigla_uf_nascimento     ...                            MG   \n",
       "municipio_nascimento    ...                      Araguari   \n",
       "email                   ...  abadiapereiradidica@gmailcom   \n",
       "raca                    ...                         parda   \n",
       "ano_1                   ...                          2020   \n",
       "turno                   ...                             1   \n",
       "tipo_eleicao_1          ...             eleicao ordinaria   \n",
       "sigla_uf_1              ...                            GO   \n",
       "id_municipio_1          ...                       5201207   \n",
       "id_municipio_tse_1      ...                         92231   \n",
       "cargo_1                 ...                      prefeito   \n",
       "sigla_partido_1         ...                           MDB   \n",
       "numero_candidato        ...                            15   \n",
       "sequencial_candidato    ...                   90000663864   \n",
       "id_candidato_bd_1       ...                        730216   \n",
       "resultado               ...                        eleito   \n",
       "votos                   ...                           621   \n",
       "decisao_primeiro_turno  ...                             1   \n",
       "total_votos             ...                          1046   \n",
       "%votos                  ...                       0.59369   \n",
       "2_lugar                 ...                         False   \n",
       "3_lugar                 ...                         False   \n",
       "dif_votos_2_lugar       ...                       0.18738   \n",
       "dif_votos_3_lugar       ...                           NaN   \n",
       "dif_votos               ...                       0.18738   \n",
       "cbo_2002                ...                        214205   \n",
       "cnpj_raiz               ...                     3967501.0   \n",
       "data_adm                ...                     1032012.0   \n",
       "tenure_rais             ...                          21.0   \n",
       "stem_job                ...                           1.0   \n",
       "tenure                  ...                          44.0   \n",
       "max_year                ...                        2013.0   \n",
       "rdd                     ...                           1.0   \n",
       "rdd_stem_won            ...                             1   \n",
       "date                    ...                    2021-07-01   \n",
       "state                   ...                            GO   \n",
       "city                    ...                    Anhanguera   \n",
       "\n",
       "                                            12753  \\\n",
       "ano                                          2020   \n",
       "tipo_eleicao                    eleicao ordinaria   \n",
       "sigla_uf                                       GO   \n",
       "id_municipio                            5201801.0   \n",
       "id_municipio_tse                            92355   \n",
       "id_candidato_bd                            362241   \n",
       "cpf                                   00179262114   \n",
       "titulo_eleitoral                      47666521082   \n",
       "sequencial                            90000941714   \n",
       "numero                                         15   \n",
       "nome                       Leo Antonio De Almeida   \n",
       "nome_urna                                  Dr Leo   \n",
       "numero_partido                                 15   \n",
       "sigla_partido                                 MDB   \n",
       "cargo                                    prefeito   \n",
       "situacao                                 deferido   \n",
       "ocupacao                                   medico   \n",
       "data_nascimento                        1984-08-15   \n",
       "idade                                          36   \n",
       "genero                                  masculino   \n",
       "instrucao                ensino superior completo   \n",
       "estado_civil                            casado(a)   \n",
       "nacionalidade                          brasileira   \n",
       "sigla_uf_nascimento                            GO   \n",
       "municipio_nascimento                     Anápolis   \n",
       "email                   carlosottavio9@hotmailcom   \n",
       "raca                                        parda   \n",
       "ano_1                                        2020   \n",
       "turno                                           1   \n",
       "tipo_eleicao_1                  eleicao ordinaria   \n",
       "sigla_uf_1                                     GO   \n",
       "id_municipio_1                            5201801   \n",
       "id_municipio_tse_1                          92355   \n",
       "cargo_1                                  prefeito   \n",
       "sigla_partido_1                               MDB   \n",
       "numero_candidato                               15   \n",
       "sequencial_candidato                  90000941714   \n",
       "id_candidato_bd_1                          362241   \n",
       "resultado                              nao eleito   \n",
       "votos                                        1145   \n",
       "decisao_primeiro_turno                          1   \n",
       "total_votos                                  6640   \n",
       "%votos                                    0.17244   \n",
       "2_lugar                                     False   \n",
       "3_lugar                                      True   \n",
       "dif_votos_2_lugar                        0.059789   \n",
       "dif_votos_3_lugar                        0.175904   \n",
       "dif_votos                                0.116114   \n",
       "cbo_2002                                   221105   \n",
       "cnpj_raiz                              11809185.0   \n",
       "data_adm                                6062013.0   \n",
       "tenure_rais                                  18.0   \n",
       "stem_job                                      1.0   \n",
       "tenure                                       18.0   \n",
       "max_year                                   2014.0   \n",
       "rdd                                           1.0   \n",
       "rdd_stem_won                                    0   \n",
       "date                                   2021-07-01   \n",
       "state                                          GO   \n",
       "city                                   Aragoiânia   \n",
       "\n",
       "                                               12791  \\\n",
       "ano                                             2020   \n",
       "tipo_eleicao                       eleicao ordinaria   \n",
       "sigla_uf                                          GO   \n",
       "id_municipio                               5203906.0   \n",
       "id_municipio_tse                               92770   \n",
       "id_candidato_bd                               460713   \n",
       "cpf                                      62989979620   \n",
       "titulo_eleitoral                         95923490272   \n",
       "sequencial                               90000863092   \n",
       "numero                                            28   \n",
       "nome                           Félix Aparecido Alves   \n",
       "nome_urna                                      Félix   \n",
       "numero_partido                                    28   \n",
       "sigla_partido                                   PRTB   \n",
       "cargo                                       prefeito   \n",
       "situacao                                    deferido   \n",
       "ocupacao                professor de ensino superior   \n",
       "data_nascimento                           1970-07-29   \n",
       "idade                                             50   \n",
       "genero                                     masculino   \n",
       "instrucao                   ensino superior completo   \n",
       "estado_civil                               casado(a)   \n",
       "nacionalidade                             brasileira   \n",
       "sigla_uf_nascimento                               GO   \n",
       "municipio_nascimento                   Buriti Alegre   \n",
       "email                        politicaburiti@gmailcom   \n",
       "raca                                           parda   \n",
       "ano_1                                           2020   \n",
       "turno                                              1   \n",
       "tipo_eleicao_1                     eleicao ordinaria   \n",
       "sigla_uf_1                                        GO   \n",
       "id_municipio_1                               5203906   \n",
       "id_municipio_tse_1                             92770   \n",
       "cargo_1                                     prefeito   \n",
       "sigla_partido_1                                 PRTB   \n",
       "numero_candidato                                  28   \n",
       "sequencial_candidato                     90000863092   \n",
       "id_candidato_bd_1                             460713   \n",
       "resultado                                 nao eleito   \n",
       "votos                                            788   \n",
       "decisao_primeiro_turno                             1   \n",
       "total_votos                                     6059   \n",
       "%votos                                      0.130054   \n",
       "2_lugar                                        False   \n",
       "3_lugar                                         True   \n",
       "dif_votos_2_lugar                           0.247236   \n",
       "dif_votos_3_lugar                           0.404852   \n",
       "dif_votos                                   0.247236   \n",
       "cbo_2002                                      142510   \n",
       "cnpj_raiz                                 23814940.0   \n",
       "data_adm                                  16022000.0   \n",
       "tenure_rais                                    106.0   \n",
       "stem_job                                         1.0   \n",
       "tenure                                         128.0   \n",
       "max_year                                      2008.0   \n",
       "rdd                                              1.0   \n",
       "rdd_stem_won                                       0   \n",
       "date                                      2021-07-01   \n",
       "state                                             GO   \n",
       "city                                   Buriti Alegre   \n",
       "\n",
       "                                                 12833  \\\n",
       "ano                                               2020   \n",
       "tipo_eleicao                         eleicao ordinaria   \n",
       "sigla_uf                                            GO   \n",
       "id_municipio                                 5204904.0   \n",
       "id_municipio_tse                                 92975   \n",
       "id_candidato_bd                                1597316   \n",
       "cpf                                        01064606172   \n",
       "titulo_eleitoral                           29382351015   \n",
       "sequencial                                 90000942932   \n",
       "numero                                              12   \n",
       "nome                    Aurolino Jose Dos Santos Ninha   \n",
       "nome_urna                                        Ninha   \n",
       "numero_partido                                      12   \n",
       "sigla_partido                                      PDT   \n",
       "cargo                                         prefeito   \n",
       "situacao                                      deferido   \n",
       "ocupacao                                    engenheiro   \n",
       "data_nascimento                             1942-08-29   \n",
       "idade                                               78   \n",
       "genero                                       masculino   \n",
       "instrucao                     ensino superior completo   \n",
       "estado_civil                                 casado(a)   \n",
       "nacionalidade                               brasileira   \n",
       "sigla_uf_nascimento                                 GO   \n",
       "municipio_nascimento                      Campos Belos   \n",
       "email                                 elidams@bolcombr   \n",
       "raca                                             parda   \n",
       "ano_1                                             2020   \n",
       "turno                                                1   \n",
       "tipo_eleicao_1                       eleicao ordinaria   \n",
       "sigla_uf_1                                          GO   \n",
       "id_municipio_1                                 5204904   \n",
       "id_municipio_tse_1                               92975   \n",
       "cargo_1                                       prefeito   \n",
       "sigla_partido_1                                    PDT   \n",
       "numero_candidato                                    12   \n",
       "sequencial_candidato                       90000942932   \n",
       "id_candidato_bd_1                              1597316   \n",
       "resultado                                   nao eleito   \n",
       "votos                                             2586   \n",
       "decisao_primeiro_turno                               1   \n",
       "total_votos                                      10455   \n",
       "%votos                                        0.247346   \n",
       "2_lugar                                          False   \n",
       "3_lugar                                           True   \n",
       "dif_votos_2_lugar                             0.081014   \n",
       "dif_votos_3_lugar                             0.143568   \n",
       "dif_votos                                     0.081014   \n",
       "cbo_2002                                        214205   \n",
       "cnpj_raiz                                    1126143.0   \n",
       "data_adm                                     1012009.0   \n",
       "tenure_rais                                       11.0   \n",
       "stem_job                                           1.0   \n",
       "tenure                                            11.0   \n",
       "max_year                                        2009.0   \n",
       "rdd                                                1.0   \n",
       "rdd_stem_won                                         0   \n",
       "date                                        2021-07-01   \n",
       "state                                               GO   \n",
       "city                                      Campos Belos   \n",
       "\n",
       "                                             12910  \\\n",
       "ano                                           2020   \n",
       "tipo_eleicao                     eleicao ordinaria   \n",
       "sigla_uf                                        GO   \n",
       "id_municipio                             5207907.0   \n",
       "id_municipio_tse                             93599   \n",
       "id_candidato_bd                              19859   \n",
       "cpf                                    01375401165   \n",
       "titulo_eleitoral                       47485241082   \n",
       "sequencial                             90000832701   \n",
       "numero                                          25   \n",
       "nome                      Altran Lopes Avelar Nery   \n",
       "nome_urna                            Altran Avelar   \n",
       "numero_partido                                  25   \n",
       "sigla_partido                                  DEM   \n",
       "cargo                                     prefeito   \n",
       "situacao                                  deferido   \n",
       "ocupacao                                engenheiro   \n",
       "data_nascimento                         1985-10-26   \n",
       "idade                                           35   \n",
       "genero                                   masculino   \n",
       "instrucao                 ensino superior completo   \n",
       "estado_civil                           solteiro(a)   \n",
       "nacionalidade                           brasileira   \n",
       "sigla_uf_nascimento                             GO   \n",
       "municipio_nascimento                       Goiânia   \n",
       "email                   eleicoes2020demfg@gmailcom   \n",
       "raca                                         parda   \n",
       "ano_1                                         2020   \n",
       "turno                                            1   \n",
       "tipo_eleicao_1                   eleicao ordinaria   \n",
       "sigla_uf_1                                      GO   \n",
       "id_municipio_1                             5207907   \n",
       "id_municipio_tse_1                           93599   \n",
       "cargo_1                                   prefeito   \n",
       "sigla_partido_1                                DEM   \n",
       "numero_candidato                                25   \n",
       "sequencial_candidato                   90000832701   \n",
       "id_candidato_bd_1                            19859   \n",
       "resultado                                   eleito   \n",
       "votos                                         2078   \n",
       "decisao_primeiro_turno                           1   \n",
       "total_votos                                   5299   \n",
       "%votos                                    0.392149   \n",
       "2_lugar                                      False   \n",
       "3_lugar                                      False   \n",
       "dif_votos_2_lugar                         0.005473   \n",
       "dif_votos_3_lugar                         0.170976   \n",
       "dif_votos                                 0.170976   \n",
       "cbo_2002                                    312305   \n",
       "cnpj_raiz                                8377982.0   \n",
       "data_adm                                16112011.0   \n",
       "tenure_rais                                   13.0   \n",
       "stem_job                                       1.0   \n",
       "tenure                                        13.0   \n",
       "max_year                                    2012.0   \n",
       "rdd                                            1.0   \n",
       "rdd_stem_won                                     1   \n",
       "date                                    2021-07-01   \n",
       "state                                           GO   \n",
       "city                               Flores de Goiás   \n",
       "\n",
       "                                             13095                    13129  \\\n",
       "ano                                           2020                     2020   \n",
       "tipo_eleicao                     eleicao ordinaria        eleicao ordinaria   \n",
       "sigla_uf                                        GO                       GO   \n",
       "id_municipio                             5214879.0                5215801.0   \n",
       "id_municipio_tse                             93084                    95133   \n",
       "id_candidato_bd                              99410                  1674267   \n",
       "cpf                                    01500812196              26828448120   \n",
       "titulo_eleitoral                       50864941074              11708611015   \n",
       "sequencial                             90000798266              90001010782   \n",
       "numero                                          25                       11   \n",
       "nome                      Valcilei Antonio Vicente  Eladir De Paula Ribeiro   \n",
       "nome_urna                                 Valcilei                     Didi   \n",
       "numero_partido                                  25                       11   \n",
       "sigla_partido                                  DEM                       PP   \n",
       "cargo                                     prefeito                 prefeito   \n",
       "situacao                                  deferido                 deferido   \n",
       "ocupacao                servidor publico municipal                 prefeito   \n",
       "data_nascimento                         1985-01-18               1961-05-29   \n",
       "idade                                           36                       59   \n",
       "genero                                   masculino                masculino   \n",
       "instrucao                    ensino medio completo    ensino medio completo   \n",
       "estado_civil                             casado(a)              solteiro(a)   \n",
       "nacionalidade                           brasileira               brasileira   \n",
       "sigla_uf_nascimento                             GO                       GO   \n",
       "municipio_nascimento                        Uruaçu                  Palmelo   \n",
       "email                    macenacontabil@hotmailcom   pppalmelo2020@gmailcom   \n",
       "raca                                         parda                   branca   \n",
       "ano_1                                         2020                     2020   \n",
       "turno                                            1                        1   \n",
       "tipo_eleicao_1                   eleicao ordinaria        eleicao ordinaria   \n",
       "sigla_uf_1                                      GO                       GO   \n",
       "id_municipio_1                             5214879                  5215801   \n",
       "id_municipio_tse_1                           93084                    95133   \n",
       "cargo_1                                   prefeito                 prefeito   \n",
       "sigla_partido_1                                DEM                       PP   \n",
       "numero_candidato                                25                       11   \n",
       "sequencial_candidato                   90000798266              90001010782   \n",
       "id_candidato_bd_1                            99410                  1674267   \n",
       "resultado                               nao eleito               nao eleito   \n",
       "votos                                          210                      914   \n",
       "decisao_primeiro_turno                           1                        1   \n",
       "total_votos                                   2506                     1890   \n",
       "%votos                                    0.083799                 0.483598   \n",
       "2_lugar                                      False                     True   \n",
       "3_lugar                                       True                    False   \n",
       "dif_votos_2_lugar                         0.083799                 0.032804   \n",
       "dif_votos_3_lugar                         0.416201                      NaN   \n",
       "dif_votos                                 0.083799                 0.032804   \n",
       "cbo_2002                                    318510                   312210   \n",
       "cnpj_raiz                               33331661.0                1616929.0   \n",
       "data_adm                                 1082007.0                2071984.0   \n",
       "tenure_rais                                  136.0                    413.0   \n",
       "stem_job                                       1.0                      1.0   \n",
       "tenure                                        60.0                    413.0   \n",
       "max_year                                    2018.0                   2018.0   \n",
       "rdd                                            1.0                      1.0   \n",
       "rdd_stem_won                                     0                        0   \n",
       "date                                    2021-07-01               2021-07-01   \n",
       "state                                           GO                       GO   \n",
       "city                          Nova Iguaçu de Goiás                  Palmelo   \n",
       "\n",
       "                                                    13143  \\\n",
       "ano                                                  2020   \n",
       "tipo_eleicao                            eleicao ordinaria   \n",
       "sigla_uf                                               GO   \n",
       "id_municipio                                    5216809.0   \n",
       "id_municipio_tse                                    95311   \n",
       "id_candidato_bd                                    891749   \n",
       "cpf                                           99747820153   \n",
       "titulo_eleitoral                              44671431015   \n",
       "sequencial                                    90001116808   \n",
       "numero                                                 17   \n",
       "nome                               Tiago Pacheco De Jesus   \n",
       "nome_urna                                  Tiago Contador   \n",
       "numero_partido                                         17   \n",
       "sigla_partido                                         PSL   \n",
       "cargo                                            prefeito   \n",
       "situacao                                         deferido   \n",
       "ocupacao                                         contador   \n",
       "data_nascimento                                1984-07-28   \n",
       "idade                                                  36   \n",
       "genero                                          masculino   \n",
       "instrucao                        ensino superior completo   \n",
       "estado_civil                                    casado(a)   \n",
       "nacionalidade                                  brasileira   \n",
       "sigla_uf_nascimento                                    GO   \n",
       "municipio_nascimento                             Anápolis   \n",
       "email                   tiagopacheco@contadorconsultorcom   \n",
       "raca                                                parda   \n",
       "ano_1                                                2020   \n",
       "turno                                                   1   \n",
       "tipo_eleicao_1                          eleicao ordinaria   \n",
       "sigla_uf_1                                             GO   \n",
       "id_municipio_1                                    5216809   \n",
       "id_municipio_tse_1                                  95311   \n",
       "cargo_1                                          prefeito   \n",
       "sigla_partido_1                                       PSL   \n",
       "numero_candidato                                       17   \n",
       "sequencial_candidato                          90001116808   \n",
       "id_candidato_bd_1                                  891749   \n",
       "resultado                                          eleito   \n",
       "votos                                                3288   \n",
       "decisao_primeiro_turno                                  1   \n",
       "total_votos                                          5736   \n",
       "%votos                                           0.573222   \n",
       "2_lugar                                             False   \n",
       "3_lugar                                             False   \n",
       "dif_votos_2_lugar                                0.146444   \n",
       "dif_votos_3_lugar                                     NaN   \n",
       "dif_votos                                        0.146444   \n",
       "cbo_2002                                           141305   \n",
       "cnpj_raiz                                       5859757.0   \n",
       "data_adm                                        1122008.0   \n",
       "tenure_rais                                          12.0   \n",
       "stem_job                                              1.0   \n",
       "tenure                                               12.0   \n",
       "max_year                                           2009.0   \n",
       "rdd                                                   1.0   \n",
       "rdd_stem_won                                            1   \n",
       "date                                           2021-07-01   \n",
       "state                                                  GO   \n",
       "city                                   Petrolina de Goiás   \n",
       "\n",
       "                                             13187  \\\n",
       "ano                                           2020   \n",
       "tipo_eleicao                     eleicao ordinaria   \n",
       "sigla_uf                                        GO   \n",
       "id_municipio                             5218789.0   \n",
       "id_municipio_tse                             92827   \n",
       "id_candidato_bd                             780203   \n",
       "cpf                                    89695429149   \n",
       "titulo_eleitoral                       35424991007   \n",
       "sequencial                             90000761530   \n",
       "numero                                          77   \n",
       "nome                    Ana Paula Lima De Oliveira   \n",
       "nome_urna                                Ana Paula   \n",
       "numero_partido                                  77   \n",
       "sigla_partido                        SOLIDARIEDADE   \n",
       "cargo                                     prefeito   \n",
       "situacao                                  deferido   \n",
       "ocupacao                      jornalista e redator   \n",
       "data_nascimento                         1977-10-19   \n",
       "idade                                           43   \n",
       "genero                                    feminino   \n",
       "instrucao                 ensino superior completo   \n",
       "estado_civil                             casado(a)   \n",
       "nacionalidade                           brasileira   \n",
       "sigla_uf_nascimento                             GO   \n",
       "municipio_nascimento                     Rubiataba   \n",
       "email                   poramorarioquente@gmailcom   \n",
       "raca                                        branca   \n",
       "ano_1                                         2020   \n",
       "turno                                            1   \n",
       "tipo_eleicao_1                   eleicao ordinaria   \n",
       "sigla_uf_1                                      GO   \n",
       "id_municipio_1                             5218789   \n",
       "id_municipio_tse_1                           92827   \n",
       "cargo_1                                   prefeito   \n",
       "sigla_partido_1                      SOLIDARIEDADE   \n",
       "numero_candidato                                77   \n",
       "sequencial_candidato                   90000761530   \n",
       "id_candidato_bd_1                           780203   \n",
       "resultado                                   eleito   \n",
       "votos                                         1099   \n",
       "decisao_primeiro_turno                           1   \n",
       "total_votos                                   2521   \n",
       "%votos                                    0.435938   \n",
       "2_lugar                                      False   \n",
       "3_lugar                                      False   \n",
       "dif_votos_2_lugar                          0.13804   \n",
       "dif_votos_3_lugar                         0.169774   \n",
       "dif_votos                                 0.169774   \n",
       "cbo_2002                                    212410   \n",
       "cnpj_raiz                               24852675.0   \n",
       "data_adm                                 4052007.0   \n",
       "tenure_rais                                  139.0   \n",
       "stem_job                                       1.0   \n",
       "tenure                                        24.0   \n",
       "max_year                                    2018.0   \n",
       "rdd                                            1.0   \n",
       "rdd_stem_won                                     1   \n",
       "date                                    2021-07-01   \n",
       "state                                           GO   \n",
       "city                                    Rio Quente   \n",
       "\n",
       "                                                   13273  \n",
       "ano                                                 2020  \n",
       "tipo_eleicao                           eleicao ordinaria  \n",
       "sigla_uf                                              GO  \n",
       "id_municipio                                   5221197.0  \n",
       "id_municipio_tse                                   93220  \n",
       "id_candidato_bd                                  1783936  \n",
       "cpf                                          32050666187  \n",
       "titulo_eleitoral                             21278121015  \n",
       "sequencial                                   90000802242  \n",
       "numero                                                11  \n",
       "nome                                        Ricardo Yano  \n",
       "nome_urna                                   Ricardo Yano  \n",
       "numero_partido                                        11  \n",
       "sigla_partido                                         PP  \n",
       "cargo                                           prefeito  \n",
       "situacao                                        deferido  \n",
       "ocupacao                                      engenheiro  \n",
       "data_nascimento                               1964-11-07  \n",
       "idade                                                 56  \n",
       "genero                                         masculino  \n",
       "instrucao                       ensino superior completo  \n",
       "estado_civil                                   casado(a)  \n",
       "nacionalidade                                 brasileira  \n",
       "sigla_uf_nascimento                                   GO  \n",
       "municipio_nascimento                             Goiânia  \n",
       "email                   campanhaterezopolisyano@gmailcom  \n",
       "raca                                               parda  \n",
       "ano_1                                               2020  \n",
       "turno                                                  1  \n",
       "tipo_eleicao_1                         eleicao ordinaria  \n",
       "sigla_uf_1                                            GO  \n",
       "id_municipio_1                                   5221197  \n",
       "id_municipio_tse_1                                 93220  \n",
       "cargo_1                                         prefeito  \n",
       "sigla_partido_1                                       PP  \n",
       "numero_candidato                                      11  \n",
       "sequencial_candidato                         90000802242  \n",
       "id_candidato_bd_1                                1783936  \n",
       "resultado                                     nao eleito  \n",
       "votos                                               2203  \n",
       "decisao_primeiro_turno                                 1  \n",
       "total_votos                                         5195  \n",
       "%votos                                          0.424062  \n",
       "2_lugar                                             True  \n",
       "3_lugar                                            False  \n",
       "dif_votos_2_lugar                                0.14591  \n",
       "dif_votos_3_lugar                               0.564004  \n",
       "dif_votos                                       0.564004  \n",
       "cbo_2002                                          214205  \n",
       "cnpj_raiz                                      1540350.0  \n",
       "data_adm                                       3071989.0  \n",
       "tenure_rais                                        257.0  \n",
       "stem_job                                             1.0  \n",
       "tenure                                             257.0  \n",
       "max_year                                          2010.0  \n",
       "rdd                                                  1.0  \n",
       "rdd_stem_won                                           0  \n",
       "date                                          2021-07-01  \n",
       "state                                                 GO  \n",
       "city                                Terezópolis de Goiás  \n",
       "\n",
       "[60 rows x 510 columns]"
      ]
     },
     "execution_count": 157,
     "metadata": {},
     "output_type": "execute_result"
    }
   ],
   "source": [
    "df.query(\"stem_job == 1\").T.head(60)"
   ]
  },
  {
   "cell_type": "code",
   "execution_count": 158,
   "metadata": {},
   "outputs": [
    {
     "data": {
      "text/html": [
       "<div>\n",
       "<style scoped>\n",
       "    .dataframe tbody tr th:only-of-type {\n",
       "        vertical-align: middle;\n",
       "    }\n",
       "\n",
       "    .dataframe tbody tr th {\n",
       "        vertical-align: top;\n",
       "    }\n",
       "\n",
       "    .dataframe thead th {\n",
       "        text-align: right;\n",
       "    }\n",
       "</style>\n",
       "<table border=\"1\" class=\"dataframe\">\n",
       "  <thead>\n",
       "    <tr style=\"text-align: right;\">\n",
       "      <th></th>\n",
       "      <th>cpf</th>\n",
       "      <th>cbo_2002</th>\n",
       "      <th>cnpj_raiz</th>\n",
       "      <th>data_adm</th>\n",
       "      <th>count</th>\n",
       "      <th>tenure</th>\n",
       "      <th>Ano</th>\n",
       "      <th>first_year</th>\n",
       "      <th>first_job</th>\n",
       "      <th>previous_tenure</th>\n",
       "      <th>tenure_job</th>\n",
       "      <th>stem_job</th>\n",
       "      <th>total_tenure</th>\n",
       "    </tr>\n",
       "  </thead>\n",
       "  <tbody>\n",
       "    <tr>\n",
       "      <th>16980</th>\n",
       "      <td>46645632134</td>\n",
       "      <td>234730</td>\n",
       "      <td>34075739</td>\n",
       "      <td>1022005</td>\n",
       "      <td>1</td>\n",
       "      <td>10</td>\n",
       "      <td>2005</td>\n",
       "      <td>2005</td>\n",
       "      <td>True</td>\n",
       "      <td>0.0</td>\n",
       "      <td>10.0</td>\n",
       "      <td>0</td>\n",
       "      <td>360.0</td>\n",
       "    </tr>\n",
       "    <tr>\n",
       "      <th>16981</th>\n",
       "      <td>46645632134</td>\n",
       "      <td>241005</td>\n",
       "      <td>3979390</td>\n",
       "      <td>1061986</td>\n",
       "      <td>5</td>\n",
       "      <td>270</td>\n",
       "      <td>2008</td>\n",
       "      <td>2008</td>\n",
       "      <td>True</td>\n",
       "      <td>0.0</td>\n",
       "      <td>270.0</td>\n",
       "      <td>0</td>\n",
       "      <td>360.0</td>\n",
       "    </tr>\n",
       "    <tr>\n",
       "      <th>16977</th>\n",
       "      <td>46645632134</td>\n",
       "      <td>234105</td>\n",
       "      <td>3226149</td>\n",
       "      <td>4092001</td>\n",
       "      <td>5</td>\n",
       "      <td>87</td>\n",
       "      <td>2008</td>\n",
       "      <td>2008</td>\n",
       "      <td>True</td>\n",
       "      <td>0.0</td>\n",
       "      <td>87.0</td>\n",
       "      <td>1</td>\n",
       "      <td>121.0</td>\n",
       "    </tr>\n",
       "    <tr>\n",
       "      <th>16979</th>\n",
       "      <td>46645632134</td>\n",
       "      <td>234705</td>\n",
       "      <td>6099229</td>\n",
       "      <td>1032006</td>\n",
       "      <td>5</td>\n",
       "      <td>57</td>\n",
       "      <td>2010</td>\n",
       "      <td>2010</td>\n",
       "      <td>True</td>\n",
       "      <td>0.0</td>\n",
       "      <td>57.0</td>\n",
       "      <td>0</td>\n",
       "      <td>360.0</td>\n",
       "    </tr>\n",
       "    <tr>\n",
       "      <th>16978</th>\n",
       "      <td>46645632134</td>\n",
       "      <td>234105</td>\n",
       "      <td>34075739</td>\n",
       "      <td>1022008</td>\n",
       "      <td>3</td>\n",
       "      <td>34</td>\n",
       "      <td>2010</td>\n",
       "      <td>2010</td>\n",
       "      <td>True</td>\n",
       "      <td>0.0</td>\n",
       "      <td>34.0</td>\n",
       "      <td>1</td>\n",
       "      <td>121.0</td>\n",
       "    </tr>\n",
       "    <tr>\n",
       "      <th>16976</th>\n",
       "      <td>46645632134</td>\n",
       "      <td>111415</td>\n",
       "      <td>3501509</td>\n",
       "      <td>1012017</td>\n",
       "      <td>2</td>\n",
       "      <td>23</td>\n",
       "      <td>2018</td>\n",
       "      <td>2018</td>\n",
       "      <td>True</td>\n",
       "      <td>0.0</td>\n",
       "      <td>23.0</td>\n",
       "      <td>0</td>\n",
       "      <td>360.0</td>\n",
       "    </tr>\n",
       "  </tbody>\n",
       "</table>\n",
       "</div>"
      ],
      "text/plain": [
       "               cpf cbo_2002  cnpj_raiz  data_adm  count  tenure   Ano  \\\n",
       "16980  46645632134   234730   34075739   1022005      1      10  2005   \n",
       "16981  46645632134   241005    3979390   1061986      5     270  2008   \n",
       "16977  46645632134   234105    3226149   4092001      5      87  2008   \n",
       "16979  46645632134   234705    6099229   1032006      5      57  2010   \n",
       "16978  46645632134   234105   34075739   1022008      3      34  2010   \n",
       "16976  46645632134   111415    3501509   1012017      2      23  2018   \n",
       "\n",
       "       first_year  first_job  previous_tenure  tenure_job  stem_job  \\\n",
       "16980        2005       True              0.0        10.0         0   \n",
       "16981        2008       True              0.0       270.0         0   \n",
       "16977        2008       True              0.0        87.0         1   \n",
       "16979        2010       True              0.0        57.0         0   \n",
       "16978        2010       True              0.0        34.0         1   \n",
       "16976        2018       True              0.0        23.0         0   \n",
       "\n",
       "       total_tenure  \n",
       "16980         360.0  \n",
       "16981         360.0  \n",
       "16977         121.0  \n",
       "16979         360.0  \n",
       "16978         121.0  \n",
       "16976         360.0  "
      ]
     },
     "execution_count": 158,
     "metadata": {},
     "output_type": "execute_result"
    }
   ],
   "source": [
    "df_tenure.query(\"cpf == '46645632134'\")"
   ]
  }
 ],
 "metadata": {
  "kernelspec": {
   "display_name": "Python 3 (ipykernel)",
   "language": "python",
   "name": "python3"
  },
  "language_info": {
   "codemirror_mode": {
    "name": "ipython",
    "version": 3
   },
   "file_extension": ".py",
   "mimetype": "text/x-python",
   "name": "python",
   "nbconvert_exporter": "python",
   "pygments_lexer": "ipython3",
   "version": "3.9.12"
  }
 },
 "nbformat": 4,
 "nbformat_minor": 4
}
