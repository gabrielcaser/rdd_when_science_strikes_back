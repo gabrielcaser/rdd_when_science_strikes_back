{
 "cells": [
  {
   "cell_type": "markdown",
   "metadata": {},
   "source": [
    "# Descrição do programa"
   ]
  },
  {
   "cell_type": "markdown",
   "metadata": {},
   "source": [
    "- Esse programa baixa dados eleitorais de 2020 e cria variável eleitorais a nível de candidatos"
   ]
  },
  {
   "cell_type": "markdown",
   "metadata": {},
   "source": [
    "# TODO"
   ]
  },
  {
   "cell_type": "markdown",
   "metadata": {},
   "source": [
    "- Ajeitar o 3 lugar. Quando só ha 2 candidatos, acho que a diferença do 3 lugar está ficando 0"
   ]
  },
  {
   "cell_type": "markdown",
   "metadata": {},
   "source": [
    "# Configurando o ambiente"
   ]
  },
  {
   "cell_type": "code",
   "execution_count": 3,
   "metadata": {},
   "outputs": [],
   "source": [
    "import pandas as pd\n",
    "import numpy as np\n",
    "import basedosdados as bd\n",
    "\n",
    "work_dir   = \"C:/Users/gabri/OneDrive/Gabriel/Insper/Tese/Engenheiros/replication_code/1_create_electoral_data/\"\n",
    "output_dir = \"C:/Users/gabri/OneDrive/Gabriel/Insper/Tese/Engenheiros/replication_code/1_create_electoral_data/output/\""
   ]
  },
  {
   "cell_type": "markdown",
   "metadata": {},
   "source": [
    "# Procurando candidatos eleitos na BD+"
   ]
  },
  {
   "cell_type": "code",
   "execution_count": 4,
   "metadata": {},
   "outputs": [
    {
     "name": "stderr",
     "output_type": "stream",
     "text": [
      "\n",
      "Downloading:   0%|                                                                         | 0/17984 [00:00<?, ?rows/s]\u001b[A\n",
      "Downloading: 100%|███████████████████████████████████████████████████████████| 17984/17984 [00:13<00:00, 1313.57rows/s]\u001b[A\n"
     ]
    }
   ],
   "source": [
    "query = \"\"\" SELECT\n",
    "                *         \n",
    "            FROM `basedosdados.br_tse_eleicoes.candidatos` candidatos\n",
    "            INNER JOIN `basedosdados.br_tse_eleicoes.resultados_candidato` resultados\n",
    "            ON candidatos.id_candidato_bd = resultados.id_candidato_bd\n",
    "            WHERE candidatos.cargo = 'prefeito'\n",
    "            AND resultados.cargo = 'prefeito'\n",
    "            AND resultados.tipo_eleicao = 'eleicao ordinaria'\n",
    "            AND candidatos.tipo_eleicao = 'eleicao ordinaria'\n",
    "            AND resultados.turno = 1\n",
    "            AND (resultados.ano = 2020)\n",
    "            AND (candidatos.ano = 2020) \"\"\"\n",
    "\n",
    "df_candidatos = bd.read_sql(query, billing_project_id= \"econometria-314719\")"
   ]
  },
  {
   "cell_type": "markdown",
   "metadata": {},
   "source": [
    "### salvando"
   ]
  },
  {
   "cell_type": "code",
   "execution_count": 5,
   "metadata": {},
   "outputs": [],
   "source": [
    "df_candidatos.to_csv(output_dir + 'data/df_candidatos_2020.csv', sep = \";\", index = False, encoding = \"utf-8-sig\")"
   ]
  },
  {
   "cell_type": "markdown",
   "metadata": {},
   "source": [
    "### abrindo"
   ]
  },
  {
   "cell_type": "code",
   "execution_count": 6,
   "metadata": {
    "scrolled": true
   },
   "outputs": [],
   "source": [
    "#df_candidatos = pd.read_csv(output_dir + \"data/df_candidatos.csv\", sep = \";\", dtype = {\"id_municipio\": str, \"id_municipio_tse\": str, \"id_candidato_bd\": str, \"cpf\": str})"
   ]
  },
  {
   "cell_type": "code",
   "execution_count": 7,
   "metadata": {},
   "outputs": [
    {
     "data": {
      "text/plain": [
       "17984"
      ]
     },
     "execution_count": 7,
     "metadata": {},
     "output_type": "execute_result"
    }
   ],
   "source": [
    "len(df_candidatos)"
   ]
  },
  {
   "cell_type": "code",
   "execution_count": 8,
   "metadata": {},
   "outputs": [
    {
     "data": {
      "text/plain": [
       "5552"
      ]
     },
     "execution_count": 8,
     "metadata": {},
     "output_type": "execute_result"
    }
   ],
   "source": [
    "len(df_candidatos[\"id_municipio\"].unique())"
   ]
  },
  {
   "cell_type": "markdown",
   "metadata": {},
   "source": [
    "- Ou seja, dos 5568 municípios brasileiros, apenas 16 não tiveram eleições ordinárias"
   ]
  },
  {
   "cell_type": "markdown",
   "metadata": {},
   "source": [
    "### Excluindo municípios com apenas 1 candidato"
   ]
  },
  {
   "cell_type": "code",
   "execution_count": 9,
   "metadata": {},
   "outputs": [],
   "source": [
    "df_candidatos['n_candidatos'] = df_candidatos.groupby(['id_municipio'])['id_municipio'].transform('count')"
   ]
  },
  {
   "cell_type": "code",
   "execution_count": 10,
   "metadata": {},
   "outputs": [],
   "source": [
    "df_candidatos = df_candidatos[df_candidatos['n_candidatos'] > 1] "
   ]
  },
  {
   "cell_type": "code",
   "execution_count": 11,
   "metadata": {},
   "outputs": [
    {
     "data": {
      "text/plain": [
       "5341"
      ]
     },
     "execution_count": 11,
     "metadata": {},
     "output_type": "execute_result"
    }
   ],
   "source": [
    "len(df_candidatos[df_candidatos[\"ano\"] == 2020][\"id_municipio\"].unique())"
   ]
  },
  {
   "cell_type": "markdown",
   "metadata": {},
   "source": [
    "- Ou seja, em torno de 211 municípios só tinham 1 candidato"
   ]
  },
  {
   "cell_type": "markdown",
   "metadata": {},
   "source": [
    "### Mantendo apenas municípios onde candidato foi eleito no primeiro turno"
   ]
  },
  {
   "cell_type": "code",
   "execution_count": 12,
   "metadata": {},
   "outputs": [],
   "source": [
    "df_candidatos[\"decisao_primeiro_turno\"] = df_candidatos[\"resultado\"] == 'eleito'"
   ]
  },
  {
   "cell_type": "code",
   "execution_count": 13,
   "metadata": {},
   "outputs": [],
   "source": [
    "df_candidatos[\"decisao_primeiro_turno\"] = df_candidatos.groupby(['id_municipio']).decisao_primeiro_turno.transform('sum')"
   ]
  },
  {
   "cell_type": "code",
   "execution_count": 14,
   "metadata": {},
   "outputs": [],
   "source": [
    "df_candidatos = df_candidatos[df_candidatos[\"decisao_primeiro_turno\"] == 1]"
   ]
  },
  {
   "cell_type": "code",
   "execution_count": 15,
   "metadata": {},
   "outputs": [
    {
     "data": {
      "text/plain": [
       "nao eleito    11824\n",
       "eleito         5236\n",
       "Name: resultado, dtype: int64"
      ]
     },
     "execution_count": 15,
     "metadata": {},
     "output_type": "execute_result"
    }
   ],
   "source": [
    "df_candidatos.resultado.value_counts()"
   ]
  },
  {
   "cell_type": "code",
   "execution_count": 16,
   "metadata": {},
   "outputs": [
    {
     "data": {
      "text/plain": [
       "5236"
      ]
     },
     "execution_count": 16,
     "metadata": {},
     "output_type": "execute_result"
    }
   ],
   "source": [
    "len(df_candidatos[\"id_municipio\"].unique())"
   ]
  },
  {
   "cell_type": "markdown",
   "metadata": {},
   "source": [
    "- Ou seja, em torno de 105 municípios não tiveram decisão no 1 turno"
   ]
  },
  {
   "cell_type": "markdown",
   "metadata": {},
   "source": [
    "### Criando variável de percentual de votos por candidato"
   ]
  },
  {
   "cell_type": "code",
   "execution_count": 17,
   "metadata": {},
   "outputs": [],
   "source": [
    "df_candidatos[\"total_votos\"] = df_candidatos.groupby(['id_municipio']).votos.transform('sum')"
   ]
  },
  {
   "cell_type": "code",
   "execution_count": 18,
   "metadata": {},
   "outputs": [],
   "source": [
    "df_candidatos[\"%votos\"] = (df_candidatos.votos / df_candidatos.total_votos)"
   ]
  },
  {
   "cell_type": "markdown",
   "metadata": {},
   "source": [
    "### Criando variável para segundo lugar"
   ]
  },
  {
   "cell_type": "code",
   "execution_count": 19,
   "metadata": {},
   "outputs": [],
   "source": [
    "df_candidatos[\"2_lugar\"] = df_candidatos[df_candidatos[\"resultado\"] == 'nao eleito'].groupby(['id_municipio']).votos.transform('max')"
   ]
  },
  {
   "cell_type": "code",
   "execution_count": 20,
   "metadata": {},
   "outputs": [],
   "source": [
    "df_candidatos[\"2_lugar\"] = df_candidatos.votos == df_candidatos[\"2_lugar\"]"
   ]
  },
  {
   "cell_type": "markdown",
   "metadata": {},
   "source": [
    "### Criando variável para terceiro lugar"
   ]
  },
  {
   "cell_type": "code",
   "execution_count": 21,
   "metadata": {},
   "outputs": [],
   "source": [
    "df_candidatos[\"3_lugar\"] = df_candidatos[(df_candidatos[\"resultado\"] == 'nao eleito') & (df_candidatos[\"2_lugar\"] == False)].groupby(['id_municipio', 'ano']).votos.transform('max')"
   ]
  },
  {
   "cell_type": "code",
   "execution_count": 22,
   "metadata": {},
   "outputs": [],
   "source": [
    "df_candidatos[\"3_lugar\"] = df_candidatos.votos == df_candidatos[\"3_lugar\"]"
   ]
  },
  {
   "cell_type": "markdown",
   "metadata": {},
   "source": [
    "### Mantendo apenas o eleito, o segundo e o terceiro lugar"
   ]
  },
  {
   "cell_type": "code",
   "execution_count": 23,
   "metadata": {},
   "outputs": [],
   "source": [
    "df_candidatos = df_candidatos[(df_candidatos[\"resultado\"] == 'eleito') | (df_candidatos[\"2_lugar\"] == True) | (df_candidatos[\"3_lugar\"] == True)]"
   ]
  },
  {
   "cell_type": "markdown",
   "metadata": {},
   "source": [
    "### Criando variável de diferença entre primeiro e segundo candidatos e entre primeiro e terceiro candidatos"
   ]
  },
  {
   "cell_type": "code",
   "execution_count": 24,
   "metadata": {},
   "outputs": [],
   "source": [
    "dif_segundo = pd.DataFrame(df_candidatos.groupby(['id_municipio'])['%votos'].apply(lambda x: x.nlargest(2).iloc[0] - x.nlargest(2).iloc[-1])).reset_index()"
   ]
  },
  {
   "cell_type": "code",
   "execution_count": 25,
   "metadata": {},
   "outputs": [],
   "source": [
    "dif_segundo = dif_segundo.rename(columns = {\"%votos\": \"dif_votos_2_lugar\"})"
   ]
  },
  {
   "cell_type": "code",
   "execution_count": 26,
   "metadata": {},
   "outputs": [],
   "source": [
    "df_candidatos = pd.merge(df_candidatos, dif_segundo, how = \"outer\", on = \"id_municipio\", indicator = True)"
   ]
  },
  {
   "cell_type": "code",
   "execution_count": 27,
   "metadata": {},
   "outputs": [
    {
     "data": {
      "text/plain": [
       "both          13585\n",
       "left_only         0\n",
       "right_only        0\n",
       "Name: _merge, dtype: int64"
      ]
     },
     "execution_count": 27,
     "metadata": {},
     "output_type": "execute_result"
    }
   ],
   "source": [
    "df_candidatos._merge.value_counts()"
   ]
  },
  {
   "cell_type": "code",
   "execution_count": 28,
   "metadata": {},
   "outputs": [],
   "source": [
    "df_candidatos = df_candidatos.drop(columns = \"_merge\")"
   ]
  },
  {
   "cell_type": "code",
   "execution_count": 29,
   "metadata": {},
   "outputs": [],
   "source": [
    "dif_terceiros = pd.DataFrame(df_candidatos.groupby(\"id_municipio\")['%votos'].apply(lambda x: x.nlargest(3).iloc[0] - x.nlargest(3).iloc[-1])).reset_index()"
   ]
  },
  {
   "cell_type": "code",
   "execution_count": 30,
   "metadata": {},
   "outputs": [],
   "source": [
    "dif_terceiros = dif_terceiros.rename(columns = {\"%votos\": \"dif_votos_3_lugar\"})"
   ]
  },
  {
   "cell_type": "code",
   "execution_count": 31,
   "metadata": {},
   "outputs": [],
   "source": [
    "df_candidatos = pd.merge(df_candidatos, dif_terceiros, how = \"outer\", on = \"id_municipio\", indicator = True)"
   ]
  },
  {
   "cell_type": "code",
   "execution_count": 32,
   "metadata": {},
   "outputs": [
    {
     "data": {
      "text/plain": [
       "both          13585\n",
       "left_only         0\n",
       "right_only        0\n",
       "Name: _merge, dtype: int64"
      ]
     },
     "execution_count": 32,
     "metadata": {},
     "output_type": "execute_result"
    }
   ],
   "source": [
    "df_candidatos._merge.value_counts()"
   ]
  },
  {
   "cell_type": "code",
   "execution_count": 33,
   "metadata": {},
   "outputs": [
    {
     "data": {
      "text/html": [
       "<div>\n",
       "<style scoped>\n",
       "    .dataframe tbody tr th:only-of-type {\n",
       "        vertical-align: middle;\n",
       "    }\n",
       "\n",
       "    .dataframe tbody tr th {\n",
       "        vertical-align: top;\n",
       "    }\n",
       "\n",
       "    .dataframe thead th {\n",
       "        text-align: right;\n",
       "    }\n",
       "</style>\n",
       "<table border=\"1\" class=\"dataframe\">\n",
       "  <thead>\n",
       "    <tr style=\"text-align: right;\">\n",
       "      <th></th>\n",
       "      <th>ano</th>\n",
       "      <th>idade</th>\n",
       "      <th>ano_1</th>\n",
       "      <th>turno</th>\n",
       "      <th>votos</th>\n",
       "      <th>n_candidatos</th>\n",
       "      <th>decisao_primeiro_turno</th>\n",
       "      <th>total_votos</th>\n",
       "      <th>%votos</th>\n",
       "      <th>dif_votos_2_lugar</th>\n",
       "      <th>dif_votos_3_lugar</th>\n",
       "    </tr>\n",
       "  </thead>\n",
       "  <tbody>\n",
       "    <tr>\n",
       "      <th>count</th>\n",
       "      <td>13585.0</td>\n",
       "      <td>13585.000000</td>\n",
       "      <td>13585.0</td>\n",
       "      <td>13585.0</td>\n",
       "      <td>13585.000000</td>\n",
       "      <td>13585.000000</td>\n",
       "      <td>13585.0</td>\n",
       "      <td>1.358500e+04</td>\n",
       "      <td>13585.000000</td>\n",
       "      <td>13585.000000</td>\n",
       "      <td>13585.000000</td>\n",
       "    </tr>\n",
       "    <tr>\n",
       "      <th>mean</th>\n",
       "      <td>2020.0</td>\n",
       "      <td>49.763563</td>\n",
       "      <td>2020.0</td>\n",
       "      <td>1.0</td>\n",
       "      <td>5190.512256</td>\n",
       "      <td>3.454987</td>\n",
       "      <td>1.0</td>\n",
       "      <td>1.559556e+04</td>\n",
       "      <td>0.376330</td>\n",
       "      <td>0.178352</td>\n",
       "      <td>0.332882</td>\n",
       "    </tr>\n",
       "    <tr>\n",
       "      <th>std</th>\n",
       "      <td>0.0</td>\n",
       "      <td>11.006271</td>\n",
       "      <td>0.0</td>\n",
       "      <td>0.0</td>\n",
       "      <td>14869.736310</td>\n",
       "      <td>1.639219</td>\n",
       "      <td>0.0</td>\n",
       "      <td>3.855184e+04</td>\n",
       "      <td>0.192395</td>\n",
       "      <td>0.171953</td>\n",
       "      <td>0.201757</td>\n",
       "    </tr>\n",
       "    <tr>\n",
       "      <th>min</th>\n",
       "      <td>2020.0</td>\n",
       "      <td>21.000000</td>\n",
       "      <td>2020.0</td>\n",
       "      <td>1.0</td>\n",
       "      <td>2.000000</td>\n",
       "      <td>2.000000</td>\n",
       "      <td>1.0</td>\n",
       "      <td>6.160000e+02</td>\n",
       "      <td>0.000252</td>\n",
       "      <td>0.000000</td>\n",
       "      <td>0.000000</td>\n",
       "    </tr>\n",
       "    <tr>\n",
       "      <th>25%</th>\n",
       "      <td>2020.0</td>\n",
       "      <td>42.000000</td>\n",
       "      <td>2020.0</td>\n",
       "      <td>1.0</td>\n",
       "      <td>1260.000000</td>\n",
       "      <td>2.000000</td>\n",
       "      <td>1.0</td>\n",
       "      <td>4.075000e+03</td>\n",
       "      <td>0.238779</td>\n",
       "      <td>0.056080</td>\n",
       "      <td>0.156284</td>\n",
       "    </tr>\n",
       "    <tr>\n",
       "      <th>50%</th>\n",
       "      <td>2020.0</td>\n",
       "      <td>50.000000</td>\n",
       "      <td>2020.0</td>\n",
       "      <td>1.0</td>\n",
       "      <td>2526.000000</td>\n",
       "      <td>3.000000</td>\n",
       "      <td>1.0</td>\n",
       "      <td>7.476000e+03</td>\n",
       "      <td>0.406652</td>\n",
       "      <td>0.125111</td>\n",
       "      <td>0.337898</td>\n",
       "    </tr>\n",
       "    <tr>\n",
       "      <th>75%</th>\n",
       "      <td>2020.0</td>\n",
       "      <td>57.000000</td>\n",
       "      <td>2020.0</td>\n",
       "      <td>1.0</td>\n",
       "      <td>5300.000000</td>\n",
       "      <td>4.000000</td>\n",
       "      <td>1.0</td>\n",
       "      <td>1.494500e+04</td>\n",
       "      <td>0.509783</td>\n",
       "      <td>0.243022</td>\n",
       "      <td>0.490029</td>\n",
       "    </tr>\n",
       "    <tr>\n",
       "      <th>max</th>\n",
       "      <td>2020.0</td>\n",
       "      <td>95.000000</td>\n",
       "      <td>2020.0</td>\n",
       "      <td>1.0</td>\n",
       "      <td>784307.000000</td>\n",
       "      <td>16.000000</td>\n",
       "      <td>1.0</td>\n",
       "      <td>1.237764e+06</td>\n",
       "      <td>0.998069</td>\n",
       "      <td>0.996139</td>\n",
       "      <td>0.996139</td>\n",
       "    </tr>\n",
       "  </tbody>\n",
       "</table>\n",
       "</div>"
      ],
      "text/plain": [
       "           ano         idade    ano_1    turno          votos  n_candidatos  \\\n",
       "count  13585.0  13585.000000  13585.0  13585.0   13585.000000  13585.000000   \n",
       "mean    2020.0     49.763563   2020.0      1.0    5190.512256      3.454987   \n",
       "std        0.0     11.006271      0.0      0.0   14869.736310      1.639219   \n",
       "min     2020.0     21.000000   2020.0      1.0       2.000000      2.000000   \n",
       "25%     2020.0     42.000000   2020.0      1.0    1260.000000      2.000000   \n",
       "50%     2020.0     50.000000   2020.0      1.0    2526.000000      3.000000   \n",
       "75%     2020.0     57.000000   2020.0      1.0    5300.000000      4.000000   \n",
       "max     2020.0     95.000000   2020.0      1.0  784307.000000     16.000000   \n",
       "\n",
       "       decisao_primeiro_turno   total_votos        %votos  dif_votos_2_lugar  \\\n",
       "count                 13585.0  1.358500e+04  13585.000000       13585.000000   \n",
       "mean                      1.0  1.559556e+04      0.376330           0.178352   \n",
       "std                       0.0  3.855184e+04      0.192395           0.171953   \n",
       "min                       1.0  6.160000e+02      0.000252           0.000000   \n",
       "25%                       1.0  4.075000e+03      0.238779           0.056080   \n",
       "50%                       1.0  7.476000e+03      0.406652           0.125111   \n",
       "75%                       1.0  1.494500e+04      0.509783           0.243022   \n",
       "max                       1.0  1.237764e+06      0.998069           0.996139   \n",
       "\n",
       "       dif_votos_3_lugar  \n",
       "count       13585.000000  \n",
       "mean            0.332882  \n",
       "std             0.201757  \n",
       "min             0.000000  \n",
       "25%             0.156284  \n",
       "50%             0.337898  \n",
       "75%             0.490029  \n",
       "max             0.996139  "
      ]
     },
     "execution_count": 33,
     "metadata": {},
     "output_type": "execute_result"
    }
   ],
   "source": [
    "df_candidatos.describe()"
   ]
  },
  {
   "cell_type": "code",
   "execution_count": 34,
   "metadata": {},
   "outputs": [],
   "source": [
    "df_candidatos.loc[df_candidatos[\"n_candidatos\"] == 2, \"dif_votos_3_lugar\"] = None # Colocando Null na diferença entre 1 e 3 candidato nos municípios que só têm 2 candidatos"
   ]
  },
  {
   "cell_type": "code",
   "execution_count": 35,
   "metadata": {},
   "outputs": [
    {
     "data": {
      "text/html": [
       "<div>\n",
       "<style scoped>\n",
       "    .dataframe tbody tr th:only-of-type {\n",
       "        vertical-align: middle;\n",
       "    }\n",
       "\n",
       "    .dataframe tbody tr th {\n",
       "        vertical-align: top;\n",
       "    }\n",
       "\n",
       "    .dataframe thead th {\n",
       "        text-align: right;\n",
       "    }\n",
       "</style>\n",
       "<table border=\"1\" class=\"dataframe\">\n",
       "  <thead>\n",
       "    <tr style=\"text-align: right;\">\n",
       "      <th></th>\n",
       "      <th>ano</th>\n",
       "      <th>idade</th>\n",
       "      <th>ano_1</th>\n",
       "      <th>turno</th>\n",
       "      <th>votos</th>\n",
       "      <th>n_candidatos</th>\n",
       "      <th>decisao_primeiro_turno</th>\n",
       "      <th>total_votos</th>\n",
       "      <th>%votos</th>\n",
       "      <th>dif_votos_2_lugar</th>\n",
       "      <th>dif_votos_3_lugar</th>\n",
       "    </tr>\n",
       "  </thead>\n",
       "  <tbody>\n",
       "    <tr>\n",
       "      <th>count</th>\n",
       "      <td>13585.0</td>\n",
       "      <td>13585.000000</td>\n",
       "      <td>13585.0</td>\n",
       "      <td>13585.0</td>\n",
       "      <td>13585.000000</td>\n",
       "      <td>13585.000000</td>\n",
       "      <td>13585.0</td>\n",
       "      <td>1.358500e+04</td>\n",
       "      <td>13585.000000</td>\n",
       "      <td>13585.000000</td>\n",
       "      <td>9337.000000</td>\n",
       "    </tr>\n",
       "    <tr>\n",
       "      <th>mean</th>\n",
       "      <td>2020.0</td>\n",
       "      <td>49.763563</td>\n",
       "      <td>2020.0</td>\n",
       "      <td>1.0</td>\n",
       "      <td>5190.512256</td>\n",
       "      <td>3.454987</td>\n",
       "      <td>1.0</td>\n",
       "      <td>1.559556e+04</td>\n",
       "      <td>0.376330</td>\n",
       "      <td>0.178352</td>\n",
       "      <td>0.393450</td>\n",
       "    </tr>\n",
       "    <tr>\n",
       "      <th>std</th>\n",
       "      <td>0.0</td>\n",
       "      <td>11.006271</td>\n",
       "      <td>0.0</td>\n",
       "      <td>0.0</td>\n",
       "      <td>14869.736310</td>\n",
       "      <td>1.639219</td>\n",
       "      <td>0.0</td>\n",
       "      <td>3.855184e+04</td>\n",
       "      <td>0.192395</td>\n",
       "      <td>0.171953</td>\n",
       "      <td>0.174863</td>\n",
       "    </tr>\n",
       "    <tr>\n",
       "      <th>min</th>\n",
       "      <td>2020.0</td>\n",
       "      <td>21.000000</td>\n",
       "      <td>2020.0</td>\n",
       "      <td>1.0</td>\n",
       "      <td>2.000000</td>\n",
       "      <td>2.000000</td>\n",
       "      <td>1.0</td>\n",
       "      <td>6.160000e+02</td>\n",
       "      <td>0.000252</td>\n",
       "      <td>0.000000</td>\n",
       "      <td>0.007768</td>\n",
       "    </tr>\n",
       "    <tr>\n",
       "      <th>25%</th>\n",
       "      <td>2020.0</td>\n",
       "      <td>42.000000</td>\n",
       "      <td>2020.0</td>\n",
       "      <td>1.0</td>\n",
       "      <td>1260.000000</td>\n",
       "      <td>2.000000</td>\n",
       "      <td>1.0</td>\n",
       "      <td>4.075000e+03</td>\n",
       "      <td>0.238779</td>\n",
       "      <td>0.056080</td>\n",
       "      <td>0.259222</td>\n",
       "    </tr>\n",
       "    <tr>\n",
       "      <th>50%</th>\n",
       "      <td>2020.0</td>\n",
       "      <td>50.000000</td>\n",
       "      <td>2020.0</td>\n",
       "      <td>1.0</td>\n",
       "      <td>2526.000000</td>\n",
       "      <td>3.000000</td>\n",
       "      <td>1.0</td>\n",
       "      <td>7.476000e+03</td>\n",
       "      <td>0.406652</td>\n",
       "      <td>0.125111</td>\n",
       "      <td>0.416296</td>\n",
       "    </tr>\n",
       "    <tr>\n",
       "      <th>75%</th>\n",
       "      <td>2020.0</td>\n",
       "      <td>57.000000</td>\n",
       "      <td>2020.0</td>\n",
       "      <td>1.0</td>\n",
       "      <td>5300.000000</td>\n",
       "      <td>4.000000</td>\n",
       "      <td>1.0</td>\n",
       "      <td>1.494500e+04</td>\n",
       "      <td>0.509783</td>\n",
       "      <td>0.243022</td>\n",
       "      <td>0.516148</td>\n",
       "    </tr>\n",
       "    <tr>\n",
       "      <th>max</th>\n",
       "      <td>2020.0</td>\n",
       "      <td>95.000000</td>\n",
       "      <td>2020.0</td>\n",
       "      <td>1.0</td>\n",
       "      <td>784307.000000</td>\n",
       "      <td>16.000000</td>\n",
       "      <td>1.0</td>\n",
       "      <td>1.237764e+06</td>\n",
       "      <td>0.998069</td>\n",
       "      <td>0.996139</td>\n",
       "      <td>0.986481</td>\n",
       "    </tr>\n",
       "  </tbody>\n",
       "</table>\n",
       "</div>"
      ],
      "text/plain": [
       "           ano         idade    ano_1    turno          votos  n_candidatos  \\\n",
       "count  13585.0  13585.000000  13585.0  13585.0   13585.000000  13585.000000   \n",
       "mean    2020.0     49.763563   2020.0      1.0    5190.512256      3.454987   \n",
       "std        0.0     11.006271      0.0      0.0   14869.736310      1.639219   \n",
       "min     2020.0     21.000000   2020.0      1.0       2.000000      2.000000   \n",
       "25%     2020.0     42.000000   2020.0      1.0    1260.000000      2.000000   \n",
       "50%     2020.0     50.000000   2020.0      1.0    2526.000000      3.000000   \n",
       "75%     2020.0     57.000000   2020.0      1.0    5300.000000      4.000000   \n",
       "max     2020.0     95.000000   2020.0      1.0  784307.000000     16.000000   \n",
       "\n",
       "       decisao_primeiro_turno   total_votos        %votos  dif_votos_2_lugar  \\\n",
       "count                 13585.0  1.358500e+04  13585.000000       13585.000000   \n",
       "mean                      1.0  1.559556e+04      0.376330           0.178352   \n",
       "std                       0.0  3.855184e+04      0.192395           0.171953   \n",
       "min                       1.0  6.160000e+02      0.000252           0.000000   \n",
       "25%                       1.0  4.075000e+03      0.238779           0.056080   \n",
       "50%                       1.0  7.476000e+03      0.406652           0.125111   \n",
       "75%                       1.0  1.494500e+04      0.509783           0.243022   \n",
       "max                       1.0  1.237764e+06      0.998069           0.996139   \n",
       "\n",
       "       dif_votos_3_lugar  \n",
       "count        9337.000000  \n",
       "mean            0.393450  \n",
       "std             0.174863  \n",
       "min             0.007768  \n",
       "25%             0.259222  \n",
       "50%             0.416296  \n",
       "75%             0.516148  \n",
       "max             0.986481  "
      ]
     },
     "execution_count": 35,
     "metadata": {},
     "output_type": "execute_result"
    }
   ],
   "source": [
    "df_candidatos.describe()"
   ]
  },
  {
   "cell_type": "markdown",
   "metadata": {},
   "source": [
    "# Salvando"
   ]
  },
  {
   "cell_type": "code",
   "execution_count": 36,
   "metadata": {},
   "outputs": [
    {
     "name": "stdout",
     "output_type": "stream",
     "text": [
      "<class 'pandas.core.frame.DataFrame'>\n",
      "Int64Index: 13585 entries, 0 to 13584\n",
      "Data columns (total 50 columns):\n",
      " #   Column                  Non-Null Count  Dtype         \n",
      "---  ------                  --------------  -----         \n",
      " 0   ano                     13585 non-null  int64         \n",
      " 1   tipo_eleicao            13585 non-null  object        \n",
      " 2   sigla_uf                13585 non-null  object        \n",
      " 3   id_municipio            13585 non-null  object        \n",
      " 4   id_municipio_tse        13585 non-null  object        \n",
      " 5   id_candidato_bd         13585 non-null  object        \n",
      " 6   cpf                     13585 non-null  object        \n",
      " 7   titulo_eleitoral        13585 non-null  object        \n",
      " 8   sequencial              13585 non-null  object        \n",
      " 9   numero                  13585 non-null  object        \n",
      " 10  nome                    13585 non-null  object        \n",
      " 11  nome_urna               13585 non-null  object        \n",
      " 12  numero_partido          13585 non-null  object        \n",
      " 13  sigla_partido           13585 non-null  object        \n",
      " 14  cargo                   13585 non-null  object        \n",
      " 15  situacao                13585 non-null  object        \n",
      " 16  ocupacao                13585 non-null  object        \n",
      " 17  data_nascimento         13585 non-null  datetime64[ns]\n",
      " 18  idade                   13585 non-null  int64         \n",
      " 19  genero                  13585 non-null  object        \n",
      " 20  instrucao               13585 non-null  object        \n",
      " 21  estado_civil            13585 non-null  object        \n",
      " 22  nacionalidade           13585 non-null  object        \n",
      " 23  sigla_uf_nascimento     13585 non-null  object        \n",
      " 24  municipio_nascimento    13585 non-null  object        \n",
      " 25  email                   13585 non-null  object        \n",
      " 26  raca                    13517 non-null  object        \n",
      " 27  ano_1                   13585 non-null  int64         \n",
      " 28  turno                   13585 non-null  int64         \n",
      " 29  tipo_eleicao_1          13585 non-null  object        \n",
      " 30  sigla_uf_1              13585 non-null  object        \n",
      " 31  id_municipio_1          13585 non-null  object        \n",
      " 32  id_municipio_tse_1      13585 non-null  object        \n",
      " 33  cargo_1                 13585 non-null  object        \n",
      " 34  numero_partido_1        13585 non-null  object        \n",
      " 35  sigla_partido_1         13585 non-null  object        \n",
      " 36  numero_candidato        13585 non-null  object        \n",
      " 37  sequencial_candidato    13585 non-null  object        \n",
      " 38  id_candidato_bd_1       13585 non-null  object        \n",
      " 39  resultado               13585 non-null  object        \n",
      " 40  votos                   13585 non-null  int64         \n",
      " 41  n_candidatos            13585 non-null  int64         \n",
      " 42  decisao_primeiro_turno  13585 non-null  int64         \n",
      " 43  total_votos             13585 non-null  int64         \n",
      " 44  %votos                  13585 non-null  float64       \n",
      " 45  2_lugar                 13585 non-null  bool          \n",
      " 46  3_lugar                 13585 non-null  bool          \n",
      " 47  dif_votos_2_lugar       13585 non-null  float64       \n",
      " 48  dif_votos_3_lugar       9337 non-null   float64       \n",
      " 49  _merge                  13585 non-null  category      \n",
      "dtypes: bool(2), category(1), datetime64[ns](1), float64(3), int64(8), object(35)\n",
      "memory usage: 5.0+ MB\n"
     ]
    }
   ],
   "source": [
    "df_candidatos.info()"
   ]
  },
  {
   "cell_type": "code",
   "execution_count": 37,
   "metadata": {},
   "outputs": [],
   "source": [
    "df_candidatos = df_candidatos.loc[:,[\"ano\",\"tipo_eleicao\", \"sigla_uf\",\"id_municipio\",\"cpf\",\"nome\",\"nome_urna\",\"numero_partido\",\"sigla_partido\",\"cargo\",\"situacao\",\"ocupacao\",\"idade\",\"genero\",\"instrucao\",\"raca\",\"resultado\",\"2_lugar\",\"3_lugar\",\"dif_votos_2_lugar\",\"dif_votos_3_lugar\"]]"
   ]
  },
  {
   "cell_type": "code",
   "execution_count": 38,
   "metadata": {},
   "outputs": [],
   "source": [
    "df_candidatos.to_csv(output_dir + \"data/df_candidatos_2020_clean.csv\", sep = \";\", index = False, encoding = \"utf-8-sig\")"
   ]
  },
  {
   "cell_type": "code",
   "execution_count": 39,
   "metadata": {},
   "outputs": [],
   "source": [
    "cpfs_rdd = tuple(df_candidatos.cpf.unique())"
   ]
  },
  {
   "cell_type": "code",
   "execution_count": 40,
   "metadata": {},
   "outputs": [
    {
     "data": {
      "text/plain": [
       "13585"
      ]
     },
     "execution_count": 40,
     "metadata": {},
     "output_type": "execute_result"
    }
   ],
   "source": [
    "len(cpfs_rdd)"
   ]
  },
  {
   "cell_type": "code",
   "execution_count": null,
   "metadata": {},
   "outputs": [],
   "source": []
  }
 ],
 "metadata": {
  "kernelspec": {
   "display_name": "Python 3 (ipykernel)",
   "language": "python",
   "name": "python3"
  },
  "language_info": {
   "codemirror_mode": {
    "name": "ipython",
    "version": 3
   },
   "file_extension": ".py",
   "mimetype": "text/x-python",
   "name": "python",
   "nbconvert_exporter": "python",
   "pygments_lexer": "ipython3",
   "version": "3.9.12"
  }
 },
 "nbformat": 4,
 "nbformat_minor": 4
}
